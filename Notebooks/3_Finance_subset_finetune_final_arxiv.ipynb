{
 "cells": [
  {
   "cell_type": "code",
   "execution_count": 32,
   "metadata": {
    "executionInfo": {
     "elapsed": 483,
     "status": "ok",
     "timestamp": 1722876591488,
     "user": {
      "displayName": "Bibek Shiwakoti",
      "userId": "12870124355518867121"
     },
     "user_tz": 240
    },
    "id": "5gTsb2Jl56qg"
   },
   "outputs": [],
   "source": []
  },
  {
   "cell_type": "markdown",
   "metadata": {
    "id": "5nctFy4Urnpf"
   },
   "source": [
    "#1. Installing required libraries"
   ]
  },
  {
   "cell_type": "code",
   "execution_count": 33,
   "metadata": {
    "executionInfo": {
     "elapsed": 6575,
     "status": "ok",
     "timestamp": 1722876598625,
     "user": {
      "displayName": "Bibek Shiwakoti",
      "userId": "12870124355518867121"
     },
     "user_tz": 240
    },
    "id": "2oq_XjcMocYF"
   },
   "outputs": [],
   "source": [
    "!pip install -q openai gradio pypdf tiktoken langchain"
   ]
  },
  {
   "cell_type": "code",
   "execution_count": 34,
   "metadata": {
    "colab": {
     "base_uri": "https://localhost:8080/"
    },
    "executionInfo": {
     "elapsed": 7008,
     "status": "ok",
     "timestamp": 1722876605625,
     "user": {
      "displayName": "Bibek Shiwakoti",
      "userId": "12870124355518867121"
     },
     "user_tz": 240
    },
    "id": "Rym9w7XPu41x",
    "outputId": "bb99eb57-a1c3-4f25-acae-6bbf00f8d4ea"
   },
   "outputs": [
    {
     "name": "stdout",
     "output_type": "stream",
     "text": [
      "Requirement already satisfied: langchain_community in /usr/local/lib/python3.10/dist-packages (0.2.11)\n",
      "Requirement already satisfied: PyYAML>=5.3 in /usr/local/lib/python3.10/dist-packages (from langchain_community) (6.0.1)\n",
      "Requirement already satisfied: SQLAlchemy<3,>=1.4 in /usr/local/lib/python3.10/dist-packages (from langchain_community) (2.0.31)\n",
      "Requirement already satisfied: aiohttp<4.0.0,>=3.8.3 in /usr/local/lib/python3.10/dist-packages (from langchain_community) (3.9.5)\n",
      "Requirement already satisfied: dataclasses-json<0.7,>=0.5.7 in /usr/local/lib/python3.10/dist-packages (from langchain_community) (0.6.7)\n",
      "Requirement already satisfied: langchain<0.3.0,>=0.2.12 in /usr/local/lib/python3.10/dist-packages (from langchain_community) (0.2.12)\n",
      "Requirement already satisfied: langchain-core<0.3.0,>=0.2.27 in /usr/local/lib/python3.10/dist-packages (from langchain_community) (0.2.28)\n",
      "Requirement already satisfied: langsmith<0.2.0,>=0.1.0 in /usr/local/lib/python3.10/dist-packages (from langchain_community) (0.1.96)\n",
      "Requirement already satisfied: numpy<2,>=1 in /usr/local/lib/python3.10/dist-packages (from langchain_community) (1.26.4)\n",
      "Requirement already satisfied: requests<3,>=2 in /usr/local/lib/python3.10/dist-packages (from langchain_community) (2.32.3)\n",
      "Requirement already satisfied: tenacity!=8.4.0,<9.0.0,>=8.1.0 in /usr/local/lib/python3.10/dist-packages (from langchain_community) (8.5.0)\n",
      "Requirement already satisfied: aiosignal>=1.1.2 in /usr/local/lib/python3.10/dist-packages (from aiohttp<4.0.0,>=3.8.3->langchain_community) (1.3.1)\n",
      "Requirement already satisfied: attrs>=17.3.0 in /usr/local/lib/python3.10/dist-packages (from aiohttp<4.0.0,>=3.8.3->langchain_community) (23.2.0)\n",
      "Requirement already satisfied: frozenlist>=1.1.1 in /usr/local/lib/python3.10/dist-packages (from aiohttp<4.0.0,>=3.8.3->langchain_community) (1.4.1)\n",
      "Requirement already satisfied: multidict<7.0,>=4.5 in /usr/local/lib/python3.10/dist-packages (from aiohttp<4.0.0,>=3.8.3->langchain_community) (6.0.5)\n",
      "Requirement already satisfied: yarl<2.0,>=1.0 in /usr/local/lib/python3.10/dist-packages (from aiohttp<4.0.0,>=3.8.3->langchain_community) (1.9.4)\n",
      "Requirement already satisfied: async-timeout<5.0,>=4.0 in /usr/local/lib/python3.10/dist-packages (from aiohttp<4.0.0,>=3.8.3->langchain_community) (4.0.3)\n",
      "Requirement already satisfied: marshmallow<4.0.0,>=3.18.0 in /usr/local/lib/python3.10/dist-packages (from dataclasses-json<0.7,>=0.5.7->langchain_community) (3.21.3)\n",
      "Requirement already satisfied: typing-inspect<1,>=0.4.0 in /usr/local/lib/python3.10/dist-packages (from dataclasses-json<0.7,>=0.5.7->langchain_community) (0.9.0)\n",
      "Requirement already satisfied: langchain-text-splitters<0.3.0,>=0.2.0 in /usr/local/lib/python3.10/dist-packages (from langchain<0.3.0,>=0.2.12->langchain_community) (0.2.2)\n",
      "Requirement already satisfied: pydantic<3,>=1 in /usr/local/lib/python3.10/dist-packages (from langchain<0.3.0,>=0.2.12->langchain_community) (2.8.2)\n",
      "Requirement already satisfied: jsonpatch<2.0,>=1.33 in /usr/local/lib/python3.10/dist-packages (from langchain-core<0.3.0,>=0.2.27->langchain_community) (1.33)\n",
      "Requirement already satisfied: packaging<25,>=23.2 in /usr/local/lib/python3.10/dist-packages (from langchain-core<0.3.0,>=0.2.27->langchain_community) (24.1)\n",
      "Requirement already satisfied: typing-extensions>=4.7 in /usr/local/lib/python3.10/dist-packages (from langchain-core<0.3.0,>=0.2.27->langchain_community) (4.12.2)\n",
      "Requirement already satisfied: orjson<4.0.0,>=3.9.14 in /usr/local/lib/python3.10/dist-packages (from langsmith<0.2.0,>=0.1.0->langchain_community) (3.10.6)\n",
      "Requirement already satisfied: charset-normalizer<4,>=2 in /usr/local/lib/python3.10/dist-packages (from requests<3,>=2->langchain_community) (3.3.2)\n",
      "Requirement already satisfied: idna<4,>=2.5 in /usr/local/lib/python3.10/dist-packages (from requests<3,>=2->langchain_community) (3.7)\n",
      "Requirement already satisfied: urllib3<3,>=1.21.1 in /usr/local/lib/python3.10/dist-packages (from requests<3,>=2->langchain_community) (2.0.7)\n",
      "Requirement already satisfied: certifi>=2017.4.17 in /usr/local/lib/python3.10/dist-packages (from requests<3,>=2->langchain_community) (2024.7.4)\n",
      "Requirement already satisfied: greenlet!=0.4.17 in /usr/local/lib/python3.10/dist-packages (from SQLAlchemy<3,>=1.4->langchain_community) (3.0.3)\n",
      "Requirement already satisfied: jsonpointer>=1.9 in /usr/local/lib/python3.10/dist-packages (from jsonpatch<2.0,>=1.33->langchain-core<0.3.0,>=0.2.27->langchain_community) (3.0.0)\n",
      "Requirement already satisfied: annotated-types>=0.4.0 in /usr/local/lib/python3.10/dist-packages (from pydantic<3,>=1->langchain<0.3.0,>=0.2.12->langchain_community) (0.7.0)\n",
      "Requirement already satisfied: pydantic-core==2.20.1 in /usr/local/lib/python3.10/dist-packages (from pydantic<3,>=1->langchain<0.3.0,>=0.2.12->langchain_community) (2.20.1)\n",
      "Requirement already satisfied: mypy-extensions>=0.3.0 in /usr/local/lib/python3.10/dist-packages (from typing-inspect<1,>=0.4.0->dataclasses-json<0.7,>=0.5.7->langchain_community) (1.0.0)\n"
     ]
    }
   ],
   "source": [
    "!pip install langchain_community"
   ]
  },
  {
   "cell_type": "code",
   "execution_count": 35,
   "metadata": {
    "colab": {
     "base_uri": "https://localhost:8080/"
    },
    "executionInfo": {
     "elapsed": 4498,
     "status": "ok",
     "timestamp": 1722876610094,
     "user": {
      "displayName": "Bibek Shiwakoti",
      "userId": "12870124355518867121"
     },
     "user_tz": 240
    },
    "id": "63JtHWH-m_Vg",
    "outputId": "210f9afe-1919-4fb8-b5f5-98fab7ddbbd0"
   },
   "outputs": [
    {
     "name": "stdout",
     "output_type": "stream",
     "text": [
      "Requirement already satisfied: datasets in /usr/local/lib/python3.10/dist-packages (2.20.0)\n",
      "Requirement already satisfied: filelock in /usr/local/lib/python3.10/dist-packages (from datasets) (3.15.4)\n",
      "Requirement already satisfied: numpy>=1.17 in /usr/local/lib/python3.10/dist-packages (from datasets) (1.26.4)\n",
      "Requirement already satisfied: pyarrow>=15.0.0 in /usr/local/lib/python3.10/dist-packages (from datasets) (17.0.0)\n",
      "Requirement already satisfied: pyarrow-hotfix in /usr/local/lib/python3.10/dist-packages (from datasets) (0.6)\n",
      "Requirement already satisfied: dill<0.3.9,>=0.3.0 in /usr/local/lib/python3.10/dist-packages (from datasets) (0.3.8)\n",
      "Requirement already satisfied: pandas in /usr/local/lib/python3.10/dist-packages (from datasets) (2.1.4)\n",
      "Requirement already satisfied: requests>=2.32.2 in /usr/local/lib/python3.10/dist-packages (from datasets) (2.32.3)\n",
      "Requirement already satisfied: tqdm>=4.66.3 in /usr/local/lib/python3.10/dist-packages (from datasets) (4.66.4)\n",
      "Requirement already satisfied: xxhash in /usr/local/lib/python3.10/dist-packages (from datasets) (3.4.1)\n",
      "Requirement already satisfied: multiprocess in /usr/local/lib/python3.10/dist-packages (from datasets) (0.70.16)\n",
      "Requirement already satisfied: fsspec<=2024.5.0,>=2023.1.0 in /usr/local/lib/python3.10/dist-packages (from fsspec[http]<=2024.5.0,>=2023.1.0->datasets) (2024.5.0)\n",
      "Requirement already satisfied: aiohttp in /usr/local/lib/python3.10/dist-packages (from datasets) (3.9.5)\n",
      "Requirement already satisfied: huggingface-hub>=0.21.2 in /usr/local/lib/python3.10/dist-packages (from datasets) (0.23.5)\n",
      "Requirement already satisfied: packaging in /usr/local/lib/python3.10/dist-packages (from datasets) (24.1)\n",
      "Requirement already satisfied: pyyaml>=5.1 in /usr/local/lib/python3.10/dist-packages (from datasets) (6.0.1)\n",
      "Requirement already satisfied: aiosignal>=1.1.2 in /usr/local/lib/python3.10/dist-packages (from aiohttp->datasets) (1.3.1)\n",
      "Requirement already satisfied: attrs>=17.3.0 in /usr/local/lib/python3.10/dist-packages (from aiohttp->datasets) (23.2.0)\n",
      "Requirement already satisfied: frozenlist>=1.1.1 in /usr/local/lib/python3.10/dist-packages (from aiohttp->datasets) (1.4.1)\n",
      "Requirement already satisfied: multidict<7.0,>=4.5 in /usr/local/lib/python3.10/dist-packages (from aiohttp->datasets) (6.0.5)\n",
      "Requirement already satisfied: yarl<2.0,>=1.0 in /usr/local/lib/python3.10/dist-packages (from aiohttp->datasets) (1.9.4)\n",
      "Requirement already satisfied: async-timeout<5.0,>=4.0 in /usr/local/lib/python3.10/dist-packages (from aiohttp->datasets) (4.0.3)\n",
      "Requirement already satisfied: typing-extensions>=3.7.4.3 in /usr/local/lib/python3.10/dist-packages (from huggingface-hub>=0.21.2->datasets) (4.12.2)\n",
      "Requirement already satisfied: charset-normalizer<4,>=2 in /usr/local/lib/python3.10/dist-packages (from requests>=2.32.2->datasets) (3.3.2)\n",
      "Requirement already satisfied: idna<4,>=2.5 in /usr/local/lib/python3.10/dist-packages (from requests>=2.32.2->datasets) (3.7)\n",
      "Requirement already satisfied: urllib3<3,>=1.21.1 in /usr/local/lib/python3.10/dist-packages (from requests>=2.32.2->datasets) (2.0.7)\n",
      "Requirement already satisfied: certifi>=2017.4.17 in /usr/local/lib/python3.10/dist-packages (from requests>=2.32.2->datasets) (2024.7.4)\n",
      "Requirement already satisfied: python-dateutil>=2.8.2 in /usr/local/lib/python3.10/dist-packages (from pandas->datasets) (2.8.2)\n",
      "Requirement already satisfied: pytz>=2020.1 in /usr/local/lib/python3.10/dist-packages (from pandas->datasets) (2024.1)\n",
      "Requirement already satisfied: tzdata>=2022.1 in /usr/local/lib/python3.10/dist-packages (from pandas->datasets) (2024.1)\n",
      "Requirement already satisfied: six>=1.5 in /usr/local/lib/python3.10/dist-packages (from python-dateutil>=2.8.2->pandas->datasets) (1.16.0)\n"
     ]
    }
   ],
   "source": [
    "pip install datasets"
   ]
  },
  {
   "cell_type": "code",
   "execution_count": 36,
   "metadata": {
    "colab": {
     "base_uri": "https://localhost:8080/"
    },
    "executionInfo": {
     "elapsed": 4622,
     "status": "ok",
     "timestamp": 1722876614706,
     "user": {
      "displayName": "Bibek Shiwakoti",
      "userId": "12870124355518867121"
     },
     "user_tz": 240
    },
    "id": "6T7p0JFlsYf7",
    "outputId": "dedb5ce9-6bac-4fbf-cdf1-d1dc7f31bd09"
   },
   "outputs": [
    {
     "name": "stdout",
     "output_type": "stream",
     "text": [
      "Requirement already satisfied: rouge_score in /usr/local/lib/python3.10/dist-packages (0.1.2)\n",
      "Requirement already satisfied: absl-py in /usr/local/lib/python3.10/dist-packages (from rouge_score) (1.4.0)\n",
      "Requirement already satisfied: nltk in /usr/local/lib/python3.10/dist-packages (from rouge_score) (3.8.1)\n",
      "Requirement already satisfied: numpy in /usr/local/lib/python3.10/dist-packages (from rouge_score) (1.26.4)\n",
      "Requirement already satisfied: six>=1.14.0 in /usr/local/lib/python3.10/dist-packages (from rouge_score) (1.16.0)\n",
      "Requirement already satisfied: click in /usr/local/lib/python3.10/dist-packages (from nltk->rouge_score) (8.1.7)\n",
      "Requirement already satisfied: joblib in /usr/local/lib/python3.10/dist-packages (from nltk->rouge_score) (1.4.2)\n",
      "Requirement already satisfied: regex>=2021.8.3 in /usr/local/lib/python3.10/dist-packages (from nltk->rouge_score) (2024.5.15)\n",
      "Requirement already satisfied: tqdm in /usr/local/lib/python3.10/dist-packages (from nltk->rouge_score) (4.66.4)\n"
     ]
    }
   ],
   "source": [
    "!pip install rouge_score\n"
   ]
  },
  {
   "cell_type": "markdown",
   "metadata": {
    "id": "AojV_38csRIb"
   },
   "source": [
    "#2. Importing the necessary libraries"
   ]
  },
  {
   "cell_type": "code",
   "execution_count": 37,
   "metadata": {
    "executionInfo": {
     "elapsed": 8,
     "status": "ok",
     "timestamp": 1722876614707,
     "user": {
      "displayName": "Bibek Shiwakoti",
      "userId": "12870124355518867121"
     },
     "user_tz": 240
    },
    "id": "BKcj1FjYr46G"
   },
   "outputs": [],
   "source": [
    "import os\n",
    "import tiktoken\n",
    "import gradio as gr\n",
    "from langchain import OpenAI , PromptTemplate\n",
    "from langchain.chains.summarize import load_summarize_chain\n",
    "from langchain.document_loaders import PyPDFLoader\n",
    "from langchain.text_splitter import RecursiveCharacterTextSplitter\n",
    "from transformers import AutoTokenizer, AutoModelForSeq2SeqLM\n",
    "from transformers import pipeline\n",
    "from langchain import LLMChain, HuggingFaceHub"
   ]
  },
  {
   "cell_type": "markdown",
   "metadata": {
    "id": "Jn1BTD1YvK67"
   },
   "source": [
    "# 3. Setup the environment"
   ]
  },
  {
   "cell_type": "markdown",
   "metadata": {
    "id": "DwjCl6V_vdKl"
   },
   "source": [
    "#4. Count the number of tokens in string"
   ]
  },
  {
   "cell_type": "code",
   "execution_count": 38,
   "metadata": {
    "executionInfo": {
     "elapsed": 6,
     "status": "ok",
     "timestamp": 1722876614707,
     "user": {
      "displayName": "Bibek Shiwakoti",
      "userId": "12870124355518867121"
     },
     "user_tz": 240
    },
    "id": "l0kDmIOzwn93"
   },
   "outputs": [],
   "source": [
    "# function to return the number of tokens in the string\n",
    "def num_tokens_from_string(string:str ,encoding_name:str) -> int :\n",
    "  encoding = tiktoken.get_encoding(encoding_name)\n",
    "  num_tokens = len(encoding.encode(string))\n",
    "  return num_tokens"
   ]
  },
  {
   "cell_type": "code",
   "execution_count": 39,
   "metadata": {
    "colab": {
     "base_uri": "https://localhost:8080/"
    },
    "executionInfo": {
     "elapsed": 6,
     "status": "ok",
     "timestamp": 1722876614707,
     "user": {
      "displayName": "Bibek Shiwakoti",
      "userId": "12870124355518867121"
     },
     "user_tz": 240
    },
    "id": "WnorxhkGxeLZ",
    "outputId": "42017277-e437-4014-ed97-f9a2c0897442"
   },
   "outputs": [
    {
     "data": {
      "text/plain": [
       "8"
      ]
     },
     "execution_count": 39,
     "metadata": {},
     "output_type": "execute_result"
    }
   ],
   "source": [
    "num_tokens_from_string('This is a summarization project first prototype','cl100k_base')"
   ]
  },
  {
   "cell_type": "markdown",
   "metadata": {
    "id": "YmbfKE2cxsHX"
   },
   "source": [
    "# 5. Download a pdf file"
   ]
  },
  {
   "cell_type": "markdown",
   "metadata": {
    "id": "4uUbYxRAzP7i"
   },
   "source": [
    "# 6. Load, Read and Extract the PDF"
   ]
  },
  {
   "cell_type": "code",
   "execution_count": 40,
   "metadata": {
    "executionInfo": {
     "elapsed": 5,
     "status": "ok",
     "timestamp": 1722876614707,
     "user": {
      "displayName": "Bibek Shiwakoti",
      "userId": "12870124355518867121"
     },
     "user_tz": 240
    },
    "id": "feaBzFJP0Yzj"
   },
   "outputs": [],
   "source": [
    "\n",
    "loader = PyPDFLoader('/content/CorporateFinance-IJMSBR.pdf')"
   ]
  },
  {
   "cell_type": "code",
   "execution_count": 41,
   "metadata": {
    "executionInfo": {
     "elapsed": 5414,
     "status": "ok",
     "timestamp": 1722876620117,
     "user": {
      "displayName": "Bibek Shiwakoti",
      "userId": "12870124355518867121"
     },
     "user_tz": 240
    },
    "id": "g69bHSpl1feD"
   },
   "outputs": [],
   "source": [
    "docs = loader.load()"
   ]
  },
  {
   "cell_type": "code",
   "execution_count": 42,
   "metadata": {
    "colab": {
     "base_uri": "https://localhost:8080/"
    },
    "executionInfo": {
     "elapsed": 35,
     "status": "ok",
     "timestamp": 1722876620117,
     "user": {
      "displayName": "Bibek Shiwakoti",
      "userId": "12870124355518867121"
     },
     "user_tz": 240
    },
    "id": "h5Pqi3F31i9H",
    "outputId": "4bb3eb73-8f58-41a5-b0be-7cd6cf957c9c"
   },
   "outputs": [
    {
     "data": {
      "text/plain": [
       "[Document(metadata={'source': '/content/CorporateFinance-IJMSBR.pdf', 'page': 0}, page_content='See discussions, st ats, and author pr ofiles f or this public ation at : https://www .researchgate.ne t/public ation/281557147\\nUnderstanding Corporate Finance: Experiences of Emerging Economies and\\nCase of a High-Income Small Developing Cou ntry\\nArticle  · July 2015\\nCITATIONS\\n0READS\\n7,262\\n1 author:\\nHav en Allahar\\nUniv ersity of the West Indies, St . Augustine\\n40 PUBLICA TIONS \\xa0\\xa0\\xa0230 CITATIONS \\xa0\\xa0\\xa0\\nSEE PROFILE\\nAll c ontent f ollo wing this p age was uplo aded b y Hav en Allahar  on 07 Sept ember 2015.\\nThe user has r equest ed enhanc ement of the do wnlo aded file.'),\n",
       " Document(metadata={'source': '/content/CorporateFinance-IJMSBR.pdf', 'page': 1}, page_content='International Journal of Management Sciences and Business Research, July -2015 ISSN (2226 -8235) Vol -4, Issue 7  \\nhttp://www.ijmsbr.com   Page 34 Understanding  Corporate  Finance : Experience of  Emerging Economies and Case of a High -Income \\nSmall Developing Country . \\n \\nAuthor Details:  \\nHaven Allahar - \\nArthur Lok Jack Graduate School of Business,  University of the West Indies, Trinidad and Tobago.  \\n \\nAbstract  \\n \\nThe purpose of this paper is to provide an overview of the theories, concepts and issues involved in the area of corporate finance \\nand the implications for emerging economies. A secondary research appr oach was adopted based on a review of published texts, \\njournals, and technical reports.  The results  of the study demonstrate that based on the indicators of capital market development, \\nthe high -income developing country of Trinidad and Tobago used as a case study, lags behind in critical areas of development o f \\nits capital market and, along with related developing countries, can benefit fro m the fundamental principles involved in the \\npractice of corporate finance. The practical implications of the study are the potential use by students in tertiary level instit utions \\nengaged in MBA or financial management studies, participants pursuing professional qualifications  in accounting and finance, \\nemployees in financial institutions, and general stakeholders seeking to invest funds . The value of this paper is that it ex plores and \\npresents data on an area of stu dy which is considered esoteric  and largely ignored in the formal literature on small developing \\nstates, particularly the island -states of the Caribbean. Its value further lies in its contribution to the understand ing of the field of \\ncorporate finance and related issues and identification of  implications for developing  economies. The research is limited to the \\nextent that only secondary data sources were explored and insights from practitioners through interviews were not obtained thus \\npointing to scope for  future research.  \\n \\nKeywords : Corporate finance, developing countries , emerging economies, financial investments.  \\n \\nIntroduction  \\n \\nCorporate finance (CF) differs from managerial finance with \\nthe latter applying  to th e financial management of all firms \\nas opposed to corporations , and CF was defined as “the area \\nof finance dealing with the corporate restructurings of \\npublicly traded companies and the actions that managers of \\nthese companies take to increase the firm‟s v alue, as well as \\nthe tools and analysis used to allocate financial resources ” \\n[1]. Thus, CF covers a broad range of transactions including: \\nraising seed, start -up, development, or expansion capital; \\nmergers and acquisitions; takeovers of public companies; \\nmanagement buy -outs; flotation of companies on a stock \\nexchange to raise capital or restructure ownership; raising \\ncapital through equity, debt, or other securities; raising \\ncapital through private equity, venture capital or real estate \\nfunds; and financin g joint -ventures, supplying project \\nfinance, providing infrastructure finance, public -private \\npartnerships, and pri vatization initiatives [2]. In a more \\ngeneral sense, Nguyen and Schüßler [3] described CF as the \\n“interaction between managers and investors and its impacts \\non fir m value” [3]. \\n \\nThe impetus for this study arises from the vital need for \\ngrasping the key concepts of corporate finance by  \\nprofessionals, political decision makers, university students \\nand other students at the tertiary level involved  in studies \\nrelated to CF, and general stakeholders  in the society who \\ninvest their funds expecting adequate returns for their future \\nactivities. CF is not as widely researched as the common \\nareas of business management such as human resources, \\nstrategy, a nd marketing; but is viewed as a field better left to \\nspecialist in finance. In particular, determining the capital \\nstructure of firms is acknowledged as one of the most \\ncontentious subjects in the theory of corporate finance, so \\nthat there is little conse nsus on exactly what drives the \\ncapital structure decision. Ehrhardt and Brigham [4] indicated that the theoretical work on capital structure of \\nfirms began 50 years ago with the work by Modigliani and \\nMiller (MM) which introduced the concept of market \\narbitrage claiming that the market value of a firm is \\nindependent of its capital structure. However, this theory \\nwas developed by excluding several cost items: brokerage; \\ntaxes; bankruptcy; transaction costs while also assuming that \\nall investors have the sam e information as management, and \\nearnings before interest and tax (EBIT) was not affected by \\ndebt [4]. \\n \\nThe subsequent literature on capital structures was discussed \\nby many researchers who recognized five main theories \\nwhich relaxed the MM assumptions and  comprised: static \\ntrade -off; information asymmetry; pecking order; agency \\ncost; and life stage theory. The static trade -off theory of \\ncapital structure predicts that firms should have less debt in \\nthe early and late life stages, and the most debt in the p rime \\nstage when bankruptcy cost are lowest and the tax shield \\nbenefits highest. Information asymmetry theory assumes \\nthat, managers of firms who are in possession of all the \\ninformation about a firm will share this information by their \\nchoice of capital st ructure which, in turn, will signal the \\nintentions of the management (Frielinghaus, Mostert, and \\nFirer, 2005; Tudose 2012; Amo -Yartey  and Abor , 2013).  \\nPecking order theory argues that firms have a hierarchy of \\npreferred financing which ranges from internal  equity to \\ndebt financing, then moves to external equity as a worst \\ncase. Agency cost theory suggests that firms should assume \\nprogressively more debt as they grow and argues that, firms \\nwith free cash flow as well as declining firms, have higher \\nagency co sts and should therefore attract higher debt levels. \\nCapital structure life stage theory argues that debt ratios \\nshould increase as the firm progresses through the early life \\nstages, however, the research on this is sparse, but like static \\ntrade -off theory , argues that debt ratios should follow a low -\\nhigh-low pattern over a firm‟s life [5, 6, 7] . '),\n",
       " Document(metadata={'source': '/content/CorporateFinance-IJMSBR.pdf', 'page': 2}, page_content='International Journal of Management Sciences and Business Research, July -2015 ISSN (2226 -8235) Vol -4, Issue 7  \\nhttp://www.ijmsbr.com   Page 35 At the operational level, it was  indicated that firms issue \\nequity much less frequently than debt which supports the \\npecking order hypothesis and the signalling  theory [4]. The \\npecking order hypothesis suggests that firms with a high \\nlevel of information asymmetry should issue debt before \\nequity which is more expensive. However, high growth \\nfirms which usually have greater informational asymmetry, \\nand could afford t o issue debt, often choose to issue equity. \\nThe hypothesis that investment opportunities influence \\nattempts to maintain reserve borrowing capacity and tax \\nconsiderations is supported by the evidence that many firms \\nhave less debt than might be expected, an d many have large \\namounts of short -term investments [4]. Erhardt and Brigham  \\n[4] concluded that “it appears that firms try to capture debt‟s \\ntax benefits while avoiding financial distress costs. \\nHowever, they also allow their debt ratios to deviate from \\nthe static optimal target ratio implied by trade -off theory” \\nwhile t here was some evidence that firms follow a pecking \\norder and use the issue of security as signals, but there was \\nconsiderable evidence in support of the window s of \\nopportunity theory [4]. \\n \\nThe argument in this paper is that, based on recent global \\nexperience of failures of large and small firms, the general \\npopulation in developed and developing countries must \\nacquire a basic understanding of CF and particularly the \\nrisks involved. Further, s tudents in the field have to translate \\ngreater understanding of the field to the promotion of \\n„behavioural corporate finance‟ as relevant to developing \\ncountries which are more vulnerable to downside risks. In \\nrespect of the theory of CF, Tudose [6] argued  that there was \\nno single, universally valid theory of CF but certain theories \\nexerted significant influence on the research of the field \\nwhich evolved from considerations of: benefit -cost analysis \\nwhich looks at balancing bankruptcy costs with tax shields  \\nfrom debt; the question of agency costs; information \\nasymmetries between managers and shareholders; CF \\nstructure based on industrial strategy and corporate \\norganization; and trade -off and pecking order theories [6]. \\nThis study is significant for policy ma king because of the \\nrecent experience, both in advanced countries and \\ndeveloping states, of having to bail out large companies , \\nincluding major financial institutions , with many citizens \\nlosing their savings.  The paper highlights the concepts \\ncritical to a nd more relevant to the understanding of CF in \\ndeveloping countries with special focus on: external \\nfunding; investments and risks; identification and \\napplication of financial ratios; the use of value -added \\nstatements (VAS); and with specific attention to  the case of \\na high -income developing country.  \\n \\nI. Research Approach and Methodology  \\n \\nThe research on CF  presented in this paper is aimed at \\nacquiring a deeper understanding of the key concepts \\ninvolved in the field and assessing the application of key \\nconcept s in developing countries and the case of TT . The \\nmethodology adopted was a qualitative research approach \\nwhich was limited to: collection and distillation of relevant \\nliterature on CF from leading business texts, relevant \\njournals obtained from the ABI/In form database; internet \\nkeyword searches; and assessment of the practice of CF in the context of the small high-income island state of TT  as a \\ncase study . The research process, consistent with \\nacknowledged qualitative p rocedures, was outlined by \\nCreswell [8] as involving: the researcher as the key \\ninstrument for conducting the research; multiple sources of \\ndata obtained from relevant  texts and peer reviewed \\njournals; a theoretical lens which seeks to identify the social \\nand political context of the issue st udied, and represents a \\nholistic account to better reflect the complex picture of the \\nstudy elements.  \\n \\nII. Review of the Concept of Capital Structure in \\nDeveloping Countries and Europe  \\n \\nThe role of managers is to choose the capital structure that \\nmaximizes sh areholders‟ wealth and Ehrhardt and Brigham \\n[4] sugges ted an approach of: developing a trial capital \\nstructure based on the market values of the debt and equity; \\nestimating the wealth of the shareholders under the \\nstructure; and repeating the process until  an acceptable \\ncapital structure is devised . The critical steps are: estimate \\nthe interest rate the firm will pay; estimate the cost of \\nequity; estimate the weighted average cost of capital; \\nestimate the free cash flows and their present value; and \\ndeduct the value of the debt to find shareholders‟ wealth (pp. \\n494-495).  The firm‟s optimal capital structure is the mix of \\ndebt and equity that maximizes the stock price and it was  \\nindicated that the factors that influence a firm‟s capital \\nstructure are: busine ss risk, tax position, financial flexibility, \\nmanagerial conservatism or aggressiveness, and growth \\nopportunities [4]. The WACC calculation is critical and the  \\nformula is:  \\nWACC = w\\ndr\\nd(1 - T) + w\\npsr\\nps + w\\ncer\\ns   \\nWhere:  \\nWd, ps, ces  represent the target wei ghts for debt, preferred  \\nstock , and common equity ;  \\nrd (1-T) is the after tax cost of debt . \\n \\nSharma [9] studied the capital structure of 12 firms in the \\nmanufacturing sector in India and found that an efficient \\nmix of capital reduces the cost of capital wh ich, in turn, \\nincreases net economic returns. Ultimately, the firm‟s value \\nis increased by the reduction in the cost of capital. Sharma  \\n[9] advised that, apart from deciding on a target capital \\nstructure, “a firm must manage its capital structure \\nsuccessfu lly by being aware of the imperfections in the \\ncapital market, taxes, and other practical factors which \\ninfluence the managing of capital structure” [9]. Sharma \\ninsisted that this task was even more difficult in developing \\ncountries because of factors such  as: perception of greater \\nuncertainty in taxes and the tax rate; existing or potential \\nimpediments to cross boundary flows of capital; higher \\nperceived risk of realization of the actual benefits of the \\ninvestments; relatively higher cost of capital; perce ptions \\nabout volatility in equity markets; and the absence of stable \\nlong-term capital markets [9]. \\n \\nCommercial banks are the dominant financial institutions in \\ndeveloping countries and m arket and credit risks are said to \\nbe at the core of the operations o f banks . Amidu [10] studied \\nthe main determinants of the capital structure of banks in \\nGhana in terms of profitability, growth, tax, assets structure, '),\n",
       " Document(metadata={'source': '/content/CorporateFinance-IJMSBR.pdf', 'page': 3}, page_content='International Journal of Management Sciences and Business Research, July -2015 ISSN (2226 -8235) Vol -4, Issue 7  \\nhttp://www.ijmsbr.com   Page 36 risk, and size  and found that the variables studied were \\nconsistent with the static trade -off and pecking  order \\ntheories except for risk, because Ghanaian banks‟ assets \\nwere financed by debts of which short -term debts \\nconstituted more than three quarters of the capital [10]. The \\nconclusion was  that profitability, growth, asset structure, and \\nbank size were im portant influences on capital structure  \\n[10]. Bancel and Mittoo [11] compared the managerial \\nviews on the determinants of capital structure across 16 \\nEuropean countries and found that, a country‟s institutional \\nstructure, especially its legal system, exert ed more influence \\non debt than on equity and concluded that the availability of \\nexternal financing was influenced primarily by its legal \\nenvironment. The overall finding was that most firms \\ndetermine their optimal capital structure by trading off \\nfactors s uch as tax advantage of debt, bankruptcy costs, \\nagency costs, and accessibility to external financing [11]. \\n \\nIII. External Funding : Sources and Estimating   \\nRequirements  \\n \\nIn the early stage of a firm‟s development, finance is \\ngenerally raised from internally sourced  funds from owners, \\nfamily, and friends. Firms often seek external funding in \\norder to expand production or services to a wider market or \\nto enter the export market. The act of seeking exter nal funds \\nis viewed by Eckhardt et al. [12]  as a multistage p rocess in \\nwhich founders first select the ventures to be financed and \\nthen financiers provide the finance , based on objective \\nevidence of performance. The matter of performance is not, \\nhowever, clear because the indication was  that owners select \\nventures t o be financed based on “perceptions of market \\ncompetition, market growth, and employment growth, while \\nfinanciers base funding decision s on…….. completion of \\norganizing activities, marketing activities, and the level of \\nsales” [12]. In turn, it was further  argued that “owners‟ \\nsearch for capital was often inefficient, unorganized, and \\nunsuccessful as a result of their lack of information about \\nalternative sources of funding” [13]. \\n \\nWith this background, the sources of external funding for a \\nfirm can be cate gorized into three broad areas: institutional \\nloans, venture capital, and private equity. Institutional loans \\nare sourced mainly from banks either from their commercial \\nretail branches  or from their merchant banking arms. Retail \\nbanks generally lend for re latively short periods and are not \\nappropriate for major capital projects. Merchant banks are \\nmore in the business of project financing and offer longer \\nterm loans, mortgages, and in some cases trade or export \\nfinancing. In developing countries, banks are the main \\nexternal source of business finance because the financial \\nsystem s are  underdeveloped. However, bank finance \\nremains a valid source of external funding for firms and this \\nsource can become more effective, if firms obtain a sound \\nunderstanding of th e various types of capital that can be \\naccessed [13]. \\n \\nVenture capital is a form of equity investment pr ovided by \\nventure capital firms and business angels  and in the U.S.  \\nventure capital funds are considered to be the dominant \\nsource of equity finance for  growth oriented technology -\\nbased firms  [14]. However, the firms that secure venture capital investments are typically at the expansion stage of \\ntheir evolution  and in  the UK, it was observed that less risky \\nlater stage expansion financing dominate the ven ture capital \\nindustry  [14]. An a lternative  to institutional venture capital  \\nis angel financing , and, internationally, the main sources of \\nangel finance are retired wealthy businessmen  and McNally  \\n[14] indicated that angels in the U.S. prefer providing fund s \\nto high-tech ventures and for seed capital and start -up firms . \\nFormal venture capital and angel financing are sources still \\nin their infancy in small developing count ries. However, \\nthese are sources  that can be developed if forums are \\narranged by busine ss associations where investors and \\ninvestees can meet.  \\n \\nIn the case of private equity,  firms can either issu e stocks on \\nthe market , or via an initial public offering ( IPO), or access  \\ncorporate venture funds. The issue of stock is relatively \\nstraightforwar d if there is an active stock exchange, \\nhowever, in many small developing countries, the stock \\nmarket is rudimentary  and funds are generally raised \\nthrough private placements . Pogue and Lall [15] indicated \\nthat, in a firm‟s financing decision, both  busines s and \\nfinancial risk must be assessed. The business risk is the risk \\nof an all equity financed firm, but the assumption of debt \\nfinance increases the uncertainty of returns to equity. An \\nIPO involves  considerable regulatory requirements which \\ncan be daunti ng for many firms , but can be attractive to a \\nfirm which demonstrates sound earnings performance.  \\n \\nIncreasingly, corporations are entering the corporate \\nventuring market and this trend was seen as a “unique \\nopportunity for cash -rich firms to capitalize on  the strength \\nof their balance sheets to become part of this evolution – by \\nbecoming providers of finance to the corporate world ” [16]. \\nIt was  also asserted  that the face of private equity is \\nchanging as the accept ed practice of acquiring cheap \\nstripping c osts, and selling at a profit is giving way  to \\nlonger -term portfolio management  approaches  [16]. In fact, \\nlarge corporations are now considering strategic partnerships \\nwith smaller firms and such strategically -oriented minority \\nequity investments are viewe d as part of a wider approach to \\nlarge firm -small firm collaboration  [14]. In such instances,  \\nthe “ combination of a small firm‟s know -how, inventive \\nefficiency and flexibility and a larger firm‟s financial, \\nproduction, marketing, and distribution resources  can \\nprovide opportunities for synergies that can contribute to \\nboth firms‟ competitive advantage ” [14]. There is potential \\nfor the development of strategic partnerships as a source of \\nexternal funds, particularly in developing countries . \\n \\nIn order to esti mate the external funds needed (EFN), firms \\ngenerally employ the standard formula : EFN = Required \\nincrease in assets – Increase in spontaneous liabilities – \\nIncrease in retained earnings expressed as:  \\nEFN = (A*/S o) ΔS – (L*/S o) ΔS – MS 1 (RR) [4].  \\nThis is considered the long method of forecasting the \\nexternal funds requirement and firms have tended to use \\nsources and uses of funds statement s to calculate the EFN as \\nforecasted uses – forecasted sources. This is a short method \\nwhich provides an indicative fi gure but is not fully reliable  \\nbecause t he formula must also be adjusted for the successive \\naccumulation of earnings retained from profits, if more than '),\n",
       " Document(metadata={'source': '/content/CorporateFinance-IJMSBR.pdf', 'page': 4}, page_content='International Journal of Management Sciences and Business Research, July -2015 ISSN (2226 -8235) Vol -4, Issue 7  \\nhttp://www.ijmsbr.com   Page 37 one year is forecasted [17].  A firm can also estimate its \\nexternal funding needs from its cash flow fo recast, provided \\nthe forecast is reliable in terms of the amount and timing of \\nthe flow. This can be tested through sensitivity analyses \\nwhich assess the effect on funding requirements of different \\nassumptions. The cash flow forecast must include: cash \\nflows from operating activities; interest payments and \\nreceipts; dividend payments and receipts; tax payments; loan \\nprincipal repayments; and capital expenditures [18]. \\n \\nThe main benefit of a  short -cut method is that it saves time \\nin avoiding the preparation of detailed statements. In cases \\nwhere there may be a lack of accuracy and incorrect timing, \\nCoyle [18] insisted  that “if financial planners develop a \\ntrack record of accurate quantitative forecasts, greater \\nreliance can be placed on their new forecasts” and effort s \\nshould be expended on arriving at a precise timing of cash \\nflows  [18]. A case was also made for firms adopt ing rolling \\nforecasts to manage their businesses more effectively, thus \\nmaking planning a continuous process [19] . Forecasting \\nfunding re quirements for a business that goes through a \\nlong-term cycle of growth and recession, calls for \\nanticipating the cash needs of the business between “the \\npeak point on the cycle and the point of maximum recession \\nin the market” [18].  \\n \\nIn the context of sm all businesses, Cheatham and Cheatham \\n[19] demonstrated how non -financial managers can use the \\nincome statement, statement of retained earnings, and \\ncomparative balance sheets and convert then to user friendly \\ntools. It was  felt that with these tools “proj ecting future \\nsources and uses of funds that will eventually be embodied \\nin balance sheet data is a simple, practical procedure that \\nreveals the financing limitations of the small business” [19]. \\n \\nIV. Portfolio Investments and Risk Implications  \\n \\nThe assumption  in financial management is that a firm seeks \\nto maximize its wealth which for a publicly traded firm \\nmeans maximizing the price of its common stock. The most \\nimportant determinants of stock price are risk and return and \\nthe most common statistical indicat or of an asset‟s risk is the \\nstandard deviation which is a measure of the dispersion \\naround the expected value of the asset. It was pointed out \\nthat these are the essential components of the capital assets \\npricing model (CAPM) which, although questioned in  recent \\ntimes, continues to be widely used by analysts  [20].  \\n \\nRisk is also viewed in terms of time and the variability of \\nthe returns, and, therefore the risk increases with the passage \\nof time based on the assumption that the longer an \\ninvestment asset i s held, the higher the risk because of future \\nuncertainty. Ideally, an investment manager seeks to create \\nan efficient portfolio which is one that maximizes return for \\na given level of risk or minimizes risk for a given level of \\nreturn. The statistical con cept of correlation, which \\nmeasures the relationship between a series of returns on an \\ninvestment, is what is used by analysts  and Gitman [20] \\nobserved that if two series move in the same direction, they \\nare said to be positively correlated, if they move i n opposite \\ndirections,  they are negatively correlated . However some \\nassets are uncorrelated in that there is no interaction between their returns , thus Gitman stated that such risk occupied a \\nposition midway between the positive and negative \\ncorrelations. Gitman argued that “combining negatively \\ncorrelated assets can reduce risk, not as effectively as \\ncombining negatively correlated assets, but more effectively \\nthan combining positively correlated assets” [20]. \\n \\nPogue and Lall [15] distinguished between the  risk of a \\nreturn on a security as systematic risk (dependent on market \\nforces) which is perfectly correlated, and unsystematic risk \\n(business specific) which is uncorrelated.  Market forces \\ninclude factors such as war, inflation, international incidents, \\nand political events , while business -specific risks include \\nstrikes, lawsuits, regulatory actions, death of a key \\nexecutive, and loss of an important account. The return on a \\nsecurity was therefore seen as the systematic return + \\nunsystematic return. Mishr a et al. [21]  studied the impact of \\nnon-conglomerate bank mergers, financed with stock, on \\nsystematic risk, unsystematic, and total risk, and concluded \\nthat the total and the unsystematic risk declined significantly \\ndue to the mergers, while no significant  change was \\nobserved in relation t o systematic risk after mergers . The \\nimpact of the measurement period on the size of the \\nsystematic risk of an asset and on the relationship between \\nthe systematic and unsystematic risk was studied by \\nSchneller [22] and de monstrated that the longer the horizon \\nof the investor, the higher will be the unsystematic: \\nsystematic risk ratio. The lesson learnt was  that the long -run \\ninvestor should not ignore the unsystematic element of an \\nasset‟s risk, for the contribution of each  asset to the total \\nvariance of the portfolio will result from the unsystematic \\nrisk [22]. \\n \\nThe question of cash flow volatility and systematic risk of a \\nportfolio is of considerable importance to investors bit it was \\nfound that there was no relationship b etween an insurance \\ncompany‟s risk management program and a firm‟s stock \\nbeta (systematic risk)  [23]. However, an insurance company \\nwith an asset value that is large in relation to future \\nopportunities will enjoy lower stock systematic risk when \\nthe total risk of operating cash flows are reduced. Further, \\ncash flow volatility reduction programs such as reinsurance \\nor hedging should be individually crafted for each firm and \\nfor speci fic periods in the firm‟s life [23] . It follows from \\nthe above discussion th at systematic risk is more closely \\nlinked to returns than unsystematic risk, because these risks \\nare totally outside of the control of the firm and usually \\nunpredictable. The firm is, however, capable of managing its \\nunsystematic risks by adopting best pra ctices in human \\nresource management, customer relations, and succession \\nplanning. The firm also has to keep the differences between \\nsystematic and unsystematic risk in mind so that this latter \\nrisk can be monitored especially in dealing with foreign \\nmarket s where political stability is an issue.  \\n \\nLubatkin and Chaterjee [24] argue that little is known about \\nthe relationship between corporate diversification and risk \\nand found that the relationship between diversification and \\nstock return risk was curvilinear  which indicates that there is \\nan optimal level of diversification for firms, and risk is best \\nminimized by a constrained strategy which is a midrange \\nlevel of diversification. The implication is that, to minimize '),\n",
       " Document(metadata={'source': '/content/CorporateFinance-IJMSBR.pdf', 'page': 5}, page_content='International Journal of Management Sciences and Business Research, July -2015 ISSN (2226 -8235) Vol -4, Issue 7  \\nhttp://www.ijmsbr.com   Page 38 risk, a firm should invest in a similar ba sket of securities \\nrather than the same or different baskets. This argument runs \\ncontrary to the conventional wisdom which asserts that \\nsystematic risk is non -diversifiable, but it was argued  that \\nthere is a diversifiable component to systematic risk  and \\nconcluded that that “diversifying into new markets for the \\nsole purpose of hedging corporate bets may be self -defeating \\nand may in crease corporate risk” [24]. The approach of a \\nfirm adopting a diversified investment portfolio which is \\nbalanced in terms of i nvestment instruments, duration, and \\ndegree of risk, seems to be the proper strategy.   \\n \\nV. Understanding Financial Ratio s and Firm \\nPerformance  \\n \\nThe aim of financial ratios is to provide indicators of a \\nfirm‟s past performance, and present financial condition \\nboth of which can serve as bases for the management to \\npredict future performance. A firm can utilize  a varied menu \\nof ratios which can be calculated using data from its \\nfinancial statements. These ratios have traditionally been \\ngrouped under five headings : liquidity, asset management, \\ndebt management, profitability, and market value  [4].  \\nLiquidity ratios show the relationship of a firm‟s currents \\nassets to its cu rrent liabilities which produce  its ability to \\nmeet maturing debt [4]. The liquidity of a busi ness firm is \\nmeasured by its ability to meet its short cash obligations \\nand, therefore, points to the overall solvency of the firm. \\nThe three basic measures of liq uidity are: net working \\ncapital;  the current ratio ; and the quick (acid -test) ratio. \\nAsset ma nagement ratios include inventory turnover, days \\nsales outstanding, fixed assets turnover, and total assets \\nturnover which  together measure how effectively a firm is \\nmanaging its assets. Debt management ratios comprise the \\ndebt ratio, times -interest earned , and the earning s before \\ninterest, taxes, depre ciation and amortization ( EBITDA ) \\ncoverage ratio which provide an insight into the level of debt \\nfinancing of the firm and the potential for defaulting on debt \\nobligations [20].  \\n \\nProfitability ratios are the  most important to a firm because \\nthey indicate the long term situation of the business. The \\nmain profitability ratios are: net profit margin, return on \\ninvestment (ROI), and return on equity (ROE). Net profit \\nmargin is obtained by dividing net profits aft er taxes by \\nsales and is the single most critical calculation the firm can \\nmake. The ROI is also the return on total assets and is a \\nmeasure of the effectiveness of management in generating \\nprofits. The ratio is obtained by net profits after taxes over \\ntotal assets. The ROE points to the return they can earn from \\ntheir investment in the firm and is obtained by dividing net \\nprofits after taxes by shareholders‟ equity. Market value \\nratios consist of the price/earnings, price/cash flow, and \\nmarket /book ratios and are used to relate the firm‟s stock \\nprice to its earnings, cash flow, and book value per share. \\nThese ratios provide “management with an indication of \\nwhat investors think of the company‟s past performance and \\nfuture prospects ” [4]. However , many  ratios do not convey \\nimportant characteristics of the company‟s financial \\nperformance or condition, and may be useless to decision \\nmakers. Currently, many companies are experiencing \\nfinancial distress and most companies will be monitoring their liquidity and pr ofitability ratios very closely. Sueyoshi  \\n[25] studied firms in the electric power industry and \\nexamined 10 traditional ratios covering liquidity, activity, \\nleverage, and profitability. Sueyoshi formulated what was \\ntermed a Data Envelope Analysis Discrimin ant Analysis \\n(DEA -DA). A discriminant analysis is used to determine \\nwhich variables discriminate between two or more naturally \\noccurring groups  and this analysis was extended to include a \\nMixed Integer Programming Model which used less \\nassumptions on group  distributions and concluded that both \\nleverage and profitability are important ratios in gauging \\ncorporate distress or bankruptcy  [25].  \\n \\nA different approach was taken by Osteryoung  et al. [26]  \\nwho compared large public and small private firms across a \\nlarge number of industry groups and concluded that there \\nwere significant differences among many of the industry \\naverage ratios. The lesson was that financial analysts should \\nensure that an appropriate industry average ratio should be \\nused for comparative p urposes.  The measurement of risk is \\na critical aspect of ratio analysis and Golding and Wambeke \\n[27] reviewed leverage, risk -based, stress tests and value -at- \\nrisk indicators of financial performance and recommended \\nthat “the best approach to risk measure ment combines the \\nuse of value -at-risk testing to evaluate certain risks under \\ntypical market conditions and stress testing to assess a firm‟s \\nvulnerability to extreme pressures ” [27] . An alternative \\napproach was  an „ enterprise stewardship model ‟ which  \\nfocused on the dividend yield ratio and compared the \\napproaches of traditional financial analysts who used the \\nanalytical method and those who tried to translate ratios into \\nindicators that everyone can understand. The conclusion was \\nthat the latter approach allowed non -executive directors of a \\ncompany to better understand the financial condition of a \\ncompany  [28].  \\n \\nVI. Financial Reporting and Value -Added Statements  \\n \\nThe typical financial statements included in financial \\nreporting are the income statement, balanc e sheet, and cash \\nflow. The presentation of these statements is largely in \\nstandard format as stipulated by the various regulatory \\naccounting bodies in accordance with generally accept ed \\naccounting practices (GAAP). VAS were viewed as “a \\nmodified form of t he income statement, reflecting the \\nincome of the company attributable to employees, \\ngovernment, and the providers of capital” [29]. The \\nintention of th e VAS was to supplement the income \\nstatement, not replace it, and the implication of including the \\nVAS i n financial reporting is that the management of \\ncompanies owes an obligation to all its stakeholders not only \\nthe shareholders.  Meek and Gray  [30] outlined five uses of \\nVAS including: helps to measure a company‟s success in \\nwealth creation and national in come generation; leads to \\ngreater awareness of the role of business in the production of \\ngoods and services and generating income for the society in \\ngeneral; highlights the interdependence of the multiple \\nstakeholders and the effect of their respective pol icy \\ndecisions; assists employees in shaping their attitudes about \\nequity and fair compensation; and contributes to the \\nformulation of productivity incentive schemes.  \\n '),\n",
       " Document(metadata={'source': '/content/CorporateFinance-IJMSBR.pdf', 'page': 6}, page_content='International Journal of Management Sciences and Business Research, July -2015 ISSN (2226 -8235) Vol -4, Issue 7  \\nhttp://www.ijmsbr.com   Page 39 Riahi -Belkaoui and Fekrat [31] evaluated the usefulness of \\naccrual accounting, cash flow accounting, and value -added \\nreporting and concluded that “lower variability and higher \\npersistency combined with a stronger association with \\nmarket -based measures of risk and a superior measure of \\nmanagerial performance make value -added based \\naccounting da ta potentially much more important and \\ninformative” than other traditional methods [31]. Further, \\nthe notion was advanced that accounting knowledge based \\npurely on GAAP while ignoring value added information, \\n“contributes to the erosion of decision quality ” [32]. In order \\nto facilitate the preparation of VAS, it was suggested a \\nstandardized VAS  statement be prepared which provides a \\nprecise measurement of each company‟s contribution to the \\ngrowth of a national economy, if cross -sectional and ratio \\nanalyses are to be beneficial  [33]. The overall benefit of \\nVAS  is that they enhance the depth of financial reporting \\nand provide greater understanding to stakeholders with a \\nnonfinancial background. The preparation of VAS does not \\nimpose a burden on firms because t he data are easily \\navailable from IT departments , and it was  argued that \\n“Addressing 21st century reporting requirements means \\nincreasing the availability of this nonfinancial operational \\ninformation” [34]. However, there are interpretational issues \\nto be resolved and the full benefits of VAS will be realized \\nonly when a standardized format is introduced, especially if \\ncross -sectional comparisons of company results are to be of \\nany value to analysts and stakeholders.  \\n \\nFinancial statements have been the mai n source of \\ninformation on the financial performance of firms, and \\ncompany directors have come to place considerable reliance \\non these statements although weaknesses have been pointed \\nout over time. These weaknesses relate mainly to the quality \\nof the base  data, the competence of the financial personnel, \\nand the integrity of the firm in presenting an accurate \\naccount of its performance. These matters have been \\nhighlighted within recent years by the collapse of leading \\nfinancial firms whose financial reporti ng was questioned.  \\nThe argument was advanced  that financial reporting has not \\nkept up with changes in bu siness conditions and practices, \\ntherefor e, greater emphasis should be placed on the cash \\nflow statement which should be reorganized to reflect cash \\ngenerated by business activities, cash required to be \\nreinvested for business growth and sustainability, and cash \\navailable to creditors and investors  [35]. An additional \\nsuggestion was  that the balance sheet should reflect the \\nsources of capital and the fina ncing and uses of capital, \\nwhile the earnings statement should reflect the business \\nstream of activities , and  for greater reliance, statements \\nshould be disaggregated so that all items of income and \\nexpenses are clearly presented [35].  \\n \\nVII. Experience of  Corp orate Finance in Select \\nDeveloping Countries  \\n \\nIt is accepted that the financial markets in emerging \\ncountries have experienced significant growth in recent \\nyears but such growth has not extended to the lower tier of \\ndeveloping countries even those experie ncing relatively high incomes. Financial market development is evidenced by the \\ngrowth of stock markets which Amo -Yartey and Abor [7] \\nattribute d to the expansion of financing options for firms to \\naccess external funds  and linked the importance of stock \\nmarkets to inflows of foreign capital to emerging \\neconomies.  Bokpin [36] accepted the value of stock market \\ndevelopment to overall capital market development because \\nit facilitated: substitution of external equity by internal \\nequity especially among family f irms; creation of new \\nopportunities for diversification through equity or debt \\nissues; and enhancement of information flows which address \\nthe asymmetry of information  obstacle to fund raising, \\nimprove ment in  corporate governance, and lower ing the cost \\nof capital to firms . However, the positive development of \\nstock markets in an emerging country context is not \\nnecessarily a sign of financial maturity because of the \\nlimited operations of the stock markets and the volume of \\ntrading [7].  \\n \\nThe bond market is th e significant alternative to the stock \\nmarket and this was the least developed component of the \\ncapital market in emerging countries due mainly to the \\ngovernment debt market a nd,  hence, was more suited to \\ninternal capital sources  [7]. However, it was sugg ested that \\nthe bond market be strengthened because of low er financing \\ncost to issuers  which provides advantages such as: “greater \\naccounting transparency; large community of financing \\nanalysts; respected rating; wide range of corporate debt \\nsecurities; der ivatives demanding sophisticated credit \\nanalysis, efficient procedures for corporate reorganization \\nand liquidation” [36]. Apart from the matter of the stock and \\nbond markets, the issue of capital structure de cisions was \\nviewed as critical in developing co untries and  a study of  \\nlocal ownership and capital structure decisions in Nigeria \\nacknowledged that ownership exerted influence on capital \\nstructure decisions but the degree and direction of the \\ninfluence remained open for questioning  [37]. Another \\ninfluen ce on decision making identified was the extent of \\ndiversified ownership which created opportunities for \\ngreater local partic ipation in corporate decisions [37]. \\n \\nVIII.  Case Study of Corporate Finance in a High -\\nIncome Developing Country  \\n \\nThe case of the small tw o-island Caribbean state of TT \\nrepresents the development of the capital market in a \\ncountry recently reclassified by the World Bank as a „high-\\nincome developing country ‟.  In a report on the economic \\nprospects of Latin America and the Caribbean (LAC), it was \\nsuggested that the economic risks were leaning towards the \\ndownside based on: insufficient macroeconomic adjustment \\namong the largest economies; financial volatility as a result \\nof monetary policy tightening in the U.S.; lower commodity \\nprices; fragile  recovery in the Euro zone; and questions \\nabout reduced growth in China [38].  These risks apply \\ndirectly to TT, especially reduced commodity prices for the \\nmain income generators of crude oil and natural gas, which \\nhave negatively impacted the country res ulting in downward \\nbudget adjustments  and downgrades by rating agencies such \\nas Moody‟s . \\n '),\n",
       " Document(metadata={'source': '/content/CorporateFinance-IJMSBR.pdf', 'page': 7}, page_content='International Journal of Management Sciences and Business Research, July -2015 ISSN (2226 -8235) Vol -4, Issue 7  \\nhttp://www.ijmsbr.com   Page 40 The combination of the risk profile and the budget \\ntightening by the government and business sectors was \\nreflected in activity of the capital market  (Table 1) . In t he \\ncase of the local stock market which had an average \\ncompany listing of 30 over the period 2009 to  2013, the \\ncomposite price index declined by 2.9 percent in 2014 after \\nan increase of 11.3 percent in 2013 , while the cross -listed \\nindex fell by 15.6 percen t in 2014. The overall fall was \\nattributed to a decline of 8.0 percent in the banking sub -\\nindex [39]. The primary bond market declined in 2014 for \\nthe third consecutive year while the secondary bond market \\ndeclined by 14.5 percent in 2014 over 2013 measure d by the \\nnumber of transactions [40] . The most accessible capital \\ninvestment vehicle in TT is mutual funds, both equity and \\nmoney market, and aggregate funds under management \\nincreased in 2014 after a decline in 2013 by 4.9 percent with \\nU.S. dollar funds i ncreasing by 4.4 percent as compared \\nwith a decline on 9.5 percent in 2013 [40].   \\n \\nThe evidence from the above indicators of capital market \\ndevelopment is that TT, although a high -income developing \\ncountry, lags behind in critical areas of development of its \\ncapital market. TT and related developing countries can \\nbenefit from the fundamental principles of CF espoused by \\nDamodaran [42] the practice of which: expects risk to be \\nrewarded; focuses on cash flows rather than accounting \\nincome; avoids mistaking m arkets and understands that  \\nevery decision impacts the firm‟s value; views CF as an integrated whole in terms of the impacts of investment \\ndecisions; depends on marketing managers, corporate \\nstrategists, human resource personnel, and information \\ntechnology  leaders to make better decisions from an \\nunderstanding of the discipline; requires creative thinking \\nnot only quantitative skills  derived from exploring \\ninnovation and change; and firms apply the t heories to real -\\nworld problem.  \\nIn this context, a vital f eature for CF practitioners in \\ndeveloping countries is to appreciate the increasing \\nimportance of behavioral CF because  finance research \\nindicates that traditional ideas of corporate governance may \\nbe too simplistic. Adler [43] argued that the board has to  \\nlook beyond finding the optimal incentive contract and \\ninstead find a CEO with the experience, personality, and \\nmanagement style suited to the company‟s actual challenges. \\nNguyen and Schüßler  [3] emphasized the responsibility of  \\nowners to “choose capable managers and to provide \\neffective incentives” if decisions are to be value -enhancing \\nand managers are to behave rationally  [3]. Theories from \\nbehavioral finance are at the forefront of explaining  \\ndifferences in corporate financial policies and capital \\nstructures and most importantly, behavioral CF has  \\nreintroduced humanity into the field which attracted \\nconsiderable negative reactions from the financial debacle of \\n2008 [43].  \\n \\n \\n \\n \\nTable 1: TT Capita l Market Development Indicators  \\nCapital Market Development  2008 2009  2010  2011  2012  2013  \\nListed Companies  34 32 31 31 28 29 \\nMarket Capitalization  (US $ Bn.)  12 11 12 15 15 18 \\nMarket Capitalization/GDP (%)  44 58 58 60 62 65 \\nComposite Stock Price Index \\n(1993=100)  843 765 836 1,013  1,065  1,18\\n5 \\nGovernment Bonds Iss ued (US$ \\nMn.)  190 436 713 238 397 486 \\nMutual Funds: Aggregate Fund \\nValues  (US $Mn.)  5816  5637  5659  5842  6308  6251  \\n                       Source: CBTT [41].  Figures rounded.  \\n \\n \\n \\n \\nConclusion s \\n \\nThe overwhelming conclusion of this review of the key \\nconcepts of  CF, the experiences of select developing \\ncountries, and the study of a high -income developing \\ncountry is that a broad range of citizens and stakeholders in \\ndeveloping countries must acquire a deeper understanding of \\nCF if the mistakes of the recent past a re to be avoided. A \\nmajor concept is that of sourcing external funds for a firm, \\nand while several sources can be tapped,  the appropriateness \\nof the source depends on the stage of maturity of the firm \\nand the dynamics of the industry. In this context, the paper highlighted the ways in which bank finance, venture capital, \\nand private equity, through corporate venturing, can become \\nmore viable options for the external funding of firms.   \\n \\nThe paper also endorses the recommendation that firms \\nshould adopt the p ractice of re -forecasting at perhaps \\nquarterly intervals or such periods as funding warrants  [19]. \\nFirms should also: make forecasting a management not a \\nmeasured process; separate the forecasting process from the \\ntarget setting and performance appraisal; use forecasts to \\nsupport strategy reviews; choose a forecasting horizon \\nlonger than the current year; make forecasting a fast process; '),\n",
       " Document(metadata={'source': '/content/CorporateFinance-IJMSBR.pdf', 'page': 8}, page_content=\"International Journal of Management Sciences and Business Research, July -2015 ISSN (2226 -8235) Vol -4, Issue 7  \\nhttp://www.ijmsbr.com   Page 41 choose the forecasting frequency appropriate to the type of \\nbusiness; base forecasts on a few key revenue and cost \\ndriver s; let forecasts serve as a risk management tool; reduce \\nthe dependency on spreadsheets; and carry out post -mortems \\non forecasts to imp rove their quality [19]. \\nThe issues of cash flow management and financial reporting \\nand disclosure requirements are german e to corporate \\ninvestment management and , as recognized by  Charan  [44], \\nprotecting cash flow is the most important challenge facing \\ncompanies, and project investment must now be gauged on \\ncash consumed, generated, and timing of cash generation.  \\nThe questio n of disclosure is also critical and Neuhausen \\n[45] saw the need to conform to the accounting standards  of both GAAP and  IASB to eliminate redundancies . A \\ndiversified invest ment  portfolio which balances invest ment  \\ninstruments, duration, and degree of risk,  is inescapable in \\nturbulent financial times. The recent global experience with \\nCF highlighted the need for an understanding of the nature \\nof the risks in the field  and the imperative for the firm to \\nmanage its unsystematic risks by adopting best practices  in \\nhuman resource management, customer relations, and \\nsuccession planning.   In this regard, the paper favors the \\nemphasis in developing countries on behavioral CF which \\nAdler [43] claimed has reintroduced humanity into the field  \\nwhich  goes to the heart of  the issues encountered by \\ndeveloping countries . \\n \\n \\nReferences  \\n \\n[1]   STANDS 4 LLC. (2015 ). Definition of Corporate   \\nFinance . [Online]. Available:  \\nhttp://www.definitions.net/definition/corporate \\nfinance  \\n \\n[2]   S. Beaney, (2011). What is corporate f inance  \\n[Online]. ICAEW, Corporate Finance Faculty . \\nAvailable:  \\nhttp://www.icaew.com/en/technical/corporate -\\nfinance/corporate -finance -faculty/what -is-\\ncorporate -finance -122299  \\n \\n[3]   T. Nguyen and A. Schüßler , “How to make better \\ndecisions? Lessons learned  from beh avioral \\ncorporate f inance ”, Inter . Business Research , vol. \\n6, no.1, pp. 187-195, 2013.  \\nhttp://dx.doi.org/10.5539/ibr.v61p187  \\n \\n[4]   M.B. Tudose,  “Corporate Finance Theories, \\nChallenges and Trajectorie s”, Management & \\nMarketing,  vol. 7, no. 2, pp. 277-294, 2012.  \\n \\n[5]  M.C. Ehrhardt and  E.F. Brigham,  Corpo rate \\nFinance a Focused A pproach . Mason, Ohio:  South -\\nWestern Cengage Learning, 2009.  \\n \\n [6]  A. Frielinghaus, B. Mostert, and C. Firer, “ Capital \\nstructure and the firm‟s life stage ”, South African J . \\nof Bus. Management, vol. 36, no. 4, pp.  9-17, 2005.   \\n \\n [7]  C. Amo -Yartey and J. Abor, “Corporate financial \\npolicies in  markets: The role of financial market  \\ndevelopment ”, Amer . J. of Business, vol. 28, no. 2, \\npp. 123-146, 2013 . doi: 10. 1108/AJB -052013 -\\n0035  \\n  \\n[8]  J.W. Creswell,  Research Design: Qualitative, \\nQuantitative, and Mixed Methods Approaches . \\nThousand  \\nOaks, California: SAGE Publications Inc., 2009.  \\n \\n \\n[9]  A.K. Sharma , A.K. “Financial leverage and firms' \\nvalue a study of capital structure of selected  manufacturing sector firms in India ”. The Business \\nReview , vol. 6, no. 2, pp. 70 -76, December 2006.  \\n \\n[10]      M. Amidu , “Determinants of capital structure of \\nbanks in Ghana: an empirica l approach ”, Baltic J . \\nof Management , vol. 2, no. 1, pp.  67-77, 2007.  \\ndoi:10.1108/17465260710720255  \\n \\n[11]  F. Bancel  and U.R. Mittoo, “ Cross -country \\ndeterminants of capital structure choice: A survey \\nof European firms ”, Financial Manage ., vol.33, no. \\n4, pp . 103-132, Winter 2004.   \\n \\n[12]       J.T. Eckhardt , S. Shane  and F. Delmar.  “Multistage \\nselection and the financing of new v entures , \\nManagemen t Sci ., vol. 52, Iss. 2, pp.  220-232, \\nFebruary  2006 . \\n \\n[13]      H.E. Van Auken , “Financing small technology -\\nbased companies: The relationship between \\nfamiliarity with capital and abil ity to price and \\nnegotiate investment ”, J. of Small Bus . \\nManag ement , 39(3) , 240 -259, July  2001.  \\n \\n[14]    K. McNally,  “Corporate  venture capital: The \\nfinancing of technology businesses ”, Inter. J. of \\nEntrepreneurial     Behaviour & Research , vol. 1, \\nno. 3, pp.  9-38, 1995. \\n \\n[15]    G.A. Pogue  and K. Lall, “Corporate finance: An \\noverview , Sloan Management Review , vol. 15, no. \\n3, pp.  19 -39, Spring 1974.  \\n \\n[16]     Anonymous , “Strategy: Financial evolution brings \\nsolutions ”, Fund Strategy , vol. 12, August 17, \\n2009.  \\n \\n[17]     R. Clarke and G. McQueen, Forecasting financial \\nstatements pro forma a nalysis . [Online].  August \\n2001.   \\n             Available: http://www.docstoc.com/docs/5287877  \\n \\n[18]     B.Coyle, Capital S tructuring . Chicago: Fitzroy \\nDearborn. 2000. Available:         \\nbooks.google.com/books?isbn=1579582540  \\n \"),\n",
       " Document(metadata={'source': '/content/CorporateFinance-IJMSBR.pdf', 'page': 9}, page_content='International Journal of Management Sciences and Business Research, July -2015 ISSN (2226 -8235) Vol -4, Issue 7  \\nhttp://www.ijmsbr.com   Page 42 [19]     R. Barrett  and J. Hope , “Re-forecasting  practice in \\nthe UK”, Measuring B usiness  Excellence , vol. 10, \\nno. 2, pp.  28 -40, 2006.  \\ndoi:10.1108/13683040610668684  \\n \\n[20]      L. Cheatham  and C.  Cheatham, “Utilizing fi nancial \\nstatements as cash flow planning and control tools ”.    \\nManagerial Finance , vol.  19, no. 8, pp.  35-49, \\n1993.  \\n \\n[21]        L.J. Gitman, Basic Managerial Finance. New York: \\nHarper & Row, 1987.  \\n \\n[22]   S. Mishra , A.J.  Prakash , G.V. Karels  and M.  \\nPeterson , “Bank mergers and components of risk: \\nAn evaluation ”, J. of Economics and Finance , vol. \\n2, no. 1, pp. 85 -97, Spring 2005.  \\n \\n[23]        M.I. Schneller, “Regression analysis for \\nmultiplicative phenomena and its implication for \\nthe measurement  of  investment risk ”, \\nManagement Science, vol. 22, no. 4,pp.  422-426, \\nDecember 1975.  \\n \\n[24]       N.A. Scordis, J. Barrese, and P. Wang, “ The impact \\nof cash flow volatility  on systematic risk ”, J. of \\nInsurance  Issues , vol. 31, no. 1, pp.  43–71, 2008.  \\n \\n[25]        M. Lubatkin and S. Chatterjee, “Extending modern \\nportfolio theory into the doma in of corporate  \\ndiversification: Does it apply ”. Academy of \\nManagement Journal, vol. 3, no. 1, pp. 109-136, \\nFebruary 1994.  \\n \\n[26]       T. Sueyoshi , “Financial ratio analysis of the electric \\npower industry ”, Asia - Pacific J . of Operational    \\nResearch , vol. 22, no. 3, pp.  349-377, September \\n2005.   \\n \\n[27]    J. Osteryoung, R.L. Con standt and D. Nast, \\n“Financial ratios in large public and small private \\nfirms ”, J. of Small Bus . Management, vol. 30, no. 3, \\npp. 35-45, July 19192.  \\n \\n[28]     E.L. Golding and C.A. Wambeke, “ Enough is \\nenough: A timely look at financial -soundness \\nmeasure s”, Secondary Mortgage Markets, vol. 15, \\nno. 1/2, pp. 28 -37, July 1998.   \\n \\n[29]        R. Bull, “ Financial ratios ”. Financial Management ,  \\npp. 34 -35, April 2005.   \\n \\n[30]       T.A. Lee, Company Financial R eporting (2nd ed.).  \\nBerkshire, England: Van Nostrand  \\nReinhold, 1982.   \\n \\n [31]    G.K. Meek  and S.J.  Gray,  “The value added \\nstatement: An innovation for U.S. companies ”, \\nAccounting Horizons , vol. 2, no. 2, pp . 73-82, June \\n1988.   \\n \\n[32]        A. Riahi -Belkaoui  and M.A. Fekrat, “The magic in value added: Merits of derived accounting  indicator \\nnumbers ”, Managerial Finance,  vol. 2, no. 9,  pp. 3 -\\n15, 1994.   \\n \\n[33]      R.D. Picur , “The effects of accounting knowledge \\non the omission of value added  information in \\nwealth measurement and distribution decisions ”, \\nReview of Acc t. & Finance , vol. 6, no.1, pp. 15-23, \\n2007.   \\ndoi: 10.1108/14757700 710725430  \\n \\n[34]       G. Arangies , C.  Mlambo , W.D.  Hamman  and B.W. \\nSteyn -Bruwer , “The value -added statement : An \\nappeal for standardisation ”, Management \\nDynamics , vol. 17, no. 1, pp.  31-44, 2008 . \\n \\n[35]       R.D. Kugel , “The Right Stu ff”, Business Finance , \\nvol. 14, no. 9, pp.  38-40, September 2009.    \\n \\n[36]    C. DiFabio, “Extreme makeover for f inancial \\nstatements ”, Financial Executive, vol. 25, no. 3, pp . \\n44-47, April 2009.  \\n \\n[37]     G. Bokpin, “Financial market development and \\ncorporate financing: Evidence from emerging \\neconomies ”, J. of Econ. Studies , vol. 37, no. 1, pp. \\n96-116, 2010.  doi: 10 .1108/01443581011012270  \\n \\n[38]   A.E. Ezeoha and F. Okafor, “Local corporate \\nownership and capital s tructure decisions in \\nNigeria: A developing country p erspective ”, \\nCorpo rate Governance , vol.10, no. 3, pp. 249 -260, \\n2010.   \\n  doi: 10. 1108/14720701011051893  \\n \\n[39]   World Ba nk Group,“ The Global Economy in \\nTransition” i n “Global Economic Prospects ”, \\nChapter 2: Latin America and the Caribbean , \\nInternational Bank for Reconstruction and \\nDevelopment, Washington, DC, U.S, June 2015. \\nAvailable:  http://www.worldbank.o rg \\n \\n[40]        Central Bank of Trinidad and Tobago  (CBTT: EB), \\n“Economic Bulletin ” February 2015,  Port of Spain, \\nTrinidad. Available: http://www.central -bank.org.tt  \\n \\n[41]      Central Bank of Trinidad and Tobago (CBTT: AES) , \\n“Annual Economic Survey 2014”,  2015,  Port of \\nSpain, Trinidad. Available: http://www.central -\\nbank.org.tt  \\n \\n[42]    Central Ban k of Trinidad and Tobago (CBTT),  \\n“Summary Economic Indicators ”, 2014 , Port of \\nSpain, Trinidad. Available: http://www.central -\\nbank.org.tt  \\n \\n[43]       A. Damodaran,  What is Corporate Finance , \\n[Online]. 2015. Available: \\nhttp://pages.stern.nyu.edu/~adamodar/New_Home_\\nPage/background/cfin.htm  \\n \\n[44]    D.E. Adler , “A behavioral theory of corporate '),\n",
       " Document(metadata={'source': '/content/CorporateFinance-IJMSBR.pdf', 'page': 10}, page_content='International Journal of Management Sciences and Business Research, July -2015 ISSN (2226 -8235) Vol -4, Issue 7  \\nhttp://www.ijmsbr.com   Page 43 finance ”, strategy+business , Issue 34, Spring 2004.  \\n \\n[45]       R. Charan, “A decisive direction ”, Intheblack, vol. \\n79, no. 3, p.  49, April 2009.  \\n \\n[46]      B. Neuhausen, “Achieving gr eater transparency ”, \\nDirectorship, vol. 35, no. 3, pp.  68-69, June/July \\n2009.   \\n \\n \\n \\n \\n \\n \\n \\n \\nView publication stats')]"
      ]
     },
     "execution_count": 42,
     "metadata": {},
     "output_type": "execute_result"
    }
   ],
   "source": [
    "docs"
   ]
  },
  {
   "cell_type": "code",
   "execution_count": 43,
   "metadata": {
    "colab": {
     "base_uri": "https://localhost:8080/"
    },
    "executionInfo": {
     "elapsed": 29,
     "status": "ok",
     "timestamp": 1722876620117,
     "user": {
      "displayName": "Bibek Shiwakoti",
      "userId": "12870124355518867121"
     },
     "user_tz": 240
    },
    "id": "peehxZA3JaG0",
    "outputId": "1a67827e-c4a3-413a-c851-d7d2149cf04e"
   },
   "outputs": [
    {
     "data": {
      "text/plain": [
       "11"
      ]
     },
     "execution_count": 43,
     "metadata": {},
     "output_type": "execute_result"
    }
   ],
   "source": [
    "len(docs)"
   ]
  },
  {
   "cell_type": "code",
   "execution_count": 44,
   "metadata": {
    "colab": {
     "base_uri": "https://localhost:8080/"
    },
    "executionInfo": {
     "elapsed": 13,
     "status": "ok",
     "timestamp": 1722876620118,
     "user": {
      "displayName": "Bibek Shiwakoti",
      "userId": "12870124355518867121"
     },
     "user_tz": 240
    },
    "id": "ifAA5do2Je7I",
    "outputId": "2951d3f3-f17d-4524-8548-bf20d10f8ee7"
   },
   "outputs": [
    {
     "data": {
      "text/plain": [
       "list"
      ]
     },
     "execution_count": 44,
     "metadata": {},
     "output_type": "execute_result"
    }
   ],
   "source": [
    "type(docs)"
   ]
  },
  {
   "cell_type": "markdown",
   "metadata": {
    "id": "0jaH1aTU1mHq"
   },
   "source": [
    "# Step 7: Split the data into chunks"
   ]
  },
  {
   "cell_type": "code",
   "execution_count": 45,
   "metadata": {
    "executionInfo": {
     "elapsed": 12,
     "status": "ok",
     "timestamp": 1722876620118,
     "user": {
      "displayName": "Bibek Shiwakoti",
      "userId": "12870124355518867121"
     },
     "user_tz": 240
    },
    "id": "GNkpe4ih2I9c"
   },
   "outputs": [],
   "source": [
    "text_splitter = RecursiveCharacterTextSplitter(chunk_size=1000,chunk_overlap=200)"
   ]
  },
  {
   "cell_type": "code",
   "execution_count": 46,
   "metadata": {
    "executionInfo": {
     "elapsed": 12,
     "status": "ok",
     "timestamp": 1722876620118,
     "user": {
      "displayName": "Bibek Shiwakoti",
      "userId": "12870124355518867121"
     },
     "user_tz": 240
    },
    "id": "mPhv-Qi52X4l"
   },
   "outputs": [],
   "source": [
    "texts = text_splitter.split_documents(docs)"
   ]
  },
  {
   "cell_type": "code",
   "execution_count": 47,
   "metadata": {
    "colab": {
     "base_uri": "https://localhost:8080/"
    },
    "executionInfo": {
     "elapsed": 12,
     "status": "ok",
     "timestamp": 1722876620118,
     "user": {
      "displayName": "Bibek Shiwakoti",
      "userId": "12870124355518867121"
     },
     "user_tz": 240
    },
    "id": "HbfZ9I-02pU8",
    "outputId": "c2e903df-cb72-45e9-a5b2-123f83611eb9"
   },
   "outputs": [
    {
     "data": {
      "text/plain": [
       "73"
      ]
     },
     "execution_count": 47,
     "metadata": {},
     "output_type": "execute_result"
    }
   ],
   "source": [
    "len(texts) #to show the number of chunks"
   ]
  },
  {
   "cell_type": "code",
   "execution_count": 48,
   "metadata": {
    "executionInfo": {
     "elapsed": 11,
     "status": "ok",
     "timestamp": 1722876620118,
     "user": {
      "displayName": "Bibek Shiwakoti",
      "userId": "12870124355518867121"
     },
     "user_tz": 240
    },
    "id": "qAS8pYcZKWiB"
   },
   "outputs": [],
   "source": [
    "text_i_str = \" \".join([str(doc) for doc in docs])"
   ]
  },
  {
   "cell_type": "code",
   "execution_count": 49,
   "metadata": {
    "colab": {
     "base_uri": "https://localhost:8080/"
    },
    "executionInfo": {
     "elapsed": 11,
     "status": "ok",
     "timestamp": 1722876620119,
     "user": {
      "displayName": "Bibek Shiwakoti",
      "userId": "12870124355518867121"
     },
     "user_tz": 240
    },
    "id": "wNg7M-PKKeB5",
    "outputId": "815ba4d7-5c3d-42cf-9356-ea386f441f0f"
   },
   "outputs": [
    {
     "data": {
      "text/plain": [
       "str"
      ]
     },
     "execution_count": 49,
     "metadata": {},
     "output_type": "execute_result"
    }
   ],
   "source": [
    "type(text_i_str)"
   ]
  },
  {
   "cell_type": "code",
   "execution_count": 50,
   "metadata": {
    "colab": {
     "base_uri": "https://localhost:8080/"
    },
    "executionInfo": {
     "elapsed": 10,
     "status": "ok",
     "timestamp": 1722876620119,
     "user": {
      "displayName": "Bibek Shiwakoti",
      "userId": "12870124355518867121"
     },
     "user_tz": 240
    },
    "id": "1QJGJiHVKkSZ",
    "outputId": "5e18ff70-b65e-4297-a735-392f6a324f67"
   },
   "outputs": [
    {
     "data": {
      "text/plain": [
       "57337"
      ]
     },
     "execution_count": 50,
     "metadata": {},
     "output_type": "execute_result"
    }
   ],
   "source": [
    "len(text_i_str)"
   ]
  },
  {
   "cell_type": "code",
   "execution_count": 51,
   "metadata": {
    "colab": {
     "base_uri": "https://localhost:8080/",
     "height": 191
    },
    "executionInfo": {
     "elapsed": 9,
     "status": "ok",
     "timestamp": 1722876620119,
     "user": {
      "displayName": "Bibek Shiwakoti",
      "userId": "12870124355518867121"
     },
     "user_tz": 240
    },
    "id": "rsbCZ_c3K562",
    "outputId": "3a72f6fb-4688-44e0-a322-dcab54e0fc95"
   },
   "outputs": [
    {
     "data": {
      "application/vnd.google.colaboratory.intrinsic+json": {
       "type": "string"
      },
      "text/plain": [
       "\"page_content='See discussions, st ats, and author pr ofiles f or this public ation at : https://www .researchgate.ne t/public ation/281557147\\nUnderstanding Corporate Finance: Experiences of Emerging Economies and\\nCase of a High-Income Small Developing Cou ntry\\nArticle  · July 2015\\nCITATIONS\\n0READS\\n7,262\\n1 author:\\nHav en Allahar\\nUniv ersity of the West Indies, St . Augustine\\n40 PUBLICA TIONS \\xa0\\xa0\\xa0230 CITATIONS \\xa0\\xa0\\xa0\\nSEE PROFILE\\nAll c ontent f ollo wing this p age was uplo aded b y Hav en Allahar  on 07 Sept ember 2015.\\nThe user has r equest ed enhanc ement of the do wnlo aded file.' metadata={'source': '/content/CorporateFinance-IJMSBR.pdf', 'page': 0} page_content='International Journal of Management Sciences and Business Research, July -2015 ISSN (2226 -8235) Vol -4, Issue 7  \\nhttp://www.ijmsbr.com   Page 34 Understanding  Corporate  Finance : Experience of  Emerging Economies and Case of a High -Income \\nSmall Developing Country . \\n \\nAuthor Details:  \\nHaven Allahar - \\nArthur Lok Jack Graduate School of Business,  University of the West Indies, Trinidad and Tobago.  \\n \\nAbstract  \\n \\nThe purpose of this paper is to provide an overview of the theories, concepts and issues involved in the area of corporate finance \\nand the implications for emerging economies. A secondary research appr oach was adopted based on a review of published texts, \\njournals, and technical reports.  The results  of the study demonstrate that based on the indicators of capital market development, \\nthe high -income developing country of Trinidad and Tobago used as a case study, lags behind in critical areas of development o f \\nits capital market and, along with related developing countries, can benefit fro m the fundamental principles involved in the \\npractice of corporate finance. The practical implications of the study are the potential use by students in tertiary level instit utions \\nengaged in MBA or financial management studies, participants pursuing professional qualifications  in accounting and finance, \\nemployees in financial institutions, and general stakeholders seeking to invest funds . The value of this paper is that it ex plores and \\npresents data on an area of stu dy which is considered esoteric  and largely ignored in the formal literature on small developing \\nstates, particularly the island -states of the Caribbean. Its value further lies in its contribution to the understand ing of the field of \\ncorporate finance and related issues and identification of  implications for developing  economies. The research is limited to the \\nextent that only secondary data sources were explored and insights from practitioners through interviews were not obtained thus \\npointing to scope for  future research.  \\n \\nKeywords : Corporate finance, developing countries , emerging economies, financial investments.  \\n \\nIntroduction  \\n \\nCorporate finance (CF) differs from managerial finance with \\nthe latter applying  to th e financial management of all firms \\nas opposed to corporations , and CF was defined as “the area \\nof finance dealing with the corporate restructurings of \\npublicly traded companies and the actions that managers of \\nthese companies take to increase the firm‟s v alue, as well as \\nthe tools and analysis used to allocate financial resources ” \\n[1]. Thus, CF covers a broad range of transactions including: \\nraising seed, start -up, development, or expansion capital; \\nmergers and acquisitions; takeovers of public companies; \\nmanagement buy -outs; flotation of companies on a stock \\nexchange to raise capital or restructure ownership; raising \\ncapital through equity, debt, or other securities; raising \\ncapital through private equity, venture capital or real estate \\nfunds; and financin g joint -ventures, supplying project \\nfinance, providing infrastructure finance, public -private \\npartnerships, and pri vatization initiatives [2]. In a more \\ngeneral sense, Nguyen and Schüßler [3] described CF as the \\n“interaction between managers and investors and its impacts \\non fir m value” [3]. \\n \\nThe impetus for this study arises from the vital need for \\ngrasping the key concepts of corporate finance by  \\nprofessionals, political decision makers, university students \\nand other students at the tertiary level involved  in studies \\nrelated to CF, and general stakeholders  in the society who \\ninvest their funds expecting adequate returns for their future \\nactivities. CF is not as widely researched as the common \\nareas of business management such as human resources, \\nstrategy, a nd marketing; but is viewed as a field better left to \\nspecialist in finance. In particular, determining the capital \\nstructure of firms is acknowledged as one of the most \\ncontentious subjects in the theory of corporate finance, so \\nthat there is little conse nsus on exactly what drives the \\ncapital structure decision. Ehrhardt and Brigham [4] indicated that the theoretical work on capital structure of \\nfirms began 50 years ago with the work by Modigliani and \\nMiller (MM) which introduced the concept of market \\narbitrage claiming that the market value of a firm is \\nindependent of its capital structure. However, this theory \\nwas developed by excluding several cost items: brokerage; \\ntaxes; bankruptcy; transaction costs while also assuming that \\nall investors have the sam e information as management, and \\nearnings before interest and tax (EBIT) was not affected by \\ndebt [4]. \\n \\nThe subsequent literature on capital structures was discussed \\nby many researchers who recognized five main theories \\nwhich relaxed the MM assumptions and  comprised: static \\ntrade -off; information asymmetry; pecking order; agency \\ncost; and life stage theory. The static trade -off theory of \\ncapital structure predicts that firms should have less debt in \\nthe early and late life stages, and the most debt in the p rime \\nstage when bankruptcy cost are lowest and the tax shield \\nbenefits highest. Information asymmetry theory assumes \\nthat, managers of firms who are in possession of all the \\ninformation about a firm will share this information by their \\nchoice of capital st ructure which, in turn, will signal the \\nintentions of the management (Frielinghaus, Mostert, and \\nFirer, 2005; Tudose 2012; Amo -Yartey  and Abor , 2013).  \\nPecking order theory argues that firms have a hierarchy of \\npreferred financing which ranges from internal  equity to \\ndebt financing, then moves to external equity as a worst \\ncase. Agency cost theory suggests that firms should assume \\nprogressively more debt as they grow and argues that, firms \\nwith free cash flow as well as declining firms, have higher \\nagency co sts and should therefore attract higher debt levels. \\nCapital structure life stage theory argues that debt ratios \\nshould increase as the firm progresses through the early life \\nstages, however, the research on this is sparse, but like static \\ntrade -off theory , argues that debt ratios should follow a low -\\nhigh-low pattern over a firm‟s life [5, 6, 7] . ' metadata={'source': '/content/CorporateFinance-IJMSBR.pdf', 'page': 1} page_content='International Journal of Management Sciences and Business Research, July -2015 ISSN (2226 -8235) Vol -4, Issue 7  \\nhttp://www.ijmsbr.com   Page 35 At the operational level, it was  indicated that firms issue \\nequity much less frequently than debt which supports the \\npecking order hypothesis and the signalling  theory [4]. The \\npecking order hypothesis suggests that firms with a high \\nlevel of information asymmetry should issue debt before \\nequity which is more expensive. However, high growth \\nfirms which usually have greater informational asymmetry, \\nand could afford t o issue debt, often choose to issue equity. \\nThe hypothesis that investment opportunities influence \\nattempts to maintain reserve borrowing capacity and tax \\nconsiderations is supported by the evidence that many firms \\nhave less debt than might be expected, an d many have large \\namounts of short -term investments [4]. Erhardt and Brigham  \\n[4] concluded that “it appears that firms try to capture debt‟s \\ntax benefits while avoiding financial distress costs. \\nHowever, they also allow their debt ratios to deviate from \\nthe static optimal target ratio implied by trade -off theory” \\nwhile t here was some evidence that firms follow a pecking \\norder and use the issue of security as signals, but there was \\nconsiderable evidence in support of the window s of \\nopportunity theory [4]. \\n \\nThe argument in this paper is that, based on recent global \\nexperience of failures of large and small firms, the general \\npopulation in developed and developing countries must \\nacquire a basic understanding of CF and particularly the \\nrisks involved. Further, s tudents in the field have to translate \\ngreater understanding of the field to the promotion of \\n„behavioural corporate finance‟ as relevant to developing \\ncountries which are more vulnerable to downside risks. In \\nrespect of the theory of CF, Tudose [6] argued  that there was \\nno single, universally valid theory of CF but certain theories \\nexerted significant influence on the research of the field \\nwhich evolved from considerations of: benefit -cost analysis \\nwhich looks at balancing bankruptcy costs with tax shields  \\nfrom debt; the question of agency costs; information \\nasymmetries between managers and shareholders; CF \\nstructure based on industrial strategy and corporate \\norganization; and trade -off and pecking order theories [6]. \\nThis study is significant for policy ma king because of the \\nrecent experience, both in advanced countries and \\ndeveloping states, of having to bail out large companies , \\nincluding major financial institutions , with many citizens \\nlosing their savings.  The paper highlights the concepts \\ncritical to a nd more relevant to the understanding of CF in \\ndeveloping countries with special focus on: external \\nfunding; investments and risks; identification and \\napplication of financial ratios; the use of value -added \\nstatements (VAS); and with specific attention to  the case of \\na high -income developing country.  \\n \\nI. Research Approach and Methodology  \\n \\nThe research on CF  presented in this paper is aimed at \\nacquiring a deeper understanding of the key concepts \\ninvolved in the field and assessing the application of key \\nconcept s in developing countries and the case of TT . The \\nmethodology adopted was a qualitative research approach \\nwhich was limited to: collection and distillation of relevant \\nliterature on CF from leading business texts, relevant \\njournals obtained from the ABI/In form database; internet \\nkeyword searches; and assessment of the practice of CF in the context of the small high-income island state of TT  as a \\ncase study . The research process, consistent with \\nacknowledged qualitative p rocedures, was outlined by \\nCreswell [8] as involving: the researcher as the key \\ninstrument for conducting the research; multiple sources of \\ndata obtained from relevant  texts and peer reviewed \\njournals; a theoretical lens which seeks to identify the social \\nand political context of the issue st udied, and represents a \\nholistic account to better reflect the complex picture of the \\nstudy elements.  \\n \\nII. Review of the Concept of Capital Structure in \\nDeveloping Countries and Europe  \\n \\nThe role of managers is to choose the capital structure that \\nmaximizes sh areholders‟ wealth and Ehrhardt and Brigham \\n[4] sugges ted an approach of: developing a trial capital \\nstructure based on the market values of the debt and equity; \\nestimating the wealth of the shareholders under the \\nstructure; and repeating the process until  an acceptable \\ncapital structure is devised . The critical steps are: estimate \\nthe interest rate the firm will pay; estimate the cost of \\nequity; estimate the weighted average cost of capital; \\nestimate the free cash flows and their present value; and \\ndeduct the value of the debt to find shareholders‟ wealth (pp. \\n494-495).  The firm‟s optimal capital structure is the mix of \\ndebt and equity that maximizes the stock price and it was  \\nindicated that the factors that influence a firm‟s capital \\nstructure are: busine ss risk, tax position, financial flexibility, \\nmanagerial conservatism or aggressiveness, and growth \\nopportunities [4]. The WACC calculation is critical and the  \\nformula is:  \\nWACC = w\\ndr\\nd(1 - T) + w\\npsr\\nps + w\\ncer\\ns   \\nWhere:  \\nWd, ps, ces  represent the target wei ghts for debt, preferred  \\nstock , and common equity ;  \\nrd (1-T) is the after tax cost of debt . \\n \\nSharma [9] studied the capital structure of 12 firms in the \\nmanufacturing sector in India and found that an efficient \\nmix of capital reduces the cost of capital wh ich, in turn, \\nincreases net economic returns. Ultimately, the firm‟s value \\nis increased by the reduction in the cost of capital. Sharma  \\n[9] advised that, apart from deciding on a target capital \\nstructure, “a firm must manage its capital structure \\nsuccessfu lly by being aware of the imperfections in the \\ncapital market, taxes, and other practical factors which \\ninfluence the managing of capital structure” [9]. Sharma \\ninsisted that this task was even more difficult in developing \\ncountries because of factors such  as: perception of greater \\nuncertainty in taxes and the tax rate; existing or potential \\nimpediments to cross boundary flows of capital; higher \\nperceived risk of realization of the actual benefits of the \\ninvestments; relatively higher cost of capital; perce ptions \\nabout volatility in equity markets; and the absence of stable \\nlong-term capital markets [9]. \\n \\nCommercial banks are the dominant financial institutions in \\ndeveloping countries and m arket and credit risks are said to \\nbe at the core of the operations o f banks . Amidu [10] studied \\nthe main determinants of the capital structure of banks in \\nGhana in terms of profitability, growth, tax, assets structure, ' metadata={'source': '/content/CorporateFinance-IJMSBR.pdf', 'page': 2} page_content='International Journal of Management Sciences and Business Research, July -2015 ISSN (2226 -8235) Vol -4, Issue 7  \\nhttp://www.ijmsbr.com   Page 36 risk, and size  and found that the variables studied were \\nconsistent with the static trade -off and pecking  order \\ntheories except for risk, because Ghanaian banks‟ assets \\nwere financed by debts of which short -term debts \\nconstituted more than three quarters of the capital [10]. The \\nconclusion was  that profitability, growth, asset structure, and \\nbank size were im portant influences on capital structure  \\n[10]. Bancel and Mittoo [11] compared the managerial \\nviews on the determinants of capital structure across 16 \\nEuropean countries and found that, a country‟s institutional \\nstructure, especially its legal system, exert ed more influence \\non debt than on equity and concluded that the availability of \\nexternal financing was influenced primarily by its legal \\nenvironment. The overall finding was that most firms \\ndetermine their optimal capital structure by trading off \\nfactors s uch as tax advantage of debt, bankruptcy costs, \\nagency costs, and accessibility to external financing [11]. \\n \\nIII. External Funding : Sources and Estimating   \\nRequirements  \\n \\nIn the early stage of a firm‟s development, finance is \\ngenerally raised from internally sourced  funds from owners, \\nfamily, and friends. Firms often seek external funding in \\norder to expand production or services to a wider market or \\nto enter the export market. The act of seeking exter nal funds \\nis viewed by Eckhardt et al. [12]  as a multistage p rocess in \\nwhich founders first select the ventures to be financed and \\nthen financiers provide the finance , based on objective \\nevidence of performance. The matter of performance is not, \\nhowever, clear because the indication was  that owners select \\nventures t o be financed based on “perceptions of market \\ncompetition, market growth, and employment growth, while \\nfinanciers base funding decision s on…….. completion of \\norganizing activities, marketing activities, and the level of \\nsales” [12]. In turn, it was further  argued that “owners‟ \\nsearch for capital was often inefficient, unorganized, and \\nunsuccessful as a result of their lack of information about \\nalternative sources of funding” [13]. \\n \\nWith this background, the sources of external funding for a \\nfirm can be cate gorized into three broad areas: institutional \\nloans, venture capital, and private equity. Institutional loans \\nare sourced mainly from banks either from their commercial \\nretail branches  or from their merchant banking arms. Retail \\nbanks generally lend for re latively short periods and are not \\nappropriate for major capital projects. Merchant banks are \\nmore in the business of project financing and offer longer \\nterm loans, mortgages, and in some cases trade or export \\nfinancing. In developing countries, banks are the main \\nexternal source of business finance because the financial \\nsystem s are  underdeveloped. However, bank finance \\nremains a valid source of external funding for firms and this \\nsource can become more effective, if firms obtain a sound \\nunderstanding of th e various types of capital that can be \\naccessed [13]. \\n \\nVenture capital is a form of equity investment pr ovided by \\nventure capital firms and business angels  and in the U.S.  \\nventure capital funds are considered to be the dominant \\nsource of equity finance for  growth oriented technology -\\nbased firms  [14]. However, the firms that secure venture capital investments are typically at the expansion stage of \\ntheir evolution  and in  the UK, it was observed that less risky \\nlater stage expansion financing dominate the ven ture capital \\nindustry  [14]. An a lternative  to institutional venture capital  \\nis angel financing , and, internationally, the main sources of \\nangel finance are retired wealthy businessmen  and McNally  \\n[14] indicated that angels in the U.S. prefer providing fund s \\nto high-tech ventures and for seed capital and start -up firms . \\nFormal venture capital and angel financing are sources still \\nin their infancy in small developing count ries. However, \\nthese are sources  that can be developed if forums are \\narranged by busine ss associations where investors and \\ninvestees can meet.  \\n \\nIn the case of private equity,  firms can either issu e stocks on \\nthe market , or via an initial public offering ( IPO), or access  \\ncorporate venture funds. The issue of stock is relatively \\nstraightforwar d if there is an active stock exchange, \\nhowever, in many small developing countries, the stock \\nmarket is rudimentary  and funds are generally raised \\nthrough private placements . Pogue and Lall [15] indicated \\nthat, in a firm‟s financing decision, both  busines s and \\nfinancial risk must be assessed. The business risk is the risk \\nof an all equity financed firm, but the assumption of debt \\nfinance increases the uncertainty of returns to equity. An \\nIPO involves  considerable regulatory requirements which \\ncan be daunti ng for many firms , but can be attractive to a \\nfirm which demonstrates sound earnings performance.  \\n \\nIncreasingly, corporations are entering the corporate \\nventuring market and this trend was seen as a “unique \\nopportunity for cash -rich firms to capitalize on  the strength \\nof their balance sheets to become part of this evolution – by \\nbecoming providers of finance to the corporate world ” [16]. \\nIt was  also asserted  that the face of private equity is \\nchanging as the accept ed practice of acquiring cheap \\nstripping c osts, and selling at a profit is giving way  to \\nlonger -term portfolio management  approaches  [16]. In fact, \\nlarge corporations are now considering strategic partnerships \\nwith smaller firms and such strategically -oriented minority \\nequity investments are viewe d as part of a wider approach to \\nlarge firm -small firm collaboration  [14]. In such instances,  \\nthe “ combination of a small firm‟s know -how, inventive \\nefficiency and flexibility and a larger firm‟s financial, \\nproduction, marketing, and distribution resources  can \\nprovide opportunities for synergies that can contribute to \\nboth firms‟ competitive advantage ” [14]. There is potential \\nfor the development of strategic partnerships as a source of \\nexternal funds, particularly in developing countries . \\n \\nIn order to esti mate the external funds needed (EFN), firms \\ngenerally employ the standard formula : EFN = Required \\nincrease in assets – Increase in spontaneous liabilities – \\nIncrease in retained earnings expressed as:  \\nEFN = (A*/S o) ΔS – (L*/S o) ΔS – MS 1 (RR) [4].  \\nThis is considered the long method of forecasting the \\nexternal funds requirement and firms have tended to use \\nsources and uses of funds statement s to calculate the EFN as \\nforecasted uses – forecasted sources. This is a short method \\nwhich provides an indicative fi gure but is not fully reliable  \\nbecause t he formula must also be adjusted for the successive \\naccumulation of earnings retained from profits, if more than ' metadata={'source': '/content/CorporateFinance-IJMSBR.pdf', 'page': 3} page_content='International Journal of Management Sciences and Business Research, July -2015 ISSN (2226 -8235) Vol -4, Issue 7  \\nhttp://www.ijmsbr.com   Page 37 one year is forecasted [17].  A firm can also estimate its \\nexternal funding needs from its cash flow fo recast, provided \\nthe forecast is reliable in terms of the amount and timing of \\nthe flow. This can be tested through sensitivity analyses \\nwhich assess the effect on funding requirements of different \\nassumptions. The cash flow forecast must include: cash \\nflows from operating activities; interest payments and \\nreceipts; dividend payments and receipts; tax payments; loan \\nprincipal repayments; and capital expenditures [18]. \\n \\nThe main benefit of a  short -cut method is that it saves time \\nin avoiding the preparation of detailed statements. In cases \\nwhere there may be a lack of accuracy and incorrect timing, \\nCoyle [18] insisted  that “if financial planners develop a \\ntrack record of accurate quantitative forecasts, greater \\nreliance can be placed on their new forecasts” and effort s \\nshould be expended on arriving at a precise timing of cash \\nflows  [18]. A case was also made for firms adopt ing rolling \\nforecasts to manage their businesses more effectively, thus \\nmaking planning a continuous process [19] . Forecasting \\nfunding re quirements for a business that goes through a \\nlong-term cycle of growth and recession, calls for \\nanticipating the cash needs of the business between “the \\npeak point on the cycle and the point of maximum recession \\nin the market” [18].  \\n \\nIn the context of sm all businesses, Cheatham and Cheatham \\n[19] demonstrated how non -financial managers can use the \\nincome statement, statement of retained earnings, and \\ncomparative balance sheets and convert then to user friendly \\ntools. It was  felt that with these tools “proj ecting future \\nsources and uses of funds that will eventually be embodied \\nin balance sheet data is a simple, practical procedure that \\nreveals the financing limitations of the small business” [19]. \\n \\nIV. Portfolio Investments and Risk Implications  \\n \\nThe assumption  in financial management is that a firm seeks \\nto maximize its wealth which for a publicly traded firm \\nmeans maximizing the price of its common stock. The most \\nimportant determinants of stock price are risk and return and \\nthe most common statistical indicat or of an asset‟s risk is the \\nstandard deviation which is a measure of the dispersion \\naround the expected value of the asset. It was pointed out \\nthat these are the essential components of the capital assets \\npricing model (CAPM) which, although questioned in  recent \\ntimes, continues to be widely used by analysts  [20].  \\n \\nRisk is also viewed in terms of time and the variability of \\nthe returns, and, therefore the risk increases with the passage \\nof time based on the assumption that the longer an \\ninvestment asset i s held, the higher the risk because of future \\nuncertainty. Ideally, an investment manager seeks to create \\nan efficient portfolio which is one that maximizes return for \\na given level of risk or minimizes risk for a given level of \\nreturn. The statistical con cept of correlation, which \\nmeasures the relationship between a series of returns on an \\ninvestment, is what is used by analysts  and Gitman [20] \\nobserved that if two series move in the same direction, they \\nare said to be positively correlated, if they move i n opposite \\ndirections,  they are negatively correlated . However some \\nassets are uncorrelated in that there is no interaction between their returns , thus Gitman stated that such risk occupied a \\nposition midway between the positive and negative \\ncorrelations. Gitman argued that “combining negatively \\ncorrelated assets can reduce risk, not as effectively as \\ncombining negatively correlated assets, but more effectively \\nthan combining positively correlated assets” [20]. \\n \\nPogue and Lall [15] distinguished between the  risk of a \\nreturn on a security as systematic risk (dependent on market \\nforces) which is perfectly correlated, and unsystematic risk \\n(business specific) which is uncorrelated.  Market forces \\ninclude factors such as war, inflation, international incidents, \\nand political events , while business -specific risks include \\nstrikes, lawsuits, regulatory actions, death of a key \\nexecutive, and loss of an important account. The return on a \\nsecurity was therefore seen as the systematic return + \\nunsystematic return. Mishr a et al. [21]  studied the impact of \\nnon-conglomerate bank mergers, financed with stock, on \\nsystematic risk, unsystematic, and total risk, and concluded \\nthat the total and the unsystematic risk declined significantly \\ndue to the mergers, while no significant  change was \\nobserved in relation t o systematic risk after mergers . The \\nimpact of the measurement period on the size of the \\nsystematic risk of an asset and on the relationship between \\nthe systematic and unsystematic risk was studied by \\nSchneller [22] and de monstrated that the longer the horizon \\nof the investor, the higher will be the unsystematic: \\nsystematic risk ratio. The lesson learnt was  that the long -run \\ninvestor should not ignore the unsystematic element of an \\nasset‟s risk, for the contribution of each  asset to the total \\nvariance of the portfolio will result from the unsystematic \\nrisk [22]. \\n \\nThe question of cash flow volatility and systematic risk of a \\nportfolio is of considerable importance to investors bit it was \\nfound that there was no relationship b etween an insurance \\ncompany‟s risk management program and a firm‟s stock \\nbeta (systematic risk)  [23]. However, an insurance company \\nwith an asset value that is large in relation to future \\nopportunities will enjoy lower stock systematic risk when \\nthe total risk of operating cash flows are reduced. Further, \\ncash flow volatility reduction programs such as reinsurance \\nor hedging should be individually crafted for each firm and \\nfor speci fic periods in the firm‟s life [23] . It follows from \\nthe above discussion th at systematic risk is more closely \\nlinked to returns than unsystematic risk, because these risks \\nare totally outside of the control of the firm and usually \\nunpredictable. The firm is, however, capable of managing its \\nunsystematic risks by adopting best pra ctices in human \\nresource management, customer relations, and succession \\nplanning. The firm also has to keep the differences between \\nsystematic and unsystematic risk in mind so that this latter \\nrisk can be monitored especially in dealing with foreign \\nmarket s where political stability is an issue.  \\n \\nLubatkin and Chaterjee [24] argue that little is known about \\nthe relationship between corporate diversification and risk \\nand found that the relationship between diversification and \\nstock return risk was curvilinear  which indicates that there is \\nan optimal level of diversification for firms, and risk is best \\nminimized by a constrained strategy which is a midrange \\nlevel of diversification. The implication is that, to minimize ' metadata={'source': '/content/CorporateFinance-IJMSBR.pdf', 'page': 4} page_content='International Journal of Management Sciences and Business Research, July -2015 ISSN (2226 -8235) Vol -4, Issue 7  \\nhttp://www.ijmsbr.com   Page 38 risk, a firm should invest in a similar ba sket of securities \\nrather than the same or different baskets. This argument runs \\ncontrary to the conventional wisdom which asserts that \\nsystematic risk is non -diversifiable, but it was argued  that \\nthere is a diversifiable component to systematic risk  and \\nconcluded that that “diversifying into new markets for the \\nsole purpose of hedging corporate bets may be self -defeating \\nand may in crease corporate risk” [24]. The approach of a \\nfirm adopting a diversified investment portfolio which is \\nbalanced in terms of i nvestment instruments, duration, and \\ndegree of risk, seems to be the proper strategy.   \\n \\nV. Understanding Financial Ratio s and Firm \\nPerformance  \\n \\nThe aim of financial ratios is to provide indicators of a \\nfirm‟s past performance, and present financial condition \\nboth of which can serve as bases for the management to \\npredict future performance. A firm can utilize  a varied menu \\nof ratios which can be calculated using data from its \\nfinancial statements. These ratios have traditionally been \\ngrouped under five headings : liquidity, asset management, \\ndebt management, profitability, and market value  [4].  \\nLiquidity ratios show the relationship of a firm‟s currents \\nassets to its cu rrent liabilities which produce  its ability to \\nmeet maturing debt [4]. The liquidity of a busi ness firm is \\nmeasured by its ability to meet its short cash obligations \\nand, therefore, points to the overall solvency of the firm. \\nThe three basic measures of liq uidity are: net working \\ncapital;  the current ratio ; and the quick (acid -test) ratio. \\nAsset ma nagement ratios include inventory turnover, days \\nsales outstanding, fixed assets turnover, and total assets \\nturnover which  together measure how effectively a firm is \\nmanaging its assets. Debt management ratios comprise the \\ndebt ratio, times -interest earned , and the earning s before \\ninterest, taxes, depre ciation and amortization ( EBITDA ) \\ncoverage ratio which provide an insight into the level of debt \\nfinancing of the firm and the potential for defaulting on debt \\nobligations [20].  \\n \\nProfitability ratios are the  most important to a firm because \\nthey indicate the long term situation of the business. The \\nmain profitability ratios are: net profit margin, return on \\ninvestment (ROI), and return on equity (ROE). Net profit \\nmargin is obtained by dividing net profits aft er taxes by \\nsales and is the single most critical calculation the firm can \\nmake. The ROI is also the return on total assets and is a \\nmeasure of the effectiveness of management in generating \\nprofits. The ratio is obtained by net profits after taxes over \\ntotal assets. The ROE points to the return they can earn from \\ntheir investment in the firm and is obtained by dividing net \\nprofits after taxes by shareholders‟ equity. Market value \\nratios consist of the price/earnings, price/cash flow, and \\nmarket /book ratios and are used to relate the firm‟s stock \\nprice to its earnings, cash flow, and book value per share. \\nThese ratios provide “management with an indication of \\nwhat investors think of the company‟s past performance and \\nfuture prospects ” [4]. However , many  ratios do not convey \\nimportant characteristics of the company‟s financial \\nperformance or condition, and may be useless to decision \\nmakers. Currently, many companies are experiencing \\nfinancial distress and most companies will be monitoring their liquidity and pr ofitability ratios very closely. Sueyoshi  \\n[25] studied firms in the electric power industry and \\nexamined 10 traditional ratios covering liquidity, activity, \\nleverage, and profitability. Sueyoshi formulated what was \\ntermed a Data Envelope Analysis Discrimin ant Analysis \\n(DEA -DA). A discriminant analysis is used to determine \\nwhich variables discriminate between two or more naturally \\noccurring groups  and this analysis was extended to include a \\nMixed Integer Programming Model which used less \\nassumptions on group  distributions and concluded that both \\nleverage and profitability are important ratios in gauging \\ncorporate distress or bankruptcy  [25].  \\n \\nA different approach was taken by Osteryoung  et al. [26]  \\nwho compared large public and small private firms across a \\nlarge number of industry groups and concluded that there \\nwere significant differences among many of the industry \\naverage ratios. The lesson was that financial analysts should \\nensure that an appropriate industry average ratio should be \\nused for comparative p urposes.  The measurement of risk is \\na critical aspect of ratio analysis and Golding and Wambeke \\n[27] reviewed leverage, risk -based, stress tests and value -at- \\nrisk indicators of financial performance and recommended \\nthat “the best approach to risk measure ment combines the \\nuse of value -at-risk testing to evaluate certain risks under \\ntypical market conditions and stress testing to assess a firm‟s \\nvulnerability to extreme pressures ” [27] . An alternative \\napproach was  an „ enterprise stewardship model ‟ which  \\nfocused on the dividend yield ratio and compared the \\napproaches of traditional financial analysts who used the \\nanalytical method and those who tried to translate ratios into \\nindicators that everyone can understand. The conclusion was \\nthat the latter approach allowed non -executive directors of a \\ncompany to better understand the financial condition of a \\ncompany  [28].  \\n \\nVI. Financial Reporting and Value -Added Statements  \\n \\nThe typical financial statements included in financial \\nreporting are the income statement, balanc e sheet, and cash \\nflow. The presentation of these statements is largely in \\nstandard format as stipulated by the various regulatory \\naccounting bodies in accordance with generally accept ed \\naccounting practices (GAAP). VAS were viewed as “a \\nmodified form of t he income statement, reflecting the \\nincome of the company attributable to employees, \\ngovernment, and the providers of capital” [29]. The \\nintention of th e VAS was to supplement the income \\nstatement, not replace it, and the implication of including the \\nVAS i n financial reporting is that the management of \\ncompanies owes an obligation to all its stakeholders not only \\nthe shareholders.  Meek and Gray  [30] outlined five uses of \\nVAS including: helps to measure a company‟s success in \\nwealth creation and national in come generation; leads to \\ngreater awareness of the role of business in the production of \\ngoods and services and generating income for the society in \\ngeneral; highlights the interdependence of the multiple \\nstakeholders and the effect of their respective pol icy \\ndecisions; assists employees in shaping their attitudes about \\nequity and fair compensation; and contributes to the \\nformulation of productivity incentive schemes.  \\n ' metadata={'source': '/content/CorporateFinance-IJMSBR.pdf', 'page': 5} page_content='International Journal of Management Sciences and Business Research, July -2015 ISSN (2226 -8235) Vol -4, Issue 7  \\nhttp://www.ijmsbr.com   Page 39 Riahi -Belkaoui and Fekrat [31] evaluated the usefulness of \\naccrual accounting, cash flow accounting, and value -added \\nreporting and concluded that “lower variability and higher \\npersistency combined with a stronger association with \\nmarket -based measures of risk and a superior measure of \\nmanagerial performance make value -added based \\naccounting da ta potentially much more important and \\ninformative” than other traditional methods [31]. Further, \\nthe notion was advanced that accounting knowledge based \\npurely on GAAP while ignoring value added information, \\n“contributes to the erosion of decision quality ” [32]. In order \\nto facilitate the preparation of VAS, it was suggested a \\nstandardized VAS  statement be prepared which provides a \\nprecise measurement of each company‟s contribution to the \\ngrowth of a national economy, if cross -sectional and ratio \\nanalyses are to be beneficial  [33]. The overall benefit of \\nVAS  is that they enhance the depth of financial reporting \\nand provide greater understanding to stakeholders with a \\nnonfinancial background. The preparation of VAS does not \\nimpose a burden on firms because t he data are easily \\navailable from IT departments , and it was  argued that \\n“Addressing 21st century reporting requirements means \\nincreasing the availability of this nonfinancial operational \\ninformation” [34]. However, there are interpretational issues \\nto be resolved and the full benefits of VAS will be realized \\nonly when a standardized format is introduced, especially if \\ncross -sectional comparisons of company results are to be of \\nany value to analysts and stakeholders.  \\n \\nFinancial statements have been the mai n source of \\ninformation on the financial performance of firms, and \\ncompany directors have come to place considerable reliance \\non these statements although weaknesses have been pointed \\nout over time. These weaknesses relate mainly to the quality \\nof the base  data, the competence of the financial personnel, \\nand the integrity of the firm in presenting an accurate \\naccount of its performance. These matters have been \\nhighlighted within recent years by the collapse of leading \\nfinancial firms whose financial reporti ng was questioned.  \\nThe argument was advanced  that financial reporting has not \\nkept up with changes in bu siness conditions and practices, \\ntherefor e, greater emphasis should be placed on the cash \\nflow statement which should be reorganized to reflect cash \\ngenerated by business activities, cash required to be \\nreinvested for business growth and sustainability, and cash \\navailable to creditors and investors  [35]. An additional \\nsuggestion was  that the balance sheet should reflect the \\nsources of capital and the fina ncing and uses of capital, \\nwhile the earnings statement should reflect the business \\nstream of activities , and  for greater reliance, statements \\nshould be disaggregated so that all items of income and \\nexpenses are clearly presented [35].  \\n \\nVII. Experience of  Corp orate Finance in Select \\nDeveloping Countries  \\n \\nIt is accepted that the financial markets in emerging \\ncountries have experienced significant growth in recent \\nyears but such growth has not extended to the lower tier of \\ndeveloping countries even those experie ncing relatively high incomes. Financial market development is evidenced by the \\ngrowth of stock markets which Amo -Yartey and Abor [7] \\nattribute d to the expansion of financing options for firms to \\naccess external funds  and linked the importance of stock \\nmarkets to inflows of foreign capital to emerging \\neconomies.  Bokpin [36] accepted the value of stock market \\ndevelopment to overall capital market development because \\nit facilitated: substitution of external equity by internal \\nequity especially among family f irms; creation of new \\nopportunities for diversification through equity or debt \\nissues; and enhancement of information flows which address \\nthe asymmetry of information  obstacle to fund raising, \\nimprove ment in  corporate governance, and lower ing the cost \\nof capital to firms . However, the positive development of \\nstock markets in an emerging country context is not \\nnecessarily a sign of financial maturity because of the \\nlimited operations of the stock markets and the volume of \\ntrading [7].  \\n \\nThe bond market is th e significant alternative to the stock \\nmarket and this was the least developed component of the \\ncapital market in emerging countries due mainly to the \\ngovernment debt market a nd,  hence, was more suited to \\ninternal capital sources  [7]. However, it was sugg ested that \\nthe bond market be strengthened because of low er financing \\ncost to issuers  which provides advantages such as: “greater \\naccounting transparency; large community of financing \\nanalysts; respected rating; wide range of corporate debt \\nsecurities; der ivatives demanding sophisticated credit \\nanalysis, efficient procedures for corporate reorganization \\nand liquidation” [36]. Apart from the matter of the stock and \\nbond markets, the issue of capital structure de cisions was \\nviewed as critical in developing co untries and  a study of  \\nlocal ownership and capital structure decisions in Nigeria \\nacknowledged that ownership exerted influence on capital \\nstructure decisions but the degree and direction of the \\ninfluence remained open for questioning  [37]. Another \\ninfluen ce on decision making identified was the extent of \\ndiversified ownership which created opportunities for \\ngreater local partic ipation in corporate decisions [37]. \\n \\nVIII.  Case Study of Corporate Finance in a High -\\nIncome Developing Country  \\n \\nThe case of the small tw o-island Caribbean state of TT \\nrepresents the development of the capital market in a \\ncountry recently reclassified by the World Bank as a „high-\\nincome developing country ‟.  In a report on the economic \\nprospects of Latin America and the Caribbean (LAC), it was \\nsuggested that the economic risks were leaning towards the \\ndownside based on: insufficient macroeconomic adjustment \\namong the largest economies; financial volatility as a result \\nof monetary policy tightening in the U.S.; lower commodity \\nprices; fragile  recovery in the Euro zone; and questions \\nabout reduced growth in China [38].  These risks apply \\ndirectly to TT, especially reduced commodity prices for the \\nmain income generators of crude oil and natural gas, which \\nhave negatively impacted the country res ulting in downward \\nbudget adjustments  and downgrades by rating agencies such \\nas Moody‟s . \\n ' metadata={'source': '/content/CorporateFinance-IJMSBR.pdf', 'page': 6} page_content='International Journal of Management Sciences and Business Research, July -2015 ISSN (2226 -8235) Vol -4, Issue 7  \\nhttp://www.ijmsbr.com   Page 40 The combination of the risk profile and the budget \\ntightening by the government and business sectors was \\nreflected in activity of the capital market  (Table 1) . In t he \\ncase of the local stock market which had an average \\ncompany listing of 30 over the period 2009 to  2013, the \\ncomposite price index declined by 2.9 percent in 2014 after \\nan increase of 11.3 percent in 2013 , while the cross -listed \\nindex fell by 15.6 percen t in 2014. The overall fall was \\nattributed to a decline of 8.0 percent in the banking sub -\\nindex [39]. The primary bond market declined in 2014 for \\nthe third consecutive year while the secondary bond market \\ndeclined by 14.5 percent in 2014 over 2013 measure d by the \\nnumber of transactions [40] . The most accessible capital \\ninvestment vehicle in TT is mutual funds, both equity and \\nmoney market, and aggregate funds under management \\nincreased in 2014 after a decline in 2013 by 4.9 percent with \\nU.S. dollar funds i ncreasing by 4.4 percent as compared \\nwith a decline on 9.5 percent in 2013 [40].   \\n \\nThe evidence from the above indicators of capital market \\ndevelopment is that TT, although a high -income developing \\ncountry, lags behind in critical areas of development of its \\ncapital market. TT and related developing countries can \\nbenefit from the fundamental principles of CF espoused by \\nDamodaran [42] the practice of which: expects risk to be \\nrewarded; focuses on cash flows rather than accounting \\nincome; avoids mistaking m arkets and understands that  \\nevery decision impacts the firm‟s value; views CF as an integrated whole in terms of the impacts of investment \\ndecisions; depends on marketing managers, corporate \\nstrategists, human resource personnel, and information \\ntechnology  leaders to make better decisions from an \\nunderstanding of the discipline; requires creative thinking \\nnot only quantitative skills  derived from exploring \\ninnovation and change; and firms apply the t heories to real -\\nworld problem.  \\nIn this context, a vital f eature for CF practitioners in \\ndeveloping countries is to appreciate the increasing \\nimportance of behavioral CF because  finance research \\nindicates that traditional ideas of corporate governance may \\nbe too simplistic. Adler [43] argued that the board has to  \\nlook beyond finding the optimal incentive contract and \\ninstead find a CEO with the experience, personality, and \\nmanagement style suited to the company‟s actual challenges. \\nNguyen and Schüßler  [3] emphasized the responsibility of  \\nowners to “choose capable managers and to provide \\neffective incentives” if decisions are to be value -enhancing \\nand managers are to behave rationally  [3]. Theories from \\nbehavioral finance are at the forefront of explaining  \\ndifferences in corporate financial policies and capital \\nstructures and most importantly, behavioral CF has  \\nreintroduced humanity into the field which attracted \\nconsiderable negative reactions from the financial debacle of \\n2008 [43].  \\n \\n \\n \\n \\nTable 1: TT Capita l Market Development Indicators  \\nCapital Market Development  2008 2009  2010  2011  2012  2013  \\nListed Companies  34 32 31 31 28 29 \\nMarket Capitalization  (US $ Bn.)  12 11 12 15 15 18 \\nMarket Capitalization/GDP (%)  44 58 58 60 62 65 \\nComposite Stock Price Index \\n(1993=100)  843 765 836 1,013  1,065  1,18\\n5 \\nGovernment Bonds Iss ued (US$ \\nMn.)  190 436 713 238 397 486 \\nMutual Funds: Aggregate Fund \\nValues  (US $Mn.)  5816  5637  5659  5842  6308  6251  \\n                       Source: CBTT [41].  Figures rounded.  \\n \\n \\n \\n \\nConclusion s \\n \\nThe overwhelming conclusion of this review of the key \\nconcepts of  CF, the experiences of select developing \\ncountries, and the study of a high -income developing \\ncountry is that a broad range of citizens and stakeholders in \\ndeveloping countries must acquire a deeper understanding of \\nCF if the mistakes of the recent past a re to be avoided. A \\nmajor concept is that of sourcing external funds for a firm, \\nand while several sources can be tapped,  the appropriateness \\nof the source depends on the stage of maturity of the firm \\nand the dynamics of the industry. In this context, the paper highlighted the ways in which bank finance, venture capital, \\nand private equity, through corporate venturing, can become \\nmore viable options for the external funding of firms.   \\n \\nThe paper also endorses the recommendation that firms \\nshould adopt the p ractice of re -forecasting at perhaps \\nquarterly intervals or such periods as funding warrants  [19]. \\nFirms should also: make forecasting a management not a \\nmeasured process; separate the forecasting process from the \\ntarget setting and performance appraisal; use forecasts to \\nsupport strategy reviews; choose a forecasting horizon \\nlonger than the current year; make forecasting a fast process; ' metadata={'source': '/content/CorporateFinance-IJMSBR.pdf', 'page': 7} page_content='International Journal of Management Sciences and Business Research, July -2015 ISSN (2226 -8235) Vol -4, Issue 7  \\nhttp://www.ijmsbr.com   Page 41 choose the forecasting frequency appropriate to the type of \\nbusiness; base forecasts on a few key revenue and cost \\ndriver s; let forecasts serve as a risk management tool; reduce \\nthe dependency on spreadsheets; and carry out post -mortems \\non forecasts to imp rove their quality [19]. \\nThe issues of cash flow management and financial reporting \\nand disclosure requirements are german e to corporate \\ninvestment management and , as recognized by  Charan  [44], \\nprotecting cash flow is the most important challenge facing \\ncompanies, and project investment must now be gauged on \\ncash consumed, generated, and timing of cash generation.  \\nThe questio n of disclosure is also critical and Neuhausen \\n[45] saw the need to conform to the accounting standards  of both GAAP and  IASB to eliminate redundancies . A \\ndiversified invest ment  portfolio which balances invest ment  \\ninstruments, duration, and degree of risk,  is inescapable in \\nturbulent financial times. The recent global experience with \\nCF highlighted the need for an understanding of the nature \\nof the risks in the field  and the imperative for the firm to \\nmanage its unsystematic risks by adopting best practices  in \\nhuman resource management, customer relations, and \\nsuccession planning.   In this regard, the paper favors the \\nemphasis in developing countries on behavioral CF which \\nAdler [43] claimed has reintroduced humanity into the field  \\nwhich  goes to the heart of  the issues encountered by \\ndeveloping countries . \\n \\n \\nReferences  \\n \\n[1]   STANDS 4 LLC. (2015 ). Definition of Corporate   \\nFinance . [Online]. Available:  \\nhttp://www.definitions.net/definition/corporate \\nfinance  \\n \\n[2]   S. Beaney, (2011). What is corporate f inance  \\n[Online]. ICAEW, Corporate Finance Faculty . \\nAvailable:  \\nhttp://www.icaew.com/en/technical/corporate -\\nfinance/corporate -finance -faculty/what -is-\\ncorporate -finance -122299  \\n \\n[3]   T. Nguyen and A. Schüßler , “How to make better \\ndecisions? Lessons learned  from beh avioral \\ncorporate f inance ”, Inter . Business Research , vol. \\n6, no.1, pp. 187-195, 2013.  \\nhttp://dx.doi.org/10.5539/ibr.v61p187  \\n \\n[4]   M.B. Tudose,  “Corporate Finance Theories, \\nChallenges and Trajectorie s”, Management & \\nMarketing,  vol. 7, no. 2, pp. 277-294, 2012.  \\n \\n[5]  M.C. Ehrhardt and  E.F. Brigham,  Corpo rate \\nFinance a Focused A pproach . Mason, Ohio:  South -\\nWestern Cengage Learning, 2009.  \\n \\n [6]  A. Frielinghaus, B. Mostert, and C. Firer, “ Capital \\nstructure and the firm‟s life stage ”, South African J . \\nof Bus. Management, vol. 36, no. 4, pp.  9-17, 2005.   \\n \\n [7]  C. Amo -Yartey and J. Abor, “Corporate financial \\npolicies in  markets: The role of financial market  \\ndevelopment ”, Amer . J. of Business, vol. 28, no. 2, \\npp. 123-146, 2013 . doi: 10. 1108/AJB -052013 -\\n0035  \\n  \\n[8]  J.W. Creswell,  Research Design: Qualitative, \\nQuantitative, and Mixed Methods Approaches . \\nThousand  \\nOaks, California: SAGE Publications Inc., 2009.  \\n \\n \\n[9]  A.K. Sharma , A.K. “Financial leverage and firms' \\nvalue a study of capital structure of selected  manufacturing sector firms in India ”. The Business \\nReview , vol. 6, no. 2, pp. 70 -76, December 2006.  \\n \\n[10]      M. Amidu , “Determinants of capital structure of \\nbanks in Ghana: an empirica l approach ”, Baltic J . \\nof Management , vol. 2, no. 1, pp.  67-77, 2007.  \\ndoi:10.1108/17465260710720255  \\n \\n[11]  F. Bancel  and U.R. Mittoo, “ Cross -country \\ndeterminants of capital structure choice: A survey \\nof European firms ”, Financial Manage ., vol.33, no. \\n4, pp . 103-132, Winter 2004.   \\n \\n[12]       J.T. Eckhardt , S. Shane  and F. Delmar.  “Multistage \\nselection and the financing of new v entures , \\nManagemen t Sci ., vol. 52, Iss. 2, pp.  220-232, \\nFebruary  2006 . \\n \\n[13]      H.E. Van Auken , “Financing small technology -\\nbased companies: The relationship between \\nfamiliarity with capital and abil ity to price and \\nnegotiate investment ”, J. of Small Bus . \\nManag ement , 39(3) , 240 -259, July  2001.  \\n \\n[14]    K. McNally,  “Corporate  venture capital: The \\nfinancing of technology businesses ”, Inter. J. of \\nEntrepreneurial     Behaviour & Research , vol. 1, \\nno. 3, pp.  9-38, 1995. \\n \\n[15]    G.A. Pogue  and K. Lall, “Corporate finance: An \\noverview , Sloan Management Review , vol. 15, no. \\n3, pp.  19 -39, Spring 1974.  \\n \\n[16]     Anonymous , “Strategy: Financial evolution brings \\nsolutions ”, Fund Strategy , vol. 12, August 17, \\n2009.  \\n \\n[17]     R. Clarke and G. McQueen, Forecasting financial \\nstatements pro forma a nalysis . [Online].  August \\n2001.   \\n             Available: http://www.docstoc.com/docs/5287877  \\n \\n[18]     B.Coyle, Capital S tructuring . Chicago: Fitzroy \\nDearborn. 2000. Available:         \\nbooks.google.com/books?isbn=1579582540  \\n ' metadata={'source': '/content/CorporateFinance-IJMSBR.pdf', 'page': 8} page_content='International Journal of Management Sciences and Business Research, July -2015 ISSN (2226 -8235) Vol -4, Issue 7  \\nhttp://www.ijmsbr.com   Page 42 [19]     R. Barrett  and J. Hope , “Re-forecasting  practice in \\nthe UK”, Measuring B usiness  Excellence , vol. 10, \\nno. 2, pp.  28 -40, 2006.  \\ndoi:10.1108/13683040610668684  \\n \\n[20]      L. Cheatham  and C.  Cheatham, “Utilizing fi nancial \\nstatements as cash flow planning and control tools ”.    \\nManagerial Finance , vol.  19, no. 8, pp.  35-49, \\n1993.  \\n \\n[21]        L.J. Gitman, Basic Managerial Finance. New York: \\nHarper & Row, 1987.  \\n \\n[22]   S. Mishra , A.J.  Prakash , G.V. Karels  and M.  \\nPeterson , “Bank mergers and components of risk: \\nAn evaluation ”, J. of Economics and Finance , vol. \\n2, no. 1, pp. 85 -97, Spring 2005.  \\n \\n[23]        M.I. Schneller, “Regression analysis for \\nmultiplicative phenomena and its implication for \\nthe measurement  of  investment risk ”, \\nManagement Science, vol. 22, no. 4,pp.  422-426, \\nDecember 1975.  \\n \\n[24]       N.A. Scordis, J. Barrese, and P. Wang, “ The impact \\nof cash flow volatility  on systematic risk ”, J. of \\nInsurance  Issues , vol. 31, no. 1, pp.  43–71, 2008.  \\n \\n[25]        M. Lubatkin and S. Chatterjee, “Extending modern \\nportfolio theory into the doma in of corporate  \\ndiversification: Does it apply ”. Academy of \\nManagement Journal, vol. 3, no. 1, pp. 109-136, \\nFebruary 1994.  \\n \\n[26]       T. Sueyoshi , “Financial ratio analysis of the electric \\npower industry ”, Asia - Pacific J . of Operational    \\nResearch , vol. 22, no. 3, pp.  349-377, September \\n2005.   \\n \\n[27]    J. Osteryoung, R.L. Con standt and D. Nast, \\n“Financial ratios in large public and small private \\nfirms ”, J. of Small Bus . Management, vol. 30, no. 3, \\npp. 35-45, July 19192.  \\n \\n[28]     E.L. Golding and C.A. Wambeke, “ Enough is \\nenough: A timely look at financial -soundness \\nmeasure s”, Secondary Mortgage Markets, vol. 15, \\nno. 1/2, pp. 28 -37, July 1998.   \\n \\n[29]        R. Bull, “ Financial ratios ”. Financial Management ,  \\npp. 34 -35, April 2005.   \\n \\n[30]       T.A. Lee, Company Financial R eporting (2nd ed.).  \\nBerkshire, England: Van Nostrand  \\nReinhold, 1982.   \\n \\n [31]    G.K. Meek  and S.J.  Gray,  “The value added \\nstatement: An innovation for U.S. companies ”, \\nAccounting Horizons , vol. 2, no. 2, pp . 73-82, June \\n1988.   \\n \\n[32]        A. Riahi -Belkaoui  and M.A. Fekrat, “The magic in value added: Merits of derived accounting  indicator \\nnumbers ”, Managerial Finance,  vol. 2, no. 9,  pp. 3 -\\n15, 1994.   \\n \\n[33]      R.D. Picur , “The effects of accounting knowledge \\non the omission of value added  information in \\nwealth measurement and distribution decisions ”, \\nReview of Acc t. & Finance , vol. 6, no.1, pp. 15-23, \\n2007.   \\ndoi: 10.1108/14757700 710725430  \\n \\n[34]       G. Arangies , C.  Mlambo , W.D.  Hamman  and B.W. \\nSteyn -Bruwer , “The value -added statement : An \\nappeal for standardisation ”, Management \\nDynamics , vol. 17, no. 1, pp.  31-44, 2008 . \\n \\n[35]       R.D. Kugel , “The Right Stu ff”, Business Finance , \\nvol. 14, no. 9, pp.  38-40, September 2009.    \\n \\n[36]    C. DiFabio, “Extreme makeover for f inancial \\nstatements ”, Financial Executive, vol. 25, no. 3, pp . \\n44-47, April 2009.  \\n \\n[37]     G. Bokpin, “Financial market development and \\ncorporate financing: Evidence from emerging \\neconomies ”, J. of Econ. Studies , vol. 37, no. 1, pp. \\n96-116, 2010.  doi: 10 .1108/01443581011012270  \\n \\n[38]   A.E. Ezeoha and F. Okafor, “Local corporate \\nownership and capital s tructure decisions in \\nNigeria: A developing country p erspective ”, \\nCorpo rate Governance , vol.10, no. 3, pp. 249 -260, \\n2010.   \\n  doi: 10. 1108/14720701011051893  \\n \\n[39]   World Ba nk Group,“ The Global Economy in \\nTransition” i n “Global Economic Prospects ”, \\nChapter 2: Latin America and the Caribbean , \\nInternational Bank for Reconstruction and \\nDevelopment, Washington, DC, U.S, June 2015. \\nAvailable:  http://www.worldbank.o rg \\n \\n[40]        Central Bank of Trinidad and Tobago  (CBTT: EB), \\n“Economic Bulletin ” February 2015,  Port of Spain, \\nTrinidad. Available: http://www.central -bank.org.tt  \\n \\n[41]      Central Bank of Trinidad and Tobago (CBTT: AES) , \\n“Annual Economic Survey 2014”,  2015,  Port of \\nSpain, Trinidad. Available: http://www.central -\\nbank.org.tt  \\n \\n[42]    Central Ban k of Trinidad and Tobago (CBTT),  \\n“Summary Economic Indicators ”, 2014 , Port of \\nSpain, Trinidad. Available: http://www.central -\\nbank.org.tt  \\n \\n[43]       A. Damodaran,  What is Corporate Finance , \\n[Online]. 2015. Available: \\nhttp://pages.stern.nyu.edu/~adamodar/New_Home_\\nPage/background/cfin.htm  \\n \\n[44]    D.E. Adler , “A behavioral theory of corporate ' metadata={'source': '/content/CorporateFinance-IJMSBR.pdf', 'page': 9} page_content='International Journal of Management Sciences and Business Research, July -2015 ISSN (2226 -8235) Vol -4, Issue 7  \\nhttp://www.ijmsbr.com   Page 43 finance ”, strategy+business , Issue 34, Spring 2004.  \\n \\n[45]       R. Charan, “A decisive direction ”, Intheblack, vol. \\n79, no. 3, p.  49, April 2009.  \\n \\n[46]      B. Neuhausen, “Achieving gr eater transparency ”, \\nDirectorship, vol. 35, no. 3, pp.  68-69, June/July \\n2009.   \\n \\n \\n \\n \\n \\n \\n \\n \\nView publication stats' metadata={'source': '/content/CorporateFinance-IJMSBR.pdf', 'page': 10}\""
      ]
     },
     "execution_count": 51,
     "metadata": {},
     "output_type": "execute_result"
    }
   ],
   "source": [
    "text_i_str"
   ]
  },
  {
   "cell_type": "code",
   "execution_count": 52,
   "metadata": {
    "colab": {
     "base_uri": "https://localhost:8080/"
    },
    "executionInfo": {
     "elapsed": 8,
     "status": "ok",
     "timestamp": 1722876620119,
     "user": {
      "displayName": "Bibek Shiwakoti",
      "userId": "12870124355518867121"
     },
     "user_tz": 240
    },
    "id": "Zd-i4MBaKBla",
    "outputId": "cc5b198d-bdb7-4dd8-930c-e2e6a316d9a5"
   },
   "outputs": [
    {
     "name": "stdout",
     "output_type": "stream",
     "text": [
      "The purpose of this paper is to provide an overview of the theories, concepts and issues involved in the area of corporate finance \n",
      "and the implications for emerging economies. A secondary research appr oach was adopted based on a review of published texts, \n",
      "journals, and technical reports.  The results  of the study demonstrate that based on the indicators of capital market development, \n",
      "the high -income developing country of Trinidad and Tobago used as a case study, lags behind in critical areas of development o f \n",
      "its capital market and, along with related developing countries, can benefit fro m the fundamental principles involved in the \n",
      "practice of corporate finance. The practical implications of the study are the potential use by students in tertiary level instit utions \n",
      "engaged in MBA or financial management studies, participants pursuing professional qualifications  in accounting and finance, \n",
      "employees in financial institutions, and general stakeholders seeking to invest funds . The value of this paper is that it ex plores and \n",
      "presents data on an area of stu dy which is considered esoteric  and largely ignored in the formal literature on small developing \n",
      "states, particularly the island -states of the Caribbean. Its value further lies in its contribution to the understand ing of the field of \n",
      "corporate finance and related issues and identification of  implications for developing  economies. The research is limited to the \n",
      "extent that only secondary data sources were explored and insights from practitioners through interviews were not obtained thus \n",
      "pointing to scope for  future research.\n"
     ]
    }
   ],
   "source": [
    "import re\n",
    "\n",
    "\n",
    "\n",
    "# Use regular expressions to extract text between \"Abstract\" and \"Keywords\"\n",
    "# match = re.search(r'Abstract\\s(.*?)\\sKeywords:', text_i_str, re.DOTALL)\n",
    "match = re.search(r'(?i)abstract\\s(.*?)\\s(?i)keywords', text_i_str, re.DOTALL)\n",
    "if match:\n",
    "    reference_summary = match.group(1).strip()\n",
    "else:\n",
    "    raise ValueError(\"Could not find 'Abstract' or 'Keywords' in the document\")\n",
    "\n",
    "print(reference_summary)"
   ]
  },
  {
   "cell_type": "markdown",
   "metadata": {
    "id": "GvJjjJtjB-aS"
   },
   "source": [
    "# Step 9: Loading hugging face models and trying to summarize the pdf we have"
   ]
  },
  {
   "cell_type": "code",
   "execution_count": 53,
   "metadata": {
    "executionInfo": {
     "elapsed": 425,
     "status": "ok",
     "timestamp": 1722876620537,
     "user": {
      "displayName": "Bibek Shiwakoti",
      "userId": "12870124355518867121"
     },
     "user_tz": 240
    },
    "id": "U-To-bgeHCTS"
   },
   "outputs": [],
   "source": [
    "# from langchain import LLMChain, HuggingFaceHub"
   ]
  },
  {
   "cell_type": "code",
   "execution_count": 54,
   "metadata": {
    "colab": {
     "base_uri": "https://localhost:8080/"
    },
    "executionInfo": {
     "elapsed": 7,
     "status": "ok",
     "timestamp": 1722876620537,
     "user": {
      "displayName": "Bibek Shiwakoti",
      "userId": "12870124355518867121"
     },
     "user_tz": 240
    },
    "id": "HPPdZf2jCJk_",
    "outputId": "19719665-1550-426e-e21a-c2de229c357c"
   },
   "outputs": [
    {
     "data": {
      "text/plain": [
       "[Document(metadata={'source': '/content/CorporateFinance-IJMSBR.pdf', 'page': 0}, page_content='See discussions, st ats, and author pr ofiles f or this public ation at : https://www .researchgate.ne t/public ation/281557147\\nUnderstanding Corporate Finance: Experiences of Emerging Economies and\\nCase of a High-Income Small Developing Cou ntry\\nArticle  · July 2015\\nCITATIONS\\n0READS\\n7,262\\n1 author:\\nHav en Allahar\\nUniv ersity of the West Indies, St . Augustine\\n40 PUBLICA TIONS \\xa0\\xa0\\xa0230 CITATIONS \\xa0\\xa0\\xa0\\nSEE PROFILE\\nAll c ontent f ollo wing this p age was uplo aded b y Hav en Allahar  on 07 Sept ember 2015.\\nThe user has r equest ed enhanc ement of the do wnlo aded file.'),\n",
       " Document(metadata={'source': '/content/CorporateFinance-IJMSBR.pdf', 'page': 1}, page_content='International Journal of Management Sciences and Business Research, July -2015 ISSN (2226 -8235) Vol -4, Issue 7  \\nhttp://www.ijmsbr.com   Page 34 Understanding  Corporate  Finance : Experience of  Emerging Economies and Case of a High -Income \\nSmall Developing Country . \\n \\nAuthor Details:  \\nHaven Allahar - \\nArthur Lok Jack Graduate School of Business,  University of the West Indies, Trinidad and Tobago.  \\n \\nAbstract  \\n \\nThe purpose of this paper is to provide an overview of the theories, concepts and issues involved in the area of corporate finance \\nand the implications for emerging economies. A secondary research appr oach was adopted based on a review of published texts, \\njournals, and technical reports.  The results  of the study demonstrate that based on the indicators of capital market development, \\nthe high -income developing country of Trinidad and Tobago used as a case study, lags behind in critical areas of development o f \\nits capital market and, along with related developing countries, can benefit fro m the fundamental principles involved in the \\npractice of corporate finance. The practical implications of the study are the potential use by students in tertiary level instit utions \\nengaged in MBA or financial management studies, participants pursuing professional qualifications  in accounting and finance, \\nemployees in financial institutions, and general stakeholders seeking to invest funds . The value of this paper is that it ex plores and \\npresents data on an area of stu dy which is considered esoteric  and largely ignored in the formal literature on small developing \\nstates, particularly the island -states of the Caribbean. Its value further lies in its contribution to the understand ing of the field of \\ncorporate finance and related issues and identification of  implications for developing  economies. The research is limited to the \\nextent that only secondary data sources were explored and insights from practitioners through interviews were not obtained thus \\npointing to scope for  future research.  \\n \\nKeywords : Corporate finance, developing countries , emerging economies, financial investments.  \\n \\nIntroduction  \\n \\nCorporate finance (CF) differs from managerial finance with \\nthe latter applying  to th e financial management of all firms \\nas opposed to corporations , and CF was defined as “the area \\nof finance dealing with the corporate restructurings of \\npublicly traded companies and the actions that managers of \\nthese companies take to increase the firm‟s v alue, as well as \\nthe tools and analysis used to allocate financial resources ” \\n[1]. Thus, CF covers a broad range of transactions including: \\nraising seed, start -up, development, or expansion capital; \\nmergers and acquisitions; takeovers of public companies; \\nmanagement buy -outs; flotation of companies on a stock \\nexchange to raise capital or restructure ownership; raising \\ncapital through equity, debt, or other securities; raising \\ncapital through private equity, venture capital or real estate \\nfunds; and financin g joint -ventures, supplying project \\nfinance, providing infrastructure finance, public -private \\npartnerships, and pri vatization initiatives [2]. In a more \\ngeneral sense, Nguyen and Schüßler [3] described CF as the \\n“interaction between managers and investors and its impacts \\non fir m value” [3]. \\n \\nThe impetus for this study arises from the vital need for \\ngrasping the key concepts of corporate finance by  \\nprofessionals, political decision makers, university students \\nand other students at the tertiary level involved  in studies \\nrelated to CF, and general stakeholders  in the society who \\ninvest their funds expecting adequate returns for their future \\nactivities. CF is not as widely researched as the common \\nareas of business management such as human resources, \\nstrategy, a nd marketing; but is viewed as a field better left to \\nspecialist in finance. In particular, determining the capital \\nstructure of firms is acknowledged as one of the most \\ncontentious subjects in the theory of corporate finance, so \\nthat there is little conse nsus on exactly what drives the \\ncapital structure decision. Ehrhardt and Brigham [4] indicated that the theoretical work on capital structure of \\nfirms began 50 years ago with the work by Modigliani and \\nMiller (MM) which introduced the concept of market \\narbitrage claiming that the market value of a firm is \\nindependent of its capital structure. However, this theory \\nwas developed by excluding several cost items: brokerage; \\ntaxes; bankruptcy; transaction costs while also assuming that \\nall investors have the sam e information as management, and \\nearnings before interest and tax (EBIT) was not affected by \\ndebt [4]. \\n \\nThe subsequent literature on capital structures was discussed \\nby many researchers who recognized five main theories \\nwhich relaxed the MM assumptions and  comprised: static \\ntrade -off; information asymmetry; pecking order; agency \\ncost; and life stage theory. The static trade -off theory of \\ncapital structure predicts that firms should have less debt in \\nthe early and late life stages, and the most debt in the p rime \\nstage when bankruptcy cost are lowest and the tax shield \\nbenefits highest. Information asymmetry theory assumes \\nthat, managers of firms who are in possession of all the \\ninformation about a firm will share this information by their \\nchoice of capital st ructure which, in turn, will signal the \\nintentions of the management (Frielinghaus, Mostert, and \\nFirer, 2005; Tudose 2012; Amo -Yartey  and Abor , 2013).  \\nPecking order theory argues that firms have a hierarchy of \\npreferred financing which ranges from internal  equity to \\ndebt financing, then moves to external equity as a worst \\ncase. Agency cost theory suggests that firms should assume \\nprogressively more debt as they grow and argues that, firms \\nwith free cash flow as well as declining firms, have higher \\nagency co sts and should therefore attract higher debt levels. \\nCapital structure life stage theory argues that debt ratios \\nshould increase as the firm progresses through the early life \\nstages, however, the research on this is sparse, but like static \\ntrade -off theory , argues that debt ratios should follow a low -\\nhigh-low pattern over a firm‟s life [5, 6, 7] . '),\n",
       " Document(metadata={'source': '/content/CorporateFinance-IJMSBR.pdf', 'page': 2}, page_content='International Journal of Management Sciences and Business Research, July -2015 ISSN (2226 -8235) Vol -4, Issue 7  \\nhttp://www.ijmsbr.com   Page 35 At the operational level, it was  indicated that firms issue \\nequity much less frequently than debt which supports the \\npecking order hypothesis and the signalling  theory [4]. The \\npecking order hypothesis suggests that firms with a high \\nlevel of information asymmetry should issue debt before \\nequity which is more expensive. However, high growth \\nfirms which usually have greater informational asymmetry, \\nand could afford t o issue debt, often choose to issue equity. \\nThe hypothesis that investment opportunities influence \\nattempts to maintain reserve borrowing capacity and tax \\nconsiderations is supported by the evidence that many firms \\nhave less debt than might be expected, an d many have large \\namounts of short -term investments [4]. Erhardt and Brigham  \\n[4] concluded that “it appears that firms try to capture debt‟s \\ntax benefits while avoiding financial distress costs. \\nHowever, they also allow their debt ratios to deviate from \\nthe static optimal target ratio implied by trade -off theory” \\nwhile t here was some evidence that firms follow a pecking \\norder and use the issue of security as signals, but there was \\nconsiderable evidence in support of the window s of \\nopportunity theory [4]. \\n \\nThe argument in this paper is that, based on recent global \\nexperience of failures of large and small firms, the general \\npopulation in developed and developing countries must \\nacquire a basic understanding of CF and particularly the \\nrisks involved. Further, s tudents in the field have to translate \\ngreater understanding of the field to the promotion of \\n„behavioural corporate finance‟ as relevant to developing \\ncountries which are more vulnerable to downside risks. In \\nrespect of the theory of CF, Tudose [6] argued  that there was \\nno single, universally valid theory of CF but certain theories \\nexerted significant influence on the research of the field \\nwhich evolved from considerations of: benefit -cost analysis \\nwhich looks at balancing bankruptcy costs with tax shields  \\nfrom debt; the question of agency costs; information \\nasymmetries between managers and shareholders; CF \\nstructure based on industrial strategy and corporate \\norganization; and trade -off and pecking order theories [6]. \\nThis study is significant for policy ma king because of the \\nrecent experience, both in advanced countries and \\ndeveloping states, of having to bail out large companies , \\nincluding major financial institutions , with many citizens \\nlosing their savings.  The paper highlights the concepts \\ncritical to a nd more relevant to the understanding of CF in \\ndeveloping countries with special focus on: external \\nfunding; investments and risks; identification and \\napplication of financial ratios; the use of value -added \\nstatements (VAS); and with specific attention to  the case of \\na high -income developing country.  \\n \\nI. Research Approach and Methodology  \\n \\nThe research on CF  presented in this paper is aimed at \\nacquiring a deeper understanding of the key concepts \\ninvolved in the field and assessing the application of key \\nconcept s in developing countries and the case of TT . The \\nmethodology adopted was a qualitative research approach \\nwhich was limited to: collection and distillation of relevant \\nliterature on CF from leading business texts, relevant \\njournals obtained from the ABI/In form database; internet \\nkeyword searches; and assessment of the practice of CF in the context of the small high-income island state of TT  as a \\ncase study . The research process, consistent with \\nacknowledged qualitative p rocedures, was outlined by \\nCreswell [8] as involving: the researcher as the key \\ninstrument for conducting the research; multiple sources of \\ndata obtained from relevant  texts and peer reviewed \\njournals; a theoretical lens which seeks to identify the social \\nand political context of the issue st udied, and represents a \\nholistic account to better reflect the complex picture of the \\nstudy elements.  \\n \\nII. Review of the Concept of Capital Structure in \\nDeveloping Countries and Europe  \\n \\nThe role of managers is to choose the capital structure that \\nmaximizes sh areholders‟ wealth and Ehrhardt and Brigham \\n[4] sugges ted an approach of: developing a trial capital \\nstructure based on the market values of the debt and equity; \\nestimating the wealth of the shareholders under the \\nstructure; and repeating the process until  an acceptable \\ncapital structure is devised . The critical steps are: estimate \\nthe interest rate the firm will pay; estimate the cost of \\nequity; estimate the weighted average cost of capital; \\nestimate the free cash flows and their present value; and \\ndeduct the value of the debt to find shareholders‟ wealth (pp. \\n494-495).  The firm‟s optimal capital structure is the mix of \\ndebt and equity that maximizes the stock price and it was  \\nindicated that the factors that influence a firm‟s capital \\nstructure are: busine ss risk, tax position, financial flexibility, \\nmanagerial conservatism or aggressiveness, and growth \\nopportunities [4]. The WACC calculation is critical and the  \\nformula is:  \\nWACC = w\\ndr\\nd(1 - T) + w\\npsr\\nps + w\\ncer\\ns   \\nWhere:  \\nWd, ps, ces  represent the target wei ghts for debt, preferred  \\nstock , and common equity ;  \\nrd (1-T) is the after tax cost of debt . \\n \\nSharma [9] studied the capital structure of 12 firms in the \\nmanufacturing sector in India and found that an efficient \\nmix of capital reduces the cost of capital wh ich, in turn, \\nincreases net economic returns. Ultimately, the firm‟s value \\nis increased by the reduction in the cost of capital. Sharma  \\n[9] advised that, apart from deciding on a target capital \\nstructure, “a firm must manage its capital structure \\nsuccessfu lly by being aware of the imperfections in the \\ncapital market, taxes, and other practical factors which \\ninfluence the managing of capital structure” [9]. Sharma \\ninsisted that this task was even more difficult in developing \\ncountries because of factors such  as: perception of greater \\nuncertainty in taxes and the tax rate; existing or potential \\nimpediments to cross boundary flows of capital; higher \\nperceived risk of realization of the actual benefits of the \\ninvestments; relatively higher cost of capital; perce ptions \\nabout volatility in equity markets; and the absence of stable \\nlong-term capital markets [9]. \\n \\nCommercial banks are the dominant financial institutions in \\ndeveloping countries and m arket and credit risks are said to \\nbe at the core of the operations o f banks . Amidu [10] studied \\nthe main determinants of the capital structure of banks in \\nGhana in terms of profitability, growth, tax, assets structure, '),\n",
       " Document(metadata={'source': '/content/CorporateFinance-IJMSBR.pdf', 'page': 3}, page_content='International Journal of Management Sciences and Business Research, July -2015 ISSN (2226 -8235) Vol -4, Issue 7  \\nhttp://www.ijmsbr.com   Page 36 risk, and size  and found that the variables studied were \\nconsistent with the static trade -off and pecking  order \\ntheories except for risk, because Ghanaian banks‟ assets \\nwere financed by debts of which short -term debts \\nconstituted more than three quarters of the capital [10]. The \\nconclusion was  that profitability, growth, asset structure, and \\nbank size were im portant influences on capital structure  \\n[10]. Bancel and Mittoo [11] compared the managerial \\nviews on the determinants of capital structure across 16 \\nEuropean countries and found that, a country‟s institutional \\nstructure, especially its legal system, exert ed more influence \\non debt than on equity and concluded that the availability of \\nexternal financing was influenced primarily by its legal \\nenvironment. The overall finding was that most firms \\ndetermine their optimal capital structure by trading off \\nfactors s uch as tax advantage of debt, bankruptcy costs, \\nagency costs, and accessibility to external financing [11]. \\n \\nIII. External Funding : Sources and Estimating   \\nRequirements  \\n \\nIn the early stage of a firm‟s development, finance is \\ngenerally raised from internally sourced  funds from owners, \\nfamily, and friends. Firms often seek external funding in \\norder to expand production or services to a wider market or \\nto enter the export market. The act of seeking exter nal funds \\nis viewed by Eckhardt et al. [12]  as a multistage p rocess in \\nwhich founders first select the ventures to be financed and \\nthen financiers provide the finance , based on objective \\nevidence of performance. The matter of performance is not, \\nhowever, clear because the indication was  that owners select \\nventures t o be financed based on “perceptions of market \\ncompetition, market growth, and employment growth, while \\nfinanciers base funding decision s on…….. completion of \\norganizing activities, marketing activities, and the level of \\nsales” [12]. In turn, it was further  argued that “owners‟ \\nsearch for capital was often inefficient, unorganized, and \\nunsuccessful as a result of their lack of information about \\nalternative sources of funding” [13]. \\n \\nWith this background, the sources of external funding for a \\nfirm can be cate gorized into three broad areas: institutional \\nloans, venture capital, and private equity. Institutional loans \\nare sourced mainly from banks either from their commercial \\nretail branches  or from their merchant banking arms. Retail \\nbanks generally lend for re latively short periods and are not \\nappropriate for major capital projects. Merchant banks are \\nmore in the business of project financing and offer longer \\nterm loans, mortgages, and in some cases trade or export \\nfinancing. In developing countries, banks are the main \\nexternal source of business finance because the financial \\nsystem s are  underdeveloped. However, bank finance \\nremains a valid source of external funding for firms and this \\nsource can become more effective, if firms obtain a sound \\nunderstanding of th e various types of capital that can be \\naccessed [13]. \\n \\nVenture capital is a form of equity investment pr ovided by \\nventure capital firms and business angels  and in the U.S.  \\nventure capital funds are considered to be the dominant \\nsource of equity finance for  growth oriented technology -\\nbased firms  [14]. However, the firms that secure venture capital investments are typically at the expansion stage of \\ntheir evolution  and in  the UK, it was observed that less risky \\nlater stage expansion financing dominate the ven ture capital \\nindustry  [14]. An a lternative  to institutional venture capital  \\nis angel financing , and, internationally, the main sources of \\nangel finance are retired wealthy businessmen  and McNally  \\n[14] indicated that angels in the U.S. prefer providing fund s \\nto high-tech ventures and for seed capital and start -up firms . \\nFormal venture capital and angel financing are sources still \\nin their infancy in small developing count ries. However, \\nthese are sources  that can be developed if forums are \\narranged by busine ss associations where investors and \\ninvestees can meet.  \\n \\nIn the case of private equity,  firms can either issu e stocks on \\nthe market , or via an initial public offering ( IPO), or access  \\ncorporate venture funds. The issue of stock is relatively \\nstraightforwar d if there is an active stock exchange, \\nhowever, in many small developing countries, the stock \\nmarket is rudimentary  and funds are generally raised \\nthrough private placements . Pogue and Lall [15] indicated \\nthat, in a firm‟s financing decision, both  busines s and \\nfinancial risk must be assessed. The business risk is the risk \\nof an all equity financed firm, but the assumption of debt \\nfinance increases the uncertainty of returns to equity. An \\nIPO involves  considerable regulatory requirements which \\ncan be daunti ng for many firms , but can be attractive to a \\nfirm which demonstrates sound earnings performance.  \\n \\nIncreasingly, corporations are entering the corporate \\nventuring market and this trend was seen as a “unique \\nopportunity for cash -rich firms to capitalize on  the strength \\nof their balance sheets to become part of this evolution – by \\nbecoming providers of finance to the corporate world ” [16]. \\nIt was  also asserted  that the face of private equity is \\nchanging as the accept ed practice of acquiring cheap \\nstripping c osts, and selling at a profit is giving way  to \\nlonger -term portfolio management  approaches  [16]. In fact, \\nlarge corporations are now considering strategic partnerships \\nwith smaller firms and such strategically -oriented minority \\nequity investments are viewe d as part of a wider approach to \\nlarge firm -small firm collaboration  [14]. In such instances,  \\nthe “ combination of a small firm‟s know -how, inventive \\nefficiency and flexibility and a larger firm‟s financial, \\nproduction, marketing, and distribution resources  can \\nprovide opportunities for synergies that can contribute to \\nboth firms‟ competitive advantage ” [14]. There is potential \\nfor the development of strategic partnerships as a source of \\nexternal funds, particularly in developing countries . \\n \\nIn order to esti mate the external funds needed (EFN), firms \\ngenerally employ the standard formula : EFN = Required \\nincrease in assets – Increase in spontaneous liabilities – \\nIncrease in retained earnings expressed as:  \\nEFN = (A*/S o) ΔS – (L*/S o) ΔS – MS 1 (RR) [4].  \\nThis is considered the long method of forecasting the \\nexternal funds requirement and firms have tended to use \\nsources and uses of funds statement s to calculate the EFN as \\nforecasted uses – forecasted sources. This is a short method \\nwhich provides an indicative fi gure but is not fully reliable  \\nbecause t he formula must also be adjusted for the successive \\naccumulation of earnings retained from profits, if more than '),\n",
       " Document(metadata={'source': '/content/CorporateFinance-IJMSBR.pdf', 'page': 4}, page_content='International Journal of Management Sciences and Business Research, July -2015 ISSN (2226 -8235) Vol -4, Issue 7  \\nhttp://www.ijmsbr.com   Page 37 one year is forecasted [17].  A firm can also estimate its \\nexternal funding needs from its cash flow fo recast, provided \\nthe forecast is reliable in terms of the amount and timing of \\nthe flow. This can be tested through sensitivity analyses \\nwhich assess the effect on funding requirements of different \\nassumptions. The cash flow forecast must include: cash \\nflows from operating activities; interest payments and \\nreceipts; dividend payments and receipts; tax payments; loan \\nprincipal repayments; and capital expenditures [18]. \\n \\nThe main benefit of a  short -cut method is that it saves time \\nin avoiding the preparation of detailed statements. In cases \\nwhere there may be a lack of accuracy and incorrect timing, \\nCoyle [18] insisted  that “if financial planners develop a \\ntrack record of accurate quantitative forecasts, greater \\nreliance can be placed on their new forecasts” and effort s \\nshould be expended on arriving at a precise timing of cash \\nflows  [18]. A case was also made for firms adopt ing rolling \\nforecasts to manage their businesses more effectively, thus \\nmaking planning a continuous process [19] . Forecasting \\nfunding re quirements for a business that goes through a \\nlong-term cycle of growth and recession, calls for \\nanticipating the cash needs of the business between “the \\npeak point on the cycle and the point of maximum recession \\nin the market” [18].  \\n \\nIn the context of sm all businesses, Cheatham and Cheatham \\n[19] demonstrated how non -financial managers can use the \\nincome statement, statement of retained earnings, and \\ncomparative balance sheets and convert then to user friendly \\ntools. It was  felt that with these tools “proj ecting future \\nsources and uses of funds that will eventually be embodied \\nin balance sheet data is a simple, practical procedure that \\nreveals the financing limitations of the small business” [19]. \\n \\nIV. Portfolio Investments and Risk Implications  \\n \\nThe assumption  in financial management is that a firm seeks \\nto maximize its wealth which for a publicly traded firm \\nmeans maximizing the price of its common stock. The most \\nimportant determinants of stock price are risk and return and \\nthe most common statistical indicat or of an asset‟s risk is the \\nstandard deviation which is a measure of the dispersion \\naround the expected value of the asset. It was pointed out \\nthat these are the essential components of the capital assets \\npricing model (CAPM) which, although questioned in  recent \\ntimes, continues to be widely used by analysts  [20].  \\n \\nRisk is also viewed in terms of time and the variability of \\nthe returns, and, therefore the risk increases with the passage \\nof time based on the assumption that the longer an \\ninvestment asset i s held, the higher the risk because of future \\nuncertainty. Ideally, an investment manager seeks to create \\nan efficient portfolio which is one that maximizes return for \\na given level of risk or minimizes risk for a given level of \\nreturn. The statistical con cept of correlation, which \\nmeasures the relationship between a series of returns on an \\ninvestment, is what is used by analysts  and Gitman [20] \\nobserved that if two series move in the same direction, they \\nare said to be positively correlated, if they move i n opposite \\ndirections,  they are negatively correlated . However some \\nassets are uncorrelated in that there is no interaction between their returns , thus Gitman stated that such risk occupied a \\nposition midway between the positive and negative \\ncorrelations. Gitman argued that “combining negatively \\ncorrelated assets can reduce risk, not as effectively as \\ncombining negatively correlated assets, but more effectively \\nthan combining positively correlated assets” [20]. \\n \\nPogue and Lall [15] distinguished between the  risk of a \\nreturn on a security as systematic risk (dependent on market \\nforces) which is perfectly correlated, and unsystematic risk \\n(business specific) which is uncorrelated.  Market forces \\ninclude factors such as war, inflation, international incidents, \\nand political events , while business -specific risks include \\nstrikes, lawsuits, regulatory actions, death of a key \\nexecutive, and loss of an important account. The return on a \\nsecurity was therefore seen as the systematic return + \\nunsystematic return. Mishr a et al. [21]  studied the impact of \\nnon-conglomerate bank mergers, financed with stock, on \\nsystematic risk, unsystematic, and total risk, and concluded \\nthat the total and the unsystematic risk declined significantly \\ndue to the mergers, while no significant  change was \\nobserved in relation t o systematic risk after mergers . The \\nimpact of the measurement period on the size of the \\nsystematic risk of an asset and on the relationship between \\nthe systematic and unsystematic risk was studied by \\nSchneller [22] and de monstrated that the longer the horizon \\nof the investor, the higher will be the unsystematic: \\nsystematic risk ratio. The lesson learnt was  that the long -run \\ninvestor should not ignore the unsystematic element of an \\nasset‟s risk, for the contribution of each  asset to the total \\nvariance of the portfolio will result from the unsystematic \\nrisk [22]. \\n \\nThe question of cash flow volatility and systematic risk of a \\nportfolio is of considerable importance to investors bit it was \\nfound that there was no relationship b etween an insurance \\ncompany‟s risk management program and a firm‟s stock \\nbeta (systematic risk)  [23]. However, an insurance company \\nwith an asset value that is large in relation to future \\nopportunities will enjoy lower stock systematic risk when \\nthe total risk of operating cash flows are reduced. Further, \\ncash flow volatility reduction programs such as reinsurance \\nor hedging should be individually crafted for each firm and \\nfor speci fic periods in the firm‟s life [23] . It follows from \\nthe above discussion th at systematic risk is more closely \\nlinked to returns than unsystematic risk, because these risks \\nare totally outside of the control of the firm and usually \\nunpredictable. The firm is, however, capable of managing its \\nunsystematic risks by adopting best pra ctices in human \\nresource management, customer relations, and succession \\nplanning. The firm also has to keep the differences between \\nsystematic and unsystematic risk in mind so that this latter \\nrisk can be monitored especially in dealing with foreign \\nmarket s where political stability is an issue.  \\n \\nLubatkin and Chaterjee [24] argue that little is known about \\nthe relationship between corporate diversification and risk \\nand found that the relationship between diversification and \\nstock return risk was curvilinear  which indicates that there is \\nan optimal level of diversification for firms, and risk is best \\nminimized by a constrained strategy which is a midrange \\nlevel of diversification. The implication is that, to minimize '),\n",
       " Document(metadata={'source': '/content/CorporateFinance-IJMSBR.pdf', 'page': 5}, page_content='International Journal of Management Sciences and Business Research, July -2015 ISSN (2226 -8235) Vol -4, Issue 7  \\nhttp://www.ijmsbr.com   Page 38 risk, a firm should invest in a similar ba sket of securities \\nrather than the same or different baskets. This argument runs \\ncontrary to the conventional wisdom which asserts that \\nsystematic risk is non -diversifiable, but it was argued  that \\nthere is a diversifiable component to systematic risk  and \\nconcluded that that “diversifying into new markets for the \\nsole purpose of hedging corporate bets may be self -defeating \\nand may in crease corporate risk” [24]. The approach of a \\nfirm adopting a diversified investment portfolio which is \\nbalanced in terms of i nvestment instruments, duration, and \\ndegree of risk, seems to be the proper strategy.   \\n \\nV. Understanding Financial Ratio s and Firm \\nPerformance  \\n \\nThe aim of financial ratios is to provide indicators of a \\nfirm‟s past performance, and present financial condition \\nboth of which can serve as bases for the management to \\npredict future performance. A firm can utilize  a varied menu \\nof ratios which can be calculated using data from its \\nfinancial statements. These ratios have traditionally been \\ngrouped under five headings : liquidity, asset management, \\ndebt management, profitability, and market value  [4].  \\nLiquidity ratios show the relationship of a firm‟s currents \\nassets to its cu rrent liabilities which produce  its ability to \\nmeet maturing debt [4]. The liquidity of a busi ness firm is \\nmeasured by its ability to meet its short cash obligations \\nand, therefore, points to the overall solvency of the firm. \\nThe three basic measures of liq uidity are: net working \\ncapital;  the current ratio ; and the quick (acid -test) ratio. \\nAsset ma nagement ratios include inventory turnover, days \\nsales outstanding, fixed assets turnover, and total assets \\nturnover which  together measure how effectively a firm is \\nmanaging its assets. Debt management ratios comprise the \\ndebt ratio, times -interest earned , and the earning s before \\ninterest, taxes, depre ciation and amortization ( EBITDA ) \\ncoverage ratio which provide an insight into the level of debt \\nfinancing of the firm and the potential for defaulting on debt \\nobligations [20].  \\n \\nProfitability ratios are the  most important to a firm because \\nthey indicate the long term situation of the business. The \\nmain profitability ratios are: net profit margin, return on \\ninvestment (ROI), and return on equity (ROE). Net profit \\nmargin is obtained by dividing net profits aft er taxes by \\nsales and is the single most critical calculation the firm can \\nmake. The ROI is also the return on total assets and is a \\nmeasure of the effectiveness of management in generating \\nprofits. The ratio is obtained by net profits after taxes over \\ntotal assets. The ROE points to the return they can earn from \\ntheir investment in the firm and is obtained by dividing net \\nprofits after taxes by shareholders‟ equity. Market value \\nratios consist of the price/earnings, price/cash flow, and \\nmarket /book ratios and are used to relate the firm‟s stock \\nprice to its earnings, cash flow, and book value per share. \\nThese ratios provide “management with an indication of \\nwhat investors think of the company‟s past performance and \\nfuture prospects ” [4]. However , many  ratios do not convey \\nimportant characteristics of the company‟s financial \\nperformance or condition, and may be useless to decision \\nmakers. Currently, many companies are experiencing \\nfinancial distress and most companies will be monitoring their liquidity and pr ofitability ratios very closely. Sueyoshi  \\n[25] studied firms in the electric power industry and \\nexamined 10 traditional ratios covering liquidity, activity, \\nleverage, and profitability. Sueyoshi formulated what was \\ntermed a Data Envelope Analysis Discrimin ant Analysis \\n(DEA -DA). A discriminant analysis is used to determine \\nwhich variables discriminate between two or more naturally \\noccurring groups  and this analysis was extended to include a \\nMixed Integer Programming Model which used less \\nassumptions on group  distributions and concluded that both \\nleverage and profitability are important ratios in gauging \\ncorporate distress or bankruptcy  [25].  \\n \\nA different approach was taken by Osteryoung  et al. [26]  \\nwho compared large public and small private firms across a \\nlarge number of industry groups and concluded that there \\nwere significant differences among many of the industry \\naverage ratios. The lesson was that financial analysts should \\nensure that an appropriate industry average ratio should be \\nused for comparative p urposes.  The measurement of risk is \\na critical aspect of ratio analysis and Golding and Wambeke \\n[27] reviewed leverage, risk -based, stress tests and value -at- \\nrisk indicators of financial performance and recommended \\nthat “the best approach to risk measure ment combines the \\nuse of value -at-risk testing to evaluate certain risks under \\ntypical market conditions and stress testing to assess a firm‟s \\nvulnerability to extreme pressures ” [27] . An alternative \\napproach was  an „ enterprise stewardship model ‟ which  \\nfocused on the dividend yield ratio and compared the \\napproaches of traditional financial analysts who used the \\nanalytical method and those who tried to translate ratios into \\nindicators that everyone can understand. The conclusion was \\nthat the latter approach allowed non -executive directors of a \\ncompany to better understand the financial condition of a \\ncompany  [28].  \\n \\nVI. Financial Reporting and Value -Added Statements  \\n \\nThe typical financial statements included in financial \\nreporting are the income statement, balanc e sheet, and cash \\nflow. The presentation of these statements is largely in \\nstandard format as stipulated by the various regulatory \\naccounting bodies in accordance with generally accept ed \\naccounting practices (GAAP). VAS were viewed as “a \\nmodified form of t he income statement, reflecting the \\nincome of the company attributable to employees, \\ngovernment, and the providers of capital” [29]. The \\nintention of th e VAS was to supplement the income \\nstatement, not replace it, and the implication of including the \\nVAS i n financial reporting is that the management of \\ncompanies owes an obligation to all its stakeholders not only \\nthe shareholders.  Meek and Gray  [30] outlined five uses of \\nVAS including: helps to measure a company‟s success in \\nwealth creation and national in come generation; leads to \\ngreater awareness of the role of business in the production of \\ngoods and services and generating income for the society in \\ngeneral; highlights the interdependence of the multiple \\nstakeholders and the effect of their respective pol icy \\ndecisions; assists employees in shaping their attitudes about \\nequity and fair compensation; and contributes to the \\nformulation of productivity incentive schemes.  \\n '),\n",
       " Document(metadata={'source': '/content/CorporateFinance-IJMSBR.pdf', 'page': 6}, page_content='International Journal of Management Sciences and Business Research, July -2015 ISSN (2226 -8235) Vol -4, Issue 7  \\nhttp://www.ijmsbr.com   Page 39 Riahi -Belkaoui and Fekrat [31] evaluated the usefulness of \\naccrual accounting, cash flow accounting, and value -added \\nreporting and concluded that “lower variability and higher \\npersistency combined with a stronger association with \\nmarket -based measures of risk and a superior measure of \\nmanagerial performance make value -added based \\naccounting da ta potentially much more important and \\ninformative” than other traditional methods [31]. Further, \\nthe notion was advanced that accounting knowledge based \\npurely on GAAP while ignoring value added information, \\n“contributes to the erosion of decision quality ” [32]. In order \\nto facilitate the preparation of VAS, it was suggested a \\nstandardized VAS  statement be prepared which provides a \\nprecise measurement of each company‟s contribution to the \\ngrowth of a national economy, if cross -sectional and ratio \\nanalyses are to be beneficial  [33]. The overall benefit of \\nVAS  is that they enhance the depth of financial reporting \\nand provide greater understanding to stakeholders with a \\nnonfinancial background. The preparation of VAS does not \\nimpose a burden on firms because t he data are easily \\navailable from IT departments , and it was  argued that \\n“Addressing 21st century reporting requirements means \\nincreasing the availability of this nonfinancial operational \\ninformation” [34]. However, there are interpretational issues \\nto be resolved and the full benefits of VAS will be realized \\nonly when a standardized format is introduced, especially if \\ncross -sectional comparisons of company results are to be of \\nany value to analysts and stakeholders.  \\n \\nFinancial statements have been the mai n source of \\ninformation on the financial performance of firms, and \\ncompany directors have come to place considerable reliance \\non these statements although weaknesses have been pointed \\nout over time. These weaknesses relate mainly to the quality \\nof the base  data, the competence of the financial personnel, \\nand the integrity of the firm in presenting an accurate \\naccount of its performance. These matters have been \\nhighlighted within recent years by the collapse of leading \\nfinancial firms whose financial reporti ng was questioned.  \\nThe argument was advanced  that financial reporting has not \\nkept up with changes in bu siness conditions and practices, \\ntherefor e, greater emphasis should be placed on the cash \\nflow statement which should be reorganized to reflect cash \\ngenerated by business activities, cash required to be \\nreinvested for business growth and sustainability, and cash \\navailable to creditors and investors  [35]. An additional \\nsuggestion was  that the balance sheet should reflect the \\nsources of capital and the fina ncing and uses of capital, \\nwhile the earnings statement should reflect the business \\nstream of activities , and  for greater reliance, statements \\nshould be disaggregated so that all items of income and \\nexpenses are clearly presented [35].  \\n \\nVII. Experience of  Corp orate Finance in Select \\nDeveloping Countries  \\n \\nIt is accepted that the financial markets in emerging \\ncountries have experienced significant growth in recent \\nyears but such growth has not extended to the lower tier of \\ndeveloping countries even those experie ncing relatively high incomes. Financial market development is evidenced by the \\ngrowth of stock markets which Amo -Yartey and Abor [7] \\nattribute d to the expansion of financing options for firms to \\naccess external funds  and linked the importance of stock \\nmarkets to inflows of foreign capital to emerging \\neconomies.  Bokpin [36] accepted the value of stock market \\ndevelopment to overall capital market development because \\nit facilitated: substitution of external equity by internal \\nequity especially among family f irms; creation of new \\nopportunities for diversification through equity or debt \\nissues; and enhancement of information flows which address \\nthe asymmetry of information  obstacle to fund raising, \\nimprove ment in  corporate governance, and lower ing the cost \\nof capital to firms . However, the positive development of \\nstock markets in an emerging country context is not \\nnecessarily a sign of financial maturity because of the \\nlimited operations of the stock markets and the volume of \\ntrading [7].  \\n \\nThe bond market is th e significant alternative to the stock \\nmarket and this was the least developed component of the \\ncapital market in emerging countries due mainly to the \\ngovernment debt market a nd,  hence, was more suited to \\ninternal capital sources  [7]. However, it was sugg ested that \\nthe bond market be strengthened because of low er financing \\ncost to issuers  which provides advantages such as: “greater \\naccounting transparency; large community of financing \\nanalysts; respected rating; wide range of corporate debt \\nsecurities; der ivatives demanding sophisticated credit \\nanalysis, efficient procedures for corporate reorganization \\nand liquidation” [36]. Apart from the matter of the stock and \\nbond markets, the issue of capital structure de cisions was \\nviewed as critical in developing co untries and  a study of  \\nlocal ownership and capital structure decisions in Nigeria \\nacknowledged that ownership exerted influence on capital \\nstructure decisions but the degree and direction of the \\ninfluence remained open for questioning  [37]. Another \\ninfluen ce on decision making identified was the extent of \\ndiversified ownership which created opportunities for \\ngreater local partic ipation in corporate decisions [37]. \\n \\nVIII.  Case Study of Corporate Finance in a High -\\nIncome Developing Country  \\n \\nThe case of the small tw o-island Caribbean state of TT \\nrepresents the development of the capital market in a \\ncountry recently reclassified by the World Bank as a „high-\\nincome developing country ‟.  In a report on the economic \\nprospects of Latin America and the Caribbean (LAC), it was \\nsuggested that the economic risks were leaning towards the \\ndownside based on: insufficient macroeconomic adjustment \\namong the largest economies; financial volatility as a result \\nof monetary policy tightening in the U.S.; lower commodity \\nprices; fragile  recovery in the Euro zone; and questions \\nabout reduced growth in China [38].  These risks apply \\ndirectly to TT, especially reduced commodity prices for the \\nmain income generators of crude oil and natural gas, which \\nhave negatively impacted the country res ulting in downward \\nbudget adjustments  and downgrades by rating agencies such \\nas Moody‟s . \\n '),\n",
       " Document(metadata={'source': '/content/CorporateFinance-IJMSBR.pdf', 'page': 7}, page_content='International Journal of Management Sciences and Business Research, July -2015 ISSN (2226 -8235) Vol -4, Issue 7  \\nhttp://www.ijmsbr.com   Page 40 The combination of the risk profile and the budget \\ntightening by the government and business sectors was \\nreflected in activity of the capital market  (Table 1) . In t he \\ncase of the local stock market which had an average \\ncompany listing of 30 over the period 2009 to  2013, the \\ncomposite price index declined by 2.9 percent in 2014 after \\nan increase of 11.3 percent in 2013 , while the cross -listed \\nindex fell by 15.6 percen t in 2014. The overall fall was \\nattributed to a decline of 8.0 percent in the banking sub -\\nindex [39]. The primary bond market declined in 2014 for \\nthe third consecutive year while the secondary bond market \\ndeclined by 14.5 percent in 2014 over 2013 measure d by the \\nnumber of transactions [40] . The most accessible capital \\ninvestment vehicle in TT is mutual funds, both equity and \\nmoney market, and aggregate funds under management \\nincreased in 2014 after a decline in 2013 by 4.9 percent with \\nU.S. dollar funds i ncreasing by 4.4 percent as compared \\nwith a decline on 9.5 percent in 2013 [40].   \\n \\nThe evidence from the above indicators of capital market \\ndevelopment is that TT, although a high -income developing \\ncountry, lags behind in critical areas of development of its \\ncapital market. TT and related developing countries can \\nbenefit from the fundamental principles of CF espoused by \\nDamodaran [42] the practice of which: expects risk to be \\nrewarded; focuses on cash flows rather than accounting \\nincome; avoids mistaking m arkets and understands that  \\nevery decision impacts the firm‟s value; views CF as an integrated whole in terms of the impacts of investment \\ndecisions; depends on marketing managers, corporate \\nstrategists, human resource personnel, and information \\ntechnology  leaders to make better decisions from an \\nunderstanding of the discipline; requires creative thinking \\nnot only quantitative skills  derived from exploring \\ninnovation and change; and firms apply the t heories to real -\\nworld problem.  \\nIn this context, a vital f eature for CF practitioners in \\ndeveloping countries is to appreciate the increasing \\nimportance of behavioral CF because  finance research \\nindicates that traditional ideas of corporate governance may \\nbe too simplistic. Adler [43] argued that the board has to  \\nlook beyond finding the optimal incentive contract and \\ninstead find a CEO with the experience, personality, and \\nmanagement style suited to the company‟s actual challenges. \\nNguyen and Schüßler  [3] emphasized the responsibility of  \\nowners to “choose capable managers and to provide \\neffective incentives” if decisions are to be value -enhancing \\nand managers are to behave rationally  [3]. Theories from \\nbehavioral finance are at the forefront of explaining  \\ndifferences in corporate financial policies and capital \\nstructures and most importantly, behavioral CF has  \\nreintroduced humanity into the field which attracted \\nconsiderable negative reactions from the financial debacle of \\n2008 [43].  \\n \\n \\n \\n \\nTable 1: TT Capita l Market Development Indicators  \\nCapital Market Development  2008 2009  2010  2011  2012  2013  \\nListed Companies  34 32 31 31 28 29 \\nMarket Capitalization  (US $ Bn.)  12 11 12 15 15 18 \\nMarket Capitalization/GDP (%)  44 58 58 60 62 65 \\nComposite Stock Price Index \\n(1993=100)  843 765 836 1,013  1,065  1,18\\n5 \\nGovernment Bonds Iss ued (US$ \\nMn.)  190 436 713 238 397 486 \\nMutual Funds: Aggregate Fund \\nValues  (US $Mn.)  5816  5637  5659  5842  6308  6251  \\n                       Source: CBTT [41].  Figures rounded.  \\n \\n \\n \\n \\nConclusion s \\n \\nThe overwhelming conclusion of this review of the key \\nconcepts of  CF, the experiences of select developing \\ncountries, and the study of a high -income developing \\ncountry is that a broad range of citizens and stakeholders in \\ndeveloping countries must acquire a deeper understanding of \\nCF if the mistakes of the recent past a re to be avoided. A \\nmajor concept is that of sourcing external funds for a firm, \\nand while several sources can be tapped,  the appropriateness \\nof the source depends on the stage of maturity of the firm \\nand the dynamics of the industry. In this context, the paper highlighted the ways in which bank finance, venture capital, \\nand private equity, through corporate venturing, can become \\nmore viable options for the external funding of firms.   \\n \\nThe paper also endorses the recommendation that firms \\nshould adopt the p ractice of re -forecasting at perhaps \\nquarterly intervals or such periods as funding warrants  [19]. \\nFirms should also: make forecasting a management not a \\nmeasured process; separate the forecasting process from the \\ntarget setting and performance appraisal; use forecasts to \\nsupport strategy reviews; choose a forecasting horizon \\nlonger than the current year; make forecasting a fast process; '),\n",
       " Document(metadata={'source': '/content/CorporateFinance-IJMSBR.pdf', 'page': 8}, page_content=\"International Journal of Management Sciences and Business Research, July -2015 ISSN (2226 -8235) Vol -4, Issue 7  \\nhttp://www.ijmsbr.com   Page 41 choose the forecasting frequency appropriate to the type of \\nbusiness; base forecasts on a few key revenue and cost \\ndriver s; let forecasts serve as a risk management tool; reduce \\nthe dependency on spreadsheets; and carry out post -mortems \\non forecasts to imp rove their quality [19]. \\nThe issues of cash flow management and financial reporting \\nand disclosure requirements are german e to corporate \\ninvestment management and , as recognized by  Charan  [44], \\nprotecting cash flow is the most important challenge facing \\ncompanies, and project investment must now be gauged on \\ncash consumed, generated, and timing of cash generation.  \\nThe questio n of disclosure is also critical and Neuhausen \\n[45] saw the need to conform to the accounting standards  of both GAAP and  IASB to eliminate redundancies . A \\ndiversified invest ment  portfolio which balances invest ment  \\ninstruments, duration, and degree of risk,  is inescapable in \\nturbulent financial times. The recent global experience with \\nCF highlighted the need for an understanding of the nature \\nof the risks in the field  and the imperative for the firm to \\nmanage its unsystematic risks by adopting best practices  in \\nhuman resource management, customer relations, and \\nsuccession planning.   In this regard, the paper favors the \\nemphasis in developing countries on behavioral CF which \\nAdler [43] claimed has reintroduced humanity into the field  \\nwhich  goes to the heart of  the issues encountered by \\ndeveloping countries . \\n \\n \\nReferences  \\n \\n[1]   STANDS 4 LLC. (2015 ). Definition of Corporate   \\nFinance . [Online]. Available:  \\nhttp://www.definitions.net/definition/corporate \\nfinance  \\n \\n[2]   S. Beaney, (2011). What is corporate f inance  \\n[Online]. ICAEW, Corporate Finance Faculty . \\nAvailable:  \\nhttp://www.icaew.com/en/technical/corporate -\\nfinance/corporate -finance -faculty/what -is-\\ncorporate -finance -122299  \\n \\n[3]   T. Nguyen and A. Schüßler , “How to make better \\ndecisions? Lessons learned  from beh avioral \\ncorporate f inance ”, Inter . Business Research , vol. \\n6, no.1, pp. 187-195, 2013.  \\nhttp://dx.doi.org/10.5539/ibr.v61p187  \\n \\n[4]   M.B. Tudose,  “Corporate Finance Theories, \\nChallenges and Trajectorie s”, Management & \\nMarketing,  vol. 7, no. 2, pp. 277-294, 2012.  \\n \\n[5]  M.C. Ehrhardt and  E.F. Brigham,  Corpo rate \\nFinance a Focused A pproach . Mason, Ohio:  South -\\nWestern Cengage Learning, 2009.  \\n \\n [6]  A. Frielinghaus, B. Mostert, and C. Firer, “ Capital \\nstructure and the firm‟s life stage ”, South African J . \\nof Bus. Management, vol. 36, no. 4, pp.  9-17, 2005.   \\n \\n [7]  C. Amo -Yartey and J. Abor, “Corporate financial \\npolicies in  markets: The role of financial market  \\ndevelopment ”, Amer . J. of Business, vol. 28, no. 2, \\npp. 123-146, 2013 . doi: 10. 1108/AJB -052013 -\\n0035  \\n  \\n[8]  J.W. Creswell,  Research Design: Qualitative, \\nQuantitative, and Mixed Methods Approaches . \\nThousand  \\nOaks, California: SAGE Publications Inc., 2009.  \\n \\n \\n[9]  A.K. Sharma , A.K. “Financial leverage and firms' \\nvalue a study of capital structure of selected  manufacturing sector firms in India ”. The Business \\nReview , vol. 6, no. 2, pp. 70 -76, December 2006.  \\n \\n[10]      M. Amidu , “Determinants of capital structure of \\nbanks in Ghana: an empirica l approach ”, Baltic J . \\nof Management , vol. 2, no. 1, pp.  67-77, 2007.  \\ndoi:10.1108/17465260710720255  \\n \\n[11]  F. Bancel  and U.R. Mittoo, “ Cross -country \\ndeterminants of capital structure choice: A survey \\nof European firms ”, Financial Manage ., vol.33, no. \\n4, pp . 103-132, Winter 2004.   \\n \\n[12]       J.T. Eckhardt , S. Shane  and F. Delmar.  “Multistage \\nselection and the financing of new v entures , \\nManagemen t Sci ., vol. 52, Iss. 2, pp.  220-232, \\nFebruary  2006 . \\n \\n[13]      H.E. Van Auken , “Financing small technology -\\nbased companies: The relationship between \\nfamiliarity with capital and abil ity to price and \\nnegotiate investment ”, J. of Small Bus . \\nManag ement , 39(3) , 240 -259, July  2001.  \\n \\n[14]    K. McNally,  “Corporate  venture capital: The \\nfinancing of technology businesses ”, Inter. J. of \\nEntrepreneurial     Behaviour & Research , vol. 1, \\nno. 3, pp.  9-38, 1995. \\n \\n[15]    G.A. Pogue  and K. Lall, “Corporate finance: An \\noverview , Sloan Management Review , vol. 15, no. \\n3, pp.  19 -39, Spring 1974.  \\n \\n[16]     Anonymous , “Strategy: Financial evolution brings \\nsolutions ”, Fund Strategy , vol. 12, August 17, \\n2009.  \\n \\n[17]     R. Clarke and G. McQueen, Forecasting financial \\nstatements pro forma a nalysis . [Online].  August \\n2001.   \\n             Available: http://www.docstoc.com/docs/5287877  \\n \\n[18]     B.Coyle, Capital S tructuring . Chicago: Fitzroy \\nDearborn. 2000. Available:         \\nbooks.google.com/books?isbn=1579582540  \\n \"),\n",
       " Document(metadata={'source': '/content/CorporateFinance-IJMSBR.pdf', 'page': 9}, page_content='International Journal of Management Sciences and Business Research, July -2015 ISSN (2226 -8235) Vol -4, Issue 7  \\nhttp://www.ijmsbr.com   Page 42 [19]     R. Barrett  and J. Hope , “Re-forecasting  practice in \\nthe UK”, Measuring B usiness  Excellence , vol. 10, \\nno. 2, pp.  28 -40, 2006.  \\ndoi:10.1108/13683040610668684  \\n \\n[20]      L. Cheatham  and C.  Cheatham, “Utilizing fi nancial \\nstatements as cash flow planning and control tools ”.    \\nManagerial Finance , vol.  19, no. 8, pp.  35-49, \\n1993.  \\n \\n[21]        L.J. Gitman, Basic Managerial Finance. New York: \\nHarper & Row, 1987.  \\n \\n[22]   S. Mishra , A.J.  Prakash , G.V. Karels  and M.  \\nPeterson , “Bank mergers and components of risk: \\nAn evaluation ”, J. of Economics and Finance , vol. \\n2, no. 1, pp. 85 -97, Spring 2005.  \\n \\n[23]        M.I. Schneller, “Regression analysis for \\nmultiplicative phenomena and its implication for \\nthe measurement  of  investment risk ”, \\nManagement Science, vol. 22, no. 4,pp.  422-426, \\nDecember 1975.  \\n \\n[24]       N.A. Scordis, J. Barrese, and P. Wang, “ The impact \\nof cash flow volatility  on systematic risk ”, J. of \\nInsurance  Issues , vol. 31, no. 1, pp.  43–71, 2008.  \\n \\n[25]        M. Lubatkin and S. Chatterjee, “Extending modern \\nportfolio theory into the doma in of corporate  \\ndiversification: Does it apply ”. Academy of \\nManagement Journal, vol. 3, no. 1, pp. 109-136, \\nFebruary 1994.  \\n \\n[26]       T. Sueyoshi , “Financial ratio analysis of the electric \\npower industry ”, Asia - Pacific J . of Operational    \\nResearch , vol. 22, no. 3, pp.  349-377, September \\n2005.   \\n \\n[27]    J. Osteryoung, R.L. Con standt and D. Nast, \\n“Financial ratios in large public and small private \\nfirms ”, J. of Small Bus . Management, vol. 30, no. 3, \\npp. 35-45, July 19192.  \\n \\n[28]     E.L. Golding and C.A. Wambeke, “ Enough is \\nenough: A timely look at financial -soundness \\nmeasure s”, Secondary Mortgage Markets, vol. 15, \\nno. 1/2, pp. 28 -37, July 1998.   \\n \\n[29]        R. Bull, “ Financial ratios ”. Financial Management ,  \\npp. 34 -35, April 2005.   \\n \\n[30]       T.A. Lee, Company Financial R eporting (2nd ed.).  \\nBerkshire, England: Van Nostrand  \\nReinhold, 1982.   \\n \\n [31]    G.K. Meek  and S.J.  Gray,  “The value added \\nstatement: An innovation for U.S. companies ”, \\nAccounting Horizons , vol. 2, no. 2, pp . 73-82, June \\n1988.   \\n \\n[32]        A. Riahi -Belkaoui  and M.A. Fekrat, “The magic in value added: Merits of derived accounting  indicator \\nnumbers ”, Managerial Finance,  vol. 2, no. 9,  pp. 3 -\\n15, 1994.   \\n \\n[33]      R.D. Picur , “The effects of accounting knowledge \\non the omission of value added  information in \\nwealth measurement and distribution decisions ”, \\nReview of Acc t. & Finance , vol. 6, no.1, pp. 15-23, \\n2007.   \\ndoi: 10.1108/14757700 710725430  \\n \\n[34]       G. Arangies , C.  Mlambo , W.D.  Hamman  and B.W. \\nSteyn -Bruwer , “The value -added statement : An \\nappeal for standardisation ”, Management \\nDynamics , vol. 17, no. 1, pp.  31-44, 2008 . \\n \\n[35]       R.D. Kugel , “The Right Stu ff”, Business Finance , \\nvol. 14, no. 9, pp.  38-40, September 2009.    \\n \\n[36]    C. DiFabio, “Extreme makeover for f inancial \\nstatements ”, Financial Executive, vol. 25, no. 3, pp . \\n44-47, April 2009.  \\n \\n[37]     G. Bokpin, “Financial market development and \\ncorporate financing: Evidence from emerging \\neconomies ”, J. of Econ. Studies , vol. 37, no. 1, pp. \\n96-116, 2010.  doi: 10 .1108/01443581011012270  \\n \\n[38]   A.E. Ezeoha and F. Okafor, “Local corporate \\nownership and capital s tructure decisions in \\nNigeria: A developing country p erspective ”, \\nCorpo rate Governance , vol.10, no. 3, pp. 249 -260, \\n2010.   \\n  doi: 10. 1108/14720701011051893  \\n \\n[39]   World Ba nk Group,“ The Global Economy in \\nTransition” i n “Global Economic Prospects ”, \\nChapter 2: Latin America and the Caribbean , \\nInternational Bank for Reconstruction and \\nDevelopment, Washington, DC, U.S, June 2015. \\nAvailable:  http://www.worldbank.o rg \\n \\n[40]        Central Bank of Trinidad and Tobago  (CBTT: EB), \\n“Economic Bulletin ” February 2015,  Port of Spain, \\nTrinidad. Available: http://www.central -bank.org.tt  \\n \\n[41]      Central Bank of Trinidad and Tobago (CBTT: AES) , \\n“Annual Economic Survey 2014”,  2015,  Port of \\nSpain, Trinidad. Available: http://www.central -\\nbank.org.tt  \\n \\n[42]    Central Ban k of Trinidad and Tobago (CBTT),  \\n“Summary Economic Indicators ”, 2014 , Port of \\nSpain, Trinidad. Available: http://www.central -\\nbank.org.tt  \\n \\n[43]       A. Damodaran,  What is Corporate Finance , \\n[Online]. 2015. Available: \\nhttp://pages.stern.nyu.edu/~adamodar/New_Home_\\nPage/background/cfin.htm  \\n \\n[44]    D.E. Adler , “A behavioral theory of corporate '),\n",
       " Document(metadata={'source': '/content/CorporateFinance-IJMSBR.pdf', 'page': 10}, page_content='International Journal of Management Sciences and Business Research, July -2015 ISSN (2226 -8235) Vol -4, Issue 7  \\nhttp://www.ijmsbr.com   Page 43 finance ”, strategy+business , Issue 34, Spring 2004.  \\n \\n[45]       R. Charan, “A decisive direction ”, Intheblack, vol. \\n79, no. 3, p.  49, April 2009.  \\n \\n[46]      B. Neuhausen, “Achieving gr eater transparency ”, \\nDirectorship, vol. 35, no. 3, pp.  68-69, June/July \\n2009.   \\n \\n \\n \\n \\n \\n \\n \\n \\nView publication stats')]"
      ]
     },
     "execution_count": 54,
     "metadata": {},
     "output_type": "execute_result"
    }
   ],
   "source": [
    "docs"
   ]
  },
  {
   "cell_type": "code",
   "execution_count": 55,
   "metadata": {
    "executionInfo": {
     "elapsed": 5,
     "status": "ok",
     "timestamp": 1722876620538,
     "user": {
      "displayName": "Bibek Shiwakoti",
      "userId": "12870124355518867121"
     },
     "user_tz": 240
    },
    "id": "v3rAsWThFje7"
   },
   "outputs": [],
   "source": [
    "# os.environ['HUGGINGFACEHUB_API_TOKEN'] ='?'\n"
   ]
  },
  {
   "cell_type": "markdown",
   "metadata": {
    "id": "V8cZY26zNtDv"
   },
   "source": [
    "# Generating Summary with Bart with finetune"
   ]
  },
  {
   "cell_type": "code",
   "execution_count": 56,
   "metadata": {
    "colab": {
     "base_uri": "https://localhost:8080/",
     "height": 373
    },
    "executionInfo": {
     "elapsed": 26889,
     "status": "error",
     "timestamp": 1722876647422,
     "user": {
      "displayName": "Bibek Shiwakoti",
      "userId": "12870124355518867121"
     },
     "user_tz": 240
    },
    "id": "x8wNMpe3Pv1O",
    "outputId": "ce568d7e-c997-4b3e-c863-b67607351d40"
   },
   "outputs": [
    {
     "ename": "KeyboardInterrupt",
     "evalue": "",
     "output_type": "error",
     "traceback": [
      "\u001b[0;31m---------------------------------------------------------------------------\u001b[0m",
      "\u001b[0;31mKeyboardInterrupt\u001b[0m                         Traceback (most recent call last)",
      "\u001b[0;32m<ipython-input-56-43255b37f510>\u001b[0m in \u001b[0;36m<cell line: 18>\u001b[0;34m()\u001b[0m\n\u001b[1;32m     16\u001b[0m \u001b[0;31m# summary_ids = model.generate(inputs[\"input_ids\"], max_length=1500, min_length=150, do_sample=False)\u001b[0m\u001b[0;34m\u001b[0m\u001b[0;34m\u001b[0m\u001b[0m\n\u001b[1;32m     17\u001b[0m \u001b[0;34m\u001b[0m\u001b[0m\n\u001b[0;32m---> 18\u001b[0;31m summary_ids = model.generate(\n\u001b[0m\u001b[1;32m     19\u001b[0m     \u001b[0minputs\u001b[0m\u001b[0;34m[\u001b[0m\u001b[0;34m\"input_ids\"\u001b[0m\u001b[0;34m]\u001b[0m\u001b[0;34m,\u001b[0m\u001b[0;34m\u001b[0m\u001b[0;34m\u001b[0m\u001b[0m\n\u001b[1;32m     20\u001b[0m     \u001b[0mmax_length\u001b[0m\u001b[0;34m=\u001b[0m\u001b[0;36m2500\u001b[0m\u001b[0;34m,\u001b[0m\u001b[0;34m\u001b[0m\u001b[0;34m\u001b[0m\u001b[0m\n",
      "\u001b[0;32m/usr/local/lib/python3.10/dist-packages/torch/utils/_contextlib.py\u001b[0m in \u001b[0;36mdecorate_context\u001b[0;34m(*args, **kwargs)\u001b[0m\n\u001b[1;32m    113\u001b[0m     \u001b[0;32mdef\u001b[0m \u001b[0mdecorate_context\u001b[0m\u001b[0;34m(\u001b[0m\u001b[0;34m*\u001b[0m\u001b[0margs\u001b[0m\u001b[0;34m,\u001b[0m \u001b[0;34m**\u001b[0m\u001b[0mkwargs\u001b[0m\u001b[0;34m)\u001b[0m\u001b[0;34m:\u001b[0m\u001b[0;34m\u001b[0m\u001b[0;34m\u001b[0m\u001b[0m\n\u001b[1;32m    114\u001b[0m         \u001b[0;32mwith\u001b[0m \u001b[0mctx_factory\u001b[0m\u001b[0;34m(\u001b[0m\u001b[0;34m)\u001b[0m\u001b[0;34m:\u001b[0m\u001b[0;34m\u001b[0m\u001b[0;34m\u001b[0m\u001b[0m\n\u001b[0;32m--> 115\u001b[0;31m             \u001b[0;32mreturn\u001b[0m \u001b[0mfunc\u001b[0m\u001b[0;34m(\u001b[0m\u001b[0;34m*\u001b[0m\u001b[0margs\u001b[0m\u001b[0;34m,\u001b[0m \u001b[0;34m**\u001b[0m\u001b[0mkwargs\u001b[0m\u001b[0;34m)\u001b[0m\u001b[0;34m\u001b[0m\u001b[0;34m\u001b[0m\u001b[0m\n\u001b[0m\u001b[1;32m    116\u001b[0m \u001b[0;34m\u001b[0m\u001b[0m\n\u001b[1;32m    117\u001b[0m     \u001b[0;32mreturn\u001b[0m \u001b[0mdecorate_context\u001b[0m\u001b[0;34m\u001b[0m\u001b[0;34m\u001b[0m\u001b[0m\n",
      "\u001b[0;32m/usr/local/lib/python3.10/dist-packages/transformers/generation/utils.py\u001b[0m in \u001b[0;36mgenerate\u001b[0;34m(self, inputs, generation_config, logits_processor, stopping_criteria, prefix_allowed_tokens_fn, synced_gpus, assistant_model, streamer, negative_prompt_ids, negative_prompt_attention_mask, **kwargs)\u001b[0m\n\u001b[1;32m   1951\u001b[0m \u001b[0;34m\u001b[0m\u001b[0m\n\u001b[1;32m   1952\u001b[0m             \u001b[0;31m# 14. run beam sample\u001b[0m\u001b[0;34m\u001b[0m\u001b[0;34m\u001b[0m\u001b[0m\n\u001b[0;32m-> 1953\u001b[0;31m             result = self._beam_search(\n\u001b[0m\u001b[1;32m   1954\u001b[0m                 \u001b[0minput_ids\u001b[0m\u001b[0;34m,\u001b[0m\u001b[0;34m\u001b[0m\u001b[0;34m\u001b[0m\u001b[0m\n\u001b[1;32m   1955\u001b[0m                 \u001b[0mbeam_scorer\u001b[0m\u001b[0;34m,\u001b[0m\u001b[0;34m\u001b[0m\u001b[0;34m\u001b[0m\u001b[0m\n",
      "\u001b[0;32m/usr/local/lib/python3.10/dist-packages/transformers/generation/utils.py\u001b[0m in \u001b[0;36m_beam_search\u001b[0;34m(self, input_ids, beam_scorer, logits_processor, stopping_criteria, generation_config, synced_gpus, logits_warper, **model_kwargs)\u001b[0m\n\u001b[1;32m   2912\u001b[0m \u001b[0;34m\u001b[0m\u001b[0m\n\u001b[1;32m   2913\u001b[0m             \u001b[0;32melse\u001b[0m\u001b[0;34m:\u001b[0m  \u001b[0;31m# Unchanged original behavior\u001b[0m\u001b[0;34m\u001b[0m\u001b[0;34m\u001b[0m\u001b[0m\n\u001b[0;32m-> 2914\u001b[0;31m                 outputs = self(\n\u001b[0m\u001b[1;32m   2915\u001b[0m                     \u001b[0;34m**\u001b[0m\u001b[0mmodel_inputs\u001b[0m\u001b[0;34m,\u001b[0m\u001b[0;34m\u001b[0m\u001b[0;34m\u001b[0m\u001b[0m\n\u001b[1;32m   2916\u001b[0m                     \u001b[0mreturn_dict\u001b[0m\u001b[0;34m=\u001b[0m\u001b[0;32mTrue\u001b[0m\u001b[0;34m,\u001b[0m\u001b[0;34m\u001b[0m\u001b[0;34m\u001b[0m\u001b[0m\n",
      "\u001b[0;32m/usr/local/lib/python3.10/dist-packages/torch/nn/modules/module.py\u001b[0m in \u001b[0;36m_wrapped_call_impl\u001b[0;34m(self, *args, **kwargs)\u001b[0m\n\u001b[1;32m   1530\u001b[0m             \u001b[0;32mreturn\u001b[0m \u001b[0mself\u001b[0m\u001b[0;34m.\u001b[0m\u001b[0m_compiled_call_impl\u001b[0m\u001b[0;34m(\u001b[0m\u001b[0;34m*\u001b[0m\u001b[0margs\u001b[0m\u001b[0;34m,\u001b[0m \u001b[0;34m**\u001b[0m\u001b[0mkwargs\u001b[0m\u001b[0;34m)\u001b[0m  \u001b[0;31m# type: ignore[misc]\u001b[0m\u001b[0;34m\u001b[0m\u001b[0;34m\u001b[0m\u001b[0m\n\u001b[1;32m   1531\u001b[0m         \u001b[0;32melse\u001b[0m\u001b[0;34m:\u001b[0m\u001b[0;34m\u001b[0m\u001b[0;34m\u001b[0m\u001b[0m\n\u001b[0;32m-> 1532\u001b[0;31m             \u001b[0;32mreturn\u001b[0m \u001b[0mself\u001b[0m\u001b[0;34m.\u001b[0m\u001b[0m_call_impl\u001b[0m\u001b[0;34m(\u001b[0m\u001b[0;34m*\u001b[0m\u001b[0margs\u001b[0m\u001b[0;34m,\u001b[0m \u001b[0;34m**\u001b[0m\u001b[0mkwargs\u001b[0m\u001b[0;34m)\u001b[0m\u001b[0;34m\u001b[0m\u001b[0;34m\u001b[0m\u001b[0m\n\u001b[0m\u001b[1;32m   1533\u001b[0m \u001b[0;34m\u001b[0m\u001b[0m\n\u001b[1;32m   1534\u001b[0m     \u001b[0;32mdef\u001b[0m \u001b[0m_call_impl\u001b[0m\u001b[0;34m(\u001b[0m\u001b[0mself\u001b[0m\u001b[0;34m,\u001b[0m \u001b[0;34m*\u001b[0m\u001b[0margs\u001b[0m\u001b[0;34m,\u001b[0m \u001b[0;34m**\u001b[0m\u001b[0mkwargs\u001b[0m\u001b[0;34m)\u001b[0m\u001b[0;34m:\u001b[0m\u001b[0;34m\u001b[0m\u001b[0;34m\u001b[0m\u001b[0m\n",
      "\u001b[0;32m/usr/local/lib/python3.10/dist-packages/torch/nn/modules/module.py\u001b[0m in \u001b[0;36m_call_impl\u001b[0;34m(self, *args, **kwargs)\u001b[0m\n\u001b[1;32m   1539\u001b[0m                 \u001b[0;32mor\u001b[0m \u001b[0m_global_backward_pre_hooks\u001b[0m \u001b[0;32mor\u001b[0m \u001b[0m_global_backward_hooks\u001b[0m\u001b[0;34m\u001b[0m\u001b[0;34m\u001b[0m\u001b[0m\n\u001b[1;32m   1540\u001b[0m                 or _global_forward_hooks or _global_forward_pre_hooks):\n\u001b[0;32m-> 1541\u001b[0;31m             \u001b[0;32mreturn\u001b[0m \u001b[0mforward_call\u001b[0m\u001b[0;34m(\u001b[0m\u001b[0;34m*\u001b[0m\u001b[0margs\u001b[0m\u001b[0;34m,\u001b[0m \u001b[0;34m**\u001b[0m\u001b[0mkwargs\u001b[0m\u001b[0;34m)\u001b[0m\u001b[0;34m\u001b[0m\u001b[0;34m\u001b[0m\u001b[0m\n\u001b[0m\u001b[1;32m   1542\u001b[0m \u001b[0;34m\u001b[0m\u001b[0m\n\u001b[1;32m   1543\u001b[0m         \u001b[0;32mtry\u001b[0m\u001b[0;34m:\u001b[0m\u001b[0;34m\u001b[0m\u001b[0;34m\u001b[0m\u001b[0m\n",
      "\u001b[0;32m/usr/local/lib/python3.10/dist-packages/transformers/models/bart/modeling_bart.py\u001b[0m in \u001b[0;36mforward\u001b[0;34m(self, input_ids, attention_mask, decoder_input_ids, decoder_attention_mask, head_mask, decoder_head_mask, cross_attn_head_mask, encoder_outputs, past_key_values, inputs_embeds, decoder_inputs_embeds, labels, use_cache, output_attentions, output_hidden_states, return_dict)\u001b[0m\n\u001b[1;32m   1745\u001b[0m                 )\n\u001b[1;32m   1746\u001b[0m \u001b[0;34m\u001b[0m\u001b[0m\n\u001b[0;32m-> 1747\u001b[0;31m         outputs = self.model(\n\u001b[0m\u001b[1;32m   1748\u001b[0m             \u001b[0minput_ids\u001b[0m\u001b[0;34m,\u001b[0m\u001b[0;34m\u001b[0m\u001b[0;34m\u001b[0m\u001b[0m\n\u001b[1;32m   1749\u001b[0m             \u001b[0mattention_mask\u001b[0m\u001b[0;34m=\u001b[0m\u001b[0mattention_mask\u001b[0m\u001b[0;34m,\u001b[0m\u001b[0;34m\u001b[0m\u001b[0;34m\u001b[0m\u001b[0m\n",
      "\u001b[0;32m/usr/local/lib/python3.10/dist-packages/torch/nn/modules/module.py\u001b[0m in \u001b[0;36m_wrapped_call_impl\u001b[0;34m(self, *args, **kwargs)\u001b[0m\n\u001b[1;32m   1530\u001b[0m             \u001b[0;32mreturn\u001b[0m \u001b[0mself\u001b[0m\u001b[0;34m.\u001b[0m\u001b[0m_compiled_call_impl\u001b[0m\u001b[0;34m(\u001b[0m\u001b[0;34m*\u001b[0m\u001b[0margs\u001b[0m\u001b[0;34m,\u001b[0m \u001b[0;34m**\u001b[0m\u001b[0mkwargs\u001b[0m\u001b[0;34m)\u001b[0m  \u001b[0;31m# type: ignore[misc]\u001b[0m\u001b[0;34m\u001b[0m\u001b[0;34m\u001b[0m\u001b[0m\n\u001b[1;32m   1531\u001b[0m         \u001b[0;32melse\u001b[0m\u001b[0;34m:\u001b[0m\u001b[0;34m\u001b[0m\u001b[0;34m\u001b[0m\u001b[0m\n\u001b[0;32m-> 1532\u001b[0;31m             \u001b[0;32mreturn\u001b[0m \u001b[0mself\u001b[0m\u001b[0;34m.\u001b[0m\u001b[0m_call_impl\u001b[0m\u001b[0;34m(\u001b[0m\u001b[0;34m*\u001b[0m\u001b[0margs\u001b[0m\u001b[0;34m,\u001b[0m \u001b[0;34m**\u001b[0m\u001b[0mkwargs\u001b[0m\u001b[0;34m)\u001b[0m\u001b[0;34m\u001b[0m\u001b[0;34m\u001b[0m\u001b[0m\n\u001b[0m\u001b[1;32m   1533\u001b[0m \u001b[0;34m\u001b[0m\u001b[0m\n\u001b[1;32m   1534\u001b[0m     \u001b[0;32mdef\u001b[0m \u001b[0m_call_impl\u001b[0m\u001b[0;34m(\u001b[0m\u001b[0mself\u001b[0m\u001b[0;34m,\u001b[0m \u001b[0;34m*\u001b[0m\u001b[0margs\u001b[0m\u001b[0;34m,\u001b[0m \u001b[0;34m**\u001b[0m\u001b[0mkwargs\u001b[0m\u001b[0;34m)\u001b[0m\u001b[0;34m:\u001b[0m\u001b[0;34m\u001b[0m\u001b[0;34m\u001b[0m\u001b[0m\n",
      "\u001b[0;32m/usr/local/lib/python3.10/dist-packages/torch/nn/modules/module.py\u001b[0m in \u001b[0;36m_call_impl\u001b[0;34m(self, *args, **kwargs)\u001b[0m\n\u001b[1;32m   1539\u001b[0m                 \u001b[0;32mor\u001b[0m \u001b[0m_global_backward_pre_hooks\u001b[0m \u001b[0;32mor\u001b[0m \u001b[0m_global_backward_hooks\u001b[0m\u001b[0;34m\u001b[0m\u001b[0;34m\u001b[0m\u001b[0m\n\u001b[1;32m   1540\u001b[0m                 or _global_forward_hooks or _global_forward_pre_hooks):\n\u001b[0;32m-> 1541\u001b[0;31m             \u001b[0;32mreturn\u001b[0m \u001b[0mforward_call\u001b[0m\u001b[0;34m(\u001b[0m\u001b[0;34m*\u001b[0m\u001b[0margs\u001b[0m\u001b[0;34m,\u001b[0m \u001b[0;34m**\u001b[0m\u001b[0mkwargs\u001b[0m\u001b[0;34m)\u001b[0m\u001b[0;34m\u001b[0m\u001b[0;34m\u001b[0m\u001b[0m\n\u001b[0m\u001b[1;32m   1542\u001b[0m \u001b[0;34m\u001b[0m\u001b[0m\n\u001b[1;32m   1543\u001b[0m         \u001b[0;32mtry\u001b[0m\u001b[0;34m:\u001b[0m\u001b[0;34m\u001b[0m\u001b[0;34m\u001b[0m\u001b[0m\n",
      "\u001b[0;32m/usr/local/lib/python3.10/dist-packages/transformers/models/bart/modeling_bart.py\u001b[0m in \u001b[0;36mforward\u001b[0;34m(self, input_ids, attention_mask, decoder_input_ids, decoder_attention_mask, head_mask, decoder_head_mask, cross_attn_head_mask, encoder_outputs, past_key_values, inputs_embeds, decoder_inputs_embeds, use_cache, output_attentions, output_hidden_states, return_dict)\u001b[0m\n\u001b[1;32m   1631\u001b[0m \u001b[0;34m\u001b[0m\u001b[0m\n\u001b[1;32m   1632\u001b[0m         \u001b[0;31m# decoder outputs consists of (dec_features, past_key_value, dec_hidden, dec_attn)\u001b[0m\u001b[0;34m\u001b[0m\u001b[0;34m\u001b[0m\u001b[0m\n\u001b[0;32m-> 1633\u001b[0;31m         decoder_outputs = self.decoder(\n\u001b[0m\u001b[1;32m   1634\u001b[0m             \u001b[0minput_ids\u001b[0m\u001b[0;34m=\u001b[0m\u001b[0mdecoder_input_ids\u001b[0m\u001b[0;34m,\u001b[0m\u001b[0;34m\u001b[0m\u001b[0;34m\u001b[0m\u001b[0m\n\u001b[1;32m   1635\u001b[0m             \u001b[0mattention_mask\u001b[0m\u001b[0;34m=\u001b[0m\u001b[0mdecoder_attention_mask\u001b[0m\u001b[0;34m,\u001b[0m\u001b[0;34m\u001b[0m\u001b[0;34m\u001b[0m\u001b[0m\n",
      "\u001b[0;32m/usr/local/lib/python3.10/dist-packages/torch/nn/modules/module.py\u001b[0m in \u001b[0;36m_wrapped_call_impl\u001b[0;34m(self, *args, **kwargs)\u001b[0m\n\u001b[1;32m   1530\u001b[0m             \u001b[0;32mreturn\u001b[0m \u001b[0mself\u001b[0m\u001b[0;34m.\u001b[0m\u001b[0m_compiled_call_impl\u001b[0m\u001b[0;34m(\u001b[0m\u001b[0;34m*\u001b[0m\u001b[0margs\u001b[0m\u001b[0;34m,\u001b[0m \u001b[0;34m**\u001b[0m\u001b[0mkwargs\u001b[0m\u001b[0;34m)\u001b[0m  \u001b[0;31m# type: ignore[misc]\u001b[0m\u001b[0;34m\u001b[0m\u001b[0;34m\u001b[0m\u001b[0m\n\u001b[1;32m   1531\u001b[0m         \u001b[0;32melse\u001b[0m\u001b[0;34m:\u001b[0m\u001b[0;34m\u001b[0m\u001b[0;34m\u001b[0m\u001b[0m\n\u001b[0;32m-> 1532\u001b[0;31m             \u001b[0;32mreturn\u001b[0m \u001b[0mself\u001b[0m\u001b[0;34m.\u001b[0m\u001b[0m_call_impl\u001b[0m\u001b[0;34m(\u001b[0m\u001b[0;34m*\u001b[0m\u001b[0margs\u001b[0m\u001b[0;34m,\u001b[0m \u001b[0;34m**\u001b[0m\u001b[0mkwargs\u001b[0m\u001b[0;34m)\u001b[0m\u001b[0;34m\u001b[0m\u001b[0;34m\u001b[0m\u001b[0m\n\u001b[0m\u001b[1;32m   1533\u001b[0m \u001b[0;34m\u001b[0m\u001b[0m\n\u001b[1;32m   1534\u001b[0m     \u001b[0;32mdef\u001b[0m \u001b[0m_call_impl\u001b[0m\u001b[0;34m(\u001b[0m\u001b[0mself\u001b[0m\u001b[0;34m,\u001b[0m \u001b[0;34m*\u001b[0m\u001b[0margs\u001b[0m\u001b[0;34m,\u001b[0m \u001b[0;34m**\u001b[0m\u001b[0mkwargs\u001b[0m\u001b[0;34m)\u001b[0m\u001b[0;34m:\u001b[0m\u001b[0;34m\u001b[0m\u001b[0;34m\u001b[0m\u001b[0m\n",
      "\u001b[0;32m/usr/local/lib/python3.10/dist-packages/torch/nn/modules/module.py\u001b[0m in \u001b[0;36m_call_impl\u001b[0;34m(self, *args, **kwargs)\u001b[0m\n\u001b[1;32m   1539\u001b[0m                 \u001b[0;32mor\u001b[0m \u001b[0m_global_backward_pre_hooks\u001b[0m \u001b[0;32mor\u001b[0m \u001b[0m_global_backward_hooks\u001b[0m\u001b[0;34m\u001b[0m\u001b[0;34m\u001b[0m\u001b[0m\n\u001b[1;32m   1540\u001b[0m                 or _global_forward_hooks or _global_forward_pre_hooks):\n\u001b[0;32m-> 1541\u001b[0;31m             \u001b[0;32mreturn\u001b[0m \u001b[0mforward_call\u001b[0m\u001b[0;34m(\u001b[0m\u001b[0;34m*\u001b[0m\u001b[0margs\u001b[0m\u001b[0;34m,\u001b[0m \u001b[0;34m**\u001b[0m\u001b[0mkwargs\u001b[0m\u001b[0;34m)\u001b[0m\u001b[0;34m\u001b[0m\u001b[0;34m\u001b[0m\u001b[0m\n\u001b[0m\u001b[1;32m   1542\u001b[0m \u001b[0;34m\u001b[0m\u001b[0m\n\u001b[1;32m   1543\u001b[0m         \u001b[0;32mtry\u001b[0m\u001b[0;34m:\u001b[0m\u001b[0;34m\u001b[0m\u001b[0;34m\u001b[0m\u001b[0m\n",
      "\u001b[0;32m/usr/local/lib/python3.10/dist-packages/transformers/models/bart/modeling_bart.py\u001b[0m in \u001b[0;36mforward\u001b[0;34m(self, input_ids, attention_mask, encoder_hidden_states, encoder_attention_mask, head_mask, cross_attn_head_mask, past_key_values, inputs_embeds, use_cache, output_attentions, output_hidden_states, return_dict)\u001b[0m\n\u001b[1;32m   1484\u001b[0m                 )\n\u001b[1;32m   1485\u001b[0m             \u001b[0;32melse\u001b[0m\u001b[0;34m:\u001b[0m\u001b[0;34m\u001b[0m\u001b[0;34m\u001b[0m\u001b[0m\n\u001b[0;32m-> 1486\u001b[0;31m                 layer_outputs = decoder_layer(\n\u001b[0m\u001b[1;32m   1487\u001b[0m                     \u001b[0mhidden_states\u001b[0m\u001b[0;34m,\u001b[0m\u001b[0;34m\u001b[0m\u001b[0;34m\u001b[0m\u001b[0m\n\u001b[1;32m   1488\u001b[0m                     \u001b[0mattention_mask\u001b[0m\u001b[0;34m=\u001b[0m\u001b[0mattention_mask\u001b[0m\u001b[0;34m,\u001b[0m\u001b[0;34m\u001b[0m\u001b[0;34m\u001b[0m\u001b[0m\n",
      "\u001b[0;32m/usr/local/lib/python3.10/dist-packages/torch/nn/modules/module.py\u001b[0m in \u001b[0;36m_wrapped_call_impl\u001b[0;34m(self, *args, **kwargs)\u001b[0m\n\u001b[1;32m   1530\u001b[0m             \u001b[0;32mreturn\u001b[0m \u001b[0mself\u001b[0m\u001b[0;34m.\u001b[0m\u001b[0m_compiled_call_impl\u001b[0m\u001b[0;34m(\u001b[0m\u001b[0;34m*\u001b[0m\u001b[0margs\u001b[0m\u001b[0;34m,\u001b[0m \u001b[0;34m**\u001b[0m\u001b[0mkwargs\u001b[0m\u001b[0;34m)\u001b[0m  \u001b[0;31m# type: ignore[misc]\u001b[0m\u001b[0;34m\u001b[0m\u001b[0;34m\u001b[0m\u001b[0m\n\u001b[1;32m   1531\u001b[0m         \u001b[0;32melse\u001b[0m\u001b[0;34m:\u001b[0m\u001b[0;34m\u001b[0m\u001b[0;34m\u001b[0m\u001b[0m\n\u001b[0;32m-> 1532\u001b[0;31m             \u001b[0;32mreturn\u001b[0m \u001b[0mself\u001b[0m\u001b[0;34m.\u001b[0m\u001b[0m_call_impl\u001b[0m\u001b[0;34m(\u001b[0m\u001b[0;34m*\u001b[0m\u001b[0margs\u001b[0m\u001b[0;34m,\u001b[0m \u001b[0;34m**\u001b[0m\u001b[0mkwargs\u001b[0m\u001b[0;34m)\u001b[0m\u001b[0;34m\u001b[0m\u001b[0;34m\u001b[0m\u001b[0m\n\u001b[0m\u001b[1;32m   1533\u001b[0m \u001b[0;34m\u001b[0m\u001b[0m\n\u001b[1;32m   1534\u001b[0m     \u001b[0;32mdef\u001b[0m \u001b[0m_call_impl\u001b[0m\u001b[0;34m(\u001b[0m\u001b[0mself\u001b[0m\u001b[0;34m,\u001b[0m \u001b[0;34m*\u001b[0m\u001b[0margs\u001b[0m\u001b[0;34m,\u001b[0m \u001b[0;34m**\u001b[0m\u001b[0mkwargs\u001b[0m\u001b[0;34m)\u001b[0m\u001b[0;34m:\u001b[0m\u001b[0;34m\u001b[0m\u001b[0;34m\u001b[0m\u001b[0m\n",
      "\u001b[0;32m/usr/local/lib/python3.10/dist-packages/torch/nn/modules/module.py\u001b[0m in \u001b[0;36m_call_impl\u001b[0;34m(self, *args, **kwargs)\u001b[0m\n\u001b[1;32m   1539\u001b[0m                 \u001b[0;32mor\u001b[0m \u001b[0m_global_backward_pre_hooks\u001b[0m \u001b[0;32mor\u001b[0m \u001b[0m_global_backward_hooks\u001b[0m\u001b[0;34m\u001b[0m\u001b[0;34m\u001b[0m\u001b[0m\n\u001b[1;32m   1540\u001b[0m                 or _global_forward_hooks or _global_forward_pre_hooks):\n\u001b[0;32m-> 1541\u001b[0;31m             \u001b[0;32mreturn\u001b[0m \u001b[0mforward_call\u001b[0m\u001b[0;34m(\u001b[0m\u001b[0;34m*\u001b[0m\u001b[0margs\u001b[0m\u001b[0;34m,\u001b[0m \u001b[0;34m**\u001b[0m\u001b[0mkwargs\u001b[0m\u001b[0;34m)\u001b[0m\u001b[0;34m\u001b[0m\u001b[0;34m\u001b[0m\u001b[0m\n\u001b[0m\u001b[1;32m   1542\u001b[0m \u001b[0;34m\u001b[0m\u001b[0m\n\u001b[1;32m   1543\u001b[0m         \u001b[0;32mtry\u001b[0m\u001b[0;34m:\u001b[0m\u001b[0;34m\u001b[0m\u001b[0;34m\u001b[0m\u001b[0m\n",
      "\u001b[0;32m/usr/local/lib/python3.10/dist-packages/transformers/models/bart/modeling_bart.py\u001b[0m in \u001b[0;36mforward\u001b[0;34m(self, hidden_states, attention_mask, encoder_hidden_states, encoder_attention_mask, layer_head_mask, cross_attn_layer_head_mask, past_key_value, output_attentions, use_cache)\u001b[0m\n\u001b[1;32m    789\u001b[0m             \u001b[0;31m# cross_attn cached key/values tuple is at positions 3,4 of present_key_value tuple\u001b[0m\u001b[0;34m\u001b[0m\u001b[0;34m\u001b[0m\u001b[0m\n\u001b[1;32m    790\u001b[0m             \u001b[0mcross_attn_past_key_value\u001b[0m \u001b[0;34m=\u001b[0m \u001b[0mpast_key_value\u001b[0m\u001b[0;34m[\u001b[0m\u001b[0;34m-\u001b[0m\u001b[0;36m2\u001b[0m\u001b[0;34m:\u001b[0m\u001b[0;34m]\u001b[0m \u001b[0;32mif\u001b[0m \u001b[0mpast_key_value\u001b[0m \u001b[0;32mis\u001b[0m \u001b[0;32mnot\u001b[0m \u001b[0;32mNone\u001b[0m \u001b[0;32melse\u001b[0m \u001b[0;32mNone\u001b[0m\u001b[0;34m\u001b[0m\u001b[0;34m\u001b[0m\u001b[0m\n\u001b[0;32m--> 791\u001b[0;31m             hidden_states, cross_attn_weights, cross_attn_present_key_value = self.encoder_attn(\n\u001b[0m\u001b[1;32m    792\u001b[0m                 \u001b[0mhidden_states\u001b[0m\u001b[0;34m=\u001b[0m\u001b[0mhidden_states\u001b[0m\u001b[0;34m,\u001b[0m\u001b[0;34m\u001b[0m\u001b[0;34m\u001b[0m\u001b[0m\n\u001b[1;32m    793\u001b[0m                 \u001b[0mkey_value_states\u001b[0m\u001b[0;34m=\u001b[0m\u001b[0mencoder_hidden_states\u001b[0m\u001b[0;34m,\u001b[0m\u001b[0;34m\u001b[0m\u001b[0;34m\u001b[0m\u001b[0m\n",
      "\u001b[0;32m/usr/local/lib/python3.10/dist-packages/torch/nn/modules/module.py\u001b[0m in \u001b[0;36m_wrapped_call_impl\u001b[0;34m(self, *args, **kwargs)\u001b[0m\n\u001b[1;32m   1530\u001b[0m             \u001b[0;32mreturn\u001b[0m \u001b[0mself\u001b[0m\u001b[0;34m.\u001b[0m\u001b[0m_compiled_call_impl\u001b[0m\u001b[0;34m(\u001b[0m\u001b[0;34m*\u001b[0m\u001b[0margs\u001b[0m\u001b[0;34m,\u001b[0m \u001b[0;34m**\u001b[0m\u001b[0mkwargs\u001b[0m\u001b[0;34m)\u001b[0m  \u001b[0;31m# type: ignore[misc]\u001b[0m\u001b[0;34m\u001b[0m\u001b[0;34m\u001b[0m\u001b[0m\n\u001b[1;32m   1531\u001b[0m         \u001b[0;32melse\u001b[0m\u001b[0;34m:\u001b[0m\u001b[0;34m\u001b[0m\u001b[0;34m\u001b[0m\u001b[0m\n\u001b[0;32m-> 1532\u001b[0;31m             \u001b[0;32mreturn\u001b[0m \u001b[0mself\u001b[0m\u001b[0;34m.\u001b[0m\u001b[0m_call_impl\u001b[0m\u001b[0;34m(\u001b[0m\u001b[0;34m*\u001b[0m\u001b[0margs\u001b[0m\u001b[0;34m,\u001b[0m \u001b[0;34m**\u001b[0m\u001b[0mkwargs\u001b[0m\u001b[0;34m)\u001b[0m\u001b[0;34m\u001b[0m\u001b[0;34m\u001b[0m\u001b[0m\n\u001b[0m\u001b[1;32m   1533\u001b[0m \u001b[0;34m\u001b[0m\u001b[0m\n\u001b[1;32m   1534\u001b[0m     \u001b[0;32mdef\u001b[0m \u001b[0m_call_impl\u001b[0m\u001b[0;34m(\u001b[0m\u001b[0mself\u001b[0m\u001b[0;34m,\u001b[0m \u001b[0;34m*\u001b[0m\u001b[0margs\u001b[0m\u001b[0;34m,\u001b[0m \u001b[0;34m**\u001b[0m\u001b[0mkwargs\u001b[0m\u001b[0;34m)\u001b[0m\u001b[0;34m:\u001b[0m\u001b[0;34m\u001b[0m\u001b[0;34m\u001b[0m\u001b[0m\n",
      "\u001b[0;32m/usr/local/lib/python3.10/dist-packages/torch/nn/modules/module.py\u001b[0m in \u001b[0;36m_call_impl\u001b[0;34m(self, *args, **kwargs)\u001b[0m\n\u001b[1;32m   1539\u001b[0m                 \u001b[0;32mor\u001b[0m \u001b[0m_global_backward_pre_hooks\u001b[0m \u001b[0;32mor\u001b[0m \u001b[0m_global_backward_hooks\u001b[0m\u001b[0;34m\u001b[0m\u001b[0;34m\u001b[0m\u001b[0m\n\u001b[1;32m   1540\u001b[0m                 or _global_forward_hooks or _global_forward_pre_hooks):\n\u001b[0;32m-> 1541\u001b[0;31m             \u001b[0;32mreturn\u001b[0m \u001b[0mforward_call\u001b[0m\u001b[0;34m(\u001b[0m\u001b[0;34m*\u001b[0m\u001b[0margs\u001b[0m\u001b[0;34m,\u001b[0m \u001b[0;34m**\u001b[0m\u001b[0mkwargs\u001b[0m\u001b[0;34m)\u001b[0m\u001b[0;34m\u001b[0m\u001b[0;34m\u001b[0m\u001b[0m\n\u001b[0m\u001b[1;32m   1542\u001b[0m \u001b[0;34m\u001b[0m\u001b[0m\n\u001b[1;32m   1543\u001b[0m         \u001b[0;32mtry\u001b[0m\u001b[0;34m:\u001b[0m\u001b[0;34m\u001b[0m\u001b[0;34m\u001b[0m\u001b[0m\n",
      "\u001b[0;32m/usr/local/lib/python3.10/dist-packages/transformers/models/bart/modeling_bart.py\u001b[0m in \u001b[0;36mforward\u001b[0;34m(self, hidden_states, key_value_states, past_key_value, attention_mask, layer_head_mask, output_attentions)\u001b[0m\n\u001b[1;32m    569\u001b[0m         \u001b[0;32melif\u001b[0m \u001b[0mis_cross_attention\u001b[0m\u001b[0;34m:\u001b[0m\u001b[0;34m\u001b[0m\u001b[0;34m\u001b[0m\u001b[0m\n\u001b[1;32m    570\u001b[0m             \u001b[0;31m# cross_attentions\u001b[0m\u001b[0;34m\u001b[0m\u001b[0;34m\u001b[0m\u001b[0m\n\u001b[0;32m--> 571\u001b[0;31m             \u001b[0mkey_states\u001b[0m \u001b[0;34m=\u001b[0m \u001b[0mself\u001b[0m\u001b[0;34m.\u001b[0m\u001b[0m_shape\u001b[0m\u001b[0;34m(\u001b[0m\u001b[0mself\u001b[0m\u001b[0;34m.\u001b[0m\u001b[0mk_proj\u001b[0m\u001b[0;34m(\u001b[0m\u001b[0mkey_value_states\u001b[0m\u001b[0;34m)\u001b[0m\u001b[0;34m,\u001b[0m \u001b[0;34m-\u001b[0m\u001b[0;36m1\u001b[0m\u001b[0;34m,\u001b[0m \u001b[0mbsz\u001b[0m\u001b[0;34m)\u001b[0m\u001b[0;34m\u001b[0m\u001b[0;34m\u001b[0m\u001b[0m\n\u001b[0m\u001b[1;32m    572\u001b[0m             \u001b[0mvalue_states\u001b[0m \u001b[0;34m=\u001b[0m \u001b[0mself\u001b[0m\u001b[0;34m.\u001b[0m\u001b[0m_shape\u001b[0m\u001b[0;34m(\u001b[0m\u001b[0mself\u001b[0m\u001b[0;34m.\u001b[0m\u001b[0mv_proj\u001b[0m\u001b[0;34m(\u001b[0m\u001b[0mkey_value_states\u001b[0m\u001b[0;34m)\u001b[0m\u001b[0;34m,\u001b[0m \u001b[0;34m-\u001b[0m\u001b[0;36m1\u001b[0m\u001b[0;34m,\u001b[0m \u001b[0mbsz\u001b[0m\u001b[0;34m)\u001b[0m\u001b[0;34m\u001b[0m\u001b[0;34m\u001b[0m\u001b[0m\n\u001b[1;32m    573\u001b[0m         \u001b[0;32melif\u001b[0m \u001b[0mpast_key_value\u001b[0m \u001b[0;32mis\u001b[0m \u001b[0;32mnot\u001b[0m \u001b[0;32mNone\u001b[0m\u001b[0;34m:\u001b[0m\u001b[0;34m\u001b[0m\u001b[0;34m\u001b[0m\u001b[0m\n",
      "\u001b[0;32m/usr/local/lib/python3.10/dist-packages/torch/nn/modules/module.py\u001b[0m in \u001b[0;36m_wrapped_call_impl\u001b[0;34m(self, *args, **kwargs)\u001b[0m\n\u001b[1;32m   1530\u001b[0m             \u001b[0;32mreturn\u001b[0m \u001b[0mself\u001b[0m\u001b[0;34m.\u001b[0m\u001b[0m_compiled_call_impl\u001b[0m\u001b[0;34m(\u001b[0m\u001b[0;34m*\u001b[0m\u001b[0margs\u001b[0m\u001b[0;34m,\u001b[0m \u001b[0;34m**\u001b[0m\u001b[0mkwargs\u001b[0m\u001b[0;34m)\u001b[0m  \u001b[0;31m# type: ignore[misc]\u001b[0m\u001b[0;34m\u001b[0m\u001b[0;34m\u001b[0m\u001b[0m\n\u001b[1;32m   1531\u001b[0m         \u001b[0;32melse\u001b[0m\u001b[0;34m:\u001b[0m\u001b[0;34m\u001b[0m\u001b[0;34m\u001b[0m\u001b[0m\n\u001b[0;32m-> 1532\u001b[0;31m             \u001b[0;32mreturn\u001b[0m \u001b[0mself\u001b[0m\u001b[0;34m.\u001b[0m\u001b[0m_call_impl\u001b[0m\u001b[0;34m(\u001b[0m\u001b[0;34m*\u001b[0m\u001b[0margs\u001b[0m\u001b[0;34m,\u001b[0m \u001b[0;34m**\u001b[0m\u001b[0mkwargs\u001b[0m\u001b[0;34m)\u001b[0m\u001b[0;34m\u001b[0m\u001b[0;34m\u001b[0m\u001b[0m\n\u001b[0m\u001b[1;32m   1533\u001b[0m \u001b[0;34m\u001b[0m\u001b[0m\n\u001b[1;32m   1534\u001b[0m     \u001b[0;32mdef\u001b[0m \u001b[0m_call_impl\u001b[0m\u001b[0;34m(\u001b[0m\u001b[0mself\u001b[0m\u001b[0;34m,\u001b[0m \u001b[0;34m*\u001b[0m\u001b[0margs\u001b[0m\u001b[0;34m,\u001b[0m \u001b[0;34m**\u001b[0m\u001b[0mkwargs\u001b[0m\u001b[0;34m)\u001b[0m\u001b[0;34m:\u001b[0m\u001b[0;34m\u001b[0m\u001b[0;34m\u001b[0m\u001b[0m\n",
      "\u001b[0;32m/usr/local/lib/python3.10/dist-packages/torch/nn/modules/module.py\u001b[0m in \u001b[0;36m_call_impl\u001b[0;34m(self, *args, **kwargs)\u001b[0m\n\u001b[1;32m   1539\u001b[0m                 \u001b[0;32mor\u001b[0m \u001b[0m_global_backward_pre_hooks\u001b[0m \u001b[0;32mor\u001b[0m \u001b[0m_global_backward_hooks\u001b[0m\u001b[0;34m\u001b[0m\u001b[0;34m\u001b[0m\u001b[0m\n\u001b[1;32m   1540\u001b[0m                 or _global_forward_hooks or _global_forward_pre_hooks):\n\u001b[0;32m-> 1541\u001b[0;31m             \u001b[0;32mreturn\u001b[0m \u001b[0mforward_call\u001b[0m\u001b[0;34m(\u001b[0m\u001b[0;34m*\u001b[0m\u001b[0margs\u001b[0m\u001b[0;34m,\u001b[0m \u001b[0;34m**\u001b[0m\u001b[0mkwargs\u001b[0m\u001b[0;34m)\u001b[0m\u001b[0;34m\u001b[0m\u001b[0;34m\u001b[0m\u001b[0m\n\u001b[0m\u001b[1;32m   1542\u001b[0m \u001b[0;34m\u001b[0m\u001b[0m\n\u001b[1;32m   1543\u001b[0m         \u001b[0;32mtry\u001b[0m\u001b[0;34m:\u001b[0m\u001b[0;34m\u001b[0m\u001b[0;34m\u001b[0m\u001b[0m\n",
      "\u001b[0;32m/usr/local/lib/python3.10/dist-packages/torch/nn/modules/linear.py\u001b[0m in \u001b[0;36mforward\u001b[0;34m(self, input)\u001b[0m\n\u001b[1;32m    114\u001b[0m \u001b[0;34m\u001b[0m\u001b[0m\n\u001b[1;32m    115\u001b[0m     \u001b[0;32mdef\u001b[0m \u001b[0mforward\u001b[0m\u001b[0;34m(\u001b[0m\u001b[0mself\u001b[0m\u001b[0;34m,\u001b[0m \u001b[0minput\u001b[0m\u001b[0;34m:\u001b[0m \u001b[0mTensor\u001b[0m\u001b[0;34m)\u001b[0m \u001b[0;34m->\u001b[0m \u001b[0mTensor\u001b[0m\u001b[0;34m:\u001b[0m\u001b[0;34m\u001b[0m\u001b[0;34m\u001b[0m\u001b[0m\n\u001b[0;32m--> 116\u001b[0;31m         \u001b[0;32mreturn\u001b[0m \u001b[0mF\u001b[0m\u001b[0;34m.\u001b[0m\u001b[0mlinear\u001b[0m\u001b[0;34m(\u001b[0m\u001b[0minput\u001b[0m\u001b[0;34m,\u001b[0m \u001b[0mself\u001b[0m\u001b[0;34m.\u001b[0m\u001b[0mweight\u001b[0m\u001b[0;34m,\u001b[0m \u001b[0mself\u001b[0m\u001b[0;34m.\u001b[0m\u001b[0mbias\u001b[0m\u001b[0;34m)\u001b[0m\u001b[0;34m\u001b[0m\u001b[0;34m\u001b[0m\u001b[0m\n\u001b[0m\u001b[1;32m    117\u001b[0m \u001b[0;34m\u001b[0m\u001b[0m\n\u001b[1;32m    118\u001b[0m     \u001b[0;32mdef\u001b[0m \u001b[0mextra_repr\u001b[0m\u001b[0;34m(\u001b[0m\u001b[0mself\u001b[0m\u001b[0;34m)\u001b[0m \u001b[0;34m->\u001b[0m \u001b[0mstr\u001b[0m\u001b[0;34m:\u001b[0m\u001b[0;34m\u001b[0m\u001b[0;34m\u001b[0m\u001b[0m\n",
      "\u001b[0;31mKeyboardInterrupt\u001b[0m: "
     ]
    }
   ],
   "source": [
    "# from transformers import AutoTokenizer, AutoModelForSeq2SeqLM\n",
    "\n",
    "\n",
    "# Load the tokenizer and model\n",
    "\n",
    "tokenizer = AutoTokenizer.from_pretrained(\"facebook/bart-large-cnn\")\n",
    "model = AutoModelForSeq2SeqLM.from_pretrained(\"facebook/bart-large-cnn\")\n",
    "\n",
    "\n",
    "\n",
    "# Tokenize the input text\n",
    "inputs = tokenizer(text_i_str, return_tensors=\"pt\", max_length=1024, truncation=True)\n",
    "\n",
    "# Generate summary\n",
    "# here controlling the length of summary in numer of tokens\n",
    "# summary_ids = model.generate(inputs[\"input_ids\"], max_length=1500, min_length=150, do_sample=False)\n",
    "\n",
    "summary_ids = model.generate(\n",
    "    inputs[\"input_ids\"],\n",
    "    max_length=2500,\n",
    "    min_length=250,\n",
    "    do_sample=False,\n",
    "    length_penalty=1.0,  # Default value\n",
    "    repetition_penalty=1.0,  # Default value\n",
    "    early_stopping=False  # Try setting this to True or False\n",
    ")\n",
    "\n",
    "# Decode the summary\n",
    "summary_i = tokenizer.decode(summary_ids[0], skip_special_tokens=True)\n",
    "\n",
    "# print(summary_i)"
   ]
  },
  {
   "cell_type": "code",
   "execution_count": null,
   "metadata": {
    "executionInfo": {
     "elapsed": 13,
     "status": "aborted",
     "timestamp": 1722876647424,
     "user": {
      "displayName": "Bibek Shiwakoti",
      "userId": "12870124355518867121"
     },
     "user_tz": 240
    },
    "id": "Ym9rf80hQ-f1"
   },
   "outputs": [],
   "source": [
    "print(len(summary_i))"
   ]
  },
  {
   "cell_type": "code",
   "execution_count": null,
   "metadata": {
    "executionInfo": {
     "elapsed": 13,
     "status": "aborted",
     "timestamp": 1722876647424,
     "user": {
      "displayName": "Bibek Shiwakoti",
      "userId": "12870124355518867121"
     },
     "user_tz": 240
    },
    "id": "DNOj8DHqRDAK"
   },
   "outputs": [],
   "source": [
    "print(summary_i)"
   ]
  },
  {
   "cell_type": "code",
   "execution_count": null,
   "metadata": {
    "executionInfo": {
     "elapsed": 13,
     "status": "aborted",
     "timestamp": 1722876647424,
     "user": {
      "displayName": "Bibek Shiwakoti",
      "userId": "12870124355518867121"
     },
     "user_tz": 240
    },
    "id": "s6jZOjkFRkLP"
   },
   "outputs": [],
   "source": [
    "from rouge_score import rouge_scorer\n"
   ]
  },
  {
   "cell_type": "code",
   "execution_count": null,
   "metadata": {
    "executionInfo": {
     "elapsed": 12,
     "status": "aborted",
     "timestamp": 1722876647424,
     "user": {
      "displayName": "Bibek Shiwakoti",
      "userId": "12870124355518867121"
     },
     "user_tz": 240
    },
    "id": "Mc82uKh5RQJa"
   },
   "outputs": [],
   "source": [
    "def calculate_accuracy(reference_summary, generated_summary, model_name):\n",
    "    generated_summary = generated_summary.replace('\\n', ' ')\n",
    "    reference_summary = reference_summary.replace('\\n', ' ')\n",
    "\n",
    "    # Initialize the ROUGE scorer\n",
    "    scorer = rouge_scorer.RougeScorer(['rouge1', 'rouge2', 'rougeL'], use_stemmer=True)\n",
    "\n",
    "    # Calculate ROUGE scores\n",
    "    scores = scorer.score(reference_summary, generated_summary)\n",
    "\n",
    "    print(f'Model name: {model_name}')\n",
    "    print(\"ROUGE-1:\", scores['rouge1'])\n",
    "    print(\"ROUGE-2:\", scores['rouge2'])\n",
    "    print(\"ROUGE-L:\", scores['rougeL'])\n",
    "\n",
    "    # Prepare the scores to return\n",
    "    return {\n",
    "        'model_name': model_name,\n",
    "        'rouge1': scores['rouge1'],\n",
    "        'rouge2': scores['rouge2'],\n",
    "        'rougeL': scores['rougeL']\n",
    "    }"
   ]
  },
  {
   "cell_type": "code",
   "execution_count": null,
   "metadata": {
    "executionInfo": {
     "elapsed": 13,
     "status": "aborted",
     "timestamp": 1722876647425,
     "user": {
      "displayName": "Bibek Shiwakoti",
      "userId": "12870124355518867121"
     },
     "user_tz": 240
    },
    "id": "jkt8FtyoRq5u"
   },
   "outputs": [],
   "source": [
    "calculate_accuracy(reference_summary,summary_i,'BART_Normal')"
   ]
  },
  {
   "cell_type": "markdown",
   "metadata": {
    "id": "GgCyFX8-JKwW"
   },
   "source": [
    "#Our Finetuned Model on finance subset"
   ]
  },
  {
   "cell_type": "code",
   "execution_count": null,
   "metadata": {
    "executionInfo": {
     "elapsed": 13,
     "status": "aborted",
     "timestamp": 1722876647425,
     "user": {
      "displayName": "Bibek Shiwakoti",
      "userId": "12870124355518867121"
     },
     "user_tz": 240
    },
    "id": "vAYsr8O9JRHz"
   },
   "outputs": [],
   "source": []
  },
  {
   "cell_type": "markdown",
   "metadata": {
    "id": "0DR4W8lb8d3w"
   },
   "source": [
    "# Using our saved model on finance dataset to see the result"
   ]
  },
  {
   "cell_type": "code",
   "execution_count": null,
   "metadata": {
    "executionInfo": {
     "elapsed": 12,
     "status": "aborted",
     "timestamp": 1722876647425,
     "user": {
      "displayName": "Bibek Shiwakoti",
      "userId": "12870124355518867121"
     },
     "user_tz": 240
    },
    "id": "t3fme7M-8dz-"
   },
   "outputs": [],
   "source": [
    "from transformers import BartTokenizer, BartForConditionalGeneration\n",
    "\n",
    "# Path to the directory where the model was saved\n",
    "model_path = './bart_finance_finetuned'  # Path where the model and tokenizer were saved\n",
    "\n",
    "# Load the model and tokenizer\n",
    "tokenizer = BartTokenizer.from_pretrained(model_path)\n",
    "model = BartForConditionalGeneration.from_pretrained(model_path)\n",
    "\n",
    "# Function to summarize text\n",
    "def summarize_text(text):\n",
    "    inputs = tokenizer(text, return_tensors='pt', max_length=1024, truncation=True)\n",
    "    summary_ids = model.generate(inputs['input_ids'], max_length=150, min_length=40, length_penalty=2.0, num_beams=4, early_stopping=True)\n",
    "    summary = tokenizer.decode(summary_ids[0], skip_special_tokens=True)\n",
    "    return summary"
   ]
  },
  {
   "cell_type": "code",
   "execution_count": null,
   "metadata": {
    "executionInfo": {
     "elapsed": 12,
     "status": "aborted",
     "timestamp": 1722876647425,
     "user": {
      "displayName": "Bibek Shiwakoti",
      "userId": "12870124355518867121"
     },
     "user_tz": 240
    },
    "id": "Px5ETBCT8dw0"
   },
   "outputs": [],
   "source": []
  },
  {
   "cell_type": "code",
   "execution_count": null,
   "metadata": {
    "executionInfo": {
     "elapsed": 12,
     "status": "aborted",
     "timestamp": 1722876647425,
     "user": {
      "displayName": "Bibek Shiwakoti",
      "userId": "12870124355518867121"
     },
     "user_tz": 240
    },
    "id": "2BY_Rcmq8dsN"
   },
   "outputs": [],
   "source": []
  }
 ],
 "metadata": {
  "colab": {
   "authorship_tag": "ABX9TyPSrw3zSKC7Yb/GqQcAwwYg",
   "provenance": [
    {
     "file_id": "1JPRuMvCp6drZGgj4IuJtaq3C9fa3-cwc",
     "timestamp": 1722568534744
    }
   ]
  },
  "kernelspec": {
   "display_name": "Python 3 (ipykernel)",
   "language": "python",
   "name": "python3"
  },
  "language_info": {
   "codemirror_mode": {
    "name": "ipython",
    "version": 3
   },
   "file_extension": ".py",
   "mimetype": "text/x-python",
   "name": "python",
   "nbconvert_exporter": "python",
   "pygments_lexer": "ipython3",
   "version": "3.11.8"
  }
 },
 "nbformat": 4,
 "nbformat_minor": 1
}
