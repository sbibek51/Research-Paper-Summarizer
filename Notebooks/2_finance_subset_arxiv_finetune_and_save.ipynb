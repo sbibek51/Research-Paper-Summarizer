{
 "cells": [
  {
   "cell_type": "markdown",
   "metadata": {
    "id": "5nctFy4Urnpf"
   },
   "source": [
    "#1. Installing required libraries"
   ]
  },
  {
   "cell_type": "code",
   "execution_count": 2,
   "metadata": {
    "colab": {
     "base_uri": "https://localhost:8080/"
    },
    "executionInfo": {
     "elapsed": 42328,
     "status": "ok",
     "timestamp": 1722889878085,
     "user": {
      "displayName": "Bibek Shiwakoti",
      "userId": "12870124355518867121"
     },
     "user_tz": 240
    },
    "id": "2oq_XjcMocYF",
    "outputId": "570682e1-7ff9-4078-bd47-54ea77fd8fe2"
   },
   "outputs": [
    {
     "name": "stdout",
     "output_type": "stream",
     "text": [
      "\u001b[2K     \u001b[90m━━━━━━━━━━━━━━━━━━━━━━━━━━━━━━━━━━━━━━━━\u001b[0m \u001b[32m50.4/50.4 kB\u001b[0m \u001b[31m812.7 kB/s\u001b[0m eta \u001b[36m0:00:00\u001b[0m\n",
      "\u001b[2K   \u001b[90m━━━━━━━━━━━━━━━━━━━━━━━━━━━━━━━━━━━━━━━━\u001b[0m \u001b[32m336.7/336.7 kB\u001b[0m \u001b[31m4.4 MB/s\u001b[0m eta \u001b[36m0:00:00\u001b[0m\n",
      "\u001b[2K   \u001b[90m━━━━━━━━━━━━━━━━━━━━━━━━━━━━━━━━━━━━━━━━\u001b[0m \u001b[32m12.5/12.5 MB\u001b[0m \u001b[31m30.0 MB/s\u001b[0m eta \u001b[36m0:00:00\u001b[0m\n",
      "\u001b[2K   \u001b[90m━━━━━━━━━━━━━━━━━━━━━━━━━━━━━━━━━━━━━━━━\u001b[0m \u001b[32m318.6/318.6 kB\u001b[0m \u001b[31m7.1 MB/s\u001b[0m eta \u001b[36m0:00:00\u001b[0m\n",
      "\u001b[2K   \u001b[90m━━━━━━━━━━━━━━━━━━━━━━━━━━━━━━━━━━━━━━━━\u001b[0m \u001b[32m295.8/295.8 kB\u001b[0m \u001b[31m9.9 MB/s\u001b[0m eta \u001b[36m0:00:00\u001b[0m\n",
      "\u001b[2K   \u001b[90m━━━━━━━━━━━━━━━━━━━━━━━━━━━━━━━━━━━━━━━━\u001b[0m \u001b[32m1.1/1.1 MB\u001b[0m \u001b[31m21.1 MB/s\u001b[0m eta \u001b[36m0:00:00\u001b[0m\n",
      "\u001b[2K   \u001b[90m━━━━━━━━━━━━━━━━━━━━━━━━━━━━━━━━━━━━━━━━\u001b[0m \u001b[32m990.6/990.6 kB\u001b[0m \u001b[31m31.3 MB/s\u001b[0m eta \u001b[36m0:00:00\u001b[0m\n",
      "\u001b[2K   \u001b[90m━━━━━━━━━━━━━━━━━━━━━━━━━━━━━━━━━━━━━━━━\u001b[0m \u001b[32m75.6/75.6 kB\u001b[0m \u001b[31m5.3 MB/s\u001b[0m eta \u001b[36m0:00:00\u001b[0m\n",
      "\u001b[2K   \u001b[90m━━━━━━━━━━━━━━━━━━━━━━━━━━━━━━━━━━━━━━━━\u001b[0m \u001b[32m77.9/77.9 kB\u001b[0m \u001b[31m4.8 MB/s\u001b[0m eta \u001b[36m0:00:00\u001b[0m\n",
      "\u001b[2K   \u001b[90m━━━━━━━━━━━━━━━━━━━━━━━━━━━━━━━━━━━━━━━━\u001b[0m \u001b[32m379.9/379.9 kB\u001b[0m \u001b[31m16.0 MB/s\u001b[0m eta \u001b[36m0:00:00\u001b[0m\n",
      "\u001b[2K   \u001b[90m━━━━━━━━━━━━━━━━━━━━━━━━━━━━━━━━━━━━━━━━\u001b[0m \u001b[32m140.1/140.1 kB\u001b[0m \u001b[31m9.2 MB/s\u001b[0m eta \u001b[36m0:00:00\u001b[0m\n",
      "\u001b[2K   \u001b[90m━━━━━━━━━━━━━━━━━━━━━━━━━━━━━━━━━━━━━━━━\u001b[0m \u001b[32m141.1/141.1 kB\u001b[0m \u001b[31m8.5 MB/s\u001b[0m eta \u001b[36m0:00:00\u001b[0m\n",
      "\u001b[2K   \u001b[90m━━━━━━━━━━━━━━━━━━━━━━━━━━━━━━━━━━━━━━━━\u001b[0m \u001b[32m10.2/10.2 MB\u001b[0m \u001b[31m52.1 MB/s\u001b[0m eta \u001b[36m0:00:00\u001b[0m\n",
      "\u001b[2K   \u001b[90m━━━━━━━━━━━━━━━━━━━━━━━━━━━━━━━━━━━━━━━━\u001b[0m \u001b[32m62.8/62.8 kB\u001b[0m \u001b[31m3.8 MB/s\u001b[0m eta \u001b[36m0:00:00\u001b[0m\n",
      "\u001b[2K   \u001b[90m━━━━━━━━━━━━━━━━━━━━━━━━━━━━━━━━━━━━━━━━\u001b[0m \u001b[32m93.1/93.1 kB\u001b[0m \u001b[31m5.8 MB/s\u001b[0m eta \u001b[36m0:00:00\u001b[0m\n",
      "\u001b[2K   \u001b[90m━━━━━━━━━━━━━━━━━━━━━━━━━━━━━━━━━━━━━━━━\u001b[0m \u001b[32m58.3/58.3 kB\u001b[0m \u001b[31m3.4 MB/s\u001b[0m eta \u001b[36m0:00:00\u001b[0m\n",
      "\u001b[2K   \u001b[90m━━━━━━━━━━━━━━━━━━━━━━━━━━━━━━━━━━━━━━━━\u001b[0m \u001b[32m71.9/71.9 kB\u001b[0m \u001b[31m4.8 MB/s\u001b[0m eta \u001b[36m0:00:00\u001b[0m\n",
      "\u001b[2K   \u001b[90m━━━━━━━━━━━━━━━━━━━━━━━━━━━━━━━━━━━━━━━━\u001b[0m \u001b[32m130.2/130.2 kB\u001b[0m \u001b[31m8.5 MB/s\u001b[0m eta \u001b[36m0:00:00\u001b[0m\n",
      "\u001b[?25h"
     ]
    }
   ],
   "source": [
    "!pip install -q openai gradio pypdf tiktoken langchain"
   ]
  },
  {
   "cell_type": "code",
   "execution_count": 3,
   "metadata": {
    "colab": {
     "base_uri": "https://localhost:8080/"
    },
    "executionInfo": {
     "elapsed": 11594,
     "status": "ok",
     "timestamp": 1722889889675,
     "user": {
      "displayName": "Bibek Shiwakoti",
      "userId": "12870124355518867121"
     },
     "user_tz": 240
    },
    "id": "Rym9w7XPu41x",
    "outputId": "c6ee387b-c536-44e3-e877-b99c9fedfcc2"
   },
   "outputs": [
    {
     "name": "stdout",
     "output_type": "stream",
     "text": [
      "Collecting langchain_community\n",
      "  Downloading langchain_community-0.2.11-py3-none-any.whl.metadata (2.7 kB)\n",
      "Requirement already satisfied: PyYAML>=5.3 in /usr/local/lib/python3.10/dist-packages (from langchain_community) (6.0.1)\n",
      "Requirement already satisfied: SQLAlchemy<3,>=1.4 in /usr/local/lib/python3.10/dist-packages (from langchain_community) (2.0.31)\n",
      "Requirement already satisfied: aiohttp<4.0.0,>=3.8.3 in /usr/local/lib/python3.10/dist-packages (from langchain_community) (3.10.0)\n",
      "Collecting dataclasses-json<0.7,>=0.5.7 (from langchain_community)\n",
      "  Downloading dataclasses_json-0.6.7-py3-none-any.whl.metadata (25 kB)\n",
      "Requirement already satisfied: langchain<0.3.0,>=0.2.12 in /usr/local/lib/python3.10/dist-packages (from langchain_community) (0.2.12)\n",
      "Requirement already satisfied: langchain-core<0.3.0,>=0.2.27 in /usr/local/lib/python3.10/dist-packages (from langchain_community) (0.2.28)\n",
      "Requirement already satisfied: langsmith<0.2.0,>=0.1.0 in /usr/local/lib/python3.10/dist-packages (from langchain_community) (0.1.96)\n",
      "Requirement already satisfied: numpy<2,>=1 in /usr/local/lib/python3.10/dist-packages (from langchain_community) (1.26.4)\n",
      "Requirement already satisfied: requests<3,>=2 in /usr/local/lib/python3.10/dist-packages (from langchain_community) (2.31.0)\n",
      "Requirement already satisfied: tenacity!=8.4.0,<9.0.0,>=8.1.0 in /usr/local/lib/python3.10/dist-packages (from langchain_community) (8.5.0)\n",
      "Requirement already satisfied: aiohappyeyeballs>=2.3.0 in /usr/local/lib/python3.10/dist-packages (from aiohttp<4.0.0,>=3.8.3->langchain_community) (2.3.4)\n",
      "Requirement already satisfied: aiosignal>=1.1.2 in /usr/local/lib/python3.10/dist-packages (from aiohttp<4.0.0,>=3.8.3->langchain_community) (1.3.1)\n",
      "Requirement already satisfied: attrs>=17.3.0 in /usr/local/lib/python3.10/dist-packages (from aiohttp<4.0.0,>=3.8.3->langchain_community) (23.2.0)\n",
      "Requirement already satisfied: frozenlist>=1.1.1 in /usr/local/lib/python3.10/dist-packages (from aiohttp<4.0.0,>=3.8.3->langchain_community) (1.4.1)\n",
      "Requirement already satisfied: multidict<7.0,>=4.5 in /usr/local/lib/python3.10/dist-packages (from aiohttp<4.0.0,>=3.8.3->langchain_community) (6.0.5)\n",
      "Requirement already satisfied: yarl<2.0,>=1.0 in /usr/local/lib/python3.10/dist-packages (from aiohttp<4.0.0,>=3.8.3->langchain_community) (1.9.4)\n",
      "Requirement already satisfied: async-timeout<5.0,>=4.0 in /usr/local/lib/python3.10/dist-packages (from aiohttp<4.0.0,>=3.8.3->langchain_community) (4.0.3)\n",
      "Collecting marshmallow<4.0.0,>=3.18.0 (from dataclasses-json<0.7,>=0.5.7->langchain_community)\n",
      "  Downloading marshmallow-3.21.3-py3-none-any.whl.metadata (7.1 kB)\n",
      "Collecting typing-inspect<1,>=0.4.0 (from dataclasses-json<0.7,>=0.5.7->langchain_community)\n",
      "  Downloading typing_inspect-0.9.0-py3-none-any.whl.metadata (1.5 kB)\n",
      "Requirement already satisfied: langchain-text-splitters<0.3.0,>=0.2.0 in /usr/local/lib/python3.10/dist-packages (from langchain<0.3.0,>=0.2.12->langchain_community) (0.2.2)\n",
      "Requirement already satisfied: pydantic<3,>=1 in /usr/local/lib/python3.10/dist-packages (from langchain<0.3.0,>=0.2.12->langchain_community) (2.8.2)\n",
      "Requirement already satisfied: jsonpatch<2.0,>=1.33 in /usr/local/lib/python3.10/dist-packages (from langchain-core<0.3.0,>=0.2.27->langchain_community) (1.33)\n",
      "Requirement already satisfied: packaging<25,>=23.2 in /usr/local/lib/python3.10/dist-packages (from langchain-core<0.3.0,>=0.2.27->langchain_community) (24.1)\n",
      "Requirement already satisfied: typing-extensions>=4.7 in /usr/local/lib/python3.10/dist-packages (from langchain-core<0.3.0,>=0.2.27->langchain_community) (4.12.2)\n",
      "Requirement already satisfied: orjson<4.0.0,>=3.9.14 in /usr/local/lib/python3.10/dist-packages (from langsmith<0.2.0,>=0.1.0->langchain_community) (3.10.6)\n",
      "Requirement already satisfied: charset-normalizer<4,>=2 in /usr/local/lib/python3.10/dist-packages (from requests<3,>=2->langchain_community) (3.3.2)\n",
      "Requirement already satisfied: idna<4,>=2.5 in /usr/local/lib/python3.10/dist-packages (from requests<3,>=2->langchain_community) (3.7)\n",
      "Requirement already satisfied: urllib3<3,>=1.21.1 in /usr/local/lib/python3.10/dist-packages (from requests<3,>=2->langchain_community) (2.0.7)\n",
      "Requirement already satisfied: certifi>=2017.4.17 in /usr/local/lib/python3.10/dist-packages (from requests<3,>=2->langchain_community) (2024.7.4)\n",
      "Requirement already satisfied: greenlet!=0.4.17 in /usr/local/lib/python3.10/dist-packages (from SQLAlchemy<3,>=1.4->langchain_community) (3.0.3)\n",
      "Requirement already satisfied: jsonpointer>=1.9 in /usr/local/lib/python3.10/dist-packages (from jsonpatch<2.0,>=1.33->langchain-core<0.3.0,>=0.2.27->langchain_community) (3.0.0)\n",
      "Requirement already satisfied: annotated-types>=0.4.0 in /usr/local/lib/python3.10/dist-packages (from pydantic<3,>=1->langchain<0.3.0,>=0.2.12->langchain_community) (0.7.0)\n",
      "Requirement already satisfied: pydantic-core==2.20.1 in /usr/local/lib/python3.10/dist-packages (from pydantic<3,>=1->langchain<0.3.0,>=0.2.12->langchain_community) (2.20.1)\n",
      "Collecting mypy-extensions>=0.3.0 (from typing-inspect<1,>=0.4.0->dataclasses-json<0.7,>=0.5.7->langchain_community)\n",
      "  Downloading mypy_extensions-1.0.0-py3-none-any.whl.metadata (1.1 kB)\n",
      "Downloading langchain_community-0.2.11-py3-none-any.whl (2.3 MB)\n",
      "\u001b[2K   \u001b[90m━━━━━━━━━━━━━━━━━━━━━━━━━━━━━━━━━━━━━━━━\u001b[0m \u001b[32m2.3/2.3 MB\u001b[0m \u001b[31m29.8 MB/s\u001b[0m eta \u001b[36m0:00:00\u001b[0m\n",
      "\u001b[?25hDownloading dataclasses_json-0.6.7-py3-none-any.whl (28 kB)\n",
      "Downloading marshmallow-3.21.3-py3-none-any.whl (49 kB)\n",
      "\u001b[2K   \u001b[90m━━━━━━━━━━━━━━━━━━━━━━━━━━━━━━━━━━━━━━━━\u001b[0m \u001b[32m49.2/49.2 kB\u001b[0m \u001b[31m3.5 MB/s\u001b[0m eta \u001b[36m0:00:00\u001b[0m\n",
      "\u001b[?25hDownloading typing_inspect-0.9.0-py3-none-any.whl (8.8 kB)\n",
      "Downloading mypy_extensions-1.0.0-py3-none-any.whl (4.7 kB)\n",
      "Installing collected packages: mypy-extensions, marshmallow, typing-inspect, dataclasses-json, langchain_community\n",
      "Successfully installed dataclasses-json-0.6.7 langchain_community-0.2.11 marshmallow-3.21.3 mypy-extensions-1.0.0 typing-inspect-0.9.0\n"
     ]
    }
   ],
   "source": [
    "!pip install langchain_community"
   ]
  },
  {
   "cell_type": "code",
   "execution_count": 4,
   "metadata": {
    "colab": {
     "base_uri": "https://localhost:8080/"
    },
    "executionInfo": {
     "elapsed": 10540,
     "status": "ok",
     "timestamp": 1722889900206,
     "user": {
      "displayName": "Bibek Shiwakoti",
      "userId": "12870124355518867121"
     },
     "user_tz": 240
    },
    "id": "6T7p0JFlsYf7",
    "outputId": "d792845e-231c-4934-8e8b-626394af4129"
   },
   "outputs": [
    {
     "name": "stdout",
     "output_type": "stream",
     "text": [
      "Collecting rouge_score\n",
      "  Downloading rouge_score-0.1.2.tar.gz (17 kB)\n",
      "  Preparing metadata (setup.py) ... \u001b[?25l\u001b[?25hdone\n",
      "Requirement already satisfied: absl-py in /usr/local/lib/python3.10/dist-packages (from rouge_score) (1.4.0)\n",
      "Requirement already satisfied: nltk in /usr/local/lib/python3.10/dist-packages (from rouge_score) (3.8.1)\n",
      "Requirement already satisfied: numpy in /usr/local/lib/python3.10/dist-packages (from rouge_score) (1.26.4)\n",
      "Requirement already satisfied: six>=1.14.0 in /usr/local/lib/python3.10/dist-packages (from rouge_score) (1.16.0)\n",
      "Requirement already satisfied: click in /usr/local/lib/python3.10/dist-packages (from nltk->rouge_score) (8.1.7)\n",
      "Requirement already satisfied: joblib in /usr/local/lib/python3.10/dist-packages (from nltk->rouge_score) (1.4.2)\n",
      "Requirement already satisfied: regex>=2021.8.3 in /usr/local/lib/python3.10/dist-packages (from nltk->rouge_score) (2024.5.15)\n",
      "Requirement already satisfied: tqdm in /usr/local/lib/python3.10/dist-packages (from nltk->rouge_score) (4.66.4)\n",
      "Building wheels for collected packages: rouge_score\n",
      "  Building wheel for rouge_score (setup.py) ... \u001b[?25l\u001b[?25hdone\n",
      "  Created wheel for rouge_score: filename=rouge_score-0.1.2-py3-none-any.whl size=24934 sha256=f33bc5f6d0d6d885dece4bf7de510fb8f815386f37a0c16ccbf9b22fcff73ac8\n",
      "  Stored in directory: /root/.cache/pip/wheels/5f/dd/89/461065a73be61a532ff8599a28e9beef17985c9e9c31e541b4\n",
      "Successfully built rouge_score\n",
      "Installing collected packages: rouge_score\n",
      "Successfully installed rouge_score-0.1.2\n"
     ]
    }
   ],
   "source": [
    "!pip install rouge_score\n"
   ]
  },
  {
   "cell_type": "markdown",
   "metadata": {
    "id": "AojV_38csRIb"
   },
   "source": [
    "#2. Importing the necessary libraries"
   ]
  },
  {
   "cell_type": "code",
   "execution_count": 5,
   "metadata": {
    "executionInfo": {
     "elapsed": 29277,
     "status": "ok",
     "timestamp": 1722889929470,
     "user": {
      "displayName": "Bibek Shiwakoti",
      "userId": "12870124355518867121"
     },
     "user_tz": 240
    },
    "id": "BKcj1FjYr46G"
   },
   "outputs": [],
   "source": [
    "import os\n",
    "import tiktoken\n",
    "import gradio as gr\n",
    "from langchain import OpenAI , PromptTemplate\n",
    "from langchain.chains.summarize import load_summarize_chain\n",
    "from langchain.document_loaders import PyPDFLoader\n",
    "from langchain.text_splitter import RecursiveCharacterTextSplitter\n",
    "from transformers import AutoTokenizer, AutoModelForSeq2SeqLM\n",
    "from transformers import pipeline\n",
    "from langchain import LLMChain, HuggingFaceHub"
   ]
  },
  {
   "cell_type": "code",
   "execution_count": 5,
   "metadata": {
    "executionInfo": {
     "elapsed": 10,
     "status": "ok",
     "timestamp": 1722889929471,
     "user": {
      "displayName": "Bibek Shiwakoti",
      "userId": "12870124355518867121"
     },
     "user_tz": 240
    },
    "id": "v8jwSSof5sTr"
   },
   "outputs": [],
   "source": []
  },
  {
   "cell_type": "markdown",
   "metadata": {
    "id": "76WI4sIN5tbY"
   },
   "source": [
    "# Finetuning arxiv dataset on bart-cnn or bartbase model"
   ]
  },
  {
   "cell_type": "code",
   "execution_count": 1,
   "metadata": {
    "colab": {
     "base_uri": "https://localhost:8080/"
    },
    "executionInfo": {
     "elapsed": 7331,
     "status": "ok",
     "timestamp": 1722889996052,
     "user": {
      "displayName": "Bibek Shiwakoti",
      "userId": "12870124355518867121"
     },
     "user_tz": 240
    },
    "id": "a8I2OV5x5y84",
    "outputId": "8f51b907-6aeb-449b-d49c-71f87d6ffa43"
   },
   "outputs": [
    {
     "name": "stdout",
     "output_type": "stream",
     "text": [
      "Requirement already satisfied: datasets in /usr/local/lib/python3.10/dist-packages (2.20.0)\n",
      "Requirement already satisfied: filelock in /usr/local/lib/python3.10/dist-packages (from datasets) (3.15.4)\n",
      "Requirement already satisfied: numpy>=1.17 in /usr/local/lib/python3.10/dist-packages (from datasets) (1.26.4)\n",
      "Requirement already satisfied: pyarrow>=15.0.0 in /usr/local/lib/python3.10/dist-packages (from datasets) (17.0.0)\n",
      "Requirement already satisfied: pyarrow-hotfix in /usr/local/lib/python3.10/dist-packages (from datasets) (0.6)\n",
      "Requirement already satisfied: dill<0.3.9,>=0.3.0 in /usr/local/lib/python3.10/dist-packages (from datasets) (0.3.8)\n",
      "Requirement already satisfied: pandas in /usr/local/lib/python3.10/dist-packages (from datasets) (2.1.4)\n",
      "Requirement already satisfied: requests>=2.32.2 in /usr/local/lib/python3.10/dist-packages (from datasets) (2.32.3)\n",
      "Requirement already satisfied: tqdm>=4.66.3 in /usr/local/lib/python3.10/dist-packages (from datasets) (4.66.4)\n",
      "Requirement already satisfied: xxhash in /usr/local/lib/python3.10/dist-packages (from datasets) (3.4.1)\n",
      "Requirement already satisfied: multiprocess in /usr/local/lib/python3.10/dist-packages (from datasets) (0.70.16)\n",
      "Requirement already satisfied: fsspec<=2024.5.0,>=2023.1.0 in /usr/local/lib/python3.10/dist-packages (from fsspec[http]<=2024.5.0,>=2023.1.0->datasets) (2024.5.0)\n",
      "Requirement already satisfied: aiohttp in /usr/local/lib/python3.10/dist-packages (from datasets) (3.10.0)\n",
      "Requirement already satisfied: huggingface-hub>=0.21.2 in /usr/local/lib/python3.10/dist-packages (from datasets) (0.23.5)\n",
      "Requirement already satisfied: packaging in /usr/local/lib/python3.10/dist-packages (from datasets) (24.1)\n",
      "Requirement already satisfied: pyyaml>=5.1 in /usr/local/lib/python3.10/dist-packages (from datasets) (6.0.1)\n",
      "Requirement already satisfied: aiohappyeyeballs>=2.3.0 in /usr/local/lib/python3.10/dist-packages (from aiohttp->datasets) (2.3.4)\n",
      "Requirement already satisfied: aiosignal>=1.1.2 in /usr/local/lib/python3.10/dist-packages (from aiohttp->datasets) (1.3.1)\n",
      "Requirement already satisfied: attrs>=17.3.0 in /usr/local/lib/python3.10/dist-packages (from aiohttp->datasets) (23.2.0)\n",
      "Requirement already satisfied: frozenlist>=1.1.1 in /usr/local/lib/python3.10/dist-packages (from aiohttp->datasets) (1.4.1)\n",
      "Requirement already satisfied: multidict<7.0,>=4.5 in /usr/local/lib/python3.10/dist-packages (from aiohttp->datasets) (6.0.5)\n",
      "Requirement already satisfied: yarl<2.0,>=1.0 in /usr/local/lib/python3.10/dist-packages (from aiohttp->datasets) (1.9.4)\n",
      "Requirement already satisfied: async-timeout<5.0,>=4.0 in /usr/local/lib/python3.10/dist-packages (from aiohttp->datasets) (4.0.3)\n",
      "Requirement already satisfied: typing-extensions>=3.7.4.3 in /usr/local/lib/python3.10/dist-packages (from huggingface-hub>=0.21.2->datasets) (4.12.2)\n",
      "Requirement already satisfied: charset-normalizer<4,>=2 in /usr/local/lib/python3.10/dist-packages (from requests>=2.32.2->datasets) (3.3.2)\n",
      "Requirement already satisfied: idna<4,>=2.5 in /usr/local/lib/python3.10/dist-packages (from requests>=2.32.2->datasets) (3.7)\n",
      "Requirement already satisfied: urllib3<3,>=1.21.1 in /usr/local/lib/python3.10/dist-packages (from requests>=2.32.2->datasets) (2.0.7)\n",
      "Requirement already satisfied: certifi>=2017.4.17 in /usr/local/lib/python3.10/dist-packages (from requests>=2.32.2->datasets) (2024.7.4)\n",
      "Requirement already satisfied: python-dateutil>=2.8.2 in /usr/local/lib/python3.10/dist-packages (from pandas->datasets) (2.8.2)\n",
      "Requirement already satisfied: pytz>=2020.1 in /usr/local/lib/python3.10/dist-packages (from pandas->datasets) (2024.1)\n",
      "Requirement already satisfied: tzdata>=2022.1 in /usr/local/lib/python3.10/dist-packages (from pandas->datasets) (2024.1)\n",
      "Requirement already satisfied: six>=1.5 in /usr/local/lib/python3.10/dist-packages (from python-dateutil>=2.8.2->pandas->datasets) (1.16.0)\n"
     ]
    }
   ],
   "source": [
    "pip install datasets"
   ]
  },
  {
   "cell_type": "code",
   "execution_count": 2,
   "metadata": {
    "executionInfo": {
     "elapsed": 1483,
     "status": "ok",
     "timestamp": 1722890064730,
     "user": {
      "displayName": "Bibek Shiwakoti",
      "userId": "12870124355518867121"
     },
     "user_tz": 240
    },
    "id": "fWOIO9kN7xlL"
   },
   "outputs": [],
   "source": [
    "from datasets import load_dataset"
   ]
  },
  {
   "cell_type": "code",
   "execution_count": 7,
   "metadata": {
    "colab": {
     "base_uri": "https://localhost:8080/",
     "height": 70
    },
    "executionInfo": {
     "elapsed": 12,
     "status": "ok",
     "timestamp": 1722872001382,
     "user": {
      "displayName": "Bibek Shiwakoti",
      "userId": "12870124355518867121"
     },
     "user_tz": 240
    },
    "id": "WOMY3Di8DMdu",
    "outputId": "6bc713b6-a4bf-40c2-c8ab-bfefa573eb09"
   },
   "outputs": [
    {
     "data": {
      "application/vnd.google.colaboratory.intrinsic+json": {
       "type": "string"
      },
      "text/plain": [
       "'The repository for ccdv/arxiv-summarization contains custom code which must be executed to correctly load the dataset. You can inspect the repository content at https://hf.co/datasets/ccdv/arxiv-summarization.\\nYou can avoid this prompt in future by passing the argument `trust_remote_code=True`.'"
      ]
     },
     "execution_count": 7,
     "metadata": {},
     "output_type": "execute_result"
    }
   ],
   "source": [
    "# Load the dataset\n",
    "# dataset = load_dataset(\"ccdv/arxiv-summarization\")\n",
    "\n",
    "'''The repository for ccdv/arxiv-summarization contains custom code which must be executed to correctly load the dataset. You can inspect the repository content at https://hf.co/datasets/ccdv/arxiv-summarization.\n",
    "You can avoid this prompt in future by passing the argument `trust_remote_code=True`.'''"
   ]
  },
  {
   "cell_type": "code",
   "execution_count": 3,
   "metadata": {
    "colab": {
     "base_uri": "https://localhost:8080/",
     "height": 563,
     "referenced_widgets": [
      "481f70326fc94d1db677105acda4fb3f",
      "adc7f1ab6ac94f70b2e21b9c505b3695",
      "3ce85acf1f1845d3b8af5f8a685bb061",
      "5cc1982ba58d41d08de8ed8522b7c8fe",
      "4e98333612c84f25946f8d50a333cd2a",
      "63f07f0a393d484095e78a00434220ef",
      "de27b49cda494851a829b2cb2e83a993",
      "d6f360a5030e409dacf1d18f927eca2e",
      "57e2ea5e00364f1797565b07e14e0ea6",
      "59b3af4293a94c228ce93ffa778f5b49",
      "8fe0db90d4c342499ed2ccbb605fe00a",
      "9ca5e16892e24abda5cc1c63bae15f79",
      "a9f617968f8a4a6ab3e30a43f84cf832",
      "4a58a3ee34014402b4819eb465cc1ce1",
      "9f2f157d3a874c5ab5aeef2511f53166",
      "347a937fd26a4282852321a090e8f327",
      "f2fbcb104a8740e5a5950e9b65e23648",
      "28ea50bc0d1048d9905ad9cd2b3765b3",
      "70e6c7a9af864ba68feae1c0504fdd1c",
      "6a568edcf0a3448880d347b5a089000d",
      "0fc5a352eee9475aadad16d04623c82f",
      "f3275fede1d64820849ca81269657637",
      "8dce086e3da04d4dab2bc8015e325c2a",
      "e1bc1c4a6b20432c9290e99f8c4df62b",
      "2fff3b108994441a8b346d0363aa758c",
      "0a6de8f2305e4e1994b7726eca95cdc5",
      "40364d2c50d5425685362c3eee63e3d4",
      "773c600c56ce4e58933eb44cdcb5efbd",
      "31e80aaee5d14f8daf373dba0424c6b3",
      "693a1bffdffe4c72beb79518366958bd",
      "8dad8255d2484844b44c3d1eb5fdcc78",
      "2d72c7f05bf54c7ab8d735aeab4fbffc",
      "d90a7a7bd1404325a6a25f442b6f4c03",
      "e0b7de6a463f462198cef4a2bc767be1",
      "ae47488479de4e40a9bb7c52f6da7779",
      "6fead8540853460cb0eb570e3dcbf25f",
      "6377042f42eb4c02b8cf013cf34a3797",
      "325a6fb0cc6044c0aa85105650324a99",
      "819b90184a0546eeb99c4b1c4d3b1ca4",
      "1e6f30e03075465eac88fd4bd0e81295",
      "c1af637187714793b0dc0dfdaac9394f",
      "48c7516e2043481fbf39f3092ef5547f",
      "4c1c197f021f471d83f11c1d3556eda0",
      "b3d92f512be241308d5d7b20b9e7c4e3",
      "594f78e8227440669560d586ee240e78",
      "214a36b13f69450a9779ab958d2413b5",
      "75404a400b91499583ef19a988a5d9fd",
      "fa08d93b30e94810907357990dfd0ab8",
      "41a1c83ff22f4f0db86a169fc246bffc",
      "0088eda03834431ca5991f53c1fb0b39",
      "5cbef7203f7744119072b334ef28f3d6",
      "090279dd743047699f5dd2f95b260be3",
      "2e9fa1e7431d42c9a465c229be34abb8",
      "792e72a2c7604910823e4d0e0fe9b044",
      "ffbcaea19370456eb16c6a06e26dd74c",
      "9f8174215d8d4e3491296de25f11ec1b",
      "129a990847c94841a9a5d9b4ded02fe2",
      "a33c45f960c64bfd95af008b32ce7863",
      "a6255f251374429081da5a8f3d40625f",
      "efee9598bb4b41a2a8e4d6a24752c13f",
      "ae04afa080ad4792bd269724c5f098bd",
      "0f07094791c249ffb0ac78356896c250",
      "e4c950d7d9124a118abba29753dfe73b",
      "e30a01d3607c4731b88eb1f573c0f361",
      "99ab798257c14ac3bb5e6db466fed859",
      "46ca84c0bf1f41bcb16576755f6fd34f",
      "bcb17cb5022a4b3cafa527c06a8113cf",
      "b3be8109f89e4386a9202dcc7367380d",
      "814e0da6856b426eacbf6e209f2184de",
      "b7b946ebf2c74e158432aeb0f818051c",
      "c9033a2cde5e4fc88cd8a98dbe52a6f3",
      "5cd99e64e1494054b6b95ea82bc2fd5e",
      "fc2c8f12afe04974bfa76e16c92fef72",
      "72444cd69f8b46ccbdd2e8be7a0122e4",
      "30bd54742dc340cd97292d30b2eec641",
      "62aa7ed498714c8a937ee2bc547e49f8",
      "56c69dce53f84f1da7bdfc4c6c9e0edc",
      "c681d87b61d849a49c4edfa5859a3fe8",
      "ab285798fbb1487ca103a9867dade951",
      "ea2ac9c9f3d94cb5a686c7d6dee06555",
      "f46b2c48b3ed4983886a04937e2a3f86",
      "f71218e2885641a98cf8945cc575a8ec",
      "1805e19538364df1bf01de4a24537aae",
      "d1291c4356b647d4a7f5fb15ac4b1af8",
      "483322a3c4dd4168a7ebe510cf1dcd7b",
      "5bf76946052140e79fad4a872d1b5b02",
      "8ed4f6d453d74d4c997f3a37df6aa15c",
      "94ce444dace04370af7b84169f638f3a",
      "b4b7d5405da04e4794ff05c193e09d44",
      "eec607aac5c949c8b20e9f844feb0429",
      "6b256345508946e58486dcc175ce55f2",
      "d23af9ad7f3b44fcbcb194db2c571729",
      "8cca5786a08b437095074bdb2493b655",
      "1da40fc1e1834c24a77ee6e2ef8ece5e",
      "f2115081fbdb423cae9587f4743ab526",
      "e2df8babf92d4505bfc917f5f8059fb5",
      "74bc6e106c4e45868e25c7b9aedcf6f1",
      "78f8e47d12f945e09bac505df76b7a47",
      "bf13ddf842f342d98ea020a9ab75c452",
      "dcf50b2c64a849cdbf1221c463544c0f",
      "a59da76e51d94f688e03bb035c834825",
      "1da0e5b8e2d14f6bbf1c926db16a2b45",
      "a0cbebb7629043798f25b9f31e4eec8f",
      "e6c0ceeebaaf4368874a5e37c445be5d",
      "2562a4f314e74bda8ccf47e9d44c0076",
      "5da15ea46cd74b6681dcaab766fdbb04",
      "645fcf975614466a86126c0685bc6ae1",
      "51375bdb9b104ff18f1681ddf472d85a",
      "b96558e849204ce295b82ac92f4a31f2",
      "ddc9f374288a412d8542ae8c0050ea07",
      "df90d610583c4868a57d43d9ac25fbb1",
      "a51024b7d0f64d56b178ecf84e751d01",
      "8490c7e7363f48da8fd317dca99e2b90",
      "8fb51dbbb07049849e688d0e244cd027",
      "81a0d8b2dab04d409271a82fa5d60fcc",
      "4feba70e41934bcf87e0355c6236abb2",
      "888a0dbd50b749e39cad7fd6632fe255",
      "5f728c4f058943b291d967aa6f207c47",
      "234561d85d354a44be299afc6ba0cf5a",
      "676b55f0bf6c4eabb3ff038381e4f1ca",
      "ce939d01e760447b98e3fc9acccea48d"
     ]
    },
    "executionInfo": {
     "elapsed": 585759,
     "status": "ok",
     "timestamp": 1722890657789,
     "user": {
      "displayName": "Bibek Shiwakoti",
      "userId": "12870124355518867121"
     },
     "user_tz": 240
    },
    "id": "dZyUgHxE1CO4",
    "outputId": "b30da3b1-3514-427e-a585-d2cc38aac5e1"
   },
   "outputs": [
    {
     "name": "stderr",
     "output_type": "stream",
     "text": [
      "/usr/local/lib/python3.10/dist-packages/huggingface_hub/utils/_token.py:89: UserWarning: \n",
      "The secret `HF_TOKEN` does not exist in your Colab secrets.\n",
      "To authenticate with the Hugging Face Hub, create a token in your settings tab (https://huggingface.co/settings/tokens), set it as secret in your Google Colab and restart your session.\n",
      "You will be able to reuse this secret in all of your notebooks.\n",
      "Please note that authentication is recommended but still optional to access public models or datasets.\n",
      "  warnings.warn(\n"
     ]
    },
    {
     "data": {
      "application/vnd.jupyter.widget-view+json": {
       "model_id": "481f70326fc94d1db677105acda4fb3f",
       "version_major": 2,
       "version_minor": 0
      },
      "text/plain": [
       "Downloading builder script:   0%|          | 0.00/5.14k [00:00<?, ?B/s]"
      ]
     },
     "metadata": {},
     "output_type": "display_data"
    },
    {
     "data": {
      "application/vnd.jupyter.widget-view+json": {
       "model_id": "9ca5e16892e24abda5cc1c63bae15f79",
       "version_major": 2,
       "version_minor": 0
      },
      "text/plain": [
       "Downloading readme:   0%|          | 0.00/2.83k [00:00<?, ?B/s]"
      ]
     },
     "metadata": {},
     "output_type": "display_data"
    },
    {
     "name": "stdout",
     "output_type": "stream",
     "text": [
      "The repository for ccdv/arxiv-summarization contains custom code which must be executed to correctly load the dataset. You can inspect the repository content at https://hf.co/datasets/ccdv/arxiv-summarization.\n",
      "You can avoid this prompt in future by passing the argument `trust_remote_code=True`.\n",
      "\n",
      "Do you wish to run the custom code? [y/N] y\n"
     ]
    },
    {
     "data": {
      "application/vnd.jupyter.widget-view+json": {
       "model_id": "8dce086e3da04d4dab2bc8015e325c2a",
       "version_major": 2,
       "version_minor": 0
      },
      "text/plain": [
       "Downloading data:   0%|          | 0.00/3.36G [00:00<?, ?B/s]"
      ]
     },
     "metadata": {},
     "output_type": "display_data"
    },
    {
     "data": {
      "application/vnd.jupyter.widget-view+json": {
       "model_id": "e0b7de6a463f462198cef4a2bc767be1",
       "version_major": 2,
       "version_minor": 0
      },
      "text/plain": [
       "Downloading data:   0%|          | 0.00/102M [00:00<?, ?B/s]"
      ]
     },
     "metadata": {},
     "output_type": "display_data"
    },
    {
     "data": {
      "application/vnd.jupyter.widget-view+json": {
       "model_id": "594f78e8227440669560d586ee240e78",
       "version_major": 2,
       "version_minor": 0
      },
      "text/plain": [
       "Downloading data:   0%|          | 0.00/102M [00:00<?, ?B/s]"
      ]
     },
     "metadata": {},
     "output_type": "display_data"
    },
    {
     "data": {
      "application/vnd.jupyter.widget-view+json": {
       "model_id": "9f8174215d8d4e3491296de25f11ec1b",
       "version_major": 2,
       "version_minor": 0
      },
      "text/plain": [
       "Generating train split: 0 examples [00:00, ? examples/s]"
      ]
     },
     "metadata": {},
     "output_type": "display_data"
    },
    {
     "data": {
      "application/vnd.jupyter.widget-view+json": {
       "model_id": "bcb17cb5022a4b3cafa527c06a8113cf",
       "version_major": 2,
       "version_minor": 0
      },
      "text/plain": [
       "Generating validation split: 0 examples [00:00, ? examples/s]"
      ]
     },
     "metadata": {},
     "output_type": "display_data"
    },
    {
     "data": {
      "application/vnd.jupyter.widget-view+json": {
       "model_id": "c681d87b61d849a49c4edfa5859a3fe8",
       "version_major": 2,
       "version_minor": 0
      },
      "text/plain": [
       "Generating test split: 0 examples [00:00, ? examples/s]"
      ]
     },
     "metadata": {},
     "output_type": "display_data"
    },
    {
     "data": {
      "application/vnd.jupyter.widget-view+json": {
       "model_id": "b4b7d5405da04e4794ff05c193e09d44",
       "version_major": 2,
       "version_minor": 0
      },
      "text/plain": [
       "Filter:   0%|          | 0/203037 [00:00<?, ? examples/s]"
      ]
     },
     "metadata": {},
     "output_type": "display_data"
    },
    {
     "data": {
      "application/vnd.jupyter.widget-view+json": {
       "model_id": "dcf50b2c64a849cdbf1221c463544c0f",
       "version_major": 2,
       "version_minor": 0
      },
      "text/plain": [
       "Filter:   0%|          | 0/6436 [00:00<?, ? examples/s]"
      ]
     },
     "metadata": {},
     "output_type": "display_data"
    },
    {
     "data": {
      "application/vnd.jupyter.widget-view+json": {
       "model_id": "df90d610583c4868a57d43d9ac25fbb1",
       "version_major": 2,
       "version_minor": 0
      },
      "text/plain": [
       "Filter:   0%|          | 0/6440 [00:00<?, ? examples/s]"
      ]
     },
     "metadata": {},
     "output_type": "display_data"
    }
   ],
   "source": [
    "\n",
    "\n",
    "# Load the dataset\n",
    "arxiv_dataset = load_dataset(\"ccdv/arxiv-summarization\")\n",
    "\n",
    "# Define the filter function\n",
    "def filter_by_word_count(example):\n",
    "    return example['article'].lower().split().count('finance') > 2\n",
    "\n",
    "# Apply the filter to the dataset\n",
    "dataset = arxiv_dataset.filter(filter_by_word_count)\n",
    "\n",
    "\n"
   ]
  },
  {
   "cell_type": "code",
   "execution_count": 4,
   "metadata": {
    "colab": {
     "base_uri": "https://localhost:8080/"
    },
    "executionInfo": {
     "elapsed": 304,
     "status": "ok",
     "timestamp": 1722890750372,
     "user": {
      "displayName": "Bibek Shiwakoti",
      "userId": "12870124355518867121"
     },
     "user_tz": 240
    },
    "id": "169cZU51PEHx",
    "outputId": "f636103c-c559-4c29-fb3e-491b144858bf"
   },
   "outputs": [
    {
     "data": {
      "text/plain": [
       "datasets.dataset_dict.DatasetDict"
      ]
     },
     "execution_count": 4,
     "metadata": {},
     "output_type": "execute_result"
    }
   ],
   "source": [
    "type(arxiv_dataset)"
   ]
  },
  {
   "cell_type": "code",
   "execution_count": 6,
   "metadata": {
    "colab": {
     "base_uri": "https://localhost:8080/"
    },
    "executionInfo": {
     "elapsed": 216,
     "status": "ok",
     "timestamp": 1722890896433,
     "user": {
      "displayName": "Bibek Shiwakoti",
      "userId": "12870124355518867121"
     },
     "user_tz": 240
    },
    "id": "gPtyxt4RSqB9",
    "outputId": "aa0fd976-3ea2-4b11-be1b-2cf7e9d3e08a"
   },
   "outputs": [
    {
     "name": "stdout",
     "output_type": "stream",
     "text": [
      "DatasetDict({\n",
      "    train: Dataset({\n",
      "        features: ['article', 'abstract'],\n",
      "        num_rows: 203037\n",
      "    })\n",
      "    validation: Dataset({\n",
      "        features: ['article', 'abstract'],\n",
      "        num_rows: 6436\n",
      "    })\n",
      "    test: Dataset({\n",
      "        features: ['article', 'abstract'],\n",
      "        num_rows: 6440\n",
      "    })\n",
      "})\n",
      "Splits:  dict_keys(['train', 'validation', 'test'])\n",
      "Number of rows in train: 203037\n",
      "Number of rows in validation: 6436\n",
      "Number of rows in test: 6440\n",
      "\n",
      "Columns in train:\n",
      "['article', 'abstract']\n",
      "\n",
      "Columns in validation:\n",
      "['article', 'abstract']\n",
      "\n",
      "Columns in test:\n",
      "['article', 'abstract']\n",
      "\n",
      "Sample rows from train:\n",
      "Dataset({\n",
      "    features: ['article', 'abstract'],\n",
      "    num_rows: 5\n",
      "})\n",
      "\n",
      "Sample rows from validation:\n",
      "Dataset({\n",
      "    features: ['article', 'abstract'],\n",
      "    num_rows: 5\n",
      "})\n",
      "\n",
      "Sample rows from test:\n",
      "Dataset({\n",
      "    features: ['article', 'abstract'],\n",
      "    num_rows: 5\n",
      "})\n"
     ]
    }
   ],
   "source": [
    "# Check the structure of the dataset\n",
    "print(arxiv_dataset)\n",
    "\n",
    "# List all the splits available\n",
    "print(\"Splits: \", arxiv_dataset.keys())\n",
    "\n",
    "# Get number of rows for each split\n",
    "for split in arxiv_dataset.keys():\n",
    "    print(f\"Number of rows in {split}: {len(arxiv_dataset[split])}\")\n",
    "\n",
    "# Get the column names for each split\n",
    "for split in arxiv_dataset.keys():\n",
    "    print(f\"\\nColumns in {split}:\")\n",
    "    print(arxiv_dataset[split].column_names)\n",
    "\n",
    "# Display a few sample rows from each split\n",
    "for split in arxiv_dataset.keys():\n",
    "    print(f\"\\nSample rows from {split}:\")\n",
    "    print(arxiv_dataset[split].select(range(5)))\n",
    "\n"
   ]
  },
  {
   "cell_type": "code",
   "execution_count": 9,
   "metadata": {
    "colab": {
     "base_uri": "https://localhost:8080/"
    },
    "executionInfo": {
     "elapsed": 36,
     "status": "ok",
     "timestamp": 1722872598930,
     "user": {
      "displayName": "Bibek Shiwakoti",
      "userId": "12870124355518867121"
     },
     "user_tz": 240
    },
    "id": "iidbwapC6WoK",
    "outputId": "a4be95e3-cfd8-49d2-cfc1-aadde3de7c7e"
   },
   "outputs": [
    {
     "name": "stdout",
     "output_type": "stream",
     "text": [
      "Number of examples after filtering: 345\n"
     ]
    }
   ],
   "source": [
    "# Check the number of examples in the filtered dataset\n",
    "print(f\"Number of examples after filtering: {len(dataset['train'])}\")"
   ]
  },
  {
   "cell_type": "code",
   "execution_count": null,
   "metadata": {
    "id": "N3PvWoysPDQL"
   },
   "outputs": [],
   "source": []
  },
  {
   "cell_type": "markdown",
   "metadata": {
    "id": "UQ2YeXt_vp9q"
   },
   "source": [
    "#Exploring the dataset"
   ]
  },
  {
   "cell_type": "code",
   "execution_count": 10,
   "metadata": {
    "colab": {
     "base_uri": "https://localhost:8080/"
    },
    "executionInfo": {
     "elapsed": 15,
     "status": "ok",
     "timestamp": 1722872598930,
     "user": {
      "displayName": "Bibek Shiwakoti",
      "userId": "12870124355518867121"
     },
     "user_tz": 240
    },
    "id": "kdepaFvbDO9_",
    "outputId": "940d39bb-b4f4-4cc5-ee3a-2351f95c74e9"
   },
   "outputs": [
    {
     "name": "stdout",
     "output_type": "stream",
     "text": [
      "Number of columns: 2\n",
      "Column names: ['article', 'abstract']\n",
      "Dataset({\n",
      "    features: ['article', 'abstract'],\n",
      "    num_rows: 10\n",
      "})\n"
     ]
    }
   ],
   "source": [
    "# Display the number of columns and the top 10 rows for the 'train' split\n",
    "print(f\"Number of columns: {len(dataset['train'].column_names)}\")\n",
    "print(f\"Column names: {dataset['train'].column_names}\")\n",
    "\n",
    "# Display the top 10 rows\n",
    "top_10_rows = dataset['train'].select(range(10))\n",
    "print(top_10_rows)"
   ]
  },
  {
   "cell_type": "code",
   "execution_count": 11,
   "metadata": {
    "colab": {
     "base_uri": "https://localhost:8080/"
    },
    "executionInfo": {
     "elapsed": 12,
     "status": "ok",
     "timestamp": 1722872598930,
     "user": {
      "displayName": "Bibek Shiwakoti",
      "userId": "12870124355518867121"
     },
     "user_tz": 240
    },
    "id": "MP_lcINiGCN6",
    "outputId": "362098e4-2f25-4267-a338-1c041a7ba1ac"
   },
   "outputs": [
    {
     "data": {
      "text/plain": [
       "datasets.dataset_dict.DatasetDict"
      ]
     },
     "execution_count": 11,
     "metadata": {},
     "output_type": "execute_result"
    }
   ],
   "source": [
    "type(dataset)"
   ]
  },
  {
   "cell_type": "code",
   "execution_count": 12,
   "metadata": {
    "colab": {
     "base_uri": "https://localhost:8080/"
    },
    "executionInfo": {
     "elapsed": 10,
     "status": "ok",
     "timestamp": 1722872598930,
     "user": {
      "displayName": "Bibek Shiwakoti",
      "userId": "12870124355518867121"
     },
     "user_tz": 240
    },
    "id": "BNvIRi0yvtfj",
    "outputId": "8a545a56-8541-41b1-b6c5-ef3c88fcf91e"
   },
   "outputs": [
    {
     "name": "stdout",
     "output_type": "stream",
     "text": [
      "DatasetDict({\n",
      "    train: Dataset({\n",
      "        features: ['article', 'abstract'],\n",
      "        num_rows: 345\n",
      "    })\n",
      "    validation: Dataset({\n",
      "        features: ['article', 'abstract'],\n",
      "        num_rows: 11\n",
      "    })\n",
      "    test: Dataset({\n",
      "        features: ['article', 'abstract'],\n",
      "        num_rows: 12\n",
      "    })\n",
      "})\n"
     ]
    }
   ],
   "source": [
    "print(dataset)"
   ]
  },
  {
   "cell_type": "code",
   "execution_count": 13,
   "metadata": {
    "colab": {
     "base_uri": "https://localhost:8080/"
    },
    "executionInfo": {
     "elapsed": 9,
     "status": "ok",
     "timestamp": 1722872598931,
     "user": {
      "displayName": "Bibek Shiwakoti",
      "userId": "12870124355518867121"
     },
     "user_tz": 240
    },
    "id": "lLvRJEx-GDXs",
    "outputId": "cf7b3e9b-8627-4aa5-8bbd-b6497a362c52"
   },
   "outputs": [
    {
     "data": {
      "text/plain": [
       "<function DatasetDict.keys>"
      ]
     },
     "execution_count": 13,
     "metadata": {},
     "output_type": "execute_result"
    }
   ],
   "source": [
    "dataset.keys"
   ]
  },
  {
   "cell_type": "code",
   "execution_count": 14,
   "metadata": {
    "colab": {
     "base_uri": "https://localhost:8080/"
    },
    "executionInfo": {
     "elapsed": 558,
     "status": "ok",
     "timestamp": 1722872599483,
     "user": {
      "displayName": "Bibek Shiwakoti",
      "userId": "12870124355518867121"
     },
     "user_tz": 240
    },
    "id": "kReHLYUawQdL",
    "outputId": "b60e1882-136e-4fac-f5a1-51f1e84fc03f"
   },
   "outputs": [
    {
     "name": "stdout",
     "output_type": "stream",
     "text": [
      "Dataset split: train\n",
      "Dataset({\n",
      "    features: ['article', 'abstract'],\n",
      "    num_rows: 345\n",
      "})\n",
      "['article', 'abstract']\n",
      "{'article': 'many complex systems in various areas of science exhibit a spatio - temporal dynamics that is inhomogeneous and can be effectively described by a superposition of several statistics on different scales , in short a superstatistics @xcite . \\n the superstatistics notion was introduced in @xcite , in the mean time many applications for a variety of complex systems have been pointed out @xcite . \\n essential for this approach is the existence of sufficient time scale separation between two relevant dynamics within the complex system . \\n there is an intensive parameter @xmath1 that fluctuates on a much larger time scale than the typical relaxation time of the local dynamics . in a thermodynamic \\n setting , @xmath1 can be interpreted as a local inverse temperature of the system , but much broader interpretations are possible . \\n the stationary distributions of superstatistical systems , obtained by averaging over all @xmath1 , typically exhibit non - gaussian behavior with fat tails , which can be a power law , or a stretched exponential , or other functional forms as well @xcite . \\n in general , the superstatistical parameter @xmath1 need not to be an inverse temperature but can be an effective parameter in a stochastic differential equation , a volatility in finance , or just a local variance parameter extracted from some experimental time series . \\n many applications have been recently reported , for example in hydrodynamic turbulence @xcite , for defect turbulence @xcite , for cosmic rays @xcite and other scattering processes in high energy physics @xcite , solar flares @xcite , share price fluctuations @xcite , random matrix theory @xcite , random networks @xcite , multiplicative - noise stochastic processes @xcite , wind velocity fluctuations @xcite , hydro - climatic fluctuations @xcite , the statistics of train departure delays @xcite and models of the metastatic cascade in cancerous systems @xcite . on the theoretical side , there have been recent efforts to formulate maximum entropy principles for superstatistical systems @xcite .    in this paper \\n we provide an overview over some recent developments in the area of superstatistics . \\n three examples of recent applications are discussed in somewhat more detail : the statistics of lagrangian turbulence , the statistics of train departure delays , and the survival statistics of cancer patients . in all cases the superstatistical model predictions are in very good agreement with real data . \\n we also comment on recent theoretical approaches to develop generalized maximum entropy principles for superstatistical systems . \\n in generalized versions of statistical mechanics one starts from more general entropic measures than the boltzmann - gibbs shannon entropy . \\n a well - known example is the @xmath2-entropy @xcite @xmath3 but other forms are possible as well ( see , e.g. , @xcite for a recent review ) . \\n the @xmath4 are the probabilities of the microstates @xmath5 , and @xmath2 is a real number , the entropic index . \\n the ordinary shannon entropy is contained as the special case @xmath6 :    @xmath7    extremizing @xmath8 subject to suitable constraints yields more general canonical ensembles , where the probability to observe a microstate with energy @xmath9 is given by    @xmath10    one obtains a kind of power - law boltzmann factor , of the so - called @xmath2-exponential form . \\n the important question is what could be a physical ( non - equilibrium mechanism ) to obtain such distributions . \\n the reason could indeed be a driven nonequilibrium situation with local fluctuations of the environment . \\n this is the situation where the superstatistics concept enters . \\n our starting point is the following well - known formula    @xmath11    where @xmath12 is the @xmath0 ( or @xmath13 ) probability distribution . \\n we see that averaged _ ordinary _ boltzmann factors with @xmath0 distributed @xmath1 yield a _ \\n generalized _ boltzmann factor of @xmath2-exponential form . \\n the physical interpretation is that tsallis type of statistical mechanics is relevant for _ nonequilibrium _ systems with temperature fluctuations . \\n this approach was made popular by two prls in 2000/2001 @xcite , which used the @xmath0-distribution for @xmath14 . \\n general @xmath14 were then discussed in @xcite .    in @xcite \\n it was suggested to construct a dynamical realization of @xmath2-statistics in terms of e.g. a linear langevin equation    @xmath15    with fluctuating parameters @xmath16 . here \\n @xmath17 denotes gaussian white noise . \\n the parameters @xmath18 are supposed to fluctuate on a much larger time scale than the velocity @xmath19 . \\n one can think of a brownian particle that moves through spatial cells with different local @xmath20 in each cell ( a nonequilibrium situation ) . \\n assume the probability distribution of @xmath1 in the various cells is a @xmath0-distribution of degree @xmath21 : @xmath22 then the conditional probability given some fixed @xmath1 in a given cell is gaussian , @xmath23 , the joint probability is @xmath24 and the marginal probability is @xmath25 . \\n integration yields @xmath26 i.e. we obtain power - law boltzmann factors with @xmath27 , @xmath28 , and @xmath29 . here \\n @xmath30 is the average of @xmath1 . \\n the idea of superstatistics is to generalize this example to much broader systems . \\n for example , @xmath1 need not be an inverse temperature but can in principle be any intensive parameter . \\n most importantly , one can generalize to _ general probability densities @xmath14 _ and _ general hamiltonians_. in all cases one obtains a superposition of two different statistics : that of @xmath1 and that of ordinary statistical mechanics \\n . superstatistics hence describes complex nonequilibrium systems with spatio - temporal fluctuations of an intensive parameter on a large scale . \\n the _ effective _ boltzmann factors @xmath31 for such systems are given by    @xmath32    some recent theoretical developments of the superstatistics concept include the following :    * can prove a superstatistical generalization of fluctuation theorems @xcite * can develop a variational principle for the large - energy asymptotics of general superstatistics @xcite ( depending on @xmath14 , one can get not only power laws for large @xmath33 but e.g. also stretched exponentials ) * can formally define generalized entropies for general superstatistics @xcite * can study microcanonical superstatistics ( related to a mixture of @xmath2-values ) @xcite * can prove a superstatistical version of a central limit theorem leading to @xmath2-statistics @xcite * can relate it to fractional reaction equations @xcite * can consider superstatistical random matrix theory @xcite * can apply superstatistical techniques to networks @xcite * can define superstatistical path integrals @xcite * can do superstatistical time series analysis @xcite    ... and some more practical applications :    * can apply superstatistical methods to analyze the statistics of 3d hydrodynamic turbulence @xcite * can apply it to atmospheric turbulence ( wind velocity fluctuations @xcite ) * can apply superstatistical methods to finance and economics @xcite * can apply it to blinking quantum dots @xcite * can apply it to cosmic ray statistics @xcite * can apply it to various scattering processes in particle physics @xcite * can apply it to hydroclimatic fluctuations @xcite * can apply it to train delay statistics @xcite * can consider medical applications @xcite \\n while in principle any @xmath14 is possible in the superstatistics approach , in practice one usually observes only a few relevant distributions . \\n these are the @xmath0 , inverse @xmath0 and lognormal distribution . in other words , in typical complex systems with time scale separation one usually observes 3 physically relevant universality classes @xcite    * \\\\(a ) @xmath0-superstatistics ( @xmath34 tsallis statistics ) * \\\\(b ) inverse @xmath0-superstatistics * \\\\(c ) lognormal superstatistics    what could be a plausible reason for this ? \\n consider , e.g. , case ( a ) . \\n assume there are many microscopic random variables @xmath35 , @xmath36 , contributing to @xmath1 in an additive way . \\n for large @xmath37 , the sum @xmath38 will approach a gaussian random variable @xmath39 due to the ( ordinary ) central limit theorem . \\n there can be @xmath21 gaussian random variables @xmath40 of the same variance due to various relevant degrees of freedom in the system . \\n @xmath1 should be positive , hence the simplest way to get such a positive @xmath1 is to square the gaussian random variables and sum them up . as a result \\n , @xmath41 is @xmath0-distributed with degree @xmath21 , @xmath42 where @xmath43 is the average of @xmath1 . \\n \\\\(b ) the same considerations can be applied if the temperature @xmath44 rather than @xmath1 itself is the sum of several squared gaussian random variables arising out of many microscopic degrees of freedom @xmath35 . \\n the resulting @xmath14 is the inverse @xmath0-distribution : @xmath45 it generates superstatistical distributions @xmath46 that decay as @xmath47 for large @xmath33 . \\n \\\\(c ) @xmath1 may be generated by multiplicative random processes . \\n consider a local cascade random variable @xmath48 , where @xmath37 is the number of cascade steps and the @xmath35 are positive microscopic random variables . by the ( ordinary ) central limit theorem , for large @xmath37 the random variable @xmath49 becomes gaussian for large @xmath37 . \\n hence @xmath39 is log - normally distributed . \\n in general there may be @xmath21 such product contributions to @xmath1 , i.e. , @xmath50 . \\n then @xmath51 is a sum of gaussian random variables , hence it is gaussian as well . \\n thus @xmath1 is log - normally distributed , i.e. , @xmath52 where @xmath53 and @xmath54 are suitable parameters . \\n we will now discuss examples of the three different superstatistical universality classes . \\n our first example is the departure delay statistics on the british rail network . \\n clearly , at the various stations there are sometimes train departure delays of length @xmath55 . the 0th - order model for the waiting time would be a poisson process which predicts that the waiting time distribution until the train finally departs is @xmath56 , where @xmath1 is some parameter . \\n but this does not agree with the actually observed data @xcite . \\n a much better fit is given by a @xmath2-exponential , see fig .  1 .    ) \\n .,width=302 ]    what may cause this power law that fits the data ? \\n the idea is that there are fluctuations in the parameter @xmath1 as well . \\n these fluctuations describe large - scale temporal or spatial variations of the british rail network environment . \\n examples of causes of these @xmath1-fluctuations :    * begin of the holiday season with lots of passengers * problem with the track * bad weather conditions * extreme events such as derailments , industrial action , terror alerts , etc .    as a result , \\n the long - term distribution of train delays is then a mixture of exponential distributions where the parameter @xmath1 fluctuates :    @xmath57    for a @xmath0-distributed @xmath1 with @xmath21 degrees of freedom one obtains    @xmath58    where @xmath59 and @xmath60 . \\n the model discussed in @xcite generates @xmath2-exponential distributions of train delays by a simple mechanism , namely a @xmath0-distributed parameter @xmath1 of the local poisson process . \\n this is an example for @xmath0 superstatistics . \\n our next example is an application in turbulence . consider a single tracer particle advected by a fully developed turbulent flow . \\n for a while it will see regions of strong turbulent activity , then move on to calmer regions , just to continue in yet another region of strong activity , and so on . \\n this is a superstatistical dynamics , and in fact superstatistical models of turbulence have been very successful in recent years @xcite . \\n the typical shape of a trajectory of such a tracer particle is plotted in fig .  2 . \\n this is lagrangian turbulence in contrast to eulerian turbulence , meaning that one is following a single particle in the flow . in particular , one is interested in velocity differences @xmath61 of the particle on a small time scale @xmath62 . for @xmath63 \\n this velocity difference becomes the local acceleration @xmath64 . \\n a superstatistical lagrangian model for 3-dim velocity differences of the tracer particle has been developed in @xcite . \\n one simply looks at a superstatistical langevin equation of the form    @xmath65    here @xmath66 and @xmath67 are constants . note that the term proportional to @xmath67 introduces some rotational movement of the particle , mimicking the vortices in the flow . \\n the noise strength @xmath68 and the unit vector @xmath69 evolve stochastically on a large time scale @xmath70 and @xmath71 , respectively , thus obtaining a superstatistical dynamics . \\n @xmath70 is of the same order of magnitude as the integral time scale @xmath72 , whereas @xmath73 is of the same order of magnitude as the kolmogorov time scale @xmath74 . \\n one can show that the reynolds number @xmath75 is basically given by the time scale ratio @xmath76 . \\n the time scale @xmath77 describes the average life time of a region of given vorticity surrounding the test particle .    in this superstatistical turbulence model \\n one defines the parameter @xmath1 to be @xmath78 , but it does _ not _ have the meaning of a physical inverse temperature in the flow . \\n rather , one has @xmath79 , where @xmath80 is the kinematic viscosity and @xmath81 is the average energy dissipation , which is known to fluctuate in turbulent flows . \\n in fact , kolmogorov s theory of 1961 suggests a lognormal distribution for @xmath82 , which automatically leads us to lognormal superstatistics : it is reasonable to assume that the probability density of the stochastic process @xmath83 is approximately a lognormal distribution @xmath84 for very small @xmath62 the 1d acceleration component of the particle is given by @xmath85 and one gets out of the model the 1-point distribution @xmath86 this prediction agrees very well with experimentally measured data of the acceleration statistics , which exhibits very pronounced ( non - gaussian ) tails , see fig .  3 for an example .    ) \\n ( see @xcite for more details).,width=302 ]    it is interesting to see that our 3-dimensional superstatistical model predicts the existence of correlations between the acceleration components . \\n for example , the acceleration @xmath87 in @xmath88 direction is not statistically independent of the acceleration @xmath89 in @xmath90-direction . \\n we may study the ratio @xmath91 of the joint probability @xmath92 to the 1-point probabilities @xmath93 and @xmath94 . \\n for independent acceleration components this ratio would always be given by @xmath95 . \\n however , our 3-dimensional superstatistical model yields prediction @xmath96 this is a very general formula , valid for any superstatistics , for example also tsallis statistics , obtained when @xmath14 is the @xmath0-distribution . \\n the trivial result @xmath95 is obtained only for @xmath97 , i.e.  no fluctuations in the parameter @xmath1 at all . \\n 4 shows @xmath91 as predicted by lognormal superstatistics :    ) , @xmath14 being the lognormal distribution.,width=302 ]    the shape of this is very similar to experimental measurements @xcite . \\n our final example of application of superstatistics is for a completely different area : medicine . \\n we will look at cell migration processes describing the metastatic cascade of cancerous cells in the body @xcite . \\n there are various pathways in which cancerous cells can migrate : via the blood system , the lymphatic system , and so on . \\n the diffusion constants for these various pathways are different . in this way \\n superstatistics enters , describing different diffusion speeds for different pathways ( see fig . \\n 5 ) . \\n but there is another important issue here : when looking at a large ensemble of patients then the spread of cancerous cells can be very different from patient to patient . for some patients the cancer spreads in a very aggressive way , whereas for others it is much slower and less aggressive . \\n so superstatistics also arises from the fact that all patients are different .    a superstatistical model of metastasis and cancer survival has been developed in @xcite . \\n details are described in that paper . \\n here we just mention the final result that comes out of the model : one obtains the following prediction for the probability density function of survival time @xmath55 of a patient that is diagnosed with cancer at @xmath98 : @xmath99 or @xmath100 , \\\\label{eq7}\\\\end{aligned}\\\\ ] ] where @xmath101 is the modified bessel function . \\n note that this is inverse @xmath0 superstatistics . \\n the role of the parameter @xmath1 is now played by the parameter @xmath102 , which in a sense describes how aggressively the cancer propagates .    the above formula based on inverse @xmath0 superstatistics is in good agreement with real data of the survival statistics of breast cancer patients in the us . \\n the superstatistical formula fits the observed distribution very well , both in a linear and logarithmic plot ( see fig.6 ) . \\n one remark is at order . \\n when looking at the relevant time scales one should keep in mind that the data shown are survival distributions _ conditioned on the fact that death occurs due to cancer_. many patients , in particular if they are diagnosed at an early stage , will live a long happy life and die from something else than cancer . \\n these cases are _ not _ included in the data .    , \\n both in a linear and double logarithmic plot . only patients that die from cancer are included in the statistics . \\n the solid line is the superstatistical model prediction @xcite . \\n , title=\"fig:\",width=302 ] , both in a linear and double logarithmic plot . \\n only patients that die from cancer are included in the statistics . \\n the solid line is the superstatistical model prediction @xcite . \\n , title=\"fig:\",width=302 ] \\n we finish this article by briefly mentioning some other recent interesting theoretical developments . \\n one major theoretical concern is that a priori the superstatistical distribution @xmath14 can be anything . \\n but perhaps one should single out the really relevant distributions @xmath14 by a least biased guess , given some constraints on the complex system under consideration . \\n this program has been developed in some recent papers @xcite . \\n there are some ambiguities which constraints should be implemented , and how . a very general formalism is presented in @xcite , which contains previous work @xcite as special cases . \\n the three important universality classes discussed above , namely @xmath0 superstatistics , inverse @xmath0 superstatistics and lognormal superstatistics are contained as special cases in the formalism of @xcite . in principle , once a suitable generalized maximum entropy principle has been formulated for superstatistical systems , one can proceed to a generalized thermodynamic description , get a generalized equation of state , and so on . \\n there is still a lot of scope of future research to develop the most suitable formalism . \\n but the general tendency seems to be to apply maximum entropy principles and least biased guesses to nonequilibrium situations as well . \\n in fact , jaynes @xcite always thought this is possible . \\n another interesting development is what one could call a superstatistical path integral . \\n these are just ordinary path integrals but with an additional integration over a parameter @xmath1 that make the wiener process become something more complicated , due to large - scale fluctuations of its diffusion constant . \\n jizba et al . \\n investigate under which conditions one obtains a markov process again @xcite . \\n it seems some distributions @xmath14 are distinguished as making the superstatistical process simpler than others , preserving markovian - like properties . \\n these types of superstatistical path integral processes have applications in finance , and possibly also in quantum field theory and elementary particle physics .    in high energy physics , \\n many of the power laws observed for differential cross sections and energy spectra in high energy scattering processes can also be explained using superstatistical models @xcite . \\n the key point here is to extend the hagedorn theory @xcite to a superstatistical one which properly takes into account temperature fluctuations @xcite . \\n superstatistical techniques have also been recently used to describe the space - time foam in string theory @xcite . \\n superstatistics ( a statistics of a statistics ) provides a physical reason why more general types of boltzmann factors ( e.g.  @xmath2-exponentials or other functional forms ) are relevant for _ nonequilibrium _ systems with suitable fluctuations of an intensive parameter . \\n let us summarize :    * there is evidence for three major physically relevant universality classes : @xmath0-superstatistics @xmath34 tsallis statistics , inverse @xmath0-superstatistics , and lognormal superstatistics . \\n these arise as universal limit statistics for many different systems . * \\n superstatistical techniques can be successfully applied to a variety of complex systems with time scale separation . * \\n the train delays on the british railway network are an example of @xmath0 superstatistics = tsallis statistics @xcite . * a superstatistical model of _ lagrangian turbulence _ \\n @xcite is in excellent agreement with the experimental data for probability densities , correlations between components , decay of correlations , lagrangian scaling exponents , etc . \\n this is an example of lognormal superstatistics @xcite . \\n * cancer survival statistics is described by inverse @xmath0 superstatistics @xcite . * \\n the long - term aim is to find a good thermodynamic description for general superstatistical systems . \\n a generalized maximum entropy principle may help to achieve this goal . \\n 99 c. beck and e.g.d . \\n cohen , physica a * 322 * , 267 ( 2003 ) c. beck , e.g.d . \\n cohen , and h.l . \\n swinney , phys . \\n e * 72 * , 056133 ( 2005 ) c. beck and e.g.d . \\n cohen , physica a * 344 * , 393 ( 2004 ) h. touchette and c. beck , phys . \\n e * 71 * , 016131 ( 2005 ) c. tsallis and a.m.c . \\n souza , phys . \\n e * 67 * , 026106 ( 2003 ) p. jizba , h. kleinert , phys . \\n e * 78 * , 031122 ( 2008 ) c. vignat , a. plastino and a.r . \\n plastino , cond - mat/0505580 c. vignat , a. plastino , arxiv 0706.0151 p .- h . \\n chavanis , physica a * 359 * , 177 ( 2006 ) g. wilk and z. wlodarczyk , phys . \\n lett . * 84 * , 2770 ( 2000 ) c. beck , phys . \\n * 87 * , 180601 ( 2001 ) k.  e. daniels , c. beck , and e. bodenschatz , physica d * 193 * , 208 ( 2004 ) c. beck , physica a * 331 * , 173 ( 2004 )    m. baiesi , m. paczuski and a.l . \\n stella , phys . \\n lett . * 96 * , 051103 ( 2006 ) y. ohtaki and h.h . \\n hasegawa , cond - mat/0312568 a.y . \\n abul - magd , physica a * 361 * , 41 ( 2006 ) s. rizzo and a. rapisarda , aip conf . proc . * 742 * , 176 ( 2004 ) ( cond - mat/0406684 ) t. laubrich , f. ghasemi , j. peinke , h. kantz , arxiv:0811.3337 a. porporato , g. vico , and p.a . \\n fay , geophys . res \\n . lett . * 33 * , l15402 ( 2006 ) a. reynolds , phys . \\n * 91 * , 084503 ( 2003 ) h. aoyama et al . \\n , arxiv:0805.2792 e. van der straeten , c. beck , arxiv:0901.2271 a.y . \\n abul - magd , g. akemann , p. vivo , arxiv 0811.1992 c. beck , europhys . lett . * 64 * , 151 ( 2003 ) c. beck , phys . \\n * 98 * , 064502 ( 2007 ) g. wilk , z. wlodarczyk , arxiv:0810.2939 c. beck , arxiv:0902.2459 m. ausloos and k. ivanova , phys . \\n e * 68 * , 046122 ( 2003 ) j .- p . \\n bouchard and m. potters , _ theory of financial risk and derivative pricing _ , cambridge university press , cambridge ( 2003 )    a.y . \\n abul - magd , b. dietz , t. friedrich , a. richer , phys . \\n e * 77 * , 046202 ( 2008 ) s. abe and s. thurner , phys . \\n e * 72 * , 036102 ( 2005 ) slvio m. duarte queirs , braz . \\n * 38 * , 203 ( 2008 ) k. briggs , c. beck , physica a * 378 * , 498 ( 2007 ) l. leon chen , c. beck , physica a * 387 * , 3162 ( 2008 ) s. abe , c. beck and g. d. cohen , phys . \\n e * 76 * , 031102 ( 2007 ) g. e. crooks , phys . \\n e * 75 * , 041119 ( 2007 ) j. naudts , aip conference proceedings * 965 * , 84 ( 2007 )    e. van der straeten , c. beck , phys . \\n e * 78 * , 051101 ( 2008 ) c. tsallis , j. stat . \\n phys . * 52 * , 479 ( 1988 ) c. tsallis , r.s . \\n mendes , a.r . \\n plastino , physica a * 261 * , 534 ( 1998 ) c. beck , arxiv:0902:1235 , to appear in contemporary physics ( 2009 ) a.m. mathai and h.j . \\n haubold , physica a * 375 * , 110 ( 2007 )        r. d. rosenkrantz , _ e.t . \\n jaynes : papers on probability , statistics and statistical physics , _ kluwer ( 1989 ) r. hagedorn , suppl . \\n nuovo cim . \\n * 3 * , 147 ( 1965 ) c. beck , physica a * 286 * , 164 ( 2000 ) n.e . \\n mavromatos and s. sarkar , arxiv:0812.3952', 'abstract': 'we provide an overview on superstatistical techniques applied to complex systems with time scale separation . \\n three examples of recent applications are dealt with in somewhat more detail : the statistics of small - scale velocity differences in lagrangian turbulence experiments , train delay statistics on the british rail network , and survival statistics of cancer patients once diagnosed with cancer . \\n these examples correspond to three different universality classes : lognormal superstatistics , @xmath0-superstatistics and inverse @xmath0 superstatistics .'}\n",
      "Number of rows in train: 345\n",
      "\n",
      "Dataset split: validation\n",
      "Dataset({\n",
      "    features: ['article', 'abstract'],\n",
      "    num_rows: 11\n",
      "})\n",
      "['article', 'abstract']\n",
      "{'article': 'the political idea and the political measures , austerity , are based on a simple and single myth . namely that economic growth is stopped when the national debt reaches a critical limit of 90% of the gdp . \\n this comes from a single scientific article published by two economists , reinhart & rogoff . in the meantime \\n this article has been debunked as being scientific crap [ see krugman ] . \\n very few economists agree with the ideas . \\n nearly no economists think that austerity is the answer to the crisis . + in the meantime \\n you can not stop a running train  austerity will continue . \\n austerity is _ ruinous _ for our society , as will be shown here . \\n it is unnecessary and ruinous . \\n the article that proved that a 90% debt is fatal is wrong for three reasons :    1 . \\n they inverted cause - and effect . while ( marginally ) proving that `` slow economic growth \\'\\' and `` a debt of more than 90% \\'\\' are related , the cause and effect were inverted . \\n in fact , a debt of more than 90% is _ caused _ by a slow growth and not the other way around . \\n ergo , _ reducing the debt will not cause growth ! _ ( in fact , the opposite happens , as most economists predict and what everybody can see ) . \\n they threw away data that were not agreeing with their thesis . \\n they analyzed the remaining data wrongly ( excel programming error ) . \\n an example is portugal , the country where i live . when it reached the critical threshold of 90% debt , under pressure of the international community ( read : european union ) , it was forced to introduce austerity . \\n the result was an economy that came to a standstill and the debt skyrockets ever since then , standing at 123% at the moment of writing this . \\n the reason why politicians think the way they do is best explained by psychology . because they themselves have little to no knowledge of economy , they use common sense , which is a semi - religious attitude ( in the sense that you _ \\n things ) . combined with the fact that all people try to make things simple in their head , they start analyzing the things in a general way , treating micro - economy ( house - hold economy ) and macro - economy ( state economy ) as the same thing . these things , however , are fundamentally different . where a statement as `` you can not spend more than you get in , in the long run \\'\\' , i.e. , you can not keep on borrowing money , is valid for a family household , this is not at all true for a state economy . in fact , borrowing money is the engine of economy . without keeping to borrow money , the economy will crash . \\n because the politicians are convinced of their own right , they select the scientific publications that agree with their ideas , while ignoring others . then , as self - acclaimed heroes of our society , they hire the new scientists that will prove their ideas . \\n ( this is a phenomenon equal to the one used for the subject of climate change ) . after a while they have a set of papers in their hand that prove what they always knew.    yet , the ideas are incorrect . to show this \\n , we have to study how banking works  especially fractional - reserve banking ( frb )  take a look at the phenomenon of interest rates , economy ( specially as explained by karl marx and thomas malthus ) , and sociology ( namely liberalism ) . \\n let s get rolling . \\n frb is a technique where a bank can lend more money than it has itself available ( deposited by clients ) . \\n normally , a ratio is 9:1 is used , money lent vs. the base product of banking . \\n this base product used to be gold . \\n so , a bank could issue 9 times more bank notes ( rights to gold ) than it had gold in its vault . \\n imagine , a person comes with a sack of 1 kilo of gold . \\n this person gets a note from the bank saying `` you have deposited 1 kilo of gold in my bank . \\n this note can be exchanged for that 1 kilo of gold any time you want \\'\\' . \\n but it can legally give this same note to 8 more people ! \\n 9 notes that promise 1 kilo of gold for every kilo of gold deposited . \\n banks are masters of promising things they in no way whatsoever can ever fulfill . and \\n , everybody knows it . and , still we trust the banks . \\n it is an amazing mass denial effect . \\n we trust it , because it gives us wealth . \\n this confidence in the system is what is , actually , _ essential _ in the economy . \\n our civilization depends on the low - morality of the system and our unwavering confidence in it . \\n you are allowed to lie even if the lie is totally and utterly obvious and undeniably without a shred of doubt a lie .    in modern times , \\n the gold standard has been abandoned , because it limits the game . \\n countries with the most advanced financial structures are the richest . \\n abandoning the gold standard creates enormous wealth . \\n rich , advanced nations , therefore , have abandoned the gold standard . in modern banks , no longer gold , but money itself is the base . \\n that is , the promissory notes promise  promissory notes . \\n it is completely air . \\n yet , it works , because everybody trusts it ll work . \\n moreover , banks no longer issue bank notes themselves , except the central bank . \\n the real money of the central bank is called base money ( m0 or tier 1 ) and serves as gold in modern banks . \\n the bank notes from the bank promise bank notes from the central bank . \\n banks use this base money no longer to directly print money ( bank notes ) , but something that is equivalent , namely to lend money to their clients by just adding a number on their account . \\n this , once again , works because everybody trusts it works . \\n but is has become even thinner than air . \\n it is equal to vacuum . \\n there is no physical difference whatsoever anymore between having money and not having it . \\n if i have 0 on my account , or 10000000000000000 dollars , i have the same size information on the computer of my bank . \\n the same number of bytes ( however many they may be ) . \\n i just hope that one day a tiny random fluctuation occurs in their computer and sets me the first bit to a 1 ( unless it is the sign bit , of course ) . \\n nobody would notice , since there is nowhere money disappearing in the world . \\n simply more vacuum has been created . \\n but , it gets even worse . this newly created money ( the number on an account of bank a ) \\n can be deposited in other banks ( write a check , deposit it , or make a bank transfer to bank b ) . in this other bank b , it can again be used as a base for creating money by adding a number to peoples bank account . as long as a certain amount of base money ( m0 , or tier 1 ) \\n is maintained . \\n + as a side mark , note that bankers do not understand the commotion of the people in calling their rewards astronomical , since they know  in contrast to the people that think that money represents earning based on hard work  that money is vacuum . giving a bonus to the manager in the form of adding a couple of zeros to her account in her own bank \\n is nothing but air . \\n the most flagrant case of self - referential emptiness is the bank that was bought with its own money .    in this way \\n , the money circulating in the economy can be much larger than the base money ( of the central bank ) . and \\n , all this money is completely air . \\n the amount of money in the world is utterly baseless . \\n since it is air , moreover an air - system that is invented to facilitate the creation of wealth , we can intervene in the system in _ any _ way we want , if we see that this intervention is needed to optimize the creation of wealth . \\n think of it like this : the money and the money system was invented to enable our trade to take place . \\n if we see that money no longer serves us ( but we , instead , seem to serve the money ) and decide to organize this trade in another way , we can do so without remorse . \\n if we want to confiscate money and redistribute it , this is morally justified if that is what it takes to enable the creation of wealth . + especially since , as will be shown , there is no justice in the distribution . \\n it is not as if we were going to take away hard - earned money from someone . \\n the money is just accumulated on a big pile . \\n intervention is adequate , required and justified . \\n not intervening makes things much worse for everybody . \\n important to make this observation : all money thus circulating in the world is borrowed money . \\n money is nothing less and nothing more than debt . without lending and borrowing , there is no debt and there is no money . without money , there is no trade and no economy . without debt , \\n the economy collapses . \\n the more debt , the bigger the economy . \\n if everybody were to pay back his / her debt , the system would crash . \\n anyway , it is technically not possible to pay back the money borrowed . why ? \\n because of the interest rates . \\n interest is the phenomenon that somebody who lends money  or actually whatever other thing  to somebody that borrows it , wants more money back than it gave . \\n impossible_.    to give you an example . \\n imagine we have a library , and this library is the only entity in the world that can print books . \\n imagine it lends books to its customers and after one week , for every book that it lent out , it wants two back . \\n for some customers it may still be possible . \\n i may have somehow got the book from my neighbor ( traded it for a dvd movie ? ) , and i can give the two books the library demands for my one book borrowed . \\n but that would just be passing the buck around ; now my neighbor has to give back to the library two books , where he has none . \\n + this is how our economy works . and , \\n to explain you what the current solution is of our society is that the library says `` you do nt have two books \\n ? do nt worry . \\n we make it a new loan . \\n two books now . next week \\n you can give us four \\'\\' . \\n this is the system we have . \\n printing money ( books ) is limited to banks ( libraries ) . \\n the rest borrow the money and in no way whatsoever  absolutely out of the question , fat chance , do nt even think about it \\n is it possible to give back the money borrowed _ plus _ the interest , because this extra money simply does not exist , nor can it be created by the borrowers , because that is reserved to the lenders only . \\n bankrupt , _ unless _ these lenders refinance our loans by new loans .    when explaining this to people , they nearly always fervently oppose to this idea , because they think that with money new wealth can be created , and thus the loan can be paid back including the interest , namely with the newly created wealth . \\n this , however , is wrong thinking , because wealth and the commodity used in the loan are different things . \\n + imagine it like this : imagine i lend society 100 euros from my bank with 3% interest . \\n the only euros in circulation , since i am the only bank . \\n society invests it in tools for mining with which they find a mother lode with 200 million tons of gold . yet , after one year , i want 103 euros back . \\n i do nt want gold . \\n i want money ! \\n if they can not give me my rightful money , i will confiscate everything they own . \\n i will offer 2 euros for all their possessions ( do they have a better offer somewhere ? ! ) . \\n i ll just print 2 extra euros and that s it . \\n actually it is not even needed to print new money . \\n i get everything . at the end of the year \\n , i get my 100 euro back , i get the gold and mining equipment , and they still keep a debt of 1 euro . + a loan can only be paid back if the borrower can somehow produce the _ same _ ( ! ) commodity that is used in the loan , so that it can give back the loan plus the interest . \\n if gold is lent , and the borrower can not produce gold , he can not give back the gold plus interest . \\n the borrower will go bankrupt . if , on the other hand , chickens or sacks of grain are borrowed , these chickens or grain _ can _ be given back with interest . \\n + banks are the only ones that can produce money , therefore the borrowers will go bankrupt . \\n full stop . \\n to say it in another way . \\n if we have a system where interest is charged on debt , no way whatsoever can _ all _ borrowers pay back the money . somebody _ has _ to go bankrupt , unless the game of refinancing goes on forever . \\n this game of state financing can go on forever as long as the economy is growing exponentially . \\n that is , it is growing with constant percentage . \\n the national debt , in terms of a percentage of the gross domestic product ( gdp ) remains constant , if we continuously refinance and increase the debt , as long as the economy gdp grows steadily too . \\n the moment the economy stagnates , it is game over ! debt will rise quickly . \\n countries will go bankrupt . \\n ( note that increasing debt is thus the result of a stagnating economy and not the other way around ! ) .    the way the system decides who is going bankrupt , is decided by a feed - back system . \\n the first one that seems to be in trouble has more difficulty refinancing its loans ( `` you have low credit rating . \\n i fear you will not give me back my books . \\n i want a better risk reward . \\n it is now three books for every book borrowed . \\n take it or leave it ! if you do nt like it , you can always decide to give me my books now and we ll call it even \\'\\' ) . \\n thus , some countries will go bankrupt , unless they are allowed to let the debt grow infinitely . if not , sooner or later one of them will go bankrupt . \\n in other words , the _ average _ interest rate is always zero . \\n one way or another . \\n if @xmath0% interest is charged , about @xmath0% go bankrupt . to be more precise , @xmath1% of the borrowed money \\n is never returned , compensating for the @xmath2%@xmath3 that do return it with @xmath0% profit . in a mathematical formula : @xmath4 , or @xmath5 . \\n this percentage goes bankrupt . \\n for example , if 100% interest is charged , 50% goes bankrupt .    to take it to the extreme . \\n if the market is cautious \\n full of responsible investors  and decides to lend money only to stable countries , like germany , which lately ( times are changing indeed ) has a very good credit rating from the financial speculators , even these stable countries go bankrupt . \\n that is , the weakest of these stable countries . \\n if only money is borrowed to germany , germany goes bankrupt . \\n apart from the technical mathematical certainty that a country can only have a positive trade balance \\n essential in getting a good credit rating  if another country has a _ negative _ trade balance ( the sum , being a balance , is _ always _ zero ) . \\n germany needs the countries like greece as much as it despises them . \\n + well , in fact , this is not true . \\n a country does not \\n nay , it _ can not _  go bankrupt for money borrowing . not if it is an isolated country with its own currency , being also the currency in which the money is borrowed . \\n it can simply print money . that is because the money is their own currency based on their own economy . \\n money is the base of banking and commerce and thus of the entire economy . \\n the government is managing this economy one way or another . \\n it thus defines the monetary policy . \\n they set the standards of the base money . \\n they also borrow money from the _ same _ society to finance the governmental operations . note the important stress on the word same. the fact that borrowers and lenders are from the same society is essential . \\n + government writes out government bonds to finance itself . \\n we should look at it like this : technically speaking , since the government is the head of society , it is borrowing its own money ! \\n it can thus do so at any amount it sees fit . \\n it can reward the lenders with an interest paid , but that is a cigar of their own boxes . \\n at least for the society as a whole . not so for the individual elements of society as will be shown later . \\n but , imagine for the sake of simplicity that everybody in society lends the same fraction of its money to the state . \\n if the government has to pay interest on it , say 3% , it just prints 3% extra bank notes and nobody is the richer , since it will just cause 3% inflation . \\n we could only hope that an increase in wealth was achieved , and everybody will be happy . \\n printing banknotes is a form of taxing , transferring buying power from the society ( money users ) to the money - printing entities . \\n + if not everybody lends money , effectively buying power is also transferred from the non - lenders ( who feel more inflation than interest ) to the lenders ( who feel more interest than inflation ) , in a zero - sum way ( interest @xmath6 inflation = 0 ) . \\n this is a monetary example of how capital attracts capital , which will be discussed in the next section . \\n but , for the moment imagine that everybody is borrowing an equal fraction of its money . everybody is thus paying for his / her own financing . \\n it is a complete internal effect . \\n even if the government were to decide to multiply the money in circulation by a factor of 10 , this has no effect whatsoever , apart from a 900% inflation and a 90% devaluation of the national currency compared to other currencies in the world . \\n still , having ten times more of that money , this also does not decrease buying power abroad . \\n + government can do with its own currency what it wants . \\n it should not feel ashamed or incommoded to have a budget deficit of @xmath0% , or have a national debt of @xmath1% . \\n these numbers can even be astronomical . \\n they are just numbers . + as an investor it is the safest thing to do to invest in government bonds . \\n irrespective of what the country does , at the end of the cycle you get a larger share of the country s wealth than if you had nt invested your money . without investing , \\n you only suffer from inflation . \\n putting your money in a mattress is destruction of capital . \\n it gets totally different with a pan - continent , multi - country , single currency like the euro . in this case , if one region , say greece , spends more than it earns , citizens from other countries effectively pay for it , one way or another . \\n if money is being printed , inflation occurs that hurts citizens of other countries . \\n that is why a controlled budget is required for all countries . \\n everybody should have equal deficit in budget , and an arbitrary norm of 3% was chosen and a state debt of not more than 90% ( the latter being stupidly scientifically proven , which is too silly for words , but this came in very handy by the governments ) . as a side - mark , even if the government were to have an eternal 3% budgetary deficit , the national debt , relative to the gross domestic product ( gdp ) , can remain constant , as long as gdp grows with a constant rate as well ( not even necessarily at a rate larger than the deficit ) . \\n the problem now lies in the fact that this also necessitates the same interest rate for all countries . unfortunately  and the cause for all the problems in europe  is that only the first part of the euro was introduced ( equal budget rules ) , but not the second ( equal interest rates ; eurobonds ) . \\n now the market is left to speculate on countries and interest rates fluctuate widely for different countries . \\n it was thought that exactly this threatening market speculation would force countries to keep within the agreed budgetary limits . however , speculation is a form of a positive feedback system . \\n if one country sticks out just a teeny weeny bit for some reason whatever , the interest rate for this country will go up a little bit and this causes problems for that country and thus more speculation that that country will not make it and more interest rates and more problems , etc . \\n it is an unstable system . or metastable at best , waiting for an accident to happen . \\n well , it happened . \\n now there are some countries for which the interest rates have sky - rocketed . \\n and there s no way to do anything about it . \\n they can not print money , since the others wo nt let them . \\n in fact , it is the others that even benefit from the situation . \\n a country like germany wins by the misery of other countries . \\n first , directly by usury , lending money for astronomical interest rates . \\n second , its own interest rates on borrowing money go down , because the investors see it as a safe haven of their money . \\n if it were nt for the fact that the entire economy of europe is destroyed , affecting also the strong countries , germany would do nothing , as its money owners find the situation perfect . \\n and government is representing these money lenders and controls its people  who could nt care less  by using simple rhetoric that `` these countries deserve the problems they are in because they did something wrong \\'\\' . \\n inside a bank , as shown in the frb section , money can be created at will . \\n imagine now what happens . \\n germany needs 100 billion euro to finance its budget . \\n it needs to borrow this money . \\n it goes to a bank ( or puts it up for sale in an auction , and a bank wins the auction ) . \\n the bank adds the number 100 billion to the account of the state . creating money out of air . \\n the state now can make payments from this account . \\n after one year ( assuming that is the maturity of the loan ) , the state pays back the money , plus 3% interest ( assuming that was the interest rate ) , 103 billion in total . 100 billion is used to cancel the number on the account of the state . \\n 3 billion go to the reserve . \\n the bank has made 3 billion euro on air . \\n the profit rate ( roi , return on investment ) for the bank is infinite ; zero invested , 3 billion euro profit . \\n + if the fractional reserve ratio ( rr ) is limited , the roi is less than infinite , but still astronomical . \\n image the rr is 10% . \\n 1 billion real money can then be used to lend out 10 billion virtual money . with 300 million interest paid one year later ( 3% of 10 billion ) \\n , the roi is 30% ( 300 million profit for 1 billion invested ) . \\n a country like portugal pays 5% and the rr is often 20 . \\n that implies 100% profit in a year . \\n banking , the most beautiful thing in the world . \\n now you understand why a bank like ing ( internationale nederlanden groep ) does not mind paying a fine of 50% for early payback of government support . \\n 5 billion fine for two - year - early payback of a 10 billion loan . \\n any other company would consider the 33% loi ( loss on investment ) a bad deal . \\n not so for a bank . \\n apparently they can compensate somehow , and 33% roi is rather common in the financial sector .    even if a bank uses real money for lending and not air , interest on the money makes that all of the money of society will wind up in the bank . \\n frb just speeds up the process . and \\n if the borrower can not pay back the money , assets ( another form of capital ) of this borrower will be confiscated . \\n generally speaking , interest on money lending is a way of transferring wealth to the capital , as explained by marx in his classical work the capital . \\n it is called condensation of wealth . \\n marxism is a taboo word in our world . \\n even while you read it , you will now feel some reluctance and urge to ridicule this text , to which you agreed until now . \\n that is because you , like me ( i only read these theories very recently ) , were brought up in that environment . \\n however , marx has long ago analyzed the phenomenon that wealth is accumulating . \\n this banking system we have is nothing more and nothing less than an example of the phenomenon marx mentioned in his works . \\n + marx had one brilliant new idea that all the other economists before him missed . \\n he is therefore as brilliant as darwin is for biology , or newton for physics . \\n but just like darwin and newton , he does not have the final word . \\n + his idea is simple , brilliant in its sheer simplicity , and can be summarized in the following question :    _ _ _ _ _ _ _ _ _ _ _ _ _ _ _ _ _ _ _ _ _ _ _ _ _ _ _ _ _ _ _ _ _ _ _ _ _ _ _ _ _ _ _ _ _ _ _ _ _ _ _ _ _ _ _ _ _ _ _ _ _ _ _ _ _ _ _ _ _ _ _ _ _ _ _ _ _ _ _ _ _ _ _ _ _ _ _ _ _ _ _ _ _ _ _ _ _ _ _ _ _ _ _ _ _ _ _ _ _ _ _ _ _ _ _ _ _ _ _ _ _ _ _ _ _ _ _ _ _ _ _ _ _ _ _ _ _ _ _ _ _ _ _ _ _ _ _ _ _ _ _ _ _ _ _ _ _ _ _ _ _ `` workers produce things , and consume things . \\n workers produce more than they consume . who gets the surplus labor ( production minus consumption ) of the workers ? \\'\\' _ _ _ _ _ _ _ _ _ _ _ _ _ _ _ _ _ _ _ _ _ _ _ _ _ _ _ _ _ _ _ _ _ _ _ _ _ _ _ _ _ _ _ _ _ _ _ _ _ _ _ _ _ _ _ _ _ _ _ _ _ _ _ _ _ _ _ _ _ _ _ _ _ _ _ _ _ _ _ _ _ _ _ _ _ _ _ _ _ _ _ _ _ _ _ _ _ _ _ _ _ _ _ _ _ _ _ _ _ _ _ _ _ _ _ _ _ _ _ _ _ _ _ _ _ _ _ _ _ _ _ _ _ _ _ _ _ _ _ _ _ _ _ _ _ _ _ _ _ _ _ _ _ _ _ _ _ _ _ _ _    this is undeniably true . \\n not a iota of doubt is possible . in his work , \\n the capital , he argues that in the capitalist society ( one of the five ways a society can be organized , that is , one of the five ways the distribution of this surplus can be organized ) this surplus goes to the capital , which thus accumulates more and more wealth . here , for historic reasons , the same wording will be used , capitalist is synonym for those that accumulate capital / money , without going into detail if , how , when , where and why marx observations on the organization of economy are correct or not . my excuses for the wording , if they make you feel queasy , but they are most adequate for describing things . \\n marx famous equation is    m \\n c\\\\{mop , lp }  p  c \\n m    money ( m ) is used to buy commodities ( c , things that can be bought on the market ) , namely , means - of - production ( mop , tools for the laborers to work with , factories , basic ingredients , etc ) and labor power ( lp , workers ) to do production ( p ) , producing a new commodity ( c ) and selling it on the market for more money ( m ) . \\n this money is reinserted on the left and the game re - commences . \\n it is an eternal cycle , whereby the profit , m-m , is originating from skimming of the labor power lp . \\n ( your boss would simply not hire you , if you do not increase his profit margin m-m . \\n either be skimmed or go away ) . \\n some people , mostly hardworking small entrepreneurs , oppose to these ideas . \\n they think that _ they _ are considered by the marxists as capitalists and that these commies want to take away their hard - earned money . \\n nothing could be farther from the truth . \\n this is just the propaganda of the system . \\n the hard working small entrepreneurs are just as much victims as the factory workers people have in mind when they think about labor . \\n small entrepreneurs do produce something and their labor is being skimmed by the system just as much as that of the factory workers . in most cases , entrepreneurs are nearly slaves as well , and the fruit of their work has to be handed over to the system . \\n in fact , the small entrepreneurs are the poorest class of society . \\n they are only incentivated by some kind of illusion that if they work harder , one day they will also have a lot of capital . indeed in some extremely rare cases , \\n some of them make it there . \\n once there , they never have to work hard again . \\n the bill gates of society . \\n once a threshold is overcome , there is not even a need to bother to make good products anymore . \\n the capital starts attracting more capital faster than labor can . \\n as long as wealth is growing exponentially , it does not matter that some of the surplus labor is skimmed . \\n if the production of the laborers is growing x% and their wealth grows @xmath1%  even if @xmath1% @xmath7 @xmath0% , and the wealth of the capital grows faster , @xmath8% , with @xmath8% @xmath9 @xmath0%  everybody is happy . \\n this was our situation until recently . \\n the workers minimally increased their wealth , even if their productivity has increased tremendously . \\n nearly all increased labor production has been confiscated by the capital , exorbitant bonuses of bank managers are an example . \\n ( managers , by the way , by definition , do not produce anything , but only help skim the production of others ; it is work , but not production. as long as the skimming [ money in ] is larger than the cost of their work [ money out ] , they will be hired by the capital . \\n for instance , if they can move the workers into producing more for equal pay . if not , out they go ) \\n .    if the economy is growing at a steady pace ( @xmath0% ) , resulting in an exponential growth @xmath10 , effectively today s life can be paid with ( promises of ) tomorrow s earnings , borrowing from the future. ( at a shrinking economy , the opposite occurs , paying tomorrow s life with today s earnings ; having nothing to live on today ) . \\n + let s put that in an equation . \\n the economy of today @xmath11 is defined in terms of growth of economy itself , the difference between today s economy and tomorrow s economy , @xmath12 , @xmath13 with @xmath14 related to the growth rate , gr @xmath15 . in a time - differential equation : @xmath16 which has as solution @xmath17 exponential growth . \\n the problem is that eternal growth of @xmath0% is not possible . \\n our entire society depends on a continuous growth ; it is the fiber of our system . \\n when it stops , everything collapses , if the derivative @xmath18 becomes negative , economy itself becomes negative and we start destroying things ( @xmath19 ) instead of producing things . \\n if the growth gets relatively smaller , @xmath20 itself gets smaller , assuming steady borrowing - from - tomorrow factor @xmath14 ( second equation above ) . \\n but that is a contradiction ; if @xmath20 gets smaller , the derivative must be negative . \\n the only consistent observation is that if @xmath20 shrinks , @xmath20 becomes immediately negative ! \\n this is what is called a malthusian catastrophe , named after thomas malthus , a classic economist . \\n + now we seem to saturate with our production , we no longer have @xmath0% growth , but it is closer to 0 . the capital , however , has inertia ( viz . \\n the continuing culture in the financial world of huge bonuses , often justified as `` well , that is the market . \\n what can we do ? ! \\'\\' ) . \\n the capital continues to increase their skimming of the surplus labor with the same @xmath8% . \\n the laborers , therefore , now have a _ decrease _ of wealth close to @xmath8% . \\n ( note that the capital can not have a decline , a negative @xmath8% , because it would refuse to do something if that something does not make profit ) . \\n to show you what i mean . \\n many things that we took for granted before , free health care for all , early pension , free education , cheap or free transport ( no road tolls , etc . ) are more and more under discussion , with an argument that they are `` becoming unaffordable \\'\\' . \\n this label is utter nonsense , when you think of it , since + 1 ) before , apparently , they were affordable . \\n + 2 ) we have increased productivity of our workers . \\n + 1 + 2 = 3 ) things are becoming more and more affordable . unless , they are becoming unaffordable for some ( the workers ) and not for others ( the capitalists ) . \\n + it might well be that soon we discover that living is unaffordable . \\n the new money m in marx equation is used as a starting point in new cycle m @xmath21 m. the eternal cycle causes condensation of wealth to the capital , away from the labor power . \\n m keeps growing and growing . anything that does not accumulate capital , m-m @xmath7 0 , goes bankrupt . \\n anything that does not grow fast enough , m- m @xmath22 0 , is bought by something that does , reconfigured to have m-m large again . \\n note that these reconfigurations  optimizations of skimming ( the laborers never profit form the reconfigurations , they are rather being sacked as a result of them )  are presented by the media as something good , where words as increased synergy are used to defend mergers , etc . \\n it alludes to the sponsors of the messages coming to us . \\n next time you read the word synergy in these communications , just replace it with fleecing.    important to note : the capital actually refuses to do something if it does not make profit . \\n if m is not bigger than m in a step , the step would simply not be done , implying also no lp used and no payment for lp . ignoring for the moment philanthropists , in capitalistic utopia capital can not but grow . \\n if economy is not growing it is therefore always at the cost of labor ! \\n humans , namely , do not have this option of not doing things , because `` better to get 99 cents while living costs 1 euro , i.e. , loss , than get no cent at all [ while living still costs one euro ] \\'\\' . death by slow starvation is chosen before rapid death .    in an exponential growing system , everything is ok ; capital grows and reward on labor as well . when the economy stagnates only the labor power ( humans ) pays the price . \\n it reaches a point of revolution , when the skimming of lp is so big , that this lp ( humans ) can not keep itself alive . \\n famous is the situation of marie - antoinette ( representing the capital ) , wife of king louis xvi of france , who responded to the outcry of the public ( lp ) who demanded bread ( sic ! ) by saying `` they do not have bread ? let them eat cake ! \\'\\' \\n a revolution of the labor power is unavoidable in a capitalist system when it reaches saturation , because the unavoidable increment of the capital is paid by the reduction of wealth of the labor power . that is a mathematical certainty \\n the _ modus operandi _ for this accumulation of wealth to parts of the system ( which , for historic reasons , we call capitalists ) is banking . \\n the capitalists ( defined as those that skim the surplus labor of others ) accumulate it through the banking system . \\n that is nearly an empty statement , since wealth = money . that is , money is the means of increasing wealth and thus one represents the other . \\n if capitalists skim surplus labor , it means that they skim surplus money . \\n money is linked to ( only ! ) banks , and thus , accumulation is in the banks . \\n as shown above , if interest is charged , borrowers will go bankrupt . \\n this idea can be extended . \\n if interest is charged , all money is accumulated in banks . or , better to say , \\n a larger and larger fraction of money is accumulated in the banks , and kept in financial institutions . \\n the accumulation of wealth is accumulation of money in and by banks . \\n it can only be interesting to see whom the money belongs to .    by the way \\n , these institutions , the capitalists naturally wanting to part with as little as possible from this money , are often in fiscal paradises . \\n famous are the cayman islands , the bahamas , the seychelles , etc . \\n money - leaks research found a total of 230.000.000.000.000 dollars parked there . \\n that is , about 30 thousand dollars per inhabitant of this planet . per year , an extra 1 trillion euro ( @xmath23 \\n , a million millions , 6 times the gdp of portugal ) just from the european union alone is diverted to these fiscal paradises .    with the accumulated money the physical property is bought . \\n once again , this is an empty statement . \\n money represents buying power ( to buy more wealth ) . for instance \\n buying the means - of - production ( mop ) , such as land , factories , people s houses ( which will then be rented to them ; more money ) . \\n + also , a tiny fraction of the money is squandered . \\n it is what normally draws most attention . \\n oil sheiks that drive golden cars , bunga - bunga parties etc . that , however , is rather insignificant , this way of re - injecting money into the system . \\n mostly money is used to increase capital . \\n that is why it is an obvious truth that `` when you are rich , you must be extremely stupid to become poor . \\n when you are poor , you must be extremely talented to become rich \\'\\' . \\n when you are rich , just let the capital work for you ; it will have the tendency to increase , even if it increases slower than that of your more talented neighbor .    to accelerate the effect of skimming , \\n means of production ( mop , capital ) , are confiscated from everything  countries and individual people  that can not pay the loan + interest ( which is unavoidable , as discussed above ) . or bought for a much - below market value price in a way of `` take it or leave it ; either give me my money back , which i know there is no way you can , or give me all your possessions and options for confiscation of possessions of future generations as well , i.e. , i ll give you new loans ( which you will also not be able to pay back , i know , but that way i ll manage to forever take everything you will ever produce in your life and all generations after you . \\n slaves , obey your masters ! ) \\'\\' + although not essential ( marx analyzed it not like this ) , the banking system accelerates the condensation of wealth . \\n it is the _ \\n modus operandi_.    money is accumulated . with that money capital \\n is bought and then the money is re - confiscated with that newly - bought capital , or by means of new loans , etc . \\n it is a feedback system where all money and capital is condensing on a big pile . \\n money and capital are synonyms . \\n + note that this pile in not necessarily a set of people . \\n it is just the system. there is no class struggle between rich and poor , where the latter are trying to steal / take - back the money ( depending on which side of the alleged theft the person analyzing it is ) . \\n it is a class struggle of people against the system.    there is only one stable final distribution : all money / capital belonging to one person or institute , one entity. that is what is called a singularity and the only mathematical function that is stable in this case . \\n it is called a delta - function , or kronecker - delta function : zero everywhere , except in one point , where it is infinite , with the total integral ( total money ) equal to unity . in this case : all money on one big pile . \\n + all other functions are unstable . \\n imagine that there are two brothers that wound up with all the money and the rest of the people are destitute and left without anything . \\n these two brothers will then start lending things to each - other . \\n since they are doing this in the commercial way ( having to give back more than borrowed ) , one of the brothers will confiscate everything from the other . \\n + note : there is only one way out of it , namely that the brother feels sorry for his sibling and gives him things without anything in return , to compensate for the steady unidirectional flow of wealth . \\n in a humanistic society , boundary conditions ( laws ) are set which are designed to make the lives of human beings optimal . \\n well , at least that is what they are supposed to do , meaning that not always has this goal successfully been achieved . \\n the laws are made by government . yet \\n , the skimming of surplus labor by the capital is only overshadowed by the skimming by politicians . \\n an average governor gets a pretty handsome salary during his / her mandate and a pension - for - life afterwards . \\n a salary that is actually decided by fellow governors , and excessive payment is chronic ( note that politicians , like managers , do not produce anything . \\n they work , but do nt produce ) . \\n not many qualities are needed for the job . \\n being a citizen in most cases suffices ; not even being a convicted criminal takes away accessibility to the job , where it prohibitively does so for normal jobs . \\n moreover , politicians are often auto - invited ( by colleagues ) in board - of - directors of companies ( the capital ) , further enabling amassing buying power . \\n this shows that , in most countries , the differences between the capital and the political class are flimsy if not non - existent . as an example , all communist countries , in fact , were pure capitalist implementations , with a distinction that a greater share of the skimming was done by politicians compared to more conventional capitalist societies . \\n + the reasons for aversion of the people to the political establishments are therefore obvious . \\n people thus prefer liberal systems over centralized systems , since the latter allude to corruption and unfairness , where liberalism , at least on paper , seems very fair . \\n one form of a humanistic government is socialism , which has set as its goals the welfare of humans . \\n one can argue if socialism is a good form to achieve a humanistic society . \\n maybe it is not efficient to reach this goal , whatever efficient may mean and the difficulty in defining that concept . \\n another form of government is liberalism . before we continue , it is remarkable to observe that in practical liberal societies , everything is free and allowed , _ except _ the creation of banks and doing banking . \\n this is left to a small subset of society . \\n note also that , by definition , a liberal government is a contradiction in terms . \\n a real liberal government would be called anarchy. liberal is a name given by politicians to make people think they are free , while in fact it is the most binding and oppressing form of government , as will be shown . \\n liberalism , by definition , has set no boundary conditions . \\n a liberal society has at its core the absence of goals . \\n everything is left free ; `` let a darwinistic survival - of - the - fittest mechanism decide which things are best \\'\\' . \\n best are , by definition , those things that survive . \\n that means that it might be the case that humans are a nuisance . \\n inefficient monsters . \\n does this idea look far - fetched ? \\n may it be so that in a liberal society , humans will disappear and only capital ( the money and the means of production ) will survive in a darwinistic way ? \\n mathematically it is possible . \\n let me show you . \\n _ _ _ _ _ _ _ _ _ _ _ _ _ _ _ _ _ _ _ _ _ _ _ _ _ _ _ _ _ _ _ _ _ _ _ _ _ _ _ _ _ _ _ _ _ _ _ _ _ _ _ _ _ _ _ _ _ _ _ _ _ _ _ _ _ _ _ _ _ _ _ _ _ _ _ _ _ _ _ _ _ _ _ _ _ _ _ _ _ _ _ _ _ _ _ _ _ _ _ _ _ _ _ _ _ _ _ _ _ _ _ _ _ _ _ _ _ _ _ _ _ _ _ _ _ _ _ _ _ _ _ _ _ _ _ _ _ _ _ _ _ _ _ _ _ _ _ _ _ _ _ _ _ _ _ _ _ _ _ _ _ _ _ _ _ _ _ _ _ _ _ _ _ _ _ _ _ _ _ _ _ _ _ _ _ _ _ _ _ _ _ _ _ _ _ _ _ _ _ _ _ _ _ _ _ _ _ _ _ _ _ _ _ _ _ _ _ _ _ _ _ _ _ _ _ _ _ _ _ _ _ _ _ _ _ _ _ _ _ _ _ _ _ _ _ _ _ _ _ _ _ _ _ _ _ _ _ _ _ _ _ _ _ _ _ _ _ _ _ _ _ _ _ _ _ _ _ _ _ _ _ _ _ _ _ _ _ _ _ _ _ _ _ _ _ _ _ _ _ _ _ _ _ _ _ _ _ _ _ _ _ _ _ _ _ _ _ _ _ _ _ _ _ _ _ _ _ _ _ _ _ _ _ _ _ _ _ _ _ _ _ _ _ _ _ _ _ _ _ _ _ _ _ _ _ _ _ _ _ _ _ _ _ _ _ _ _ _ _ _ _ _ _ _ _ _ _ _ _ _ _ _ _ _ _ _ _ _ _ _ _ _ _ _ _ _ _ _ _ _ _ _ _ _ _ _ _ _ _ _ _ _ _ _ _ _ _ _ _ _ _ _ _ _ _ _ _ _ _ _ _ _ _ _ _ _ _ _ _ _ _ _ _ _ _ _ _ _ _ _ _ _ _ _ _ _ _ _ _ _ _ _ _ _ _ _ _ _ _ _ _ _ _ _ _ _ _ _ _ _ _ _ _ _ _ _ _ _ _ _ _ _ _ _ _ _ _ _ _ _ _ _ _ _ _ _ _ _ _ _ _ _ _ _ _ _ _ _ _ _ _ _ _ _ _ _ _ _ _ _ _ _ _ _ _ _ _ _ _ _ _ _ _ _ _ _ _ _ _ _ _ _ _ _ _ _ _ _ _ _ _ _ _ _ _ _ _ _ _ _ _ _ _ _ _ _ _ _ _ _ _ _ _ _ _ _ _ _ _ _ _ _ _ _ _ _ _ _ _ _ _ _ _ _ _ _ _ _ _ _ _ _ _ _ _ _ _ _ _ _ _ _ _ _ _ _ _ _ _ _ _ _ _ _ _ _ _ _ _ _ _ _ _ _ _ _ _ _ _ _ _ _ _ _ _ _ _ _ _ _ _ _ _ _ _ _ _ _ _ _ _ _ _ _ _ _ _ _ _ _ _ _ _ _ _ _ _ _ _ _ _ _ _ _ _ _ _ _ _ _ _ _ _ _ _ _ _ _ _ _ _ _ _ _ _ _ _ _ _ _ _ _ _ _ _ _ _ _ _ _ _ _ _ _ _ _ _ _ _ _ _ _ _ _ _ _ _ _ _ _ _ _ _ _ _ _ _ _ _ _ _ _ _ _ _ _ _ _ _ _ _ _ _ _ _ _ _ _ _ _ _ _ _ _ _ _ _ _ _ _ _ _ _ _ _ _ _ _ _ _ _ _ _ _ _ _ _ _ _ _ _ _ _ _ _ _ _ _ _ _ _ _ _ _ _ _ _ _ _ _ _ _ _ _ _ _ _ _ _ _ _ _ _ _ _ _ _ _ _ _ _ _ _ _ _ _ _ _ _ _ _ _ _ _ _ _ _ _ _ _ _ _ _ _ _ _ _ _ _ _ _ _ _ _ _ _ _ _ _ _ _ _ _ _ _ _ _ _ _ _ _ _ _ _ _ _ _ _ _ _ _ _ _ _ _ _ _ _ _ _ _ _ _ _ _ _ _ _ _ _ _ _ _ _ _ _ _ _ _ _ _ _ _ _ _ _ _ _ _ _ _ _ _ _ _ _ _ _ _ _ _ _ _ _ _ _ _ _ _ _ _ _ _ _ _ _ _ _ _ _ _ _ _ _ _ _ _ _ _ _ _ _ _ _ _ _ _ _ _ _ _ _ _ _ _ _ _ _ _ _ _ _ _ _ _ _ _ _ _ _ _ _ _ _ _ _ _ _ _ _ _ _ _ _ _ _ _ _ _ _ _ _ _ _ _ _ _ _ _ _ _ _ _ _ _ _ _ _ _ _ _ _ _ _ _ _ _ _ _ _ _ _ _ _ _ _ _ _ _ _ _ _ _ _ _ _ _ _ _ _ _ _ _ _ _ _ _ _ _ _ _ _ _ _ _ _ _ _ _ _ _ _ _ _ _ _ _ _ _ _ _ _ _ _ _ _ _ _ _ _ _ _ _ _ _ _ _ _ _ _ _ _ _ _ _ _ _ _ _ _ _ _ _ _ _ _ _ _ _ _ _ intermezzo : trade unions + trade unions are organizations that represent the humans in this cycle and they are the ways to break the cycle and guarantee minimization of the skimming of laborers . if you are human , you should like trade unions . \\n ( if you are a bank manager , you can  and should  organize yourself in a bank - managers trade union ) . \\n if you are capital , you do not like them . \\n ( and there are many spokesmen of the capital in the world , paid to propagate this dislike ) . \\n capital , however , in itself can not think , it is not human , nor has it a brain , or a way to communicate . \\n it is just a concept , an idea of a system. it does not like or dislike anything . \\n ( note the amount of apostrophes ) . \\n you are not capital , even if you are paid by it . even if you are paid handsomely by it . even if you are paid astronomically by it . \\n ( in the latter case you are probably just an asocial asshole ) . \\n we can thus morally confiscate as much from the capital we wish , without feeling any remorse whatsoever . \\n as long as it does not destroy the game ; destroying the game would put human happiness at risk by undermining the incentives for production and reduce the access to consumption . \\n + on the other hand , the spokesmen of the capital will always talk about labor cost contention , because that will increase the marginal profit m-m . \\n remember this , next time somebody talks in the media . who is paying their salary ? \\n + to give an idea how much you are being fleeced , compare your salary to that of difficult - to - skim , strike - prone , trade - union - bastion professions , like train drivers and pilots . \\n the companies still hire them , implying that they still bring a net profit to the companies , in spite of their astronomical salaries . \\n you deserve the same salary . _ _ _ _ _ _ _ _ _ _ _ _ _ _ _ _ _ _ _ _ _ _ _ _ _ _ _ _ _ _ _ _ _ _ _ _ _ _ _ _ _ _ _ _ _ _ _ _ _ _ _ _ _ _ _ _ _ _ _ _ _ _ _ _ _ _ _ _ _ _ _ _ _ _ _ _ _ _ _ _ _ _ _ _ _ _ _ _ _ _ _ _ _ _ _ _ _ _ _ _ _ _ _ _ _ _ _ _ _ _ _ _ _ _ _ _ _ _ _ _ _ _ _ _ _ _ _ _ _ _ _ _ _ _ _ _ _ _ _ _ _ _ _ _ _ _ _ _ _ _ _ _ _ _ _ _ _ _ _ _ _ _ _ _ _ _ _ _ _ _ _ _ _ _ _ _ _ _ _ _ _ _ _ _ _ _ _ _ _ _ _ _ _ _ _ _ _ _ _ _ _ _ _ _ _ _ _ _ _ _ _ _ _ _ _ _ _ _ _ _ _ _ _ _ _ _ _ _ _ _ _ _ _ _ _ _ _ _ _ _ _ _ _ _ _ _ _ _ _ _ _ _ _ _ _ _ _ _ _ _ _ _ _ _ _ _ _ _ _ _ _ _ _ _ _ _ _ _ _ _ _ _ _ _ _ _ _ _ _ _ _ _ _ _ _ _ _ _ _ _ _ _ _ _ _ _ _ _ _ _ _ _ _ _ _ _ _ _ _ _ _ _ _ _ _ _ _ _ _ _ _ _ _ _ _ _ _ _ _ _ _ _ _ _ _ _ _ _ _ _ _ _ _ _ _ _ _ _ _ _ _ _ _ _ _ _ _ _ _ _ _ _ _ _ _ _ _ _ _ _ _ _ _ _ _ _ _ _ _ _ _ _ _ _ _ _ _ _ _ _ _ _ _ _ _ _ _ _ _ _ _ _ _ _ _ _ _ _ _ _ _ _ _ _ _ _ _ _ _ _ _ _ _ _ _ _ _ _ _ _ _ _ _ _ _ _ _ _ _ _ _ _ _ _ _ _ _ _ _ _ _ _ _ _ _ _ _ _ _ _ _ _ _ _ _ _ _ _ _ _ _ _ _ _ _ _ _ _ _ _ _ _ _ _ _ _ _ _ _ _ _ _ _ _ _ _ _ _ _ _ _ _ _ _ _ _ _ _ _ _ _ _ _ _ _ _ _ _ _ _ _ _ _ _ _ _ _ _ _ _ _ _ _ _ _ _ _ _ _ _ _ _ _ _ _ _ _ _ _ _ _ _ _ _ _ _ _ _ _ _ _ _ _ _ _ _ _ _ _ _ _ _ _ _ _ _ _ _ _ _ _ _ _ _ _ _ _ _ _ _ _ _ _ _ _ _ _ _ _ _ _ _ _ _ _ _ _ _ _ _ _ _ _ _ _ _ _ _ _ _ _ _ _ _ _ _ _ _ _ _ _ _ _ _ _ _ _ _ _ _ _ _ _ _ _ _ _ _ _ _ _ _ _ _ _ _ _ _ _ _ _ _ _ _ _ _ _ _ _ _ _ _ _ _ _ _ _ _ _ _ _ _ _ _ _ _ _ _ _ _ _ _ _ _ _ _ _ _ _ _ _ _ _ _ _ _ _ _ _ _ _ _ _ _ _ _ _ _ _ _ _ _ _ _ _ _ _ _ _ _ _ _ _ _ _ _ _ _ _ _ _ _ _ _ _ _ _ _ _ _ _ _ _ _ _ _ _ _ _ _ _ _ _ _ _ _ _ _ _ _ _ _ _ _ _ _ _ _ _ _ _ _ _ _ _ _ _ _ _ _ _ _ _ _ _ _ _ _ _ _ _ _ _ _ _ _ _ _ _ _ _ _ _ _ _ _ _ _ _ _ _ _ _ _ _ _ _ _ _ _ _ _ _ _ _ _ _ _ _ _ _ _ _ _ _ _ _ _ _ _ _ _ _ _ _ _ _ _ _ _ _ _ _ _ _ _ _ _ _ _ _ _ _ _ _ _ _ _ _ _ _ _ _ _ _ _ _ _ _ _ _ _ _ _ _ _ _ _ _ _ _ _ _ _ _ _ _ _ _ _ _ _ _ _ _ _ _ _ _ _ _ _ _ _ _ _ _ _ _ _ _ _ _ _ _ _ _ _ _ _ _ _ _ _ _ _ _ _ _ _ _ _ _ _ _ _ _ _ _ _ _ _ _ _ _ _ _ _ _ _ _ _ _ _ _ _ _ _ _ _ _ _ _ _ _ _ _ _ _ _ _ _ _ _ _ _ _ _ _ _ _ _ _ _ _ _ _ _ _ _ _ _ _ _ _ _ _ _ _ _ _ _ _ _ _ _ _ _ _ _ _ _ _ _ _ _ _ _ _ _ _ _ _ _ _ _ _ _ _ _ _ _ _ _ _ _ _ _ _ _ _ _ _ _ _ _ _ _ _ _ _ _ _ _ _ _ _ _ _ _ _ _ _ _ _ _ _ _ _ _ _ _ _ _ _ _ _ _ _ _ _ _ _ _ _ _ _ _ _ _ _ _ _ _ _ _ _ _ _ _ _ _ _ _ _ _ _ _ _ _ _ _ _ _ _ _ _ _ _ _ _ _ _ _ _ _ _ _ _ _ _    continuing . for the capital \\n , there is no special place for human labor power lp . \\n if the marxist equation can be replaced by    m \\n c\\\\{mop }  p  c \\n m    i.e. , without lp , capital would do just that , if that is optimizing m-m . \\n mathematically , there is no difference whatsoever between mop and lp . \\n the only thing a liberal system seeks is optimization . \\n it does not care at all , in no way whatsoever , how this is achieved . \\n the more liberal the better . less restrictions , more possibilities for optimizing marginal profit m-m . if it means destruction of the human race , who cares ? \\n collateral damage . \\n + to make my point : would you care if you had to pay ( feed ) monkeys one - cent peanuts to find you kilo - sized gold nuggets ? \\n do you care if no human lp is involved in your business scheme ? \\n i guess you just care about maximizing your skimming of the labor power involved , be they human , animal or mechanic . who cares ? \\n there is only one problem . \\n somebody should _ consume _ the products made ( no monkey cares about your gold nuggets ) . \\n that is why the french economist jean - baptiste say said `` every product creates its own demand \\'\\' . if nobody can pay for the products made ( because no lp is paid for the work done ) , the products can not be sold , and the cycle stops at the step c-m , the m becoming zero ( not sold ) , the profit m-m reduced to a loss m and the company goes bankrupt \\n however , _ \\n individual _ companies can sell products , as long as there are _ other _ companies in the world still paying lp somewhere . \\n companies everywhere in the world thus still have a tendency to robotize their production . \\n companies exist in the world that are nearly fully robotized . \\n the profit , now effectively skimming of the surplus of mop - power instead of labor power , fully goes to the capital , since mop has no way of organizing itself in trade unions and demand more payment ( that is , demand payment to start with ) .    or , and be careful with this step here  a step marx could never have imagined \\n what if the mop start consuming as well ? \\n imagine that a factory robot needs parts . \\n new robot arms , electricity , water , cleaning , etc . \\n factories will start making these products . there is a market for them . hail the market ! \\n now we come to the conclusion that the system , when liberalized will optimize the production ( it is the only intrinsic goal ) preindustrial ( without tools ) :    m  c\\\\{lp }  p  c \\n m    marxian    m \\n c\\\\{mop , lp }  p  c \\n m    post - modern    m \\n c\\\\{mop }  p  c \\n m    if the latter is most efficient , in a completely liberalized system , it will be implemented . \\n this means + 1 ) no ( human ) lp will be used in production + 2 ) no humans will be paid for work of producing + 3 ) no human consumption is possible + 4 ) humans will die from lack of consumption + in a darwinistic way humanity will die to be substituted by something else ; we are too inefficient to survive . \\n we are not fit for this planet . \\n we will be substituted by the exact things we created . \\n there is nowhere a rule written `` liberalism , with the condition that it favors humans \\'\\' . \\n no , liberalism is liberalism . \\n it favors the fittest . \\n it went good so far . \\n as long as we had exponential growth , even if the growth rate for mop was far larger than the growth rate for rewards for lp , also lp was rewarded increasingly . \\n when the exponential growth stops , when the system reaches saturation as it seems to do now , only the strongest survive . \\n that is not necessarily mankind . \\n mathematically it can be either one or the other , without preference ; the marxian equation is symmetrical . \\n future will tell . \\n maybe the mop ( they will also acquire intelligence and reason somewhere probably ) will later discuss how they won the race , the same way we , homo sapiens , currently talk about `` those backward unfit neanderthals \\'\\' . \\n to finish this part . \\n your ideal dream job would be to manage the peanut bank , monopolizing the peanut supply , while the peanut eaters build for you palaces in the italian riviera and feed you grapes while you enjoy the scenery . even if you were one of the few remaining humans . \\n a world in which humans are extinct is not a far - fetched world \\n . it might be the result of a darwinian selection of the fittest . \\n it is often said to countries in trouble that their people were living above their standards . that their consumption is higher than their production . this , in fact , is true ... for everybody on this planet . in financial terms . \\n + look at the image of fig . \\n [ fig : fig1 ] . \\n people ( lp ) , together with machines from the capital ( mop ) produce goods that only ( mostly ) humans consume . \\n left the production , right the consumption . \\n +    if everything that is produced is consumed ( according to jean baptiste say ) , it is obvious that humans consume more than they produce . \\n this seems contradictory with the ideas of marx , but it is nt . \\n marx said that lp with the _ help _ of mop produces , and that this production is fully attributed to lp and is thus skimmed when it consumes less than this production . \\n we can also equally well say that mop ( capital ) is producing with the help of lp , as discussed earlier . or just say that both are producing and say that each is the right owner of its own production . \\n + in the above image , the arrows show the flow of production - consumption . \\n the payment for produced products is an arrow in opposite direction . in this example , humans get 95% of consumption while they do only 50% of the production . \\n they thus also only get 50% of payment . \\n the rest of the consumption is paid by borrowing money somehow , and they live above their standard . \\n the payment goes 50% to the capital . \\n but , because capital does not consume , this payment is used to increase the capital . \\n two extreme scenarios :    * the money for payment of production is fully in the form of a loan to the humans . \\n money starts thus accumulating at the capital . * \\n the money for payment is fully used to invest in new capital . in that case , the consumption of capital is 50% , but after one cycle , a larger part of the production is done by capital . \\n see figure [ fig : fig2 ] . in the first step , \\n 50% of the production and consumption is done by capital . in the second cycle it is already 67% . in the third cycle it is 80% , then 89% , etc . in general @xmath24 at step @xmath25 ; capital doubles at every cycle , where humans stay constant . \\n the final situation is that 100% of production is done by capital . obviously , sooner or later the system has to switch to the first scenario . \\n +    in either scenario , the capital accumulates . \\n the basic ingredient is that capital does not need consumption for its survival ; any consumption is directly converted into more capital . \\n the system will probably have a mix of the two . \\n after all , capital can not go on doubling all the time . \\n so , we see that capital is condensing at the capital . \\n that is because the means of production \\n other than human labor  do not consume , and , therefore , humans do consume more than they produce , and the means of production ( machines ) do consume less than they produce , with the total in a zero - sum - game way consuming exactly what they produce . \\n the owners of the means of production get the rights to consumption and these rights are constantly increasing . \\n it is a positive - feedback run - away system . \\n let s put this in an example to explain it better . \\n imagine i make clothespins and so does my neighbor . however , my neighbor has slightly more costs than me , or is slightly less productive for some reason ( work accident , or so ) . \\n he earns just enough to survive . \\n he makes one unit and this barely covers the cost of life , which is also minimally 1 unit . \\n i am slightly more productive , or my cost of living is slightly lower . \\n therefore , i can save a little money. let s assume the former , i am more productive . \\n now , either i make 1.1 units and the surplus 0.1 units i trade for a clothespin machine , or i work a little less on making clothespins and in this spare time \\n one hour per day \\n i make the machine myself . \\n let s assume the second scenario , because it is easier reasoning , although they are equivalent . \\n we both make two units of pins , sell them and buy things ( two units worth ) to survive . \\n i however , make as well a machine that makes pins .    after finishing my machine , maybe after ten years \\n , the total production goes up . \\n the demand for our pins stays the same . \\n the markets needs two units of clothespins . \\n it now means that i will get more share of the profit . \\n imagine my machine makes as much units as a human can , one unit per year . \\n we thus have three units to offer to the market . \\n the price of pins on the market could ( and will ) drop through the mechanism of supply and demand . in principle down to 67% of the original price . not lower , because that would imply that the total price of more pins would be lower than before .    to make it simple , \\n imagine exactly that happens . \\n the price is 2/3 ; one unit of pins gives only 2/3 consumption rights . \\n we sell three units and thus get a total of two units of consumption rights . \\n these are distributed over the production units . \\n my neighbor has one third of the production units and thus gets 1/3 share of the consumption rights , a total of 2/3 units . \\n i and my machine get 2/3 share , 4/3 consumption rights . \\n note that i confiscate  skim  the production rights of my slave machine . \\n now my neighbor has a problem . \\n he gets 2/3 units of consumption rights , there where one full unit is needed to survive . \\n he did not start working less , or become less productive , or lazy . \\n he simply lost his percentage share of the means of production . and \\n once this starts , there is no stopping it . \\n it in fact accelerates . \\n there are two scenarios . \\n either i keep producing pins myself , as shown above , resulting in immediate misery for my neighbor , or i stop working altogether on making pins manually , and we go back to the situation where we make two units of pins , sell them , and each one gets one unit of consumption rights . \\n however , now i have 100% free time ( my machine doing all the work ) , and i can dedicate it to make a new machine . \\n this takes only one year instead of ten , since i now have 100% free time , instead of only 10% . in the first situation , \\n i could lend 1/3 of my consumption rights to my neighbor . \\n however  nothing is for free in this life  next year \\n i want 10% profit on my loan . \\n his problems will be bigger next year . \\n next year i will refinance his loan . \\n the reader will easily understand that my neighbor will wind up being my feudal possession . \\n i will take everything he owns . \\n instead , i could opt for the second path , producing a new machine in my spare time . in that case , \\n next year we will have 4 production units , my neighbor and i as human labor , and two mechanical units . \\n these mechanical units are mine and will claim the consumption rights ; together with my own labor , i will now get 75% of the two consumption rights . 1.5 for me and 0.5 for my neighbor . \\n this path leads to the state where i have 100% of the consumption rights . or \\n i can again decide to use part or all of my human labor or machine power to make new machinery . \\n sooner or later , anyway , my neighbor will have to borrow consumption rights from me . \\n this is a feedback system . \\n any small perturbation ( we started with 10% imbalance ) results in a saturation in which i will get 100% of the consumption rights and where i will wind up being the feudal lord of my neighbor . \\n one could argue that this reasoning does not work , because the rest of the world is also increasing productivity and the price of the products offered by them ( and the cost of living for me and my neighbor ) goes down , as fast as the price of our clothespins go down and we will both easily survive . \\n first of all , we consider here only the local effect , independent of the full market . \\n technological innovation creates immediate misery for some , a deterioration of life while these people are doing nothing worse . \\n second , when the rest of the market is behaving in the same way , we remain with an overall effect of condensation of wealth . \\n capital attracts capital . \\n this is a form of the matthew effect , named after the apostle from the bible , transferring money from the poor to the rich . \\n matthew 25:29 , `` for onto everyone that hath shall be given , and he shall have abundance , but from him that hath not shall be taken away even that which he hath \\'\\' . \\n there are some solutions . \\n ( `` if you do nt give a solution , you are part of the problem \\'\\' ) .    most important : \\n human wealth should be set as the only goal in society and economy . \\n liberalism is _ ruinous _ for humans , while it may be optimal for fitter entities . \\n nobody is out there to take away the money of others without working for it . in a way of revenge or envy , ( basically justifying laziness ) taking away the hard - work earnings of others . no way . \\n nobody wants it . \\n thinking that yours can be the only way a rational person can think . \\n anybody not winning the game is a loser. some of us , actually , do not even want to enter the game . \\n + yet  the big dilemma  that money - grabbing mentality is essential for the economy . without it \\n we would be equally doomed . \\n but , i ll show you now that you ll will lose every last penny either way , even without my intervention . \\n having said that , the solution is to take away the money . seeing that the system is not stable and accumulates the capital on a big pile , disconnected from humans , mathematically there are two solutions : + 1 ) put all the capital in the hands of people . \\n if profit is made m-m , this profit falls to the hands of the people that caused it . \\n this seems fair , and mathematically stable . \\n however , how the wealth is then distributed ? that would be the task of politicians , and history has shown that they are a worse pest than capital . \\n politicians , actually , always wind up representing the capital . \\n no country in the world ever managed to avoid it . \\n + 2 ) let the system be as it is , which is great for giving people incentives to work and develop things , but at the end of the year , redistribute the wealth to follow an ideal curve that optimizes both wealth and increments of wealth . \\n the latter is an interesting idea . also since it does not need rigorous restructuring of society , something that would only be possible after a total collapse of civilization . \\n while unavoidable in the system we have , it would be better to act pro - actively and do something _ before _ it happens . \\n + moreover , since money is air  or worse , vacuum  there is actually nothing that is taken away. money is just a right to consume and can thus be redistributed at will if there is a just cause to do so . in normal cases \\n this euphemistic word redistribution amounts to theft and undermines incentives for work and production and thus causes poverty . yet , if it can be shown to actually _ increase _ incentives to work , and thus increase overall wealth , it would need no further justification . \\n we set out to calculate this idea . \\n however , it turned out to give quite remarkable results . \\n basically , the optimal distribution is slavery . \\n let us present them here . \\n + let s look at the distribution of wealth . \\n figure [ fig : absdistriwealth ] shows a curve of wealth per person , with the richest conventionally placed at the right and the poor on the left , to result in what is in mathematics called a monotonously - increasing function . \\n this virtual country has 10 million inhabitants and a certain wealth that ranges from nearly nothing to millions , but it can easily be mapped to any country . \\n +    as shown in the previous section , the overall wealth increases , but it condenses over time at the right side of the curve . left unchecked , the curve would become ever - more skew , ending eventually in a straight horizontal line at zero up to the last uttermost right point , where it shoots up to an astronomical value . \\n the integral of the curve ( total wealth / capital m ) always increases , but it eventually goes to one person . \\n + here it is intrinsically assumed that wealth , actually , is still connected to people and not , as it in fact is , becomes independent of people , becomes capital autonomously by itself . \\n if independent of people , this wealth can anyway be without any form of remorse whatsoever be confiscated and redistributed . \\n ergo , only the system where all the wealth is owned by people is needed to be studied . \\n this will be done here . \\n a more interesting figure is the fractional distribution of wealth , with the normalized wealth @xmath26 plotted as a function of normalized population @xmath0 ( that thus runs from 0 to 1 ) . once again with the richest plotted on the right . \\n see figure [ fig : reldistriwealth ] . \\n + every person @xmath0 in this figure feels an incentive to work harder , because it wants to overtake his / her right - side neighbor and move to the right on the curve . \\n we can define an incentive @xmath27 for work for person @xmath0 as the derivative of the curve , divided by the curve itself ( a person will work harder proportional to the _ relative _ increase in wealth )     +    @xmath28    to give you an idea . a communistic ( in the negative connotation ) distribution is that everybody earns equally , that means that @xmath26 is constant , with the constant being one    _ _ _ _ _ _ _ _ _ _ _ _ _ _ _ _ _ _ _ _ _ _ _ _ _ _ _ _ _ _ _ _ _ _ _ _ _ _ _ _ _ _ ideal communist : @xmath29 . _ \\n _ _ _ _ _ _ _ _ _ _ _ _ _ _ _ _ _ _ _ _ _ _ _ _ _ _ _ _ _ _ _ _ _ _ _ _ _ _ _ _ _    and nobody has an incentive to work , @xmath27 = 0 for all @xmath0 . however , in a utopic capitalist world , as shown , the distribution is all on a big pile. this is what mathematicians call a delta - function    _ _ _ _ _ _ _ _ _ _ _ _ _ _ _ _ _ _ _ _ _ _ _ _ _ _ _ _ _ _ _ _ _ _ _ _ _ _ _ _ _ _ _ _ _ _ _ _ _ _ _ _ _ ideal capitalist : @xmath30 , _ _ _ _ _ _ _ _ _ _ _ _ _ _ _ _ _ _ _ _ _ _ _ _ _ _ _ _ _ _ _ _ _ _ _ _ _ _ _ _ _ _ _ _ _ _ _ _ _ _ _ _ _    and once again , the incentive is zero for all people , @xmath31 . \\n if you work , or do nt work , you get nothing . except one person who , working or not , gets everything . \\n both distributions are also plotted in the figure . \\n thus , there is somewhere an ideal curve @xmath26 that optimizes the sum of incentives @xmath32 defined as the integral of @xmath27 over @xmath0 . \\n @xmath33\\\\right|_{x=0}^{x=1}\\\\ ] ] which function \\n @xmath34 is that ? \\n boundary conditions are    * the total wealth is normalized : the integral of @xmath26 over @xmath0 from 0 to 1 is unity . \\n @xmath35 * everybody has a at least a minimal income , defined as the survival minimum . \\n ( a concept that actually many societies implement ) . \\n we can call this @xmath36 , defined as a percentage of the total wealth , to make the calculation easy ( every year this parameter can be reevaluated , for instance when the total wealth increased , but not the minimum wealth needed to survive ) . \\n thus , @xmath37 = @xmath36 . \\n the curve also has an intrinsic parameter @xmath38 . \\n this represents the scale of the figure , and is the result of the other boundary conditions and therefore not really a parameter as such . \\n the function basically has two parameters , minimal subsistence level @xmath36 and skewness @xmath39 .    as an example \\n , we can try an exponentially - rising function with offset that starts by being forced to pass through the points ( 0 , @xmath36 ) and ( 1 , @xmath38 ) : @xmath40 an example of such a function is given in figure [ fig : reldistriwealth ] . to analytically determine which function is ideal is very complicated , but it can easily be simulated in a genetic algorithm way . in this , we start with a given distribution and make random mutations to it . \\n if the total incentive for work goes up , we keep that new distribution . if not , we go back to the previous distribution . \\n the results are shown in figure [ fig : simresult ] for a 30-person population , with @xmath36 = 10% of average ( @xmath36 = 1/300 = 0.33% ) . \\n depending on the starting distribution , the system winds up in different optima . if we start with a communistic distribution of fig . \\n [ fig : reldistriwealth ] , we wind up with a situation in which the distribution stays homogeneous everybody equal , with the exception of two people . \\n a slave earns the minimum wages and does nearly all the work , and a party official that does not do much , but gets a large part of the wealth . \\n everybody else is equally poor ( total incentive / production equal to 21 ) , @xmath34 = 1/30 = 10@xmath36 , with most people doing nothing , nor being encouraged to do anything . \\n ( see situation 1 of fig . \\n [ fig : simresult ] ) . \\n the other situation we find when we start with a random distribution or linear increasing distribution . \\n the final situation is shown in situation 2 of the figure . \\n it is equal to everybody getting minimum wealth , @xmath36 , except the banker who gets 90% ( 270 times more than minimum ) , while nobody is doing anything , except , curiously , the penultimate person , which we can call the wheedler , for cajoling the banker into giving him money . \\n the total wealth is higher ( 156 ) , but the average person gets less , @xmath36 . \\n +    note that this is nt necessarily an evolution of the distribution of wealth over time ( something which was discussed in the section on marxism ) . \\n instead , it is a final , stable , distribution calculated with an evolutionary ( genetic ) algorithm . \\n note 2 : this analysis can be made within a country , analyzing the distribution of wealth between people of the same country , as well as between countries . \\n we thus find that a liberal system , moreover one in which people are motivated by the relative wealth increase they might attain , winds up with most of the wealth accumulated by one person who not necessarily does any work . \\n this is then consistent with the tendency of liberal capitalist societies to have indeed the capital and wealth accumulate in a single point , and consistent with marx theories that predict it as well . \\n a singularity of distribution of wealth is what you get in a liberal capitalist society where personal wealth is the only driving force of people . which is ironic , in a way , because by going only for personal wealth , _ nobody _ gets any of it , except the big leader . \\n it is a form of prisoner s dilemma .    _ _ _ _ _ _ _ _ _ _ _ _ _ _ _ _ _ _ _ _ _ _ _ _ _ _ _ _ _ _ _ _ _ _ _ _ _ _ _ _ _ _ _ _ _ _ _ _ _ _ _ _ _ _ _ _ _ _ _ _ _ _ _ _ _ _ _ _ _ _ _ _ _ _ _ _ _ _ _ _ _ _ _ _ _ _ _ _ _ _ _ _ _ _ _ _ _ _ _ _ _ _ _ _ _ _ _ _ _ _ _ _ _ _ _ _ _ _ _ _ _ _ _ _ _ _ _ _ _ _ _ _ _ _ _ _ _ _ _ _ _ _ _ _ _ _ _ _ _ _ _ _ _ _ _ _ _ _ _ _ _ _ _ _ _ _ _ _ _ _ _ _ _ _ _ _ _ _ _ _ _ _ _ _ _ _ _ _ _ _ _ _ _ _ _ _ _ _ _ _ _ _ _ _ _ _ _ _ _ _ _ _ _ _ _ _ _ _ _ _ _ _ _ _ _ _ _ _ _ _ _ _ _ _ _ _ _ _ _ _ _ _ _ _ _ _ _ _ _ _ _ _ _ _ _ _ _ _ _ _ _ _ _ _ _ _ _ _ _ _ _ _ _ _ _ _ _ _ _ _ _ _ _ _ _ _ _ _ _ _ _ _ _ _ _ _ _ _ _ _ _ _ _ _ _ _ _ _ _ _ _ _ _ _ _ _ _ _ _ _ _ _ _ _ _ _ _ _ _ _ _ _ _ _ _ _ _ _ _ _ _ _ _ _ _ _ _ _ _ _ _ _ _ _ _ _ _ _ _ _ _ _ _ _ _ _ _ _ _ _ _ _ _ _ _ _ _ _ _ _ _ _ _ _ _ _ _ _ _ _ _ _ _ _ _ _ _ _ _ _ _ _ _ _ _ _ _ _ _ _ _ _ _ _ _ _ _ _ _ _ _ _ _ _ _ _ _ _ _ _ _ _ _ _ _ _ _ _ _ _ _ _ _ _ _ _ _ _ _ _ _ _ _ _ _ _ _ _ _ _ _ _ _ _ _ _ _ _ _ _ _ _ _ _ _ _ _ _ _ _ _ _ _ _ _ _ _ _ _ _ _ _ _ _ _ _ _ _ _ _ _ _ _ _ _ _ _ _ _ _ _ _ _ _ _ _ _ _ _ _ _ _ _ _ _ _ _ _ _ _ _ _ _ _ _ _ _ _ _ _ _ _ _ _ _ _ _ _ _ _ _ _ _ _ _ _ _ _ _ _ _ _ _ _ _ _ _ _ _ _ _ _ _ _ _ _ _ _ _ _ _ _ _ _ _ _ _ _ _ _ _ _ _ _ _ _ _ _ _ _ _ _ _ _ _ _ _ _ _ _ _ _ _ _ _ _ _ _ _ _ _ _ _ _ _ _ _ _ _ _ _ _ _ _ _ _ _ _ _ _ _ _ _ _ _ _ _ _ _ _ _ _ _ _ _ _ _ _ _ _ _ _ _ _ _ _ _ _ _ _ _ _ _ _ _ _ _ _ _ _ _ _ _ _ _ _ _ _ _ _ _ _ _ intermezzo : prisoner s dilemma + a system suffering from prisoner s dilemma can not find the optimal solution because the individual driving forces go against the overall driving force . \\n this is called prisoner s dilemma based on the imaginary situation of two prisoners : + imagine two criminals , named albert ( a ) and barbara ( b ) , being caught and put in separate prison cells . \\n the police is trying to get confessions out of them . they know \\n that if none will talk , they will both walk out of there for lack of evidence . \\n so the police makes a proposal to each one : `` we ll make it worth your while . \\n if you confess , and your colleague not , we give you 10 thousand euro and your colleague will get 50 years in prison . if you both confess you will each get 20 years in prison \\'\\' . \\n the decision table for these prisoners is like this :    [ cols=\"^,<,<\",options=\"header \" , ]     shareholders often use as a rule - of thumb a target share price of 20 times the dividend . \\n this because that implies a 5% roi and slightly better than putting the money at a bank ( which anyway invests it in that company , gets 5% , and gives you 3% ) . however , the dividend can be highly misleading , as can be seen in the table above . \\n 2 million profit is made , 100 million dividend is paid . \\n each bank uses this trick . \\n the general managers can present beautiful data and get a fat bonus . \\n the only thing stopping this game is taxing . \\n what if government decides to put 25% tax on dividend ? \\n suddenly a bank has to pay 25 million where it made only 2 million real profit . \\n the three banks claimed to have made 300 million profit in total , while they factually only made 6 million ; the rest came from passing money around to each other . \\n they have to pay 75 million dividend tax \\n . how will they manage ? ! \\n that is why government gives banks normally a tax break on dividend ( except for small stockholders like me ) . \\n governments that like to see high profits , since it also fabricates high gdp and thus guarantees low interest rates on their state loans .    actually , even without taxing , how will they manage to continue presenting nice data in a year where no profit is made on banking activity ? \\n we can now answer the two main questions    \\\\1 ) why do we have a crisis ? + the system , by being liberal , allowed for the condensation of wealth . \\n this went well as long as there was exponential growth and humans also saw their share of the wealth growing . now , with the saturation , no longer growth of wealth for humans was possible , and actually decline of wealth occurs since the growth of capital has to continue ( by definition ) . + austerity will accelerate this reduction of wealth , and is thus the most - stupid thing one could do . \\n if debt is paid back , money disappears and economy shrinks . \\n the end point will be zero economy , zero money , and a remaining debt . + it is not possible to pay back the money borrowed . \\n the money simply does not exist and can not be printed by the borrowers in a multi - region single - currency economy . \\n \\\\2 ) what will be the outcome ? + \\n if countries are allowed to go bankrupt , there might be a way that economy recovers . \\n if countries are continuing to be bailed - out , the crisis will continue . \\n it will end in the situation that all countries will have to be bailed - out by each - other , even the strong ones . \\n it is not possible that all countries pay back all the debt , even if it were advisable , without printing money by the borrowing countries . \\n + if countries are not allowed to go bankrupt , the heritage , the capital of the citizens of countries , now belonging to the people , will be confiscated and will belong to the capital , with its seat in fiscal paradises . \\n the people will then pay for using this heritage which belonged to them not so long time ago , and will actually pay for it with money that will be borrowed . \\n this is a modern form of slavery , where people posses nothing , effectively not even their own labor power , which is pawned for generations to come . \\n we will be back to a feudal system .    on the long term , \\n if we insist on pure liberalism without boundaries , it is possible that human production and consumption disappear from this planet , to be substituted by something that is fitter in a darwinistic way . \\n what we need is something that defends the rights and interests of humans and not of the capital , there where all the measures  all politicians and political lobbies  defend the rights of the capital . as an example \\n , the troika is a committee representing the interests of the financial system . \\n nothing more . \\n it is not in portugal and other countries to help the people . \\n it is in these countries to guarantee that the debt is paid back , whatever it takes . \\n + it is obvious that the political structures have no remorse in putting humans under more fiscal stress , since the people are inflexible and can not flee the tax burden . \\n the capital , on the other hand , is completely flexible and any attempt to increase the fiscal pressure makes that it flees the country . \\n again , the prisoner s dilemma makes that all countries increase tax on people and labor , while reducing the tax on capital and money . \\n the absurd taxing of 2% of apple in ireland is an example . without a doubt \\n , the employees of apple in ireland pay more than 2% tax . \\n we could summarize this as saying that the capital has joined forces  has globalized  while the labor and the people are still not united in the eternal class struggle . \\n this imbalance makes that the people every time draw the short straw . and every time the straw gets shorter \\n this document is the result of many fruitful discussions i had with many people and reading and watching a large quantity of sources . \\n i especially would like to thank the following :    * klaas bakker , alan hollander , frank sarlemijn , and mark de langen for endless discussions about philosophy ( especially dialectics , idealism vs. materialism , and empirical falsification ) , marxism and economy in general , banking and politics . \\n most , actually , could not stand my dialectical techniques anymore and gave up in the later stages of the discussion . for that , my sincere excuses to them . * \\n paul krugman for pointing out that austerity does not work . \\n never has and never will . * \\n richard wolff for the best on - line marxism lectures one could wish ( i still do not understand a thing about the original book of marx , but the lectures of wolff are eye - opening and so well given that it should be mandatory viewing material for every student of economy ) . \\n * the youtube movie moneyasdebt by paagletv . * the youtube series on banking and accounting by khanacademy . \\n * books : `` the ascent of money \\'\\' - niall ferguson . \\n `` the black swan \\'\\' - nassim nicholas taleb . * nigel farage , for being the most straightforward , honest and , besides , entertaining and original politician . \\n he understands the system ( and correctly predicted many things ) , and called names to all the other politicians that do nt . \\n sad to see that the non - enlightened still remain in power . * \\n youtube , google and wikipedia in general for developing and making the technology available for free , so that everybody can make this kind of analysis for him / herself . \\n the truth is out there . \\n it is up to us to make sense of the overload of information .', 'abstract': 'this summarizes the study of the financial and economic crisis in europe . \\n the starting questions were + 1 ) why do we have a crisis ? _ unde venis ? _ \\n + 2 ) what will be the outcome ? _ quo vadis ? _    here is the reasoning which touches many areas , ranging from financial to politics and from psychology and economy .'}\n",
      "Number of rows in validation: 11\n",
      "\n",
      "Dataset split: test\n",
      "Dataset({\n",
      "    features: ['article', 'abstract'],\n",
      "    num_rows: 12\n",
      "})\n",
      "['article', 'abstract']\n",
      "{'article': 'the aim of this paper is to investigate an optimal stopping problem under partial observation for piecewise - deterministic markov processes ( pdmp ) both from the theoretical and numerical points of view . \\n pdmp s have been introduced by davis @xcite as a general class of stochastic models . \\n they form a family of markov processes involving deterministic motion punctuated by random jumps . \\n the motion depends on three local characteristics , the flow @xmath1 , the jump rate @xmath2 and the transition measure @xmath3 , which selects the post - jump location . \\n starting from the point @xmath4 , the motion of the process @xmath5 follows the flow @xmath6 until the first jump time @xmath7 , which occurs either spontaneously in a poisson - like fashion with rate @xmath8 or when the flow hits the boundary of the state space . in either case , the location of the process at @xmath7 is selected by the transition measure @xmath9 and the motion restarts from @xmath10 . \\n we define similarly the time until the next jump and the next post - jump location and so on . \\n one important property of a pdmp , relevant for the approach developed in this paper , is that its distribution is completely characterized by the discrete time markov chain @xmath11 where @xmath12 is the @xmath13-th post - jump location and @xmath14 is the @xmath13-th inter - jump time . \\n a suitable choice of the state space and local characteristics provides stochastic models covering a large number of applications such as operations research @xcite , reliability @xcite , neurosciences @xcite , internet traffic @xcite , finance @xcite . \\n this list of examples and references is of course not exhaustive .    in this paper \\n , we consider an optimal stopping problem for a partially observed pdmp @xmath5 . roughly speaking , \\n the observation process @xmath15 is a point process defined through the embedded discrete time markov chain @xmath11 . \\n the inter - arrival times are given by @xmath16 and the marks by a noisy function of @xmath17 . \\n for a given reward function @xmath18 and a computation horizon @xmath19 , we study the following optimal stopping problem @xmath20,\\\\ ] ] where @xmath21 is the @xmath22-th jump time of the pdmp @xmath5 , @xmath23 is a stopping time with respect to the natural filtration @xmath24 generated by the observations @xmath15 . in some applications \\n , it may be more appropriate to consider a fixed optimization horizon @xmath25 rather than the random horizon @xmath21 . \\n this is a difficult problem with few references in the literature , see for instance @xcite where the underlying process is not piecewise deterministic . regarding pdmp s , this problem could be addressed using the same ideas as in @xcite . \\n it involves the time - augmented process @xmath26 . \\n although this process is still a pdmp , its local characteristics may not have the same good properties as those of the original process leading to several new technical difficulties .    a general methodology to solve such a problem is to split it into two sub - problems . \\n the first one consists in deriving the filter process given by the conditional expectation of @xmath27 with respect to the observed information @xmath28 . \\n its main objective is to transform the initial problem into a completely observed optimal stopping problem where the new state variable is the filter process . \\n the second step consists in solving this reformulated problem , the new difficulty being its infinite dimension . \\n indeed , the filter process takes values in a set of probability measures . \\n our work is inspired by  @xcite which deals with an optimal stopping problem under partial observation for a markov chain with finite state space . \\n the authors study the optimal filtering and convert their original problem into a standard optimal stopping problem for a continuous state space markov chain . \\n then they propose a discretization method based on a quantization technique to approximate the value function . \\n however , their method can not be directly applied to our problem for the following main reasons related to the specificities of pdmps . \\n firstly , pdmps are continuous time processes . \\n although the dynamics can be described by the discrete - time markov chain @xmath11 , this optimization problem remains intrinsically a _ continuous - time _ optimization problem . \\n indeed , the performance criterion is maximized over the set of stopping times defined with respect to the _ continuous - time _ \\n filtration @xmath29 . consequently \\n , our problem can not be converted into a fully discrete time problem . \\n secondly , the distribution of a pdmp combines both absolutely continuous and singular components . \\n this is due to the existence of forced jumps when the process hits the boundary of the state space . as a consequence \\n the derivation of the filter process is not straightforward . \\n in particular , the absolute continuity hypothesis * ( h ) * of @xcite does not hold . \\n thirdly , in our context the reformulated optimization problem is not standard , unlike in @xcite . \\n as already explained , this reformulated optimization problem combines _ continuous - time _ and _ discrete - time _ features . \\n consequently , this problem does not correspond to the classical optimal stopping problem of a discrete - time markov chain . \\n moreover , it is different from the optimal stopping problem of a pdmp under complete observation mainly because the new state variables given by the markov chain @xmath30 are not the underlying markov chain of some pdmp . therefore the results of the literature @xcite can not be used . \\n finally , a natural way to proceed with the numerical approximation is then to follow the ideas developed in @xcite namely to replace the filter @xmath31 and the inter - jump time @xmath14 by some finite state space approximations in the dynamic programming equation . \\n however , a noticeable difference from @xcite lies in the fact that the dynamic programming operators therein were lipschitz continuous whereas our new operators are only lipschitz continuous between some points of discontinuity . \\n we overcome this drawback by splitting the operators into their restrictions onto their continuity sets . \\n this way , we obtain not only an approximation of the value function of the optimal stopping problem but also an @xmath0-optimal stopping time with respect to the filtration @xmath29 that can be computed in practice . \\n our approximation procedure for random variables is based on quantization . \\n there exists an extensive literature on this method . \\n the interested reader may for instance consult @xcite and the references within . \\n the quantization of a random variable @xmath32 consists in finding a finite grid such that the projection @xmath33 of @xmath32 on this grid minimizes some @xmath34 norm of the difference @xmath35 . \\n roughly speaking , such a grid will have more points in the areas of high density of @xmath32 . as explained for instance in @xcite , under some lipschitz - continuity conditions , bounds for the rate of convergence of functionals of the quantized process towards the original process are available , which makes this technique especially appealing . \\n quantization methods have been developed recently in numerical probability or optimal stochastic control with applications in finance , see e.g. @xcite . \\n the paper is organized as follows . \\n section [ section - def ] introduces the notation , recalls the definition of a pdmp , presents our assumptions and defines the optimal stopping problem we are interested in , especially the observation process . \\n the recursive formulation of the filter process is derived in section  [ section - filtre ] . in section [ section - dynamic ] , we reduce our partially observed problem for the pdmp @xmath5 to a completely observed one involving the process @xmath36 for which we provide the dynamic programming equation and construct a family of @xmath0-optimal stopping times . then , our numerical methods to compute the value function and an @xmath0-optimal stopping time are presented in section [ section - quantif ] where we also prove the convergence of our algorithms after having recalled the main features of quantization . \\n finally , an academic example is discussed in section [ section - example ] while technical results are postponed to the appendices . \\n in this first section , let us define a piecewise - deterministic markov process ( pdmp ) and introduce some general assumptions . for any metric space @xmath37 , we denote @xmath38 its borel @xmath23-field , @xmath39 the set of real - valued , bounded and measurable functions defined on  @xmath37 and @xmath40 the subset of functions of @xmath39 that are lipschitz continuous . for @xmath41 , denote @xmath42 and @xmath43 . \\n let @xmath37 be an open subset of @xmath44 . \\n let @xmath45 be its boundary and @xmath46 its closure and for any subset @xmath47 of @xmath37 , @xmath48 denotes its complement . \\n a pdmp is defined by its local characteristics @xmath49 .    * \\n the flow @xmath50 is continuous . for all @xmath51 \\n , @xmath52 is an homeomorphism and @xmath53 is a semi - group : for all @xmath54 , @xmath55 . for all @xmath56 , define the deterministic exit time from @xmath37 : @xmath57 we use here and throughout the convention @xmath58 . * \\n the jump rate @xmath59 is measurable and satisfies : @xmath60 * finally , @xmath3 is a markov kernel on @xmath61 which satisfies : @xmath62    from these characteristics , it can be shown @xcite that there exists a filtered probability space @xmath63 on which a process @xmath64 is defined . \\n its motion , starting from a point @xmath65 , may be constructed as follows . \\n let @xmath66 be a nonnegative random variable with survival function : @xmath67 where for @xmath65 and @xmath68 $ ] , @xmath69 one then chooses an @xmath37-valued random variable @xmath70 with distribution @xmath71 . \\n the trajectory of @xmath72 for @xmath73 is : @xmath74 starting from the point @xmath75 , one selects in a similar way @xmath76 the time between @xmath7 and the next jump time @xmath77 , as well as @xmath78 the next post - jump location and so on . \\n davis showed @xcite that the process so defined is a strong markov process @xmath79 with jump times @xmath80 ( @xmath81 ) . \\n the process @xmath82 where @xmath83 is the @xmath13-th post - jump location and @xmath84 ( @xmath85 ) is the @xmath13-th inter - jump time is clearly a discrete - time markov chain . \\n the following non explosion assumption about the jump - times is standard ( see for example @xcite ) . \\n [ hyp - tk_goes_to_infty ] for all @xmath86 , @xmath87<+\\\\infty$ ] . \\n it implies that @xmath88 a.s . \\n when @xmath89 . \\n moreover , we make the following assumption about the transition kernel @xmath3 . \\n we assume that there exists a finite set @xmath90 such that for all @xmath65 , one has @xmath91 .    in other words , \\n for all @xmath92 , @xmath12 may only take its values in the finite set  @xmath93 . \\n this assumption ensures that the filter process , defined in the next section , has finite dimension . \\n this is required to derive a tractable numerical method in section  [ section - quantif ] . \\n when this assumption does not hold , one may consider a preliminary discretization of the transition kernel to introduce it . \\n [ hyp - ts - bounded ] we assume that the function @xmath94 is bounded on @xmath93 i.e. for all @xmath95 , we assume that @xmath96 . \\n [ def - ts - order ] for all @xmath95 , denote @xmath97 and assume that @xmath98 ,  , @xmath99 are numbered such that @xmath100  @xmath101 \\n . moreover , let @xmath102 . \\n for any function @xmath103 in @xmath39 , introduce the following notation @xmath104 for any lipschitz continuous function @xmath103 in @xmath40 , denote @xmath105 $ ] its lipschitz constant @xmath106=\\\\sup_{x\\\\neq y \\\\in e}\\\\frac{|w(x)-w(y)|}{|x - y|}.\\\\ ] ]    the jump rate @xmath2 is in @xmath107 i.e. is bounded by @xmath108 .    denote @xmath109 the set of finite signed measures on @xmath93 and @xmath110 the subset of probability measures on @xmath93 . \\n we equip @xmath109 with the norm @xmath111 given by @xmath112 where @xmath113 denotes @xmath114 . \\n we consider from now on a pdmp @xmath5 of which the initial state @xmath115 is a fixed point @xmath116 . \\n we assume that this pdmp is observed through a noise and we now turn to the description of our observation procedure . for all @xmath92 , we assume that @xmath14 is perfectly observed but that @xmath12 is not ( except for the initial state @xmath117 ) . in some examples \\n , it seems reasonable to consider that the jump times of the process are observed ( for instance , if the jumps correspond to changes of environment ) and that , when a jump occurs , the actual post - jump location is measured with a noise . \\n the _ observation _ \\n process of @xmath12 , denoted by @xmath118 is assumed to be of the following form : @xmath119 ( deterministic ) and for @xmath120 , @xmath121 where @xmath122 and where the _ noise _ @xmath123 is a sequence of @xmath44-valued , i.i.d . \\n random variables with bounded density function @xmath124 that are also independent from @xmath11 . in order to define real - valued stopping times adapted to the observation process , we need to consider a continuous time version of the observation process . \\n we therefore define the piecewise - constant process @xmath125 with a slight abuse of notation represents the value of the process @xmath15 at time @xmath126 and must not be confused with the value of the process at time @xmath127 . ] as @xmath128 let @xmath24 be the filtration generated by @xmath15 ( the _ observed _ filtration ) and @xmath129 be the filtration generated by @xmath130 ( the _ total _ filtration ) . without changing the notation , we then complete these filtrations with all the @xmath131-null sets . \\n this leads us to the following definition . \\n denote @xmath132 the set of @xmath29-stopping times that are a.s . \\n finite and for @xmath92 , define @xmath133    for all @xmath92 , we define the filter @xmath134 . \\n the quantity @xmath135 , denoted by @xmath136 , represents the probability of the event @xmath137 given the information available until time @xmath138 i.e. @xmath139.\\\\ ] ] finally , let @xmath19 be the _ horizon _ and @xmath140 the _ reward function _ , we are interested in maximizing the following _ performance criterion _ @xmath141\\\\ ] ] with respect to the stopping times @xmath142 . \\n the _ value function _ associated to this partially observed optimal stopping problem is given by @xmath143,\\\\ ] ] where @xmath144 is a probability measure in @xmath110 . \\n the solution of our problem is then obtained by setting @xmath145 . \\n for some applications , it would be interesting to consider a more general form for the reward function such as an integral term also possibly depending on the observation process , see for instance @xcite . \\n however , this new setup would lead to several technical difficulties . \\n in particular , the dynamic programming would be more complex . \\n thus the derivation of the error bounds for the numerical approximation would be possibly intractable .    we will also need the following assumption about the reward function @xmath18 associated with the optimal stopping problem .    [ hyp - g - lip ] the function @xmath18 is in @xmath107 i.e. bounded by @xmath146 and there exists @xmath147_{2}\\\\in \\\\mathbb{r}^+$ ] such that for all @xmath148 and @xmath149 $ ] , one has : @xmath150_{2}|t - u|.\\\\ ] ]    now , the aims of this paper are first to explicit the filter process @xmath151 ( section  [ section - filtre ] ) ; second to rewrite the partially observed optimal stopping problem as a totally observed one for a suitable markov chain on @xmath152 ( section  [ sec - opt - stop - complete ] ) ; third to derive a dynamic programming equation and construct a family of @xmath0-optimal stopping times ( section  [ section - dynamic - eq ] ) ; and finally to propose a numerical method to compute an approximation of the value function and an @xmath0-optimal stopping time ( section  [ section - quantif ] ) . as a starting point , we will derive , in the next section , a recursive construction of the optimal filter that is the key point of our approach . \\n the goal of this section is to obtain a recursive formulation of the filter  @xmath31 . as far as we know \\n , there is no result concerning the filter process for generic pdmps . \\n we may however refer to @xcite for a recursive formulation of the filter for point processes , that can be seen as a sub - class of pdmp s . for all @xmath92 , \\n we denote @xmath153 . \\n the continuous - time observation process @xmath15 being a point process in the sense developed in  @xcite , one has @xmath154 ( see ( * ? ? ? * , theorem t2 ) ) . \\n moreover , @xmath155 . concerning the filter @xmath31 , first notice that , since it is an @xmath156-measurable random variable , there exists for all @xmath92 a measurable function @xmath157 such that @xmath158 as in the case of the kalman - bucy filter , the iteration leading from @xmath159 to @xmath31 can be split into two steps : prediction and correction . \\n for all @xmath120 , let @xmath160 be the conditional distribution of @xmath161 given @xmath162 . \\n thus , @xmath160 is a transition kernel defined on @xmath163 for all @xmath164 and @xmath165 by @xmath166    [ lemme - filtre - zys ] for all @xmath165 , we have the following equality of probability measures on @xmath167 , for all @xmath164 , @xmath168    [ [ proof ] ] proof + + + + +    set @xmath169 in @xmath170 , using eq . \\n that defines @xmath118 , one has @xmath171}\\\\\\\\ & = & \\\\sum_{j=1}^{q}\\\\int h(x_{j},\\\\varphi(x_{j})+w , s){\\\\mathbf{p}}(z_{n}=x_{j},s_{n}\\\\in ds , w_{n}\\\\in dw|\\\\mathcal{g}_{n-1}=\\\\gamma_{n-1}).\\\\end{aligned}\\\\ ] ] moreover , @xmath172 is independent from @xmath173 and admits the density function @xmath124 . \\n consequently , one easily obtains the result by using the change of variable @xmath174 . \\n @xmath175 +   + integrating w.r.t . to the first variable in the previous lemma ( i.e. summing w.r.t . \\n @xmath176 ) yields the following result . \\n [ lemme - filtre - ys ] for all @xmath165 , we have the following equality of probability measures on @xmath177 , @xmath178dy.\\\\ ] ]    [ lemme - filtre - mu ] for all @xmath120 , @xmath165 and @xmath179 , the distribution @xmath160 , defined by eq .  , satisfies @xmath180{t^{*}}_{m};{t^{*}}_{m+1}[\\\\}}\\\\left(\\\\sum_{i = m+1}^{q}\\\\pi_{n-1}^{i}(\\\\gamma_{n-1})\\\\lambda(\\\\phi(x_i , s))e^{-\\\\lambda(x_i , s)}q(\\\\phi(x_i , s),x_j)\\\\right)ds\\\\\\\\ & & + \\\\sum_{m=1}^{q}\\\\left(\\\\pi_{n-1}^{m}(\\\\gamma_{n-1})e^{-\\\\lambda(x_m,{t^{*}}_m)}q(\\\\phi(x_m,{t^{*}}_m),x_j)\\\\right)\\\\delta_{{t^{*}}_m}(ds).\\\\end{aligned}\\\\ ] ]    [ [ proof-1 ] ] proof + + + + +    let @xmath169 be a function of @xmath181 . since @xmath182 , the law of iterated conditional expectations yields @xmath183={\\\\mathbf{e}}\\\\left[{\\\\mathbf{e}}\\\\left[h(z_{n},s_{n})\\\\big|{\\\\mathfrak{f}}_{t_{n-1}}\\\\right]\\\\big|\\\\mathcal{g}_{n-1}=\\\\gamma_{n-1}\\\\right].\\\\ ] ] besides , @xmath184 so that @xmath185={\\\\mathbf{e}}\\\\left[h(z_{n},s_{n})\\\\big|z_{0},s_{0},\\\\ldots , z_{n-1},s_{n-1}\\\\right],\\\\ ] ] by independence of the sequences @xmath186 and @xmath11 . \\n now , we apply the markov property of @xmath11 and a well - known special feature of the transition kernel of the underlying markov chain of a pdmp to obtain @xmath185={\\\\mathbf{e}}\\\\left[h(z_{n},s_{n})\\\\big|z_{n-1},s_{n-1}\\\\right]={\\\\mathbf{e}}\\\\left[h(z_{n},s_{n})\\\\big|z_{n-1}\\\\right].\\\\ ] ] moreover , the transition kernel can be explicitly expressed in terms of the local characteristics of the pdmp , and this yields the next equations    @xmath187}\\\\\\\\ & = & { \\\\mathbf{e}}\\\\big[\\\\sum_{i=1}^{q}{\\\\mathbbm{1}}_{\\\\{z_{n-1}=x_{i}\\\\}}{\\\\mathbf{e}}[h(z_{n},s_{n})|z_{n-1}=x_{i}]\\\\big|\\\\mathcal{g}_{n-1}=\\\\gamma_{n-1}\\\\big]\\\\\\\\ & = & { \\\\mathbf{e}}\\\\big[\\\\sum_{i=1}^{q}{\\\\mathbbm{1}}_{\\\\{z_{n-1}=x_{i}\\\\}}\\\\sum_{j=1}^{q}\\\\big[\\\\int_{{\\\\mathbb{r}}^{+ } } h(x_{j},s)\\\\lambda(\\\\phi(x_i , s))e^{-\\\\lambda(x_i , s)}{\\\\mathbbm{1}}_{\\\\{s<{t^{*}}_i\\\\}}q(\\\\phi(x_i , s),x_j)ds\\\\\\\\ & & + h(x_{j},{t^{*}}_i)e^{-\\\\lambda(x_i,{t^{*}}_i)}q(\\\\phi(x_i,{t^{*}}_i),x_j)\\\\big]\\\\big|\\\\mathcal{g}_{n-1}=\\\\gamma_{n-1}\\\\big]\\\\\\\\ & = & \\\\sum_{j=1}^{q}\\\\big(\\\\int_{{\\\\mathbb{r}}^{+ } } h(x_{j},s)\\\\sum_{i=1}^{q}\\\\pi_{n-1}^{i}(\\\\gamma_{n-1})\\\\lambda(\\\\phi(x_i , s))e^{-\\\\lambda(x_i , s)}{\\\\mathbbm{1}}_{\\\\{s<{t^{*}}_i\\\\}}q(\\\\phi(x_i , s),x_j)ds\\\\\\\\ & & + \\\\sum_{i=1}^{q}h(x_{j},{t^{*}}_i)\\\\pi_{n-1}^{i}(\\\\gamma_{n-1})e^{-\\\\lambda(x_i,{t^{*}}_i)}q(\\\\phi(x_i,{t^{*}}_i),x_j)\\\\big).\\\\end{aligned}\\\\ ] ]    this can be written equivalently as @xmath188}\\\\\\\\ & = & \\\\sum_{j=1}^{q}\\\\bigg(\\\\sum_{m=0}^{q-1}\\\\bigg(\\\\int_{{t^{*}}_{m}}^{{t^{*}}_{m+1 } } h(x_{j},s)\\\\sum_{i = m+1}^{q}\\\\pi_{n-1}^{i}(\\\\gamma_{n-1})\\\\lambda(\\\\phi(x_i , s))e^{-\\\\lambda(x_i , s)}q(\\\\phi(x_i , s),x_j)\\\\bigg)ds\\\\\\\\ & & + \\\\sum_{i=1}^{q}h(x_{j},{t^{*}}_i)\\\\pi_{n-1}^{i}(\\\\gamma_{n-1})e^{-\\\\lambda(x_i,{t^{*}}_i)}q(\\\\phi(x_i,{t^{*}}_i),x_j)\\\\bigg).\\\\end{aligned}\\\\ ] ] hence the result . \\n @xmath175 +   + we now state the main result of this section , namely the recursive formulation of the filter sequence @xmath151 .    [ prop - rec - filtre ] let @xmath189 be defined as follows : for all @xmath179 , @xmath190{t^{*}}_{m};{t^{*}}_{m+1}[\\\\}}\\\\frac{\\\\psi^{j}_{m}(\\\\pi , y , s)}{\\\\overline{\\\\psi}_{m}(\\\\pi , y , s)}+\\\\sum_{m=1}^{q}{\\\\mathbbm{1}}_{\\\\{s={t^{*}}_{m}\\\\}}\\\\frac{\\\\psi^{*j}_{m}(y)}{\\\\overline{\\\\psi}^{*}_{m}(y)},\\\\ ] ] where @xmath191 then , the filter , defined in eq .  , satisfies @xmath192 and the following recursion : for all @xmath120 , @xmath193    [ [ proof-2 ] ] proof + + + + +    fix @xmath194 in @xmath195 . \\n bayes formula yields for all @xmath179 , @xmath196 lemma [ lemme - filtre - zys ] and corollary [ lemme - filtre - ys ] yield @xmath197dy.\\\\end{gathered}\\\\ ] ] with respect to @xmath198 , one recognizes the equality of two absolutely continuous measures which implies the equality a.e . of the density functions . \\n thus , one has for almost all @xmath199 w.r.t . \\n the lebesgue measure , @xmath200.\\\\nonumber\\\\end{aligned}\\\\ ] ] eq . \\n states the equality of two measures of the variable @xmath201 that contain both an absolutely continuous part and some weighted dirac measures . \\n denote @xmath202 ( respectively @xmath203 ) the left - hand ( resp . \\n right - hand ) side term of the previous equality . \\n eq .   means that for all function @xmath204 and for almost all @xmath199 w.r.t . \\n the lebesgue measure , \\n one has @xmath205 recall that , from lemma [ lemme - filtre - mu ] , the distribution @xmath206 has a density on the interval @xmath207{t^{*}}_{m};{t^{*}}_{m+1}[$ ] denoted by @xmath208 and given by @xmath209 first , take @xmath210{t^{*}}_{m};{t^{*}}_{m+1}[\\\\}}$ ] in equation   with @xmath211 . \\n one has from equation ( [ eq - egal - mesures ] ) @xmath212 and thus on @xmath207{t^{*}}_{m};{t^{*}}_{m+1}[$ ] , almost surely w.r.t . \\n the lebesgue measure , one has @xmath213 finally , for @xmath214 , choosing @xmath215 in eq . \\n yields the equality of the weights at the point @xmath216 thus , using lemma [ lemme - filtre - mu ] , @xmath217 thus there exists two measurable sets @xmath218 and @xmath219 , negligible w.r.t . \\n the lebesgue measures on @xmath44 and @xmath220 respectively , such that for all @xmath221 , @xmath222 , @xmath223 , one has @xmath224 on the one hand , one has @xmath225 by absolute continuity of the distribution of @xmath172 . on the other hand , @xmath226 because the distribution of @xmath14 is absolutely continuous on @xmath227 and one has @xmath228 . \\n we therefore conclude from eq . \\n that @xmath131-a.s . \\n , one has @xmath229 the result follows since @xmath131-a.s . \\n , one has @xmath230 and @xmath231 . @xmath175 +   + this proposition will play a crucial part in the sequel . on the one hand , this result will enable us to prove the markov property of the sequence @xmath30 w.r.t . the observed filtration . on the other hand , \\n the recursive formulation allows for simulation of the process @xmath232 which is crucial to obtain numerical approximations . \\n finally , notice that the specific structure of the pdmp appears in the recursive formulation of the filter which contains both an absolutely continuous part and some weighted points . \\n the main objective of this section is to derive the dynamic programming equation for the value function of the partially observed optimal stopping problem . \\n the proof of this result can be roughly speaking decomposed into two steps . \\n the first point consists in converting the partially observed optimal stopping problem into an optimal stopping problem under complete observation where the state variables are described by the _ discrete - time _ markov chain @xmath30 ( see section [ sec - opt - stop - complete ] ) . \\n it is important to remark that under this new formulation , the optimization problem remains intrinsically a _ continuous - time _ optimization problem because the performance criterion is maximized over the set of stopping times with respect to the _ continuous - time _ \\n filtration @xmath29 . \\n we show in the second step ( see section [ section - dynamic - eq ] ) that the value function associated to the optimal stopping problem can be calculated by iterating a functional operator , labelled @xmath233 ( see definition [ def - g - h - i - j - l ] ) . as a by - product \\n , we also provide a family of @xmath0-optimal stopping times . \\n we would like to emphasize that the results obtained in this section are not straightforward to obtain due to the specific structure of this optimization problem . indeed , \\n as already explained , it combines _ continuous - time _ and _ discrete - time _ features . \\n consequently , this problem does not correspond to the classical optimal stopping problem of a discrete - time markov chain . \\n moreover , it is different from the optimal stopping problem of a pdmp under complete observation mainly because the new state variables given by the markov chain @xmath30 are not the underlying markov chain of some pdmp . therefore the results of the literature @xcite can not be used . \\n these derivations require some technical results about the structure of the stopping times in @xmath234 . \\n for the sake of clarity in exposition , they are presented in the appendix [ stop - time ] . \\n we start with a technical preliminary result required in the sequel , investigating the markov property of the filter process . \\n [ prop - markov ] the sequences @xmath235 , @xmath236 and @xmath237 are @xmath238-markov chains . \\n [ [ proof-3 ] ] proof + + + + +    let @xmath239 . \\n the law of iterated conditional expectations yields @xmath240 = { \\\\mathbf{e}}\\\\big[{\\\\mathbf{e}}[h(\\\\pi_{n},y_{n},s_{n})| { \\\\mathfrak{f}}_{t_{n-1}}]\\\\big|{\\\\mathfrak{f}^{y}}_{t_{n-1}}\\\\big].\\\\end{aligned}\\\\ ] ] from proposition [ prop - rec - filtre ] and eq .   which defines @xmath118 one obtains @xmath241}\\\\\\\\ & = & { \\\\mathbf{e}}\\\\big[h\\\\big(\\\\psi(\\\\pi_{n-1},\\\\varphi(z_{n})+w_{n},s_{n}),\\\\varphi(z_{n})+w_{n},s_{n}\\\\big)\\\\big| \\n { \\\\mathfrak{f}}_{t_{n-1}}\\\\big]\\\\\\\\ & = & \\\\sum_{j=1}^{q}\\\\int h\\\\big(\\\\psi(\\\\pi_{n-1},\\\\varphi(x_{j})+w , s),\\\\varphi(x_{j})+w , s\\\\big)\\\\\\\\ & & \\\\times { \\\\mathbf{p}}(z_{n}=x_{j},w_{n}\\\\in dw , s_{n}\\\\in ds|{\\\\mathfrak{f}}_{t_{n-1}}).\\\\end{aligned}\\\\ ] ] yet , @xmath172 is independent from @xmath242 and admits the density function @xmath124 . as in the proof of lemma [ lemme - filtre - zys ] one \\n thus obtains @xmath241}\\\\\\\\ & = & \\\\sum_{j=1}^{q}\\\\int h\\\\big(\\\\psi(\\\\pi_{n-1},y , s),y , s\\\\big){\\\\mathbf{p}}(z_{n}=x_{j},s_{n}\\\\in ds|{\\\\mathfrak{f}}_{t_{n-1}})f_{w}(y-\\\\varphi(x_{j}))dy.\\\\end{aligned}\\\\ ] ] besides , we have @xmath243 as in the proof of lemma [ lemme - filtre - mu ] , so that one has @xmath241}\\\\\\\\ & = & \\\\sum_{i=1}^{q}{\\\\mathbbm{1}}_{\\\\{z_{n-1}=x_{i}\\\\}}\\\\sum_{j=1}^{q}\\\\int \\\\big(\\\\int_{0}^{{t^{*}}_{i } } h\\\\big(\\\\psi(\\\\pi_{n-1},y , s),y , s\\\\big)\\\\lambda\\\\big(\\\\phi(x_i , s)\\\\big)e^{-\\\\lambda(x_i , s)}q\\\\big(\\\\phi(x_{i},s),x_{j}\\\\big)ds\\\\\\\\ & & + h\\\\big(\\\\psi(\\\\pi_{n-1},y,{t^{*}}_{i}),y,{t^{*}}_{i}\\\\big)e^{-\\\\lambda(x_i,{t^{*}}_{i})}q\\\\big(\\\\phi(x_{i},{t^{*}}_{i}),x_{j}\\\\big)\\\\big)f_{w}(y-\\\\varphi(x_{j}))dy.\\\\end{aligned}\\\\ ] ] take now the conditional expectation w.r.t . \\n @xmath162 , to obtain @xmath241}\\\\\\\\ & = & \\\\sum_{i=1}^{q}\\\\pi_{n-1}^{i}\\\\sum_{j=1}^{q}\\\\int \\\\big(\\\\int_{0}^{{t^{*}}_{i } } h\\\\big(\\\\psi(\\\\pi_{n-1},y , s),y , s\\\\big)\\\\lambda\\\\big(\\\\phi(x_i , s)\\\\big)e^{-\\\\lambda(x_i , s)}q\\\\big(\\\\phi(x_{i},s),x_{j}\\\\big)ds\\\\\\\\ & & + h\\\\big(\\\\psi(\\\\pi_{n-1},y,{t^{*}}_{i}),y,{t^{*}}_{i}\\\\big)e^{-\\\\lambda(x_i,{t^{*}}_{i})}q\\\\big(\\\\phi(x_{i},{t^{*}}_{i}),x_{j}\\\\big)\\\\big)f_{w}(y-\\\\varphi(x_{j}))dy.\\\\end{aligned}\\\\ ] ] hence @xmath244 $ ] is merely a function of @xmath159 yielding the result for the three processes . @xmath175 +      in this section , \\n we show how our optimal stopping problem under partial observation for the process @xmath5 can be converted into an optimal stopping problem under complete observation involving the markov chain @xmath245 . \\n more precisely , for a fixed stopping time @xmath246 , we show in proposition [ lemme value fonction ] that the performance criterion @xmath247 $ ] can be expressed in terms of the discrete - time markov chain @xmath245 . \\n we would like to emphasize the following important fact . \\n although the performance criterion can be written in terms of _ discrete - time _ process , the optimization problem remains intrinsically a _ continuous - time _ optimization problem . \\n indeed , the performance criterion is maximized over the set of stopping times with respect to the _ continuous - time _ filtration @xmath29 . \\n [ lemme value fonction ] let @xmath248 and @xmath120 . \\n for all @xmath249 one has @xmath250}\\\\\\\\ & = & \\\\sum_{k=0}^{n-1}\\\\sum_{i=1}^{q}{\\\\mathbf{e}}[{\\\\mathbbm{1}}_{\\\\{t_{k}\\\\leq \\\\sigma\\\\}}{\\\\mathbbm{1}}_{\\\\{r_{k}<{t^{*}}_{i}\\\\}}g\\\\circ\\\\phi(x_{i},r_{k})e^{-\\\\lambda(x_{i},r_{k})}\\\\pi_{k}^{i}|\\\\pi_0=\\\\pi]\\\\\\\\ & & + \\\\sum_{i=1}^{q}{\\\\mathbf{e}}[{\\\\mathbbm{1}}_{\\\\{t_{n}\\\\leq \\\\sigma\\\\}}g(x_{i})\\\\pi_{n}^{i}|\\\\pi_0=\\\\pi],\\\\end{aligned}\\\\ ] ] where @xmath251 is the sequence of non negative random variables associated to @xmath23 as introduced in theorem [ theo - bremaud - adapted ] . \\n [ [ proof-4 ] ] proof + + + + +    we split @xmath252 $ ] into several terms depending on the position of @xmath23 w.r.t . \\n the jump times @xmath253 @xmath254 } & = & \\\\sum_{k=0}^{n-1}\\\\sum_{i=1}^{q}{\\\\mathbf{e}}[{\\\\mathbbm{1}}_{\\\\{t_{k}\\\\leq \\\\sigma < t_{k+1}\\\\}}{\\\\mathbbm{1}}_{\\\\{z_{k}=x_{i}\\\\}}g\\\\circ\\\\phi(x_{i},r_{k})|\\\\pi_0=\\\\pi]\\\\\\\\ & & + \\\\sum_{i=1}^{q}{\\\\mathbf{e}}[{\\\\mathbbm{1}}_{\\\\{t_{n}\\\\leq \\\\sigma\\\\}}{\\\\mathbbm{1}}_{\\\\{z_{n}=x_{i}\\\\}}g(x_{i})|\\\\pi_0=\\\\pi].\\\\end{aligned}\\\\ ] ] for notational convenience , consider @xmath255 on the one hand , one has @xmath256=g(x_{i}){\\\\mathbbm{1}}_{\\\\{t_{n}\\\\leq \\\\sigma\\\\}}\\\\pi_{n}^{i}$ ] since @xmath257 ( see for instance ( * ? ? ? \\n * , theorem t7 ) ) . \\n on the other hand , to compute @xmath258 $ ] , we use lemma [ lemme - tech - event ] to obtain @xmath259 & = { \\\\mathbbm{1}}_{\\\\{t_{k}\\\\leq \\\\sigma\\\\}}g\\\\circ\\\\phi(x_{i},r_{k}){\\\\mathbf{e}}[{\\\\mathbbm{1}}_{\\\\{s_{k+1}>r_{k}\\\\}}{\\\\mathbbm{1}}_{\\\\{z_{k}=x_{i}\\\\}}|{\\\\mathfrak{f}^{y}}_{t_{k}}]\\\\\\\\ & = { \\\\mathbbm{1}}_{\\\\{t_{k}\\\\leq \\\\sigma\\\\}}g\\\\circ\\\\phi(x_{i},r_{k}){\\\\mathbf{e}}\\\\big[{\\\\mathbbm{1}}_{\\\\{z_{k}=x_{i}\\\\}}{\\\\mathbf{e}}[{\\\\mathbbm{1}}_{\\\\{s_{k+1}>r_{k}\\\\}}|{\\\\mathfrak{f}}_{t_{k}}]\\\\big|{\\\\mathfrak{f}^{y}}_{t_{k}}\\\\big]\\\\\\\\ & = { \\\\mathbbm{1}}_{\\\\{t_{k}\\\\leq \\\\sigma\\\\}}g\\\\circ\\\\phi(x_{i},r_{k}){\\\\mathbf{e}}[{\\\\mathbbm{1}}_{\\\\{z_{k}=x_{i}\\\\}}{\\\\mathbbm{1}}_{\\\\{r_{k}<{t^{*}}(z_{k})\\\\}}e^{-\\\\lambda(z_{k},r_{k})}|{\\\\mathfrak{f}^{y}}_{t_{k}}]\\\\\\\\ & = { \\\\mathbbm{1}}_{\\\\{t_{k}\\\\leq \\\\sigma\\\\}}g\\\\circ\\\\phi(x_{i},r_{k}){\\\\mathbbm{1}}_{\\\\{r_{k}<{t^{*}}_{i}\\\\}}e^{-\\\\lambda(x_{i},r_{k})}\\\\pi_{k}^{i}.\\\\end{aligned}\\\\ ] ] details to obtain the third line in the above computations are provided by lemma  [ lemme - tech - esp - cond ] . \\n the result follows . \\n @xmath175 +      based on the new formulation , the main objective of this section is to derive the backward dynamic programming equation . \\n it involves some operators introduced in definition [ def - g - h - i - j - l ] . by iterating the operator , \\n labelled @xmath233 , we define a sequence of real valued functions @xmath260 in definition [ def - vn ] . \\n theorem [ value - fonction ] establishes that @xmath261 is the value function of our partially observed optimal stopping problem with horizon @xmath262 and in particular that @xmath263 is the value function of problem defined in equation  . \\n another important result of this section is given by theorem [ theo - sn - epsilon ] which constructs a sequence of @xmath0-optimal stopping times . \\n [ def - g - h - i - j - l ] the operators @xmath264 , @xmath265 , @xmath266 , and @xmath267 are defined for all @xmath268 and @xmath269 by @xmath270,\\\\\\\\ hh(\\\\pi , u)&=&{\\\\mathbf{e}}\\\\big[\\\\sum_{i=1}^qh\\\\circ\\\\phi(x_i , u)\\\\pi_0^i{\\\\mathbbm{1}}_{\\\\{u < t^*_i\\\\}}{\\\\mathbbm{1}}_{\\\\{s_{1 } > u\\\\}}| \\\\pi_0=\\\\pi\\\\big],\\\\\\\\j(v , h)(\\\\pi , u)&=&hh(\\\\pi , u)+gv(\\\\pi , u),\\\\\\\\ l(v , h)(\\\\pi)&=&\\\\sup_{u\\\\geq 0 } j(v , h)(\\\\pi , u).\\\\end{aligned}\\\\ ] ]    [ def - vn ] the sequence @xmath260 of real - valued functions is defined on @xmath110 by @xmath271    the following theorem is the main result of this section showing that the operator @xmath233 is the dynamic programming operator associated to the initial optimization problem \\n .    [ value - fonction ] for all @xmath272 and @xmath273 , one has @xmath274 = v_{n - n}(\\\\pi).\\\\ ] ]    [ [ proof-5 ] ] proof + + + + +    the proof of this result is based on proposition [ theo - value - fonction ] and theorem [ theo - sn - epsilon ] . \\n proposition [ theo - value - fonction ] proves that @xmath275 is an upper bound for the value function of the problem with horizon @xmath138 . \\n the reverse inequality is derived in theorem [ theo - sn - epsilon ] by constructing a sequence of @xmath0-optimal stopping times . @xmath175 +   +    [ theo - value - fonction ] for all @xmath272 and @xmath273 , one has @xmath274\\\\leq v_{n - n}(\\\\pi).\\\\ ] ]    [ [ proof-6 ] ] proof + + + + +    let @xmath276 . \\n consider @xmath251 the sequence associated to @xmath23 as introduced in theorem [ theo - bremaud - adapted ] . \\n we prove the theorem by induction on @xmath13 . for @xmath277 , \\n proposition  [ lemme value fonction ] yields @xmath278 & = & { \\\\sum_{i=1}^{q}{\\\\mathbf{e}}[{\\\\mathbbm{1}}_{\\\\{r_{0}<{t^{*}}_{i}\\\\}}g\\\\circ\\\\phi(x_{i},r_{0})e^{-\\\\lambda(x_{i},r_{0})}\\\\pi_{0}^{i}|\\\\pi_0=\\\\pi ] } \\\\nonumber \\\\\\\\ & & + { \\\\sum_{i=1}^{q}{\\\\mathbf{e}}[{\\\\mathbbm{1}}_{\\\\{t_{1}\\\\leq\\\\sigma\\\\}}g(x_{i})\\\\pi_{1}^{i}|\\\\pi_0=\\\\pi]}. \\\\label{beben}\\\\end{aligned}\\\\ ] ] since @xmath279 is deterministic and by using lemma [ lemme - def - op - h ] , we recognize that the first term of the right hand side of equation ( [ beben ] ) is @xmath280 . \\n we now turn to the second term of the right hand side of equation ( [ beben ] ) which is given by @xmath281 & = & { \\\\mathbf{e}}[v_{n}(\\\\pi_{1}){\\\\mathbbm{1}}_{\\\\{s_{1}\\\\leq r_{0}\\\\}}|\\\\pi_0=\\\\pi ] \\\\\\\\ & = & \\\\ gv_{n}(\\\\pi , r_{0}),\\\\end{aligned}\\\\ ] ] from lemma [ lemme - tech - event ] and the definition of @xmath282 . recall that from definition [ def - g - h - i - j - l ] one has @xmath283 thus , one obtains @xmath278 \\\\ = \\\\ \\n j(v_{n},g)(\\\\pi , r_{0 } ) & \\\\leq & \\\\sup_{u\\\\geq 0}j(v_{n},g)(\\\\pi , u)\\\\\\\\ & = & l(v_{n},g)(\\\\pi)= v_{n-1}(\\\\pi).\\\\end{aligned}\\\\ ] ] set now @xmath284 and assume that @xmath285\\\\leq v_{n-(n-1)}(\\\\pi)$ ] , for all @xmath286 . \\n proposition [ lemme value fonction ] yields @xmath287}\\\\\\\\   & = & \\\\sum_{k=0}^{n-1}\\\\sum_{i=1}^{q}{\\\\mathbf{e}}[{\\\\mathbbm{1}}_{\\\\ { t_{k}\\\\leq \\\\sigma\\\\}}{\\\\mathbbm{1}}_{\\\\{r_{k}<{t^{*}}_{i}\\\\}}g\\\\circ\\\\phi(x_{i},r_{k})e^{-\\\\lambda(x_{i},r_{k})}\\\\pi_{k}^{i}|\\\\pi_0=\\\\pi]\\\\\\\\ & & + \\\\sum_{i=1}^{q}{\\\\mathbf{e}}[{\\\\mathbbm{1}}_{\\\\{t_{n}\\\\leq \\\\sigma\\\\}}g(x_{i})\\\\pi_{n}^{i}|\\\\pi_0=\\\\pi].\\\\end{aligned}\\\\ ] ] as in the case @xmath277 , the term for @xmath288 equals @xmath280 . \\n notice that for @xmath289 , @xmath290 and that @xmath291 is @xmath292-measurable . by taking the conditional expectation w.r.t . \\n @xmath292 it follows that @xmath293={\\\\mathbf{e}}[\\\\xi |\\\\pi_0=\\\\pi]$ ] where @xmath294 is defined by @xmath295.\\\\end{aligned}\\\\ ] ] therefore , we obtain @xmath296=   hg(\\\\pi , r_{0})+{\\\\mathbf{e}}[\\\\xi{\\\\mathbbm{1}}_{\\\\{s_{1}\\\\leq r_{0}\\\\}}|\\\\pi_0=\\\\pi].\\\\ ] ] we now use the markov property of the chain @xmath297 . \\n indeed , for @xmath289 , one has @xmath298 , where @xmath299 is the translation operator of the @xmath238-markov chain @xmath235 . moreover , when @xmath300 , one has , from proposition [ propb4 ] , @xmath301 ( indeed , we pointed out in remark [ rq - rn - rnbar ] that @xmath302 can be replaced by @xmath303 defined in lemma [ lemmeb2 ] ) and @xmath304 where @xmath305 and @xmath306 are defined in definition [ defb3 ] and proposition [ propb4 ] ( with @xmath307 in the present case ) . \\n since for @xmath289 , @xmath308 , one has @xmath309 . finally , combining the markov property of the chain @xmath297 and proposition [ lemme value fonction ] we have @xmath310 with @xmath311 $ ] . \\n moreover , one has @xmath312 from the induction assumption since @xmath313 ( indeed , both @xmath306 and @xmath314 are @xmath29-stopping times from corollary [ corb6 ] and lemma [ prop - tn - stop - time ] respectively ) . \\n one has then @xmath315 finally , combining eq .   and \\n , one has @xmath316 \\n \\\\leq   hg(\\\\pi , r_{0})+{\\\\mathbf{e}}[v_{n-(n-1)}(\\\\pi_{1}){\\\\mathbbm{1}}_{\\\\{s_{1}\\\\leq r_{0}\\\\}}|\\\\pi_0=\\\\pi].\\\\ ] ] in the second term , we recognize the operator @xmath282 and one has @xmath317 & \\\\leq &   hg(\\\\pi , r_{0})+gv_{n-(n-1)}(\\\\pi , r_{0})\\\\\\\\ & = & j(v_{n-(n-1)},g)(\\\\pi , r_{0})\\\\\\\\ & \\\\leq & \\\\sup_{u\\\\geq 0 } j(v_{n-(n-1)},g)(\\\\pi , u)\\\\\\\\ & = & l(v_{n-(n-1)},g)(\\\\pi ) \\\\ = \\\\ \\n v_{n - n}(\\\\pi),\\\\end{aligned}\\\\ ] ] that proves the induction . \\n @xmath175 +   + we now prove the reverse inequality by constructing a sequence of @xmath0-optimal stopping times . \\n [ def - sn - epsilon]for @xmath318 , @xmath272 and for @xmath319 , we define @xmath320 consider @xmath321 and for @xmath284 , @xmath322 and finally set @xmath323    the following lemma describes the effect of the translation operator @xmath299 on the sequence @xmath324 . \\n [ rnk - epsilon - theta ] for @xmath325 and @xmath326 , on the set @xmath327 , one has @xmath328    [ [ proof-7 ] ] proof + + + + +    for @xmath329 , one just has to prove that on the event @xmath330 , one has @xmath331 . yet , from the definition of the sequence @xmath324 , one has @xmath332 and @xmath333 . \\n the result follows since we are on the event @xmath334 . for a fixed @xmath335 \\n , we prove the lemma by induction on @xmath326 . \\n set @xmath336 . \\n one has from the definition on the sequence @xmath324 , @xmath337 and @xmath338 . \\n we obtain @xmath339 because we have assumed that we are on the event @xmath340 . \\n the propagation of the induction is similar to the case @xmath336 . \\n @xmath175 +   + equipped with this preliminary result , we may now prove that @xmath341 is a sequence of @xmath0-optimal stopping times with respect to the filtration . \\n generated by the observations . \\n [ theo - sn - epsilon ] for all @xmath272 and @xmath318 , one has @xmath342 and @xmath343\\\\geq v_{n - n}(\\\\pi)-\\\\epsilon.\\\\ ] ]    [ [ proof-8 ] ] proof \\n + + + + +    let @xmath344 . \\n first notice that , as a direct consequence of proposition [ propb5 ] , @xmath345 is an @xmath29-stopping time since , by construction , the @xmath346 are @xmath347-measurable and satisfy the condition @xmath348 on the event @xmath349 . \\n it is also clear that @xmath350 . \\n thus , one has @xmath342 . \\n let us now prove the second assessment by induction . set @xmath277 . \\n let @xmath319 , we denote @xmath351 . \\n since @xmath352 is deterministic , one has clearly @xmath353 . \\n consequently , by using the same arguments as in the proof of proposition [ theo - value - fonction ] , we obtain @xmath354= & hg(\\\\pi , r_{0}^{\\\\epsilon})+gv_{n}(\\\\pi , r_{0}^{\\\\epsilon})=j(v_{n},g)(\\\\pi , r_{0}^{\\\\epsilon}).\\\\end{aligned}\\\\ ] ] finally , the definition of @xmath355 yields @xmath356 thus one has @xmath357\\\\geq v_{n-1}(\\\\pi)-\\\\epsilon.\\\\ ] ] now set @xmath284 and assume that @xmath358\\\\geq v_{n-(n-1)}(\\\\pi)-\\\\epsilon$ ] , for all @xmath318 . \\n proposition [ lemme value fonction ] yields @xmath359}\\\\\\\\ & = & \\\\sum_{k=0}^{n-1}\\\\sum_{i=1}^{q}{\\\\mathbf{e}}\\\\left[{\\\\mathbbm{1}}_{\\\\{t_{k}\\\\leq u_{n}^{2\\\\epsilon}\\\\}}{\\\\mathbbm{1}}_{\\\\{r_{n , k}^{2\\\\epsilon}<{t^{*}}_{i}\\\\}}g\\\\circ\\\\phi(x_{i},r_{n , k}^{2\\\\epsilon})e^{-\\\\lambda(x_{i},r_{n , k}^{2\\\\epsilon})}\\\\pi_{k}^{i}\\\\big|\\\\pi_0=\\\\pi\\\\right]\\\\\\\\ & & + \\\\sum_{i=1}^{q}{\\\\mathbf{e}}[{\\\\mathbbm{1}}_{\\\\{t_{n}\\\\leq u_{n}^{2\\\\epsilon}\\\\}}g(x_{i})\\\\pi_{n}^{i}|\\\\pi_0=\\\\pi].\\\\end{aligned}\\\\ ] ] denote @xmath360 . as in the case @xmath277 , \\n the term for @xmath288 equals @xmath361 since @xmath362 . \\n take the conditional expectation w.r.t . @xmath292 in the other terms . \\n one has then , @xmath363=   hg(\\\\pi , r_{n-1}^{\\\\epsilon})+{\\\\mathbf{e}}[\\\\xi\\'{\\\\mathbbm{1}}_{\\\\{t_{1}\\\\leq u_{n}^{2\\\\epsilon}\\\\}}|\\\\pi_0=\\\\pi],\\\\ ] ] with @xmath364.\\\\end{aligned}\\\\ ] ] our objective is to apply the markov property of @xmath365 in the term @xmath366 . recall that , from lemma [ rnk - epsilon - theta ] , one has @xmath367 for @xmath325 and @xmath326 on the event @xmath368 ( the equality of these events stems from lemma  [ lemme - tech - event ] ) . \\n thus , on this set one has @xmath369 besides , recall that @xmath370 , for @xmath371 . \\n consequently , on the set @xmath327 , one has @xmath372 and thus , combining the markov property of the chain @xmath297 and proposition [ lemme value fonction ] , we have @xmath373 with @xmath374 $ ] . \\n moreover , thanks to the induction assumption , one has @xmath375 so that one obtains @xmath376 finally , combining equation   and   and noticing that , according to lemma  [ lemme - tech - event ] , @xmath377 , one obtains @xmath378 } & \\\\geq & hg(\\\\pi , r_{n-1}^{\\\\epsilon})+{\\\\mathbf{e}}[v_{n-(n-1)}(\\\\pi_{1}){\\\\mathbbm{1}}_{\\\\{s_{1}\\\\leq r_{n-1}^{\\\\epsilon}\\\\}}|\\\\pi_0=\\\\pi]-\\\\epsilon\\\\\\\\ & = & j(v_{n-(n-1)},g)(\\\\pi , r_{n-1}^{\\\\epsilon})-\\\\epsilon\\\\\\\\ & \\\\geq & v_{n - n}(\\\\pi)-2\\\\epsilon,\\\\end{aligned}\\\\ ] ] from the definition of @xmath379 , showing the result . \\n in this section , we are interested in the computational issue for our optimal stopping problem under partial observation . \\n indeed , we want to compute a numerical approximation of the value function ( [ opt - stop - pb ] ) and propose a computable @xmath0-optimal stopping time . \\n as we have seen in the previous section , the value function @xmath380 can be obtained by iterating the dynamic programming operator @xmath233 . \\n however , the operator @xmath233 involves conditional expectations that are in essence difficult to compute and iterate numerically . we manage to overcome this difficulty by combining two special properties of our problem . on the one hand , the underlying process @xmath381 in the expression of the operator \\n @xmath233 is a markov chain . \\n therefore , it can be discretized using a quantization technique which is a powerful method suitable for numerical computation and iteration of conditional expectations . on the other hand , \\n the recursion on the functions @xmath382 involving the operator @xmath233 can be transformed into a recursion on suitably defined random variables . \\n thus they are easier to iterate numerically as we do not need to compute an approximation of each @xmath383 on the whole state space . \\n this section is organized as follows . \\n we first explain how the recursion on the functions @xmath382 can be transformed into a recurrence on random variables involving only the markov chain @xmath381 . \\n then , we present a quantization technique to discretize this markov chain . afterwards , we construct a discretized version of the main operators in definition  [ def op chapeau ] that is used to build an approximation of the value function in definition  [ def v chap ] , and a computable @xmath0-optimal stopping time . \\n the main results of this section are theorems  [ theo - conv ] and [ th arret chap ] that prove the convergence of our approximation scheme and provide a rate of convergence . \\n we first explain how the dynamic programming equations on the functions @xmath382 yield a recursion on the random variables @xmath384 . \\n introduce now the sequence @xmath385 of random variables defined by @xmath386 in other words , one has @xmath387,\\\\nonumber\\\\end{aligned}\\\\ ] ] for @xmath388 . \\n notice that @xmath389 is known and the expression of @xmath390 involves only @xmath391 and the markov chain @xmath381 . \\n thus , the sequence @xmath392 is completely characterized by the system  ( [ def vn ] ) . \\n in addition , @xmath393 . thus to approximate the value function @xmath380 at the initial point of our process , \\n it is sufficient to provide an approximation of the sequence of random variables @xmath394 . \\n there exists an extensive literature on quantization methods for random variables and processes . \\n we do not pretend to present here an exhaustive panorama of these methods . \\n however , the interested reader may for instance , consult the following works @xcite and references therein . \\n consider @xmath32 an @xmath395-valued random variable such that @xmath396 where @xmath397 denotes the @xmath34-nom of @xmath32 : @xmath398)^{1/p}$ ] . \\n let @xmath399 be a fixed integer , the optimal @xmath34-quantization of the random variable @xmath32 consists in finding the best possible @xmath34-approximation of @xmath32 by a random vector @xmath33 taking at most @xmath399 values : @xmath400 . \\n this procedure consists in the following two steps :    1 . \\n find a finite weighted grid @xmath401 with @xmath402 . \\n 2 .   set @xmath403 where @xmath404 with @xmath405 denotes the closest neighbour projection on @xmath406 . \\n the asymptotic properties of the @xmath34-quantization are given by the following result , see e.g. @xcite . \\n [ theore ] if @xmath407<+\\\\infty$ ] for some @xmath408 then one has @xmath409 where the distribution of @xmath32 is @xmath410 with @xmath411 , @xmath412 a constant and @xmath413 the lebesgue measure in @xmath414 . \\n there exists a similar procedure for the optimal quantization of a markov chain . \\n our approximation method is based on the quantization of the markov chain @xmath415 . \\n thus , from now on , we will denote , for @xmath416 , @xmath417 . \\n the clvq ( competitive learning vector quantization ) algorithm ( * ? ? ? \\n * section 3 ) provides for each time step @xmath416 a finite grid @xmath418 of @xmath419 as well as the transition matrices @xmath420 from @xmath418 to @xmath421 . \\n let  @xmath422 such that for all @xmath423 , @xmath424 and @xmath425 have finite moments at least up to order  @xmath426 and let @xmath427 be the nearest - neighbor projection from @xmath419 onto @xmath418 . \\n the quantized process @xmath428 with value for each @xmath429 in the finite grid @xmath418 of @xmath419 is then defined by @xmath430 we will also denote by @xmath431 , the projection of @xmath418 on @xmath110 , and by @xmath432 , the projection of @xmath418 on @xmath433 . \\n some important remarks must be made concerning the quantization . \\n on the one hand , the optimal quantization has nice convergence properties stated by theorem [ theore ] . \\n indeed , the @xmath434-quantization error @xmath435 goes to zero when the number of points in the grids goes to infinity . \\n however , on the other hand , the markov property is not maintained by the algorithm and the quantized process is generally not markovian . \\n although the quantized process can be easily transformed into a markov chain , this chain will not be homogeneous . \\n it must be pointed out that the quantized process @xmath436 depends on the starting point @xmath437 of the process .    in practice \\n , we begin with the computation of the quantization grids , which merely requires to be able to simulate the process . \\n notice that in our case , what is actually simulated is the sequence of observation @xmath438 . \\n we are then able to compute the filter @xmath439 thanks to the recursive equation provided by proposition [ prop - rec - filtre ] . \\n the grids are only computed once and for all and may be stored off - line . \\n our schemes are then based on the following simple idea : we replace the process by its quantized approximation within the different recursions . \\n the computation is thus carried out in a very simple way since the quantized process has finite state space . \\n our approximation scheme of the sequence @xmath385 follows the same lines as in @xcite , but once more , the results therein can not be applied directly as the markov chain @xmath440 is not the underlying markov chain of some pdmp . \\n our approach decomposes in two steps . \\n the first one will be to discretize the time - continuous maximization of the operator @xmath233 to obtain a maximization over a finite set . \\n the second step consists in replacing the markov chain @xmath441 by its quantized approximation @xmath442 within the dynamic programming equation . \\n thus , the conditional expectations will become easily tractable finite sums . \\n let us first build a finite time grid to discretize the continuous - time maximization in the expression of the operator @xmath233 . \\n the maximum is originally taken over the set @xmath443 . \\n however , it can be seen from definition  [ def - g - h - i - j - l ] that @xmath444 for all @xmath445 . indeed , the random variable @xmath446 is bounded by the greatest deterministic exit time @xmath447 that is finite thanks to assumption  [ hyp - ts - bounded ] . \\n therefore , the maximization set can be reduced to the compact set @xmath448 $ ] . instead of directly discretizing the set @xmath448 $ ] , we will actually discretize the subsets @xmath207t^*_m , t^*_{m+1}[$ ] . \\n the reason why we want to exclude the points @xmath449 from our grid is technical and will be explained with lemma  [ xi3-indicator ] . \\n now , it seems natural to distinguish wether @xmath450 or @xmath451 . \\n let @xmath452 be the set of indices @xmath453 such that @xmath451 . \\n notice that @xmath454 is not empty because it contains at least the index 0 since we assumed that @xmath455 . \\n we can now build our approximation grid . \\n let @xmath456 be such that @xmath457 for all @xmath458 , let @xmath459 be the finite grid on @xmath207{t^{*}}_{m};{t^{*}}_{m+1}[$ ] defined as follows @xmath460 where @xmath461 . \\n we also denote @xmath462    [ rq - grm]let @xmath458 . notice that , thanks to eq .  , @xmath459 is not empty . \\n moreover , it satisfies two properties that will be crucial in the sequel :    a. : :    for all @xmath463 $ ] , there exists    @xmath464 such that    @xmath465 , b. : :    for all @xmath464 and    @xmath466 , one has    @xmath467\\\\subset ] { t^{*}}_{m};{t^{*}}_{m+1}[$ ] .    a discretized maximization operator @xmath468 is then defined as follows .    [ def k ] \\n let @xmath468 : @xmath469 be defined for all @xmath319 by @xmath470 with @xmath471.$ ]    we now proceed to our second step : replacing the markov chain @xmath441 by its quantized approximation @xmath442 within the operators involved in the construction of the value function . \\n [ def op chapeau ] we define the _ quantized operators _ @xmath472 , @xmath473 , @xmath474 , @xmath475 and @xmath476 for @xmath477 , @xmath478 , @xmath479 , @xmath480 and @xmath481 as follows @xmath482,\\\\\\\\ \\\\widehat{h}_{n}h(\\\\pi , u)=&\\\\hspace{0.3cm}\\\\sum_{i=1}^{q}\\\\pi^{i}{\\\\mathbbm{1}}_{\\\\{u < \\n { t^{*}}_{i}\\\\}}h\\\\circ\\\\phi(x_{i},u){\\\\mathbf{e}}[{\\\\mathbbm{1}}_{\\\\{\\\\widehat{s}_{n } > u\\\\}}| \\\\widehat \\\\pi_{n-1}=\\\\pi],\\\\\\\\ \\\\widehat{j}_{n}(v , h)(\\\\pi , u)=&\\\\hspace{0.3cm}\\\\widehat{h}_{n}h(\\\\pi , u)+\\\\widehat{g}_{n}v(\\\\pi , u),\\\\\\\\ \\\\widehat{k}_{n}v(\\\\pi)=&\\\\hspace{0.3cm}\\\\widehat{j}_{n}(v , h)(\\\\pi , t^*_q)=\\\\hspace{0.3cm}{\\\\mathbf{e}}[v(\\\\widehat{\\\\pi}_{n})| \\\\widehat \\\\pi_{n-1}=\\\\pi],\\\\\\\\ \\\\widehat l^{d}_{n}(v , h)(\\\\pi)=&\\\\hspace{0.3cm}\\\\max_{m\\\\in m}\\\\big\\\\{\\\\max_{u\\\\in gr_{m}(\\\\delta)}\\\\ { \\\\widehat j_{n}(v , h)(\\\\pi , u)\\\\}\\\\big\\\\}\\\\vee \\\\widehat k_{n}v(\\\\pi).\\\\end{aligned}\\\\ ] ]    the quantized approximation of the value functions naturally follows . \\n [ def v chap ] for @xmath483 , define the functions @xmath484 on @xmath485 as follows @xmath486 for @xmath483 , let @xmath487    we may now state our main result for the numerical approximation . \\n [ theo - conv ] suppose that for all @xmath388 , @xmath488 then , one has the following bound for the approximation error @xmath489\\\\|\\\\pi_{n+1}-\\\\widehat \\\\pi_{n+1}\\\\|_{p},\\\\end{aligned}\\\\ ] ] where @xmath490_{2}+2c_{g}c_{\\\\lambda}$ ] , @xmath491 and @xmath492 + 4c_{g}+2[v_{n+1}]$ ] with @xmath493 $ ] , @xmath494 $ ] defined in proposition [ prop - lip - v ] and @xmath147_{2}$ ] defined in assumption [ hyp - g - lip ] . \\n theorem [ theo - conv ] establishes the convergence of our approximation scheme and provides a bound for the rate of convergence . \\n more precisely , it gives a rate for the @xmath34 convergence of @xmath495 towards @xmath496 . \\n indeed , one has @xmath497 , so by virtue of theorem [ theo - conv ] @xmath498 can be made arbitrarily small when the quantization errors @xmath499 go to zero i.e. when the number of points in the quantization grids goes to infinity . in order to prove theorem [ theo - conv ] \\n , we proceed similarly to @xcite and split the approximation error into four terms @xmath500 , with @xmath501 to obtain bounds for each of these terms , one needs to study the regularity of the operators and the value functions @xmath383 . \\n the results are detailed in appendix  [ apx lip ] . \\n in particular , we establish in proposition [ prop - lip - v ] that the value functions @xmath383 are lipschitz continuous , yielding a bound for the first term . \\n the first term @xmath502 is bounded as follows @xmath503\\\\|\\\\pi_{n}-\\\\widehat \\\\pi_{n}\\\\|_{p}.\\\\ ] ]    the other error terms are studied separately in the following sections .      for the second error term , we investigate the consequences of replacing the continuous maximization in operator @xmath233 by a discrete one on @xmath504 .    for all @xmath458 , @xmath505 and @xmath319 one has @xmath506_{2}+c_{g}c_{\\\\lambda}+c_{v}c_{\\\\lambda}\\\\right)\\\\delta.\\\\ ] ]    [ [ proof-9 ] ] proof \\n + + + + +    we use definition  [ def - op - j - l ] to split operator @xmath507 into a sum of continuous operators @xmath508 . \\n thus , one has @xmath509 } j^m(v , g)(\\\\pi , u).\\\\ ] ] the function @xmath510 being continuous , there exists @xmath511 $ ] such that @xmath512 } j^{m}(v , h)(\\\\pi , u)=j^{m}(v , h)(\\\\pi,\\\\overline{t})$ ] . \\n moreover , from remark [ rq - grm].a , one may chose @xmath513 so that @xmath514 . \\n propositions [ prop - lip - h ] and [ prop - lip - g ] stating the lipschitz continuity of @xmath515 then yield @xmath516 } j^{m}(v , h)(\\\\pi , u)-\\\\max_{u\\\\in gr_{m}(\\\\delta ) } j^{m}(v , h)(\\\\pi , u)\\\\\\\\ & \\\\leq j^{m}(v , h)(\\\\pi,\\\\overline{t})-j^{m}(v , h)(\\\\pi,\\\\overline{u})\\\\\\\\ & \\\\leq \\\\left([g]_{2}+c_{g}c_{\\\\lambda}+c_{v}c_{\\\\lambda}\\\\right)|\\\\overline{t}-\\\\overline{u}|\\\\leq \\\\left([g]_{2}+c_{g}c_{\\\\lambda}+c_{v}c_{\\\\lambda}\\\\right)\\\\delta,\\\\end{aligned}\\\\ ] ] showing the result . @xmath175 +    the second term @xmath517 is bounded as follows @xmath518_{2}+2c_{g}c_{\\\\lambda}\\\\right)\\\\delta.\\\\ ] ]    [ [ proof-10 ] ] proof + + + + +    this is a straightforward consequence of the previous lemma once it has been noticed that for all @xmath519 , @xmath520 , @xmath521 , @xmath522 , one has @xmath523 . \\n notice also that proposition [ prop - lip - v ] provides @xmath524 . \\n @xmath175 +      to investigate the third error term , we use the properties of quantization to bound the error made by replacing an operator by its quantized approximation . as in @xcite \\n , we must first deal with non - continuous indicator functions . \\n the fact that the @xmath449 and a small neighborhood around them do not belong to the discretization grid @xmath504 is crucial to obtain the following lemma . \\n [ xi3-indicator ] for all @xmath388 , @xmath458 and @xmath466 , one has @xmath525\\\\big\\\\|_{p } \\n \\\\leq \\\\eta^{-1}{\\\\|s_{n+1}-\\\\widehat s_{n+1}\\\\|_{p}}+2\\\\eta c_{\\\\lambda}.\\\\ ] ]    [ [ proof-11 ] ] proof + + + + +    let @xmath466 . \\n the difference of the indicator functions equals 1 if and only if @xmath526 and @xmath527 are on different sides of @xmath528 . \\n therefore , if the difference of the indicator functions equals 1 , either @xmath529 , or @xmath530 and in the latter case @xmath531 too since @xmath532 . \\n one has @xmath533 leading to @xmath534\\\\big\\\\|_{p}\\\\\\\\ \\\\leq \\\\|{\\\\mathbbm{1}}_{\\\\{|s_{n+1}-\\\\widehat s_{n+1}| > \\\\eta\\\\}}\\\\|_{p } + \\\\big\\\\|\\\\max_{u\\\\in gr_{m}(\\\\delta)}{\\\\mathbf{e } } [ { \\\\mathbbm{1}}_{\\\\{|s_{n+1}-u|\\\\leq \\\\eta\\\\ } } |\\\\widehat \\\\pi_{n}]\\\\big\\\\|_{p}.\\\\end{gathered}\\\\ ] ] on the one hand , markov inequality yields @xmath535 on the other hand , since @xmath464 , one has @xmath467\\\\subset ] { t^{*}}_{m};{t^{*}}_{m+1}[$ ] from remark [ rq - grm].b , thus @xmath526 has an absolutely continuous distribution on the interval @xmath467 $ ] since it does not contain any of the @xmath536 . besides \\n , recall that @xmath537 , hence , the following inclusions of @xmath23-fields @xmath538 . \\n we also have @xmath539 , the law of iterated conditional expectations provides @xmath540 & = & { \\\\mathbf{e}}\\\\big[{\\\\mathbf{e}}\\\\big[{\\\\mathbf{e } } [ { \\\\mathbbm{1}}_{\\\\{|s_{n+1}-u|\\\\leq \\\\eta\\\\ } } | { \\\\mathfrak{f}}_{t_{n}}]\\\\big| { \\\\mathfrak{f}^{y}}_{t_{n}}\\\\big]\\\\big|\\\\widehat \\\\pi_{n}\\\\big]\\\\\\\\ & \\\\leq & { \\\\mathbf{e}}\\\\big[{\\\\mathbf{e } } [ \\\\int_{u-\\\\eta}^{u+\\\\eta}\\\\lambda\\\\big(\\\\phi(z_{n},s)\\\\big)ds\\\\big| { \\\\mathfrak{f}^{y}}_{t_{n}}]\\\\big|\\\\widehat \\\\pi_{n}\\\\big]\\\\\\\\ & = & { \\\\mathbf{e}}\\\\big [ \\\\sum_{i=1}^{q } \\\\pi_{n}^{i}\\\\int_{u-\\\\eta}^{u+\\\\eta}\\\\lambda\\\\big(\\\\phi(x_{i},s)\\\\big)ds\\\\big|\\\\widehat \\\\pi_{n}\\\\big].\\\\end{aligned}\\\\ ] ] finally , one obtains @xmath541\\\\leq 2\\\\eta c_{\\\\lambda},$ ] showing the result . \\n @xmath175 +    [ xi3-k ] for all @xmath388 , one has @xmath542{\\\\mathbf{e}}\\\\big[|\\\\pi_{n+1}-\\\\widehat \\n \\\\pi_{n+1}|\\\\big|\\\\widehat \\\\pi_{n}\\\\big]+(2c_{g}+2[v_{n+1}]){\\\\mathbf{e}}\\\\left[|\\\\pi_{n}-\\\\widehat \\\\pi_{n}|\\\\big|\\\\widehat \\\\pi_{n}\\\\right].\\\\end{gathered}\\\\ ] ]    [ [ proof-12 ] ] proof + + + + +    by the definitions of operators @xmath543 and @xmath544 , one has @xmath545-{\\\\mathbf{e}}[v_{n+1}(\\\\widehat \\n \\\\pi_{n+1})| \\\\widehat \\\\pi_{n } ] |\\\\nonumber\\\\\\\\ & \\\\leq&{|{\\\\mathbf{e}}[v_{n+1}(\\\\pi_{n+1})| \\\\pi_{n}=\\\\widehat \\\\pi_{n } ] -{\\\\mathbf{e}}[v_{n+1}(\\\\pi_{n+1})| \\\\widehat \\\\pi_{n } ] |}\\\\nonumber\\\\\\\\ & & + { |{\\\\mathbf{e}}[v_{n+1}(\\\\pi_{n+1})-v_{n+1}(\\\\widehat \\\\pi_{n+1})| \\\\widehat \\\\pi_{n } ] |}.\\\\label{eq dif k}\\\\end{aligned}\\\\ ] ] the second term in the right - hand side of eq . ( \\n [ eq dif k ] ) is readily bounded by using proposition [ prop - lip - v ] stating that @xmath546 is lipschitz continuous @xmath547|\\\\leq[v_{n+1}]{\\\\mathbf{e}}\\\\big[|\\\\pi_{n+1}-\\\\widehat \\\\pi_{n+1}|\\\\big|\\\\widehat \\\\pi_{n}\\\\big].\\\\ ] ] to deal with the first term in the right - hand side of eq . \\n ( [ eq dif k ] ) , we need to use the special properties of quantization . indeed , one has @xmath548 so that we have the inclusion of @xmath23-fields @xmath549 . \\n the law of iterated conditional expectations gives @xmath550={\\\\mathbf{e}}\\\\big[{\\\\mathbf{e}}[v_{n+1}(\\\\pi_{n+1})|(\\\\pi_{n},s_{n})]\\\\big| \\\\widehat \\\\pi_{n } \\\\big].\\\\ ] ] moreover , proposition [ prop - markov ] yields @xmath551={\\\\mathbf{e}}[v_{n+1}(\\\\pi_{n+1})|\\\\pi_{n}]$ ] , as the conditional distribution of @xmath552 w.r.t . \\n @xmath553 merely depends on @xmath31 . \\n in addition , @xmath554 $ ] is @xmath555-measurable . \\n one has then @xmath556-{\\\\mathbf{e}}[v_{n+1}(\\\\pi_{n+1})| \\\\widehat \\\\pi_{n } ] |}\\\\\\\\ & = & \\\\left|{\\\\mathbf{e}}\\\\big[{\\\\mathbf{e}}[v_{n+1}(\\\\pi_{n+1})| \\\\pi_{n}=\\\\widehat \\\\pi_{n } ] -{\\\\mathbf{e}}[v_{n+1}(\\\\pi_{n+1})| \\\\pi_{n } ] \\\\big|\\\\widehat \\\\pi_{n}\\\\big]\\\\right|\\\\\\\\ & = & |{\\\\mathbf{e}}[kv_{n+1}(\\\\widehat \\\\pi_{n})-kv_{n+1}(\\\\pi_{n})|\\\\widehat \\\\pi_{n}]|,\\\\end{aligned}\\\\ ] ] by definition of @xmath543 . \\n finally , one has @xmath557-{\\\\mathbf{e}}[v_{n+1}(\\\\pi_{n+1})| \\\\widehat \\\\pi_{n } ] |}}\\\\\\\\ & \\\\leq&2(c_g+[v_{n+1}]){\\\\mathbf{e}}\\\\left[|\\\\pi_{n}-\\\\widehat \\\\pi_{n}|\\\\big|\\\\widehat \\\\pi_{n}\\\\right],\\\\end{aligned}\\\\ ] ] thanks to propositions [ prop - lip - k ] and [ prop - lip - v ] stating the lipschitz continuity of operator @xmath543 and function @xmath546 . \\n @xmath175 +    [ lemme - xi3 ] if @xmath558 satisfies condition ( [ conditiondelta ] ) , a upper bound for the third term @xmath559 is @xmath560\\\\|\\\\pi_{n+1}-\\\\widehat \\\\pi_{n+1}\\\\|_{p}+(4c_{g}+2[v_{n+1}])\\\\|\\\\pi_{n}-\\\\widehat \\\\pi_{n}\\\\|_{p}\\\\\\\\ & & + 2c_{g } ( 2 c_{\\\\lambda})^{1/2}{\\\\|s_{n+1}-\\\\widehat s_{n+1}\\\\|_{p}}^{1/2}.\\\\end{aligned}\\\\ ] ]    [ [ proof-13 ] ] proof + + + + +    one has @xmath561 the term involving operator @xmath543 was studied in the previous lemma . \\n let us now study the term involving operator @xmath507 . \\n set @xmath453 in @xmath454 , @xmath528 in @xmath459 and define @xmath562 . \\n one has then @xmath563-{\\\\mathbf{e}}[\\\\alpha(\\\\widehat \\\\pi_{n},\\\\widehat \\\\pi_{n+1},\\\\widehat s_{n+1})|\\\\widehat \\\\pi_{n}]\\\\right|\\\\leq a+b,\\\\end{aligned}\\\\ ] ] where@xmath564-{\\\\mathbf{e}}[\\\\alpha(\\\\pi_{n},\\\\pi_{n+1},s_{n+1})|\\\\widehat\\\\pi_{n}]\\\\right|,\\\\\\\\ \\n b=&|{\\\\mathbf{e}}[\\\\alpha(\\\\pi_{n},\\\\pi_{n+1},s_{n+1})-\\\\alpha(\\\\widehat \\\\pi_{n},\\\\widehat \\\\pi_{n+1},\\\\widehat s_{n+1})\\\\big|\\\\widehat \\\\pi_{n}]| . \\\\ ] ] using the boundedness of @xmath18 and @xmath546 as well as the lipschitz continuity of @xmath546 given in proposition [ prop - lip - v ] , we get a upper bound for the second term @xmath565 + [ v_{n+1}]{\\\\mathbf{e}}\\\\big[|\\\\pi_{n+1}-\\\\widehat \\\\pi_{n+1}|\\\\big|\\\\widehat \\\\pi_{n}\\\\big]\\\\nonumber\\\\\\\\ & & + 2c_{g}{\\\\mathbf{e}}\\\\left[|{\\\\mathbbm{1}}_{\\\\{s_{n+1}\\\\leq u\\\\}}-{\\\\mathbbm{1}}_{\\\\{\\\\widehat s_{n+1}\\\\leq u\\\\}}|\\\\big|\\\\widehat \\\\pi_{n}\\\\right].\\\\end{aligned}\\\\ ] ] for the first term , we use the properties of quantization as in the previous proof to obtain @xmath566-{\\\\mathbf{e}}[\\\\alpha(\\\\pi_{n},\\\\pi_{n+1},s_{n+1})|\\\\pi_{n}]\\\\big| \\\\widehat \\\\pi_{n}\\\\big]\\\\right|.\\\\end{aligned}\\\\ ] ] we now recognize operator @xmath515 , and from propositions [ prop - lip - h ] and [ prop - lip - g ] , one has @xmath567\\\\nonumber\\\\\\\\ & \\\\leq & ( 3c_{g}+2[v_{n+1}]){\\\\mathbf{e}}\\\\left[|\\\\widehat{\\\\pi}_{n}-\\\\pi_{n}\\\\big|\\\\widehat \\\\pi_{n}\\\\right].\\\\end{aligned}\\\\ ] ] we gather the bounds provided by eq .   and to obtain @xmath568){\\\\mathbf{e}}\\\\big[|\\\\pi_{n}-\\\\widehat \\n \\\\pi_{n}\\\\big ] + [ v_{n+1}]{\\\\mathbf{e}}\\\\big[|\\\\pi_{n+1}-\\\\widehat \\\\pi_{n+1}|\\\\big|\\\\widehat \\\\pi_{n}\\\\big]\\\\nonumber\\\\\\\\ & & + 2c_{g}{\\\\mathbf{e}}\\\\left[|{\\\\mathbbm{1}}_{\\\\{s_{n+1}\\\\leq u\\\\}}-{\\\\mathbbm{1}}_{\\\\{\\\\widehat s_{n+1}\\\\leq u\\\\}}|\\\\big|\\\\widehat \\\\pi_{n}\\\\right].\\\\end{aligned}\\\\ ] ] finally , combining the result for operators @xmath507 and lemma  [ xi3-k ] , we obtain @xmath569{\\\\mathbf{e}}\\\\left[|\\\\pi_{n+1}-\\\\widehat \\\\pi_{n+1}|\\\\big|\\\\widehat \\\\pi_{n}\\\\right]+(4c_{g}+2[v_{n+1}]){\\\\mathbf{e}}\\\\left[|\\\\pi_{n}-\\\\widehat \\\\pi_{n}|\\\\big|\\\\widehat \\\\pi_{n}\\\\right]\\\\\\\\ & & + 2c_{g}\\\\max_{u\\\\in gr(\\\\delta)}{\\\\mathbf{e}}\\\\left[|{\\\\mathbbm{1}}_{\\\\{s_{n+1}\\\\leq u\\\\}}-{\\\\mathbbm{1}}_{\\\\{\\\\widehat s_{n+1}\\\\leq u\\\\}}|\\\\big|\\\\widehat \\\\pi_{n}\\\\right].\\\\end{aligned}\\\\ ] ] we conclude by taking the @xmath34 norm in the equation above and using lemma [ xi3-indicator ] to bound the last term @xmath570\\\\|\\\\pi_{n+1}-\\\\widehat \\\\pi_{n+1}\\\\|_p+(4c_{g}+2[v_{n+1}])\\\\|\\\\pi_{n}-\\\\widehat \\\\pi_{n}\\\\|_p\\\\\\\\ & & + 2c_{g}(\\\\eta^{-1}{\\\\|s_{n+1}-\\\\widehat s_{n+1}\\\\|_{p}}+2\\\\eta c_{\\\\lambda}),\\\\end{aligned}\\\\ ] ] for some @xmath466 . \\n the best choice for @xmath571 minimizing the error is when @xmath571 satisfies @xmath572 which yields @xmath573 . \\n if @xmath558 satisfies condition ( [ conditiondelta ] ) , one has @xmath574 as required for this optimal choice . \\n @xmath175 +      finally , the fourth error term is bounded using lipschitz properties . \\n [ lemme - xi4 ] the fourth term @xmath575 is bounded as follows @xmath576\\\\|\\\\pi_{n+1}-\\\\widehat \\\\pi_{n+1}\\\\|_{p}+\\\\|v_{n+1}-\\\\widehat v_{n+1}\\\\|_{p}.\\\\end{aligned}\\\\ ] ]    [ [ proof-14 ] ] proof + + + + +    one has @xmath577\\\\nonumber\\\\\\\\ & & \\\\vee { \\\\mathbf{e}}[v_{n+1}(\\\\widehat{\\\\pi}_{n+1})-\\\\widehat v_{n+1}(\\\\widehat{\\\\pi}_{n+1})| \\\\widehat{\\\\pi}_{n } ] \\\\big\\\\|_{p}\\\\nonumber\\\\\\\\ & \\\\leq&\\\\|v_{n+1}(\\\\widehat{\\\\pi}_{n+1})-\\\\widehat v_{n+1}(\\\\widehat{\\\\pi}_{n+1})\\\\|_{p}.\\\\label{jvchap}\\\\end{aligned}\\\\ ] ] we now introduce @xmath578 to split this term into two differences . \\n the lipschitz continuity of @xmath546 stated by proposition [ prop - lip - v ] allows us to bound the first term while we recognize @xmath391 and @xmath579 in the second one . \\n @xmath580\\\\left\\\\|\\\\pi_{n+1}-\\\\widehat \\\\pi_{n+1}\\\\right\\\\|_{p}+\\\\|v_{n+1}-\\\\widehat v_{n+1}\\\\|_{p}.\\\\end{aligned}\\\\ ] ] hence , the result . \\n @xmath175 +      as in the previous section , we follow the idea of @xcite and we use both the markov chain @xmath581 and its quantized approximation @xmath582 to approximate the expression of the @xmath0-optimal stopping time introduced in definition [ def - sn - epsilon ] . \\n we check that we thus obtain actual stopping times for the observed filtration @xmath29 and that the expected reward when stopping then is a good approximation of the value function @xmath496 . for all @xmath583 and @xmath483 \\n , we denote @xmath584 . \\n let @xmath585 for @xmath272 and @xmath319 , we define @xmath586 let now for @xmath120 , @xmath587 and set @xmath588 the following result is a direct consequence of proposition [ propb5 ] . it is a very strong result as it states that the numerically computable random variables @xmath589 are actual @xmath29-stopping times .    for @xmath483 \\n , @xmath589 is an @xmath29-stopping time . \\n we now intend to prove that stopping at time @xmath590 provides a good approximation of the value function @xmath496 . for all @xmath591 and @xmath483 \\n we therefore introduce the performance when abiding by the stopping rule  @xmath592 and the corresponding random variables @xmath593,\\\\qquad \\\\overline{v}_{n}=\\\\overline{v}_{n}(\\\\pi_{n}).\\\\ ] ]    [ th arret chap ] suppose that for all @xmath388 , @xmath594 one has then the following bound for the error between the expected reward when stopping at time @xmath589 and the value function @xmath595\\\\|\\\\pi_{n+1}-\\\\widehat \\\\pi_{n+1}\\\\|_{p}\\\\\\\\ & & + b\\\\|s_{n+1}-\\\\widehat s_{n+1}\\\\|_{p}^{1/2},\\\\end{aligned}\\\\ ] ] where @xmath596 , @xmath597 $ ] , @xmath494 $ ] defined in proposition  [ prop - lip - v ] . \\n it is important to notice that @xmath598 and thus @xmath599 . \\n therefore , the previous theorem proves that @xmath600 goes to zero when the quantization errors @xmath601 go to zero . in other words , the expected reward @xmath602 when stopping at the random time @xmath590 \\n can be made arbitrarily close to the value function @xmath496 of the partially observed optimal stopping problem and hence @xmath590 is an @xmath0-optimal stopping time . \\n [ [ proof-15 ] ] proof + + + + +    the first step consists in finding a recursion satisfied by the sequence @xmath603 in order to compare it with the dynamic programming equation giving @xmath604 . \\n let @xmath388 . \\n first of all , proposition  [ lemme value fonction ] gives @xmath605}\\\\\\\\ & = & \\\\sum_{k=0}^{n - n-1}\\\\sum_{i=1}^{q}{\\\\mathbf{e}}[{\\\\mathbbm{1}}_{\\\\{t_{k}\\\\leq \\\\widehat{u}_{n - n}\\\\}}{\\\\mathbbm{1}}_{\\\\{\\\\widehat{r}_{n - n , \\n k}<{t^{*}}_{i}\\\\}}g\\\\circ\\\\phi(x_{i},\\\\widehat{r}_{n - n , k})e^{-\\\\lambda(x_{i},\\\\widehat{r}_{n - n , k})}\\\\pi_{k}^{i}|\\\\pi_0]\\\\\\\\ & & + \\\\sum_{i=1}^{q}{\\\\mathbf{e}}[{\\\\mathbbm{1}}_{\\\\{t_{n - n}\\\\leq \\\\widehat{u}_{n - n}\\\\}}g(x_{i})\\\\pi_{n}^{i}|\\\\pi_0].\\\\end{aligned}\\\\ ] ] the term corresponding to @xmath288 in the above sum equals @xmath606 . taking the conditional expectation w.r.t . @xmath292 in the other terms and noticing that one has @xmath607 yield @xmath608=hg(\\\\pi_{0},\\\\widehat{r}_{n - n,0})+{\\\\mathbf{e}}[\\\\xi\\'\\'{\\\\mathbbm{1}}_{\\\\{s_{1}\\\\leq \\\\widehat{r}_{n - n,0}\\\\}}|\\\\pi_0],\\\\ ] ] with @xmath609.\\\\end{aligned}\\\\ ] ] we now make use of the markov property of the sequence @xmath151 in the term @xmath610 . similarly to lemma [ rnk - epsilon - theta ] , for @xmath120 , on the set @xmath611 , one has @xmath612 for all @xmath326 . \\n thus , on the set @xmath611 , one has @xmath613 . \\n recall that @xmath614 . \\n we may therefore apply the markov property . using proposition [ lemme value fonction ] , \\n we now obtain @xmath615 . finally , we have @xmath616 recall that @xmath617 and apply the translation operator @xmath618 to obtain the following recursion @xmath619 we are now able to study the error between @xmath620 and @xmath621 . \\n let us recall that , from its definition , @xmath622 equals either @xmath623 or @xmath624 . in the latter case , \\n notice that @xmath625 . \\n eventually , one has @xmath626 to bound the first term @xmath47 , we introduce the function @xmath546 . \\n one has @xmath627 let us study these four terms one by one . by definition of @xmath543 , the first term @xmath628 \\n is bounded by @xmath629 $ ] . for the second term @xmath630 \\n , we use proposition [ prop - lip - k ] stating the lipschitz continuity of the operator @xmath543 . \\n the term third term @xmath631 is bounded by lemma [ xi3-k ] and a upper bound of the fourth term @xmath632 is given by eq . \\n ( [ jvchap ] ) . \\n thus , one obtains @xmath633)\\\\|\\\\pi_{n}-\\\\widehat \\\\pi_{n}\\\\|_{p}\\\\\\\\ & & + 2[v_{n+1}]\\\\|\\\\pi_{n+1}-\\\\widehat \\\\pi_{n+1}\\\\|_{p}.   \\\\end{aligned}\\\\ ] ] we now turn to the second term @xmath634 . in the following computations , denote @xmath635 . its definition yields \\n we split this expression into four differences again . on the set @xmath637 \\n , one has the equality @xmath638 . \\n hence , one this set , one obtains from eq . \\n ( [ prog dyn vbar ] ) @xmath639 for the other terms , we use propositions [ prop - lip - h ] and [ prop - lip - g ] for the lipschitz continuity of @xmath507 and eq . \\n ( [ eq j - jchap ] ) and ( [ jvchap ] ) to obtain @xmath640)\\\\|\\\\pi_{n}-\\\\widehat \\\\pi_{n}\\\\|_{p}+2[v_{n+1}]\\\\|\\\\pi_{n+1}-\\\\widehat \\\\pi_{n+1}\\\\|_{p}\\\\\\\\ & & + 2c_g(2c_{\\\\lambda})^{1/2}\\\\|s_{n+1}-\\\\widehat s_{n+1}\\\\|_{p}^{1/2 } ,   \\\\end{aligned}\\\\ ] ] after optimizing @xmath571 . \\n the result is obtained by taking the maximum between @xmath47 and @xmath634 . \\n we apply our procedure to a simple pdmp similar to the one studied in  @xcite . \\n let @xmath641 . for @xmath65 and @xmath642 , \\n the flow is defined by @xmath643 so that @xmath644 . \\n we set the jump rate to @xmath645 for some @xmath646 and the transition kernel @xmath647 to the uniform distribution on a finite set @xmath648 . \\n thus , the process evolves toward 1 and the closer it gets to 1 , the more likely it will jump back to some point of @xmath93 . \\n a trajectory is represented in figure [ plotecg ] . \\n jump time with @xmath649 , @xmath650 and @xmath651 . \\n the dotted lines represent the possible post - jump values.,width=302 ]    the observation process is @xmath652 where @xmath653 and @xmath654 for some @xmath655 . \\n finally , we choose the reward function @xmath656 . \\n our assumptions thus clearly hold . \\n simulations are run with @xmath649 , @xmath650 , @xmath657 , @xmath658 and @xmath659 . \\n the numerical approximation is implemented as follows . \\n first , we make an exact simulator for the sequence @xmath660 . from the values of @xmath661 , \\n one builds the observation sequence @xmath662 that allows for a recursive computation of the filter process thanks to proposition [ prop - rec - filtre ] . \\n thus , we can simulate trajectories of the markov chain @xmath381 that we feed into the clvq algorithm to obtain quantization grids . by monte carlo simulations , we can also estimate the quantization errors . to run our numerical procedure , \\n one then needs to choose the parameter @xmath558 satisfying conditions ( [ eq - condition - delta ] ) and ( [ conditiondelta ] ) . in this special case , \\n they boil down to @xmath663 we have chosen @xmath558 just above the monte carlo approximation of the lower bound . \\n the values are given in the second column of table [ ecg_table ] for different grids sizes . \\n then , we recursively compute the approximated value functions @xmath664 on the quantization grids . \\n the conditional expectations are now merely weighted sums . \\n the approximation we obtain for the value function of the partially observed optimal stopping problem are given in the fourth column of table  [ ecg_table ] . \\n finally , we implemented the construction of our @xmath0-optimal stopping time and ran @xmath665 monte carlo simulations to compute its mean performance . \\n the results are given in the third column of table  [ ecg_table ] . \\n the exact value of @xmath496 is unknown but one has as in @xcite , @xmath666 \\\\leq v_{0}=\\\\sup_{\\\\sigma\\\\in\\\\sigma_{n}^{y}}{\\\\mathbf{e}}[g(x_{\\\\sigma } ) ] \\\\leq { \\\\mathbf{e}}\\\\big [ \\\\sup_{0\\\\leq t \\\\leq t_{n}}g(x_{t})\\\\big].\\\\ ] ] both the first and the last term may be estimated by monte carlo simulations . \\n one has thus , with @xmath667 trajectories , @xmath668=0.9944 $ ] . \\n the theoretical bound @xmath669 of the error @xmath670 provided by theorem [ theo - conv ] is computed using the approximated quantization errors . \\n this bound decreases as the number of points in the quantization grids increases , as expected . \\n moreover , we computed the empirical bound given by eq .   @xmath671-\\\\widehat v_{0}| \\\\big\\\\}$ ] .    .simulation results . \\n the terms @xmath672 and @xmath669 respectively denote an empirical bound and the theoretical bound provided by theorem [ theo - conv ] for the error @xmath670 . [ cols=\"^,^,^,^,^,^\",options=\"header \" , ] \\n in this section , we study the special structure of @xmath29-stopping times . \\n [ prop - tn - stop - time ] for all @xmath673 , @xmath138 is an @xmath29-stopping time . \\n [ [ proof-16 ] ] proof + + + + +    notice that for all @xmath92 , @xmath674 . \\n this stems from the absolute continuity of the distribution of the random variables @xmath186 since @xmath675 hence , for all @xmath92 and @xmath676 , one has @xmath131 a.s . \\n @xmath677 where we denote @xmath678 . \\n the process @xmath679 is @xmath680-adapted thus @xmath681 and since the filtration @xmath680 contains the @xmath131-null sets , one has @xmath682 . for all @xmath92 \\n , @xmath138 is therefore an @xmath29-stopping time . \\n @xmath175 +   + we now recall theorem a2 t33 from @xcite concerning the structure of the stopping times for point processes and apply it in our case . \\n define the filtration @xmath683 as follows @xmath684    [ theo - bremaud ] let @xmath23 be an @xmath683-stopping time . for all @xmath92 , there exists a @xmath685-measurable non negative random variable @xmath686 , such that one has @xmath687    our observation process @xmath15 being a point process that fits the framework developed in @xcite \\n , we apply this theorem to @xmath29-stopping times .    for all @xmath642 , \\n one has @xmath688 . \\n [ [ proof-17 ] ] proof + + + + +    first prove that @xmath689 . \\n let @xmath690 and @xmath691 , one has @xmath692 indeed , in the above equation , we used that @xmath693 and @xmath694 are assumed to be deterministic . for the reverse inclusion , \\n let @xmath690 , @xmath120 and @xmath691 . \\n recall that @xmath695 . \\n one has @xmath696 since @xmath15 is @xmath680-adapted and @xmath138 is an @xmath29-stopping time from lemma [ prop - tn - stop - time ] . \\n therefore , one has @xmath697 , showing the result . \\n @xmath175 +   + we may therefore apply theorem [ theo - bremaud ] to @xmath29-stopping times . \\n [ theo - bremaud - adapted ] let @xmath23 be an @xmath29-stopping time . for all @xmath92 , there exists a non negative random variable @xmath686 , @xmath156-measurable such that one has @xmath687    we outline the following result , which is a direct consequence of the above theorem , because it will be used several times in our derivation . \\n [ lemme - tech - event ] let @xmath23 be an @xmath29-stopping time and @xmath698 be the sequence of random variables associated to @xmath23 as introduced in theorem [ theo - bremaud - adapted ] . for all @xmath673 , @xmath699    [ [ proof-18 ] ] proof + + + + +    theorem [ theo - bremaud - adapted ] states that on the event @xmath700 , on has @xmath701 so that , still on the event @xmath700 , one has @xmath702 . \\n we deduce the result from this observation . \\n @xmath175 +   + we now investigate the effect of the translation operator of the markov chain @xmath703 on the @xmath29-stopping times . \\n proposition [ prop - markov ] states that @xmath703 is a @xmath238-markov chain . \\n let us consider its canonical space @xmath704 . \\n thus , for @xmath705 , one has @xmath706 . besides , we define the _ translation operator _ \\n @xmath707 we then define @xmath708 and recursively for @xmath709 , @xmath710 . \\n thus , for all @xmath711 , one has @xmath712 . as @xmath713 , \\n one has @xmath714 the next results of this section are given without proof because their proofs follow the very same lines as in @xcite from which they are adapted . \\n however , notice that the results from @xcite can not be applied directly to our case because the sequence @xmath703 , although it is a markov chain , is not the underlying markov chain of some pdmp . \\n set now @xmath276 . from theorem \\n [ theo - bremaud - adapted ] , for all @xmath92 , there exists a non negative @xmath156-measurable random variable @xmath686 , such that , on the event @xmath715 , one has @xmath716    [ lemmeb2 ] let @xmath23 be an @xmath29-stopping time and @xmath698 be the sequence of random variables associated to @xmath23 as introduced in theorem [ theo - bremaud - adapted ] . \\n let @xmath717 and for @xmath289 , @xmath718 . \\n one has then @xmath719    [ rq - rn - rnbar ] this lemma proves that in theorem [ theo - bremaud - adapted ] , the sequence @xmath720 can be replaced by @xmath721 . therefore , we can assume , without loss of generality that the sequence @xmath720 satisfies the following condition : for all @xmath92 , @xmath722 on the event @xmath723 . \\n since @xmath724 and @xmath302 is @xmath347-measurable , there exists a sequence of real - valued measurable functions @xmath725 defined on @xmath726 such that @xmath727 , where @xmath728 . \\n [ defb3 ] let @xmath23 be an @xmath29-stopping time and @xmath729 be the sequence of functions associated to @xmath23 as introduced in remark [ rq - rn - rnbar ] . \\n let @xmath730 and @xmath731 be a sequence of functions defined on @xmath732 by @xmath733 and for @xmath289 , @xmath734    [ propb4 ] let @xmath23 be an @xmath29-stopping time and @xmath735 ( respectively , @xmath731 ) be the sequence of functions associated to @xmath23 as introduced in lemma [ lemmeb2 ] ( respectively , in definition [ defb3 ] ) . \\n assume that @xmath736 . \\n for all @xmath737 , one has then @xmath738 and @xmath739 , with @xmath306 : @xmath740 defined as @xmath741    [ propb5 ] let @xmath742 be a sequence of non negative random variables such that for all @xmath13 , @xmath743 is @xmath156-measurable and @xmath744 on @xmath745 . \\n we define @xmath746 then @xmath747 is an @xmath29-stopping time . \\n [ corb6 ] let @xmath23 be an @xmath29-stopping time and @xmath306 be the mapping associated to @xmath23 introduced in proposition [ propb4 ] . for all @xmath748 \\n , @xmath749 is a @xmath29-stopping time . \\n the objective of this section is to prove the technical lemma [ lemme - tech - esp - cond ] used in the proof of proposition [ lemme value fonction ] . \\n [ lemme - tech - esp - cond ] for all @xmath750 , one has @xmath751={\\\\mathbbm{1}}_{\\\\{r_{k}<{t^{*}}(z_{k})\\\\}}e^{-\\\\lambda(z_{k},r_{k})}.$ ]    [ [ proof-19 ] ] proof + + + + +    first recall some results concerning the random variables @xmath752 , details may be found in @xcite . after a jump of the process to the point @xmath753 , the survival function of the time until the next jump is @xmath754 define its generalized inverse @xmath755 . \\n then , for all @xmath737 , one has @xmath756 , where @xmath757 are i.i.d . \\n random variables with uniform distribution on @xmath758 $ ] independent from @xmath759 . \\n thus , one has @xmath751={\\\\mathbf{e}}[f(\\\\upsilon_{k},z_{k},r_{k})|{\\\\mathfrak{f}}_{t_{k}}]$ ] where @xmath760 . as @xmath761 is @xmath759-measurable , @xmath757 is independent from @xmath759 and @xmath762={\\\\mathbbm{1}}_{\\\\{r<{t^{*}}(z)\\\\}}e^{-\\\\lambda(z , r)}$ ] , ( * ? ? ? \\n * proposition 11.2 ) yields the result . \\n in this section , we derive the lipschitz properties of our operators in order to obtain them for the value functions  @xmath260 . similarly to the proof of proposition [ prop - markov ] , we first derive the integral form of operators @xmath282 and @xmath763 . \\n now , notice that the functions @xmath767 and @xmath768 are not continuous . \\n however , they are cdlg with a finite number of jumps . \\n therefore , they can be rewritten as sums of continuous functions as follows . \\n [ rq - continu - hm ] for all @xmath769 and for all @xmath479 , @xmath505 and @xmath764 , the functions @xmath780 , @xmath781 and @xmath510 are continuous . \\n moreover , they are constant on @xmath782 $ ] and on @xmath783 and one has @xmath784 \\n since the function @xmath781 is constant on the intervals @xmath782 $ ] and @xmath783 , we may assume that @xmath528 , @xmath787 $ ] so that one has @xmath788 and similarly for @xmath789 . \\n then , on the one hand , one has @xmath790 on the other hand , lemma a.1 in @xcite yields @xmath791_{2}+c_{g}c_{\\\\lambda})|u-\\\\tilde u|,\\\\ ] ] showing the result . \\n @xmath175 +   + the following technical lemma will be useful to derive the lipschitz properties of the operator @xmath792 . the first part of its proof is adapted from @xcite . \\n let @xmath795{t^{*}}_{m};{t^{*}}_{m+1}[$ ] and @xmath796 . in the following computation , \\n we denote @xmath797 and @xmath798 , one has @xmath799 notice that @xmath800 so that the second sum above reduces to @xmath801 . \\n finally , one has @xmath802 as @xmath803 and @xmath804 , one obtains            on the one hand , one clearly has @xmath810 on the other hand , one has @xmath811 besides , we have assumed that @xmath380 is lipschitz continuous so that one has @xmath812\\\\big|\\\\psi(\\\\pi , y\\',s\\')-\\\\psi(\\\\tilde \\\\pi , y\\',s\\')\\\\big|.\\\\ ] ] thus , one has @xmath813\\\\sum_{i=1}^{q}\\\\pi^{i}\\\\int_{0}^{{t^{*}}_{i}}\\\\int_{{\\\\mathbb{r}}^{d}}\\\\big|\\\\psi(\\\\pi , y\\',s\\')-\\\\psi(\\\\tilde \\\\pi , y\\',s\\')\\\\big|\\\\\\\\ & & \\\\sum_{j=1}^{q}q\\\\big(\\\\phi(x_{i},s\\'),x_{j}\\\\big)f_{w}(y\\'-\\\\varphi(x_{j}))\\\\lambda\\\\circ\\\\phi(x_{i},s\\')e^{-\\\\lambda(x_{i},s\\')}dy\\'ds\\'\\\\\\\\ & \\\\leq & c_{v}|\\\\pi-\\\\tilde \\\\pi|+[v]\\\\sum_{m=0}^{q-1}\\\\sum_{i = m+1}^{q}\\\\pi^{i}\\\\int_{{t^{*}}_{m}}^{{t^{*}}_{m+1}}\\\\int_{{\\\\mathbb{r}}^{d}}\\\\big|\\\\psi(\\\\pi , y\\',s\\')-\\\\psi(\\\\tilde \\\\pi , y\\',s\\')\\\\big|\\\\\\\\ & & \\\\times\\\\sum_{j=1}^{q}q\\\\big(\\\\phi(x_{i},s\\'),x_{j}\\\\big)f_{w}(y\\'-\\\\varphi(x_{j}))\\\\lambda\\\\circ\\\\phi(x_{i},s\\')e^{-\\\\lambda(x_{i},s\\')}dy\\'ds\\'\\\\\\\\ & \\\\leq & c_{v}|\\\\pi-\\\\tilde \\\\pi|+[v]\\\\sum_{m=0}^{q-1}\\\\int_{{t^{*}}_{m}}^{{t^{*}}_{m+1}}\\\\int_{{\\\\mathbb{r}}^{d}}\\\\big|\\\\psi(\\\\pi , y\\',s\\')-\\\\psi(\\\\tilde \\\\pi , y\\',s\\')\\\\big|\\\\overline{\\\\psi}_{m}(\\\\pi , y\\',s\\')dy\\'ds\\'.\\\\end{aligned}\\\\ ] ] the previous lemma provides the result . \\n @xmath175 +        as in the proof of proposition [ prop - lip - h ] , we may assume without loss of generality that @xmath528 , @xmath787 $ ] so that one has @xmath815 and similarly for @xmath816 . \\n the second term does not depend on @xmath528 thus @xmath817 as @xmath818 by proposition [ prop - rec - filtre ] . \\n this yields the result . \\n @xmath175 +                    we proved that @xmath261 is the value function of the optimal stopping problem with horizon @xmath262 thus one has @xmath828\\\\leq c_{g}.$ ] therefore @xmath261 is bounded and @xmath827 . the second assessment is proved by backward induction . \\n let @xmath144 , @xmath829 . \\n one has @xmath830 therefore , we have the result for @xmath831 with @xmath832\\\\leq c_{g}$ ] . \\n moreover , since @xmath833 for @xmath388 , proposition  [ prop - lip - l ] yields @xmath493\\\\leq 3c_{g}+2[v_{n+1}]$ ] which proves the propagation of the induction . \\n @xmath175 +                                    g.  pags , h.  pham , and j.  printems . \\n optimal quantization methods and applications to numerical problems in finance . in _ handbook of computational and numerical methods in finance _ , pages 253297 . \\n birkhuser boston , boston , ma , 2004 .', 'abstract': 'this paper deals with the optimal stopping problem under partial observation for piecewise - deterministic markov processes . \\n we first obtain a recursive formulation of the optimal filter process and derive the dynamic programming equation of the partially observed optimal stopping problem . \\n then , we propose a numerical method , based on the quantization of the discrete - time filter process and the inter - jump times , to approximate the value function and to compute an actual @xmath0-optimal stopping time . \\n we prove the convergence of the algorithms and bound the rates of convergence . \\n keywords : optimal stopping , partial observation , filtering , piecewise deterministic markov processes , quantization , numerical method 60g40 , 60j25 , 93e20 , 93e25 , 93e10 , 60k10'}\n",
      "Number of rows in test: 12\n",
      "\n"
     ]
    }
   ],
   "source": [
    "for split in dataset.keys():\n",
    "    print(f\"Dataset split: {split}\")\n",
    "    print(dataset[split])\n",
    "    print(dataset[split].column_names)\n",
    "    print(dataset[split][0])\n",
    "    print(f\"Number of rows in {split}: {len(dataset[split])}\")\n",
    "    print()"
   ]
  },
  {
   "cell_type": "code",
   "execution_count": 15,
   "metadata": {
    "colab": {
     "base_uri": "https://localhost:8080/"
    },
    "executionInfo": {
     "elapsed": 100,
     "status": "ok",
     "timestamp": 1722872599484,
     "user": {
      "displayName": "Bibek Shiwakoti",
      "userId": "12870124355518867121"
     },
     "user_tz": 240
    },
    "id": "sObTZS2nGOli",
    "outputId": "1249a9bf-60c4-408a-b029-f1550a7a2a6e"
   },
   "outputs": [
    {
     "data": {
      "text/plain": [
       "dict_values([Dataset({\n",
       "    features: ['article', 'abstract'],\n",
       "    num_rows: 345\n",
       "}), Dataset({\n",
       "    features: ['article', 'abstract'],\n",
       "    num_rows: 11\n",
       "}), Dataset({\n",
       "    features: ['article', 'abstract'],\n",
       "    num_rows: 12\n",
       "})])"
      ]
     },
     "execution_count": 15,
     "metadata": {},
     "output_type": "execute_result"
    }
   ],
   "source": [
    "dataset.values()"
   ]
  },
  {
   "cell_type": "code",
   "execution_count": 16,
   "metadata": {
    "colab": {
     "base_uri": "https://localhost:8080/"
    },
    "executionInfo": {
     "elapsed": 34,
     "status": "ok",
     "timestamp": 1722872599484,
     "user": {
      "displayName": "Bibek Shiwakoti",
      "userId": "12870124355518867121"
     },
     "user_tz": 240
    },
    "id": "lvC3TVWoGQy1",
    "outputId": "7430723b-e425-4724-bc9f-1b97184294ec"
   },
   "outputs": [
    {
     "name": "stdout",
     "output_type": "stream",
     "text": [
      "Row 1:\n",
      "Article (first 500 chars): many complex systems in various areas of science exhibit a spatio - temporal dynamics that is inhomogeneous and can be effectively described by a superposition of several statistics on different scales , in short a superstatistics @xcite . \n",
      " the superstatistics notion was introduced in @xcite , in the mean time many applications for a variety of complex systems have been pointed out @xcite . \n",
      " essential for this approach is the existence of sufficient time scale separation between two relevant d\n",
      "Abstract (first 200 chars): we provide an overview on superstatistical techniques applied to complex systems with time scale separation . \n",
      " three examples of recent applications are dealt with in somewhat more detail : the stati\n",
      "--------------------------------------------------------------------------------\n",
      "Row 2:\n",
      "Article (first 500 chars): the purpose of this paper is to outline the fundamental role the mittag - leffler function in renewal processes that are relevant in the theories of anomalous diffusion . as a matter of fact the interest in this function in statistical physics and probability theory \n",
      " has recently increased as is shown by the large number of papers published since 1990 of which a brief ( incomplete ) bibliography includes . in this paper \n",
      " we develop a theory for long - time behaviour of a renewal process with a\n",
      "Abstract (first 200 chars): we show the asymptotic long - time equivalence of a generic power law waiting time distribution to the mittag - leffler waiting time distribution , characteristic for a time fractional continuous time\n",
      "--------------------------------------------------------------------------------\n",
      "Row 3:\n",
      "Article (first 500 chars): in this paper , we study the temporal behavior of the distribution of stock prices for 24 stocks in the dow jones industrial average ( djia ) . \n",
      " this is done using a new method of measuring changes in the volatility and drifts of stocks with time . when this method is applied to time - series constructed from the daily close of stocks , changes as fast as one day \n",
      " can be seen in both . \n",
      " given that it is not possible to accurately _ measure _ ( as oppose to _ predict _ ) intraday changes in th\n",
      "Abstract (first 200 chars): while the use of volatilities is pervasive throughout finance , our ability to determine the instantaneous volatility of stocks is nascent . here , we present a method for measuring the temporal behav\n",
      "--------------------------------------------------------------------------------\n",
      "Row 4:\n",
      "Article (first 500 chars): when complex systems join to form even more complex systems , the interaction of the constituent subsystems is highly random @xcite . \n",
      " the complex stochastic interactions among these subsystems are commonly quantified by calculating the cross - correlations . this method has been applied in systems ranging from nanodevices @xcite , atmospheric geophysics @xcite , and seismology @xcite , to finance @xcite . here \n",
      " we propose a method of estimating the most significant component in explaining lon\n",
      "Abstract (first 200 chars): we propose a modified time lag random matrix theory in order to study time lag cross - correlations in multiple time series . \n",
      " we apply the method to 48 world indices , one for each of 48 different c\n",
      "--------------------------------------------------------------------------------\n",
      "Row 5:\n",
      "Article (first 500 chars): with the growth of internet the relationship between online information and financial markets has become a subject of ever increasing interest . \n",
      " online information offers with respect to its origin and purpose and reflects either interest of some profile of users in the form of query or knowledge about certain topic in the form of news blogs or reports . \n",
      " financial markets are strongly information - driven and these effects can be seen by studying either search query volumes or social media s\n",
      "Abstract (first 200 chars): motivated by recent financial crises significant research efforts have been put into studying contagion effects and herding behaviour in financial markets . much less has been said about influence of \n",
      "--------------------------------------------------------------------------------\n",
      "Row 6:\n",
      "Article (first 500 chars): market impact is the expected price change conditioned on initiating a trade of a given size and a given sign . \n",
      " understanding market impact is important for several reasons . \n",
      " one motivation is practical : to know whether a trade will be profitable it is essential to be able to estimate transaction costs , and in order to optimize a trading strategy to minimize such costs , it is necessary to understand the functional form of market impact . \n",
      " another motivation is ecological : impact exerts \n",
      "Abstract (first 200 chars): we develop a theory for the market impact of large trading orders , which we call _ metaorders _ because they are typically split into small pieces and executed incrementally . \n",
      " market impact is empi\n",
      "--------------------------------------------------------------------------------\n",
      "Row 7:\n",
      "Article (first 500 chars): in physics , the study of colloidal brownian motion has a long history beginning with einstein s famous paper  @xcite in 1905 , and the understanding of its mechanism has been systematically developed in molecular kinetic theory  @xcite . \n",
      " recently , experimental developments have enabled researchers to observe a single trajectory itself of brownian motion  @xcite , which engages physicists in quantitative modelling of sub - micrometer systems , such as molecular motors  @xcite . \n",
      " likewise , r\n",
      "Abstract (first 200 chars): brownian motion has been a pillar of statistical physics for more than a century , and recent high - frequency trading data have shed new light on microstructure of brownian motion in financial market\n",
      "--------------------------------------------------------------------------------\n",
      "Row 8:\n",
      "Article (first 500 chars): forward - starting options are path dependent put / call financial contracts characterized by having a strike price expressed in terms of a pre - specified percentage @xmath0 of the asset price taken at a contractually fixed intermediate date @xmath1 $ ] , @xmath2 being the option maturity . \n",
      " the time @xmath3 is known as _ strike - determination time_. the payoff of a forward starting call is therefore @xmath4 these products represent the fundamental component of the so - called cliquets ( see \n",
      "Abstract (first 200 chars): we introduce a natural generalization of the forward - starting options , first discussed by m. rubinstein ( @xcite ) . \n",
      " the main feature of the contract presented here is that the strike - determina\n",
      "--------------------------------------------------------------------------------\n",
      "Row 9:\n",
      "Article (first 500 chars): ` the world to seoul , seoul to the world . ' \n",
      " this was the slogan of the 1988 seoul olympics games , and is also the slogan of the korean stock market . \n",
      " the globalization means that foreign traders have an influence on the korean market and its synchronization with world markets . \n",
      " interdisciplinary study has received much attention , with considerable interest in applying physics to economics and finances @xcite . since \n",
      " a financial market is a complex system , many researchers have devel\n",
      "Abstract (first 200 chars): we study the effect of globalization on the korean market , one of the emerging markets . \n",
      " some characteristics of the korean market are different from those of the mature market according to the lat\n",
      "--------------------------------------------------------------------------------\n",
      "Row 10:\n",
      "Article (first 500 chars): in electroencephalography ( eeg ) electrical currents are recorded at different positions on the scalp to measure the brain activity . \n",
      " the correlations between the time series of these currents strongly depend on the overall state of the brain . during an epileptic seizure , \n",
      " for example , the correlations are much stronger than in normal periods  @xcite . this time dependence of the correlations is the kind of non  stationarity that we wish to address . \n",
      " non  stationarities are also seen wh\n",
      "Abstract (first 200 chars): in complex systems , crucial parameters are often subject to unpredictable changes in time . \n",
      " climate , biological evolution and networks provide numerous examples for such non  stationarities . in m\n",
      "--------------------------------------------------------------------------------\n"
     ]
    }
   ],
   "source": [
    "# Display the top 10 rows with some content from 'article' and 'abstract'\n",
    "for idx, row in enumerate(top_10_rows):\n",
    "    print(f\"Row {idx + 1}:\")\n",
    "    print(f\"Article (first 500 chars): {row['article'][:500]}\")\n",
    "    print(f\"Abstract (first 200 chars): {row['abstract'][:200]}\")\n",
    "    print(\"-\" * 80)\n"
   ]
  },
  {
   "cell_type": "code",
   "execution_count": 17,
   "metadata": {
    "colab": {
     "base_uri": "https://localhost:8080/"
    },
    "executionInfo": {
     "elapsed": 29,
     "status": "ok",
     "timestamp": 1722872599484,
     "user": {
      "displayName": "Bibek Shiwakoti",
      "userId": "12870124355518867121"
     },
     "user_tz": 240
    },
    "id": "uMb7E-s2GhW-",
    "outputId": "61ff4523-8631-43af-a130-797b5af48c0d"
   },
   "outputs": [
    {
     "name": "stdout",
     "output_type": "stream",
     "text": [
      "Article 1:\n",
      "many complex systems in various areas of science exhibit a spatio - temporal dynamics that is inhomogeneous and can be effectively described by a superposition of several statistics on different scales , in short a superstatistics @xcite . \n",
      " the superstatistics notion was introduced in @xcite , in the mean time many applications for a variety of complex systems have been pointed out @xcite . \n",
      " essential for this approach is the existence of sufficient time scale separation between two relevant dynamics within the complex system . \n",
      " there is an intensive parameter @xmath1 that fluctuates on a much larger time scale than the typical relaxation time of the local dynamics . in a thermodynamic \n",
      " setting , @xmath1 can be interpreted as a local inverse temperature of the system , but much broader interpretations are possible . \n",
      " the stationary distributions of superstatistical systems , obtained by averaging over all @xmath1 , typically exhibit non - gaussian behavior with fat tails , which can be a power law , or a stretched exponential , or other functional forms as well @xcite . \n",
      " in general , the superstatistical parameter @xmath1 need not to be an inverse temperature but can be an effective parameter in a stochastic differential equation , a volatility in finance , or just a local variance parameter extracted from some experimental time series . \n",
      " many applications have been recently reported , for example in hydrodynamic turbulence @xcite , for defect turbulence @xcite , for cosmic rays @xcite and other scattering processes in high energy physics @xcite , solar flares @xcite , share price fluctuations @xcite , random matrix theory @xcite , random networks @xcite , multiplicative - noise stochastic processes @xcite , wind velocity fluctuations @xcite , hydro - climatic fluctuations @xcite , the statistics of train departure delays @xcite and models of the metastatic cascade in cancerous systems @xcite . on the theoretical side , there have been recent efforts to formulate maximum entropy principles for superstatistical systems @xcite .    in this paper \n",
      " we provide an overview over some recent developments in the area of superstatistics . \n",
      " three examples of recent applications are discussed in somewhat more detail : the statistics of lagrangian turbulence , the statistics of train departure delays , and the survival statistics of cancer patients . in all cases the superstatistical model predictions are in very good agreement with real data . \n",
      " we also comment on recent theoretical approaches to develop generalized maximum entropy principles for superstatistical systems . \n",
      " in generalized versions of statistical mechanics one starts from more general entropic measures than the boltzmann - gibbs shannon entropy . \n",
      " a well - known example is the @xmath2-entropy @xcite @xmath3 but other forms are possible as well ( see , e.g. , @xcite for a recent review ) . \n",
      " the @xmath4 are the probabilities of the microstates @xmath5 , and @xmath2 is a real number , the entropic index . \n",
      " the ordinary shannon entropy is contained as the special case @xmath6 :    @xmath7    extremizing @xmath8 subject to suitable constraints yields more general canonical ensembles , where the probability to observe a microstate with energy @xmath9 is given by    @xmath10    one obtains a kind of power - law boltzmann factor , of the so - called @xmath2-exponential form . \n",
      " the important question is what could be a physical ( non - equilibrium mechanism ) to obtain such distributions . \n",
      " the reason could indeed be a driven nonequilibrium situation with local fluctuations of the environment . \n",
      " this is the situation where the superstatistics concept enters . \n",
      " our starting point is the following well - known formula    @xmath11    where @xmath12 is the @xmath0 ( or @xmath13 ) probability distribution . \n",
      " we see that averaged _ ordinary _ boltzmann factors with @xmath0 distributed @xmath1 yield a _ \n",
      " generalized _ boltzmann factor of @xmath2-exponential form . \n",
      " the physical interpretation is that tsallis type of statistical mechanics is relevant for _ nonequilibrium _ systems with temperature fluctuations . \n",
      " this approach was made popular by two prls in 2000/2001 @xcite , which used the @xmath0-distribution for @xmath14 . \n",
      " general @xmath14 were then discussed in @xcite .    in @xcite \n",
      " it was suggested to construct a dynamical realization of @xmath2-statistics in terms of e.g. a linear langevin equation    @xmath15    with fluctuating parameters @xmath16 . here \n",
      " @xmath17 denotes gaussian white noise . \n",
      " the parameters @xmath18 are supposed to fluctuate on a much larger time scale than the velocity @xmath19 . \n",
      " one can think of a brownian particle that moves through spatial cells with different local @xmath20 in each cell ( a nonequilibrium situation ) . \n",
      " assume the probability distribution of @xmath1 in the various cells is a @xmath0-distribution of degree @xmath21 : @xmath22 then the conditional probability given some fixed @xmath1 in a given cell is gaussian , @xmath23 , the joint probability is @xmath24 and the marginal probability is @xmath25 . \n",
      " integration yields @xmath26 i.e. we obtain power - law boltzmann factors with @xmath27 , @xmath28 , and @xmath29 . here \n",
      " @xmath30 is the average of @xmath1 . \n",
      " the idea of superstatistics is to generalize this example to much broader systems . \n",
      " for example , @xmath1 need not be an inverse temperature but can in principle be any intensive parameter . \n",
      " most importantly , one can generalize to _ general probability densities @xmath14 _ and _ general hamiltonians_. in all cases one obtains a superposition of two different statistics : that of @xmath1 and that of ordinary statistical mechanics \n",
      " . superstatistics hence describes complex nonequilibrium systems with spatio - temporal fluctuations of an intensive parameter on a large scale . \n",
      " the _ effective _ boltzmann factors @xmath31 for such systems are given by    @xmath32    some recent theoretical developments of the superstatistics concept include the following :    * can prove a superstatistical generalization of fluctuation theorems @xcite * can develop a variational principle for the large - energy asymptotics of general superstatistics @xcite ( depending on @xmath14 , one can get not only power laws for large @xmath33 but e.g. also stretched exponentials ) * can formally define generalized entropies for general superstatistics @xcite * can study microcanonical superstatistics ( related to a mixture of @xmath2-values ) @xcite * can prove a superstatistical version of a central limit theorem leading to @xmath2-statistics @xcite * can relate it to fractional reaction equations @xcite * can consider superstatistical random matrix theory @xcite * can apply superstatistical techniques to networks @xcite * can define superstatistical path integrals @xcite * can do superstatistical time series analysis @xcite    ... and some more practical applications :    * can apply superstatistical methods to analyze the statistics of 3d hydrodynamic turbulence @xcite * can apply it to atmospheric turbulence ( wind velocity fluctuations @xcite ) * can apply superstatistical methods to finance and economics @xcite * can apply it to blinking quantum dots @xcite * can apply it to cosmic ray statistics @xcite * can apply it to various scattering processes in particle physics @xcite * can apply it to hydroclimatic fluctuations @xcite * can apply it to train delay statistics @xcite * can consider medical applications @xcite \n",
      " while in principle any @xmath14 is possible in the superstatistics approach , in practice one usually observes only a few relevant distributions . \n",
      " these are the @xmath0 , inverse @xmath0 and lognormal distribution . in other words , in typical complex systems with time scale separation one usually observes 3 physically relevant universality classes @xcite    * \\(a ) @xmath0-superstatistics ( @xmath34 tsallis statistics ) * \\(b ) inverse @xmath0-superstatistics * \\(c ) lognormal superstatistics    what could be a plausible reason for this ? \n",
      " consider , e.g. , case ( a ) . \n",
      " assume there are many microscopic random variables @xmath35 , @xmath36 , contributing to @xmath1 in an additive way . \n",
      " for large @xmath37 , the sum @xmath38 will approach a gaussian random variable @xmath39 due to the ( ordinary ) central limit theorem . \n",
      " there can be @xmath21 gaussian random variables @xmath40 of the same variance due to various relevant degrees of freedom in the system . \n",
      " @xmath1 should be positive , hence the simplest way to get such a positive @xmath1 is to square the gaussian random variables and sum them up . as a result \n",
      " , @xmath41 is @xmath0-distributed with degree @xmath21 , @xmath42 where @xmath43 is the average of @xmath1 . \n",
      " \\(b ) the same considerations can be applied if the temperature @xmath44 rather than @xmath1 itself is the sum of several squared gaussian random variables arising out of many microscopic degrees of freedom @xmath35 . \n",
      " the resulting @xmath14 is the inverse @xmath0-distribution : @xmath45 it generates superstatistical distributions @xmath46 that decay as @xmath47 for large @xmath33 . \n",
      " \\(c ) @xmath1 may be generated by multiplicative random processes . \n",
      " consider a local cascade random variable @xmath48 , where @xmath37 is the number of cascade steps and the @xmath35 are positive microscopic random variables . by the ( ordinary ) central limit theorem , for large @xmath37 the random variable @xmath49 becomes gaussian for large @xmath37 . \n",
      " hence @xmath39 is log - normally distributed . \n",
      " in general there may be @xmath21 such product contributions to @xmath1 , i.e. , @xmath50 . \n",
      " then @xmath51 is a sum of gaussian random variables , hence it is gaussian as well . \n",
      " thus @xmath1 is log - normally distributed , i.e. , @xmath52 where @xmath53 and @xmath54 are suitable parameters . \n",
      " we will now discuss examples of the three different superstatistical universality classes . \n",
      " our first example is the departure delay statistics on the british rail network . \n",
      " clearly , at the various stations there are sometimes train departure delays of length @xmath55 . the 0th - order model for the waiting time would be a poisson process which predicts that the waiting time distribution until the train finally departs is @xmath56 , where @xmath1 is some parameter . \n",
      " but this does not agree with the actually observed data @xcite . \n",
      " a much better fit is given by a @xmath2-exponential , see fig .  1 .    ) \n",
      " .,width=302 ]    what may cause this power law that fits the data ? \n",
      " the idea is that there are fluctuations in the parameter @xmath1 as well . \n",
      " these fluctuations describe large - scale temporal or spatial variations of the british rail network environment . \n",
      " examples of causes of these @xmath1-fluctuations :    * begin of the holiday season with lots of passengers * problem with the track * bad weather conditions * extreme events such as derailments , industrial action , terror alerts , etc .    as a result , \n",
      " the long - term distribution of train delays is then a mixture of exponential distributions where the parameter @xmath1 fluctuates :    @xmath57    for a @xmath0-distributed @xmath1 with @xmath21 degrees of freedom one obtains    @xmath58    where @xmath59 and @xmath60 . \n",
      " the model discussed in @xcite generates @xmath2-exponential distributions of train delays by a simple mechanism , namely a @xmath0-distributed parameter @xmath1 of the local poisson process . \n",
      " this is an example for @xmath0 superstatistics . \n",
      " our next example is an application in turbulence . consider a single tracer particle advected by a fully developed turbulent flow . \n",
      " for a while it will see regions of strong turbulent activity , then move on to calmer regions , just to continue in yet another region of strong activity , and so on . \n",
      " this is a superstatistical dynamics , and in fact superstatistical models of turbulence have been very successful in recent years @xcite . \n",
      " the typical shape of a trajectory of such a tracer particle is plotted in fig .  2 . \n",
      " this is lagrangian turbulence in contrast to eulerian turbulence , meaning that one is following a single particle in the flow . in particular , one is interested in velocity differences @xmath61 of the particle on a small time scale @xmath62 . for @xmath63 \n",
      " this velocity difference becomes the local acceleration @xmath64 . \n",
      " a superstatistical lagrangian model for 3-dim velocity differences of the tracer particle has been developed in @xcite . \n",
      " one simply looks at a superstatistical langevin equation of the form    @xmath65    here @xmath66 and @xmath67 are constants . note that the term proportional to @xmath67 introduces some rotational movement of the particle , mimicking the vortices in the flow . \n",
      " the noise strength @xmath68 and the unit vector @xmath69 evolve stochastically on a large time scale @xmath70 and @xmath71 , respectively , thus obtaining a superstatistical dynamics . \n",
      " @xmath70 is of the same order of magnitude as the integral time scale @xmath72 , whereas @xmath73 is of the same order of magnitude as the kolmogorov time scale @xmath74 . \n",
      " one can show that the reynolds number @xmath75 is basically given by the time scale ratio @xmath76 . \n",
      " the time scale @xmath77 describes the average life time of a region of given vorticity surrounding the test particle .    in this superstatistical turbulence model \n",
      " one defines the parameter @xmath1 to be @xmath78 , but it does _ not _ have the meaning of a physical inverse temperature in the flow . \n",
      " rather , one has @xmath79 , where @xmath80 is the kinematic viscosity and @xmath81 is the average energy dissipation , which is known to fluctuate in turbulent flows . \n",
      " in fact , kolmogorov s theory of 1961 suggests a lognormal distribution for @xmath82 , which automatically leads us to lognormal superstatistics : it is reasonable to assume that the probability density of the stochastic process @xmath83 is approximately a lognormal distribution @xmath84 for very small @xmath62 the 1d acceleration component of the particle is given by @xmath85 and one gets out of the model the 1-point distribution @xmath86 this prediction agrees very well with experimentally measured data of the acceleration statistics , which exhibits very pronounced ( non - gaussian ) tails , see fig .  3 for an example .    ) \n",
      " ( see @xcite for more details).,width=302 ]    it is interesting to see that our 3-dimensional superstatistical model predicts the existence of correlations between the acceleration components . \n",
      " for example , the acceleration @xmath87 in @xmath88 direction is not statistically independent of the acceleration @xmath89 in @xmath90-direction . \n",
      " we may study the ratio @xmath91 of the joint probability @xmath92 to the 1-point probabilities @xmath93 and @xmath94 . \n",
      " for independent acceleration components this ratio would always be given by @xmath95 . \n",
      " however , our 3-dimensional superstatistical model yields prediction @xmath96 this is a very general formula , valid for any superstatistics , for example also tsallis statistics , obtained when @xmath14 is the @xmath0-distribution . \n",
      " the trivial result @xmath95 is obtained only for @xmath97 , i.e.  no fluctuations in the parameter @xmath1 at all . \n",
      " 4 shows @xmath91 as predicted by lognormal superstatistics :    ) , @xmath14 being the lognormal distribution.,width=302 ]    the shape of this is very similar to experimental measurements @xcite . \n",
      " our final example of application of superstatistics is for a completely different area : medicine . \n",
      " we will look at cell migration processes describing the metastatic cascade of cancerous cells in the body @xcite . \n",
      " there are various pathways in which cancerous cells can migrate : via the blood system , the lymphatic system , and so on . \n",
      " the diffusion constants for these various pathways are different . in this way \n",
      " superstatistics enters , describing different diffusion speeds for different pathways ( see fig . \n",
      " 5 ) . \n",
      " but there is another important issue here : when looking at a large ensemble of patients then the spread of cancerous cells can be very different from patient to patient . for some patients the cancer spreads in a very aggressive way , whereas for others it is much slower and less aggressive . \n",
      " so superstatistics also arises from the fact that all patients are different .    a superstatistical model of metastasis and cancer survival has been developed in @xcite . \n",
      " details are described in that paper . \n",
      " here we just mention the final result that comes out of the model : one obtains the following prediction for the probability density function of survival time @xmath55 of a patient that is diagnosed with cancer at @xmath98 : @xmath99 or @xmath100 , \\label{eq7}\\end{aligned}\\ ] ] where @xmath101 is the modified bessel function . \n",
      " note that this is inverse @xmath0 superstatistics . \n",
      " the role of the parameter @xmath1 is now played by the parameter @xmath102 , which in a sense describes how aggressively the cancer propagates .    the above formula based on inverse @xmath0 superstatistics is in good agreement with real data of the survival statistics of breast cancer patients in the us . \n",
      " the superstatistical formula fits the observed distribution very well , both in a linear and logarithmic plot ( see fig.6 ) . \n",
      " one remark is at order . \n",
      " when looking at the relevant time scales one should keep in mind that the data shown are survival distributions _ conditioned on the fact that death occurs due to cancer_. many patients , in particular if they are diagnosed at an early stage , will live a long happy life and die from something else than cancer . \n",
      " these cases are _ not _ included in the data .    , \n",
      " both in a linear and double logarithmic plot . only patients that die from cancer are included in the statistics . \n",
      " the solid line is the superstatistical model prediction @xcite . \n",
      " , title=\"fig:\",width=302 ] , both in a linear and double logarithmic plot . \n",
      " only patients that die from cancer are included in the statistics . \n",
      " the solid line is the superstatistical model prediction @xcite . \n",
      " , title=\"fig:\",width=302 ] \n",
      " we finish this article by briefly mentioning some other recent interesting theoretical developments . \n",
      " one major theoretical concern is that a priori the superstatistical distribution @xmath14 can be anything . \n",
      " but perhaps one should single out the really relevant distributions @xmath14 by a least biased guess , given some constraints on the complex system under consideration . \n",
      " this program has been developed in some recent papers @xcite . \n",
      " there are some ambiguities which constraints should be implemented , and how . a very general formalism is presented in @xcite , which contains previous work @xcite as special cases . \n",
      " the three important universality classes discussed above , namely @xmath0 superstatistics , inverse @xmath0 superstatistics and lognormal superstatistics are contained as special cases in the formalism of @xcite . in principle , once a suitable generalized maximum entropy principle has been formulated for superstatistical systems , one can proceed to a generalized thermodynamic description , get a generalized equation of state , and so on . \n",
      " there is still a lot of scope of future research to develop the most suitable formalism . \n",
      " but the general tendency seems to be to apply maximum entropy principles and least biased guesses to nonequilibrium situations as well . \n",
      " in fact , jaynes @xcite always thought this is possible . \n",
      " another interesting development is what one could call a superstatistical path integral . \n",
      " these are just ordinary path integrals but with an additional integration over a parameter @xmath1 that make the wiener process become something more complicated , due to large - scale fluctuations of its diffusion constant . \n",
      " jizba et al . \n",
      " investigate under which conditions one obtains a markov process again @xcite . \n",
      " it seems some distributions @xmath14 are distinguished as making the superstatistical process simpler than others , preserving markovian - like properties . \n",
      " these types of superstatistical path integral processes have applications in finance , and possibly also in quantum field theory and elementary particle physics .    in high energy physics , \n",
      " many of the power laws observed for differential cross sections and energy spectra in high energy scattering processes can also be explained using superstatistical models @xcite . \n",
      " the key point here is to extend the hagedorn theory @xcite to a superstatistical one which properly takes into account temperature fluctuations @xcite . \n",
      " superstatistical techniques have also been recently used to describe the space - time foam in string theory @xcite . \n",
      " superstatistics ( a statistics of a statistics ) provides a physical reason why more general types of boltzmann factors ( e.g.  @xmath2-exponentials or other functional forms ) are relevant for _ nonequilibrium _ systems with suitable fluctuations of an intensive parameter . \n",
      " let us summarize :    * there is evidence for three major physically relevant universality classes : @xmath0-superstatistics @xmath34 tsallis statistics , inverse @xmath0-superstatistics , and lognormal superstatistics . \n",
      " these arise as universal limit statistics for many different systems . * \n",
      " superstatistical techniques can be successfully applied to a variety of complex systems with time scale separation . * \n",
      " the train delays on the british railway network are an example of @xmath0 superstatistics = tsallis statistics @xcite . * a superstatistical model of _ lagrangian turbulence _ \n",
      " @xcite is in excellent agreement with the experimental data for probability densities , correlations between components , decay of correlations , lagrangian scaling exponents , etc . \n",
      " this is an example of lognormal superstatistics @xcite . \n",
      " * cancer survival statistics is described by inverse @xmath0 superstatistics @xcite . * \n",
      " the long - term aim is to find a good thermodynamic description for general superstatistical systems . \n",
      " a generalized maximum entropy principle may help to achieve this goal . \n",
      " 99 c. beck and e.g.d . \n",
      " cohen , physica a * 322 * , 267 ( 2003 ) c. beck , e.g.d . \n",
      " cohen , and h.l . \n",
      " swinney , phys . \n",
      " e * 72 * , 056133 ( 2005 ) c. beck and e.g.d . \n",
      " cohen , physica a * 344 * , 393 ( 2004 ) h. touchette and c. beck , phys . \n",
      " e * 71 * , 016131 ( 2005 ) c. tsallis and a.m.c . \n",
      " souza , phys . \n",
      " e * 67 * , 026106 ( 2003 ) p. jizba , h. kleinert , phys . \n",
      " e * 78 * , 031122 ( 2008 ) c. vignat , a. plastino and a.r . \n",
      " plastino , cond - mat/0505580 c. vignat , a. plastino , arxiv 0706.0151 p .- h . \n",
      " chavanis , physica a * 359 * , 177 ( 2006 ) g. wilk and z. wlodarczyk , phys . \n",
      " lett . * 84 * , 2770 ( 2000 ) c. beck , phys . \n",
      " * 87 * , 180601 ( 2001 ) k.  e. daniels , c. beck , and e. bodenschatz , physica d * 193 * , 208 ( 2004 ) c. beck , physica a * 331 * , 173 ( 2004 )    m. baiesi , m. paczuski and a.l . \n",
      " stella , phys . \n",
      " lett . * 96 * , 051103 ( 2006 ) y. ohtaki and h.h . \n",
      " hasegawa , cond - mat/0312568 a.y . \n",
      " abul - magd , physica a * 361 * , 41 ( 2006 ) s. rizzo and a. rapisarda , aip conf . proc . * 742 * , 176 ( 2004 ) ( cond - mat/0406684 ) t. laubrich , f. ghasemi , j. peinke , h. kantz , arxiv:0811.3337 a. porporato , g. vico , and p.a . \n",
      " fay , geophys . res \n",
      " . lett . * 33 * , l15402 ( 2006 ) a. reynolds , phys . \n",
      " * 91 * , 084503 ( 2003 ) h. aoyama et al . \n",
      " , arxiv:0805.2792 e. van der straeten , c. beck , arxiv:0901.2271 a.y . \n",
      " abul - magd , g. akemann , p. vivo , arxiv 0811.1992 c. beck , europhys . lett . * 64 * , 151 ( 2003 ) c. beck , phys . \n",
      " * 98 * , 064502 ( 2007 ) g. wilk , z. wlodarczyk , arxiv:0810.2939 c. beck , arxiv:0902.2459 m. ausloos and k. ivanova , phys . \n",
      " e * 68 * , 046122 ( 2003 ) j .- p . \n",
      " bouchard and m. potters , _ theory of financial risk and derivative pricing _ , cambridge university press , cambridge ( 2003 )    a.y . \n",
      " abul - magd , b. dietz , t. friedrich , a. richer , phys . \n",
      " e * 77 * , 046202 ( 2008 ) s. abe and s. thurner , phys . \n",
      " e * 72 * , 036102 ( 2005 ) slvio m. duarte queirs , braz . \n",
      " * 38 * , 203 ( 2008 ) k. briggs , c. beck , physica a * 378 * , 498 ( 2007 ) l. leon chen , c. beck , physica a * 387 * , 3162 ( 2008 ) s. abe , c. beck and g. d. cohen , phys . \n",
      " e * 76 * , 031102 ( 2007 ) g. e. crooks , phys . \n",
      " e * 75 * , 041119 ( 2007 ) j. naudts , aip conference proceedings * 965 * , 84 ( 2007 )    e. van der straeten , c. beck , phys . \n",
      " e * 78 * , 051101 ( 2008 ) c. tsallis , j. stat . \n",
      " phys . * 52 * , 479 ( 1988 ) c. tsallis , r.s . \n",
      " mendes , a.r . \n",
      " plastino , physica a * 261 * , 534 ( 1998 ) c. beck , arxiv:0902:1235 , to appear in contemporary physics ( 2009 ) a.m. mathai and h.j . \n",
      " haubold , physica a * 375 * , 110 ( 2007 )        r. d. rosenkrantz , _ e.t . \n",
      " jaynes : papers on probability , statistics and statistical physics , _ kluwer ( 1989 ) r. hagedorn , suppl . \n",
      " nuovo cim . \n",
      " * 3 * , 147 ( 1965 ) c. beck , physica a * 286 * , 164 ( 2000 ) n.e . \n",
      " mavromatos and s. sarkar , arxiv:0812.3952\n",
      "\n",
      "Abstract 1:\n",
      "we provide an overview on superstatistical techniques applied to complex systems with time scale separation . \n",
      " three examples of recent applications are dealt with in somewhat more detail : the statistics of small - scale velocity differences in lagrangian turbulence experiments , train delay statistics on the british rail network , and survival statistics of cancer patients once diagnosed with cancer . \n",
      " these examples correspond to three different universality classes : lognormal superstatistics , @xmath0-superstatistics and inverse @xmath0 superstatistics .\n"
     ]
    }
   ],
   "source": [
    "# Print one whole article and its corresponding abstract\n",
    "article = top_10_rows[0]['article']\n",
    "abstract = top_10_rows[0]['abstract']\n",
    "\n",
    "print(\"Article 1:\")\n",
    "print(article)\n",
    "print(\"\\nAbstract 1:\")\n",
    "print(abstract)"
   ]
  },
  {
   "cell_type": "markdown",
   "metadata": {
    "id": "yZ2952a8AkCu"
   },
   "source": [
    "# Fine tuning the best performing  model that is Facebook Bart:"
   ]
  },
  {
   "cell_type": "code",
   "execution_count": 18,
   "metadata": {
    "executionInfo": {
     "elapsed": 19,
     "status": "ok",
     "timestamp": 1722872599484,
     "user": {
      "displayName": "Bibek Shiwakoti",
      "userId": "12870124355518867121"
     },
     "user_tz": 240
    },
    "id": "wPs_-TrBG0nf"
   },
   "outputs": [],
   "source": [
    "# model to fine tune: facebook/bart-large-cnn"
   ]
  },
  {
   "cell_type": "code",
   "execution_count": 19,
   "metadata": {
    "colab": {
     "base_uri": "https://localhost:8080/"
    },
    "executionInfo": {
     "elapsed": 19,
     "status": "ok",
     "timestamp": 1722872599484,
     "user": {
      "displayName": "Bibek Shiwakoti",
      "userId": "12870124355518867121"
     },
     "user_tz": 240
    },
    "id": "bQgctFQtrQYH",
    "outputId": "d896b877-f514-44ea-b846-feea08bfa2a9"
   },
   "outputs": [
    {
     "name": "stdout",
     "output_type": "stream",
     "text": [
      "Length of the first article is: 25082\n",
      "Length of the corresponding abstract of first article is: 567\n"
     ]
    }
   ],
   "source": [
    "print('Length of the first article is:',len(article))\n",
    "print('Length of the corresponding abstract of first article is:',len(abstract))"
   ]
  },
  {
   "cell_type": "markdown",
   "metadata": {
    "id": "B6gmpI41vild"
   },
   "source": [
    "# 1. Preparing the Dataset Subset"
   ]
  },
  {
   "cell_type": "code",
   "execution_count": 20,
   "metadata": {
    "colab": {
     "base_uri": "https://localhost:8080/",
     "height": 296,
     "referenced_widgets": [
      "60230f4c0d914876a7cbaea360857040",
      "70db0c180e61489e87c404da84efd260",
      "44efa9d52abf4d518109157b2b94bcc1",
      "07d41b8cd5c849ee8b4a1c29fcdd22b5",
      "21a68d6494d84806a0183cb6c5be60a3",
      "90248c87bfb74c5e9163c5aa1f60e33d",
      "b86a040fc3a5415cbf1c410d7d1dbb3a",
      "cf75c1ede8f540aebfb1fc8d00078810",
      "275862e04a7c408585f802bd3edc244a",
      "334675de305f46d6907a4005284af529",
      "9fe8e0aa46244faab6d1f97b255f39d9",
      "d3cc48ec671244c7a466c1a20f2db0c8",
      "110b88bb682541ef9204ceefbd217143",
      "d91ce204fc3947058711dace2f3cc07d",
      "d8d2fc40e9964813ac8d8db2fc195683",
      "5f8cd5c0c699421fa809a6bc37325d07",
      "05b16caed24045b9a4e294e3d63d8ebd",
      "f37888404ee048a3b4015e7eeedfed8e",
      "575a4b6b0eaa4cd2a6a60c91d8486141",
      "3023664697ad4a4ca3457b159fe24161",
      "948330148a974bfd8661e94178f6fe78",
      "503cc9d8715648b88b2e87f3d0cbc41e",
      "7990997a40ce49d08cd19c0562ba47a4",
      "eae7beb82e6e439193f374c6070f1ade",
      "873913e060d9433287c592afdc9b5254",
      "0ff71a97d98e4b49a1a88b0cee12fc7d",
      "73f75e571a77406192b89eac35c25b5e",
      "11a7e5a355dd419186037c9abaf9e768",
      "2d4b9f55b97c47e3a9fe130ca9f06bd1",
      "afb1caf60b8241eeb19c6d12e9b90db8",
      "b3978b460d594d46a91a54ab1fb69936",
      "e8ff9a95c7be4ec6bcab15ea0e91e589",
      "f80283bff2a74bc29dd0c31db2078f12",
      "13eb930bf7dc49529dcff9faa6a9cc35",
      "5cc368571072479f986b3dc9d0d761f0",
      "6ca1233051924b8f96ffe57d404b59b1",
      "2f162d822f0e4535824e93750e47207d",
      "67c4bea40df6448d9e418c8846012563",
      "3840cab61b8e49b3b37ac65f4d046f16",
      "935db900a4dc428bb10cd0601e5f38ed",
      "a8e7fd7932f641e9b36619e0afd49158",
      "5ae5b8f6edad498aa87d81262159799c",
      "011ada306aa54a28a26e9d68c0ade9ee",
      "95d0f04251e64639b6506df803ba3383",
      "e3ec5d870dcd432291a133633dc938ef",
      "bdeb1bb9690541ff8ca9bb70f4d47880",
      "808e8cd6ac7c42c2ae50907c9b984439",
      "fc65c8b535bd441e995dd6a2e154373b",
      "16fe66cb04e54dc597ae3648fd70e39a",
      "7760490ecf67423da8127ff2fd53835e",
      "d0cfa3c7f9b54a14817a1411bd1ae44b",
      "3bedf4d1fa0e4107b9d43a01e8418f00",
      "b1d524abb7fa4beca3b579f81669cd79",
      "29c26a7c44004731a729abede98644c0",
      "dfb2c1d952494836aaaf1aff182cdc5c",
      "1c2d3215a1054ec381c9e5ab39b705df",
      "342aba89843544a1bc3202219d627f95",
      "97f4e847c79841078ea773b7d71f6226",
      "dd1b7e101bb841a199dd4842110a5fb6",
      "20058ab3d7054ab6ad56431cbc39a5f4",
      "9f5e457357e340738ebce8efd2c0f4e7",
      "b66e9a427f424351b96cb57024f86457",
      "15d0b1a4f76a4435a6f26952f68769f9",
      "5a58bcb253d6415a825d279e9a12426f",
      "dc84ae87daad42a4b3e40d675a145b6a",
      "ba8343cc0be3476b99f49eceb35a6f6e",
      "b1cc7aa15e634109989471a178b63dd5",
      "ad72007c3ca64c40aba70b43076806de",
      "21a9f679cf6c4dbeb1e5d9e6dfb0beef",
      "bdd5696bb64a43f9b1d91eb0f8c22590",
      "f2315b91f59f4b9f83c4f077db2a9775",
      "994eddcfb7ca40b8a386cddb90ff3de1",
      "d5d6889da89b4ad9bdc3feaf097e011e",
      "1ccf21b1072342e5a0dda01e835947a8",
      "da035ba8d99c4c20bb2aa5872a98ad5d",
      "be259d7dc02c40cda50473b9392c8791",
      "55aa6c1cdf8e4d668786e1fd266c3822"
     ]
    },
    "executionInfo": {
     "elapsed": 14415,
     "status": "ok",
     "timestamp": 1722872613895,
     "user": {
      "displayName": "Bibek Shiwakoti",
      "userId": "12870124355518867121"
     },
     "user_tz": 240
    },
    "id": "pUG77emhxy5K",
    "outputId": "d1c978dc-41d8-405e-b23d-301bbdafcef0"
   },
   "outputs": [
    {
     "data": {
      "application/vnd.jupyter.widget-view+json": {
       "model_id": "60230f4c0d914876a7cbaea360857040",
       "version_major": 2,
       "version_minor": 0
      },
      "text/plain": [
       "tokenizer_config.json:   0%|          | 0.00/26.0 [00:00<?, ?B/s]"
      ]
     },
     "metadata": {},
     "output_type": "display_data"
    },
    {
     "data": {
      "application/vnd.jupyter.widget-view+json": {
       "model_id": "d3cc48ec671244c7a466c1a20f2db0c8",
       "version_major": 2,
       "version_minor": 0
      },
      "text/plain": [
       "vocab.json:   0%|          | 0.00/899k [00:00<?, ?B/s]"
      ]
     },
     "metadata": {},
     "output_type": "display_data"
    },
    {
     "data": {
      "application/vnd.jupyter.widget-view+json": {
       "model_id": "7990997a40ce49d08cd19c0562ba47a4",
       "version_major": 2,
       "version_minor": 0
      },
      "text/plain": [
       "merges.txt:   0%|          | 0.00/456k [00:00<?, ?B/s]"
      ]
     },
     "metadata": {},
     "output_type": "display_data"
    },
    {
     "data": {
      "application/vnd.jupyter.widget-view+json": {
       "model_id": "13eb930bf7dc49529dcff9faa6a9cc35",
       "version_major": 2,
       "version_minor": 0
      },
      "text/plain": [
       "tokenizer.json:   0%|          | 0.00/1.36M [00:00<?, ?B/s]"
      ]
     },
     "metadata": {},
     "output_type": "display_data"
    },
    {
     "data": {
      "application/vnd.jupyter.widget-view+json": {
       "model_id": "e3ec5d870dcd432291a133633dc938ef",
       "version_major": 2,
       "version_minor": 0
      },
      "text/plain": [
       "config.json:   0%|          | 0.00/1.63k [00:00<?, ?B/s]"
      ]
     },
     "metadata": {},
     "output_type": "display_data"
    },
    {
     "data": {
      "application/vnd.jupyter.widget-view+json": {
       "model_id": "1c2d3215a1054ec381c9e5ab39b705df",
       "version_major": 2,
       "version_minor": 0
      },
      "text/plain": [
       "Map:   0%|          | 0/100 [00:00<?, ? examples/s]"
      ]
     },
     "metadata": {},
     "output_type": "display_data"
    },
    {
     "name": "stderr",
     "output_type": "stream",
     "text": [
      "/usr/local/lib/python3.10/dist-packages/transformers/tokenization_utils_base.py:4016: UserWarning: `as_target_tokenizer` is deprecated and will be removed in v5 of Transformers. You can tokenize your labels by using the argument `text_target` of the regular `__call__` method (either in the same call as your input texts if you use the same keyword arguments, or in a separate call.\n",
      "  warnings.warn(\n"
     ]
    },
    {
     "data": {
      "application/vnd.jupyter.widget-view+json": {
       "model_id": "b1cc7aa15e634109989471a178b63dd5",
       "version_major": 2,
       "version_minor": 0
      },
      "text/plain": [
       "Map:   0%|          | 0/10 [00:00<?, ? examples/s]"
      ]
     },
     "metadata": {},
     "output_type": "display_data"
    }
   ],
   "source": [
    "from datasets import load_dataset\n",
    "from transformers import BartTokenizer\n",
    "import torch\n",
    "from torch.utils.data import DataLoader\n",
    "\n",
    "# Load the dataset : already loaded\n",
    "# dataset = load_dataset(\"ccdv/arxiv-summarization\")\n",
    "\n",
    "# Taking a subset of the dataset (1000 rows)\n",
    "train_subset = dataset['train'].select(range(100))\n",
    "val_subset = dataset['validation'].select(range(10))\n",
    "\n",
    "# Initialize tokenizer\n",
    "tokenizer = BartTokenizer.from_pretrained('facebook/bart-large')\n",
    "\n",
    "# Tokenize the data\n",
    "def tokenize_function(examples):\n",
    "    inputs = examples['article']\n",
    "    targets = examples['abstract']\n",
    "    model_inputs = tokenizer(inputs, max_length=1024, truncation=True, padding='max_length')\n",
    "\n",
    "    # Setup the tokenizer for targets\n",
    "    with tokenizer.as_target_tokenizer():\n",
    "        labels = tokenizer(targets, max_length=128, truncation=True, padding='max_length')\n",
    "\n",
    "    model_inputs[\"labels\"] = labels[\"input_ids\"]\n",
    "    return model_inputs\n",
    "\n",
    "train_tokenized = train_subset.map(tokenize_function, batched=True)\n",
    "val_tokenized = val_subset.map(tokenize_function, batched=True)\n",
    "\n",
    "# Convert to PyTorch format\n",
    "train_tokenized.set_format(type='torch', columns=['input_ids', 'attention_mask', 'labels'])\n",
    "val_tokenized.set_format(type='torch', columns=['input_ids', 'attention_mask', 'labels'])\n",
    "\n",
    "# Create dataloaders\n",
    "train_dataloader = DataLoader(train_tokenized, shuffle=True, batch_size=4)\n",
    "val_dataloader = DataLoader(val_tokenized, batch_size=4)\n"
   ]
  },
  {
   "cell_type": "markdown",
   "metadata": {
    "id": "P7nlakcFyqeb"
   },
   "source": [
    "#2. Fine Tuning the Model"
   ]
  },
  {
   "cell_type": "code",
   "execution_count": 21,
   "metadata": {
    "colab": {
     "base_uri": "https://localhost:8080/",
     "height": 379,
     "referenced_widgets": [
      "939e62e4267a4d4bad636b7996e430c4",
      "537734e31e864999b45d04d937067833",
      "4f90298dff0d4ae1b530e8e75266fbe0",
      "677fa8bf1f01474ca2767021cc5ad806",
      "e21c332f332c48a2a01f686f3bddb03b",
      "024fc633f9e44e169f083c2520786a0b",
      "75c5f97f4c404ee895bbf9fdf4224cf5",
      "d6b298a61ac947959f2c4ec24e02e85f",
      "a18474f77f1b4e309f4a3b344b02babe",
      "d7ece47b5da84d649ef9cd7899606f95",
      "d7d819c8a9d344dc80f54bb358844724",
      "d910887617384fbe99641667ec537734",
      "587c9cba28f64c78870177b008401dee",
      "2db9fb1c8f9f4dd98bca3fed3bf47f8b",
      "13b6a858c0c84fe19a30c9945bf7fb77",
      "7a575af95437450493fadd0f3f7e34c8",
      "4f72f0e571c74f23978595b39b4038e6",
      "5635e23f85ef400a8932bb01b7963020",
      "b968b0ee0e524728a579bfeb263a87b9",
      "a8301d7511bb4649942de5b977a03caf",
      "7ab674685efb4ae5b76a3ce2de7a9903",
      "723339e6289340b9bde07a621fc54241",
      "41bbae99053d4929b0ed0836cff5369f",
      "7502ccb42dab4af89ae86d9de9d9eb4b",
      "e4d2a368db214d1c811ad90f2ea0e68b",
      "f1c3a0fac7bf4846a119c1af4ec1da1e",
      "5857e90debf04098a69e84887c237cf3",
      "8870aa71b3704dda837165b2135680fe",
      "6606a3baff7c42a8a51521808cf068dd",
      "f5215fa2c32b4ccb9de327bf14f93767",
      "ba8f95b7f07c4809bb506ded320d3a2f",
      "620b8bad8f934061b8d7b51e988b9b00",
      "e1e4343279884a88902f4dc40a3ce951"
     ]
    },
    "executionInfo": {
     "elapsed": 3677057,
     "status": "ok",
     "timestamp": 1722876290915,
     "user": {
      "displayName": "Bibek Shiwakoti",
      "userId": "12870124355518867121"
     },
     "user_tz": 240
    },
    "id": "F1TUgB-byCuG",
    "outputId": "f1c27c0d-20fb-4b5a-f91a-e7d65941cc4a"
   },
   "outputs": [
    {
     "data": {
      "application/vnd.jupyter.widget-view+json": {
       "model_id": "939e62e4267a4d4bad636b7996e430c4",
       "version_major": 2,
       "version_minor": 0
      },
      "text/plain": [
       "config.json:   0%|          | 0.00/1.58k [00:00<?, ?B/s]"
      ]
     },
     "metadata": {},
     "output_type": "display_data"
    },
    {
     "data": {
      "application/vnd.jupyter.widget-view+json": {
       "model_id": "d910887617384fbe99641667ec537734",
       "version_major": 2,
       "version_minor": 0
      },
      "text/plain": [
       "model.safetensors:   0%|          | 0.00/1.63G [00:00<?, ?B/s]"
      ]
     },
     "metadata": {},
     "output_type": "display_data"
    },
    {
     "data": {
      "application/vnd.jupyter.widget-view+json": {
       "model_id": "41bbae99053d4929b0ed0836cff5369f",
       "version_major": 2,
       "version_minor": 0
      },
      "text/plain": [
       "generation_config.json:   0%|          | 0.00/363 [00:00<?, ?B/s]"
      ]
     },
     "metadata": {},
     "output_type": "display_data"
    },
    {
     "name": "stderr",
     "output_type": "stream",
     "text": [
      "/usr/local/lib/python3.10/dist-packages/transformers/training_args.py:1494: FutureWarning: `evaluation_strategy` is deprecated and will be removed in version 4.46 of 🤗 Transformers. Use `eval_strategy` instead\n",
      "  warnings.warn(\n"
     ]
    },
    {
     "data": {
      "text/html": [
       "\n",
       "    <div>\n",
       "      \n",
       "      <progress value='50' max='50' style='width:300px; height:20px; vertical-align: middle;'></progress>\n",
       "      [50/50 59:55, Epoch 1/1]\n",
       "    </div>\n",
       "    <table border=\"1\" class=\"dataframe\">\n",
       "  <thead>\n",
       " <tr style=\"text-align: left;\">\n",
       "      <th>Epoch</th>\n",
       "      <th>Training Loss</th>\n",
       "      <th>Validation Loss</th>\n",
       "    </tr>\n",
       "  </thead>\n",
       "  <tbody>\n",
       "    <tr>\n",
       "      <td>1</td>\n",
       "      <td>3.677100</td>\n",
       "      <td>3.420602</td>\n",
       "    </tr>\n",
       "  </tbody>\n",
       "</table><p>"
      ],
      "text/plain": [
       "<IPython.core.display.HTML object>"
      ]
     },
     "metadata": {},
     "output_type": "display_data"
    },
    {
     "name": "stderr",
     "output_type": "stream",
     "text": [
      "Some non-default generation parameters are set in the model config. These should go into a GenerationConfig file (https://huggingface.co/docs/transformers/generation_strategies#save-a-custom-decoding-strategy-with-your-model) instead. This warning will be raised to an exception in v4.41.\n",
      "Non-default generation parameters: {'max_length': 142, 'min_length': 56, 'early_stopping': True, 'num_beams': 4, 'length_penalty': 2.0, 'no_repeat_ngram_size': 3, 'forced_bos_token_id': 0, 'forced_eos_token_id': 2}\n",
      "Some non-default generation parameters are set in the model config. These should go into a GenerationConfig file (https://huggingface.co/docs/transformers/generation_strategies#save-a-custom-decoding-strategy-with-your-model) instead. This warning will be raised to an exception in v4.41.\n",
      "Non-default generation parameters: {'max_length': 142, 'min_length': 56, 'early_stopping': True, 'num_beams': 4, 'length_penalty': 2.0, 'no_repeat_ngram_size': 3, 'forced_bos_token_id': 0, 'forced_eos_token_id': 2}\n",
      "There were missing keys in the checkpoint model loaded: ['model.encoder.embed_tokens.weight', 'model.decoder.embed_tokens.weight', 'lm_head.weight'].\n"
     ]
    },
    {
     "data": {
      "text/plain": [
       "TrainOutput(global_step=50, training_loss=3.7655558013916015, metrics={'train_runtime': 3662.8537, 'train_samples_per_second': 0.027, 'train_steps_per_second': 0.014, 'total_flos': 216710460211200.0, 'train_loss': 3.7655558013916015, 'epoch': 1.0})"
      ]
     },
     "execution_count": 21,
     "metadata": {},
     "output_type": "execute_result"
    }
   ],
   "source": [
    "from transformers import BartForConditionalGeneration, Trainer, TrainingArguments\n",
    "\n",
    "# Load pre-trained BART model\n",
    "model = BartForConditionalGeneration.from_pretrained('facebook/bart-large-cnn')\n",
    "# Defining training arguments\n",
    "training_args = TrainingArguments(\n",
    "    output_dir='./results',          # output directory\n",
    "    num_train_epochs=1,              # number of training epochs\n",
    "    per_device_train_batch_size=2,   # batch size for training\n",
    "    per_device_eval_batch_size=2,    # batch size for evaluation\n",
    "    warmup_steps=500,                # number of warmup steps for learning rate scheduler\n",
    "    weight_decay=0.01,               # strength of weight decay\n",
    "    logging_dir='./logs',            # directory for storing logs\n",
    "    logging_steps=10,\n",
    "    evaluation_strategy=\"epoch\",\n",
    "    save_strategy=\"epoch\",\n",
    "    save_total_limit=2,\n",
    "    load_best_model_at_end=True,\n",
    ")\n",
    "# Initializing Trainer\n",
    "trainer = Trainer(\n",
    "    model=model,\n",
    "    args=training_args,\n",
    "    train_dataset=train_tokenized,\n",
    "    eval_dataset=val_tokenized\n",
    ")\n",
    "# Training the model\n",
    "trainer.train()\n"
   ]
  },
  {
   "cell_type": "code",
   "execution_count": 22,
   "metadata": {
    "colab": {
     "base_uri": "https://localhost:8080/"
    },
    "executionInfo": {
     "elapsed": 109578,
     "status": "ok",
     "timestamp": 1722876400444,
     "user": {
      "displayName": "Bibek Shiwakoti",
      "userId": "12870124355518867121"
     },
     "user_tz": 240
    },
    "id": "mmXC-ku8U3wx",
    "outputId": "db6a59f5-f859-4d91-f919-a4eb71404a82"
   },
   "outputs": [
    {
     "name": "stderr",
     "output_type": "stream",
     "text": [
      "Some non-default generation parameters are set in the model config. These should go into a GenerationConfig file (https://huggingface.co/docs/transformers/generation_strategies#save-a-custom-decoding-strategy-with-your-model) instead. This warning will be raised to an exception in v4.41.\n",
      "Non-default generation parameters: {'max_length': 142, 'min_length': 56, 'early_stopping': True, 'num_beams': 4, 'length_penalty': 2.0, 'no_repeat_ngram_size': 3, 'forced_bos_token_id': 0, 'forced_eos_token_id': 2}\n"
     ]
    },
    {
     "data": {
      "text/plain": [
       "('./bart_finance_finetuned/tokenizer_config.json',\n",
       " './bart_finance_finetuned/special_tokens_map.json',\n",
       " './bart_finance_finetuned/vocab.json',\n",
       " './bart_finance_finetuned/merges.txt',\n",
       " './bart_finance_finetuned/added_tokens.json')"
      ]
     },
     "execution_count": 22,
     "metadata": {},
     "output_type": "execute_result"
    }
   ],
   "source": [
    "# Save the model\n",
    "\n",
    "# Save the trained model and tokenizer\n",
    "model.save_pretrained('./bart_finance_finetuned')\n",
    "tokenizer.save_pretrained('./bart_finance_finetuned')\n"
   ]
  },
  {
   "cell_type": "code",
   "execution_count": 23,
   "metadata": {
    "colab": {
     "base_uri": "https://localhost:8080/",
     "height": 35
    },
    "executionInfo": {
     "elapsed": 130901,
     "status": "ok",
     "timestamp": 1722876531310,
     "user": {
      "displayName": "Bibek Shiwakoti",
      "userId": "12870124355518867121"
     },
     "user_tz": 240
    },
    "id": "r6TX_ApuU6wV",
    "outputId": "6c08ba73-265b-48dd-f542-93a6c7513603"
   },
   "outputs": [
    {
     "data": {
      "application/vnd.google.colaboratory.intrinsic+json": {
       "type": "string"
      },
      "text/plain": [
       "'/content/bart_finance_finetuned.zip'"
      ]
     },
     "execution_count": 23,
     "metadata": {},
     "output_type": "execute_result"
    }
   ],
   "source": [
    "# Create a zip\n",
    "\n",
    "import shutil\n",
    "\n",
    "# Create a zip file of the saved model directory\n",
    "shutil.make_archive('bart_finance_finetuned', 'zip', './bart_finance_finetuned')\n"
   ]
  },
  {
   "cell_type": "code",
   "execution_count": 24,
   "metadata": {
    "colab": {
     "base_uri": "https://localhost:8080/",
     "height": 35
    },
    "executionInfo": {
     "elapsed": 17,
     "status": "ok",
     "timestamp": 1722876531311,
     "user": {
      "displayName": "Bibek Shiwakoti",
      "userId": "12870124355518867121"
     },
     "user_tz": 240
    },
    "id": "omY_1qbnVKR2",
    "outputId": "1c0072c4-646b-413f-95c6-0c074bc1cdea"
   },
   "outputs": [
    {
     "data": {
      "application/vnd.google.colaboratory.intrinsic+json": {
       "type": "string"
      },
      "text/plain": [
       "\"\\nfrom google.colab import files\\nfiles.download('bart_finetuned.zip')\\n\""
      ]
     },
     "execution_count": 24,
     "metadata": {},
     "output_type": "execute_result"
    }
   ],
   "source": [
    "# download the zip file\n",
    "\n",
    "'''\n",
    "from google.colab import files\n",
    "files.download('bart_finetuned.zip')\n",
    "'''"
   ]
  },
  {
   "cell_type": "code",
   "execution_count": 25,
   "metadata": {
    "colab": {
     "base_uri": "https://localhost:8080/",
     "height": 52
    },
    "executionInfo": {
     "elapsed": 12,
     "status": "ok",
     "timestamp": 1722876531311,
     "user": {
      "displayName": "Bibek Shiwakoti",
      "userId": "12870124355518867121"
     },
     "user_tz": 240
    },
    "id": "MjvEAvTtVXNN",
    "outputId": "72fad20f-51bd-4545-a479-48eb074fd784"
   },
   "outputs": [
    {
     "data": {
      "application/vnd.google.colaboratory.intrinsic+json": {
       "type": "string"
      },
      "text/plain": [
       "\"from transformers import BartTokenizer, BartForConditionalGeneration\\n\\n# Load the model and tokenizer from the local path\\ntokenizer = BartTokenizer.from_pretrained('path_to_extracted_model')\\nmodel = BartForConditionalGeneration.from_pretrained('path_to_extracted_model')\\n\""
      ]
     },
     "execution_count": 25,
     "metadata": {},
     "output_type": "execute_result"
    }
   ],
   "source": [
    "# To load the model in any environment after extracting it\n",
    "\n",
    "'''from transformers import BartTokenizer, BartForConditionalGeneration\n",
    "\n",
    "# Load the model and tokenizer from the local path\n",
    "tokenizer = BartTokenizer.from_pretrained('path_to_extracted_model')\n",
    "model = BartForConditionalGeneration.from_pretrained('path_to_extracted_model')\n",
    "'''"
   ]
  },
  {
   "cell_type": "code",
   "execution_count": 26,
   "metadata": {
    "colab": {
     "base_uri": "https://localhost:8080/"
    },
    "executionInfo": {
     "elapsed": 22903,
     "status": "ok",
     "timestamp": 1722876554204,
     "user": {
      "displayName": "Bibek Shiwakoti",
      "userId": "12870124355518867121"
     },
     "user_tz": 240
    },
    "id": "TOPgL9fGXIUe",
    "outputId": "4482ee71-f818-49c2-89ef-efab03d00b98"
   },
   "outputs": [
    {
     "name": "stdout",
     "output_type": "stream",
     "text": [
      "Original Text:\n",
      "\n",
      "The BART model, developed by Facebook AI, is a powerful model for sequence-to-sequence tasks.\n",
      "It is based on a transformer architecture and combines bidirectional and autoregressive transformers.\n",
      "BART is particularly effective for text generation tasks, such as summarization and translation,\n",
      "by leveraging both the encoder and decoder components.\n",
      "\n",
      "\n",
      "Summary:\n",
      "The BART model is a powerful model for sequence-to-sequence tasks. It is based on a transformer architecture and combines bidirectional and autoregressive transformers. BART is particularly effective for text generation tasks, such as summarization and translation.\n"
     ]
    }
   ],
   "source": [
    "from transformers import BartTokenizer, BartForConditionalGeneration\n",
    "\n",
    "# Path to the directory where the model was saved\n",
    "model_path = './bart_finance_finetuned'  # Path where the model and tokenizer were saved\n",
    "\n",
    "# Load the model and tokenizer\n",
    "tokenizer = BartTokenizer.from_pretrained(model_path)\n",
    "model = BartForConditionalGeneration.from_pretrained(model_path)\n",
    "\n",
    "# Function to summarize text\n",
    "def summarize_text(text):\n",
    "    inputs = tokenizer(text, return_tensors='pt', max_length=1024, truncation=True)\n",
    "    summary_ids = model.generate(inputs['input_ids'], max_length=150, min_length=40, length_penalty=2.0, num_beams=4, early_stopping=True)\n",
    "    summary = tokenizer.decode(summary_ids[0], skip_special_tokens=True)\n",
    "    return summary\n",
    "\n",
    "# Example dummy text\n",
    "dummy_text = \"\"\"\n",
    "The BART model, developed by Facebook AI, is a powerful model for sequence-to-sequence tasks.\n",
    "It is based on a transformer architecture and combines bidirectional and autoregressive transformers.\n",
    "BART is particularly effective for text generation tasks, such as summarization and translation,\n",
    "by leveraging both the encoder and decoder components.\n",
    "\"\"\"\n",
    "\n",
    "# Summarize the dummy text\n",
    "summary = summarize_text(dummy_text)\n",
    "print(\"Original Text:\")\n",
    "print(dummy_text)\n",
    "print(\"\\nSummary:\")\n",
    "print(summary)\n"
   ]
  },
  {
   "cell_type": "code",
   "execution_count": 27,
   "metadata": {
    "colab": {
     "base_uri": "https://localhost:8080/"
    },
    "executionInfo": {
     "elapsed": 16,
     "status": "ok",
     "timestamp": 1722876554204,
     "user": {
      "displayName": "Bibek Shiwakoti",
      "userId": "12870124355518867121"
     },
     "user_tz": 240
    },
    "id": "nlFmh8IjXnWY",
    "outputId": "da3a7ca7-655a-4fd9-db7f-95757668b776"
   },
   "outputs": [
    {
     "name": "stdout",
     "output_type": "stream",
     "text": [
      "349\n",
      "265\n"
     ]
    }
   ],
   "source": [
    "print(len(dummy_text))\n",
    "print(len(summary))"
   ]
  },
  {
   "cell_type": "markdown",
   "metadata": {
    "id": "Mk2X5sEvctLB"
   },
   "source": [
    "# Final Comparison of ROUGE Scores before and after fine tuning"
   ]
  },
  {
   "cell_type": "code",
   "execution_count": 30,
   "metadata": {
    "executionInfo": {
     "elapsed": 230,
     "status": "ok",
     "timestamp": 1722877841584,
     "user": {
      "displayName": "Bibek Shiwakoti",
      "userId": "12870124355518867121"
     },
     "user_tz": 240
    },
    "id": "EMrHIv1ds0O6"
   },
   "outputs": [],
   "source": [
    "loader = PyPDFLoader('/content/CorporateFinance-IJMSBR.pdf')"
   ]
  },
  {
   "cell_type": "code",
   "execution_count": 31,
   "metadata": {
    "executionInfo": {
     "elapsed": 2304,
     "status": "ok",
     "timestamp": 1722877853940,
     "user": {
      "displayName": "Bibek Shiwakoti",
      "userId": "12870124355518867121"
     },
     "user_tz": 240
    },
    "id": "HMrmsSXnhSun"
   },
   "outputs": [],
   "source": [
    "docs = loader.load()\n"
   ]
  },
  {
   "cell_type": "code",
   "execution_count": 32,
   "metadata": {
    "colab": {
     "base_uri": "https://localhost:8080/"
    },
    "executionInfo": {
     "elapsed": 223,
     "status": "ok",
     "timestamp": 1722877866935,
     "user": {
      "displayName": "Bibek Shiwakoti",
      "userId": "12870124355518867121"
     },
     "user_tz": 240
    },
    "id": "GNHhUQxIhbbB",
    "outputId": "851920ed-c833-493b-c5da-d82e06a103b7"
   },
   "outputs": [
    {
     "data": {
      "text/plain": [
       "11"
      ]
     },
     "execution_count": 32,
     "metadata": {},
     "output_type": "execute_result"
    }
   ],
   "source": [
    "len(docs)\n"
   ]
  },
  {
   "cell_type": "code",
   "execution_count": 33,
   "metadata": {
    "colab": {
     "base_uri": "https://localhost:8080/"
    },
    "executionInfo": {
     "elapsed": 188,
     "status": "ok",
     "timestamp": 1722877874334,
     "user": {
      "displayName": "Bibek Shiwakoti",
      "userId": "12870124355518867121"
     },
     "user_tz": 240
    },
    "id": "s0qdvnjDhfHz",
    "outputId": "6fd65c83-f648-4ce3-8c84-bce33f803b27"
   },
   "outputs": [
    {
     "data": {
      "text/plain": [
       "list"
      ]
     },
     "execution_count": 33,
     "metadata": {},
     "output_type": "execute_result"
    }
   ],
   "source": [
    "type(docs)\n"
   ]
  },
  {
   "cell_type": "code",
   "execution_count": 34,
   "metadata": {
    "executionInfo": {
     "elapsed": 208,
     "status": "ok",
     "timestamp": 1722877887064,
     "user": {
      "displayName": "Bibek Shiwakoti",
      "userId": "12870124355518867121"
     },
     "user_tz": 240
    },
    "id": "OY2fCRRBhg7l"
   },
   "outputs": [],
   "source": [
    "text_splitter = RecursiveCharacterTextSplitter(chunk_size=1000,chunk_overlap=200)\n"
   ]
  },
  {
   "cell_type": "code",
   "execution_count": 35,
   "metadata": {
    "executionInfo": {
     "elapsed": 216,
     "status": "ok",
     "timestamp": 1722877895879,
     "user": {
      "displayName": "Bibek Shiwakoti",
      "userId": "12870124355518867121"
     },
     "user_tz": 240
    },
    "id": "lMRgyC4BhkCk"
   },
   "outputs": [],
   "source": [
    "texts = text_splitter.split_documents(docs)\n"
   ]
  },
  {
   "cell_type": "code",
   "execution_count": 36,
   "metadata": {
    "colab": {
     "base_uri": "https://localhost:8080/"
    },
    "executionInfo": {
     "elapsed": 287,
     "status": "ok",
     "timestamp": 1722877904894,
     "user": {
      "displayName": "Bibek Shiwakoti",
      "userId": "12870124355518867121"
     },
     "user_tz": 240
    },
    "id": "eFrGckFphmKy",
    "outputId": "6f360744-4c2b-4d61-a0fe-2038fb42efd3"
   },
   "outputs": [
    {
     "data": {
      "text/plain": [
       "73"
      ]
     },
     "execution_count": 36,
     "metadata": {},
     "output_type": "execute_result"
    }
   ],
   "source": [
    "len(texts) #to show the number of chunks\n"
   ]
  },
  {
   "cell_type": "code",
   "execution_count": 37,
   "metadata": {
    "executionInfo": {
     "elapsed": 239,
     "status": "ok",
     "timestamp": 1722877915017,
     "user": {
      "displayName": "Bibek Shiwakoti",
      "userId": "12870124355518867121"
     },
     "user_tz": 240
    },
    "id": "W-6gOt4zhoYF"
   },
   "outputs": [],
   "source": [
    "text_i_str = \" \".join([str(doc) for doc in docs])\n"
   ]
  },
  {
   "cell_type": "code",
   "execution_count": 38,
   "metadata": {
    "colab": {
     "base_uri": "https://localhost:8080/"
    },
    "executionInfo": {
     "elapsed": 228,
     "status": "ok",
     "timestamp": 1722877923098,
     "user": {
      "displayName": "Bibek Shiwakoti",
      "userId": "12870124355518867121"
     },
     "user_tz": 240
    },
    "id": "Ti0SPwP_hq2o",
    "outputId": "00e5ae71-6a1a-471e-dcd7-8d9754eb1852"
   },
   "outputs": [
    {
     "data": {
      "text/plain": [
       "str"
      ]
     },
     "execution_count": 38,
     "metadata": {},
     "output_type": "execute_result"
    }
   ],
   "source": [
    "type(text_i_str)\n"
   ]
  },
  {
   "cell_type": "code",
   "execution_count": 39,
   "metadata": {
    "colab": {
     "base_uri": "https://localhost:8080/"
    },
    "executionInfo": {
     "elapsed": 194,
     "status": "ok",
     "timestamp": 1722877937426,
     "user": {
      "displayName": "Bibek Shiwakoti",
      "userId": "12870124355518867121"
     },
     "user_tz": 240
    },
    "id": "Mbm8K0lQhs0i",
    "outputId": "af408ca7-a9ef-4311-811a-5bd87a3cc731"
   },
   "outputs": [
    {
     "data": {
      "text/plain": [
       "57337"
      ]
     },
     "execution_count": 39,
     "metadata": {},
     "output_type": "execute_result"
    }
   ],
   "source": [
    "len(text_i_str)\n"
   ]
  },
  {
   "cell_type": "code",
   "execution_count": 40,
   "metadata": {
    "colab": {
     "base_uri": "https://localhost:8080/",
     "height": 139
    },
    "executionInfo": {
     "elapsed": 223,
     "status": "ok",
     "timestamp": 1722877945808,
     "user": {
      "displayName": "Bibek Shiwakoti",
      "userId": "12870124355518867121"
     },
     "user_tz": 240
    },
    "id": "UbBWdIqOhwU-",
    "outputId": "89e805f9-f20d-47ba-9c0e-b2b28ef4a510"
   },
   "outputs": [
    {
     "data": {
      "application/vnd.google.colaboratory.intrinsic+json": {
       "type": "string"
      },
      "text/plain": [
       "\"page_content='See discussions, st ats, and author pr ofiles f or this public ation at : https://www .researchgate.ne t/public ation/281557147\\nUnderstanding Corporate Finance: Experiences of Emerging Economies and\\nCase of a High-Income Small Developing Cou ntry\\nArticle  · July 2015\\nCITATIONS\\n0READS\\n7,262\\n1 author:\\nHav en Allahar\\nUniv ersity of the West Indies, St . Augustine\\n40 PUBLICA TIONS \\xa0\\xa0\\xa0230 CITATIONS \\xa0\\xa0\\xa0\\nSEE PROFILE\\nAll c ontent f ollo wing this p age was uplo aded b y Hav en Allahar  on 07 Sept ember 2015.\\nThe user has r equest ed enhanc ement of the do wnlo aded file.' metadata={'source': '/content/CorporateFinance-IJMSBR.pdf', 'page': 0} page_content='International Journal of Management Sciences and Business Research, July -2015 ISSN (2226 -8235) Vol -4, Issue 7  \\nhttp://www.ijmsbr.com   Page 34 Understanding  Corporate  Finance : Experience of  Emerging Economies and Case of a High -Income \\nSmall Developing Country . \\n \\nAuthor Details:  \\nHaven Allahar - \\nArthur Lok Jack Graduate School of Business,  University of the West Indies, Trinidad and Tobago.  \\n \\nAbstract  \\n \\nThe purpose of this paper is to provide an overview of the theories, concepts and issues involved in the area of corporate finance \\nand the implications for emerging economies. A secondary research appr oach was adopted based on a review of published texts, \\njournals, and technical reports.  The results  of the study demonstrate that based on the indicators of capital market development, \\nthe high -income developing country of Trinidad and Tobago used as a case study, lags behind in critical areas of development o f \\nits capital market and, along with related developing countries, can benefit fro m the fundamental principles involved in the \\npractice of corporate finance. The practical implications of the study are the potential use by students in tertiary level instit utions \\nengaged in MBA or financial management studies, participants pursuing professional qualifications  in accounting and finance, \\nemployees in financial institutions, and general stakeholders seeking to invest funds . The value of this paper is that it ex plores and \\npresents data on an area of stu dy which is considered esoteric  and largely ignored in the formal literature on small developing \\nstates, particularly the island -states of the Caribbean. Its value further lies in its contribution to the understand ing of the field of \\ncorporate finance and related issues and identification of  implications for developing  economies. The research is limited to the \\nextent that only secondary data sources were explored and insights from practitioners through interviews were not obtained thus \\npointing to scope for  future research.  \\n \\nKeywords : Corporate finance, developing countries , emerging economies, financial investments.  \\n \\nIntroduction  \\n \\nCorporate finance (CF) differs from managerial finance with \\nthe latter applying  to th e financial management of all firms \\nas opposed to corporations , and CF was defined as “the area \\nof finance dealing with the corporate restructurings of \\npublicly traded companies and the actions that managers of \\nthese companies take to increase the firm‟s v alue, as well as \\nthe tools and analysis used to allocate financial resources ” \\n[1]. Thus, CF covers a broad range of transactions including: \\nraising seed, start -up, development, or expansion capital; \\nmergers and acquisitions; takeovers of public companies; \\nmanagement buy -outs; flotation of companies on a stock \\nexchange to raise capital or restructure ownership; raising \\ncapital through equity, debt, or other securities; raising \\ncapital through private equity, venture capital or real estate \\nfunds; and financin g joint -ventures, supplying project \\nfinance, providing infrastructure finance, public -private \\npartnerships, and pri vatization initiatives [2]. In a more \\ngeneral sense, Nguyen and Schüßler [3] described CF as the \\n“interaction between managers and investors and its impacts \\non fir m value” [3]. \\n \\nThe impetus for this study arises from the vital need for \\ngrasping the key concepts of corporate finance by  \\nprofessionals, political decision makers, university students \\nand other students at the tertiary level involved  in studies \\nrelated to CF, and general stakeholders  in the society who \\ninvest their funds expecting adequate returns for their future \\nactivities. CF is not as widely researched as the common \\nareas of business management such as human resources, \\nstrategy, a nd marketing; but is viewed as a field better left to \\nspecialist in finance. In particular, determining the capital \\nstructure of firms is acknowledged as one of the most \\ncontentious subjects in the theory of corporate finance, so \\nthat there is little conse nsus on exactly what drives the \\ncapital structure decision. Ehrhardt and Brigham [4] indicated that the theoretical work on capital structure of \\nfirms began 50 years ago with the work by Modigliani and \\nMiller (MM) which introduced the concept of market \\narbitrage claiming that the market value of a firm is \\nindependent of its capital structure. However, this theory \\nwas developed by excluding several cost items: brokerage; \\ntaxes; bankruptcy; transaction costs while also assuming that \\nall investors have the sam e information as management, and \\nearnings before interest and tax (EBIT) was not affected by \\ndebt [4]. \\n \\nThe subsequent literature on capital structures was discussed \\nby many researchers who recognized five main theories \\nwhich relaxed the MM assumptions and  comprised: static \\ntrade -off; information asymmetry; pecking order; agency \\ncost; and life stage theory. The static trade -off theory of \\ncapital structure predicts that firms should have less debt in \\nthe early and late life stages, and the most debt in the p rime \\nstage when bankruptcy cost are lowest and the tax shield \\nbenefits highest. Information asymmetry theory assumes \\nthat, managers of firms who are in possession of all the \\ninformation about a firm will share this information by their \\nchoice of capital st ructure which, in turn, will signal the \\nintentions of the management (Frielinghaus, Mostert, and \\nFirer, 2005; Tudose 2012; Amo -Yartey  and Abor , 2013).  \\nPecking order theory argues that firms have a hierarchy of \\npreferred financing which ranges from internal  equity to \\ndebt financing, then moves to external equity as a worst \\ncase. Agency cost theory suggests that firms should assume \\nprogressively more debt as they grow and argues that, firms \\nwith free cash flow as well as declining firms, have higher \\nagency co sts and should therefore attract higher debt levels. \\nCapital structure life stage theory argues that debt ratios \\nshould increase as the firm progresses through the early life \\nstages, however, the research on this is sparse, but like static \\ntrade -off theory , argues that debt ratios should follow a low -\\nhigh-low pattern over a firm‟s life [5, 6, 7] . ' metadata={'source': '/content/CorporateFinance-IJMSBR.pdf', 'page': 1} page_content='International Journal of Management Sciences and Business Research, July -2015 ISSN (2226 -8235) Vol -4, Issue 7  \\nhttp://www.ijmsbr.com   Page 35 At the operational level, it was  indicated that firms issue \\nequity much less frequently than debt which supports the \\npecking order hypothesis and the signalling  theory [4]. The \\npecking order hypothesis suggests that firms with a high \\nlevel of information asymmetry should issue debt before \\nequity which is more expensive. However, high growth \\nfirms which usually have greater informational asymmetry, \\nand could afford t o issue debt, often choose to issue equity. \\nThe hypothesis that investment opportunities influence \\nattempts to maintain reserve borrowing capacity and tax \\nconsiderations is supported by the evidence that many firms \\nhave less debt than might be expected, an d many have large \\namounts of short -term investments [4]. Erhardt and Brigham  \\n[4] concluded that “it appears that firms try to capture debt‟s \\ntax benefits while avoiding financial distress costs. \\nHowever, they also allow their debt ratios to deviate from \\nthe static optimal target ratio implied by trade -off theory” \\nwhile t here was some evidence that firms follow a pecking \\norder and use the issue of security as signals, but there was \\nconsiderable evidence in support of the window s of \\nopportunity theory [4]. \\n \\nThe argument in this paper is that, based on recent global \\nexperience of failures of large and small firms, the general \\npopulation in developed and developing countries must \\nacquire a basic understanding of CF and particularly the \\nrisks involved. Further, s tudents in the field have to translate \\ngreater understanding of the field to the promotion of \\n„behavioural corporate finance‟ as relevant to developing \\ncountries which are more vulnerable to downside risks. In \\nrespect of the theory of CF, Tudose [6] argued  that there was \\nno single, universally valid theory of CF but certain theories \\nexerted significant influence on the research of the field \\nwhich evolved from considerations of: benefit -cost analysis \\nwhich looks at balancing bankruptcy costs with tax shields  \\nfrom debt; the question of agency costs; information \\nasymmetries between managers and shareholders; CF \\nstructure based on industrial strategy and corporate \\norganization; and trade -off and pecking order theories [6]. \\nThis study is significant for policy ma king because of the \\nrecent experience, both in advanced countries and \\ndeveloping states, of having to bail out large companies , \\nincluding major financial institutions , with many citizens \\nlosing their savings.  The paper highlights the concepts \\ncritical to a nd more relevant to the understanding of CF in \\ndeveloping countries with special focus on: external \\nfunding; investments and risks; identification and \\napplication of financial ratios; the use of value -added \\nstatements (VAS); and with specific attention to  the case of \\na high -income developing country.  \\n \\nI. Research Approach and Methodology  \\n \\nThe research on CF  presented in this paper is aimed at \\nacquiring a deeper understanding of the key concepts \\ninvolved in the field and assessing the application of key \\nconcept s in developing countries and the case of TT . The \\nmethodology adopted was a qualitative research approach \\nwhich was limited to: collection and distillation of relevant \\nliterature on CF from leading business texts, relevant \\njournals obtained from the ABI/In form database; internet \\nkeyword searches; and assessment of the practice of CF in the context of the small high-income island state of TT  as a \\ncase study . The research process, consistent with \\nacknowledged qualitative p rocedures, was outlined by \\nCreswell [8] as involving: the researcher as the key \\ninstrument for conducting the research; multiple sources of \\ndata obtained from relevant  texts and peer reviewed \\njournals; a theoretical lens which seeks to identify the social \\nand political context of the issue st udied, and represents a \\nholistic account to better reflect the complex picture of the \\nstudy elements.  \\n \\nII. Review of the Concept of Capital Structure in \\nDeveloping Countries and Europe  \\n \\nThe role of managers is to choose the capital structure that \\nmaximizes sh areholders‟ wealth and Ehrhardt and Brigham \\n[4] sugges ted an approach of: developing a trial capital \\nstructure based on the market values of the debt and equity; \\nestimating the wealth of the shareholders under the \\nstructure; and repeating the process until  an acceptable \\ncapital structure is devised . The critical steps are: estimate \\nthe interest rate the firm will pay; estimate the cost of \\nequity; estimate the weighted average cost of capital; \\nestimate the free cash flows and their present value; and \\ndeduct the value of the debt to find shareholders‟ wealth (pp. \\n494-495).  The firm‟s optimal capital structure is the mix of \\ndebt and equity that maximizes the stock price and it was  \\nindicated that the factors that influence a firm‟s capital \\nstructure are: busine ss risk, tax position, financial flexibility, \\nmanagerial conservatism or aggressiveness, and growth \\nopportunities [4]. The WACC calculation is critical and the  \\nformula is:  \\nWACC = w\\ndr\\nd(1 - T) + w\\npsr\\nps + w\\ncer\\ns   \\nWhere:  \\nWd, ps, ces  represent the target wei ghts for debt, preferred  \\nstock , and common equity ;  \\nrd (1-T) is the after tax cost of debt . \\n \\nSharma [9] studied the capital structure of 12 firms in the \\nmanufacturing sector in India and found that an efficient \\nmix of capital reduces the cost of capital wh ich, in turn, \\nincreases net economic returns. Ultimately, the firm‟s value \\nis increased by the reduction in the cost of capital. Sharma  \\n[9] advised that, apart from deciding on a target capital \\nstructure, “a firm must manage its capital structure \\nsuccessfu lly by being aware of the imperfections in the \\ncapital market, taxes, and other practical factors which \\ninfluence the managing of capital structure” [9]. Sharma \\ninsisted that this task was even more difficult in developing \\ncountries because of factors such  as: perception of greater \\nuncertainty in taxes and the tax rate; existing or potential \\nimpediments to cross boundary flows of capital; higher \\nperceived risk of realization of the actual benefits of the \\ninvestments; relatively higher cost of capital; perce ptions \\nabout volatility in equity markets; and the absence of stable \\nlong-term capital markets [9]. \\n \\nCommercial banks are the dominant financial institutions in \\ndeveloping countries and m arket and credit risks are said to \\nbe at the core of the operations o f banks . Amidu [10] studied \\nthe main determinants of the capital structure of banks in \\nGhana in terms of profitability, growth, tax, assets structure, ' metadata={'source': '/content/CorporateFinance-IJMSBR.pdf', 'page': 2} page_content='International Journal of Management Sciences and Business Research, July -2015 ISSN (2226 -8235) Vol -4, Issue 7  \\nhttp://www.ijmsbr.com   Page 36 risk, and size  and found that the variables studied were \\nconsistent with the static trade -off and pecking  order \\ntheories except for risk, because Ghanaian banks‟ assets \\nwere financed by debts of which short -term debts \\nconstituted more than three quarters of the capital [10]. The \\nconclusion was  that profitability, growth, asset structure, and \\nbank size were im portant influences on capital structure  \\n[10]. Bancel and Mittoo [11] compared the managerial \\nviews on the determinants of capital structure across 16 \\nEuropean countries and found that, a country‟s institutional \\nstructure, especially its legal system, exert ed more influence \\non debt than on equity and concluded that the availability of \\nexternal financing was influenced primarily by its legal \\nenvironment. The overall finding was that most firms \\ndetermine their optimal capital structure by trading off \\nfactors s uch as tax advantage of debt, bankruptcy costs, \\nagency costs, and accessibility to external financing [11]. \\n \\nIII. External Funding : Sources and Estimating   \\nRequirements  \\n \\nIn the early stage of a firm‟s development, finance is \\ngenerally raised from internally sourced  funds from owners, \\nfamily, and friends. Firms often seek external funding in \\norder to expand production or services to a wider market or \\nto enter the export market. The act of seeking exter nal funds \\nis viewed by Eckhardt et al. [12]  as a multistage p rocess in \\nwhich founders first select the ventures to be financed and \\nthen financiers provide the finance , based on objective \\nevidence of performance. The matter of performance is not, \\nhowever, clear because the indication was  that owners select \\nventures t o be financed based on “perceptions of market \\ncompetition, market growth, and employment growth, while \\nfinanciers base funding decision s on…….. completion of \\norganizing activities, marketing activities, and the level of \\nsales” [12]. In turn, it was further  argued that “owners‟ \\nsearch for capital was often inefficient, unorganized, and \\nunsuccessful as a result of their lack of information about \\nalternative sources of funding” [13]. \\n \\nWith this background, the sources of external funding for a \\nfirm can be cate gorized into three broad areas: institutional \\nloans, venture capital, and private equity. Institutional loans \\nare sourced mainly from banks either from their commercial \\nretail branches  or from their merchant banking arms. Retail \\nbanks generally lend for re latively short periods and are not \\nappropriate for major capital projects. Merchant banks are \\nmore in the business of project financing and offer longer \\nterm loans, mortgages, and in some cases trade or export \\nfinancing. In developing countries, banks are the main \\nexternal source of business finance because the financial \\nsystem s are  underdeveloped. However, bank finance \\nremains a valid source of external funding for firms and this \\nsource can become more effective, if firms obtain a sound \\nunderstanding of th e various types of capital that can be \\naccessed [13]. \\n \\nVenture capital is a form of equity investment pr ovided by \\nventure capital firms and business angels  and in the U.S.  \\nventure capital funds are considered to be the dominant \\nsource of equity finance for  growth oriented technology -\\nbased firms  [14]. However, the firms that secure venture capital investments are typically at the expansion stage of \\ntheir evolution  and in  the UK, it was observed that less risky \\nlater stage expansion financing dominate the ven ture capital \\nindustry  [14]. An a lternative  to institutional venture capital  \\nis angel financing , and, internationally, the main sources of \\nangel finance are retired wealthy businessmen  and McNally  \\n[14] indicated that angels in the U.S. prefer providing fund s \\nto high-tech ventures and for seed capital and start -up firms . \\nFormal venture capital and angel financing are sources still \\nin their infancy in small developing count ries. However, \\nthese are sources  that can be developed if forums are \\narranged by busine ss associations where investors and \\ninvestees can meet.  \\n \\nIn the case of private equity,  firms can either issu e stocks on \\nthe market , or via an initial public offering ( IPO), or access  \\ncorporate venture funds. The issue of stock is relatively \\nstraightforwar d if there is an active stock exchange, \\nhowever, in many small developing countries, the stock \\nmarket is rudimentary  and funds are generally raised \\nthrough private placements . Pogue and Lall [15] indicated \\nthat, in a firm‟s financing decision, both  busines s and \\nfinancial risk must be assessed. The business risk is the risk \\nof an all equity financed firm, but the assumption of debt \\nfinance increases the uncertainty of returns to equity. An \\nIPO involves  considerable regulatory requirements which \\ncan be daunti ng for many firms , but can be attractive to a \\nfirm which demonstrates sound earnings performance.  \\n \\nIncreasingly, corporations are entering the corporate \\nventuring market and this trend was seen as a “unique \\nopportunity for cash -rich firms to capitalize on  the strength \\nof their balance sheets to become part of this evolution – by \\nbecoming providers of finance to the corporate world ” [16]. \\nIt was  also asserted  that the face of private equity is \\nchanging as the accept ed practice of acquiring cheap \\nstripping c osts, and selling at a profit is giving way  to \\nlonger -term portfolio management  approaches  [16]. In fact, \\nlarge corporations are now considering strategic partnerships \\nwith smaller firms and such strategically -oriented minority \\nequity investments are viewe d as part of a wider approach to \\nlarge firm -small firm collaboration  [14]. In such instances,  \\nthe “ combination of a small firm‟s know -how, inventive \\nefficiency and flexibility and a larger firm‟s financial, \\nproduction, marketing, and distribution resources  can \\nprovide opportunities for synergies that can contribute to \\nboth firms‟ competitive advantage ” [14]. There is potential \\nfor the development of strategic partnerships as a source of \\nexternal funds, particularly in developing countries . \\n \\nIn order to esti mate the external funds needed (EFN), firms \\ngenerally employ the standard formula : EFN = Required \\nincrease in assets – Increase in spontaneous liabilities – \\nIncrease in retained earnings expressed as:  \\nEFN = (A*/S o) ΔS – (L*/S o) ΔS – MS 1 (RR) [4].  \\nThis is considered the long method of forecasting the \\nexternal funds requirement and firms have tended to use \\nsources and uses of funds statement s to calculate the EFN as \\nforecasted uses – forecasted sources. This is a short method \\nwhich provides an indicative fi gure but is not fully reliable  \\nbecause t he formula must also be adjusted for the successive \\naccumulation of earnings retained from profits, if more than ' metadata={'source': '/content/CorporateFinance-IJMSBR.pdf', 'page': 3} page_content='International Journal of Management Sciences and Business Research, July -2015 ISSN (2226 -8235) Vol -4, Issue 7  \\nhttp://www.ijmsbr.com   Page 37 one year is forecasted [17].  A firm can also estimate its \\nexternal funding needs from its cash flow fo recast, provided \\nthe forecast is reliable in terms of the amount and timing of \\nthe flow. This can be tested through sensitivity analyses \\nwhich assess the effect on funding requirements of different \\nassumptions. The cash flow forecast must include: cash \\nflows from operating activities; interest payments and \\nreceipts; dividend payments and receipts; tax payments; loan \\nprincipal repayments; and capital expenditures [18]. \\n \\nThe main benefit of a  short -cut method is that it saves time \\nin avoiding the preparation of detailed statements. In cases \\nwhere there may be a lack of accuracy and incorrect timing, \\nCoyle [18] insisted  that “if financial planners develop a \\ntrack record of accurate quantitative forecasts, greater \\nreliance can be placed on their new forecasts” and effort s \\nshould be expended on arriving at a precise timing of cash \\nflows  [18]. A case was also made for firms adopt ing rolling \\nforecasts to manage their businesses more effectively, thus \\nmaking planning a continuous process [19] . Forecasting \\nfunding re quirements for a business that goes through a \\nlong-term cycle of growth and recession, calls for \\nanticipating the cash needs of the business between “the \\npeak point on the cycle and the point of maximum recession \\nin the market” [18].  \\n \\nIn the context of sm all businesses, Cheatham and Cheatham \\n[19] demonstrated how non -financial managers can use the \\nincome statement, statement of retained earnings, and \\ncomparative balance sheets and convert then to user friendly \\ntools. It was  felt that with these tools “proj ecting future \\nsources and uses of funds that will eventually be embodied \\nin balance sheet data is a simple, practical procedure that \\nreveals the financing limitations of the small business” [19]. \\n \\nIV. Portfolio Investments and Risk Implications  \\n \\nThe assumption  in financial management is that a firm seeks \\nto maximize its wealth which for a publicly traded firm \\nmeans maximizing the price of its common stock. The most \\nimportant determinants of stock price are risk and return and \\nthe most common statistical indicat or of an asset‟s risk is the \\nstandard deviation which is a measure of the dispersion \\naround the expected value of the asset. It was pointed out \\nthat these are the essential components of the capital assets \\npricing model (CAPM) which, although questioned in  recent \\ntimes, continues to be widely used by analysts  [20].  \\n \\nRisk is also viewed in terms of time and the variability of \\nthe returns, and, therefore the risk increases with the passage \\nof time based on the assumption that the longer an \\ninvestment asset i s held, the higher the risk because of future \\nuncertainty. Ideally, an investment manager seeks to create \\nan efficient portfolio which is one that maximizes return for \\na given level of risk or minimizes risk for a given level of \\nreturn. The statistical con cept of correlation, which \\nmeasures the relationship between a series of returns on an \\ninvestment, is what is used by analysts  and Gitman [20] \\nobserved that if two series move in the same direction, they \\nare said to be positively correlated, if they move i n opposite \\ndirections,  they are negatively correlated . However some \\nassets are uncorrelated in that there is no interaction between their returns , thus Gitman stated that such risk occupied a \\nposition midway between the positive and negative \\ncorrelations. Gitman argued that “combining negatively \\ncorrelated assets can reduce risk, not as effectively as \\ncombining negatively correlated assets, but more effectively \\nthan combining positively correlated assets” [20]. \\n \\nPogue and Lall [15] distinguished between the  risk of a \\nreturn on a security as systematic risk (dependent on market \\nforces) which is perfectly correlated, and unsystematic risk \\n(business specific) which is uncorrelated.  Market forces \\ninclude factors such as war, inflation, international incidents, \\nand political events , while business -specific risks include \\nstrikes, lawsuits, regulatory actions, death of a key \\nexecutive, and loss of an important account. The return on a \\nsecurity was therefore seen as the systematic return + \\nunsystematic return. Mishr a et al. [21]  studied the impact of \\nnon-conglomerate bank mergers, financed with stock, on \\nsystematic risk, unsystematic, and total risk, and concluded \\nthat the total and the unsystematic risk declined significantly \\ndue to the mergers, while no significant  change was \\nobserved in relation t o systematic risk after mergers . The \\nimpact of the measurement period on the size of the \\nsystematic risk of an asset and on the relationship between \\nthe systematic and unsystematic risk was studied by \\nSchneller [22] and de monstrated that the longer the horizon \\nof the investor, the higher will be the unsystematic: \\nsystematic risk ratio. The lesson learnt was  that the long -run \\ninvestor should not ignore the unsystematic element of an \\nasset‟s risk, for the contribution of each  asset to the total \\nvariance of the portfolio will result from the unsystematic \\nrisk [22]. \\n \\nThe question of cash flow volatility and systematic risk of a \\nportfolio is of considerable importance to investors bit it was \\nfound that there was no relationship b etween an insurance \\ncompany‟s risk management program and a firm‟s stock \\nbeta (systematic risk)  [23]. However, an insurance company \\nwith an asset value that is large in relation to future \\nopportunities will enjoy lower stock systematic risk when \\nthe total risk of operating cash flows are reduced. Further, \\ncash flow volatility reduction programs such as reinsurance \\nor hedging should be individually crafted for each firm and \\nfor speci fic periods in the firm‟s life [23] . It follows from \\nthe above discussion th at systematic risk is more closely \\nlinked to returns than unsystematic risk, because these risks \\nare totally outside of the control of the firm and usually \\nunpredictable. The firm is, however, capable of managing its \\nunsystematic risks by adopting best pra ctices in human \\nresource management, customer relations, and succession \\nplanning. The firm also has to keep the differences between \\nsystematic and unsystematic risk in mind so that this latter \\nrisk can be monitored especially in dealing with foreign \\nmarket s where political stability is an issue.  \\n \\nLubatkin and Chaterjee [24] argue that little is known about \\nthe relationship between corporate diversification and risk \\nand found that the relationship between diversification and \\nstock return risk was curvilinear  which indicates that there is \\nan optimal level of diversification for firms, and risk is best \\nminimized by a constrained strategy which is a midrange \\nlevel of diversification. The implication is that, to minimize ' metadata={'source': '/content/CorporateFinance-IJMSBR.pdf', 'page': 4} page_content='International Journal of Management Sciences and Business Research, July -2015 ISSN (2226 -8235) Vol -4, Issue 7  \\nhttp://www.ijmsbr.com   Page 38 risk, a firm should invest in a similar ba sket of securities \\nrather than the same or different baskets. This argument runs \\ncontrary to the conventional wisdom which asserts that \\nsystematic risk is non -diversifiable, but it was argued  that \\nthere is a diversifiable component to systematic risk  and \\nconcluded that that “diversifying into new markets for the \\nsole purpose of hedging corporate bets may be self -defeating \\nand may in crease corporate risk” [24]. The approach of a \\nfirm adopting a diversified investment portfolio which is \\nbalanced in terms of i nvestment instruments, duration, and \\ndegree of risk, seems to be the proper strategy.   \\n \\nV. Understanding Financial Ratio s and Firm \\nPerformance  \\n \\nThe aim of financial ratios is to provide indicators of a \\nfirm‟s past performance, and present financial condition \\nboth of which can serve as bases for the management to \\npredict future performance. A firm can utilize  a varied menu \\nof ratios which can be calculated using data from its \\nfinancial statements. These ratios have traditionally been \\ngrouped under five headings : liquidity, asset management, \\ndebt management, profitability, and market value  [4].  \\nLiquidity ratios show the relationship of a firm‟s currents \\nassets to its cu rrent liabilities which produce  its ability to \\nmeet maturing debt [4]. The liquidity of a busi ness firm is \\nmeasured by its ability to meet its short cash obligations \\nand, therefore, points to the overall solvency of the firm. \\nThe three basic measures of liq uidity are: net working \\ncapital;  the current ratio ; and the quick (acid -test) ratio. \\nAsset ma nagement ratios include inventory turnover, days \\nsales outstanding, fixed assets turnover, and total assets \\nturnover which  together measure how effectively a firm is \\nmanaging its assets. Debt management ratios comprise the \\ndebt ratio, times -interest earned , and the earning s before \\ninterest, taxes, depre ciation and amortization ( EBITDA ) \\ncoverage ratio which provide an insight into the level of debt \\nfinancing of the firm and the potential for defaulting on debt \\nobligations [20].  \\n \\nProfitability ratios are the  most important to a firm because \\nthey indicate the long term situation of the business. The \\nmain profitability ratios are: net profit margin, return on \\ninvestment (ROI), and return on equity (ROE). Net profit \\nmargin is obtained by dividing net profits aft er taxes by \\nsales and is the single most critical calculation the firm can \\nmake. The ROI is also the return on total assets and is a \\nmeasure of the effectiveness of management in generating \\nprofits. The ratio is obtained by net profits after taxes over \\ntotal assets. The ROE points to the return they can earn from \\ntheir investment in the firm and is obtained by dividing net \\nprofits after taxes by shareholders‟ equity. Market value \\nratios consist of the price/earnings, price/cash flow, and \\nmarket /book ratios and are used to relate the firm‟s stock \\nprice to its earnings, cash flow, and book value per share. \\nThese ratios provide “management with an indication of \\nwhat investors think of the company‟s past performance and \\nfuture prospects ” [4]. However , many  ratios do not convey \\nimportant characteristics of the company‟s financial \\nperformance or condition, and may be useless to decision \\nmakers. Currently, many companies are experiencing \\nfinancial distress and most companies will be monitoring their liquidity and pr ofitability ratios very closely. Sueyoshi  \\n[25] studied firms in the electric power industry and \\nexamined 10 traditional ratios covering liquidity, activity, \\nleverage, and profitability. Sueyoshi formulated what was \\ntermed a Data Envelope Analysis Discrimin ant Analysis \\n(DEA -DA). A discriminant analysis is used to determine \\nwhich variables discriminate between two or more naturally \\noccurring groups  and this analysis was extended to include a \\nMixed Integer Programming Model which used less \\nassumptions on group  distributions and concluded that both \\nleverage and profitability are important ratios in gauging \\ncorporate distress or bankruptcy  [25].  \\n \\nA different approach was taken by Osteryoung  et al. [26]  \\nwho compared large public and small private firms across a \\nlarge number of industry groups and concluded that there \\nwere significant differences among many of the industry \\naverage ratios. The lesson was that financial analysts should \\nensure that an appropriate industry average ratio should be \\nused for comparative p urposes.  The measurement of risk is \\na critical aspect of ratio analysis and Golding and Wambeke \\n[27] reviewed leverage, risk -based, stress tests and value -at- \\nrisk indicators of financial performance and recommended \\nthat “the best approach to risk measure ment combines the \\nuse of value -at-risk testing to evaluate certain risks under \\ntypical market conditions and stress testing to assess a firm‟s \\nvulnerability to extreme pressures ” [27] . An alternative \\napproach was  an „ enterprise stewardship model ‟ which  \\nfocused on the dividend yield ratio and compared the \\napproaches of traditional financial analysts who used the \\nanalytical method and those who tried to translate ratios into \\nindicators that everyone can understand. The conclusion was \\nthat the latter approach allowed non -executive directors of a \\ncompany to better understand the financial condition of a \\ncompany  [28].  \\n \\nVI. Financial Reporting and Value -Added Statements  \\n \\nThe typical financial statements included in financial \\nreporting are the income statement, balanc e sheet, and cash \\nflow. The presentation of these statements is largely in \\nstandard format as stipulated by the various regulatory \\naccounting bodies in accordance with generally accept ed \\naccounting practices (GAAP). VAS were viewed as “a \\nmodified form of t he income statement, reflecting the \\nincome of the company attributable to employees, \\ngovernment, and the providers of capital” [29]. The \\nintention of th e VAS was to supplement the income \\nstatement, not replace it, and the implication of including the \\nVAS i n financial reporting is that the management of \\ncompanies owes an obligation to all its stakeholders not only \\nthe shareholders.  Meek and Gray  [30] outlined five uses of \\nVAS including: helps to measure a company‟s success in \\nwealth creation and national in come generation; leads to \\ngreater awareness of the role of business in the production of \\ngoods and services and generating income for the society in \\ngeneral; highlights the interdependence of the multiple \\nstakeholders and the effect of their respective pol icy \\ndecisions; assists employees in shaping their attitudes about \\nequity and fair compensation; and contributes to the \\nformulation of productivity incentive schemes.  \\n ' metadata={'source': '/content/CorporateFinance-IJMSBR.pdf', 'page': 5} page_content='International Journal of Management Sciences and Business Research, July -2015 ISSN (2226 -8235) Vol -4, Issue 7  \\nhttp://www.ijmsbr.com   Page 39 Riahi -Belkaoui and Fekrat [31] evaluated the usefulness of \\naccrual accounting, cash flow accounting, and value -added \\nreporting and concluded that “lower variability and higher \\npersistency combined with a stronger association with \\nmarket -based measures of risk and a superior measure of \\nmanagerial performance make value -added based \\naccounting da ta potentially much more important and \\ninformative” than other traditional methods [31]. Further, \\nthe notion was advanced that accounting knowledge based \\npurely on GAAP while ignoring value added information, \\n“contributes to the erosion of decision quality ” [32]. In order \\nto facilitate the preparation of VAS, it was suggested a \\nstandardized VAS  statement be prepared which provides a \\nprecise measurement of each company‟s contribution to the \\ngrowth of a national economy, if cross -sectional and ratio \\nanalyses are to be beneficial  [33]. The overall benefit of \\nVAS  is that they enhance the depth of financial reporting \\nand provide greater understanding to stakeholders with a \\nnonfinancial background. The preparation of VAS does not \\nimpose a burden on firms because t he data are easily \\navailable from IT departments , and it was  argued that \\n“Addressing 21st century reporting requirements means \\nincreasing the availability of this nonfinancial operational \\ninformation” [34]. However, there are interpretational issues \\nto be resolved and the full benefits of VAS will be realized \\nonly when a standardized format is introduced, especially if \\ncross -sectional comparisons of company results are to be of \\nany value to analysts and stakeholders.  \\n \\nFinancial statements have been the mai n source of \\ninformation on the financial performance of firms, and \\ncompany directors have come to place considerable reliance \\non these statements although weaknesses have been pointed \\nout over time. These weaknesses relate mainly to the quality \\nof the base  data, the competence of the financial personnel, \\nand the integrity of the firm in presenting an accurate \\naccount of its performance. These matters have been \\nhighlighted within recent years by the collapse of leading \\nfinancial firms whose financial reporti ng was questioned.  \\nThe argument was advanced  that financial reporting has not \\nkept up with changes in bu siness conditions and practices, \\ntherefor e, greater emphasis should be placed on the cash \\nflow statement which should be reorganized to reflect cash \\ngenerated by business activities, cash required to be \\nreinvested for business growth and sustainability, and cash \\navailable to creditors and investors  [35]. An additional \\nsuggestion was  that the balance sheet should reflect the \\nsources of capital and the fina ncing and uses of capital, \\nwhile the earnings statement should reflect the business \\nstream of activities , and  for greater reliance, statements \\nshould be disaggregated so that all items of income and \\nexpenses are clearly presented [35].  \\n \\nVII. Experience of  Corp orate Finance in Select \\nDeveloping Countries  \\n \\nIt is accepted that the financial markets in emerging \\ncountries have experienced significant growth in recent \\nyears but such growth has not extended to the lower tier of \\ndeveloping countries even those experie ncing relatively high incomes. Financial market development is evidenced by the \\ngrowth of stock markets which Amo -Yartey and Abor [7] \\nattribute d to the expansion of financing options for firms to \\naccess external funds  and linked the importance of stock \\nmarkets to inflows of foreign capital to emerging \\neconomies.  Bokpin [36] accepted the value of stock market \\ndevelopment to overall capital market development because \\nit facilitated: substitution of external equity by internal \\nequity especially among family f irms; creation of new \\nopportunities for diversification through equity or debt \\nissues; and enhancement of information flows which address \\nthe asymmetry of information  obstacle to fund raising, \\nimprove ment in  corporate governance, and lower ing the cost \\nof capital to firms . However, the positive development of \\nstock markets in an emerging country context is not \\nnecessarily a sign of financial maturity because of the \\nlimited operations of the stock markets and the volume of \\ntrading [7].  \\n \\nThe bond market is th e significant alternative to the stock \\nmarket and this was the least developed component of the \\ncapital market in emerging countries due mainly to the \\ngovernment debt market a nd,  hence, was more suited to \\ninternal capital sources  [7]. However, it was sugg ested that \\nthe bond market be strengthened because of low er financing \\ncost to issuers  which provides advantages such as: “greater \\naccounting transparency; large community of financing \\nanalysts; respected rating; wide range of corporate debt \\nsecurities; der ivatives demanding sophisticated credit \\nanalysis, efficient procedures for corporate reorganization \\nand liquidation” [36]. Apart from the matter of the stock and \\nbond markets, the issue of capital structure de cisions was \\nviewed as critical in developing co untries and  a study of  \\nlocal ownership and capital structure decisions in Nigeria \\nacknowledged that ownership exerted influence on capital \\nstructure decisions but the degree and direction of the \\ninfluence remained open for questioning  [37]. Another \\ninfluen ce on decision making identified was the extent of \\ndiversified ownership which created opportunities for \\ngreater local partic ipation in corporate decisions [37]. \\n \\nVIII.  Case Study of Corporate Finance in a High -\\nIncome Developing Country  \\n \\nThe case of the small tw o-island Caribbean state of TT \\nrepresents the development of the capital market in a \\ncountry recently reclassified by the World Bank as a „high-\\nincome developing country ‟.  In a report on the economic \\nprospects of Latin America and the Caribbean (LAC), it was \\nsuggested that the economic risks were leaning towards the \\ndownside based on: insufficient macroeconomic adjustment \\namong the largest economies; financial volatility as a result \\nof monetary policy tightening in the U.S.; lower commodity \\nprices; fragile  recovery in the Euro zone; and questions \\nabout reduced growth in China [38].  These risks apply \\ndirectly to TT, especially reduced commodity prices for the \\nmain income generators of crude oil and natural gas, which \\nhave negatively impacted the country res ulting in downward \\nbudget adjustments  and downgrades by rating agencies such \\nas Moody‟s . \\n ' metadata={'source': '/content/CorporateFinance-IJMSBR.pdf', 'page': 6} page_content='International Journal of Management Sciences and Business Research, July -2015 ISSN (2226 -8235) Vol -4, Issue 7  \\nhttp://www.ijmsbr.com   Page 40 The combination of the risk profile and the budget \\ntightening by the government and business sectors was \\nreflected in activity of the capital market  (Table 1) . In t he \\ncase of the local stock market which had an average \\ncompany listing of 30 over the period 2009 to  2013, the \\ncomposite price index declined by 2.9 percent in 2014 after \\nan increase of 11.3 percent in 2013 , while the cross -listed \\nindex fell by 15.6 percen t in 2014. The overall fall was \\nattributed to a decline of 8.0 percent in the banking sub -\\nindex [39]. The primary bond market declined in 2014 for \\nthe third consecutive year while the secondary bond market \\ndeclined by 14.5 percent in 2014 over 2013 measure d by the \\nnumber of transactions [40] . The most accessible capital \\ninvestment vehicle in TT is mutual funds, both equity and \\nmoney market, and aggregate funds under management \\nincreased in 2014 after a decline in 2013 by 4.9 percent with \\nU.S. dollar funds i ncreasing by 4.4 percent as compared \\nwith a decline on 9.5 percent in 2013 [40].   \\n \\nThe evidence from the above indicators of capital market \\ndevelopment is that TT, although a high -income developing \\ncountry, lags behind in critical areas of development of its \\ncapital market. TT and related developing countries can \\nbenefit from the fundamental principles of CF espoused by \\nDamodaran [42] the practice of which: expects risk to be \\nrewarded; focuses on cash flows rather than accounting \\nincome; avoids mistaking m arkets and understands that  \\nevery decision impacts the firm‟s value; views CF as an integrated whole in terms of the impacts of investment \\ndecisions; depends on marketing managers, corporate \\nstrategists, human resource personnel, and information \\ntechnology  leaders to make better decisions from an \\nunderstanding of the discipline; requires creative thinking \\nnot only quantitative skills  derived from exploring \\ninnovation and change; and firms apply the t heories to real -\\nworld problem.  \\nIn this context, a vital f eature for CF practitioners in \\ndeveloping countries is to appreciate the increasing \\nimportance of behavioral CF because  finance research \\nindicates that traditional ideas of corporate governance may \\nbe too simplistic. Adler [43] argued that the board has to  \\nlook beyond finding the optimal incentive contract and \\ninstead find a CEO with the experience, personality, and \\nmanagement style suited to the company‟s actual challenges. \\nNguyen and Schüßler  [3] emphasized the responsibility of  \\nowners to “choose capable managers and to provide \\neffective incentives” if decisions are to be value -enhancing \\nand managers are to behave rationally  [3]. Theories from \\nbehavioral finance are at the forefront of explaining  \\ndifferences in corporate financial policies and capital \\nstructures and most importantly, behavioral CF has  \\nreintroduced humanity into the field which attracted \\nconsiderable negative reactions from the financial debacle of \\n2008 [43].  \\n \\n \\n \\n \\nTable 1: TT Capita l Market Development Indicators  \\nCapital Market Development  2008 2009  2010  2011  2012  2013  \\nListed Companies  34 32 31 31 28 29 \\nMarket Capitalization  (US $ Bn.)  12 11 12 15 15 18 \\nMarket Capitalization/GDP (%)  44 58 58 60 62 65 \\nComposite Stock Price Index \\n(1993=100)  843 765 836 1,013  1,065  1,18\\n5 \\nGovernment Bonds Iss ued (US$ \\nMn.)  190 436 713 238 397 486 \\nMutual Funds: Aggregate Fund \\nValues  (US $Mn.)  5816  5637  5659  5842  6308  6251  \\n                       Source: CBTT [41].  Figures rounded.  \\n \\n \\n \\n \\nConclusion s \\n \\nThe overwhelming conclusion of this review of the key \\nconcepts of  CF, the experiences of select developing \\ncountries, and the study of a high -income developing \\ncountry is that a broad range of citizens and stakeholders in \\ndeveloping countries must acquire a deeper understanding of \\nCF if the mistakes of the recent past a re to be avoided. A \\nmajor concept is that of sourcing external funds for a firm, \\nand while several sources can be tapped,  the appropriateness \\nof the source depends on the stage of maturity of the firm \\nand the dynamics of the industry. In this context, the paper highlighted the ways in which bank finance, venture capital, \\nand private equity, through corporate venturing, can become \\nmore viable options for the external funding of firms.   \\n \\nThe paper also endorses the recommendation that firms \\nshould adopt the p ractice of re -forecasting at perhaps \\nquarterly intervals or such periods as funding warrants  [19]. \\nFirms should also: make forecasting a management not a \\nmeasured process; separate the forecasting process from the \\ntarget setting and performance appraisal; use forecasts to \\nsupport strategy reviews; choose a forecasting horizon \\nlonger than the current year; make forecasting a fast process; ' metadata={'source': '/content/CorporateFinance-IJMSBR.pdf', 'page': 7} page_content='International Journal of Management Sciences and Business Research, July -2015 ISSN (2226 -8235) Vol -4, Issue 7  \\nhttp://www.ijmsbr.com   Page 41 choose the forecasting frequency appropriate to the type of \\nbusiness; base forecasts on a few key revenue and cost \\ndriver s; let forecasts serve as a risk management tool; reduce \\nthe dependency on spreadsheets; and carry out post -mortems \\non forecasts to imp rove their quality [19]. \\nThe issues of cash flow management and financial reporting \\nand disclosure requirements are german e to corporate \\ninvestment management and , as recognized by  Charan  [44], \\nprotecting cash flow is the most important challenge facing \\ncompanies, and project investment must now be gauged on \\ncash consumed, generated, and timing of cash generation.  \\nThe questio n of disclosure is also critical and Neuhausen \\n[45] saw the need to conform to the accounting standards  of both GAAP and  IASB to eliminate redundancies . A \\ndiversified invest ment  portfolio which balances invest ment  \\ninstruments, duration, and degree of risk,  is inescapable in \\nturbulent financial times. The recent global experience with \\nCF highlighted the need for an understanding of the nature \\nof the risks in the field  and the imperative for the firm to \\nmanage its unsystematic risks by adopting best practices  in \\nhuman resource management, customer relations, and \\nsuccession planning.   In this regard, the paper favors the \\nemphasis in developing countries on behavioral CF which \\nAdler [43] claimed has reintroduced humanity into the field  \\nwhich  goes to the heart of  the issues encountered by \\ndeveloping countries . \\n \\n \\nReferences  \\n \\n[1]   STANDS 4 LLC. (2015 ). Definition of Corporate   \\nFinance . [Online]. Available:  \\nhttp://www.definitions.net/definition/corporate \\nfinance  \\n \\n[2]   S. Beaney, (2011). What is corporate f inance  \\n[Online]. ICAEW, Corporate Finance Faculty . \\nAvailable:  \\nhttp://www.icaew.com/en/technical/corporate -\\nfinance/corporate -finance -faculty/what -is-\\ncorporate -finance -122299  \\n \\n[3]   T. Nguyen and A. Schüßler , “How to make better \\ndecisions? Lessons learned  from beh avioral \\ncorporate f inance ”, Inter . Business Research , vol. \\n6, no.1, pp. 187-195, 2013.  \\nhttp://dx.doi.org/10.5539/ibr.v61p187  \\n \\n[4]   M.B. Tudose,  “Corporate Finance Theories, \\nChallenges and Trajectorie s”, Management & \\nMarketing,  vol. 7, no. 2, pp. 277-294, 2012.  \\n \\n[5]  M.C. Ehrhardt and  E.F. Brigham,  Corpo rate \\nFinance a Focused A pproach . Mason, Ohio:  South -\\nWestern Cengage Learning, 2009.  \\n \\n [6]  A. Frielinghaus, B. Mostert, and C. Firer, “ Capital \\nstructure and the firm‟s life stage ”, South African J . \\nof Bus. Management, vol. 36, no. 4, pp.  9-17, 2005.   \\n \\n [7]  C. Amo -Yartey and J. Abor, “Corporate financial \\npolicies in  markets: The role of financial market  \\ndevelopment ”, Amer . J. of Business, vol. 28, no. 2, \\npp. 123-146, 2013 . doi: 10. 1108/AJB -052013 -\\n0035  \\n  \\n[8]  J.W. Creswell,  Research Design: Qualitative, \\nQuantitative, and Mixed Methods Approaches . \\nThousand  \\nOaks, California: SAGE Publications Inc., 2009.  \\n \\n \\n[9]  A.K. Sharma , A.K. “Financial leverage and firms' \\nvalue a study of capital structure of selected  manufacturing sector firms in India ”. The Business \\nReview , vol. 6, no. 2, pp. 70 -76, December 2006.  \\n \\n[10]      M. Amidu , “Determinants of capital structure of \\nbanks in Ghana: an empirica l approach ”, Baltic J . \\nof Management , vol. 2, no. 1, pp.  67-77, 2007.  \\ndoi:10.1108/17465260710720255  \\n \\n[11]  F. Bancel  and U.R. Mittoo, “ Cross -country \\ndeterminants of capital structure choice: A survey \\nof European firms ”, Financial Manage ., vol.33, no. \\n4, pp . 103-132, Winter 2004.   \\n \\n[12]       J.T. Eckhardt , S. Shane  and F. Delmar.  “Multistage \\nselection and the financing of new v entures , \\nManagemen t Sci ., vol. 52, Iss. 2, pp.  220-232, \\nFebruary  2006 . \\n \\n[13]      H.E. Van Auken , “Financing small technology -\\nbased companies: The relationship between \\nfamiliarity with capital and abil ity to price and \\nnegotiate investment ”, J. of Small Bus . \\nManag ement , 39(3) , 240 -259, July  2001.  \\n \\n[14]    K. McNally,  “Corporate  venture capital: The \\nfinancing of technology businesses ”, Inter. J. of \\nEntrepreneurial     Behaviour & Research , vol. 1, \\nno. 3, pp.  9-38, 1995. \\n \\n[15]    G.A. Pogue  and K. Lall, “Corporate finance: An \\noverview , Sloan Management Review , vol. 15, no. \\n3, pp.  19 -39, Spring 1974.  \\n \\n[16]     Anonymous , “Strategy: Financial evolution brings \\nsolutions ”, Fund Strategy , vol. 12, August 17, \\n2009.  \\n \\n[17]     R. Clarke and G. McQueen, Forecasting financial \\nstatements pro forma a nalysis . [Online].  August \\n2001.   \\n             Available: http://www.docstoc.com/docs/5287877  \\n \\n[18]     B.Coyle, Capital S tructuring . Chicago: Fitzroy \\nDearborn. 2000. Available:         \\nbooks.google.com/books?isbn=1579582540  \\n ' metadata={'source': '/content/CorporateFinance-IJMSBR.pdf', 'page': 8} page_content='International Journal of Management Sciences and Business Research, July -2015 ISSN (2226 -8235) Vol -4, Issue 7  \\nhttp://www.ijmsbr.com   Page 42 [19]     R. Barrett  and J. Hope , “Re-forecasting  practice in \\nthe UK”, Measuring B usiness  Excellence , vol. 10, \\nno. 2, pp.  28 -40, 2006.  \\ndoi:10.1108/13683040610668684  \\n \\n[20]      L. Cheatham  and C.  Cheatham, “Utilizing fi nancial \\nstatements as cash flow planning and control tools ”.    \\nManagerial Finance , vol.  19, no. 8, pp.  35-49, \\n1993.  \\n \\n[21]        L.J. Gitman, Basic Managerial Finance. New York: \\nHarper & Row, 1987.  \\n \\n[22]   S. Mishra , A.J.  Prakash , G.V. Karels  and M.  \\nPeterson , “Bank mergers and components of risk: \\nAn evaluation ”, J. of Economics and Finance , vol. \\n2, no. 1, pp. 85 -97, Spring 2005.  \\n \\n[23]        M.I. Schneller, “Regression analysis for \\nmultiplicative phenomena and its implication for \\nthe measurement  of  investment risk ”, \\nManagement Science, vol. 22, no. 4,pp.  422-426, \\nDecember 1975.  \\n \\n[24]       N.A. Scordis, J. Barrese, and P. Wang, “ The impact \\nof cash flow volatility  on systematic risk ”, J. of \\nInsurance  Issues , vol. 31, no. 1, pp.  43–71, 2008.  \\n \\n[25]        M. Lubatkin and S. Chatterjee, “Extending modern \\nportfolio theory into the doma in of corporate  \\ndiversification: Does it apply ”. Academy of \\nManagement Journal, vol. 3, no. 1, pp. 109-136, \\nFebruary 1994.  \\n \\n[26]       T. Sueyoshi , “Financial ratio analysis of the electric \\npower industry ”, Asia - Pacific J . of Operational    \\nResearch , vol. 22, no. 3, pp.  349-377, September \\n2005.   \\n \\n[27]    J. Osteryoung, R.L. Con standt and D. Nast, \\n“Financial ratios in large public and small private \\nfirms ”, J. of Small Bus . Management, vol. 30, no. 3, \\npp. 35-45, July 19192.  \\n \\n[28]     E.L. Golding and C.A. Wambeke, “ Enough is \\nenough: A timely look at financial -soundness \\nmeasure s”, Secondary Mortgage Markets, vol. 15, \\nno. 1/2, pp. 28 -37, July 1998.   \\n \\n[29]        R. Bull, “ Financial ratios ”. Financial Management ,  \\npp. 34 -35, April 2005.   \\n \\n[30]       T.A. Lee, Company Financial R eporting (2nd ed.).  \\nBerkshire, England: Van Nostrand  \\nReinhold, 1982.   \\n \\n [31]    G.K. Meek  and S.J.  Gray,  “The value added \\nstatement: An innovation for U.S. companies ”, \\nAccounting Horizons , vol. 2, no. 2, pp . 73-82, June \\n1988.   \\n \\n[32]        A. Riahi -Belkaoui  and M.A. Fekrat, “The magic in value added: Merits of derived accounting  indicator \\nnumbers ”, Managerial Finance,  vol. 2, no. 9,  pp. 3 -\\n15, 1994.   \\n \\n[33]      R.D. Picur , “The effects of accounting knowledge \\non the omission of value added  information in \\nwealth measurement and distribution decisions ”, \\nReview of Acc t. & Finance , vol. 6, no.1, pp. 15-23, \\n2007.   \\ndoi: 10.1108/14757700 710725430  \\n \\n[34]       G. Arangies , C.  Mlambo , W.D.  Hamman  and B.W. \\nSteyn -Bruwer , “The value -added statement : An \\nappeal for standardisation ”, Management \\nDynamics , vol. 17, no. 1, pp.  31-44, 2008 . \\n \\n[35]       R.D. Kugel , “The Right Stu ff”, Business Finance , \\nvol. 14, no. 9, pp.  38-40, September 2009.    \\n \\n[36]    C. DiFabio, “Extreme makeover for f inancial \\nstatements ”, Financial Executive, vol. 25, no. 3, pp . \\n44-47, April 2009.  \\n \\n[37]     G. Bokpin, “Financial market development and \\ncorporate financing: Evidence from emerging \\neconomies ”, J. of Econ. Studies , vol. 37, no. 1, pp. \\n96-116, 2010.  doi: 10 .1108/01443581011012270  \\n \\n[38]   A.E. Ezeoha and F. Okafor, “Local corporate \\nownership and capital s tructure decisions in \\nNigeria: A developing country p erspective ”, \\nCorpo rate Governance , vol.10, no. 3, pp. 249 -260, \\n2010.   \\n  doi: 10. 1108/14720701011051893  \\n \\n[39]   World Ba nk Group,“ The Global Economy in \\nTransition” i n “Global Economic Prospects ”, \\nChapter 2: Latin America and the Caribbean , \\nInternational Bank for Reconstruction and \\nDevelopment, Washington, DC, U.S, June 2015. \\nAvailable:  http://www.worldbank.o rg \\n \\n[40]        Central Bank of Trinidad and Tobago  (CBTT: EB), \\n“Economic Bulletin ” February 2015,  Port of Spain, \\nTrinidad. Available: http://www.central -bank.org.tt  \\n \\n[41]      Central Bank of Trinidad and Tobago (CBTT: AES) , \\n“Annual Economic Survey 2014”,  2015,  Port of \\nSpain, Trinidad. Available: http://www.central -\\nbank.org.tt  \\n \\n[42]    Central Ban k of Trinidad and Tobago (CBTT),  \\n“Summary Economic Indicators ”, 2014 , Port of \\nSpain, Trinidad. Available: http://www.central -\\nbank.org.tt  \\n \\n[43]       A. Damodaran,  What is Corporate Finance , \\n[Online]. 2015. Available: \\nhttp://pages.stern.nyu.edu/~adamodar/New_Home_\\nPage/background/cfin.htm  \\n \\n[44]    D.E. Adler , “A behavioral theory of corporate ' metadata={'source': '/content/CorporateFinance-IJMSBR.pdf', 'page': 9} page_content='International Journal of Management Sciences and Business Research, July -2015 ISSN (2226 -8235) Vol -4, Issue 7  \\nhttp://www.ijmsbr.com   Page 43 finance ”, strategy+business , Issue 34, Spring 2004.  \\n \\n[45]       R. Charan, “A decisive direction ”, Intheblack, vol. \\n79, no. 3, p.  49, April 2009.  \\n \\n[46]      B. Neuhausen, “Achieving gr eater transparency ”, \\nDirectorship, vol. 35, no. 3, pp.  68-69, June/July \\n2009.   \\n \\n \\n \\n \\n \\n \\n \\n \\nView publication stats' metadata={'source': '/content/CorporateFinance-IJMSBR.pdf', 'page': 10}\""
      ]
     },
     "execution_count": 40,
     "metadata": {},
     "output_type": "execute_result"
    }
   ],
   "source": [
    "text_i_str\n"
   ]
  },
  {
   "cell_type": "code",
   "execution_count": 41,
   "metadata": {
    "executionInfo": {
     "elapsed": 218,
     "status": "ok",
     "timestamp": 1722877957008,
     "user": {
      "displayName": "Bibek Shiwakoti",
      "userId": "12870124355518867121"
     },
     "user_tz": 240
    },
    "id": "dHn33ikVhyXv"
   },
   "outputs": [],
   "source": [
    "import re\n"
   ]
  },
  {
   "cell_type": "code",
   "execution_count": 42,
   "metadata": {
    "colab": {
     "base_uri": "https://localhost:8080/"
    },
    "executionInfo": {
     "elapsed": 222,
     "status": "ok",
     "timestamp": 1722877965222,
     "user": {
      "displayName": "Bibek Shiwakoti",
      "userId": "12870124355518867121"
     },
     "user_tz": 240
    },
    "id": "VBLRGU8kh1Fu",
    "outputId": "db4f84c2-b7e7-4ec8-bb56-7b32cc1aaf8f"
   },
   "outputs": [
    {
     "name": "stdout",
     "output_type": "stream",
     "text": [
      "The purpose of this paper is to provide an overview of the theories, concepts and issues involved in the area of corporate finance \n",
      "and the implications for emerging economies. A secondary research appr oach was adopted based on a review of published texts, \n",
      "journals, and technical reports.  The results  of the study demonstrate that based on the indicators of capital market development, \n",
      "the high -income developing country of Trinidad and Tobago used as a case study, lags behind in critical areas of development o f \n",
      "its capital market and, along with related developing countries, can benefit fro m the fundamental principles involved in the \n",
      "practice of corporate finance. The practical implications of the study are the potential use by students in tertiary level instit utions \n",
      "engaged in MBA or financial management studies, participants pursuing professional qualifications  in accounting and finance, \n",
      "employees in financial institutions, and general stakeholders seeking to invest funds . The value of this paper is that it ex plores and \n",
      "presents data on an area of stu dy which is considered esoteric  and largely ignored in the formal literature on small developing \n",
      "states, particularly the island -states of the Caribbean. Its value further lies in its contribution to the understand ing of the field of \n",
      "corporate finance and related issues and identification of  implications for developing  economies. The research is limited to the \n",
      "extent that only secondary data sources were explored and insights from practitioners through interviews were not obtained thus \n",
      "pointing to scope for  future research.\n"
     ]
    },
    {
     "name": "stderr",
     "output_type": "stream",
     "text": [
      "<ipython-input-42-610906bdb0da>:7: DeprecationWarning: Flags not at the start of the expression '(?i)abstract\\\\s(.*?)\\\\' (truncated) but at position 21\n",
      "  match = re.search(r'(?i)abstract\\s(.*?)\\s(?i)keywords', text_i_str, re.DOTALL)\n"
     ]
    }
   ],
   "source": [
    "import re\n",
    "\n",
    "\n",
    "\n",
    "# Use regular expressions to extract text between \"Abstract\" and \"Keywords\"\n",
    "# match = re.search(r'Abstract\\s(.*?)\\sKeywords:', text_i_str, re.DOTALL)\n",
    "match = re.search(r'(?i)abstract\\s(.*?)\\s(?i)keywords', text_i_str, re.DOTALL)\n",
    "if match:\n",
    "    reference_summary = match.group(1).strip()\n",
    "else:\n",
    "    raise ValueError(\"Could not find 'Abstract' or 'Keywords' in the document\")\n",
    "\n",
    "print(reference_summary)"
   ]
  },
  {
   "cell_type": "markdown",
   "metadata": {
    "id": "otp67KM_h3HE"
   },
   "source": [
    "# Generating summary with bart- without finetune"
   ]
  },
  {
   "cell_type": "code",
   "execution_count": 43,
   "metadata": {
    "colab": {
     "base_uri": "https://localhost:8080/",
     "height": 113,
     "referenced_widgets": [
      "bd49f3b139764b9492ff1cda5604b934",
      "288994821fa04a28a57aaaa095f941fe",
      "65b3569649e14bac84dda77265db33e5",
      "6550918c54e94872be9089392cb2d762",
      "53e3a0bb75ad4725b7227aa00f3b8851",
      "40db4e97cc684e30bb029ae5f85c9faa",
      "c651302cdeef4a17bf40f83d18cc596c",
      "e53bafc9675f47f3af18a3aa06a2706b",
      "81134ce01e044bfdbbeaf1a8794b7019",
      "f49e892992494f468e1e0528f2be6b4d",
      "1bc33e81b85c4e318ecce9ec59ad7432",
      "3549fafa8aa74dad8834e2a69d9b0ded",
      "ee57ad4b309c4a219826987a6afa0d6d",
      "41086f7425fb48c1b1282521b751facd",
      "125d4cc9aac443468263c1a44894f511",
      "da6376eeac8744eb8c5d0e79b8b439c1",
      "b4f93f00e5eb4dbdb353124f125f84dd",
      "143a31c889bb44f0ad514e522c010fcd",
      "411be7781c8f4e49a46768302b98f9d0",
      "e79a87b51b394215a844eb3c944617a4",
      "970b796e82fc43208d7647e264494360",
      "cdb7e6002926472d8d31afcc823a79f8",
      "deba3be41db6462c9ad1526244c7f4a7",
      "487e9511859e4147b061650c37c91dfc",
      "768685bdac694b67a68f53c2ad3a60b9",
      "1bc6aebdbb9742b6a3a714be0f1e6e5a",
      "821f46551d2f4256a1ad922f5da62cd3",
      "1e49d7fb72f24fbab89e5e6e996105d4",
      "9711e89eef1141b4bccc6b7049c881c1",
      "0d4a141d8684499dac45aac5c1f6cbaf",
      "0d740beb50d14ce8ba975ab5ff6e0609",
      "b2a59241870b4a30a1e7ca7c945d2554",
      "e9f892fd9e56475b8ed8b2d46b411494"
     ]
    },
    "executionInfo": {
     "elapsed": 149482,
     "status": "ok",
     "timestamp": 1722878232941,
     "user": {
      "displayName": "Bibek Shiwakoti",
      "userId": "12870124355518867121"
     },
     "user_tz": 240
    },
    "id": "sBSjIUediScs",
    "outputId": "88c2f3b2-4d76-442e-b218-b65b8849a154"
   },
   "outputs": [
    {
     "data": {
      "application/vnd.jupyter.widget-view+json": {
       "model_id": "bd49f3b139764b9492ff1cda5604b934",
       "version_major": 2,
       "version_minor": 0
      },
      "text/plain": [
       "vocab.json:   0%|          | 0.00/899k [00:00<?, ?B/s]"
      ]
     },
     "metadata": {},
     "output_type": "display_data"
    },
    {
     "data": {
      "application/vnd.jupyter.widget-view+json": {
       "model_id": "3549fafa8aa74dad8834e2a69d9b0ded",
       "version_major": 2,
       "version_minor": 0
      },
      "text/plain": [
       "merges.txt:   0%|          | 0.00/456k [00:00<?, ?B/s]"
      ]
     },
     "metadata": {},
     "output_type": "display_data"
    },
    {
     "data": {
      "application/vnd.jupyter.widget-view+json": {
       "model_id": "deba3be41db6462c9ad1526244c7f4a7",
       "version_major": 2,
       "version_minor": 0
      },
      "text/plain": [
       "tokenizer.json:   0%|          | 0.00/1.36M [00:00<?, ?B/s]"
      ]
     },
     "metadata": {},
     "output_type": "display_data"
    }
   ],
   "source": [
    "# from transformers import AutoTokenizer, AutoModelForSeq2SeqLM\n",
    "\n",
    "\n",
    "# Load the tokenizer and model\n",
    "\n",
    "tokenizer = AutoTokenizer.from_pretrained(\"facebook/bart-large-cnn\")\n",
    "model = AutoModelForSeq2SeqLM.from_pretrained(\"facebook/bart-large-cnn\")\n",
    "\n",
    "\n",
    "\n",
    "# Tokenize the input text\n",
    "inputs = tokenizer(text_i_str, return_tensors=\"pt\", max_length=1024, truncation=True)\n",
    "\n",
    "# Generate summary\n",
    "# here controlling the length of summary in numer of tokens\n",
    "# summary_ids = model.generate(inputs[\"input_ids\"], max_length=1500, min_length=150, do_sample=False)\n",
    "\n",
    "summary_ids = model.generate(\n",
    "    inputs[\"input_ids\"],\n",
    "    max_length=2500,\n",
    "    min_length=250,\n",
    "    do_sample=False,\n",
    "    length_penalty=1.0,  # Default value\n",
    "    repetition_penalty=1.0,  # Default value\n",
    "    early_stopping=False  # Try setting this to True or False\n",
    ")\n",
    "\n",
    "# Decode the summary\n",
    "summary_i = tokenizer.decode(summary_ids[0], skip_special_tokens=True)\n",
    "\n",
    "# print(summary_i)"
   ]
  },
  {
   "cell_type": "code",
   "execution_count": 44,
   "metadata": {
    "colab": {
     "base_uri": "https://localhost:8080/"
    },
    "executionInfo": {
     "elapsed": 7,
     "status": "ok",
     "timestamp": 1722878234063,
     "user": {
      "displayName": "Bibek Shiwakoti",
      "userId": "12870124355518867121"
     },
     "user_tz": 240
    },
    "id": "hTP1dkIsiUCL",
    "outputId": "46bb98e4-9a6f-45fb-aa14-e19b2d913bb3"
   },
   "outputs": [
    {
     "name": "stdout",
     "output_type": "stream",
     "text": [
      "Understanding Corporate Finance: Experiences of Emerging Economies andCase of a High-Income Small Developing Cou ntry. The study shows that based on the indicators of capital market development,  Trinidad and Tobago lags behind in critical areas of development. The practical implications of the study are the potential use by students in tertiary level instit utions, participants pursuing professional qualifications in accounting and finance, and general stakeholders seeking to invest funds. The value of this paper is that it ex plores and presents data on an area of stu dy which is considered esoteric and largely ignored in the formal literature on small developing states, particularly the island -states of the Caribbean. Its value further lies in its contribution to the understand ing of the field of corporate finance and related issues and identification of  implications for developing  economies. The research is limited to the extent that only secondary data sources were explored and insights from practitioners through interviews were not obtained thus pointing to scope for  future research. The paper was published in the International Journal of Management Sciences and Business Research, Vol -4, Issue 7, July -August 2015, on pages 34-36. For confidential support call the Samaritans on 08457 90 90 90, visit a local Samaritans branch or click here for details.\n"
     ]
    }
   ],
   "source": [
    "print(summary_i)"
   ]
  },
  {
   "cell_type": "code",
   "execution_count": 45,
   "metadata": {
    "executionInfo": {
     "elapsed": 1651,
     "status": "ok",
     "timestamp": 1722878257400,
     "user": {
      "displayName": "Bibek Shiwakoti",
      "userId": "12870124355518867121"
     },
     "user_tz": 240
    },
    "id": "hTqg4C7Ri6t_"
   },
   "outputs": [],
   "source": [
    "from rouge_score import rouge_scorer\n"
   ]
  },
  {
   "cell_type": "code",
   "execution_count": 54,
   "metadata": {
    "executionInfo": {
     "elapsed": 259,
     "status": "ok",
     "timestamp": 1722879370920,
     "user": {
      "displayName": "Bibek Shiwakoti",
      "userId": "12870124355518867121"
     },
     "user_tz": 240
    },
    "id": "PwlivTqci-Fg"
   },
   "outputs": [],
   "source": [
    "def calculate_accuracy(reference_summary, generated_summary, model_name):\n",
    "    generated_summary = generated_summary.replace('\\n', ' ')\n",
    "    reference_summary = reference_summary.replace('\\n', ' ')\n",
    "\n",
    "    # Initialize the ROUGE scorer\n",
    "    scorer = rouge_scorer.RougeScorer(['rouge1', 'rouge2', 'rougeL'], use_stemmer=True)\n",
    "\n",
    "    # Calculate ROUGE scores\n",
    "    scores = scorer.score(reference_summary, generated_summary)\n",
    "\n",
    "    print(f'Model name: {model_name}')\n",
    "    print(\"ROUGE-1:\", scores['rouge1'])\n",
    "    print(\"ROUGE-2:\", scores['rouge2'])\n",
    "    print(\"ROUGE-L:\", scores['rougeL'])\n",
    "\n",
    "    # Prepare the scores to return\n",
    "    return {\n",
    "        'model_name': model_name,\n",
    "        'rouge1': scores['rouge1'],\n",
    "        'rouge2': scores['rouge2'],\n",
    "        'rougeL': scores['rougeL']\n",
    "    }"
   ]
  },
  {
   "cell_type": "code",
   "execution_count": 55,
   "metadata": {
    "colab": {
     "base_uri": "https://localhost:8080/"
    },
    "executionInfo": {
     "elapsed": 305,
     "status": "ok",
     "timestamp": 1722879376406,
     "user": {
      "displayName": "Bibek Shiwakoti",
      "userId": "12870124355518867121"
     },
     "user_tz": 240
    },
    "id": "3HD_qCH-jAiU",
    "outputId": "20379600-24c3-4cf0-ace6-9e503c8144d8"
   },
   "outputs": [
    {
     "name": "stdout",
     "output_type": "stream",
     "text": [
      "Model name: BART_Normal\n",
      "ROUGE-1: Score(precision=0.8317757009345794, recall=0.714859437751004, fmeasure=0.7688984881209503)\n",
      "ROUGE-2: Score(precision=0.704225352112676, recall=0.6048387096774194, fmeasure=0.650759219088937)\n",
      "ROUGE-L: Score(precision=0.7289719626168224, recall=0.6265060240963856, fmeasure=0.673866090712743)\n"
     ]
    },
    {
     "data": {
      "text/plain": [
       "{'model_name': 'BART_Normal',\n",
       " 'rouge1': Score(precision=0.8317757009345794, recall=0.714859437751004, fmeasure=0.7688984881209503),\n",
       " 'rouge2': Score(precision=0.704225352112676, recall=0.6048387096774194, fmeasure=0.650759219088937),\n",
       " 'rougeL': Score(precision=0.7289719626168224, recall=0.6265060240963856, fmeasure=0.673866090712743)}"
      ]
     },
     "execution_count": 55,
     "metadata": {},
     "output_type": "execute_result"
    }
   ],
   "source": [
    "calculate_accuracy(reference_summary,summary_i,'BART_Normal')\n"
   ]
  },
  {
   "cell_type": "markdown",
   "metadata": {
    "id": "p3Ah6Yk_jLZl"
   },
   "source": [
    "# now using finetuned model on finance dataset"
   ]
  },
  {
   "cell_type": "code",
   "execution_count": 48,
   "metadata": {
    "executionInfo": {
     "elapsed": 11765,
     "status": "ok",
     "timestamp": 1722878347374,
     "user": {
      "displayName": "Bibek Shiwakoti",
      "userId": "12870124355518867121"
     },
     "user_tz": 240
    },
    "id": "OvXo7EuhjDZ7"
   },
   "outputs": [],
   "source": [
    "from transformers import BartTokenizer, BartForConditionalGeneration\n",
    "\n",
    "# Path to the directory where the model was saved\n",
    "model_path = './bart_finance_finetuned'  # Path where the model and tokenizer were saved\n",
    "\n",
    "# Load the model and tokenizer\n",
    "tokenizer = BartTokenizer.from_pretrained(model_path)\n",
    "model = BartForConditionalGeneration.from_pretrained(model_path)\n",
    "\n",
    "# Function to summarize text\n",
    "def summarize_text(text):\n",
    "    inputs = tokenizer(text, return_tensors='pt', max_length=1024, truncation=True)\n",
    "    summary_ids = model.generate(inputs['input_ids'], max_length=150, min_length=40, length_penalty=2.0, num_beams=4, early_stopping=True)\n",
    "    summary = tokenizer.decode(summary_ids[0], skip_special_tokens=True)\n",
    "    return summary"
   ]
  },
  {
   "cell_type": "code",
   "execution_count": 49,
   "metadata": {
    "executionInfo": {
     "elapsed": 68856,
     "status": "ok",
     "timestamp": 1722878436066,
     "user": {
      "displayName": "Bibek Shiwakoti",
      "userId": "12870124355518867121"
     },
     "user_tz": 240
    },
    "id": "dZmwV3TXjVoT"
   },
   "outputs": [],
   "source": [
    "summary_ii = summarize_text(text_i_str)"
   ]
  },
  {
   "cell_type": "code",
   "execution_count": 50,
   "metadata": {
    "colab": {
     "base_uri": "https://localhost:8080/"
    },
    "executionInfo": {
     "elapsed": 205,
     "status": "ok",
     "timestamp": 1722878451778,
     "user": {
      "displayName": "Bibek Shiwakoti",
      "userId": "12870124355518867121"
     },
     "user_tz": 240
    },
    "id": "xfg68X0PjZTF",
    "outputId": "5fa48503-c14d-4e84-f641-42b5476504f4"
   },
   "outputs": [
    {
     "name": "stdout",
     "output_type": "stream",
     "text": [
      "Understanding Corporate Finance: Experiences of Emerging Economies and the Case of a High -Income Small Developing Cou ntry,    7,262                                                    The study provides an overview of the theories, concepts and issues involved in the area of corporate finance (CF) and the implications for emerging economies. The results  of the study demonstrate that based on the indicators of capital market development,                 the high -income developing country of Trinidad and Tobago lags behind in critical areas of development o f its capital market and, along with related developing countries, can benefit fro m the fundamental principles involved in corporate finance. The practical implications of this study are the potential use by students in tert\n"
     ]
    }
   ],
   "source": [
    "print(summary_ii)"
   ]
  },
  {
   "cell_type": "code",
   "execution_count": 56,
   "metadata": {
    "colab": {
     "base_uri": "https://localhost:8080/"
    },
    "executionInfo": {
     "elapsed": 214,
     "status": "ok",
     "timestamp": 1722879388257,
     "user": {
      "displayName": "Bibek Shiwakoti",
      "userId": "12870124355518867121"
     },
     "user_tz": 240
    },
    "id": "eyA8P3g7jt6D",
    "outputId": "e85a7922-c3ad-4234-b58c-ebf279282daf"
   },
   "outputs": [
    {
     "name": "stdout",
     "output_type": "stream",
     "text": [
      "Model name: BART_finetuned_finance\n",
      "ROUGE-1: Score(precision=0.9107142857142857, recall=0.40963855421686746, fmeasure=0.5650969529085872)\n",
      "ROUGE-2: Score(precision=0.7747747747747747, recall=0.3467741935483871, fmeasure=0.4791086350974931)\n",
      "ROUGE-L: Score(precision=0.7946428571428571, recall=0.357429718875502, fmeasure=0.49307479224376727)\n"
     ]
    },
    {
     "data": {
      "text/plain": [
       "{'model_name': 'BART_finetuned_finance',\n",
       " 'rouge1': Score(precision=0.9107142857142857, recall=0.40963855421686746, fmeasure=0.5650969529085872),\n",
       " 'rouge2': Score(precision=0.7747747747747747, recall=0.3467741935483871, fmeasure=0.4791086350974931),\n",
       " 'rougeL': Score(precision=0.7946428571428571, recall=0.357429718875502, fmeasure=0.49307479224376727)}"
      ]
     },
     "execution_count": 56,
     "metadata": {},
     "output_type": "execute_result"
    }
   ],
   "source": [
    "calculate_accuracy(reference_summary,summary_ii,'BART_finetuned_finance')\n"
   ]
  },
  {
   "cell_type": "code",
   "execution_count": 64,
   "metadata": {
    "colab": {
     "base_uri": "https://localhost:8080/"
    },
    "executionInfo": {
     "elapsed": 195,
     "status": "ok",
     "timestamp": 1722880451441,
     "user": {
      "displayName": "Bibek Shiwakoti",
      "userId": "12870124355518867121"
     },
     "user_tz": 240
    },
    "id": "lkf410d0lqra",
    "outputId": "b03c9996-1974-49c8-cd32-cb6204e856ad"
   },
   "outputs": [
    {
     "name": "stdout",
     "output_type": "stream",
     "text": [
      "Model name: BART_Normal\n",
      "ROUGE-1: Score(precision=0.8317757009345794, recall=0.714859437751004, fmeasure=0.7688984881209503)\n",
      "ROUGE-2: Score(precision=0.704225352112676, recall=0.6048387096774194, fmeasure=0.650759219088937)\n",
      "ROUGE-L: Score(precision=0.7289719626168224, recall=0.6265060240963856, fmeasure=0.673866090712743)\n",
      "Model name: BART_finetuned_finance\n",
      "ROUGE-1: Score(precision=0.9107142857142857, recall=0.40963855421686746, fmeasure=0.5650969529085872)\n",
      "ROUGE-2: Score(precision=0.7747747747747747, recall=0.3467741935483871, fmeasure=0.4791086350974931)\n",
      "ROUGE-L: Score(precision=0.7946428571428571, recall=0.357429718875502, fmeasure=0.49307479224376727)\n"
     ]
    }
   ],
   "source": [
    "import matplotlib.pyplot as plt\n",
    "import seaborn as sns\n",
    "import pandas as pd\n",
    "\n",
    "# ROUGE scores for both models\n",
    "scores_normal = calculate_accuracy(reference_summary,summary_i,'BART_Normal')\n",
    "\n",
    "scores_finetuned =calculate_accuracy(reference_summary,summary_ii,'BART_finetuned_finance')\n"
   ]
  },
  {
   "cell_type": "code",
   "execution_count": 61,
   "metadata": {
    "colab": {
     "base_uri": "https://localhost:8080/",
     "height": 879
    },
    "executionInfo": {
     "elapsed": 783,
     "status": "ok",
     "timestamp": 1722880054118,
     "user": {
      "displayName": "Bibek Shiwakoti",
      "userId": "12870124355518867121"
     },
     "user_tz": 240
    },
    "id": "-zFx5ceCngk1",
    "outputId": "9dc8a1d6-d10f-4820-8529-3ceeb3b5f480"
   },
   "outputs": [
    {
     "name": "stderr",
     "output_type": "stream",
     "text": [
      "<ipython-input-61-d53b9b19d882>:24: FutureWarning: \n",
      "\n",
      "The `ci` parameter is deprecated. Use `errorbar=None` for the same effect.\n",
      "\n",
      "  sns.barplot(x='ROUGE Type', y='Score', hue='Model', data=df, ci=None, palette='muted')\n"
     ]
    },
    {
     "data": {
      "image/png": "[encoded data removed]",
      "text/plain": [
       "<Figure size 1400x800 with 1 Axes>"
      ]
     },
     "metadata": {},
     "output_type": "display_data"
    }
   ],
   "source": [
    "data = []\n",
    "for model_scores in [scores_normal, scores_finetuned]:\n",
    "    for rouge_type in ['rouge1', 'rouge2', 'rougeL']:\n",
    "        data.append({\n",
    "            'Model': model_scores['model_name'],\n",
    "            'ROUGE Type': f\"{rouge_type.upper()} Precision\",\n",
    "            'Score': model_scores[rouge_type].precision\n",
    "        })\n",
    "        data.append({\n",
    "            'Model': model_scores['model_name'],\n",
    "            'ROUGE Type': f\"{rouge_type.upper()} Recall\",\n",
    "            'Score': model_scores[rouge_type].recall\n",
    "        })\n",
    "        data.append({\n",
    "            'Model': model_scores['model_name'],\n",
    "            'ROUGE Type': f\"{rouge_type.upper()} F-measure\",\n",
    "            'Score': model_scores[rouge_type].fmeasure\n",
    "        })\n",
    "\n",
    "df = pd.DataFrame(data)\n",
    "\n",
    "# Plot the data\n",
    "plt.figure(figsize=(14, 8))\n",
    "sns.barplot(x='ROUGE Type', y='Score', hue='Model', data=df, ci=None, palette='muted')\n",
    "plt.title('ROUGE Scores Comparison: BART_Normal vs BART_finetuned_finance')\n",
    "plt.xlabel('ROUGE Type and Score Type')\n",
    "plt.ylabel('Score')\n",
    "plt.legend(title='Model')\n",
    "plt.ylim(0, 1)\n",
    "plt.xticks(rotation=45)\n",
    "plt.show()"
   ]
  },
  {
   "cell_type": "code",
   "execution_count": 66,
   "metadata": {
    "colab": {
     "base_uri": "https://localhost:8080/",
     "height": 651
    },
    "executionInfo": {
     "elapsed": 803,
     "status": "ok",
     "timestamp": 1722880671254,
     "user": {
      "displayName": "Bibek Shiwakoti",
      "userId": "12870124355518867121"
     },
     "user_tz": 240
    },
    "id": "nMwgNbCWqw6L",
    "outputId": "1ac98c30-f120-4eaf-b3be-fa51eb5876cc"
   },
   "outputs": [
    {
     "name": "stderr",
     "output_type": "stream",
     "text": [
      "<ipython-input-66-e69a87fae8bb>:16: FutureWarning: \n",
      "\n",
      "The `ci` parameter is deprecated. Use `errorbar=None` for the same effect.\n",
      "\n",
      "  sns.barplot(x='ROUGE Type', y='Score', hue='Model', data=df, ci=None, palette='muted')\n"
     ]
    },
    {
     "data": {
      "image/png": "[encoded data removed]",
      "text/plain": [
       "<Figure size 1000x600 with 1 Axes>"
      ]
     },
     "metadata": {},
     "output_type": "display_data"
    }
   ],
   "source": [
    "# Prepare data for plotting\n",
    "data = []\n",
    "for model_scores in [scores_normal, scores_finetuned]:\n",
    "    for rouge_type in ['rouge1', 'rouge2', 'rougeL']:\n",
    "        data.append({\n",
    "            'Model': model_scores['model_name'],\n",
    "            'ROUGE Type': rouge_type.upper(),\n",
    "            'Score Type': 'F-measure',\n",
    "            'Score': model_scores[rouge_type].precision\n",
    "        })\n",
    "\n",
    "df = pd.DataFrame(data)\n",
    "\n",
    "# Plot the data\n",
    "plt.figure(figsize=(10, 6))\n",
    "sns.barplot(x='ROUGE Type', y='Score', hue='Model', data=df, ci=None, palette='muted')\n",
    "plt.title('ROUGE F-measure Comparison: BART_Normal vs BART_finetuned_finance')\n",
    "plt.xlabel('ROUGE Type')\n",
    "plt.ylabel('F-measure Score')\n",
    "plt.legend(title='Model')\n",
    "plt.ylim(0, 1)\n",
    "plt.show()"
   ]
  },
  {
   "cell_type": "code",
   "execution_count": 65,
   "metadata": {
    "colab": {
     "base_uri": "https://localhost:8080/",
     "height": 651
    },
    "executionInfo": {
     "elapsed": 2697,
     "status": "ok",
     "timestamp": 1722880461210,
     "user": {
      "displayName": "Bibek Shiwakoti",
      "userId": "12870124355518867121"
     },
     "user_tz": 240
    },
    "id": "XodFs1KmrHKz",
    "outputId": "821e9d87-5e6c-4668-fdd2-d19d864d22c6"
   },
   "outputs": [
    {
     "name": "stderr",
     "output_type": "stream",
     "text": [
      "<ipython-input-65-5089a32d9885>:14: FutureWarning: \n",
      "\n",
      "The `ci` parameter is deprecated. Use `errorbar=None` for the same effect.\n",
      "\n",
      "  sns.barplot(x='ROUGE Type', y='F-measure', hue='Model', data=df, ci=None, palette='muted')\n"
     ]
    },
    {
     "data": {
      "image/png": "[encoded data removed]",
      "text/plain": [
       "<Figure size 1000x600 with 1 Axes>"
      ]
     },
     "metadata": {},
     "output_type": "display_data"
    }
   ],
   "source": [
    "data = []\n",
    "for model_scores in [scores_normal, scores_finetuned]:\n",
    "    for rouge_type in ['rouge1', 'rouge2', 'rougeL']:\n",
    "        data.append({\n",
    "            'Model': model_scores['model_name'],\n",
    "            'ROUGE Type': rouge_type.upper(),\n",
    "            'F-measure': model_scores[rouge_type].fmeasure\n",
    "        })\n",
    "\n",
    "df = pd.DataFrame(data)\n",
    "\n",
    "# Plot the data\n",
    "plt.figure(figsize=(10, 6))\n",
    "sns.barplot(x='ROUGE Type', y='F-measure', hue='Model', data=df, ci=None, palette='muted')\n",
    "plt.title('ROUGE F-measure Comparison: BART_Normal vs BART_finetuned_finance')\n",
    "plt.xlabel('ROUGE Type')\n",
    "plt.ylabel('F-measure Score')\n",
    "plt.legend(title='Model')\n",
    "plt.ylim(0, 1)\n",
    "plt.show()"
   ]
  }
 ],
 "metadata": {
  "colab": {
   "authorship_tag": "ABX9TyOWe5rjgZpq+7pLIeYkAps1",
   "provenance": []
  },
  "kernelspec": {
   "display_name": "Python 3 (ipykernel)",
   "language": "python",
   "name": "python3"
  },
  "language_info": {
   "codemirror_mode": {
    "name": "ipython",
    "version": 3
   },
   "file_extension": ".py",
   "mimetype": "text/x-python",
   "name": "python",
   "nbconvert_exporter": "python",
   "pygments_lexer": "ipython3",
   "version": "3.11.8"
  },
  "widgets": {
   "application/vnd.jupyter.widget-state+json": {
    "0088eda03834431ca5991f53c1fb0b39": {
     "model_module": "@jupyter-widgets/base",
     "model_module_version": "1.2.0",
     "model_name": "LayoutModel",
     "state": {
      "_model_module": "@jupyter-widgets/base",
      "_model_module_version": "1.2.0",
      "_model_name": "LayoutModel",
      "_view_count": null,
      "_view_module": "@jupyter-widgets/base",
      "_view_module_version": "1.2.0",
      "_view_name": "LayoutView",
      "align_content": null,
      "align_items": null,
      "align_self": null,
      "border": null,
      "bottom": null,
      "display": null,
      "flex": null,
      "flex_flow": null,
      "grid_area": null,
      "grid_auto_columns": null,
      "grid_auto_flow": null,
      "grid_auto_rows": null,
      "grid_column": null,
      "grid_gap": null,
      "grid_row": null,
      "grid_template_areas": null,
      "grid_template_columns": null,
      "grid_template_rows": null,
      "height": null,
      "justify_content": null,
      "justify_items": null,
      "left": null,
      "margin": null,
      "max_height": null,
      "max_width": null,
      "min_height": null,
      "min_width": null,
      "object_fit": null,
      "object_position": null,
      "order": null,
      "overflow": null,
      "overflow_x": null,
      "overflow_y": null,
      "padding": null,
      "right": null,
      "top": null,
      "visibility": null,
      "width": null
     }
    },
    "011ada306aa54a28a26e9d68c0ade9ee": {
     "model_module": "@jupyter-widgets/base",
     "model_module_version": "1.2.0",
     "model_name": "LayoutModel",
     "state": {
      "_model_module": "@jupyter-widgets/base",
      "_model_module_version": "1.2.0",
      "_model_name": "LayoutModel",
      "_view_count": null,
      "_view_module": "@jupyter-widgets/base",
      "_view_module_version": "1.2.0",
      "_view_name": "LayoutView",
      "align_content": null,
      "align_items": null,
      "align_self": null,
      "border": null,
      "bottom": null,
      "display": null,
      "flex": null,
      "flex_flow": null,
      "grid_area": null,
      "grid_auto_columns": null,
      "grid_auto_flow": null,
      "grid_auto_rows": null,
      "grid_column": null,
      "grid_gap": null,
      "grid_row": null,
      "grid_template_areas": null,
      "grid_template_columns": null,
      "grid_template_rows": null,
      "height": null,
      "justify_content": null,
      "justify_items": null,
      "left": null,
      "margin": null,
      "max_height": null,
      "max_width": null,
      "min_height": null,
      "min_width": null,
      "object_fit": null,
      "object_position": null,
      "order": null,
      "overflow": null,
      "overflow_x": null,
      "overflow_y": null,
      "padding": null,
      "right": null,
      "top": null,
      "visibility": null,
      "width": null
     }
    },
    "024fc633f9e44e169f083c2520786a0b": {
     "model_module": "@jupyter-widgets/base",
     "model_module_version": "1.2.0",
     "model_name": "LayoutModel",
     "state": {
      "_model_module": "@jupyter-widgets/base",
      "_model_module_version": "1.2.0",
      "_model_name": "LayoutModel",
      "_view_count": null,
      "_view_module": "@jupyter-widgets/base",
      "_view_module_version": "1.2.0",
      "_view_name": "LayoutView",
      "align_content": null,
      "align_items": null,
      "align_self": null,
      "border": null,
      "bottom": null,
      "display": null,
      "flex": null,
      "flex_flow": null,
      "grid_area": null,
      "grid_auto_columns": null,
      "grid_auto_flow": null,
      "grid_auto_rows": null,
      "grid_column": null,
      "grid_gap": null,
      "grid_row": null,
      "grid_template_areas": null,
      "grid_template_columns": null,
      "grid_template_rows": null,
      "height": null,
      "justify_content": null,
      "justify_items": null,
      "left": null,
      "margin": null,
      "max_height": null,
      "max_width": null,
      "min_height": null,
      "min_width": null,
      "object_fit": null,
      "object_position": null,
      "order": null,
      "overflow": null,
      "overflow_x": null,
      "overflow_y": null,
      "padding": null,
      "right": null,
      "top": null,
      "visibility": null,
      "width": null
     }
    },
    "05b16caed24045b9a4e294e3d63d8ebd": {
     "model_module": "@jupyter-widgets/base",
     "model_module_version": "1.2.0",
     "model_name": "LayoutModel",
     "state": {
      "_model_module": "@jupyter-widgets/base",
      "_model_module_version": "1.2.0",
      "_model_name": "LayoutModel",
      "_view_count": null,
      "_view_module": "@jupyter-widgets/base",
      "_view_module_version": "1.2.0",
      "_view_name": "LayoutView",
      "align_content": null,
      "align_items": null,
      "align_self": null,
      "border": null,
      "bottom": null,
      "display": null,
      "flex": null,
      "flex_flow": null,
      "grid_area": null,
      "grid_auto_columns": null,
      "grid_auto_flow": null,
      "grid_auto_rows": null,
      "grid_column": null,
      "grid_gap": null,
      "grid_row": null,
      "grid_template_areas": null,
      "grid_template_columns": null,
      "grid_template_rows": null,
      "height": null,
      "justify_content": null,
      "justify_items": null,
      "left": null,
      "margin": null,
      "max_height": null,
      "max_width": null,
      "min_height": null,
      "min_width": null,
      "object_fit": null,
      "object_position": null,
      "order": null,
      "overflow": null,
      "overflow_x": null,
      "overflow_y": null,
      "padding": null,
      "right": null,
      "top": null,
      "visibility": null,
      "width": null
     }
    },
    "07d41b8cd5c849ee8b4a1c29fcdd22b5": {
     "model_module": "@jupyter-widgets/controls",
     "model_module_version": "1.5.0",
     "model_name": "HTMLModel",
     "state": {
      "_dom_classes": [],
      "_model_module": "@jupyter-widgets/controls",
      "_model_module_version": "1.5.0",
      "_model_name": "HTMLModel",
      "_view_count": null,
      "_view_module": "@jupyter-widgets/controls",
      "_view_module_version": "1.5.0",
      "_view_name": "HTMLView",
      "description": "",
      "description_tooltip": null,
      "layout": "IPY_MODEL_334675de305f46d6907a4005284af529",
      "placeholder": "​",
      "style": "IPY_MODEL_9fe8e0aa46244faab6d1f97b255f39d9",
      "value": " 26.0/26.0 [00:00&lt;00:00, 733B/s]"
     }
    },
    "090279dd743047699f5dd2f95b260be3": {
     "model_module": "@jupyter-widgets/base",
     "model_module_version": "1.2.0",
     "model_name": "LayoutModel",
     "state": {
      "_model_module": "@jupyter-widgets/base",
      "_model_module_version": "1.2.0",
      "_model_name": "LayoutModel",
      "_view_count": null,
      "_view_module": "@jupyter-widgets/base",
      "_view_module_version": "1.2.0",
      "_view_name": "LayoutView",
      "align_content": null,
      "align_items": null,
      "align_self": null,
      "border": null,
      "bottom": null,
      "display": null,
      "flex": null,
      "flex_flow": null,
      "grid_area": null,
      "grid_auto_columns": null,
      "grid_auto_flow": null,
      "grid_auto_rows": null,
      "grid_column": null,
      "grid_gap": null,
      "grid_row": null,
      "grid_template_areas": null,
      "grid_template_columns": null,
      "grid_template_rows": null,
      "height": null,
      "justify_content": null,
      "justify_items": null,
      "left": null,
      "margin": null,
      "max_height": null,
      "max_width": null,
      "min_height": null,
      "min_width": null,
      "object_fit": null,
      "object_position": null,
      "order": null,
      "overflow": null,
      "overflow_x": null,
      "overflow_y": null,
      "padding": null,
      "right": null,
      "top": null,
      "visibility": null,
      "width": null
     }
    },
    "0a6de8f2305e4e1994b7726eca95cdc5": {
     "model_module": "@jupyter-widgets/controls",
     "model_module_version": "1.5.0",
     "model_name": "HTMLModel",
     "state": {
      "_dom_classes": [],
      "_model_module": "@jupyter-widgets/controls",
      "_model_module_version": "1.5.0",
      "_model_name": "HTMLModel",
      "_view_count": null,
      "_view_module": "@jupyter-widgets/controls",
      "_view_module_version": "1.5.0",
      "_view_name": "HTMLView",
      "description": "",
      "description_tooltip": null,
      "layout": "IPY_MODEL_2d72c7f05bf54c7ab8d735aeab4fbffc",
      "placeholder": "​",
      "style": "IPY_MODEL_d90a7a7bd1404325a6a25f442b6f4c03",
      "value": " 3.36G/3.36G [01:44&lt;00:00, 32.9MB/s]"
     }
    },
    "0d4a141d8684499dac45aac5c1f6cbaf": {
     "model_module": "@jupyter-widgets/base",
     "model_module_version": "1.2.0",
     "model_name": "LayoutModel",
     "state": {
      "_model_module": "@jupyter-widgets/base",
      "_model_module_version": "1.2.0",
      "_model_name": "LayoutModel",
      "_view_count": null,
      "_view_module": "@jupyter-widgets/base",
      "_view_module_version": "1.2.0",
      "_view_name": "LayoutView",
      "align_content": null,
      "align_items": null,
      "align_self": null,
      "border": null,
      "bottom": null,
      "display": null,
      "flex": null,
      "flex_flow": null,
      "grid_area": null,
      "grid_auto_columns": null,
      "grid_auto_flow": null,
      "grid_auto_rows": null,
      "grid_column": null,
      "grid_gap": null,
      "grid_row": null,
      "grid_template_areas": null,
      "grid_template_columns": null,
      "grid_template_rows": null,
      "height": null,
      "justify_content": null,
      "justify_items": null,
      "left": null,
      "margin": null,
      "max_height": null,
      "max_width": null,
      "min_height": null,
      "min_width": null,
      "object_fit": null,
      "object_position": null,
      "order": null,
      "overflow": null,
      "overflow_x": null,
      "overflow_y": null,
      "padding": null,
      "right": null,
      "top": null,
      "visibility": null,
      "width": null
     }
    },
    "0d740beb50d14ce8ba975ab5ff6e0609": {
     "model_module": "@jupyter-widgets/controls",
     "model_module_version": "1.5.0",
     "model_name": "ProgressStyleModel",
     "state": {
      "_model_module": "@jupyter-widgets/controls",
      "_model_module_version": "1.5.0",
      "_model_name": "ProgressStyleModel",
      "_view_count": null,
      "_view_module": "@jupyter-widgets/base",
      "_view_module_version": "1.2.0",
      "_view_name": "StyleView",
      "bar_color": null,
      "description_width": ""
     }
    },
    "0f07094791c249ffb0ac78356896c250": {
     "model_module": "@jupyter-widgets/controls",
     "model_module_version": "1.5.0",
     "model_name": "DescriptionStyleModel",
     "state": {
      "_model_module": "@jupyter-widgets/controls",
      "_model_module_version": "1.5.0",
      "_model_name": "DescriptionStyleModel",
      "_view_count": null,
      "_view_module": "@jupyter-widgets/base",
      "_view_module_version": "1.2.0",
      "_view_name": "StyleView",
      "description_width": ""
     }
    },
    "0fc5a352eee9475aadad16d04623c82f": {
     "model_module": "@jupyter-widgets/base",
     "model_module_version": "1.2.0",
     "model_name": "LayoutModel",
     "state": {
      "_model_module": "@jupyter-widgets/base",
      "_model_module_version": "1.2.0",
      "_model_name": "LayoutModel",
      "_view_count": null,
      "_view_module": "@jupyter-widgets/base",
      "_view_module_version": "1.2.0",
      "_view_name": "LayoutView",
      "align_content": null,
      "align_items": null,
      "align_self": null,
      "border": null,
      "bottom": null,
      "display": null,
      "flex": null,
      "flex_flow": null,
      "grid_area": null,
      "grid_auto_columns": null,
      "grid_auto_flow": null,
      "grid_auto_rows": null,
      "grid_column": null,
      "grid_gap": null,
      "grid_row": null,
      "grid_template_areas": null,
      "grid_template_columns": null,
      "grid_template_rows": null,
      "height": null,
      "justify_content": null,
      "justify_items": null,
      "left": null,
      "margin": null,
      "max_height": null,
      "max_width": null,
      "min_height": null,
      "min_width": null,
      "object_fit": null,
      "object_position": null,
      "order": null,
      "overflow": null,
      "overflow_x": null,
      "overflow_y": null,
      "padding": null,
      "right": null,
      "top": null,
      "visibility": null,
      "width": null
     }
    },
    "0ff71a97d98e4b49a1a88b0cee12fc7d": {
     "model_module": "@jupyter-widgets/controls",
     "model_module_version": "1.5.0",
     "model_name": "HTMLModel",
     "state": {
      "_dom_classes": [],
      "_model_module": "@jupyter-widgets/controls",
      "_model_module_version": "1.5.0",
      "_model_name": "HTMLModel",
      "_view_count": null,
      "_view_module": "@jupyter-widgets/controls",
      "_view_module_version": "1.5.0",
      "_view_name": "HTMLView",
      "description": "",
      "description_tooltip": null,
      "layout": "IPY_MODEL_e8ff9a95c7be4ec6bcab15ea0e91e589",
      "placeholder": "​",
      "style": "IPY_MODEL_f80283bff2a74bc29dd0c31db2078f12",
      "value": " 456k/456k [00:00&lt;00:00, 11.8MB/s]"
     }
    },
    "110b88bb682541ef9204ceefbd217143": {
     "model_module": "@jupyter-widgets/controls",
     "model_module_version": "1.5.0",
     "model_name": "HTMLModel",
     "state": {
      "_dom_classes": [],
      "_model_module": "@jupyter-widgets/controls",
      "_model_module_version": "1.5.0",
      "_model_name": "HTMLModel",
      "_view_count": null,
      "_view_module": "@jupyter-widgets/controls",
      "_view_module_version": "1.5.0",
      "_view_name": "HTMLView",
      "description": "",
      "description_tooltip": null,
      "layout": "IPY_MODEL_05b16caed24045b9a4e294e3d63d8ebd",
      "placeholder": "​",
      "style": "IPY_MODEL_f37888404ee048a3b4015e7eeedfed8e",
      "value": "vocab.json: 100%"
     }
    },
    "11a7e5a355dd419186037c9abaf9e768": {
     "model_module": "@jupyter-widgets/base",
     "model_module_version": "1.2.0",
     "model_name": "LayoutModel",
     "state": {
      "_model_module": "@jupyter-widgets/base",
      "_model_module_version": "1.2.0",
      "_model_name": "LayoutModel",
      "_view_count": null,
      "_view_module": "@jupyter-widgets/base",
      "_view_module_version": "1.2.0",
      "_view_name": "LayoutView",
      "align_content": null,
      "align_items": null,
      "align_self": null,
      "border": null,
      "bottom": null,
      "display": null,
      "flex": null,
      "flex_flow": null,
      "grid_area": null,
      "grid_auto_columns": null,
      "grid_auto_flow": null,
      "grid_auto_rows": null,
      "grid_column": null,
      "grid_gap": null,
      "grid_row": null,
      "grid_template_areas": null,
      "grid_template_columns": null,
      "grid_template_rows": null,
      "height": null,
      "justify_content": null,
      "justify_items": null,
      "left": null,
      "margin": null,
      "max_height": null,
      "max_width": null,
      "min_height": null,
      "min_width": null,
      "object_fit": null,
      "object_position": null,
      "order": null,
      "overflow": null,
      "overflow_x": null,
      "overflow_y": null,
      "padding": null,
      "right": null,
      "top": null,
      "visibility": null,
      "width": null
     }
    },
    "125d4cc9aac443468263c1a44894f511": {
     "model_module": "@jupyter-widgets/controls",
     "model_module_version": "1.5.0",
     "model_name": "HTMLModel",
     "state": {
      "_dom_classes": [],
      "_model_module": "@jupyter-widgets/controls",
      "_model_module_version": "1.5.0",
      "_model_name": "HTMLModel",
      "_view_count": null,
      "_view_module": "@jupyter-widgets/controls",
      "_view_module_version": "1.5.0",
      "_view_name": "HTMLView",
      "description": "",
      "description_tooltip": null,
      "layout": "IPY_MODEL_970b796e82fc43208d7647e264494360",
      "placeholder": "​",
      "style": "IPY_MODEL_cdb7e6002926472d8d31afcc823a79f8",
      "value": " 456k/456k [00:00&lt;00:00, 6.85MB/s]"
     }
    },
    "129a990847c94841a9a5d9b4ded02fe2": {
     "model_module": "@jupyter-widgets/controls",
     "model_module_version": "1.5.0",
     "model_name": "HTMLModel",
     "state": {
      "_dom_classes": [],
      "_model_module": "@jupyter-widgets/controls",
      "_model_module_version": "1.5.0",
      "_model_name": "HTMLModel",
      "_view_count": null,
      "_view_module": "@jupyter-widgets/controls",
      "_view_module_version": "1.5.0",
      "_view_name": "HTMLView",
      "description": "",
      "description_tooltip": null,
      "layout": "IPY_MODEL_ae04afa080ad4792bd269724c5f098bd",
      "placeholder": "​",
      "style": "IPY_MODEL_0f07094791c249ffb0ac78356896c250",
      "value": "Generating train split: "
     }
    },
    "13b6a858c0c84fe19a30c9945bf7fb77": {
     "model_module": "@jupyter-widgets/controls",
     "model_module_version": "1.5.0",
     "model_name": "HTMLModel",
     "state": {
      "_dom_classes": [],
      "_model_module": "@jupyter-widgets/controls",
      "_model_module_version": "1.5.0",
      "_model_name": "HTMLModel",
      "_view_count": null,
      "_view_module": "@jupyter-widgets/controls",
      "_view_module_version": "1.5.0",
      "_view_name": "HTMLView",
      "description": "",
      "description_tooltip": null,
      "layout": "IPY_MODEL_7ab674685efb4ae5b76a3ce2de7a9903",
      "placeholder": "​",
      "style": "IPY_MODEL_723339e6289340b9bde07a621fc54241",
      "value": " 1.63G/1.63G [00:07&lt;00:00, 228MB/s]"
     }
    },
    "13eb930bf7dc49529dcff9faa6a9cc35": {
     "model_module": "@jupyter-widgets/controls",
     "model_module_version": "1.5.0",
     "model_name": "HBoxModel",
     "state": {
      "_dom_classes": [],
      "_model_module": "@jupyter-widgets/controls",
      "_model_module_version": "1.5.0",
      "_model_name": "HBoxModel",
      "_view_count": null,
      "_view_module": "@jupyter-widgets/controls",
      "_view_module_version": "1.5.0",
      "_view_name": "HBoxView",
      "box_style": "",
      "children": [
       "IPY_MODEL_5cc368571072479f986b3dc9d0d761f0",
       "IPY_MODEL_6ca1233051924b8f96ffe57d404b59b1",
       "IPY_MODEL_2f162d822f0e4535824e93750e47207d"
      ],
      "layout": "IPY_MODEL_67c4bea40df6448d9e418c8846012563"
     }
    },
    "143a31c889bb44f0ad514e522c010fcd": {
     "model_module": "@jupyter-widgets/controls",
     "model_module_version": "1.5.0",
     "model_name": "DescriptionStyleModel",
     "state": {
      "_model_module": "@jupyter-widgets/controls",
      "_model_module_version": "1.5.0",
      "_model_name": "DescriptionStyleModel",
      "_view_count": null,
      "_view_module": "@jupyter-widgets/base",
      "_view_module_version": "1.2.0",
      "_view_name": "StyleView",
      "description_width": ""
     }
    },
    "15d0b1a4f76a4435a6f26952f68769f9": {
     "model_module": "@jupyter-widgets/base",
     "model_module_version": "1.2.0",
     "model_name": "LayoutModel",
     "state": {
      "_model_module": "@jupyter-widgets/base",
      "_model_module_version": "1.2.0",
      "_model_name": "LayoutModel",
      "_view_count": null,
      "_view_module": "@jupyter-widgets/base",
      "_view_module_version": "1.2.0",
      "_view_name": "LayoutView",
      "align_content": null,
      "align_items": null,
      "align_self": null,
      "border": null,
      "bottom": null,
      "display": null,
      "flex": null,
      "flex_flow": null,
      "grid_area": null,
      "grid_auto_columns": null,
      "grid_auto_flow": null,
      "grid_auto_rows": null,
      "grid_column": null,
      "grid_gap": null,
      "grid_row": null,
      "grid_template_areas": null,
      "grid_template_columns": null,
      "grid_template_rows": null,
      "height": null,
      "justify_content": null,
      "justify_items": null,
      "left": null,
      "margin": null,
      "max_height": null,
      "max_width": null,
      "min_height": null,
      "min_width": null,
      "object_fit": null,
      "object_position": null,
      "order": null,
      "overflow": null,
      "overflow_x": null,
      "overflow_y": null,
      "padding": null,
      "right": null,
      "top": null,
      "visibility": null,
      "width": null
     }
    },
    "16fe66cb04e54dc597ae3648fd70e39a": {
     "model_module": "@jupyter-widgets/base",
     "model_module_version": "1.2.0",
     "model_name": "LayoutModel",
     "state": {
      "_model_module": "@jupyter-widgets/base",
      "_model_module_version": "1.2.0",
      "_model_name": "LayoutModel",
      "_view_count": null,
      "_view_module": "@jupyter-widgets/base",
      "_view_module_version": "1.2.0",
      "_view_name": "LayoutView",
      "align_content": null,
      "align_items": null,
      "align_self": null,
      "border": null,
      "bottom": null,
      "display": null,
      "flex": null,
      "flex_flow": null,
      "grid_area": null,
      "grid_auto_columns": null,
      "grid_auto_flow": null,
      "grid_auto_rows": null,
      "grid_column": null,
      "grid_gap": null,
      "grid_row": null,
      "grid_template_areas": null,
      "grid_template_columns": null,
      "grid_template_rows": null,
      "height": null,
      "justify_content": null,
      "justify_items": null,
      "left": null,
      "margin": null,
      "max_height": null,
      "max_width": null,
      "min_height": null,
      "min_width": null,
      "object_fit": null,
      "object_position": null,
      "order": null,
      "overflow": null,
      "overflow_x": null,
      "overflow_y": null,
      "padding": null,
      "right": null,
      "top": null,
      "visibility": null,
      "width": null
     }
    },
    "1805e19538364df1bf01de4a24537aae": {
     "model_module": "@jupyter-widgets/base",
     "model_module_version": "1.2.0",
     "model_name": "LayoutModel",
     "state": {
      "_model_module": "@jupyter-widgets/base",
      "_model_module_version": "1.2.0",
      "_model_name": "LayoutModel",
      "_view_count": null,
      "_view_module": "@jupyter-widgets/base",
      "_view_module_version": "1.2.0",
      "_view_name": "LayoutView",
      "align_content": null,
      "align_items": null,
      "align_self": null,
      "border": null,
      "bottom": null,
      "display": null,
      "flex": null,
      "flex_flow": null,
      "grid_area": null,
      "grid_auto_columns": null,
      "grid_auto_flow": null,
      "grid_auto_rows": null,
      "grid_column": null,
      "grid_gap": null,
      "grid_row": null,
      "grid_template_areas": null,
      "grid_template_columns": null,
      "grid_template_rows": null,
      "height": null,
      "justify_content": null,
      "justify_items": null,
      "left": null,
      "margin": null,
      "max_height": null,
      "max_width": null,
      "min_height": null,
      "min_width": null,
      "object_fit": null,
      "object_position": null,
      "order": null,
      "overflow": null,
      "overflow_x": null,
      "overflow_y": null,
      "padding": null,
      "right": null,
      "top": null,
      "visibility": null,
      "width": null
     }
    },
    "1bc33e81b85c4e318ecce9ec59ad7432": {
     "model_module": "@jupyter-widgets/controls",
     "model_module_version": "1.5.0",
     "model_name": "DescriptionStyleModel",
     "state": {
      "_model_module": "@jupyter-widgets/controls",
      "_model_module_version": "1.5.0",
      "_model_name": "DescriptionStyleModel",
      "_view_count": null,
      "_view_module": "@jupyter-widgets/base",
      "_view_module_version": "1.2.0",
      "_view_name": "StyleView",
      "description_width": ""
     }
    },
    "1bc6aebdbb9742b6a3a714be0f1e6e5a": {
     "model_module": "@jupyter-widgets/controls",
     "model_module_version": "1.5.0",
     "model_name": "HTMLModel",
     "state": {
      "_dom_classes": [],
      "_model_module": "@jupyter-widgets/controls",
      "_model_module_version": "1.5.0",
      "_model_name": "HTMLModel",
      "_view_count": null,
      "_view_module": "@jupyter-widgets/controls",
      "_view_module_version": "1.5.0",
      "_view_name": "HTMLView",
      "description": "",
      "description_tooltip": null,
      "layout": "IPY_MODEL_b2a59241870b4a30a1e7ca7c945d2554",
      "placeholder": "​",
      "style": "IPY_MODEL_e9f892fd9e56475b8ed8b2d46b411494",
      "value": " 1.36M/1.36M [00:00&lt;00:00, 22.9MB/s]"
     }
    },
    "1c2d3215a1054ec381c9e5ab39b705df": {
     "model_module": "@jupyter-widgets/controls",
     "model_module_version": "1.5.0",
     "model_name": "HBoxModel",
     "state": {
      "_dom_classes": [],
      "_model_module": "@jupyter-widgets/controls",
      "_model_module_version": "1.5.0",
      "_model_name": "HBoxModel",
      "_view_count": null,
      "_view_module": "@jupyter-widgets/controls",
      "_view_module_version": "1.5.0",
      "_view_name": "HBoxView",
      "box_style": "",
      "children": [
       "IPY_MODEL_342aba89843544a1bc3202219d627f95",
       "IPY_MODEL_97f4e847c79841078ea773b7d71f6226",
       "IPY_MODEL_dd1b7e101bb841a199dd4842110a5fb6"
      ],
      "layout": "IPY_MODEL_20058ab3d7054ab6ad56431cbc39a5f4"
     }
    },
    "1ccf21b1072342e5a0dda01e835947a8": {
     "model_module": "@jupyter-widgets/base",
     "model_module_version": "1.2.0",
     "model_name": "LayoutModel",
     "state": {
      "_model_module": "@jupyter-widgets/base",
      "_model_module_version": "1.2.0",
      "_model_name": "LayoutModel",
      "_view_count": null,
      "_view_module": "@jupyter-widgets/base",
      "_view_module_version": "1.2.0",
      "_view_name": "LayoutView",
      "align_content": null,
      "align_items": null,
      "align_self": null,
      "border": null,
      "bottom": null,
      "display": null,
      "flex": null,
      "flex_flow": null,
      "grid_area": null,
      "grid_auto_columns": null,
      "grid_auto_flow": null,
      "grid_auto_rows": null,
      "grid_column": null,
      "grid_gap": null,
      "grid_row": null,
      "grid_template_areas": null,
      "grid_template_columns": null,
      "grid_template_rows": null,
      "height": null,
      "justify_content": null,
      "justify_items": null,
      "left": null,
      "margin": null,
      "max_height": null,
      "max_width": null,
      "min_height": null,
      "min_width": null,
      "object_fit": null,
      "object_position": null,
      "order": null,
      "overflow": null,
      "overflow_x": null,
      "overflow_y": null,
      "padding": null,
      "right": null,
      "top": null,
      "visibility": null,
      "width": null
     }
    },
    "1da0e5b8e2d14f6bbf1c926db16a2b45": {
     "model_module": "@jupyter-widgets/controls",
     "model_module_version": "1.5.0",
     "model_name": "FloatProgressModel",
     "state": {
      "_dom_classes": [],
      "_model_module": "@jupyter-widgets/controls",
      "_model_module_version": "1.5.0",
      "_model_name": "FloatProgressModel",
      "_view_count": null,
      "_view_module": "@jupyter-widgets/controls",
      "_view_module_version": "1.5.0",
      "_view_name": "ProgressView",
      "bar_style": "success",
      "description": "",
      "description_tooltip": null,
      "layout": "IPY_MODEL_645fcf975614466a86126c0685bc6ae1",
      "max": 6436,
      "min": 0,
      "orientation": "horizontal",
      "style": "IPY_MODEL_51375bdb9b104ff18f1681ddf472d85a",
      "value": 6436
     }
    },
    "1da40fc1e1834c24a77ee6e2ef8ece5e": {
     "model_module": "@jupyter-widgets/base",
     "model_module_version": "1.2.0",
     "model_name": "LayoutModel",
     "state": {
      "_model_module": "@jupyter-widgets/base",
      "_model_module_version": "1.2.0",
      "_model_name": "LayoutModel",
      "_view_count": null,
      "_view_module": "@jupyter-widgets/base",
      "_view_module_version": "1.2.0",
      "_view_name": "LayoutView",
      "align_content": null,
      "align_items": null,
      "align_self": null,
      "border": null,
      "bottom": null,
      "display": null,
      "flex": null,
      "flex_flow": null,
      "grid_area": null,
      "grid_auto_columns": null,
      "grid_auto_flow": null,
      "grid_auto_rows": null,
      "grid_column": null,
      "grid_gap": null,
      "grid_row": null,
      "grid_template_areas": null,
      "grid_template_columns": null,
      "grid_template_rows": null,
      "height": null,
      "justify_content": null,
      "justify_items": null,
      "left": null,
      "margin": null,
      "max_height": null,
      "max_width": null,
      "min_height": null,
      "min_width": null,
      "object_fit": null,
      "object_position": null,
      "order": null,
      "overflow": null,
      "overflow_x": null,
      "overflow_y": null,
      "padding": null,
      "right": null,
      "top": null,
      "visibility": null,
      "width": null
     }
    },
    "1e49d7fb72f24fbab89e5e6e996105d4": {
     "model_module": "@jupyter-widgets/base",
     "model_module_version": "1.2.0",
     "model_name": "LayoutModel",
     "state": {
      "_model_module": "@jupyter-widgets/base",
      "_model_module_version": "1.2.0",
      "_model_name": "LayoutModel",
      "_view_count": null,
      "_view_module": "@jupyter-widgets/base",
      "_view_module_version": "1.2.0",
      "_view_name": "LayoutView",
      "align_content": null,
      "align_items": null,
      "align_self": null,
      "border": null,
      "bottom": null,
      "display": null,
      "flex": null,
      "flex_flow": null,
      "grid_area": null,
      "grid_auto_columns": null,
      "grid_auto_flow": null,
      "grid_auto_rows": null,
      "grid_column": null,
      "grid_gap": null,
      "grid_row": null,
      "grid_template_areas": null,
      "grid_template_columns": null,
      "grid_template_rows": null,
      "height": null,
      "justify_content": null,
      "justify_items": null,
      "left": null,
      "margin": null,
      "max_height": null,
      "max_width": null,
      "min_height": null,
      "min_width": null,
      "object_fit": null,
      "object_position": null,
      "order": null,
      "overflow": null,
      "overflow_x": null,
      "overflow_y": null,
      "padding": null,
      "right": null,
      "top": null,
      "visibility": null,
      "width": null
     }
    },
    "1e6f30e03075465eac88fd4bd0e81295": {
     "model_module": "@jupyter-widgets/controls",
     "model_module_version": "1.5.0",
     "model_name": "DescriptionStyleModel",
     "state": {
      "_model_module": "@jupyter-widgets/controls",
      "_model_module_version": "1.5.0",
      "_model_name": "DescriptionStyleModel",
      "_view_count": null,
      "_view_module": "@jupyter-widgets/base",
      "_view_module_version": "1.2.0",
      "_view_name": "StyleView",
      "description_width": ""
     }
    },
    "20058ab3d7054ab6ad56431cbc39a5f4": {
     "model_module": "@jupyter-widgets/base",
     "model_module_version": "1.2.0",
     "model_name": "LayoutModel",
     "state": {
      "_model_module": "@jupyter-widgets/base",
      "_model_module_version": "1.2.0",
      "_model_name": "LayoutModel",
      "_view_count": null,
      "_view_module": "@jupyter-widgets/base",
      "_view_module_version": "1.2.0",
      "_view_name": "LayoutView",
      "align_content": null,
      "align_items": null,
      "align_self": null,
      "border": null,
      "bottom": null,
      "display": null,
      "flex": null,
      "flex_flow": null,
      "grid_area": null,
      "grid_auto_columns": null,
      "grid_auto_flow": null,
      "grid_auto_rows": null,
      "grid_column": null,
      "grid_gap": null,
      "grid_row": null,
      "grid_template_areas": null,
      "grid_template_columns": null,
      "grid_template_rows": null,
      "height": null,
      "justify_content": null,
      "justify_items": null,
      "left": null,
      "margin": null,
      "max_height": null,
      "max_width": null,
      "min_height": null,
      "min_width": null,
      "object_fit": null,
      "object_position": null,
      "order": null,
      "overflow": null,
      "overflow_x": null,
      "overflow_y": null,
      "padding": null,
      "right": null,
      "top": null,
      "visibility": null,
      "width": null
     }
    },
    "214a36b13f69450a9779ab958d2413b5": {
     "model_module": "@jupyter-widgets/controls",
     "model_module_version": "1.5.0",
     "model_name": "HTMLModel",
     "state": {
      "_dom_classes": [],
      "_model_module": "@jupyter-widgets/controls",
      "_model_module_version": "1.5.0",
      "_model_name": "HTMLModel",
      "_view_count": null,
      "_view_module": "@jupyter-widgets/controls",
      "_view_module_version": "1.5.0",
      "_view_name": "HTMLView",
      "description": "",
      "description_tooltip": null,
      "layout": "IPY_MODEL_0088eda03834431ca5991f53c1fb0b39",
      "placeholder": "​",
      "style": "IPY_MODEL_5cbef7203f7744119072b334ef28f3d6",
      "value": "Downloading data: 100%"
     }
    },
    "21a68d6494d84806a0183cb6c5be60a3": {
     "model_module": "@jupyter-widgets/base",
     "model_module_version": "1.2.0",
     "model_name": "LayoutModel",
     "state": {
      "_model_module": "@jupyter-widgets/base",
      "_model_module_version": "1.2.0",
      "_model_name": "LayoutModel",
      "_view_count": null,
      "_view_module": "@jupyter-widgets/base",
      "_view_module_version": "1.2.0",
      "_view_name": "LayoutView",
      "align_content": null,
      "align_items": null,
      "align_self": null,
      "border": null,
      "bottom": null,
      "display": null,
      "flex": null,
      "flex_flow": null,
      "grid_area": null,
      "grid_auto_columns": null,
      "grid_auto_flow": null,
      "grid_auto_rows": null,
      "grid_column": null,
      "grid_gap": null,
      "grid_row": null,
      "grid_template_areas": null,
      "grid_template_columns": null,
      "grid_template_rows": null,
      "height": null,
      "justify_content": null,
      "justify_items": null,
      "left": null,
      "margin": null,
      "max_height": null,
      "max_width": null,
      "min_height": null,
      "min_width": null,
      "object_fit": null,
      "object_position": null,
      "order": null,
      "overflow": null,
      "overflow_x": null,
      "overflow_y": null,
      "padding": null,
      "right": null,
      "top": null,
      "visibility": null,
      "width": null
     }
    },
    "21a9f679cf6c4dbeb1e5d9e6dfb0beef": {
     "model_module": "@jupyter-widgets/controls",
     "model_module_version": "1.5.0",
     "model_name": "FloatProgressModel",
     "state": {
      "_dom_classes": [],
      "_model_module": "@jupyter-widgets/controls",
      "_model_module_version": "1.5.0",
      "_model_name": "FloatProgressModel",
      "_view_count": null,
      "_view_module": "@jupyter-widgets/controls",
      "_view_module_version": "1.5.0",
      "_view_name": "ProgressView",
      "bar_style": "success",
      "description": "",
      "description_tooltip": null,
      "layout": "IPY_MODEL_1ccf21b1072342e5a0dda01e835947a8",
      "max": 10,
      "min": 0,
      "orientation": "horizontal",
      "style": "IPY_MODEL_da035ba8d99c4c20bb2aa5872a98ad5d",
      "value": 10
     }
    },
    "234561d85d354a44be299afc6ba0cf5a": {
     "model_module": "@jupyter-widgets/controls",
     "model_module_version": "1.5.0",
     "model_name": "ProgressStyleModel",
     "state": {
      "_model_module": "@jupyter-widgets/controls",
      "_model_module_version": "1.5.0",
      "_model_name": "ProgressStyleModel",
      "_view_count": null,
      "_view_module": "@jupyter-widgets/base",
      "_view_module_version": "1.2.0",
      "_view_name": "StyleView",
      "bar_color": null,
      "description_width": ""
     }
    },
    "2562a4f314e74bda8ccf47e9d44c0076": {
     "model_module": "@jupyter-widgets/base",
     "model_module_version": "1.2.0",
     "model_name": "LayoutModel",
     "state": {
      "_model_module": "@jupyter-widgets/base",
      "_model_module_version": "1.2.0",
      "_model_name": "LayoutModel",
      "_view_count": null,
      "_view_module": "@jupyter-widgets/base",
      "_view_module_version": "1.2.0",
      "_view_name": "LayoutView",
      "align_content": null,
      "align_items": null,
      "align_self": null,
      "border": null,
      "bottom": null,
      "display": null,
      "flex": null,
      "flex_flow": null,
      "grid_area": null,
      "grid_auto_columns": null,
      "grid_auto_flow": null,
      "grid_auto_rows": null,
      "grid_column": null,
      "grid_gap": null,
      "grid_row": null,
      "grid_template_areas": null,
      "grid_template_columns": null,
      "grid_template_rows": null,
      "height": null,
      "justify_content": null,
      "justify_items": null,
      "left": null,
      "margin": null,
      "max_height": null,
      "max_width": null,
      "min_height": null,
      "min_width": null,
      "object_fit": null,
      "object_position": null,
      "order": null,
      "overflow": null,
      "overflow_x": null,
      "overflow_y": null,
      "padding": null,
      "right": null,
      "top": null,
      "visibility": null,
      "width": null
     }
    },
    "275862e04a7c408585f802bd3edc244a": {
     "model_module": "@jupyter-widgets/controls",
     "model_module_version": "1.5.0",
     "model_name": "ProgressStyleModel",
     "state": {
      "_model_module": "@jupyter-widgets/controls",
      "_model_module_version": "1.5.0",
      "_model_name": "ProgressStyleModel",
      "_view_count": null,
      "_view_module": "@jupyter-widgets/base",
      "_view_module_version": "1.2.0",
      "_view_name": "StyleView",
      "bar_color": null,
      "description_width": ""
     }
    },
    "288994821fa04a28a57aaaa095f941fe": {
     "model_module": "@jupyter-widgets/controls",
     "model_module_version": "1.5.0",
     "model_name": "HTMLModel",
     "state": {
      "_dom_classes": [],
      "_model_module": "@jupyter-widgets/controls",
      "_model_module_version": "1.5.0",
      "_model_name": "HTMLModel",
      "_view_count": null,
      "_view_module": "@jupyter-widgets/controls",
      "_view_module_version": "1.5.0",
      "_view_name": "HTMLView",
      "description": "",
      "description_tooltip": null,
      "layout": "IPY_MODEL_40db4e97cc684e30bb029ae5f85c9faa",
      "placeholder": "​",
      "style": "IPY_MODEL_c651302cdeef4a17bf40f83d18cc596c",
      "value": "vocab.json: 100%"
     }
    },
    "28ea50bc0d1048d9905ad9cd2b3765b3": {
     "model_module": "@jupyter-widgets/controls",
     "model_module_version": "1.5.0",
     "model_name": "DescriptionStyleModel",
     "state": {
      "_model_module": "@jupyter-widgets/controls",
      "_model_module_version": "1.5.0",
      "_model_name": "DescriptionStyleModel",
      "_view_count": null,
      "_view_module": "@jupyter-widgets/base",
      "_view_module_version": "1.2.0",
      "_view_name": "StyleView",
      "description_width": ""
     }
    },
    "29c26a7c44004731a729abede98644c0": {
     "model_module": "@jupyter-widgets/base",
     "model_module_version": "1.2.0",
     "model_name": "LayoutModel",
     "state": {
      "_model_module": "@jupyter-widgets/base",
      "_model_module_version": "1.2.0",
      "_model_name": "LayoutModel",
      "_view_count": null,
      "_view_module": "@jupyter-widgets/base",
      "_view_module_version": "1.2.0",
      "_view_name": "LayoutView",
      "align_content": null,
      "align_items": null,
      "align_self": null,
      "border": null,
      "bottom": null,
      "display": null,
      "flex": null,
      "flex_flow": null,
      "grid_area": null,
      "grid_auto_columns": null,
      "grid_auto_flow": null,
      "grid_auto_rows": null,
      "grid_column": null,
      "grid_gap": null,
      "grid_row": null,
      "grid_template_areas": null,
      "grid_template_columns": null,
      "grid_template_rows": null,
      "height": null,
      "justify_content": null,
      "justify_items": null,
      "left": null,
      "margin": null,
      "max_height": null,
      "max_width": null,
      "min_height": null,
      "min_width": null,
      "object_fit": null,
      "object_position": null,
      "order": null,
      "overflow": null,
      "overflow_x": null,
      "overflow_y": null,
      "padding": null,
      "right": null,
      "top": null,
      "visibility": null,
      "width": null
     }
    },
    "2d4b9f55b97c47e3a9fe130ca9f06bd1": {
     "model_module": "@jupyter-widgets/controls",
     "model_module_version": "1.5.0",
     "model_name": "DescriptionStyleModel",
     "state": {
      "_model_module": "@jupyter-widgets/controls",
      "_model_module_version": "1.5.0",
      "_model_name": "DescriptionStyleModel",
      "_view_count": null,
      "_view_module": "@jupyter-widgets/base",
      "_view_module_version": "1.2.0",
      "_view_name": "StyleView",
      "description_width": ""
     }
    },
    "2d72c7f05bf54c7ab8d735aeab4fbffc": {
     "model_module": "@jupyter-widgets/base",
     "model_module_version": "1.2.0",
     "model_name": "LayoutModel",
     "state": {
      "_model_module": "@jupyter-widgets/base",
      "_model_module_version": "1.2.0",
      "_model_name": "LayoutModel",
      "_view_count": null,
      "_view_module": "@jupyter-widgets/base",
      "_view_module_version": "1.2.0",
      "_view_name": "LayoutView",
      "align_content": null,
      "align_items": null,
      "align_self": null,
      "border": null,
      "bottom": null,
      "display": null,
      "flex": null,
      "flex_flow": null,
      "grid_area": null,
      "grid_auto_columns": null,
      "grid_auto_flow": null,
      "grid_auto_rows": null,
      "grid_column": null,
      "grid_gap": null,
      "grid_row": null,
      "grid_template_areas": null,
      "grid_template_columns": null,
      "grid_template_rows": null,
      "height": null,
      "justify_content": null,
      "justify_items": null,
      "left": null,
      "margin": null,
      "max_height": null,
      "max_width": null,
      "min_height": null,
      "min_width": null,
      "object_fit": null,
      "object_position": null,
      "order": null,
      "overflow": null,
      "overflow_x": null,
      "overflow_y": null,
      "padding": null,
      "right": null,
      "top": null,
      "visibility": null,
      "width": null
     }
    },
    "2db9fb1c8f9f4dd98bca3fed3bf47f8b": {
     "model_module": "@jupyter-widgets/controls",
     "model_module_version": "1.5.0",
     "model_name": "FloatProgressModel",
     "state": {
      "_dom_classes": [],
      "_model_module": "@jupyter-widgets/controls",
      "_model_module_version": "1.5.0",
      "_model_name": "FloatProgressModel",
      "_view_count": null,
      "_view_module": "@jupyter-widgets/controls",
      "_view_module_version": "1.5.0",
      "_view_name": "ProgressView",
      "bar_style": "success",
      "description": "",
      "description_tooltip": null,
      "layout": "IPY_MODEL_b968b0ee0e524728a579bfeb263a87b9",
      "max": 1625222120,
      "min": 0,
      "orientation": "horizontal",
      "style": "IPY_MODEL_a8301d7511bb4649942de5b977a03caf",
      "value": 1625222120
     }
    },
    "2e9fa1e7431d42c9a465c229be34abb8": {
     "model_module": "@jupyter-widgets/controls",
     "model_module_version": "1.5.0",
     "model_name": "ProgressStyleModel",
     "state": {
      "_model_module": "@jupyter-widgets/controls",
      "_model_module_version": "1.5.0",
      "_model_name": "ProgressStyleModel",
      "_view_count": null,
      "_view_module": "@jupyter-widgets/base",
      "_view_module_version": "1.2.0",
      "_view_name": "StyleView",
      "bar_color": null,
      "description_width": ""
     }
    },
    "2f162d822f0e4535824e93750e47207d": {
     "model_module": "@jupyter-widgets/controls",
     "model_module_version": "1.5.0",
     "model_name": "HTMLModel",
     "state": {
      "_dom_classes": [],
      "_model_module": "@jupyter-widgets/controls",
      "_model_module_version": "1.5.0",
      "_model_name": "HTMLModel",
      "_view_count": null,
      "_view_module": "@jupyter-widgets/controls",
      "_view_module_version": "1.5.0",
      "_view_name": "HTMLView",
      "description": "",
      "description_tooltip": null,
      "layout": "IPY_MODEL_011ada306aa54a28a26e9d68c0ade9ee",
      "placeholder": "​",
      "style": "IPY_MODEL_95d0f04251e64639b6506df803ba3383",
      "value": " 1.36M/1.36M [00:00&lt;00:00, 4.37MB/s]"
     }
    },
    "2fff3b108994441a8b346d0363aa758c": {
     "model_module": "@jupyter-widgets/controls",
     "model_module_version": "1.5.0",
     "model_name": "FloatProgressModel",
     "state": {
      "_dom_classes": [],
      "_model_module": "@jupyter-widgets/controls",
      "_model_module_version": "1.5.0",
      "_model_name": "FloatProgressModel",
      "_view_count": null,
      "_view_module": "@jupyter-widgets/controls",
      "_view_module_version": "1.5.0",
      "_view_name": "ProgressView",
      "bar_style": "success",
      "description": "",
      "description_tooltip": null,
      "layout": "IPY_MODEL_693a1bffdffe4c72beb79518366958bd",
      "max": 3364100438,
      "min": 0,
      "orientation": "horizontal",
      "style": "IPY_MODEL_8dad8255d2484844b44c3d1eb5fdcc78",
      "value": 3364100438
     }
    },
    "3023664697ad4a4ca3457b159fe24161": {
     "model_module": "@jupyter-widgets/controls",
     "model_module_version": "1.5.0",
     "model_name": "ProgressStyleModel",
     "state": {
      "_model_module": "@jupyter-widgets/controls",
      "_model_module_version": "1.5.0",
      "_model_name": "ProgressStyleModel",
      "_view_count": null,
      "_view_module": "@jupyter-widgets/base",
      "_view_module_version": "1.2.0",
      "_view_name": "StyleView",
      "bar_color": null,
      "description_width": ""
     }
    },
    "30bd54742dc340cd97292d30b2eec641": {
     "model_module": "@jupyter-widgets/controls",
     "model_module_version": "1.5.0",
     "model_name": "ProgressStyleModel",
     "state": {
      "_model_module": "@jupyter-widgets/controls",
      "_model_module_version": "1.5.0",
      "_model_name": "ProgressStyleModel",
      "_view_count": null,
      "_view_module": "@jupyter-widgets/base",
      "_view_module_version": "1.2.0",
      "_view_name": "StyleView",
      "bar_color": null,
      "description_width": ""
     }
    },
    "31e80aaee5d14f8daf373dba0424c6b3": {
     "model_module": "@jupyter-widgets/controls",
     "model_module_version": "1.5.0",
     "model_name": "DescriptionStyleModel",
     "state": {
      "_model_module": "@jupyter-widgets/controls",
      "_model_module_version": "1.5.0",
      "_model_name": "DescriptionStyleModel",
      "_view_count": null,
      "_view_module": "@jupyter-widgets/base",
      "_view_module_version": "1.2.0",
      "_view_name": "StyleView",
      "description_width": ""
     }
    },
    "325a6fb0cc6044c0aa85105650324a99": {
     "model_module": "@jupyter-widgets/base",
     "model_module_version": "1.2.0",
     "model_name": "LayoutModel",
     "state": {
      "_model_module": "@jupyter-widgets/base",
      "_model_module_version": "1.2.0",
      "_model_name": "LayoutModel",
      "_view_count": null,
      "_view_module": "@jupyter-widgets/base",
      "_view_module_version": "1.2.0",
      "_view_name": "LayoutView",
      "align_content": null,
      "align_items": null,
      "align_self": null,
      "border": null,
      "bottom": null,
      "display": null,
      "flex": null,
      "flex_flow": null,
      "grid_area": null,
      "grid_auto_columns": null,
      "grid_auto_flow": null,
      "grid_auto_rows": null,
      "grid_column": null,
      "grid_gap": null,
      "grid_row": null,
      "grid_template_areas": null,
      "grid_template_columns": null,
      "grid_template_rows": null,
      "height": null,
      "justify_content": null,
      "justify_items": null,
      "left": null,
      "margin": null,
      "max_height": null,
      "max_width": null,
      "min_height": null,
      "min_width": null,
      "object_fit": null,
      "object_position": null,
      "order": null,
      "overflow": null,
      "overflow_x": null,
      "overflow_y": null,
      "padding": null,
      "right": null,
      "top": null,
      "visibility": null,
      "width": null
     }
    },
    "334675de305f46d6907a4005284af529": {
     "model_module": "@jupyter-widgets/base",
     "model_module_version": "1.2.0",
     "model_name": "LayoutModel",
     "state": {
      "_model_module": "@jupyter-widgets/base",
      "_model_module_version": "1.2.0",
      "_model_name": "LayoutModel",
      "_view_count": null,
      "_view_module": "@jupyter-widgets/base",
      "_view_module_version": "1.2.0",
      "_view_name": "LayoutView",
      "align_content": null,
      "align_items": null,
      "align_self": null,
      "border": null,
      "bottom": null,
      "display": null,
      "flex": null,
      "flex_flow": null,
      "grid_area": null,
      "grid_auto_columns": null,
      "grid_auto_flow": null,
      "grid_auto_rows": null,
      "grid_column": null,
      "grid_gap": null,
      "grid_row": null,
      "grid_template_areas": null,
      "grid_template_columns": null,
      "grid_template_rows": null,
      "height": null,
      "justify_content": null,
      "justify_items": null,
      "left": null,
      "margin": null,
      "max_height": null,
      "max_width": null,
      "min_height": null,
      "min_width": null,
      "object_fit": null,
      "object_position": null,
      "order": null,
      "overflow": null,
      "overflow_x": null,
      "overflow_y": null,
      "padding": null,
      "right": null,
      "top": null,
      "visibility": null,
      "width": null
     }
    },
    "342aba89843544a1bc3202219d627f95": {
     "model_module": "@jupyter-widgets/controls",
     "model_module_version": "1.5.0",
     "model_name": "HTMLModel",
     "state": {
      "_dom_classes": [],
      "_model_module": "@jupyter-widgets/controls",
      "_model_module_version": "1.5.0",
      "_model_name": "HTMLModel",
      "_view_count": null,
      "_view_module": "@jupyter-widgets/controls",
      "_view_module_version": "1.5.0",
      "_view_name": "HTMLView",
      "description": "",
      "description_tooltip": null,
      "layout": "IPY_MODEL_9f5e457357e340738ebce8efd2c0f4e7",
      "placeholder": "​",
      "style": "IPY_MODEL_b66e9a427f424351b96cb57024f86457",
      "value": "Map: 100%"
     }
    },
    "347a937fd26a4282852321a090e8f327": {
     "model_module": "@jupyter-widgets/base",
     "model_module_version": "1.2.0",
     "model_name": "LayoutModel",
     "state": {
      "_model_module": "@jupyter-widgets/base",
      "_model_module_version": "1.2.0",
      "_model_name": "LayoutModel",
      "_view_count": null,
      "_view_module": "@jupyter-widgets/base",
      "_view_module_version": "1.2.0",
      "_view_name": "LayoutView",
      "align_content": null,
      "align_items": null,
      "align_self": null,
      "border": null,
      "bottom": null,
      "display": null,
      "flex": null,
      "flex_flow": null,
      "grid_area": null,
      "grid_auto_columns": null,
      "grid_auto_flow": null,
      "grid_auto_rows": null,
      "grid_column": null,
      "grid_gap": null,
      "grid_row": null,
      "grid_template_areas": null,
      "grid_template_columns": null,
      "grid_template_rows": null,
      "height": null,
      "justify_content": null,
      "justify_items": null,
      "left": null,
      "margin": null,
      "max_height": null,
      "max_width": null,
      "min_height": null,
      "min_width": null,
      "object_fit": null,
      "object_position": null,
      "order": null,
      "overflow": null,
      "overflow_x": null,
      "overflow_y": null,
      "padding": null,
      "right": null,
      "top": null,
      "visibility": null,
      "width": null
     }
    },
    "3549fafa8aa74dad8834e2a69d9b0ded": {
     "model_module": "@jupyter-widgets/controls",
     "model_module_version": "1.5.0",
     "model_name": "HBoxModel",
     "state": {
      "_dom_classes": [],
      "_model_module": "@jupyter-widgets/controls",
      "_model_module_version": "1.5.0",
      "_model_name": "HBoxModel",
      "_view_count": null,
      "_view_module": "@jupyter-widgets/controls",
      "_view_module_version": "1.5.0",
      "_view_name": "HBoxView",
      "box_style": "",
      "children": [
       "IPY_MODEL_ee57ad4b309c4a219826987a6afa0d6d",
       "IPY_MODEL_41086f7425fb48c1b1282521b751facd",
       "IPY_MODEL_125d4cc9aac443468263c1a44894f511"
      ],
      "layout": "IPY_MODEL_da6376eeac8744eb8c5d0e79b8b439c1"
     }
    },
    "3840cab61b8e49b3b37ac65f4d046f16": {
     "model_module": "@jupyter-widgets/base",
     "model_module_version": "1.2.0",
     "model_name": "LayoutModel",
     "state": {
      "_model_module": "@jupyter-widgets/base",
      "_model_module_version": "1.2.0",
      "_model_name": "LayoutModel",
      "_view_count": null,
      "_view_module": "@jupyter-widgets/base",
      "_view_module_version": "1.2.0",
      "_view_name": "LayoutView",
      "align_content": null,
      "align_items": null,
      "align_self": null,
      "border": null,
      "bottom": null,
      "display": null,
      "flex": null,
      "flex_flow": null,
      "grid_area": null,
      "grid_auto_columns": null,
      "grid_auto_flow": null,
      "grid_auto_rows": null,
      "grid_column": null,
      "grid_gap": null,
      "grid_row": null,
      "grid_template_areas": null,
      "grid_template_columns": null,
      "grid_template_rows": null,
      "height": null,
      "justify_content": null,
      "justify_items": null,
      "left": null,
      "margin": null,
      "max_height": null,
      "max_width": null,
      "min_height": null,
      "min_width": null,
      "object_fit": null,
      "object_position": null,
      "order": null,
      "overflow": null,
      "overflow_x": null,
      "overflow_y": null,
      "padding": null,
      "right": null,
      "top": null,
      "visibility": null,
      "width": null
     }
    },
    "3bedf4d1fa0e4107b9d43a01e8418f00": {
     "model_module": "@jupyter-widgets/base",
     "model_module_version": "1.2.0",
     "model_name": "LayoutModel",
     "state": {
      "_model_module": "@jupyter-widgets/base",
      "_model_module_version": "1.2.0",
      "_model_name": "LayoutModel",
      "_view_count": null,
      "_view_module": "@jupyter-widgets/base",
      "_view_module_version": "1.2.0",
      "_view_name": "LayoutView",
      "align_content": null,
      "align_items": null,
      "align_self": null,
      "border": null,
      "bottom": null,
      "display": null,
      "flex": null,
      "flex_flow": null,
      "grid_area": null,
      "grid_auto_columns": null,
      "grid_auto_flow": null,
      "grid_auto_rows": null,
      "grid_column": null,
      "grid_gap": null,
      "grid_row": null,
      "grid_template_areas": null,
      "grid_template_columns": null,
      "grid_template_rows": null,
      "height": null,
      "justify_content": null,
      "justify_items": null,
      "left": null,
      "margin": null,
      "max_height": null,
      "max_width": null,
      "min_height": null,
      "min_width": null,
      "object_fit": null,
      "object_position": null,
      "order": null,
      "overflow": null,
      "overflow_x": null,
      "overflow_y": null,
      "padding": null,
      "right": null,
      "top": null,
      "visibility": null,
      "width": null
     }
    },
    "3ce85acf1f1845d3b8af5f8a685bb061": {
     "model_module": "@jupyter-widgets/controls",
     "model_module_version": "1.5.0",
     "model_name": "FloatProgressModel",
     "state": {
      "_dom_classes": [],
      "_model_module": "@jupyter-widgets/controls",
      "_model_module_version": "1.5.0",
      "_model_name": "FloatProgressModel",
      "_view_count": null,
      "_view_module": "@jupyter-widgets/controls",
      "_view_module_version": "1.5.0",
      "_view_name": "ProgressView",
      "bar_style": "success",
      "description": "",
      "description_tooltip": null,
      "layout": "IPY_MODEL_d6f360a5030e409dacf1d18f927eca2e",
      "max": 5140,
      "min": 0,
      "orientation": "horizontal",
      "style": "IPY_MODEL_57e2ea5e00364f1797565b07e14e0ea6",
      "value": 5140
     }
    },
    "40364d2c50d5425685362c3eee63e3d4": {
     "model_module": "@jupyter-widgets/base",
     "model_module_version": "1.2.0",
     "model_name": "LayoutModel",
     "state": {
      "_model_module": "@jupyter-widgets/base",
      "_model_module_version": "1.2.0",
      "_model_name": "LayoutModel",
      "_view_count": null,
      "_view_module": "@jupyter-widgets/base",
      "_view_module_version": "1.2.0",
      "_view_name": "LayoutView",
      "align_content": null,
      "align_items": null,
      "align_self": null,
      "border": null,
      "bottom": null,
      "display": null,
      "flex": null,
      "flex_flow": null,
      "grid_area": null,
      "grid_auto_columns": null,
      "grid_auto_flow": null,
      "grid_auto_rows": null,
      "grid_column": null,
      "grid_gap": null,
      "grid_row": null,
      "grid_template_areas": null,
      "grid_template_columns": null,
      "grid_template_rows": null,
      "height": null,
      "justify_content": null,
      "justify_items": null,
      "left": null,
      "margin": null,
      "max_height": null,
      "max_width": null,
      "min_height": null,
      "min_width": null,
      "object_fit": null,
      "object_position": null,
      "order": null,
      "overflow": null,
      "overflow_x": null,
      "overflow_y": null,
      "padding": null,
      "right": null,
      "top": null,
      "visibility": null,
      "width": null
     }
    },
    "40db4e97cc684e30bb029ae5f85c9faa": {
     "model_module": "@jupyter-widgets/base",
     "model_module_version": "1.2.0",
     "model_name": "LayoutModel",
     "state": {
      "_model_module": "@jupyter-widgets/base",
      "_model_module_version": "1.2.0",
      "_model_name": "LayoutModel",
      "_view_count": null,
      "_view_module": "@jupyter-widgets/base",
      "_view_module_version": "1.2.0",
      "_view_name": "LayoutView",
      "align_content": null,
      "align_items": null,
      "align_self": null,
      "border": null,
      "bottom": null,
      "display": null,
      "flex": null,
      "flex_flow": null,
      "grid_area": null,
      "grid_auto_columns": null,
      "grid_auto_flow": null,
      "grid_auto_rows": null,
      "grid_column": null,
      "grid_gap": null,
      "grid_row": null,
      "grid_template_areas": null,
      "grid_template_columns": null,
      "grid_template_rows": null,
      "height": null,
      "justify_content": null,
      "justify_items": null,
      "left": null,
      "margin": null,
      "max_height": null,
      "max_width": null,
      "min_height": null,
      "min_width": null,
      "object_fit": null,
      "object_position": null,
      "order": null,
      "overflow": null,
      "overflow_x": null,
      "overflow_y": null,
      "padding": null,
      "right": null,
      "top": null,
      "visibility": null,
      "width": null
     }
    },
    "41086f7425fb48c1b1282521b751facd": {
     "model_module": "@jupyter-widgets/controls",
     "model_module_version": "1.5.0",
     "model_name": "FloatProgressModel",
     "state": {
      "_dom_classes": [],
      "_model_module": "@jupyter-widgets/controls",
      "_model_module_version": "1.5.0",
      "_model_name": "FloatProgressModel",
      "_view_count": null,
      "_view_module": "@jupyter-widgets/controls",
      "_view_module_version": "1.5.0",
      "_view_name": "ProgressView",
      "bar_style": "success",
      "description": "",
      "description_tooltip": null,
      "layout": "IPY_MODEL_411be7781c8f4e49a46768302b98f9d0",
      "max": 456318,
      "min": 0,
      "orientation": "horizontal",
      "style": "IPY_MODEL_e79a87b51b394215a844eb3c944617a4",
      "value": 456318
     }
    },
    "411be7781c8f4e49a46768302b98f9d0": {
     "model_module": "@jupyter-widgets/base",
     "model_module_version": "1.2.0",
     "model_name": "LayoutModel",
     "state": {
      "_model_module": "@jupyter-widgets/base",
      "_model_module_version": "1.2.0",
      "_model_name": "LayoutModel",
      "_view_count": null,
      "_view_module": "@jupyter-widgets/base",
      "_view_module_version": "1.2.0",
      "_view_name": "LayoutView",
      "align_content": null,
      "align_items": null,
      "align_self": null,
      "border": null,
      "bottom": null,
      "display": null,
      "flex": null,
      "flex_flow": null,
      "grid_area": null,
      "grid_auto_columns": null,
      "grid_auto_flow": null,
      "grid_auto_rows": null,
      "grid_column": null,
      "grid_gap": null,
      "grid_row": null,
      "grid_template_areas": null,
      "grid_template_columns": null,
      "grid_template_rows": null,
      "height": null,
      "justify_content": null,
      "justify_items": null,
      "left": null,
      "margin": null,
      "max_height": null,
      "max_width": null,
      "min_height": null,
      "min_width": null,
      "object_fit": null,
      "object_position": null,
      "order": null,
      "overflow": null,
      "overflow_x": null,
      "overflow_y": null,
      "padding": null,
      "right": null,
      "top": null,
      "visibility": null,
      "width": null
     }
    },
    "41a1c83ff22f4f0db86a169fc246bffc": {
     "model_module": "@jupyter-widgets/base",
     "model_module_version": "1.2.0",
     "model_name": "LayoutModel",
     "state": {
      "_model_module": "@jupyter-widgets/base",
      "_model_module_version": "1.2.0",
      "_model_name": "LayoutModel",
      "_view_count": null,
      "_view_module": "@jupyter-widgets/base",
      "_view_module_version": "1.2.0",
      "_view_name": "LayoutView",
      "align_content": null,
      "align_items": null,
      "align_self": null,
      "border": null,
      "bottom": null,
      "display": null,
      "flex": null,
      "flex_flow": null,
      "grid_area": null,
      "grid_auto_columns": null,
      "grid_auto_flow": null,
      "grid_auto_rows": null,
      "grid_column": null,
      "grid_gap": null,
      "grid_row": null,
      "grid_template_areas": null,
      "grid_template_columns": null,
      "grid_template_rows": null,
      "height": null,
      "justify_content": null,
      "justify_items": null,
      "left": null,
      "margin": null,
      "max_height": null,
      "max_width": null,
      "min_height": null,
      "min_width": null,
      "object_fit": null,
      "object_position": null,
      "order": null,
      "overflow": null,
      "overflow_x": null,
      "overflow_y": null,
      "padding": null,
      "right": null,
      "top": null,
      "visibility": null,
      "width": null
     }
    },
    "41bbae99053d4929b0ed0836cff5369f": {
     "model_module": "@jupyter-widgets/controls",
     "model_module_version": "1.5.0",
     "model_name": "HBoxModel",
     "state": {
      "_dom_classes": [],
      "_model_module": "@jupyter-widgets/controls",
      "_model_module_version": "1.5.0",
      "_model_name": "HBoxModel",
      "_view_count": null,
      "_view_module": "@jupyter-widgets/controls",
      "_view_module_version": "1.5.0",
      "_view_name": "HBoxView",
      "box_style": "",
      "children": [
       "IPY_MODEL_7502ccb42dab4af89ae86d9de9d9eb4b",
       "IPY_MODEL_e4d2a368db214d1c811ad90f2ea0e68b",
       "IPY_MODEL_f1c3a0fac7bf4846a119c1af4ec1da1e"
      ],
      "layout": "IPY_MODEL_5857e90debf04098a69e84887c237cf3"
     }
    },
    "44efa9d52abf4d518109157b2b94bcc1": {
     "model_module": "@jupyter-widgets/controls",
     "model_module_version": "1.5.0",
     "model_name": "FloatProgressModel",
     "state": {
      "_dom_classes": [],
      "_model_module": "@jupyter-widgets/controls",
      "_model_module_version": "1.5.0",
      "_model_name": "FloatProgressModel",
      "_view_count": null,
      "_view_module": "@jupyter-widgets/controls",
      "_view_module_version": "1.5.0",
      "_view_name": "ProgressView",
      "bar_style": "success",
      "description": "",
      "description_tooltip": null,
      "layout": "IPY_MODEL_cf75c1ede8f540aebfb1fc8d00078810",
      "max": 26,
      "min": 0,
      "orientation": "horizontal",
      "style": "IPY_MODEL_275862e04a7c408585f802bd3edc244a",
      "value": 26
     }
    },
    "46ca84c0bf1f41bcb16576755f6fd34f": {
     "model_module": "@jupyter-widgets/controls",
     "model_module_version": "1.5.0",
     "model_name": "DescriptionStyleModel",
     "state": {
      "_model_module": "@jupyter-widgets/controls",
      "_model_module_version": "1.5.0",
      "_model_name": "DescriptionStyleModel",
      "_view_count": null,
      "_view_module": "@jupyter-widgets/base",
      "_view_module_version": "1.2.0",
      "_view_name": "StyleView",
      "description_width": ""
     }
    },
    "481f70326fc94d1db677105acda4fb3f": {
     "model_module": "@jupyter-widgets/controls",
     "model_module_version": "1.5.0",
     "model_name": "HBoxModel",
     "state": {
      "_dom_classes": [],
      "_model_module": "@jupyter-widgets/controls",
      "_model_module_version": "1.5.0",
      "_model_name": "HBoxModel",
      "_view_count": null,
      "_view_module": "@jupyter-widgets/controls",
      "_view_module_version": "1.5.0",
      "_view_name": "HBoxView",
      "box_style": "",
      "children": [
       "IPY_MODEL_adc7f1ab6ac94f70b2e21b9c505b3695",
       "IPY_MODEL_3ce85acf1f1845d3b8af5f8a685bb061",
       "IPY_MODEL_5cc1982ba58d41d08de8ed8522b7c8fe"
      ],
      "layout": "IPY_MODEL_4e98333612c84f25946f8d50a333cd2a"
     }
    },
    "483322a3c4dd4168a7ebe510cf1dcd7b": {
     "model_module": "@jupyter-widgets/base",
     "model_module_version": "1.2.0",
     "model_name": "LayoutModel",
     "state": {
      "_model_module": "@jupyter-widgets/base",
      "_model_module_version": "1.2.0",
      "_model_name": "LayoutModel",
      "_view_count": null,
      "_view_module": "@jupyter-widgets/base",
      "_view_module_version": "1.2.0",
      "_view_name": "LayoutView",
      "align_content": null,
      "align_items": null,
      "align_self": null,
      "border": null,
      "bottom": null,
      "display": null,
      "flex": null,
      "flex_flow": null,
      "grid_area": null,
      "grid_auto_columns": null,
      "grid_auto_flow": null,
      "grid_auto_rows": null,
      "grid_column": null,
      "grid_gap": null,
      "grid_row": null,
      "grid_template_areas": null,
      "grid_template_columns": null,
      "grid_template_rows": null,
      "height": null,
      "justify_content": null,
      "justify_items": null,
      "left": null,
      "margin": null,
      "max_height": null,
      "max_width": null,
      "min_height": null,
      "min_width": null,
      "object_fit": null,
      "object_position": null,
      "order": null,
      "overflow": null,
      "overflow_x": null,
      "overflow_y": null,
      "padding": null,
      "right": null,
      "top": null,
      "visibility": null,
      "width": "20px"
     }
    },
    "487e9511859e4147b061650c37c91dfc": {
     "model_module": "@jupyter-widgets/controls",
     "model_module_version": "1.5.0",
     "model_name": "HTMLModel",
     "state": {
      "_dom_classes": [],
      "_model_module": "@jupyter-widgets/controls",
      "_model_module_version": "1.5.0",
      "_model_name": "HTMLModel",
      "_view_count": null,
      "_view_module": "@jupyter-widgets/controls",
      "_view_module_version": "1.5.0",
      "_view_name": "HTMLView",
      "description": "",
      "description_tooltip": null,
      "layout": "IPY_MODEL_1e49d7fb72f24fbab89e5e6e996105d4",
      "placeholder": "​",
      "style": "IPY_MODEL_9711e89eef1141b4bccc6b7049c881c1",
      "value": "tokenizer.json: 100%"
     }
    },
    "48c7516e2043481fbf39f3092ef5547f": {
     "model_module": "@jupyter-widgets/controls",
     "model_module_version": "1.5.0",
     "model_name": "ProgressStyleModel",
     "state": {
      "_model_module": "@jupyter-widgets/controls",
      "_model_module_version": "1.5.0",
      "_model_name": "ProgressStyleModel",
      "_view_count": null,
      "_view_module": "@jupyter-widgets/base",
      "_view_module_version": "1.2.0",
      "_view_name": "StyleView",
      "bar_color": null,
      "description_width": ""
     }
    },
    "4a58a3ee34014402b4819eb465cc1ce1": {
     "model_module": "@jupyter-widgets/controls",
     "model_module_version": "1.5.0",
     "model_name": "FloatProgressModel",
     "state": {
      "_dom_classes": [],
      "_model_module": "@jupyter-widgets/controls",
      "_model_module_version": "1.5.0",
      "_model_name": "FloatProgressModel",
      "_view_count": null,
      "_view_module": "@jupyter-widgets/controls",
      "_view_module_version": "1.5.0",
      "_view_name": "ProgressView",
      "bar_style": "success",
      "description": "",
      "description_tooltip": null,
      "layout": "IPY_MODEL_70e6c7a9af864ba68feae1c0504fdd1c",
      "max": 2829,
      "min": 0,
      "orientation": "horizontal",
      "style": "IPY_MODEL_6a568edcf0a3448880d347b5a089000d",
      "value": 2829
     }
    },
    "4c1c197f021f471d83f11c1d3556eda0": {
     "model_module": "@jupyter-widgets/base",
     "model_module_version": "1.2.0",
     "model_name": "LayoutModel",
     "state": {
      "_model_module": "@jupyter-widgets/base",
      "_model_module_version": "1.2.0",
      "_model_name": "LayoutModel",
      "_view_count": null,
      "_view_module": "@jupyter-widgets/base",
      "_view_module_version": "1.2.0",
      "_view_name": "LayoutView",
      "align_content": null,
      "align_items": null,
      "align_self": null,
      "border": null,
      "bottom": null,
      "display": null,
      "flex": null,
      "flex_flow": null,
      "grid_area": null,
      "grid_auto_columns": null,
      "grid_auto_flow": null,
      "grid_auto_rows": null,
      "grid_column": null,
      "grid_gap": null,
      "grid_row": null,
      "grid_template_areas": null,
      "grid_template_columns": null,
      "grid_template_rows": null,
      "height": null,
      "justify_content": null,
      "justify_items": null,
      "left": null,
      "margin": null,
      "max_height": null,
      "max_width": null,
      "min_height": null,
      "min_width": null,
      "object_fit": null,
      "object_position": null,
      "order": null,
      "overflow": null,
      "overflow_x": null,
      "overflow_y": null,
      "padding": null,
      "right": null,
      "top": null,
      "visibility": null,
      "width": null
     }
    },
    "4e98333612c84f25946f8d50a333cd2a": {
     "model_module": "@jupyter-widgets/base",
     "model_module_version": "1.2.0",
     "model_name": "LayoutModel",
     "state": {
      "_model_module": "@jupyter-widgets/base",
      "_model_module_version": "1.2.0",
      "_model_name": "LayoutModel",
      "_view_count": null,
      "_view_module": "@jupyter-widgets/base",
      "_view_module_version": "1.2.0",
      "_view_name": "LayoutView",
      "align_content": null,
      "align_items": null,
      "align_self": null,
      "border": null,
      "bottom": null,
      "display": null,
      "flex": null,
      "flex_flow": null,
      "grid_area": null,
      "grid_auto_columns": null,
      "grid_auto_flow": null,
      "grid_auto_rows": null,
      "grid_column": null,
      "grid_gap": null,
      "grid_row": null,
      "grid_template_areas": null,
      "grid_template_columns": null,
      "grid_template_rows": null,
      "height": null,
      "justify_content": null,
      "justify_items": null,
      "left": null,
      "margin": null,
      "max_height": null,
      "max_width": null,
      "min_height": null,
      "min_width": null,
      "object_fit": null,
      "object_position": null,
      "order": null,
      "overflow": null,
      "overflow_x": null,
      "overflow_y": null,
      "padding": null,
      "right": null,
      "top": null,
      "visibility": null,
      "width": null
     }
    },
    "4f72f0e571c74f23978595b39b4038e6": {
     "model_module": "@jupyter-widgets/base",
     "model_module_version": "1.2.0",
     "model_name": "LayoutModel",
     "state": {
      "_model_module": "@jupyter-widgets/base",
      "_model_module_version": "1.2.0",
      "_model_name": "LayoutModel",
      "_view_count": null,
      "_view_module": "@jupyter-widgets/base",
      "_view_module_version": "1.2.0",
      "_view_name": "LayoutView",
      "align_content": null,
      "align_items": null,
      "align_self": null,
      "border": null,
      "bottom": null,
      "display": null,
      "flex": null,
      "flex_flow": null,
      "grid_area": null,
      "grid_auto_columns": null,
      "grid_auto_flow": null,
      "grid_auto_rows": null,
      "grid_column": null,
      "grid_gap": null,
      "grid_row": null,
      "grid_template_areas": null,
      "grid_template_columns": null,
      "grid_template_rows": null,
      "height": null,
      "justify_content": null,
      "justify_items": null,
      "left": null,
      "margin": null,
      "max_height": null,
      "max_width": null,
      "min_height": null,
      "min_width": null,
      "object_fit": null,
      "object_position": null,
      "order": null,
      "overflow": null,
      "overflow_x": null,
      "overflow_y": null,
      "padding": null,
      "right": null,
      "top": null,
      "visibility": null,
      "width": null
     }
    },
    "4f90298dff0d4ae1b530e8e75266fbe0": {
     "model_module": "@jupyter-widgets/controls",
     "model_module_version": "1.5.0",
     "model_name": "FloatProgressModel",
     "state": {
      "_dom_classes": [],
      "_model_module": "@jupyter-widgets/controls",
      "_model_module_version": "1.5.0",
      "_model_name": "FloatProgressModel",
      "_view_count": null,
      "_view_module": "@jupyter-widgets/controls",
      "_view_module_version": "1.5.0",
      "_view_name": "ProgressView",
      "bar_style": "success",
      "description": "",
      "description_tooltip": null,
      "layout": "IPY_MODEL_d6b298a61ac947959f2c4ec24e02e85f",
      "max": 1585,
      "min": 0,
      "orientation": "horizontal",
      "style": "IPY_MODEL_a18474f77f1b4e309f4a3b344b02babe",
      "value": 1585
     }
    },
    "4feba70e41934bcf87e0355c6236abb2": {
     "model_module": "@jupyter-widgets/base",
     "model_module_version": "1.2.0",
     "model_name": "LayoutModel",
     "state": {
      "_model_module": "@jupyter-widgets/base",
      "_model_module_version": "1.2.0",
      "_model_name": "LayoutModel",
      "_view_count": null,
      "_view_module": "@jupyter-widgets/base",
      "_view_module_version": "1.2.0",
      "_view_name": "LayoutView",
      "align_content": null,
      "align_items": null,
      "align_self": null,
      "border": null,
      "bottom": null,
      "display": null,
      "flex": null,
      "flex_flow": null,
      "grid_area": null,
      "grid_auto_columns": null,
      "grid_auto_flow": null,
      "grid_auto_rows": null,
      "grid_column": null,
      "grid_gap": null,
      "grid_row": null,
      "grid_template_areas": null,
      "grid_template_columns": null,
      "grid_template_rows": null,
      "height": null,
      "justify_content": null,
      "justify_items": null,
      "left": null,
      "margin": null,
      "max_height": null,
      "max_width": null,
      "min_height": null,
      "min_width": null,
      "object_fit": null,
      "object_position": null,
      "order": null,
      "overflow": null,
      "overflow_x": null,
      "overflow_y": null,
      "padding": null,
      "right": null,
      "top": null,
      "visibility": null,
      "width": null
     }
    },
    "503cc9d8715648b88b2e87f3d0cbc41e": {
     "model_module": "@jupyter-widgets/controls",
     "model_module_version": "1.5.0",
     "model_name": "DescriptionStyleModel",
     "state": {
      "_model_module": "@jupyter-widgets/controls",
      "_model_module_version": "1.5.0",
      "_model_name": "DescriptionStyleModel",
      "_view_count": null,
      "_view_module": "@jupyter-widgets/base",
      "_view_module_version": "1.2.0",
      "_view_name": "StyleView",
      "description_width": ""
     }
    },
    "51375bdb9b104ff18f1681ddf472d85a": {
     "model_module": "@jupyter-widgets/controls",
     "model_module_version": "1.5.0",
     "model_name": "ProgressStyleModel",
     "state": {
      "_model_module": "@jupyter-widgets/controls",
      "_model_module_version": "1.5.0",
      "_model_name": "ProgressStyleModel",
      "_view_count": null,
      "_view_module": "@jupyter-widgets/base",
      "_view_module_version": "1.2.0",
      "_view_name": "StyleView",
      "bar_color": null,
      "description_width": ""
     }
    },
    "537734e31e864999b45d04d937067833": {
     "model_module": "@jupyter-widgets/controls",
     "model_module_version": "1.5.0",
     "model_name": "HTMLModel",
     "state": {
      "_dom_classes": [],
      "_model_module": "@jupyter-widgets/controls",
      "_model_module_version": "1.5.0",
      "_model_name": "HTMLModel",
      "_view_count": null,
      "_view_module": "@jupyter-widgets/controls",
      "_view_module_version": "1.5.0",
      "_view_name": "HTMLView",
      "description": "",
      "description_tooltip": null,
      "layout": "IPY_MODEL_024fc633f9e44e169f083c2520786a0b",
      "placeholder": "​",
      "style": "IPY_MODEL_75c5f97f4c404ee895bbf9fdf4224cf5",
      "value": "config.json: 100%"
     }
    },
    "53e3a0bb75ad4725b7227aa00f3b8851": {
     "model_module": "@jupyter-widgets/base",
     "model_module_version": "1.2.0",
     "model_name": "LayoutModel",
     "state": {
      "_model_module": "@jupyter-widgets/base",
      "_model_module_version": "1.2.0",
      "_model_name": "LayoutModel",
      "_view_count": null,
      "_view_module": "@jupyter-widgets/base",
      "_view_module_version": "1.2.0",
      "_view_name": "LayoutView",
      "align_content": null,
      "align_items": null,
      "align_self": null,
      "border": null,
      "bottom": null,
      "display": null,
      "flex": null,
      "flex_flow": null,
      "grid_area": null,
      "grid_auto_columns": null,
      "grid_auto_flow": null,
      "grid_auto_rows": null,
      "grid_column": null,
      "grid_gap": null,
      "grid_row": null,
      "grid_template_areas": null,
      "grid_template_columns": null,
      "grid_template_rows": null,
      "height": null,
      "justify_content": null,
      "justify_items": null,
      "left": null,
      "margin": null,
      "max_height": null,
      "max_width": null,
      "min_height": null,
      "min_width": null,
      "object_fit": null,
      "object_position": null,
      "order": null,
      "overflow": null,
      "overflow_x": null,
      "overflow_y": null,
      "padding": null,
      "right": null,
      "top": null,
      "visibility": null,
      "width": null
     }
    },
    "55aa6c1cdf8e4d668786e1fd266c3822": {
     "model_module": "@jupyter-widgets/controls",
     "model_module_version": "1.5.0",
     "model_name": "DescriptionStyleModel",
     "state": {
      "_model_module": "@jupyter-widgets/controls",
      "_model_module_version": "1.5.0",
      "_model_name": "DescriptionStyleModel",
      "_view_count": null,
      "_view_module": "@jupyter-widgets/base",
      "_view_module_version": "1.2.0",
      "_view_name": "StyleView",
      "description_width": ""
     }
    },
    "5635e23f85ef400a8932bb01b7963020": {
     "model_module": "@jupyter-widgets/controls",
     "model_module_version": "1.5.0",
     "model_name": "DescriptionStyleModel",
     "state": {
      "_model_module": "@jupyter-widgets/controls",
      "_model_module_version": "1.5.0",
      "_model_name": "DescriptionStyleModel",
      "_view_count": null,
      "_view_module": "@jupyter-widgets/base",
      "_view_module_version": "1.2.0",
      "_view_name": "StyleView",
      "description_width": ""
     }
    },
    "56c69dce53f84f1da7bdfc4c6c9e0edc": {
     "model_module": "@jupyter-widgets/controls",
     "model_module_version": "1.5.0",
     "model_name": "DescriptionStyleModel",
     "state": {
      "_model_module": "@jupyter-widgets/controls",
      "_model_module_version": "1.5.0",
      "_model_name": "DescriptionStyleModel",
      "_view_count": null,
      "_view_module": "@jupyter-widgets/base",
      "_view_module_version": "1.2.0",
      "_view_name": "StyleView",
      "description_width": ""
     }
    },
    "575a4b6b0eaa4cd2a6a60c91d8486141": {
     "model_module": "@jupyter-widgets/base",
     "model_module_version": "1.2.0",
     "model_name": "LayoutModel",
     "state": {
      "_model_module": "@jupyter-widgets/base",
      "_model_module_version": "1.2.0",
      "_model_name": "LayoutModel",
      "_view_count": null,
      "_view_module": "@jupyter-widgets/base",
      "_view_module_version": "1.2.0",
      "_view_name": "LayoutView",
      "align_content": null,
      "align_items": null,
      "align_self": null,
      "border": null,
      "bottom": null,
      "display": null,
      "flex": null,
      "flex_flow": null,
      "grid_area": null,
      "grid_auto_columns": null,
      "grid_auto_flow": null,
      "grid_auto_rows": null,
      "grid_column": null,
      "grid_gap": null,
      "grid_row": null,
      "grid_template_areas": null,
      "grid_template_columns": null,
      "grid_template_rows": null,
      "height": null,
      "justify_content": null,
      "justify_items": null,
      "left": null,
      "margin": null,
      "max_height": null,
      "max_width": null,
      "min_height": null,
      "min_width": null,
      "object_fit": null,
      "object_position": null,
      "order": null,
      "overflow": null,
      "overflow_x": null,
      "overflow_y": null,
      "padding": null,
      "right": null,
      "top": null,
      "visibility": null,
      "width": null
     }
    },
    "57e2ea5e00364f1797565b07e14e0ea6": {
     "model_module": "@jupyter-widgets/controls",
     "model_module_version": "1.5.0",
     "model_name": "ProgressStyleModel",
     "state": {
      "_model_module": "@jupyter-widgets/controls",
      "_model_module_version": "1.5.0",
      "_model_name": "ProgressStyleModel",
      "_view_count": null,
      "_view_module": "@jupyter-widgets/base",
      "_view_module_version": "1.2.0",
      "_view_name": "StyleView",
      "bar_color": null,
      "description_width": ""
     }
    },
    "5857e90debf04098a69e84887c237cf3": {
     "model_module": "@jupyter-widgets/base",
     "model_module_version": "1.2.0",
     "model_name": "LayoutModel",
     "state": {
      "_model_module": "@jupyter-widgets/base",
      "_model_module_version": "1.2.0",
      "_model_name": "LayoutModel",
      "_view_count": null,
      "_view_module": "@jupyter-widgets/base",
      "_view_module_version": "1.2.0",
      "_view_name": "LayoutView",
      "align_content": null,
      "align_items": null,
      "align_self": null,
      "border": null,
      "bottom": null,
      "display": null,
      "flex": null,
      "flex_flow": null,
      "grid_area": null,
      "grid_auto_columns": null,
      "grid_auto_flow": null,
      "grid_auto_rows": null,
      "grid_column": null,
      "grid_gap": null,
      "grid_row": null,
      "grid_template_areas": null,
      "grid_template_columns": null,
      "grid_template_rows": null,
      "height": null,
      "justify_content": null,
      "justify_items": null,
      "left": null,
      "margin": null,
      "max_height": null,
      "max_width": null,
      "min_height": null,
      "min_width": null,
      "object_fit": null,
      "object_position": null,
      "order": null,
      "overflow": null,
      "overflow_x": null,
      "overflow_y": null,
      "padding": null,
      "right": null,
      "top": null,
      "visibility": null,
      "width": null
     }
    },
    "587c9cba28f64c78870177b008401dee": {
     "model_module": "@jupyter-widgets/controls",
     "model_module_version": "1.5.0",
     "model_name": "HTMLModel",
     "state": {
      "_dom_classes": [],
      "_model_module": "@jupyter-widgets/controls",
      "_model_module_version": "1.5.0",
      "_model_name": "HTMLModel",
      "_view_count": null,
      "_view_module": "@jupyter-widgets/controls",
      "_view_module_version": "1.5.0",
      "_view_name": "HTMLView",
      "description": "",
      "description_tooltip": null,
      "layout": "IPY_MODEL_4f72f0e571c74f23978595b39b4038e6",
      "placeholder": "​",
      "style": "IPY_MODEL_5635e23f85ef400a8932bb01b7963020",
      "value": "model.safetensors: 100%"
     }
    },
    "594f78e8227440669560d586ee240e78": {
     "model_module": "@jupyter-widgets/controls",
     "model_module_version": "1.5.0",
     "model_name": "HBoxModel",
     "state": {
      "_dom_classes": [],
      "_model_module": "@jupyter-widgets/controls",
      "_model_module_version": "1.5.0",
      "_model_name": "HBoxModel",
      "_view_count": null,
      "_view_module": "@jupyter-widgets/controls",
      "_view_module_version": "1.5.0",
      "_view_name": "HBoxView",
      "box_style": "",
      "children": [
       "IPY_MODEL_214a36b13f69450a9779ab958d2413b5",
       "IPY_MODEL_75404a400b91499583ef19a988a5d9fd",
       "IPY_MODEL_fa08d93b30e94810907357990dfd0ab8"
      ],
      "layout": "IPY_MODEL_41a1c83ff22f4f0db86a169fc246bffc"
     }
    },
    "59b3af4293a94c228ce93ffa778f5b49": {
     "model_module": "@jupyter-widgets/base",
     "model_module_version": "1.2.0",
     "model_name": "LayoutModel",
     "state": {
      "_model_module": "@jupyter-widgets/base",
      "_model_module_version": "1.2.0",
      "_model_name": "LayoutModel",
      "_view_count": null,
      "_view_module": "@jupyter-widgets/base",
      "_view_module_version": "1.2.0",
      "_view_name": "LayoutView",
      "align_content": null,
      "align_items": null,
      "align_self": null,
      "border": null,
      "bottom": null,
      "display": null,
      "flex": null,
      "flex_flow": null,
      "grid_area": null,
      "grid_auto_columns": null,
      "grid_auto_flow": null,
      "grid_auto_rows": null,
      "grid_column": null,
      "grid_gap": null,
      "grid_row": null,
      "grid_template_areas": null,
      "grid_template_columns": null,
      "grid_template_rows": null,
      "height": null,
      "justify_content": null,
      "justify_items": null,
      "left": null,
      "margin": null,
      "max_height": null,
      "max_width": null,
      "min_height": null,
      "min_width": null,
      "object_fit": null,
      "object_position": null,
      "order": null,
      "overflow": null,
      "overflow_x": null,
      "overflow_y": null,
      "padding": null,
      "right": null,
      "top": null,
      "visibility": null,
      "width": null
     }
    },
    "5a58bcb253d6415a825d279e9a12426f": {
     "model_module": "@jupyter-widgets/controls",
     "model_module_version": "1.5.0",
     "model_name": "ProgressStyleModel",
     "state": {
      "_model_module": "@jupyter-widgets/controls",
      "_model_module_version": "1.5.0",
      "_model_name": "ProgressStyleModel",
      "_view_count": null,
      "_view_module": "@jupyter-widgets/base",
      "_view_module_version": "1.2.0",
      "_view_name": "StyleView",
      "bar_color": null,
      "description_width": ""
     }
    },
    "5ae5b8f6edad498aa87d81262159799c": {
     "model_module": "@jupyter-widgets/controls",
     "model_module_version": "1.5.0",
     "model_name": "ProgressStyleModel",
     "state": {
      "_model_module": "@jupyter-widgets/controls",
      "_model_module_version": "1.5.0",
      "_model_name": "ProgressStyleModel",
      "_view_count": null,
      "_view_module": "@jupyter-widgets/base",
      "_view_module_version": "1.2.0",
      "_view_name": "StyleView",
      "bar_color": null,
      "description_width": ""
     }
    },
    "5bf76946052140e79fad4a872d1b5b02": {
     "model_module": "@jupyter-widgets/controls",
     "model_module_version": "1.5.0",
     "model_name": "ProgressStyleModel",
     "state": {
      "_model_module": "@jupyter-widgets/controls",
      "_model_module_version": "1.5.0",
      "_model_name": "ProgressStyleModel",
      "_view_count": null,
      "_view_module": "@jupyter-widgets/base",
      "_view_module_version": "1.2.0",
      "_view_name": "StyleView",
      "bar_color": null,
      "description_width": ""
     }
    },
    "5cbef7203f7744119072b334ef28f3d6": {
     "model_module": "@jupyter-widgets/controls",
     "model_module_version": "1.5.0",
     "model_name": "DescriptionStyleModel",
     "state": {
      "_model_module": "@jupyter-widgets/controls",
      "_model_module_version": "1.5.0",
      "_model_name": "DescriptionStyleModel",
      "_view_count": null,
      "_view_module": "@jupyter-widgets/base",
      "_view_module_version": "1.2.0",
      "_view_name": "StyleView",
      "description_width": ""
     }
    },
    "5cc1982ba58d41d08de8ed8522b7c8fe": {
     "model_module": "@jupyter-widgets/controls",
     "model_module_version": "1.5.0",
     "model_name": "HTMLModel",
     "state": {
      "_dom_classes": [],
      "_model_module": "@jupyter-widgets/controls",
      "_model_module_version": "1.5.0",
      "_model_name": "HTMLModel",
      "_view_count": null,
      "_view_module": "@jupyter-widgets/controls",
      "_view_module_version": "1.5.0",
      "_view_name": "HTMLView",
      "description": "",
      "description_tooltip": null,
      "layout": "IPY_MODEL_59b3af4293a94c228ce93ffa778f5b49",
      "placeholder": "​",
      "style": "IPY_MODEL_8fe0db90d4c342499ed2ccbb605fe00a",
      "value": " 5.14k/5.14k [00:00&lt;00:00, 168kB/s]"
     }
    },
    "5cc368571072479f986b3dc9d0d761f0": {
     "model_module": "@jupyter-widgets/controls",
     "model_module_version": "1.5.0",
     "model_name": "HTMLModel",
     "state": {
      "_dom_classes": [],
      "_model_module": "@jupyter-widgets/controls",
      "_model_module_version": "1.5.0",
      "_model_name": "HTMLModel",
      "_view_count": null,
      "_view_module": "@jupyter-widgets/controls",
      "_view_module_version": "1.5.0",
      "_view_name": "HTMLView",
      "description": "",
      "description_tooltip": null,
      "layout": "IPY_MODEL_3840cab61b8e49b3b37ac65f4d046f16",
      "placeholder": "​",
      "style": "IPY_MODEL_935db900a4dc428bb10cd0601e5f38ed",
      "value": "tokenizer.json: 100%"
     }
    },
    "5cd99e64e1494054b6b95ea82bc2fd5e": {
     "model_module": "@jupyter-widgets/base",
     "model_module_version": "1.2.0",
     "model_name": "LayoutModel",
     "state": {
      "_model_module": "@jupyter-widgets/base",
      "_model_module_version": "1.2.0",
      "_model_name": "LayoutModel",
      "_view_count": null,
      "_view_module": "@jupyter-widgets/base",
      "_view_module_version": "1.2.0",
      "_view_name": "LayoutView",
      "align_content": null,
      "align_items": null,
      "align_self": null,
      "border": null,
      "bottom": null,
      "display": null,
      "flex": null,
      "flex_flow": null,
      "grid_area": null,
      "grid_auto_columns": null,
      "grid_auto_flow": null,
      "grid_auto_rows": null,
      "grid_column": null,
      "grid_gap": null,
      "grid_row": null,
      "grid_template_areas": null,
      "grid_template_columns": null,
      "grid_template_rows": null,
      "height": null,
      "justify_content": null,
      "justify_items": null,
      "left": null,
      "margin": null,
      "max_height": null,
      "max_width": null,
      "min_height": null,
      "min_width": null,
      "object_fit": null,
      "object_position": null,
      "order": null,
      "overflow": null,
      "overflow_x": null,
      "overflow_y": null,
      "padding": null,
      "right": null,
      "top": null,
      "visibility": null,
      "width": null
     }
    },
    "5da15ea46cd74b6681dcaab766fdbb04": {
     "model_module": "@jupyter-widgets/controls",
     "model_module_version": "1.5.0",
     "model_name": "DescriptionStyleModel",
     "state": {
      "_model_module": "@jupyter-widgets/controls",
      "_model_module_version": "1.5.0",
      "_model_name": "DescriptionStyleModel",
      "_view_count": null,
      "_view_module": "@jupyter-widgets/base",
      "_view_module_version": "1.2.0",
      "_view_name": "StyleView",
      "description_width": ""
     }
    },
    "5f728c4f058943b291d967aa6f207c47": {
     "model_module": "@jupyter-widgets/base",
     "model_module_version": "1.2.0",
     "model_name": "LayoutModel",
     "state": {
      "_model_module": "@jupyter-widgets/base",
      "_model_module_version": "1.2.0",
      "_model_name": "LayoutModel",
      "_view_count": null,
      "_view_module": "@jupyter-widgets/base",
      "_view_module_version": "1.2.0",
      "_view_name": "LayoutView",
      "align_content": null,
      "align_items": null,
      "align_self": null,
      "border": null,
      "bottom": null,
      "display": null,
      "flex": null,
      "flex_flow": null,
      "grid_area": null,
      "grid_auto_columns": null,
      "grid_auto_flow": null,
      "grid_auto_rows": null,
      "grid_column": null,
      "grid_gap": null,
      "grid_row": null,
      "grid_template_areas": null,
      "grid_template_columns": null,
      "grid_template_rows": null,
      "height": null,
      "justify_content": null,
      "justify_items": null,
      "left": null,
      "margin": null,
      "max_height": null,
      "max_width": null,
      "min_height": null,
      "min_width": null,
      "object_fit": null,
      "object_position": null,
      "order": null,
      "overflow": null,
      "overflow_x": null,
      "overflow_y": null,
      "padding": null,
      "right": null,
      "top": null,
      "visibility": null,
      "width": null
     }
    },
    "5f8cd5c0c699421fa809a6bc37325d07": {
     "model_module": "@jupyter-widgets/base",
     "model_module_version": "1.2.0",
     "model_name": "LayoutModel",
     "state": {
      "_model_module": "@jupyter-widgets/base",
      "_model_module_version": "1.2.0",
      "_model_name": "LayoutModel",
      "_view_count": null,
      "_view_module": "@jupyter-widgets/base",
      "_view_module_version": "1.2.0",
      "_view_name": "LayoutView",
      "align_content": null,
      "align_items": null,
      "align_self": null,
      "border": null,
      "bottom": null,
      "display": null,
      "flex": null,
      "flex_flow": null,
      "grid_area": null,
      "grid_auto_columns": null,
      "grid_auto_flow": null,
      "grid_auto_rows": null,
      "grid_column": null,
      "grid_gap": null,
      "grid_row": null,
      "grid_template_areas": null,
      "grid_template_columns": null,
      "grid_template_rows": null,
      "height": null,
      "justify_content": null,
      "justify_items": null,
      "left": null,
      "margin": null,
      "max_height": null,
      "max_width": null,
      "min_height": null,
      "min_width": null,
      "object_fit": null,
      "object_position": null,
      "order": null,
      "overflow": null,
      "overflow_x": null,
      "overflow_y": null,
      "padding": null,
      "right": null,
      "top": null,
      "visibility": null,
      "width": null
     }
    },
    "60230f4c0d914876a7cbaea360857040": {
     "model_module": "@jupyter-widgets/controls",
     "model_module_version": "1.5.0",
     "model_name": "HBoxModel",
     "state": {
      "_dom_classes": [],
      "_model_module": "@jupyter-widgets/controls",
      "_model_module_version": "1.5.0",
      "_model_name": "HBoxModel",
      "_view_count": null,
      "_view_module": "@jupyter-widgets/controls",
      "_view_module_version": "1.5.0",
      "_view_name": "HBoxView",
      "box_style": "",
      "children": [
       "IPY_MODEL_70db0c180e61489e87c404da84efd260",
       "IPY_MODEL_44efa9d52abf4d518109157b2b94bcc1",
       "IPY_MODEL_07d41b8cd5c849ee8b4a1c29fcdd22b5"
      ],
      "layout": "IPY_MODEL_21a68d6494d84806a0183cb6c5be60a3"
     }
    },
    "620b8bad8f934061b8d7b51e988b9b00": {
     "model_module": "@jupyter-widgets/base",
     "model_module_version": "1.2.0",
     "model_name": "LayoutModel",
     "state": {
      "_model_module": "@jupyter-widgets/base",
      "_model_module_version": "1.2.0",
      "_model_name": "LayoutModel",
      "_view_count": null,
      "_view_module": "@jupyter-widgets/base",
      "_view_module_version": "1.2.0",
      "_view_name": "LayoutView",
      "align_content": null,
      "align_items": null,
      "align_self": null,
      "border": null,
      "bottom": null,
      "display": null,
      "flex": null,
      "flex_flow": null,
      "grid_area": null,
      "grid_auto_columns": null,
      "grid_auto_flow": null,
      "grid_auto_rows": null,
      "grid_column": null,
      "grid_gap": null,
      "grid_row": null,
      "grid_template_areas": null,
      "grid_template_columns": null,
      "grid_template_rows": null,
      "height": null,
      "justify_content": null,
      "justify_items": null,
      "left": null,
      "margin": null,
      "max_height": null,
      "max_width": null,
      "min_height": null,
      "min_width": null,
      "object_fit": null,
      "object_position": null,
      "order": null,
      "overflow": null,
      "overflow_x": null,
      "overflow_y": null,
      "padding": null,
      "right": null,
      "top": null,
      "visibility": null,
      "width": null
     }
    },
    "62aa7ed498714c8a937ee2bc547e49f8": {
     "model_module": "@jupyter-widgets/base",
     "model_module_version": "1.2.0",
     "model_name": "LayoutModel",
     "state": {
      "_model_module": "@jupyter-widgets/base",
      "_model_module_version": "1.2.0",
      "_model_name": "LayoutModel",
      "_view_count": null,
      "_view_module": "@jupyter-widgets/base",
      "_view_module_version": "1.2.0",
      "_view_name": "LayoutView",
      "align_content": null,
      "align_items": null,
      "align_self": null,
      "border": null,
      "bottom": null,
      "display": null,
      "flex": null,
      "flex_flow": null,
      "grid_area": null,
      "grid_auto_columns": null,
      "grid_auto_flow": null,
      "grid_auto_rows": null,
      "grid_column": null,
      "grid_gap": null,
      "grid_row": null,
      "grid_template_areas": null,
      "grid_template_columns": null,
      "grid_template_rows": null,
      "height": null,
      "justify_content": null,
      "justify_items": null,
      "left": null,
      "margin": null,
      "max_height": null,
      "max_width": null,
      "min_height": null,
      "min_width": null,
      "object_fit": null,
      "object_position": null,
      "order": null,
      "overflow": null,
      "overflow_x": null,
      "overflow_y": null,
      "padding": null,
      "right": null,
      "top": null,
      "visibility": null,
      "width": null
     }
    },
    "6377042f42eb4c02b8cf013cf34a3797": {
     "model_module": "@jupyter-widgets/controls",
     "model_module_version": "1.5.0",
     "model_name": "HTMLModel",
     "state": {
      "_dom_classes": [],
      "_model_module": "@jupyter-widgets/controls",
      "_model_module_version": "1.5.0",
      "_model_name": "HTMLModel",
      "_view_count": null,
      "_view_module": "@jupyter-widgets/controls",
      "_view_module_version": "1.5.0",
      "_view_name": "HTMLView",
      "description": "",
      "description_tooltip": null,
      "layout": "IPY_MODEL_4c1c197f021f471d83f11c1d3556eda0",
      "placeholder": "​",
      "style": "IPY_MODEL_b3d92f512be241308d5d7b20b9e7c4e3",
      "value": " 102M/102M [00:02&lt;00:00, 42.6MB/s]"
     }
    },
    "63f07f0a393d484095e78a00434220ef": {
     "model_module": "@jupyter-widgets/base",
     "model_module_version": "1.2.0",
     "model_name": "LayoutModel",
     "state": {
      "_model_module": "@jupyter-widgets/base",
      "_model_module_version": "1.2.0",
      "_model_name": "LayoutModel",
      "_view_count": null,
      "_view_module": "@jupyter-widgets/base",
      "_view_module_version": "1.2.0",
      "_view_name": "LayoutView",
      "align_content": null,
      "align_items": null,
      "align_self": null,
      "border": null,
      "bottom": null,
      "display": null,
      "flex": null,
      "flex_flow": null,
      "grid_area": null,
      "grid_auto_columns": null,
      "grid_auto_flow": null,
      "grid_auto_rows": null,
      "grid_column": null,
      "grid_gap": null,
      "grid_row": null,
      "grid_template_areas": null,
      "grid_template_columns": null,
      "grid_template_rows": null,
      "height": null,
      "justify_content": null,
      "justify_items": null,
      "left": null,
      "margin": null,
      "max_height": null,
      "max_width": null,
      "min_height": null,
      "min_width": null,
      "object_fit": null,
      "object_position": null,
      "order": null,
      "overflow": null,
      "overflow_x": null,
      "overflow_y": null,
      "padding": null,
      "right": null,
      "top": null,
      "visibility": null,
      "width": null
     }
    },
    "645fcf975614466a86126c0685bc6ae1": {
     "model_module": "@jupyter-widgets/base",
     "model_module_version": "1.2.0",
     "model_name": "LayoutModel",
     "state": {
      "_model_module": "@jupyter-widgets/base",
      "_model_module_version": "1.2.0",
      "_model_name": "LayoutModel",
      "_view_count": null,
      "_view_module": "@jupyter-widgets/base",
      "_view_module_version": "1.2.0",
      "_view_name": "LayoutView",
      "align_content": null,
      "align_items": null,
      "align_self": null,
      "border": null,
      "bottom": null,
      "display": null,
      "flex": null,
      "flex_flow": null,
      "grid_area": null,
      "grid_auto_columns": null,
      "grid_auto_flow": null,
      "grid_auto_rows": null,
      "grid_column": null,
      "grid_gap": null,
      "grid_row": null,
      "grid_template_areas": null,
      "grid_template_columns": null,
      "grid_template_rows": null,
      "height": null,
      "justify_content": null,
      "justify_items": null,
      "left": null,
      "margin": null,
      "max_height": null,
      "max_width": null,
      "min_height": null,
      "min_width": null,
      "object_fit": null,
      "object_position": null,
      "order": null,
      "overflow": null,
      "overflow_x": null,
      "overflow_y": null,
      "padding": null,
      "right": null,
      "top": null,
      "visibility": null,
      "width": null
     }
    },
    "6550918c54e94872be9089392cb2d762": {
     "model_module": "@jupyter-widgets/controls",
     "model_module_version": "1.5.0",
     "model_name": "HTMLModel",
     "state": {
      "_dom_classes": [],
      "_model_module": "@jupyter-widgets/controls",
      "_model_module_version": "1.5.0",
      "_model_name": "HTMLModel",
      "_view_count": null,
      "_view_module": "@jupyter-widgets/controls",
      "_view_module_version": "1.5.0",
      "_view_name": "HTMLView",
      "description": "",
      "description_tooltip": null,
      "layout": "IPY_MODEL_f49e892992494f468e1e0528f2be6b4d",
      "placeholder": "​",
      "style": "IPY_MODEL_1bc33e81b85c4e318ecce9ec59ad7432",
      "value": " 899k/899k [00:00&lt;00:00, 3.36MB/s]"
     }
    },
    "65b3569649e14bac84dda77265db33e5": {
     "model_module": "@jupyter-widgets/controls",
     "model_module_version": "1.5.0",
     "model_name": "FloatProgressModel",
     "state": {
      "_dom_classes": [],
      "_model_module": "@jupyter-widgets/controls",
      "_model_module_version": "1.5.0",
      "_model_name": "FloatProgressModel",
      "_view_count": null,
      "_view_module": "@jupyter-widgets/controls",
      "_view_module_version": "1.5.0",
      "_view_name": "ProgressView",
      "bar_style": "success",
      "description": "",
      "description_tooltip": null,
      "layout": "IPY_MODEL_e53bafc9675f47f3af18a3aa06a2706b",
      "max": 898823,
      "min": 0,
      "orientation": "horizontal",
      "style": "IPY_MODEL_81134ce01e044bfdbbeaf1a8794b7019",
      "value": 898823
     }
    },
    "6606a3baff7c42a8a51521808cf068dd": {
     "model_module": "@jupyter-widgets/controls",
     "model_module_version": "1.5.0",
     "model_name": "DescriptionStyleModel",
     "state": {
      "_model_module": "@jupyter-widgets/controls",
      "_model_module_version": "1.5.0",
      "_model_name": "DescriptionStyleModel",
      "_view_count": null,
      "_view_module": "@jupyter-widgets/base",
      "_view_module_version": "1.2.0",
      "_view_name": "StyleView",
      "description_width": ""
     }
    },
    "676b55f0bf6c4eabb3ff038381e4f1ca": {
     "model_module": "@jupyter-widgets/base",
     "model_module_version": "1.2.0",
     "model_name": "LayoutModel",
     "state": {
      "_model_module": "@jupyter-widgets/base",
      "_model_module_version": "1.2.0",
      "_model_name": "LayoutModel",
      "_view_count": null,
      "_view_module": "@jupyter-widgets/base",
      "_view_module_version": "1.2.0",
      "_view_name": "LayoutView",
      "align_content": null,
      "align_items": null,
      "align_self": null,
      "border": null,
      "bottom": null,
      "display": null,
      "flex": null,
      "flex_flow": null,
      "grid_area": null,
      "grid_auto_columns": null,
      "grid_auto_flow": null,
      "grid_auto_rows": null,
      "grid_column": null,
      "grid_gap": null,
      "grid_row": null,
      "grid_template_areas": null,
      "grid_template_columns": null,
      "grid_template_rows": null,
      "height": null,
      "justify_content": null,
      "justify_items": null,
      "left": null,
      "margin": null,
      "max_height": null,
      "max_width": null,
      "min_height": null,
      "min_width": null,
      "object_fit": null,
      "object_position": null,
      "order": null,
      "overflow": null,
      "overflow_x": null,
      "overflow_y": null,
      "padding": null,
      "right": null,
      "top": null,
      "visibility": null,
      "width": null
     }
    },
    "677fa8bf1f01474ca2767021cc5ad806": {
     "model_module": "@jupyter-widgets/controls",
     "model_module_version": "1.5.0",
     "model_name": "HTMLModel",
     "state": {
      "_dom_classes": [],
      "_model_module": "@jupyter-widgets/controls",
      "_model_module_version": "1.5.0",
      "_model_name": "HTMLModel",
      "_view_count": null,
      "_view_module": "@jupyter-widgets/controls",
      "_view_module_version": "1.5.0",
      "_view_name": "HTMLView",
      "description": "",
      "description_tooltip": null,
      "layout": "IPY_MODEL_d7ece47b5da84d649ef9cd7899606f95",
      "placeholder": "​",
      "style": "IPY_MODEL_d7d819c8a9d344dc80f54bb358844724",
      "value": " 1.58k/1.58k [00:00&lt;00:00, 90.2kB/s]"
     }
    },
    "67c4bea40df6448d9e418c8846012563": {
     "model_module": "@jupyter-widgets/base",
     "model_module_version": "1.2.0",
     "model_name": "LayoutModel",
     "state": {
      "_model_module": "@jupyter-widgets/base",
      "_model_module_version": "1.2.0",
      "_model_name": "LayoutModel",
      "_view_count": null,
      "_view_module": "@jupyter-widgets/base",
      "_view_module_version": "1.2.0",
      "_view_name": "LayoutView",
      "align_content": null,
      "align_items": null,
      "align_self": null,
      "border": null,
      "bottom": null,
      "display": null,
      "flex": null,
      "flex_flow": null,
      "grid_area": null,
      "grid_auto_columns": null,
      "grid_auto_flow": null,
      "grid_auto_rows": null,
      "grid_column": null,
      "grid_gap": null,
      "grid_row": null,
      "grid_template_areas": null,
      "grid_template_columns": null,
      "grid_template_rows": null,
      "height": null,
      "justify_content": null,
      "justify_items": null,
      "left": null,
      "margin": null,
      "max_height": null,
      "max_width": null,
      "min_height": null,
      "min_width": null,
      "object_fit": null,
      "object_position": null,
      "order": null,
      "overflow": null,
      "overflow_x": null,
      "overflow_y": null,
      "padding": null,
      "right": null,
      "top": null,
      "visibility": null,
      "width": null
     }
    },
    "693a1bffdffe4c72beb79518366958bd": {
     "model_module": "@jupyter-widgets/base",
     "model_module_version": "1.2.0",
     "model_name": "LayoutModel",
     "state": {
      "_model_module": "@jupyter-widgets/base",
      "_model_module_version": "1.2.0",
      "_model_name": "LayoutModel",
      "_view_count": null,
      "_view_module": "@jupyter-widgets/base",
      "_view_module_version": "1.2.0",
      "_view_name": "LayoutView",
      "align_content": null,
      "align_items": null,
      "align_self": null,
      "border": null,
      "bottom": null,
      "display": null,
      "flex": null,
      "flex_flow": null,
      "grid_area": null,
      "grid_auto_columns": null,
      "grid_auto_flow": null,
      "grid_auto_rows": null,
      "grid_column": null,
      "grid_gap": null,
      "grid_row": null,
      "grid_template_areas": null,
      "grid_template_columns": null,
      "grid_template_rows": null,
      "height": null,
      "justify_content": null,
      "justify_items": null,
      "left": null,
      "margin": null,
      "max_height": null,
      "max_width": null,
      "min_height": null,
      "min_width": null,
      "object_fit": null,
      "object_position": null,
      "order": null,
      "overflow": null,
      "overflow_x": null,
      "overflow_y": null,
      "padding": null,
      "right": null,
      "top": null,
      "visibility": null,
      "width": null
     }
    },
    "6a568edcf0a3448880d347b5a089000d": {
     "model_module": "@jupyter-widgets/controls",
     "model_module_version": "1.5.0",
     "model_name": "ProgressStyleModel",
     "state": {
      "_model_module": "@jupyter-widgets/controls",
      "_model_module_version": "1.5.0",
      "_model_name": "ProgressStyleModel",
      "_view_count": null,
      "_view_module": "@jupyter-widgets/base",
      "_view_module_version": "1.2.0",
      "_view_name": "StyleView",
      "bar_color": null,
      "description_width": ""
     }
    },
    "6b256345508946e58486dcc175ce55f2": {
     "model_module": "@jupyter-widgets/controls",
     "model_module_version": "1.5.0",
     "model_name": "FloatProgressModel",
     "state": {
      "_dom_classes": [],
      "_model_module": "@jupyter-widgets/controls",
      "_model_module_version": "1.5.0",
      "_model_name": "FloatProgressModel",
      "_view_count": null,
      "_view_module": "@jupyter-widgets/controls",
      "_view_module_version": "1.5.0",
      "_view_name": "ProgressView",
      "bar_style": "success",
      "description": "",
      "description_tooltip": null,
      "layout": "IPY_MODEL_e2df8babf92d4505bfc917f5f8059fb5",
      "max": 203037,
      "min": 0,
      "orientation": "horizontal",
      "style": "IPY_MODEL_74bc6e106c4e45868e25c7b9aedcf6f1",
      "value": 203037
     }
    },
    "6ca1233051924b8f96ffe57d404b59b1": {
     "model_module": "@jupyter-widgets/controls",
     "model_module_version": "1.5.0",
     "model_name": "FloatProgressModel",
     "state": {
      "_dom_classes": [],
      "_model_module": "@jupyter-widgets/controls",
      "_model_module_version": "1.5.0",
      "_model_name": "FloatProgressModel",
      "_view_count": null,
      "_view_module": "@jupyter-widgets/controls",
      "_view_module_version": "1.5.0",
      "_view_name": "ProgressView",
      "bar_style": "success",
      "description": "",
      "description_tooltip": null,
      "layout": "IPY_MODEL_a8e7fd7932f641e9b36619e0afd49158",
      "max": 1355863,
      "min": 0,
      "orientation": "horizontal",
      "style": "IPY_MODEL_5ae5b8f6edad498aa87d81262159799c",
      "value": 1355863
     }
    },
    "6fead8540853460cb0eb570e3dcbf25f": {
     "model_module": "@jupyter-widgets/controls",
     "model_module_version": "1.5.0",
     "model_name": "FloatProgressModel",
     "state": {
      "_dom_classes": [],
      "_model_module": "@jupyter-widgets/controls",
      "_model_module_version": "1.5.0",
      "_model_name": "FloatProgressModel",
      "_view_count": null,
      "_view_module": "@jupyter-widgets/controls",
      "_view_module_version": "1.5.0",
      "_view_name": "ProgressView",
      "bar_style": "success",
      "description": "",
      "description_tooltip": null,
      "layout": "IPY_MODEL_c1af637187714793b0dc0dfdaac9394f",
      "max": 102038141,
      "min": 0,
      "orientation": "horizontal",
      "style": "IPY_MODEL_48c7516e2043481fbf39f3092ef5547f",
      "value": 102038141
     }
    },
    "70db0c180e61489e87c404da84efd260": {
     "model_module": "@jupyter-widgets/controls",
     "model_module_version": "1.5.0",
     "model_name": "HTMLModel",
     "state": {
      "_dom_classes": [],
      "_model_module": "@jupyter-widgets/controls",
      "_model_module_version": "1.5.0",
      "_model_name": "HTMLModel",
      "_view_count": null,
      "_view_module": "@jupyter-widgets/controls",
      "_view_module_version": "1.5.0",
      "_view_name": "HTMLView",
      "description": "",
      "description_tooltip": null,
      "layout": "IPY_MODEL_90248c87bfb74c5e9163c5aa1f60e33d",
      "placeholder": "​",
      "style": "IPY_MODEL_b86a040fc3a5415cbf1c410d7d1dbb3a",
      "value": "tokenizer_config.json: 100%"
     }
    },
    "70e6c7a9af864ba68feae1c0504fdd1c": {
     "model_module": "@jupyter-widgets/base",
     "model_module_version": "1.2.0",
     "model_name": "LayoutModel",
     "state": {
      "_model_module": "@jupyter-widgets/base",
      "_model_module_version": "1.2.0",
      "_model_name": "LayoutModel",
      "_view_count": null,
      "_view_module": "@jupyter-widgets/base",
      "_view_module_version": "1.2.0",
      "_view_name": "LayoutView",
      "align_content": null,
      "align_items": null,
      "align_self": null,
      "border": null,
      "bottom": null,
      "display": null,
      "flex": null,
      "flex_flow": null,
      "grid_area": null,
      "grid_auto_columns": null,
      "grid_auto_flow": null,
      "grid_auto_rows": null,
      "grid_column": null,
      "grid_gap": null,
      "grid_row": null,
      "grid_template_areas": null,
      "grid_template_columns": null,
      "grid_template_rows": null,
      "height": null,
      "justify_content": null,
      "justify_items": null,
      "left": null,
      "margin": null,
      "max_height": null,
      "max_width": null,
      "min_height": null,
      "min_width": null,
      "object_fit": null,
      "object_position": null,
      "order": null,
      "overflow": null,
      "overflow_x": null,
      "overflow_y": null,
      "padding": null,
      "right": null,
      "top": null,
      "visibility": null,
      "width": null
     }
    },
    "723339e6289340b9bde07a621fc54241": {
     "model_module": "@jupyter-widgets/controls",
     "model_module_version": "1.5.0",
     "model_name": "DescriptionStyleModel",
     "state": {
      "_model_module": "@jupyter-widgets/controls",
      "_model_module_version": "1.5.0",
      "_model_name": "DescriptionStyleModel",
      "_view_count": null,
      "_view_module": "@jupyter-widgets/base",
      "_view_module_version": "1.2.0",
      "_view_name": "StyleView",
      "description_width": ""
     }
    },
    "72444cd69f8b46ccbdd2e8be7a0122e4": {
     "model_module": "@jupyter-widgets/base",
     "model_module_version": "1.2.0",
     "model_name": "LayoutModel",
     "state": {
      "_model_module": "@jupyter-widgets/base",
      "_model_module_version": "1.2.0",
      "_model_name": "LayoutModel",
      "_view_count": null,
      "_view_module": "@jupyter-widgets/base",
      "_view_module_version": "1.2.0",
      "_view_name": "LayoutView",
      "align_content": null,
      "align_items": null,
      "align_self": null,
      "border": null,
      "bottom": null,
      "display": null,
      "flex": null,
      "flex_flow": null,
      "grid_area": null,
      "grid_auto_columns": null,
      "grid_auto_flow": null,
      "grid_auto_rows": null,
      "grid_column": null,
      "grid_gap": null,
      "grid_row": null,
      "grid_template_areas": null,
      "grid_template_columns": null,
      "grid_template_rows": null,
      "height": null,
      "justify_content": null,
      "justify_items": null,
      "left": null,
      "margin": null,
      "max_height": null,
      "max_width": null,
      "min_height": null,
      "min_width": null,
      "object_fit": null,
      "object_position": null,
      "order": null,
      "overflow": null,
      "overflow_x": null,
      "overflow_y": null,
      "padding": null,
      "right": null,
      "top": null,
      "visibility": null,
      "width": "20px"
     }
    },
    "73f75e571a77406192b89eac35c25b5e": {
     "model_module": "@jupyter-widgets/base",
     "model_module_version": "1.2.0",
     "model_name": "LayoutModel",
     "state": {
      "_model_module": "@jupyter-widgets/base",
      "_model_module_version": "1.2.0",
      "_model_name": "LayoutModel",
      "_view_count": null,
      "_view_module": "@jupyter-widgets/base",
      "_view_module_version": "1.2.0",
      "_view_name": "LayoutView",
      "align_content": null,
      "align_items": null,
      "align_self": null,
      "border": null,
      "bottom": null,
      "display": null,
      "flex": null,
      "flex_flow": null,
      "grid_area": null,
      "grid_auto_columns": null,
      "grid_auto_flow": null,
      "grid_auto_rows": null,
      "grid_column": null,
      "grid_gap": null,
      "grid_row": null,
      "grid_template_areas": null,
      "grid_template_columns": null,
      "grid_template_rows": null,
      "height": null,
      "justify_content": null,
      "justify_items": null,
      "left": null,
      "margin": null,
      "max_height": null,
      "max_width": null,
      "min_height": null,
      "min_width": null,
      "object_fit": null,
      "object_position": null,
      "order": null,
      "overflow": null,
      "overflow_x": null,
      "overflow_y": null,
      "padding": null,
      "right": null,
      "top": null,
      "visibility": null,
      "width": null
     }
    },
    "74bc6e106c4e45868e25c7b9aedcf6f1": {
     "model_module": "@jupyter-widgets/controls",
     "model_module_version": "1.5.0",
     "model_name": "ProgressStyleModel",
     "state": {
      "_model_module": "@jupyter-widgets/controls",
      "_model_module_version": "1.5.0",
      "_model_name": "ProgressStyleModel",
      "_view_count": null,
      "_view_module": "@jupyter-widgets/base",
      "_view_module_version": "1.2.0",
      "_view_name": "StyleView",
      "bar_color": null,
      "description_width": ""
     }
    },
    "7502ccb42dab4af89ae86d9de9d9eb4b": {
     "model_module": "@jupyter-widgets/controls",
     "model_module_version": "1.5.0",
     "model_name": "HTMLModel",
     "state": {
      "_dom_classes": [],
      "_model_module": "@jupyter-widgets/controls",
      "_model_module_version": "1.5.0",
      "_model_name": "HTMLModel",
      "_view_count": null,
      "_view_module": "@jupyter-widgets/controls",
      "_view_module_version": "1.5.0",
      "_view_name": "HTMLView",
      "description": "",
      "description_tooltip": null,
      "layout": "IPY_MODEL_8870aa71b3704dda837165b2135680fe",
      "placeholder": "​",
      "style": "IPY_MODEL_6606a3baff7c42a8a51521808cf068dd",
      "value": "generation_config.json: 100%"
     }
    },
    "75404a400b91499583ef19a988a5d9fd": {
     "model_module": "@jupyter-widgets/controls",
     "model_module_version": "1.5.0",
     "model_name": "FloatProgressModel",
     "state": {
      "_dom_classes": [],
      "_model_module": "@jupyter-widgets/controls",
      "_model_module_version": "1.5.0",
      "_model_name": "FloatProgressModel",
      "_view_count": null,
      "_view_module": "@jupyter-widgets/controls",
      "_view_module_version": "1.5.0",
      "_view_name": "ProgressView",
      "bar_style": "success",
      "description": "",
      "description_tooltip": null,
      "layout": "IPY_MODEL_090279dd743047699f5dd2f95b260be3",
      "max": 102183593,
      "min": 0,
      "orientation": "horizontal",
      "style": "IPY_MODEL_2e9fa1e7431d42c9a465c229be34abb8",
      "value": 102183593
     }
    },
    "75c5f97f4c404ee895bbf9fdf4224cf5": {
     "model_module": "@jupyter-widgets/controls",
     "model_module_version": "1.5.0",
     "model_name": "DescriptionStyleModel",
     "state": {
      "_model_module": "@jupyter-widgets/controls",
      "_model_module_version": "1.5.0",
      "_model_name": "DescriptionStyleModel",
      "_view_count": null,
      "_view_module": "@jupyter-widgets/base",
      "_view_module_version": "1.2.0",
      "_view_name": "StyleView",
      "description_width": ""
     }
    },
    "768685bdac694b67a68f53c2ad3a60b9": {
     "model_module": "@jupyter-widgets/controls",
     "model_module_version": "1.5.0",
     "model_name": "FloatProgressModel",
     "state": {
      "_dom_classes": [],
      "_model_module": "@jupyter-widgets/controls",
      "_model_module_version": "1.5.0",
      "_model_name": "FloatProgressModel",
      "_view_count": null,
      "_view_module": "@jupyter-widgets/controls",
      "_view_module_version": "1.5.0",
      "_view_name": "ProgressView",
      "bar_style": "success",
      "description": "",
      "description_tooltip": null,
      "layout": "IPY_MODEL_0d4a141d8684499dac45aac5c1f6cbaf",
      "max": 1355863,
      "min": 0,
      "orientation": "horizontal",
      "style": "IPY_MODEL_0d740beb50d14ce8ba975ab5ff6e0609",
      "value": 1355863
     }
    },
    "773c600c56ce4e58933eb44cdcb5efbd": {
     "model_module": "@jupyter-widgets/base",
     "model_module_version": "1.2.0",
     "model_name": "LayoutModel",
     "state": {
      "_model_module": "@jupyter-widgets/base",
      "_model_module_version": "1.2.0",
      "_model_name": "LayoutModel",
      "_view_count": null,
      "_view_module": "@jupyter-widgets/base",
      "_view_module_version": "1.2.0",
      "_view_name": "LayoutView",
      "align_content": null,
      "align_items": null,
      "align_self": null,
      "border": null,
      "bottom": null,
      "display": null,
      "flex": null,
      "flex_flow": null,
      "grid_area": null,
      "grid_auto_columns": null,
      "grid_auto_flow": null,
      "grid_auto_rows": null,
      "grid_column": null,
      "grid_gap": null,
      "grid_row": null,
      "grid_template_areas": null,
      "grid_template_columns": null,
      "grid_template_rows": null,
      "height": null,
      "justify_content": null,
      "justify_items": null,
      "left": null,
      "margin": null,
      "max_height": null,
      "max_width": null,
      "min_height": null,
      "min_width": null,
      "object_fit": null,
      "object_position": null,
      "order": null,
      "overflow": null,
      "overflow_x": null,
      "overflow_y": null,
      "padding": null,
      "right": null,
      "top": null,
      "visibility": null,
      "width": null
     }
    },
    "7760490ecf67423da8127ff2fd53835e": {
     "model_module": "@jupyter-widgets/base",
     "model_module_version": "1.2.0",
     "model_name": "LayoutModel",
     "state": {
      "_model_module": "@jupyter-widgets/base",
      "_model_module_version": "1.2.0",
      "_model_name": "LayoutModel",
      "_view_count": null,
      "_view_module": "@jupyter-widgets/base",
      "_view_module_version": "1.2.0",
      "_view_name": "LayoutView",
      "align_content": null,
      "align_items": null,
      "align_self": null,
      "border": null,
      "bottom": null,
      "display": null,
      "flex": null,
      "flex_flow": null,
      "grid_area": null,
      "grid_auto_columns": null,
      "grid_auto_flow": null,
      "grid_auto_rows": null,
      "grid_column": null,
      "grid_gap": null,
      "grid_row": null,
      "grid_template_areas": null,
      "grid_template_columns": null,
      "grid_template_rows": null,
      "height": null,
      "justify_content": null,
      "justify_items": null,
      "left": null,
      "margin": null,
      "max_height": null,
      "max_width": null,
      "min_height": null,
      "min_width": null,
      "object_fit": null,
      "object_position": null,
      "order": null,
      "overflow": null,
      "overflow_x": null,
      "overflow_y": null,
      "padding": null,
      "right": null,
      "top": null,
      "visibility": null,
      "width": null
     }
    },
    "78f8e47d12f945e09bac505df76b7a47": {
     "model_module": "@jupyter-widgets/base",
     "model_module_version": "1.2.0",
     "model_name": "LayoutModel",
     "state": {
      "_model_module": "@jupyter-widgets/base",
      "_model_module_version": "1.2.0",
      "_model_name": "LayoutModel",
      "_view_count": null,
      "_view_module": "@jupyter-widgets/base",
      "_view_module_version": "1.2.0",
      "_view_name": "LayoutView",
      "align_content": null,
      "align_items": null,
      "align_self": null,
      "border": null,
      "bottom": null,
      "display": null,
      "flex": null,
      "flex_flow": null,
      "grid_area": null,
      "grid_auto_columns": null,
      "grid_auto_flow": null,
      "grid_auto_rows": null,
      "grid_column": null,
      "grid_gap": null,
      "grid_row": null,
      "grid_template_areas": null,
      "grid_template_columns": null,
      "grid_template_rows": null,
      "height": null,
      "justify_content": null,
      "justify_items": null,
      "left": null,
      "margin": null,
      "max_height": null,
      "max_width": null,
      "min_height": null,
      "min_width": null,
      "object_fit": null,
      "object_position": null,
      "order": null,
      "overflow": null,
      "overflow_x": null,
      "overflow_y": null,
      "padding": null,
      "right": null,
      "top": null,
      "visibility": null,
      "width": null
     }
    },
    "792e72a2c7604910823e4d0e0fe9b044": {
     "model_module": "@jupyter-widgets/base",
     "model_module_version": "1.2.0",
     "model_name": "LayoutModel",
     "state": {
      "_model_module": "@jupyter-widgets/base",
      "_model_module_version": "1.2.0",
      "_model_name": "LayoutModel",
      "_view_count": null,
      "_view_module": "@jupyter-widgets/base",
      "_view_module_version": "1.2.0",
      "_view_name": "LayoutView",
      "align_content": null,
      "align_items": null,
      "align_self": null,
      "border": null,
      "bottom": null,
      "display": null,
      "flex": null,
      "flex_flow": null,
      "grid_area": null,
      "grid_auto_columns": null,
      "grid_auto_flow": null,
      "grid_auto_rows": null,
      "grid_column": null,
      "grid_gap": null,
      "grid_row": null,
      "grid_template_areas": null,
      "grid_template_columns": null,
      "grid_template_rows": null,
      "height": null,
      "justify_content": null,
      "justify_items": null,
      "left": null,
      "margin": null,
      "max_height": null,
      "max_width": null,
      "min_height": null,
      "min_width": null,
      "object_fit": null,
      "object_position": null,
      "order": null,
      "overflow": null,
      "overflow_x": null,
      "overflow_y": null,
      "padding": null,
      "right": null,
      "top": null,
      "visibility": null,
      "width": null
     }
    },
    "7990997a40ce49d08cd19c0562ba47a4": {
     "model_module": "@jupyter-widgets/controls",
     "model_module_version": "1.5.0",
     "model_name": "HBoxModel",
     "state": {
      "_dom_classes": [],
      "_model_module": "@jupyter-widgets/controls",
      "_model_module_version": "1.5.0",
      "_model_name": "HBoxModel",
      "_view_count": null,
      "_view_module": "@jupyter-widgets/controls",
      "_view_module_version": "1.5.0",
      "_view_name": "HBoxView",
      "box_style": "",
      "children": [
       "IPY_MODEL_eae7beb82e6e439193f374c6070f1ade",
       "IPY_MODEL_873913e060d9433287c592afdc9b5254",
       "IPY_MODEL_0ff71a97d98e4b49a1a88b0cee12fc7d"
      ],
      "layout": "IPY_MODEL_73f75e571a77406192b89eac35c25b5e"
     }
    },
    "7a575af95437450493fadd0f3f7e34c8": {
     "model_module": "@jupyter-widgets/base",
     "model_module_version": "1.2.0",
     "model_name": "LayoutModel",
     "state": {
      "_model_module": "@jupyter-widgets/base",
      "_model_module_version": "1.2.0",
      "_model_name": "LayoutModel",
      "_view_count": null,
      "_view_module": "@jupyter-widgets/base",
      "_view_module_version": "1.2.0",
      "_view_name": "LayoutView",
      "align_content": null,
      "align_items": null,
      "align_self": null,
      "border": null,
      "bottom": null,
      "display": null,
      "flex": null,
      "flex_flow": null,
      "grid_area": null,
      "grid_auto_columns": null,
      "grid_auto_flow": null,
      "grid_auto_rows": null,
      "grid_column": null,
      "grid_gap": null,
      "grid_row": null,
      "grid_template_areas": null,
      "grid_template_columns": null,
      "grid_template_rows": null,
      "height": null,
      "justify_content": null,
      "justify_items": null,
      "left": null,
      "margin": null,
      "max_height": null,
      "max_width": null,
      "min_height": null,
      "min_width": null,
      "object_fit": null,
      "object_position": null,
      "order": null,
      "overflow": null,
      "overflow_x": null,
      "overflow_y": null,
      "padding": null,
      "right": null,
      "top": null,
      "visibility": null,
      "width": null
     }
    },
    "7ab674685efb4ae5b76a3ce2de7a9903": {
     "model_module": "@jupyter-widgets/base",
     "model_module_version": "1.2.0",
     "model_name": "LayoutModel",
     "state": {
      "_model_module": "@jupyter-widgets/base",
      "_model_module_version": "1.2.0",
      "_model_name": "LayoutModel",
      "_view_count": null,
      "_view_module": "@jupyter-widgets/base",
      "_view_module_version": "1.2.0",
      "_view_name": "LayoutView",
      "align_content": null,
      "align_items": null,
      "align_self": null,
      "border": null,
      "bottom": null,
      "display": null,
      "flex": null,
      "flex_flow": null,
      "grid_area": null,
      "grid_auto_columns": null,
      "grid_auto_flow": null,
      "grid_auto_rows": null,
      "grid_column": null,
      "grid_gap": null,
      "grid_row": null,
      "grid_template_areas": null,
      "grid_template_columns": null,
      "grid_template_rows": null,
      "height": null,
      "justify_content": null,
      "justify_items": null,
      "left": null,
      "margin": null,
      "max_height": null,
      "max_width": null,
      "min_height": null,
      "min_width": null,
      "object_fit": null,
      "object_position": null,
      "order": null,
      "overflow": null,
      "overflow_x": null,
      "overflow_y": null,
      "padding": null,
      "right": null,
      "top": null,
      "visibility": null,
      "width": null
     }
    },
    "808e8cd6ac7c42c2ae50907c9b984439": {
     "model_module": "@jupyter-widgets/controls",
     "model_module_version": "1.5.0",
     "model_name": "FloatProgressModel",
     "state": {
      "_dom_classes": [],
      "_model_module": "@jupyter-widgets/controls",
      "_model_module_version": "1.5.0",
      "_model_name": "FloatProgressModel",
      "_view_count": null,
      "_view_module": "@jupyter-widgets/controls",
      "_view_module_version": "1.5.0",
      "_view_name": "ProgressView",
      "bar_style": "success",
      "description": "",
      "description_tooltip": null,
      "layout": "IPY_MODEL_3bedf4d1fa0e4107b9d43a01e8418f00",
      "max": 1628,
      "min": 0,
      "orientation": "horizontal",
      "style": "IPY_MODEL_b1d524abb7fa4beca3b579f81669cd79",
      "value": 1628
     }
    },
    "81134ce01e044bfdbbeaf1a8794b7019": {
     "model_module": "@jupyter-widgets/controls",
     "model_module_version": "1.5.0",
     "model_name": "ProgressStyleModel",
     "state": {
      "_model_module": "@jupyter-widgets/controls",
      "_model_module_version": "1.5.0",
      "_model_name": "ProgressStyleModel",
      "_view_count": null,
      "_view_module": "@jupyter-widgets/base",
      "_view_module_version": "1.2.0",
      "_view_name": "StyleView",
      "bar_color": null,
      "description_width": ""
     }
    },
    "814e0da6856b426eacbf6e209f2184de": {
     "model_module": "@jupyter-widgets/controls",
     "model_module_version": "1.5.0",
     "model_name": "FloatProgressModel",
     "state": {
      "_dom_classes": [],
      "_model_module": "@jupyter-widgets/controls",
      "_model_module_version": "1.5.0",
      "_model_name": "FloatProgressModel",
      "_view_count": null,
      "_view_module": "@jupyter-widgets/controls",
      "_view_module_version": "1.5.0",
      "_view_name": "ProgressView",
      "bar_style": "success",
      "description": "",
      "description_tooltip": null,
      "layout": "IPY_MODEL_72444cd69f8b46ccbdd2e8be7a0122e4",
      "max": 1,
      "min": 0,
      "orientation": "horizontal",
      "style": "IPY_MODEL_30bd54742dc340cd97292d30b2eec641",
      "value": 1
     }
    },
    "819b90184a0546eeb99c4b1c4d3b1ca4": {
     "model_module": "@jupyter-widgets/base",
     "model_module_version": "1.2.0",
     "model_name": "LayoutModel",
     "state": {
      "_model_module": "@jupyter-widgets/base",
      "_model_module_version": "1.2.0",
      "_model_name": "LayoutModel",
      "_view_count": null,
      "_view_module": "@jupyter-widgets/base",
      "_view_module_version": "1.2.0",
      "_view_name": "LayoutView",
      "align_content": null,
      "align_items": null,
      "align_self": null,
      "border": null,
      "bottom": null,
      "display": null,
      "flex": null,
      "flex_flow": null,
      "grid_area": null,
      "grid_auto_columns": null,
      "grid_auto_flow": null,
      "grid_auto_rows": null,
      "grid_column": null,
      "grid_gap": null,
      "grid_row": null,
      "grid_template_areas": null,
      "grid_template_columns": null,
      "grid_template_rows": null,
      "height": null,
      "justify_content": null,
      "justify_items": null,
      "left": null,
      "margin": null,
      "max_height": null,
      "max_width": null,
      "min_height": null,
      "min_width": null,
      "object_fit": null,
      "object_position": null,
      "order": null,
      "overflow": null,
      "overflow_x": null,
      "overflow_y": null,
      "padding": null,
      "right": null,
      "top": null,
      "visibility": null,
      "width": null
     }
    },
    "81a0d8b2dab04d409271a82fa5d60fcc": {
     "model_module": "@jupyter-widgets/base",
     "model_module_version": "1.2.0",
     "model_name": "LayoutModel",
     "state": {
      "_model_module": "@jupyter-widgets/base",
      "_model_module_version": "1.2.0",
      "_model_name": "LayoutModel",
      "_view_count": null,
      "_view_module": "@jupyter-widgets/base",
      "_view_module_version": "1.2.0",
      "_view_name": "LayoutView",
      "align_content": null,
      "align_items": null,
      "align_self": null,
      "border": null,
      "bottom": null,
      "display": null,
      "flex": null,
      "flex_flow": null,
      "grid_area": null,
      "grid_auto_columns": null,
      "grid_auto_flow": null,
      "grid_auto_rows": null,
      "grid_column": null,
      "grid_gap": null,
      "grid_row": null,
      "grid_template_areas": null,
      "grid_template_columns": null,
      "grid_template_rows": null,
      "height": null,
      "justify_content": null,
      "justify_items": null,
      "left": null,
      "margin": null,
      "max_height": null,
      "max_width": null,
      "min_height": null,
      "min_width": null,
      "object_fit": null,
      "object_position": null,
      "order": null,
      "overflow": null,
      "overflow_x": null,
      "overflow_y": null,
      "padding": null,
      "right": null,
      "top": null,
      "visibility": null,
      "width": null
     }
    },
    "821f46551d2f4256a1ad922f5da62cd3": {
     "model_module": "@jupyter-widgets/base",
     "model_module_version": "1.2.0",
     "model_name": "LayoutModel",
     "state": {
      "_model_module": "@jupyter-widgets/base",
      "_model_module_version": "1.2.0",
      "_model_name": "LayoutModel",
      "_view_count": null,
      "_view_module": "@jupyter-widgets/base",
      "_view_module_version": "1.2.0",
      "_view_name": "LayoutView",
      "align_content": null,
      "align_items": null,
      "align_self": null,
      "border": null,
      "bottom": null,
      "display": null,
      "flex": null,
      "flex_flow": null,
      "grid_area": null,
      "grid_auto_columns": null,
      "grid_auto_flow": null,
      "grid_auto_rows": null,
      "grid_column": null,
      "grid_gap": null,
      "grid_row": null,
      "grid_template_areas": null,
      "grid_template_columns": null,
      "grid_template_rows": null,
      "height": null,
      "justify_content": null,
      "justify_items": null,
      "left": null,
      "margin": null,
      "max_height": null,
      "max_width": null,
      "min_height": null,
      "min_width": null,
      "object_fit": null,
      "object_position": null,
      "order": null,
      "overflow": null,
      "overflow_x": null,
      "overflow_y": null,
      "padding": null,
      "right": null,
      "top": null,
      "visibility": null,
      "width": null
     }
    },
    "8490c7e7363f48da8fd317dca99e2b90": {
     "model_module": "@jupyter-widgets/controls",
     "model_module_version": "1.5.0",
     "model_name": "FloatProgressModel",
     "state": {
      "_dom_classes": [],
      "_model_module": "@jupyter-widgets/controls",
      "_model_module_version": "1.5.0",
      "_model_name": "FloatProgressModel",
      "_view_count": null,
      "_view_module": "@jupyter-widgets/controls",
      "_view_module_version": "1.5.0",
      "_view_name": "ProgressView",
      "bar_style": "success",
      "description": "",
      "description_tooltip": null,
      "layout": "IPY_MODEL_5f728c4f058943b291d967aa6f207c47",
      "max": 6440,
      "min": 0,
      "orientation": "horizontal",
      "style": "IPY_MODEL_234561d85d354a44be299afc6ba0cf5a",
      "value": 6440
     }
    },
    "873913e060d9433287c592afdc9b5254": {
     "model_module": "@jupyter-widgets/controls",
     "model_module_version": "1.5.0",
     "model_name": "FloatProgressModel",
     "state": {
      "_dom_classes": [],
      "_model_module": "@jupyter-widgets/controls",
      "_model_module_version": "1.5.0",
      "_model_name": "FloatProgressModel",
      "_view_count": null,
      "_view_module": "@jupyter-widgets/controls",
      "_view_module_version": "1.5.0",
      "_view_name": "ProgressView",
      "bar_style": "success",
      "description": "",
      "description_tooltip": null,
      "layout": "IPY_MODEL_afb1caf60b8241eeb19c6d12e9b90db8",
      "max": 456318,
      "min": 0,
      "orientation": "horizontal",
      "style": "IPY_MODEL_b3978b460d594d46a91a54ab1fb69936",
      "value": 456318
     }
    },
    "8870aa71b3704dda837165b2135680fe": {
     "model_module": "@jupyter-widgets/base",
     "model_module_version": "1.2.0",
     "model_name": "LayoutModel",
     "state": {
      "_model_module": "@jupyter-widgets/base",
      "_model_module_version": "1.2.0",
      "_model_name": "LayoutModel",
      "_view_count": null,
      "_view_module": "@jupyter-widgets/base",
      "_view_module_version": "1.2.0",
      "_view_name": "LayoutView",
      "align_content": null,
      "align_items": null,
      "align_self": null,
      "border": null,
      "bottom": null,
      "display": null,
      "flex": null,
      "flex_flow": null,
      "grid_area": null,
      "grid_auto_columns": null,
      "grid_auto_flow": null,
      "grid_auto_rows": null,
      "grid_column": null,
      "grid_gap": null,
      "grid_row": null,
      "grid_template_areas": null,
      "grid_template_columns": null,
      "grid_template_rows": null,
      "height": null,
      "justify_content": null,
      "justify_items": null,
      "left": null,
      "margin": null,
      "max_height": null,
      "max_width": null,
      "min_height": null,
      "min_width": null,
      "object_fit": null,
      "object_position": null,
      "order": null,
      "overflow": null,
      "overflow_x": null,
      "overflow_y": null,
      "padding": null,
      "right": null,
      "top": null,
      "visibility": null,
      "width": null
     }
    },
    "888a0dbd50b749e39cad7fd6632fe255": {
     "model_module": "@jupyter-widgets/controls",
     "model_module_version": "1.5.0",
     "model_name": "DescriptionStyleModel",
     "state": {
      "_model_module": "@jupyter-widgets/controls",
      "_model_module_version": "1.5.0",
      "_model_name": "DescriptionStyleModel",
      "_view_count": null,
      "_view_module": "@jupyter-widgets/base",
      "_view_module_version": "1.2.0",
      "_view_name": "StyleView",
      "description_width": ""
     }
    },
    "8cca5786a08b437095074bdb2493b655": {
     "model_module": "@jupyter-widgets/base",
     "model_module_version": "1.2.0",
     "model_name": "LayoutModel",
     "state": {
      "_model_module": "@jupyter-widgets/base",
      "_model_module_version": "1.2.0",
      "_model_name": "LayoutModel",
      "_view_count": null,
      "_view_module": "@jupyter-widgets/base",
      "_view_module_version": "1.2.0",
      "_view_name": "LayoutView",
      "align_content": null,
      "align_items": null,
      "align_self": null,
      "border": null,
      "bottom": null,
      "display": null,
      "flex": null,
      "flex_flow": null,
      "grid_area": null,
      "grid_auto_columns": null,
      "grid_auto_flow": null,
      "grid_auto_rows": null,
      "grid_column": null,
      "grid_gap": null,
      "grid_row": null,
      "grid_template_areas": null,
      "grid_template_columns": null,
      "grid_template_rows": null,
      "height": null,
      "justify_content": null,
      "justify_items": null,
      "left": null,
      "margin": null,
      "max_height": null,
      "max_width": null,
      "min_height": null,
      "min_width": null,
      "object_fit": null,
      "object_position": null,
      "order": null,
      "overflow": null,
      "overflow_x": null,
      "overflow_y": null,
      "padding": null,
      "right": null,
      "top": null,
      "visibility": null,
      "width": null
     }
    },
    "8dad8255d2484844b44c3d1eb5fdcc78": {
     "model_module": "@jupyter-widgets/controls",
     "model_module_version": "1.5.0",
     "model_name": "ProgressStyleModel",
     "state": {
      "_model_module": "@jupyter-widgets/controls",
      "_model_module_version": "1.5.0",
      "_model_name": "ProgressStyleModel",
      "_view_count": null,
      "_view_module": "@jupyter-widgets/base",
      "_view_module_version": "1.2.0",
      "_view_name": "StyleView",
      "bar_color": null,
      "description_width": ""
     }
    },
    "8dce086e3da04d4dab2bc8015e325c2a": {
     "model_module": "@jupyter-widgets/controls",
     "model_module_version": "1.5.0",
     "model_name": "HBoxModel",
     "state": {
      "_dom_classes": [],
      "_model_module": "@jupyter-widgets/controls",
      "_model_module_version": "1.5.0",
      "_model_name": "HBoxModel",
      "_view_count": null,
      "_view_module": "@jupyter-widgets/controls",
      "_view_module_version": "1.5.0",
      "_view_name": "HBoxView",
      "box_style": "",
      "children": [
       "IPY_MODEL_e1bc1c4a6b20432c9290e99f8c4df62b",
       "IPY_MODEL_2fff3b108994441a8b346d0363aa758c",
       "IPY_MODEL_0a6de8f2305e4e1994b7726eca95cdc5"
      ],
      "layout": "IPY_MODEL_40364d2c50d5425685362c3eee63e3d4"
     }
    },
    "8ed4f6d453d74d4c997f3a37df6aa15c": {
     "model_module": "@jupyter-widgets/base",
     "model_module_version": "1.2.0",
     "model_name": "LayoutModel",
     "state": {
      "_model_module": "@jupyter-widgets/base",
      "_model_module_version": "1.2.0",
      "_model_name": "LayoutModel",
      "_view_count": null,
      "_view_module": "@jupyter-widgets/base",
      "_view_module_version": "1.2.0",
      "_view_name": "LayoutView",
      "align_content": null,
      "align_items": null,
      "align_self": null,
      "border": null,
      "bottom": null,
      "display": null,
      "flex": null,
      "flex_flow": null,
      "grid_area": null,
      "grid_auto_columns": null,
      "grid_auto_flow": null,
      "grid_auto_rows": null,
      "grid_column": null,
      "grid_gap": null,
      "grid_row": null,
      "grid_template_areas": null,
      "grid_template_columns": null,
      "grid_template_rows": null,
      "height": null,
      "justify_content": null,
      "justify_items": null,
      "left": null,
      "margin": null,
      "max_height": null,
      "max_width": null,
      "min_height": null,
      "min_width": null,
      "object_fit": null,
      "object_position": null,
      "order": null,
      "overflow": null,
      "overflow_x": null,
      "overflow_y": null,
      "padding": null,
      "right": null,
      "top": null,
      "visibility": null,
      "width": null
     }
    },
    "8fb51dbbb07049849e688d0e244cd027": {
     "model_module": "@jupyter-widgets/controls",
     "model_module_version": "1.5.0",
     "model_name": "HTMLModel",
     "state": {
      "_dom_classes": [],
      "_model_module": "@jupyter-widgets/controls",
      "_model_module_version": "1.5.0",
      "_model_name": "HTMLModel",
      "_view_count": null,
      "_view_module": "@jupyter-widgets/controls",
      "_view_module_version": "1.5.0",
      "_view_name": "HTMLView",
      "description": "",
      "description_tooltip": null,
      "layout": "IPY_MODEL_676b55f0bf6c4eabb3ff038381e4f1ca",
      "placeholder": "​",
      "style": "IPY_MODEL_ce939d01e760447b98e3fc9acccea48d",
      "value": " 6440/6440 [00:04&lt;00:00, 1302.11 examples/s]"
     }
    },
    "8fe0db90d4c342499ed2ccbb605fe00a": {
     "model_module": "@jupyter-widgets/controls",
     "model_module_version": "1.5.0",
     "model_name": "DescriptionStyleModel",
     "state": {
      "_model_module": "@jupyter-widgets/controls",
      "_model_module_version": "1.5.0",
      "_model_name": "DescriptionStyleModel",
      "_view_count": null,
      "_view_module": "@jupyter-widgets/base",
      "_view_module_version": "1.2.0",
      "_view_name": "StyleView",
      "description_width": ""
     }
    },
    "90248c87bfb74c5e9163c5aa1f60e33d": {
     "model_module": "@jupyter-widgets/base",
     "model_module_version": "1.2.0",
     "model_name": "LayoutModel",
     "state": {
      "_model_module": "@jupyter-widgets/base",
      "_model_module_version": "1.2.0",
      "_model_name": "LayoutModel",
      "_view_count": null,
      "_view_module": "@jupyter-widgets/base",
      "_view_module_version": "1.2.0",
      "_view_name": "LayoutView",
      "align_content": null,
      "align_items": null,
      "align_self": null,
      "border": null,
      "bottom": null,
      "display": null,
      "flex": null,
      "flex_flow": null,
      "grid_area": null,
      "grid_auto_columns": null,
      "grid_auto_flow": null,
      "grid_auto_rows": null,
      "grid_column": null,
      "grid_gap": null,
      "grid_row": null,
      "grid_template_areas": null,
      "grid_template_columns": null,
      "grid_template_rows": null,
      "height": null,
      "justify_content": null,
      "justify_items": null,
      "left": null,
      "margin": null,
      "max_height": null,
      "max_width": null,
      "min_height": null,
      "min_width": null,
      "object_fit": null,
      "object_position": null,
      "order": null,
      "overflow": null,
      "overflow_x": null,
      "overflow_y": null,
      "padding": null,
      "right": null,
      "top": null,
      "visibility": null,
      "width": null
     }
    },
    "935db900a4dc428bb10cd0601e5f38ed": {
     "model_module": "@jupyter-widgets/controls",
     "model_module_version": "1.5.0",
     "model_name": "DescriptionStyleModel",
     "state": {
      "_model_module": "@jupyter-widgets/controls",
      "_model_module_version": "1.5.0",
      "_model_name": "DescriptionStyleModel",
      "_view_count": null,
      "_view_module": "@jupyter-widgets/base",
      "_view_module_version": "1.2.0",
      "_view_name": "StyleView",
      "description_width": ""
     }
    },
    "939e62e4267a4d4bad636b7996e430c4": {
     "model_module": "@jupyter-widgets/controls",
     "model_module_version": "1.5.0",
     "model_name": "HBoxModel",
     "state": {
      "_dom_classes": [],
      "_model_module": "@jupyter-widgets/controls",
      "_model_module_version": "1.5.0",
      "_model_name": "HBoxModel",
      "_view_count": null,
      "_view_module": "@jupyter-widgets/controls",
      "_view_module_version": "1.5.0",
      "_view_name": "HBoxView",
      "box_style": "",
      "children": [
       "IPY_MODEL_537734e31e864999b45d04d937067833",
       "IPY_MODEL_4f90298dff0d4ae1b530e8e75266fbe0",
       "IPY_MODEL_677fa8bf1f01474ca2767021cc5ad806"
      ],
      "layout": "IPY_MODEL_e21c332f332c48a2a01f686f3bddb03b"
     }
    },
    "948330148a974bfd8661e94178f6fe78": {
     "model_module": "@jupyter-widgets/base",
     "model_module_version": "1.2.0",
     "model_name": "LayoutModel",
     "state": {
      "_model_module": "@jupyter-widgets/base",
      "_model_module_version": "1.2.0",
      "_model_name": "LayoutModel",
      "_view_count": null,
      "_view_module": "@jupyter-widgets/base",
      "_view_module_version": "1.2.0",
      "_view_name": "LayoutView",
      "align_content": null,
      "align_items": null,
      "align_self": null,
      "border": null,
      "bottom": null,
      "display": null,
      "flex": null,
      "flex_flow": null,
      "grid_area": null,
      "grid_auto_columns": null,
      "grid_auto_flow": null,
      "grid_auto_rows": null,
      "grid_column": null,
      "grid_gap": null,
      "grid_row": null,
      "grid_template_areas": null,
      "grid_template_columns": null,
      "grid_template_rows": null,
      "height": null,
      "justify_content": null,
      "justify_items": null,
      "left": null,
      "margin": null,
      "max_height": null,
      "max_width": null,
      "min_height": null,
      "min_width": null,
      "object_fit": null,
      "object_position": null,
      "order": null,
      "overflow": null,
      "overflow_x": null,
      "overflow_y": null,
      "padding": null,
      "right": null,
      "top": null,
      "visibility": null,
      "width": null
     }
    },
    "94ce444dace04370af7b84169f638f3a": {
     "model_module": "@jupyter-widgets/controls",
     "model_module_version": "1.5.0",
     "model_name": "DescriptionStyleModel",
     "state": {
      "_model_module": "@jupyter-widgets/controls",
      "_model_module_version": "1.5.0",
      "_model_name": "DescriptionStyleModel",
      "_view_count": null,
      "_view_module": "@jupyter-widgets/base",
      "_view_module_version": "1.2.0",
      "_view_name": "StyleView",
      "description_width": ""
     }
    },
    "95d0f04251e64639b6506df803ba3383": {
     "model_module": "@jupyter-widgets/controls",
     "model_module_version": "1.5.0",
     "model_name": "DescriptionStyleModel",
     "state": {
      "_model_module": "@jupyter-widgets/controls",
      "_model_module_version": "1.5.0",
      "_model_name": "DescriptionStyleModel",
      "_view_count": null,
      "_view_module": "@jupyter-widgets/base",
      "_view_module_version": "1.2.0",
      "_view_name": "StyleView",
      "description_width": ""
     }
    },
    "970b796e82fc43208d7647e264494360": {
     "model_module": "@jupyter-widgets/base",
     "model_module_version": "1.2.0",
     "model_name": "LayoutModel",
     "state": {
      "_model_module": "@jupyter-widgets/base",
      "_model_module_version": "1.2.0",
      "_model_name": "LayoutModel",
      "_view_count": null,
      "_view_module": "@jupyter-widgets/base",
      "_view_module_version": "1.2.0",
      "_view_name": "LayoutView",
      "align_content": null,
      "align_items": null,
      "align_self": null,
      "border": null,
      "bottom": null,
      "display": null,
      "flex": null,
      "flex_flow": null,
      "grid_area": null,
      "grid_auto_columns": null,
      "grid_auto_flow": null,
      "grid_auto_rows": null,
      "grid_column": null,
      "grid_gap": null,
      "grid_row": null,
      "grid_template_areas": null,
      "grid_template_columns": null,
      "grid_template_rows": null,
      "height": null,
      "justify_content": null,
      "justify_items": null,
      "left": null,
      "margin": null,
      "max_height": null,
      "max_width": null,
      "min_height": null,
      "min_width": null,
      "object_fit": null,
      "object_position": null,
      "order": null,
      "overflow": null,
      "overflow_x": null,
      "overflow_y": null,
      "padding": null,
      "right": null,
      "top": null,
      "visibility": null,
      "width": null
     }
    },
    "9711e89eef1141b4bccc6b7049c881c1": {
     "model_module": "@jupyter-widgets/controls",
     "model_module_version": "1.5.0",
     "model_name": "DescriptionStyleModel",
     "state": {
      "_model_module": "@jupyter-widgets/controls",
      "_model_module_version": "1.5.0",
      "_model_name": "DescriptionStyleModel",
      "_view_count": null,
      "_view_module": "@jupyter-widgets/base",
      "_view_module_version": "1.2.0",
      "_view_name": "StyleView",
      "description_width": ""
     }
    },
    "97f4e847c79841078ea773b7d71f6226": {
     "model_module": "@jupyter-widgets/controls",
     "model_module_version": "1.5.0",
     "model_name": "FloatProgressModel",
     "state": {
      "_dom_classes": [],
      "_model_module": "@jupyter-widgets/controls",
      "_model_module_version": "1.5.0",
      "_model_name": "FloatProgressModel",
      "_view_count": null,
      "_view_module": "@jupyter-widgets/controls",
      "_view_module_version": "1.5.0",
      "_view_name": "ProgressView",
      "bar_style": "success",
      "description": "",
      "description_tooltip": null,
      "layout": "IPY_MODEL_15d0b1a4f76a4435a6f26952f68769f9",
      "max": 100,
      "min": 0,
      "orientation": "horizontal",
      "style": "IPY_MODEL_5a58bcb253d6415a825d279e9a12426f",
      "value": 100
     }
    },
    "994eddcfb7ca40b8a386cddb90ff3de1": {
     "model_module": "@jupyter-widgets/base",
     "model_module_version": "1.2.0",
     "model_name": "LayoutModel",
     "state": {
      "_model_module": "@jupyter-widgets/base",
      "_model_module_version": "1.2.0",
      "_model_name": "LayoutModel",
      "_view_count": null,
      "_view_module": "@jupyter-widgets/base",
      "_view_module_version": "1.2.0",
      "_view_name": "LayoutView",
      "align_content": null,
      "align_items": null,
      "align_self": null,
      "border": null,
      "bottom": null,
      "display": null,
      "flex": null,
      "flex_flow": null,
      "grid_area": null,
      "grid_auto_columns": null,
      "grid_auto_flow": null,
      "grid_auto_rows": null,
      "grid_column": null,
      "grid_gap": null,
      "grid_row": null,
      "grid_template_areas": null,
      "grid_template_columns": null,
      "grid_template_rows": null,
      "height": null,
      "justify_content": null,
      "justify_items": null,
      "left": null,
      "margin": null,
      "max_height": null,
      "max_width": null,
      "min_height": null,
      "min_width": null,
      "object_fit": null,
      "object_position": null,
      "order": null,
      "overflow": null,
      "overflow_x": null,
      "overflow_y": null,
      "padding": null,
      "right": null,
      "top": null,
      "visibility": null,
      "width": null
     }
    },
    "99ab798257c14ac3bb5e6db466fed859": {
     "model_module": "@jupyter-widgets/base",
     "model_module_version": "1.2.0",
     "model_name": "LayoutModel",
     "state": {
      "_model_module": "@jupyter-widgets/base",
      "_model_module_version": "1.2.0",
      "_model_name": "LayoutModel",
      "_view_count": null,
      "_view_module": "@jupyter-widgets/base",
      "_view_module_version": "1.2.0",
      "_view_name": "LayoutView",
      "align_content": null,
      "align_items": null,
      "align_self": null,
      "border": null,
      "bottom": null,
      "display": null,
      "flex": null,
      "flex_flow": null,
      "grid_area": null,
      "grid_auto_columns": null,
      "grid_auto_flow": null,
      "grid_auto_rows": null,
      "grid_column": null,
      "grid_gap": null,
      "grid_row": null,
      "grid_template_areas": null,
      "grid_template_columns": null,
      "grid_template_rows": null,
      "height": null,
      "justify_content": null,
      "justify_items": null,
      "left": null,
      "margin": null,
      "max_height": null,
      "max_width": null,
      "min_height": null,
      "min_width": null,
      "object_fit": null,
      "object_position": null,
      "order": null,
      "overflow": null,
      "overflow_x": null,
      "overflow_y": null,
      "padding": null,
      "right": null,
      "top": null,
      "visibility": null,
      "width": null
     }
    },
    "9ca5e16892e24abda5cc1c63bae15f79": {
     "model_module": "@jupyter-widgets/controls",
     "model_module_version": "1.5.0",
     "model_name": "HBoxModel",
     "state": {
      "_dom_classes": [],
      "_model_module": "@jupyter-widgets/controls",
      "_model_module_version": "1.5.0",
      "_model_name": "HBoxModel",
      "_view_count": null,
      "_view_module": "@jupyter-widgets/controls",
      "_view_module_version": "1.5.0",
      "_view_name": "HBoxView",
      "box_style": "",
      "children": [
       "IPY_MODEL_a9f617968f8a4a6ab3e30a43f84cf832",
       "IPY_MODEL_4a58a3ee34014402b4819eb465cc1ce1",
       "IPY_MODEL_9f2f157d3a874c5ab5aeef2511f53166"
      ],
      "layout": "IPY_MODEL_347a937fd26a4282852321a090e8f327"
     }
    },
    "9f2f157d3a874c5ab5aeef2511f53166": {
     "model_module": "@jupyter-widgets/controls",
     "model_module_version": "1.5.0",
     "model_name": "HTMLModel",
     "state": {
      "_dom_classes": [],
      "_model_module": "@jupyter-widgets/controls",
      "_model_module_version": "1.5.0",
      "_model_name": "HTMLModel",
      "_view_count": null,
      "_view_module": "@jupyter-widgets/controls",
      "_view_module_version": "1.5.0",
      "_view_name": "HTMLView",
      "description": "",
      "description_tooltip": null,
      "layout": "IPY_MODEL_0fc5a352eee9475aadad16d04623c82f",
      "placeholder": "​",
      "style": "IPY_MODEL_f3275fede1d64820849ca81269657637",
      "value": " 2.83k/2.83k [00:00&lt;00:00, 90.8kB/s]"
     }
    },
    "9f5e457357e340738ebce8efd2c0f4e7": {
     "model_module": "@jupyter-widgets/base",
     "model_module_version": "1.2.0",
     "model_name": "LayoutModel",
     "state": {
      "_model_module": "@jupyter-widgets/base",
      "_model_module_version": "1.2.0",
      "_model_name": "LayoutModel",
      "_view_count": null,
      "_view_module": "@jupyter-widgets/base",
      "_view_module_version": "1.2.0",
      "_view_name": "LayoutView",
      "align_content": null,
      "align_items": null,
      "align_self": null,
      "border": null,
      "bottom": null,
      "display": null,
      "flex": null,
      "flex_flow": null,
      "grid_area": null,
      "grid_auto_columns": null,
      "grid_auto_flow": null,
      "grid_auto_rows": null,
      "grid_column": null,
      "grid_gap": null,
      "grid_row": null,
      "grid_template_areas": null,
      "grid_template_columns": null,
      "grid_template_rows": null,
      "height": null,
      "justify_content": null,
      "justify_items": null,
      "left": null,
      "margin": null,
      "max_height": null,
      "max_width": null,
      "min_height": null,
      "min_width": null,
      "object_fit": null,
      "object_position": null,
      "order": null,
      "overflow": null,
      "overflow_x": null,
      "overflow_y": null,
      "padding": null,
      "right": null,
      "top": null,
      "visibility": null,
      "width": null
     }
    },
    "9f8174215d8d4e3491296de25f11ec1b": {
     "model_module": "@jupyter-widgets/controls",
     "model_module_version": "1.5.0",
     "model_name": "HBoxModel",
     "state": {
      "_dom_classes": [],
      "_model_module": "@jupyter-widgets/controls",
      "_model_module_version": "1.5.0",
      "_model_name": "HBoxModel",
      "_view_count": null,
      "_view_module": "@jupyter-widgets/controls",
      "_view_module_version": "1.5.0",
      "_view_name": "HBoxView",
      "box_style": "",
      "children": [
       "IPY_MODEL_129a990847c94841a9a5d9b4ded02fe2",
       "IPY_MODEL_a33c45f960c64bfd95af008b32ce7863",
       "IPY_MODEL_a6255f251374429081da5a8f3d40625f"
      ],
      "layout": "IPY_MODEL_efee9598bb4b41a2a8e4d6a24752c13f"
     }
    },
    "9fe8e0aa46244faab6d1f97b255f39d9": {
     "model_module": "@jupyter-widgets/controls",
     "model_module_version": "1.5.0",
     "model_name": "DescriptionStyleModel",
     "state": {
      "_model_module": "@jupyter-widgets/controls",
      "_model_module_version": "1.5.0",
      "_model_name": "DescriptionStyleModel",
      "_view_count": null,
      "_view_module": "@jupyter-widgets/base",
      "_view_module_version": "1.2.0",
      "_view_name": "StyleView",
      "description_width": ""
     }
    },
    "a0cbebb7629043798f25b9f31e4eec8f": {
     "model_module": "@jupyter-widgets/controls",
     "model_module_version": "1.5.0",
     "model_name": "HTMLModel",
     "state": {
      "_dom_classes": [],
      "_model_module": "@jupyter-widgets/controls",
      "_model_module_version": "1.5.0",
      "_model_name": "HTMLModel",
      "_view_count": null,
      "_view_module": "@jupyter-widgets/controls",
      "_view_module_version": "1.5.0",
      "_view_name": "HTMLView",
      "description": "",
      "description_tooltip": null,
      "layout": "IPY_MODEL_b96558e849204ce295b82ac92f4a31f2",
      "placeholder": "​",
      "style": "IPY_MODEL_ddc9f374288a412d8542ae8c0050ea07",
      "value": " 6436/6436 [00:03&lt;00:00, 1693.89 examples/s]"
     }
    },
    "a18474f77f1b4e309f4a3b344b02babe": {
     "model_module": "@jupyter-widgets/controls",
     "model_module_version": "1.5.0",
     "model_name": "ProgressStyleModel",
     "state": {
      "_model_module": "@jupyter-widgets/controls",
      "_model_module_version": "1.5.0",
      "_model_name": "ProgressStyleModel",
      "_view_count": null,
      "_view_module": "@jupyter-widgets/base",
      "_view_module_version": "1.2.0",
      "_view_name": "StyleView",
      "bar_color": null,
      "description_width": ""
     }
    },
    "a33c45f960c64bfd95af008b32ce7863": {
     "model_module": "@jupyter-widgets/controls",
     "model_module_version": "1.5.0",
     "model_name": "FloatProgressModel",
     "state": {
      "_dom_classes": [],
      "_model_module": "@jupyter-widgets/controls",
      "_model_module_version": "1.5.0",
      "_model_name": "FloatProgressModel",
      "_view_count": null,
      "_view_module": "@jupyter-widgets/controls",
      "_view_module_version": "1.5.0",
      "_view_name": "ProgressView",
      "bar_style": "success",
      "description": "",
      "description_tooltip": null,
      "layout": "IPY_MODEL_e4c950d7d9124a118abba29753dfe73b",
      "max": 1,
      "min": 0,
      "orientation": "horizontal",
      "style": "IPY_MODEL_e30a01d3607c4731b88eb1f573c0f361",
      "value": 1
     }
    },
    "a51024b7d0f64d56b178ecf84e751d01": {
     "model_module": "@jupyter-widgets/controls",
     "model_module_version": "1.5.0",
     "model_name": "HTMLModel",
     "state": {
      "_dom_classes": [],
      "_model_module": "@jupyter-widgets/controls",
      "_model_module_version": "1.5.0",
      "_model_name": "HTMLModel",
      "_view_count": null,
      "_view_module": "@jupyter-widgets/controls",
      "_view_module_version": "1.5.0",
      "_view_name": "HTMLView",
      "description": "",
      "description_tooltip": null,
      "layout": "IPY_MODEL_4feba70e41934bcf87e0355c6236abb2",
      "placeholder": "​",
      "style": "IPY_MODEL_888a0dbd50b749e39cad7fd6632fe255",
      "value": "Filter: 100%"
     }
    },
    "a59da76e51d94f688e03bb035c834825": {
     "model_module": "@jupyter-widgets/controls",
     "model_module_version": "1.5.0",
     "model_name": "HTMLModel",
     "state": {
      "_dom_classes": [],
      "_model_module": "@jupyter-widgets/controls",
      "_model_module_version": "1.5.0",
      "_model_name": "HTMLModel",
      "_view_count": null,
      "_view_module": "@jupyter-widgets/controls",
      "_view_module_version": "1.5.0",
      "_view_name": "HTMLView",
      "description": "",
      "description_tooltip": null,
      "layout": "IPY_MODEL_2562a4f314e74bda8ccf47e9d44c0076",
      "placeholder": "​",
      "style": "IPY_MODEL_5da15ea46cd74b6681dcaab766fdbb04",
      "value": "Filter: 100%"
     }
    },
    "a6255f251374429081da5a8f3d40625f": {
     "model_module": "@jupyter-widgets/controls",
     "model_module_version": "1.5.0",
     "model_name": "HTMLModel",
     "state": {
      "_dom_classes": [],
      "_model_module": "@jupyter-widgets/controls",
      "_model_module_version": "1.5.0",
      "_model_name": "HTMLModel",
      "_view_count": null,
      "_view_module": "@jupyter-widgets/controls",
      "_view_module_version": "1.5.0",
      "_view_name": "HTMLView",
      "description": "",
      "description_tooltip": null,
      "layout": "IPY_MODEL_99ab798257c14ac3bb5e6db466fed859",
      "placeholder": "​",
      "style": "IPY_MODEL_46ca84c0bf1f41bcb16576755f6fd34f",
      "value": " 203037/0 [02:34&lt;00:00, 1358.35 examples/s]"
     }
    },
    "a8301d7511bb4649942de5b977a03caf": {
     "model_module": "@jupyter-widgets/controls",
     "model_module_version": "1.5.0",
     "model_name": "ProgressStyleModel",
     "state": {
      "_model_module": "@jupyter-widgets/controls",
      "_model_module_version": "1.5.0",
      "_model_name": "ProgressStyleModel",
      "_view_count": null,
      "_view_module": "@jupyter-widgets/base",
      "_view_module_version": "1.2.0",
      "_view_name": "StyleView",
      "bar_color": null,
      "description_width": ""
     }
    },
    "a8e7fd7932f641e9b36619e0afd49158": {
     "model_module": "@jupyter-widgets/base",
     "model_module_version": "1.2.0",
     "model_name": "LayoutModel",
     "state": {
      "_model_module": "@jupyter-widgets/base",
      "_model_module_version": "1.2.0",
      "_model_name": "LayoutModel",
      "_view_count": null,
      "_view_module": "@jupyter-widgets/base",
      "_view_module_version": "1.2.0",
      "_view_name": "LayoutView",
      "align_content": null,
      "align_items": null,
      "align_self": null,
      "border": null,
      "bottom": null,
      "display": null,
      "flex": null,
      "flex_flow": null,
      "grid_area": null,
      "grid_auto_columns": null,
      "grid_auto_flow": null,
      "grid_auto_rows": null,
      "grid_column": null,
      "grid_gap": null,
      "grid_row": null,
      "grid_template_areas": null,
      "grid_template_columns": null,
      "grid_template_rows": null,
      "height": null,
      "justify_content": null,
      "justify_items": null,
      "left": null,
      "margin": null,
      "max_height": null,
      "max_width": null,
      "min_height": null,
      "min_width": null,
      "object_fit": null,
      "object_position": null,
      "order": null,
      "overflow": null,
      "overflow_x": null,
      "overflow_y": null,
      "padding": null,
      "right": null,
      "top": null,
      "visibility": null,
      "width": null
     }
    },
    "a9f617968f8a4a6ab3e30a43f84cf832": {
     "model_module": "@jupyter-widgets/controls",
     "model_module_version": "1.5.0",
     "model_name": "HTMLModel",
     "state": {
      "_dom_classes": [],
      "_model_module": "@jupyter-widgets/controls",
      "_model_module_version": "1.5.0",
      "_model_name": "HTMLModel",
      "_view_count": null,
      "_view_module": "@jupyter-widgets/controls",
      "_view_module_version": "1.5.0",
      "_view_name": "HTMLView",
      "description": "",
      "description_tooltip": null,
      "layout": "IPY_MODEL_f2fbcb104a8740e5a5950e9b65e23648",
      "placeholder": "​",
      "style": "IPY_MODEL_28ea50bc0d1048d9905ad9cd2b3765b3",
      "value": "Downloading readme: 100%"
     }
    },
    "ab285798fbb1487ca103a9867dade951": {
     "model_module": "@jupyter-widgets/controls",
     "model_module_version": "1.5.0",
     "model_name": "HTMLModel",
     "state": {
      "_dom_classes": [],
      "_model_module": "@jupyter-widgets/controls",
      "_model_module_version": "1.5.0",
      "_model_name": "HTMLModel",
      "_view_count": null,
      "_view_module": "@jupyter-widgets/controls",
      "_view_module_version": "1.5.0",
      "_view_name": "HTMLView",
      "description": "",
      "description_tooltip": null,
      "layout": "IPY_MODEL_1805e19538364df1bf01de4a24537aae",
      "placeholder": "​",
      "style": "IPY_MODEL_d1291c4356b647d4a7f5fb15ac4b1af8",
      "value": "Generating test split: "
     }
    },
    "ad72007c3ca64c40aba70b43076806de": {
     "model_module": "@jupyter-widgets/controls",
     "model_module_version": "1.5.0",
     "model_name": "HTMLModel",
     "state": {
      "_dom_classes": [],
      "_model_module": "@jupyter-widgets/controls",
      "_model_module_version": "1.5.0",
      "_model_name": "HTMLModel",
      "_view_count": null,
      "_view_module": "@jupyter-widgets/controls",
      "_view_module_version": "1.5.0",
      "_view_name": "HTMLView",
      "description": "",
      "description_tooltip": null,
      "layout": "IPY_MODEL_994eddcfb7ca40b8a386cddb90ff3de1",
      "placeholder": "​",
      "style": "IPY_MODEL_d5d6889da89b4ad9bdc3feaf097e011e",
      "value": "Map: 100%"
     }
    },
    "adc7f1ab6ac94f70b2e21b9c505b3695": {
     "model_module": "@jupyter-widgets/controls",
     "model_module_version": "1.5.0",
     "model_name": "HTMLModel",
     "state": {
      "_dom_classes": [],
      "_model_module": "@jupyter-widgets/controls",
      "_model_module_version": "1.5.0",
      "_model_name": "HTMLModel",
      "_view_count": null,
      "_view_module": "@jupyter-widgets/controls",
      "_view_module_version": "1.5.0",
      "_view_name": "HTMLView",
      "description": "",
      "description_tooltip": null,
      "layout": "IPY_MODEL_63f07f0a393d484095e78a00434220ef",
      "placeholder": "​",
      "style": "IPY_MODEL_de27b49cda494851a829b2cb2e83a993",
      "value": "Downloading builder script: 100%"
     }
    },
    "ae04afa080ad4792bd269724c5f098bd": {
     "model_module": "@jupyter-widgets/base",
     "model_module_version": "1.2.0",
     "model_name": "LayoutModel",
     "state": {
      "_model_module": "@jupyter-widgets/base",
      "_model_module_version": "1.2.0",
      "_model_name": "LayoutModel",
      "_view_count": null,
      "_view_module": "@jupyter-widgets/base",
      "_view_module_version": "1.2.0",
      "_view_name": "LayoutView",
      "align_content": null,
      "align_items": null,
      "align_self": null,
      "border": null,
      "bottom": null,
      "display": null,
      "flex": null,
      "flex_flow": null,
      "grid_area": null,
      "grid_auto_columns": null,
      "grid_auto_flow": null,
      "grid_auto_rows": null,
      "grid_column": null,
      "grid_gap": null,
      "grid_row": null,
      "grid_template_areas": null,
      "grid_template_columns": null,
      "grid_template_rows": null,
      "height": null,
      "justify_content": null,
      "justify_items": null,
      "left": null,
      "margin": null,
      "max_height": null,
      "max_width": null,
      "min_height": null,
      "min_width": null,
      "object_fit": null,
      "object_position": null,
      "order": null,
      "overflow": null,
      "overflow_x": null,
      "overflow_y": null,
      "padding": null,
      "right": null,
      "top": null,
      "visibility": null,
      "width": null
     }
    },
    "ae47488479de4e40a9bb7c52f6da7779": {
     "model_module": "@jupyter-widgets/controls",
     "model_module_version": "1.5.0",
     "model_name": "HTMLModel",
     "state": {
      "_dom_classes": [],
      "_model_module": "@jupyter-widgets/controls",
      "_model_module_version": "1.5.0",
      "_model_name": "HTMLModel",
      "_view_count": null,
      "_view_module": "@jupyter-widgets/controls",
      "_view_module_version": "1.5.0",
      "_view_name": "HTMLView",
      "description": "",
      "description_tooltip": null,
      "layout": "IPY_MODEL_819b90184a0546eeb99c4b1c4d3b1ca4",
      "placeholder": "​",
      "style": "IPY_MODEL_1e6f30e03075465eac88fd4bd0e81295",
      "value": "Downloading data: 100%"
     }
    },
    "afb1caf60b8241eeb19c6d12e9b90db8": {
     "model_module": "@jupyter-widgets/base",
     "model_module_version": "1.2.0",
     "model_name": "LayoutModel",
     "state": {
      "_model_module": "@jupyter-widgets/base",
      "_model_module_version": "1.2.0",
      "_model_name": "LayoutModel",
      "_view_count": null,
      "_view_module": "@jupyter-widgets/base",
      "_view_module_version": "1.2.0",
      "_view_name": "LayoutView",
      "align_content": null,
      "align_items": null,
      "align_self": null,
      "border": null,
      "bottom": null,
      "display": null,
      "flex": null,
      "flex_flow": null,
      "grid_area": null,
      "grid_auto_columns": null,
      "grid_auto_flow": null,
      "grid_auto_rows": null,
      "grid_column": null,
      "grid_gap": null,
      "grid_row": null,
      "grid_template_areas": null,
      "grid_template_columns": null,
      "grid_template_rows": null,
      "height": null,
      "justify_content": null,
      "justify_items": null,
      "left": null,
      "margin": null,
      "max_height": null,
      "max_width": null,
      "min_height": null,
      "min_width": null,
      "object_fit": null,
      "object_position": null,
      "order": null,
      "overflow": null,
      "overflow_x": null,
      "overflow_y": null,
      "padding": null,
      "right": null,
      "top": null,
      "visibility": null,
      "width": null
     }
    },
    "b1cc7aa15e634109989471a178b63dd5": {
     "model_module": "@jupyter-widgets/controls",
     "model_module_version": "1.5.0",
     "model_name": "HBoxModel",
     "state": {
      "_dom_classes": [],
      "_model_module": "@jupyter-widgets/controls",
      "_model_module_version": "1.5.0",
      "_model_name": "HBoxModel",
      "_view_count": null,
      "_view_module": "@jupyter-widgets/controls",
      "_view_module_version": "1.5.0",
      "_view_name": "HBoxView",
      "box_style": "",
      "children": [
       "IPY_MODEL_ad72007c3ca64c40aba70b43076806de",
       "IPY_MODEL_21a9f679cf6c4dbeb1e5d9e6dfb0beef",
       "IPY_MODEL_bdd5696bb64a43f9b1d91eb0f8c22590"
      ],
      "layout": "IPY_MODEL_f2315b91f59f4b9f83c4f077db2a9775"
     }
    },
    "b1d524abb7fa4beca3b579f81669cd79": {
     "model_module": "@jupyter-widgets/controls",
     "model_module_version": "1.5.0",
     "model_name": "ProgressStyleModel",
     "state": {
      "_model_module": "@jupyter-widgets/controls",
      "_model_module_version": "1.5.0",
      "_model_name": "ProgressStyleModel",
      "_view_count": null,
      "_view_module": "@jupyter-widgets/base",
      "_view_module_version": "1.2.0",
      "_view_name": "StyleView",
      "bar_color": null,
      "description_width": ""
     }
    },
    "b2a59241870b4a30a1e7ca7c945d2554": {
     "model_module": "@jupyter-widgets/base",
     "model_module_version": "1.2.0",
     "model_name": "LayoutModel",
     "state": {
      "_model_module": "@jupyter-widgets/base",
      "_model_module_version": "1.2.0",
      "_model_name": "LayoutModel",
      "_view_count": null,
      "_view_module": "@jupyter-widgets/base",
      "_view_module_version": "1.2.0",
      "_view_name": "LayoutView",
      "align_content": null,
      "align_items": null,
      "align_self": null,
      "border": null,
      "bottom": null,
      "display": null,
      "flex": null,
      "flex_flow": null,
      "grid_area": null,
      "grid_auto_columns": null,
      "grid_auto_flow": null,
      "grid_auto_rows": null,
      "grid_column": null,
      "grid_gap": null,
      "grid_row": null,
      "grid_template_areas": null,
      "grid_template_columns": null,
      "grid_template_rows": null,
      "height": null,
      "justify_content": null,
      "justify_items": null,
      "left": null,
      "margin": null,
      "max_height": null,
      "max_width": null,
      "min_height": null,
      "min_width": null,
      "object_fit": null,
      "object_position": null,
      "order": null,
      "overflow": null,
      "overflow_x": null,
      "overflow_y": null,
      "padding": null,
      "right": null,
      "top": null,
      "visibility": null,
      "width": null
     }
    },
    "b3978b460d594d46a91a54ab1fb69936": {
     "model_module": "@jupyter-widgets/controls",
     "model_module_version": "1.5.0",
     "model_name": "ProgressStyleModel",
     "state": {
      "_model_module": "@jupyter-widgets/controls",
      "_model_module_version": "1.5.0",
      "_model_name": "ProgressStyleModel",
      "_view_count": null,
      "_view_module": "@jupyter-widgets/base",
      "_view_module_version": "1.2.0",
      "_view_name": "StyleView",
      "bar_color": null,
      "description_width": ""
     }
    },
    "b3be8109f89e4386a9202dcc7367380d": {
     "model_module": "@jupyter-widgets/controls",
     "model_module_version": "1.5.0",
     "model_name": "HTMLModel",
     "state": {
      "_dom_classes": [],
      "_model_module": "@jupyter-widgets/controls",
      "_model_module_version": "1.5.0",
      "_model_name": "HTMLModel",
      "_view_count": null,
      "_view_module": "@jupyter-widgets/controls",
      "_view_module_version": "1.5.0",
      "_view_name": "HTMLView",
      "description": "",
      "description_tooltip": null,
      "layout": "IPY_MODEL_5cd99e64e1494054b6b95ea82bc2fd5e",
      "placeholder": "​",
      "style": "IPY_MODEL_fc2c8f12afe04974bfa76e16c92fef72",
      "value": "Generating validation split: "
     }
    },
    "b3d92f512be241308d5d7b20b9e7c4e3": {
     "model_module": "@jupyter-widgets/controls",
     "model_module_version": "1.5.0",
     "model_name": "DescriptionStyleModel",
     "state": {
      "_model_module": "@jupyter-widgets/controls",
      "_model_module_version": "1.5.0",
      "_model_name": "DescriptionStyleModel",
      "_view_count": null,
      "_view_module": "@jupyter-widgets/base",
      "_view_module_version": "1.2.0",
      "_view_name": "StyleView",
      "description_width": ""
     }
    },
    "b4b7d5405da04e4794ff05c193e09d44": {
     "model_module": "@jupyter-widgets/controls",
     "model_module_version": "1.5.0",
     "model_name": "HBoxModel",
     "state": {
      "_dom_classes": [],
      "_model_module": "@jupyter-widgets/controls",
      "_model_module_version": "1.5.0",
      "_model_name": "HBoxModel",
      "_view_count": null,
      "_view_module": "@jupyter-widgets/controls",
      "_view_module_version": "1.5.0",
      "_view_name": "HBoxView",
      "box_style": "",
      "children": [
       "IPY_MODEL_eec607aac5c949c8b20e9f844feb0429",
       "IPY_MODEL_6b256345508946e58486dcc175ce55f2",
       "IPY_MODEL_d23af9ad7f3b44fcbcb194db2c571729"
      ],
      "layout": "IPY_MODEL_8cca5786a08b437095074bdb2493b655"
     }
    },
    "b4f93f00e5eb4dbdb353124f125f84dd": {
     "model_module": "@jupyter-widgets/base",
     "model_module_version": "1.2.0",
     "model_name": "LayoutModel",
     "state": {
      "_model_module": "@jupyter-widgets/base",
      "_model_module_version": "1.2.0",
      "_model_name": "LayoutModel",
      "_view_count": null,
      "_view_module": "@jupyter-widgets/base",
      "_view_module_version": "1.2.0",
      "_view_name": "LayoutView",
      "align_content": null,
      "align_items": null,
      "align_self": null,
      "border": null,
      "bottom": null,
      "display": null,
      "flex": null,
      "flex_flow": null,
      "grid_area": null,
      "grid_auto_columns": null,
      "grid_auto_flow": null,
      "grid_auto_rows": null,
      "grid_column": null,
      "grid_gap": null,
      "grid_row": null,
      "grid_template_areas": null,
      "grid_template_columns": null,
      "grid_template_rows": null,
      "height": null,
      "justify_content": null,
      "justify_items": null,
      "left": null,
      "margin": null,
      "max_height": null,
      "max_width": null,
      "min_height": null,
      "min_width": null,
      "object_fit": null,
      "object_position": null,
      "order": null,
      "overflow": null,
      "overflow_x": null,
      "overflow_y": null,
      "padding": null,
      "right": null,
      "top": null,
      "visibility": null,
      "width": null
     }
    },
    "b66e9a427f424351b96cb57024f86457": {
     "model_module": "@jupyter-widgets/controls",
     "model_module_version": "1.5.0",
     "model_name": "DescriptionStyleModel",
     "state": {
      "_model_module": "@jupyter-widgets/controls",
      "_model_module_version": "1.5.0",
      "_model_name": "DescriptionStyleModel",
      "_view_count": null,
      "_view_module": "@jupyter-widgets/base",
      "_view_module_version": "1.2.0",
      "_view_name": "StyleView",
      "description_width": ""
     }
    },
    "b7b946ebf2c74e158432aeb0f818051c": {
     "model_module": "@jupyter-widgets/controls",
     "model_module_version": "1.5.0",
     "model_name": "HTMLModel",
     "state": {
      "_dom_classes": [],
      "_model_module": "@jupyter-widgets/controls",
      "_model_module_version": "1.5.0",
      "_model_name": "HTMLModel",
      "_view_count": null,
      "_view_module": "@jupyter-widgets/controls",
      "_view_module_version": "1.5.0",
      "_view_name": "HTMLView",
      "description": "",
      "description_tooltip": null,
      "layout": "IPY_MODEL_62aa7ed498714c8a937ee2bc547e49f8",
      "placeholder": "​",
      "style": "IPY_MODEL_56c69dce53f84f1da7bdfc4c6c9e0edc",
      "value": " 6436/0 [00:04&lt;00:00, 1190.30 examples/s]"
     }
    },
    "b86a040fc3a5415cbf1c410d7d1dbb3a": {
     "model_module": "@jupyter-widgets/controls",
     "model_module_version": "1.5.0",
     "model_name": "DescriptionStyleModel",
     "state": {
      "_model_module": "@jupyter-widgets/controls",
      "_model_module_version": "1.5.0",
      "_model_name": "DescriptionStyleModel",
      "_view_count": null,
      "_view_module": "@jupyter-widgets/base",
      "_view_module_version": "1.2.0",
      "_view_name": "StyleView",
      "description_width": ""
     }
    },
    "b96558e849204ce295b82ac92f4a31f2": {
     "model_module": "@jupyter-widgets/base",
     "model_module_version": "1.2.0",
     "model_name": "LayoutModel",
     "state": {
      "_model_module": "@jupyter-widgets/base",
      "_model_module_version": "1.2.0",
      "_model_name": "LayoutModel",
      "_view_count": null,
      "_view_module": "@jupyter-widgets/base",
      "_view_module_version": "1.2.0",
      "_view_name": "LayoutView",
      "align_content": null,
      "align_items": null,
      "align_self": null,
      "border": null,
      "bottom": null,
      "display": null,
      "flex": null,
      "flex_flow": null,
      "grid_area": null,
      "grid_auto_columns": null,
      "grid_auto_flow": null,
      "grid_auto_rows": null,
      "grid_column": null,
      "grid_gap": null,
      "grid_row": null,
      "grid_template_areas": null,
      "grid_template_columns": null,
      "grid_template_rows": null,
      "height": null,
      "justify_content": null,
      "justify_items": null,
      "left": null,
      "margin": null,
      "max_height": null,
      "max_width": null,
      "min_height": null,
      "min_width": null,
      "object_fit": null,
      "object_position": null,
      "order": null,
      "overflow": null,
      "overflow_x": null,
      "overflow_y": null,
      "padding": null,
      "right": null,
      "top": null,
      "visibility": null,
      "width": null
     }
    },
    "b968b0ee0e524728a579bfeb263a87b9": {
     "model_module": "@jupyter-widgets/base",
     "model_module_version": "1.2.0",
     "model_name": "LayoutModel",
     "state": {
      "_model_module": "@jupyter-widgets/base",
      "_model_module_version": "1.2.0",
      "_model_name": "LayoutModel",
      "_view_count": null,
      "_view_module": "@jupyter-widgets/base",
      "_view_module_version": "1.2.0",
      "_view_name": "LayoutView",
      "align_content": null,
      "align_items": null,
      "align_self": null,
      "border": null,
      "bottom": null,
      "display": null,
      "flex": null,
      "flex_flow": null,
      "grid_area": null,
      "grid_auto_columns": null,
      "grid_auto_flow": null,
      "grid_auto_rows": null,
      "grid_column": null,
      "grid_gap": null,
      "grid_row": null,
      "grid_template_areas": null,
      "grid_template_columns": null,
      "grid_template_rows": null,
      "height": null,
      "justify_content": null,
      "justify_items": null,
      "left": null,
      "margin": null,
      "max_height": null,
      "max_width": null,
      "min_height": null,
      "min_width": null,
      "object_fit": null,
      "object_position": null,
      "order": null,
      "overflow": null,
      "overflow_x": null,
      "overflow_y": null,
      "padding": null,
      "right": null,
      "top": null,
      "visibility": null,
      "width": null
     }
    },
    "ba8343cc0be3476b99f49eceb35a6f6e": {
     "model_module": "@jupyter-widgets/controls",
     "model_module_version": "1.5.0",
     "model_name": "DescriptionStyleModel",
     "state": {
      "_model_module": "@jupyter-widgets/controls",
      "_model_module_version": "1.5.0",
      "_model_name": "DescriptionStyleModel",
      "_view_count": null,
      "_view_module": "@jupyter-widgets/base",
      "_view_module_version": "1.2.0",
      "_view_name": "StyleView",
      "description_width": ""
     }
    },
    "ba8f95b7f07c4809bb506ded320d3a2f": {
     "model_module": "@jupyter-widgets/controls",
     "model_module_version": "1.5.0",
     "model_name": "ProgressStyleModel",
     "state": {
      "_model_module": "@jupyter-widgets/controls",
      "_model_module_version": "1.5.0",
      "_model_name": "ProgressStyleModel",
      "_view_count": null,
      "_view_module": "@jupyter-widgets/base",
      "_view_module_version": "1.2.0",
      "_view_name": "StyleView",
      "bar_color": null,
      "description_width": ""
     }
    },
    "bcb17cb5022a4b3cafa527c06a8113cf": {
     "model_module": "@jupyter-widgets/controls",
     "model_module_version": "1.5.0",
     "model_name": "HBoxModel",
     "state": {
      "_dom_classes": [],
      "_model_module": "@jupyter-widgets/controls",
      "_model_module_version": "1.5.0",
      "_model_name": "HBoxModel",
      "_view_count": null,
      "_view_module": "@jupyter-widgets/controls",
      "_view_module_version": "1.5.0",
      "_view_name": "HBoxView",
      "box_style": "",
      "children": [
       "IPY_MODEL_b3be8109f89e4386a9202dcc7367380d",
       "IPY_MODEL_814e0da6856b426eacbf6e209f2184de",
       "IPY_MODEL_b7b946ebf2c74e158432aeb0f818051c"
      ],
      "layout": "IPY_MODEL_c9033a2cde5e4fc88cd8a98dbe52a6f3"
     }
    },
    "bd49f3b139764b9492ff1cda5604b934": {
     "model_module": "@jupyter-widgets/controls",
     "model_module_version": "1.5.0",
     "model_name": "HBoxModel",
     "state": {
      "_dom_classes": [],
      "_model_module": "@jupyter-widgets/controls",
      "_model_module_version": "1.5.0",
      "_model_name": "HBoxModel",
      "_view_count": null,
      "_view_module": "@jupyter-widgets/controls",
      "_view_module_version": "1.5.0",
      "_view_name": "HBoxView",
      "box_style": "",
      "children": [
       "IPY_MODEL_288994821fa04a28a57aaaa095f941fe",
       "IPY_MODEL_65b3569649e14bac84dda77265db33e5",
       "IPY_MODEL_6550918c54e94872be9089392cb2d762"
      ],
      "layout": "IPY_MODEL_53e3a0bb75ad4725b7227aa00f3b8851"
     }
    },
    "bdd5696bb64a43f9b1d91eb0f8c22590": {
     "model_module": "@jupyter-widgets/controls",
     "model_module_version": "1.5.0",
     "model_name": "HTMLModel",
     "state": {
      "_dom_classes": [],
      "_model_module": "@jupyter-widgets/controls",
      "_model_module_version": "1.5.0",
      "_model_name": "HTMLModel",
      "_view_count": null,
      "_view_module": "@jupyter-widgets/controls",
      "_view_module_version": "1.5.0",
      "_view_name": "HTMLView",
      "description": "",
      "description_tooltip": null,
      "layout": "IPY_MODEL_be259d7dc02c40cda50473b9392c8791",
      "placeholder": "​",
      "style": "IPY_MODEL_55aa6c1cdf8e4d668786e1fd266c3822",
      "value": " 10/10 [00:01&lt;00:00,  7.27 examples/s]"
     }
    },
    "bdeb1bb9690541ff8ca9bb70f4d47880": {
     "model_module": "@jupyter-widgets/controls",
     "model_module_version": "1.5.0",
     "model_name": "HTMLModel",
     "state": {
      "_dom_classes": [],
      "_model_module": "@jupyter-widgets/controls",
      "_model_module_version": "1.5.0",
      "_model_name": "HTMLModel",
      "_view_count": null,
      "_view_module": "@jupyter-widgets/controls",
      "_view_module_version": "1.5.0",
      "_view_name": "HTMLView",
      "description": "",
      "description_tooltip": null,
      "layout": "IPY_MODEL_7760490ecf67423da8127ff2fd53835e",
      "placeholder": "​",
      "style": "IPY_MODEL_d0cfa3c7f9b54a14817a1411bd1ae44b",
      "value": "config.json: 100%"
     }
    },
    "be259d7dc02c40cda50473b9392c8791": {
     "model_module": "@jupyter-widgets/base",
     "model_module_version": "1.2.0",
     "model_name": "LayoutModel",
     "state": {
      "_model_module": "@jupyter-widgets/base",
      "_model_module_version": "1.2.0",
      "_model_name": "LayoutModel",
      "_view_count": null,
      "_view_module": "@jupyter-widgets/base",
      "_view_module_version": "1.2.0",
      "_view_name": "LayoutView",
      "align_content": null,
      "align_items": null,
      "align_self": null,
      "border": null,
      "bottom": null,
      "display": null,
      "flex": null,
      "flex_flow": null,
      "grid_area": null,
      "grid_auto_columns": null,
      "grid_auto_flow": null,
      "grid_auto_rows": null,
      "grid_column": null,
      "grid_gap": null,
      "grid_row": null,
      "grid_template_areas": null,
      "grid_template_columns": null,
      "grid_template_rows": null,
      "height": null,
      "justify_content": null,
      "justify_items": null,
      "left": null,
      "margin": null,
      "max_height": null,
      "max_width": null,
      "min_height": null,
      "min_width": null,
      "object_fit": null,
      "object_position": null,
      "order": null,
      "overflow": null,
      "overflow_x": null,
      "overflow_y": null,
      "padding": null,
      "right": null,
      "top": null,
      "visibility": null,
      "width": null
     }
    },
    "bf13ddf842f342d98ea020a9ab75c452": {
     "model_module": "@jupyter-widgets/controls",
     "model_module_version": "1.5.0",
     "model_name": "DescriptionStyleModel",
     "state": {
      "_model_module": "@jupyter-widgets/controls",
      "_model_module_version": "1.5.0",
      "_model_name": "DescriptionStyleModel",
      "_view_count": null,
      "_view_module": "@jupyter-widgets/base",
      "_view_module_version": "1.2.0",
      "_view_name": "StyleView",
      "description_width": ""
     }
    },
    "c1af637187714793b0dc0dfdaac9394f": {
     "model_module": "@jupyter-widgets/base",
     "model_module_version": "1.2.0",
     "model_name": "LayoutModel",
     "state": {
      "_model_module": "@jupyter-widgets/base",
      "_model_module_version": "1.2.0",
      "_model_name": "LayoutModel",
      "_view_count": null,
      "_view_module": "@jupyter-widgets/base",
      "_view_module_version": "1.2.0",
      "_view_name": "LayoutView",
      "align_content": null,
      "align_items": null,
      "align_self": null,
      "border": null,
      "bottom": null,
      "display": null,
      "flex": null,
      "flex_flow": null,
      "grid_area": null,
      "grid_auto_columns": null,
      "grid_auto_flow": null,
      "grid_auto_rows": null,
      "grid_column": null,
      "grid_gap": null,
      "grid_row": null,
      "grid_template_areas": null,
      "grid_template_columns": null,
      "grid_template_rows": null,
      "height": null,
      "justify_content": null,
      "justify_items": null,
      "left": null,
      "margin": null,
      "max_height": null,
      "max_width": null,
      "min_height": null,
      "min_width": null,
      "object_fit": null,
      "object_position": null,
      "order": null,
      "overflow": null,
      "overflow_x": null,
      "overflow_y": null,
      "padding": null,
      "right": null,
      "top": null,
      "visibility": null,
      "width": null
     }
    },
    "c651302cdeef4a17bf40f83d18cc596c": {
     "model_module": "@jupyter-widgets/controls",
     "model_module_version": "1.5.0",
     "model_name": "DescriptionStyleModel",
     "state": {
      "_model_module": "@jupyter-widgets/controls",
      "_model_module_version": "1.5.0",
      "_model_name": "DescriptionStyleModel",
      "_view_count": null,
      "_view_module": "@jupyter-widgets/base",
      "_view_module_version": "1.2.0",
      "_view_name": "StyleView",
      "description_width": ""
     }
    },
    "c681d87b61d849a49c4edfa5859a3fe8": {
     "model_module": "@jupyter-widgets/controls",
     "model_module_version": "1.5.0",
     "model_name": "HBoxModel",
     "state": {
      "_dom_classes": [],
      "_model_module": "@jupyter-widgets/controls",
      "_model_module_version": "1.5.0",
      "_model_name": "HBoxModel",
      "_view_count": null,
      "_view_module": "@jupyter-widgets/controls",
      "_view_module_version": "1.5.0",
      "_view_name": "HBoxView",
      "box_style": "",
      "children": [
       "IPY_MODEL_ab285798fbb1487ca103a9867dade951",
       "IPY_MODEL_ea2ac9c9f3d94cb5a686c7d6dee06555",
       "IPY_MODEL_f46b2c48b3ed4983886a04937e2a3f86"
      ],
      "layout": "IPY_MODEL_f71218e2885641a98cf8945cc575a8ec"
     }
    },
    "c9033a2cde5e4fc88cd8a98dbe52a6f3": {
     "model_module": "@jupyter-widgets/base",
     "model_module_version": "1.2.0",
     "model_name": "LayoutModel",
     "state": {
      "_model_module": "@jupyter-widgets/base",
      "_model_module_version": "1.2.0",
      "_model_name": "LayoutModel",
      "_view_count": null,
      "_view_module": "@jupyter-widgets/base",
      "_view_module_version": "1.2.0",
      "_view_name": "LayoutView",
      "align_content": null,
      "align_items": null,
      "align_self": null,
      "border": null,
      "bottom": null,
      "display": null,
      "flex": null,
      "flex_flow": null,
      "grid_area": null,
      "grid_auto_columns": null,
      "grid_auto_flow": null,
      "grid_auto_rows": null,
      "grid_column": null,
      "grid_gap": null,
      "grid_row": null,
      "grid_template_areas": null,
      "grid_template_columns": null,
      "grid_template_rows": null,
      "height": null,
      "justify_content": null,
      "justify_items": null,
      "left": null,
      "margin": null,
      "max_height": null,
      "max_width": null,
      "min_height": null,
      "min_width": null,
      "object_fit": null,
      "object_position": null,
      "order": null,
      "overflow": null,
      "overflow_x": null,
      "overflow_y": null,
      "padding": null,
      "right": null,
      "top": null,
      "visibility": null,
      "width": null
     }
    },
    "cdb7e6002926472d8d31afcc823a79f8": {
     "model_module": "@jupyter-widgets/controls",
     "model_module_version": "1.5.0",
     "model_name": "DescriptionStyleModel",
     "state": {
      "_model_module": "@jupyter-widgets/controls",
      "_model_module_version": "1.5.0",
      "_model_name": "DescriptionStyleModel",
      "_view_count": null,
      "_view_module": "@jupyter-widgets/base",
      "_view_module_version": "1.2.0",
      "_view_name": "StyleView",
      "description_width": ""
     }
    },
    "ce939d01e760447b98e3fc9acccea48d": {
     "model_module": "@jupyter-widgets/controls",
     "model_module_version": "1.5.0",
     "model_name": "DescriptionStyleModel",
     "state": {
      "_model_module": "@jupyter-widgets/controls",
      "_model_module_version": "1.5.0",
      "_model_name": "DescriptionStyleModel",
      "_view_count": null,
      "_view_module": "@jupyter-widgets/base",
      "_view_module_version": "1.2.0",
      "_view_name": "StyleView",
      "description_width": ""
     }
    },
    "cf75c1ede8f540aebfb1fc8d00078810": {
     "model_module": "@jupyter-widgets/base",
     "model_module_version": "1.2.0",
     "model_name": "LayoutModel",
     "state": {
      "_model_module": "@jupyter-widgets/base",
      "_model_module_version": "1.2.0",
      "_model_name": "LayoutModel",
      "_view_count": null,
      "_view_module": "@jupyter-widgets/base",
      "_view_module_version": "1.2.0",
      "_view_name": "LayoutView",
      "align_content": null,
      "align_items": null,
      "align_self": null,
      "border": null,
      "bottom": null,
      "display": null,
      "flex": null,
      "flex_flow": null,
      "grid_area": null,
      "grid_auto_columns": null,
      "grid_auto_flow": null,
      "grid_auto_rows": null,
      "grid_column": null,
      "grid_gap": null,
      "grid_row": null,
      "grid_template_areas": null,
      "grid_template_columns": null,
      "grid_template_rows": null,
      "height": null,
      "justify_content": null,
      "justify_items": null,
      "left": null,
      "margin": null,
      "max_height": null,
      "max_width": null,
      "min_height": null,
      "min_width": null,
      "object_fit": null,
      "object_position": null,
      "order": null,
      "overflow": null,
      "overflow_x": null,
      "overflow_y": null,
      "padding": null,
      "right": null,
      "top": null,
      "visibility": null,
      "width": null
     }
    },
    "d0cfa3c7f9b54a14817a1411bd1ae44b": {
     "model_module": "@jupyter-widgets/controls",
     "model_module_version": "1.5.0",
     "model_name": "DescriptionStyleModel",
     "state": {
      "_model_module": "@jupyter-widgets/controls",
      "_model_module_version": "1.5.0",
      "_model_name": "DescriptionStyleModel",
      "_view_count": null,
      "_view_module": "@jupyter-widgets/base",
      "_view_module_version": "1.2.0",
      "_view_name": "StyleView",
      "description_width": ""
     }
    },
    "d1291c4356b647d4a7f5fb15ac4b1af8": {
     "model_module": "@jupyter-widgets/controls",
     "model_module_version": "1.5.0",
     "model_name": "DescriptionStyleModel",
     "state": {
      "_model_module": "@jupyter-widgets/controls",
      "_model_module_version": "1.5.0",
      "_model_name": "DescriptionStyleModel",
      "_view_count": null,
      "_view_module": "@jupyter-widgets/base",
      "_view_module_version": "1.2.0",
      "_view_name": "StyleView",
      "description_width": ""
     }
    },
    "d23af9ad7f3b44fcbcb194db2c571729": {
     "model_module": "@jupyter-widgets/controls",
     "model_module_version": "1.5.0",
     "model_name": "HTMLModel",
     "state": {
      "_dom_classes": [],
      "_model_module": "@jupyter-widgets/controls",
      "_model_module_version": "1.5.0",
      "_model_name": "HTMLModel",
      "_view_count": null,
      "_view_module": "@jupyter-widgets/controls",
      "_view_module_version": "1.5.0",
      "_view_name": "HTMLView",
      "description": "",
      "description_tooltip": null,
      "layout": "IPY_MODEL_78f8e47d12f945e09bac505df76b7a47",
      "placeholder": "​",
      "style": "IPY_MODEL_bf13ddf842f342d98ea020a9ab75c452",
      "value": " 203037/203037 [02:11&lt;00:00, 1638.72 examples/s]"
     }
    },
    "d3cc48ec671244c7a466c1a20f2db0c8": {
     "model_module": "@jupyter-widgets/controls",
     "model_module_version": "1.5.0",
     "model_name": "HBoxModel",
     "state": {
      "_dom_classes": [],
      "_model_module": "@jupyter-widgets/controls",
      "_model_module_version": "1.5.0",
      "_model_name": "HBoxModel",
      "_view_count": null,
      "_view_module": "@jupyter-widgets/controls",
      "_view_module_version": "1.5.0",
      "_view_name": "HBoxView",
      "box_style": "",
      "children": [
       "IPY_MODEL_110b88bb682541ef9204ceefbd217143",
       "IPY_MODEL_d91ce204fc3947058711dace2f3cc07d",
       "IPY_MODEL_d8d2fc40e9964813ac8d8db2fc195683"
      ],
      "layout": "IPY_MODEL_5f8cd5c0c699421fa809a6bc37325d07"
     }
    },
    "d5d6889da89b4ad9bdc3feaf097e011e": {
     "model_module": "@jupyter-widgets/controls",
     "model_module_version": "1.5.0",
     "model_name": "DescriptionStyleModel",
     "state": {
      "_model_module": "@jupyter-widgets/controls",
      "_model_module_version": "1.5.0",
      "_model_name": "DescriptionStyleModel",
      "_view_count": null,
      "_view_module": "@jupyter-widgets/base",
      "_view_module_version": "1.2.0",
      "_view_name": "StyleView",
      "description_width": ""
     }
    },
    "d6b298a61ac947959f2c4ec24e02e85f": {
     "model_module": "@jupyter-widgets/base",
     "model_module_version": "1.2.0",
     "model_name": "LayoutModel",
     "state": {
      "_model_module": "@jupyter-widgets/base",
      "_model_module_version": "1.2.0",
      "_model_name": "LayoutModel",
      "_view_count": null,
      "_view_module": "@jupyter-widgets/base",
      "_view_module_version": "1.2.0",
      "_view_name": "LayoutView",
      "align_content": null,
      "align_items": null,
      "align_self": null,
      "border": null,
      "bottom": null,
      "display": null,
      "flex": null,
      "flex_flow": null,
      "grid_area": null,
      "grid_auto_columns": null,
      "grid_auto_flow": null,
      "grid_auto_rows": null,
      "grid_column": null,
      "grid_gap": null,
      "grid_row": null,
      "grid_template_areas": null,
      "grid_template_columns": null,
      "grid_template_rows": null,
      "height": null,
      "justify_content": null,
      "justify_items": null,
      "left": null,
      "margin": null,
      "max_height": null,
      "max_width": null,
      "min_height": null,
      "min_width": null,
      "object_fit": null,
      "object_position": null,
      "order": null,
      "overflow": null,
      "overflow_x": null,
      "overflow_y": null,
      "padding": null,
      "right": null,
      "top": null,
      "visibility": null,
      "width": null
     }
    },
    "d6f360a5030e409dacf1d18f927eca2e": {
     "model_module": "@jupyter-widgets/base",
     "model_module_version": "1.2.0",
     "model_name": "LayoutModel",
     "state": {
      "_model_module": "@jupyter-widgets/base",
      "_model_module_version": "1.2.0",
      "_model_name": "LayoutModel",
      "_view_count": null,
      "_view_module": "@jupyter-widgets/base",
      "_view_module_version": "1.2.0",
      "_view_name": "LayoutView",
      "align_content": null,
      "align_items": null,
      "align_self": null,
      "border": null,
      "bottom": null,
      "display": null,
      "flex": null,
      "flex_flow": null,
      "grid_area": null,
      "grid_auto_columns": null,
      "grid_auto_flow": null,
      "grid_auto_rows": null,
      "grid_column": null,
      "grid_gap": null,
      "grid_row": null,
      "grid_template_areas": null,
      "grid_template_columns": null,
      "grid_template_rows": null,
      "height": null,
      "justify_content": null,
      "justify_items": null,
      "left": null,
      "margin": null,
      "max_height": null,
      "max_width": null,
      "min_height": null,
      "min_width": null,
      "object_fit": null,
      "object_position": null,
      "order": null,
      "overflow": null,
      "overflow_x": null,
      "overflow_y": null,
      "padding": null,
      "right": null,
      "top": null,
      "visibility": null,
      "width": null
     }
    },
    "d7d819c8a9d344dc80f54bb358844724": {
     "model_module": "@jupyter-widgets/controls",
     "model_module_version": "1.5.0",
     "model_name": "DescriptionStyleModel",
     "state": {
      "_model_module": "@jupyter-widgets/controls",
      "_model_module_version": "1.5.0",
      "_model_name": "DescriptionStyleModel",
      "_view_count": null,
      "_view_module": "@jupyter-widgets/base",
      "_view_module_version": "1.2.0",
      "_view_name": "StyleView",
      "description_width": ""
     }
    },
    "d7ece47b5da84d649ef9cd7899606f95": {
     "model_module": "@jupyter-widgets/base",
     "model_module_version": "1.2.0",
     "model_name": "LayoutModel",
     "state": {
      "_model_module": "@jupyter-widgets/base",
      "_model_module_version": "1.2.0",
      "_model_name": "LayoutModel",
      "_view_count": null,
      "_view_module": "@jupyter-widgets/base",
      "_view_module_version": "1.2.0",
      "_view_name": "LayoutView",
      "align_content": null,
      "align_items": null,
      "align_self": null,
      "border": null,
      "bottom": null,
      "display": null,
      "flex": null,
      "flex_flow": null,
      "grid_area": null,
      "grid_auto_columns": null,
      "grid_auto_flow": null,
      "grid_auto_rows": null,
      "grid_column": null,
      "grid_gap": null,
      "grid_row": null,
      "grid_template_areas": null,
      "grid_template_columns": null,
      "grid_template_rows": null,
      "height": null,
      "justify_content": null,
      "justify_items": null,
      "left": null,
      "margin": null,
      "max_height": null,
      "max_width": null,
      "min_height": null,
      "min_width": null,
      "object_fit": null,
      "object_position": null,
      "order": null,
      "overflow": null,
      "overflow_x": null,
      "overflow_y": null,
      "padding": null,
      "right": null,
      "top": null,
      "visibility": null,
      "width": null
     }
    },
    "d8d2fc40e9964813ac8d8db2fc195683": {
     "model_module": "@jupyter-widgets/controls",
     "model_module_version": "1.5.0",
     "model_name": "HTMLModel",
     "state": {
      "_dom_classes": [],
      "_model_module": "@jupyter-widgets/controls",
      "_model_module_version": "1.5.0",
      "_model_name": "HTMLModel",
      "_view_count": null,
      "_view_module": "@jupyter-widgets/controls",
      "_view_module_version": "1.5.0",
      "_view_name": "HTMLView",
      "description": "",
      "description_tooltip": null,
      "layout": "IPY_MODEL_948330148a974bfd8661e94178f6fe78",
      "placeholder": "​",
      "style": "IPY_MODEL_503cc9d8715648b88b2e87f3d0cbc41e",
      "value": " 899k/899k [00:00&lt;00:00, 3.55MB/s]"
     }
    },
    "d90a7a7bd1404325a6a25f442b6f4c03": {
     "model_module": "@jupyter-widgets/controls",
     "model_module_version": "1.5.0",
     "model_name": "DescriptionStyleModel",
     "state": {
      "_model_module": "@jupyter-widgets/controls",
      "_model_module_version": "1.5.0",
      "_model_name": "DescriptionStyleModel",
      "_view_count": null,
      "_view_module": "@jupyter-widgets/base",
      "_view_module_version": "1.2.0",
      "_view_name": "StyleView",
      "description_width": ""
     }
    },
    "d910887617384fbe99641667ec537734": {
     "model_module": "@jupyter-widgets/controls",
     "model_module_version": "1.5.0",
     "model_name": "HBoxModel",
     "state": {
      "_dom_classes": [],
      "_model_module": "@jupyter-widgets/controls",
      "_model_module_version": "1.5.0",
      "_model_name": "HBoxModel",
      "_view_count": null,
      "_view_module": "@jupyter-widgets/controls",
      "_view_module_version": "1.5.0",
      "_view_name": "HBoxView",
      "box_style": "",
      "children": [
       "IPY_MODEL_587c9cba28f64c78870177b008401dee",
       "IPY_MODEL_2db9fb1c8f9f4dd98bca3fed3bf47f8b",
       "IPY_MODEL_13b6a858c0c84fe19a30c9945bf7fb77"
      ],
      "layout": "IPY_MODEL_7a575af95437450493fadd0f3f7e34c8"
     }
    },
    "d91ce204fc3947058711dace2f3cc07d": {
     "model_module": "@jupyter-widgets/controls",
     "model_module_version": "1.5.0",
     "model_name": "FloatProgressModel",
     "state": {
      "_dom_classes": [],
      "_model_module": "@jupyter-widgets/controls",
      "_model_module_version": "1.5.0",
      "_model_name": "FloatProgressModel",
      "_view_count": null,
      "_view_module": "@jupyter-widgets/controls",
      "_view_module_version": "1.5.0",
      "_view_name": "ProgressView",
      "bar_style": "success",
      "description": "",
      "description_tooltip": null,
      "layout": "IPY_MODEL_575a4b6b0eaa4cd2a6a60c91d8486141",
      "max": 898822,
      "min": 0,
      "orientation": "horizontal",
      "style": "IPY_MODEL_3023664697ad4a4ca3457b159fe24161",
      "value": 898822
     }
    },
    "da035ba8d99c4c20bb2aa5872a98ad5d": {
     "model_module": "@jupyter-widgets/controls",
     "model_module_version": "1.5.0",
     "model_name": "ProgressStyleModel",
     "state": {
      "_model_module": "@jupyter-widgets/controls",
      "_model_module_version": "1.5.0",
      "_model_name": "ProgressStyleModel",
      "_view_count": null,
      "_view_module": "@jupyter-widgets/base",
      "_view_module_version": "1.2.0",
      "_view_name": "StyleView",
      "bar_color": null,
      "description_width": ""
     }
    },
    "da6376eeac8744eb8c5d0e79b8b439c1": {
     "model_module": "@jupyter-widgets/base",
     "model_module_version": "1.2.0",
     "model_name": "LayoutModel",
     "state": {
      "_model_module": "@jupyter-widgets/base",
      "_model_module_version": "1.2.0",
      "_model_name": "LayoutModel",
      "_view_count": null,
      "_view_module": "@jupyter-widgets/base",
      "_view_module_version": "1.2.0",
      "_view_name": "LayoutView",
      "align_content": null,
      "align_items": null,
      "align_self": null,
      "border": null,
      "bottom": null,
      "display": null,
      "flex": null,
      "flex_flow": null,
      "grid_area": null,
      "grid_auto_columns": null,
      "grid_auto_flow": null,
      "grid_auto_rows": null,
      "grid_column": null,
      "grid_gap": null,
      "grid_row": null,
      "grid_template_areas": null,
      "grid_template_columns": null,
      "grid_template_rows": null,
      "height": null,
      "justify_content": null,
      "justify_items": null,
      "left": null,
      "margin": null,
      "max_height": null,
      "max_width": null,
      "min_height": null,
      "min_width": null,
      "object_fit": null,
      "object_position": null,
      "order": null,
      "overflow": null,
      "overflow_x": null,
      "overflow_y": null,
      "padding": null,
      "right": null,
      "top": null,
      "visibility": null,
      "width": null
     }
    },
    "dc84ae87daad42a4b3e40d675a145b6a": {
     "model_module": "@jupyter-widgets/base",
     "model_module_version": "1.2.0",
     "model_name": "LayoutModel",
     "state": {
      "_model_module": "@jupyter-widgets/base",
      "_model_module_version": "1.2.0",
      "_model_name": "LayoutModel",
      "_view_count": null,
      "_view_module": "@jupyter-widgets/base",
      "_view_module_version": "1.2.0",
      "_view_name": "LayoutView",
      "align_content": null,
      "align_items": null,
      "align_self": null,
      "border": null,
      "bottom": null,
      "display": null,
      "flex": null,
      "flex_flow": null,
      "grid_area": null,
      "grid_auto_columns": null,
      "grid_auto_flow": null,
      "grid_auto_rows": null,
      "grid_column": null,
      "grid_gap": null,
      "grid_row": null,
      "grid_template_areas": null,
      "grid_template_columns": null,
      "grid_template_rows": null,
      "height": null,
      "justify_content": null,
      "justify_items": null,
      "left": null,
      "margin": null,
      "max_height": null,
      "max_width": null,
      "min_height": null,
      "min_width": null,
      "object_fit": null,
      "object_position": null,
      "order": null,
      "overflow": null,
      "overflow_x": null,
      "overflow_y": null,
      "padding": null,
      "right": null,
      "top": null,
      "visibility": null,
      "width": null
     }
    },
    "dcf50b2c64a849cdbf1221c463544c0f": {
     "model_module": "@jupyter-widgets/controls",
     "model_module_version": "1.5.0",
     "model_name": "HBoxModel",
     "state": {
      "_dom_classes": [],
      "_model_module": "@jupyter-widgets/controls",
      "_model_module_version": "1.5.0",
      "_model_name": "HBoxModel",
      "_view_count": null,
      "_view_module": "@jupyter-widgets/controls",
      "_view_module_version": "1.5.0",
      "_view_name": "HBoxView",
      "box_style": "",
      "children": [
       "IPY_MODEL_a59da76e51d94f688e03bb035c834825",
       "IPY_MODEL_1da0e5b8e2d14f6bbf1c926db16a2b45",
       "IPY_MODEL_a0cbebb7629043798f25b9f31e4eec8f"
      ],
      "layout": "IPY_MODEL_e6c0ceeebaaf4368874a5e37c445be5d"
     }
    },
    "dd1b7e101bb841a199dd4842110a5fb6": {
     "model_module": "@jupyter-widgets/controls",
     "model_module_version": "1.5.0",
     "model_name": "HTMLModel",
     "state": {
      "_dom_classes": [],
      "_model_module": "@jupyter-widgets/controls",
      "_model_module_version": "1.5.0",
      "_model_name": "HTMLModel",
      "_view_count": null,
      "_view_module": "@jupyter-widgets/controls",
      "_view_module_version": "1.5.0",
      "_view_name": "HTMLView",
      "description": "",
      "description_tooltip": null,
      "layout": "IPY_MODEL_dc84ae87daad42a4b3e40d675a145b6a",
      "placeholder": "​",
      "style": "IPY_MODEL_ba8343cc0be3476b99f49eceb35a6f6e",
      "value": " 100/100 [00:07&lt;00:00, 13.39 examples/s]"
     }
    },
    "ddc9f374288a412d8542ae8c0050ea07": {
     "model_module": "@jupyter-widgets/controls",
     "model_module_version": "1.5.0",
     "model_name": "DescriptionStyleModel",
     "state": {
      "_model_module": "@jupyter-widgets/controls",
      "_model_module_version": "1.5.0",
      "_model_name": "DescriptionStyleModel",
      "_view_count": null,
      "_view_module": "@jupyter-widgets/base",
      "_view_module_version": "1.2.0",
      "_view_name": "StyleView",
      "description_width": ""
     }
    },
    "de27b49cda494851a829b2cb2e83a993": {
     "model_module": "@jupyter-widgets/controls",
     "model_module_version": "1.5.0",
     "model_name": "DescriptionStyleModel",
     "state": {
      "_model_module": "@jupyter-widgets/controls",
      "_model_module_version": "1.5.0",
      "_model_name": "DescriptionStyleModel",
      "_view_count": null,
      "_view_module": "@jupyter-widgets/base",
      "_view_module_version": "1.2.0",
      "_view_name": "StyleView",
      "description_width": ""
     }
    },
    "deba3be41db6462c9ad1526244c7f4a7": {
     "model_module": "@jupyter-widgets/controls",
     "model_module_version": "1.5.0",
     "model_name": "HBoxModel",
     "state": {
      "_dom_classes": [],
      "_model_module": "@jupyter-widgets/controls",
      "_model_module_version": "1.5.0",
      "_model_name": "HBoxModel",
      "_view_count": null,
      "_view_module": "@jupyter-widgets/controls",
      "_view_module_version": "1.5.0",
      "_view_name": "HBoxView",
      "box_style": "",
      "children": [
       "IPY_MODEL_487e9511859e4147b061650c37c91dfc",
       "IPY_MODEL_768685bdac694b67a68f53c2ad3a60b9",
       "IPY_MODEL_1bc6aebdbb9742b6a3a714be0f1e6e5a"
      ],
      "layout": "IPY_MODEL_821f46551d2f4256a1ad922f5da62cd3"
     }
    },
    "df90d610583c4868a57d43d9ac25fbb1": {
     "model_module": "@jupyter-widgets/controls",
     "model_module_version": "1.5.0",
     "model_name": "HBoxModel",
     "state": {
      "_dom_classes": [],
      "_model_module": "@jupyter-widgets/controls",
      "_model_module_version": "1.5.0",
      "_model_name": "HBoxModel",
      "_view_count": null,
      "_view_module": "@jupyter-widgets/controls",
      "_view_module_version": "1.5.0",
      "_view_name": "HBoxView",
      "box_style": "",
      "children": [
       "IPY_MODEL_a51024b7d0f64d56b178ecf84e751d01",
       "IPY_MODEL_8490c7e7363f48da8fd317dca99e2b90",
       "IPY_MODEL_8fb51dbbb07049849e688d0e244cd027"
      ],
      "layout": "IPY_MODEL_81a0d8b2dab04d409271a82fa5d60fcc"
     }
    },
    "dfb2c1d952494836aaaf1aff182cdc5c": {
     "model_module": "@jupyter-widgets/controls",
     "model_module_version": "1.5.0",
     "model_name": "DescriptionStyleModel",
     "state": {
      "_model_module": "@jupyter-widgets/controls",
      "_model_module_version": "1.5.0",
      "_model_name": "DescriptionStyleModel",
      "_view_count": null,
      "_view_module": "@jupyter-widgets/base",
      "_view_module_version": "1.2.0",
      "_view_name": "StyleView",
      "description_width": ""
     }
    },
    "e0b7de6a463f462198cef4a2bc767be1": {
     "model_module": "@jupyter-widgets/controls",
     "model_module_version": "1.5.0",
     "model_name": "HBoxModel",
     "state": {
      "_dom_classes": [],
      "_model_module": "@jupyter-widgets/controls",
      "_model_module_version": "1.5.0",
      "_model_name": "HBoxModel",
      "_view_count": null,
      "_view_module": "@jupyter-widgets/controls",
      "_view_module_version": "1.5.0",
      "_view_name": "HBoxView",
      "box_style": "",
      "children": [
       "IPY_MODEL_ae47488479de4e40a9bb7c52f6da7779",
       "IPY_MODEL_6fead8540853460cb0eb570e3dcbf25f",
       "IPY_MODEL_6377042f42eb4c02b8cf013cf34a3797"
      ],
      "layout": "IPY_MODEL_325a6fb0cc6044c0aa85105650324a99"
     }
    },
    "e1bc1c4a6b20432c9290e99f8c4df62b": {
     "model_module": "@jupyter-widgets/controls",
     "model_module_version": "1.5.0",
     "model_name": "HTMLModel",
     "state": {
      "_dom_classes": [],
      "_model_module": "@jupyter-widgets/controls",
      "_model_module_version": "1.5.0",
      "_model_name": "HTMLModel",
      "_view_count": null,
      "_view_module": "@jupyter-widgets/controls",
      "_view_module_version": "1.5.0",
      "_view_name": "HTMLView",
      "description": "",
      "description_tooltip": null,
      "layout": "IPY_MODEL_773c600c56ce4e58933eb44cdcb5efbd",
      "placeholder": "​",
      "style": "IPY_MODEL_31e80aaee5d14f8daf373dba0424c6b3",
      "value": "Downloading data: 100%"
     }
    },
    "e1e4343279884a88902f4dc40a3ce951": {
     "model_module": "@jupyter-widgets/controls",
     "model_module_version": "1.5.0",
     "model_name": "DescriptionStyleModel",
     "state": {
      "_model_module": "@jupyter-widgets/controls",
      "_model_module_version": "1.5.0",
      "_model_name": "DescriptionStyleModel",
      "_view_count": null,
      "_view_module": "@jupyter-widgets/base",
      "_view_module_version": "1.2.0",
      "_view_name": "StyleView",
      "description_width": ""
     }
    },
    "e21c332f332c48a2a01f686f3bddb03b": {
     "model_module": "@jupyter-widgets/base",
     "model_module_version": "1.2.0",
     "model_name": "LayoutModel",
     "state": {
      "_model_module": "@jupyter-widgets/base",
      "_model_module_version": "1.2.0",
      "_model_name": "LayoutModel",
      "_view_count": null,
      "_view_module": "@jupyter-widgets/base",
      "_view_module_version": "1.2.0",
      "_view_name": "LayoutView",
      "align_content": null,
      "align_items": null,
      "align_self": null,
      "border": null,
      "bottom": null,
      "display": null,
      "flex": null,
      "flex_flow": null,
      "grid_area": null,
      "grid_auto_columns": null,
      "grid_auto_flow": null,
      "grid_auto_rows": null,
      "grid_column": null,
      "grid_gap": null,
      "grid_row": null,
      "grid_template_areas": null,
      "grid_template_columns": null,
      "grid_template_rows": null,
      "height": null,
      "justify_content": null,
      "justify_items": null,
      "left": null,
      "margin": null,
      "max_height": null,
      "max_width": null,
      "min_height": null,
      "min_width": null,
      "object_fit": null,
      "object_position": null,
      "order": null,
      "overflow": null,
      "overflow_x": null,
      "overflow_y": null,
      "padding": null,
      "right": null,
      "top": null,
      "visibility": null,
      "width": null
     }
    },
    "e2df8babf92d4505bfc917f5f8059fb5": {
     "model_module": "@jupyter-widgets/base",
     "model_module_version": "1.2.0",
     "model_name": "LayoutModel",
     "state": {
      "_model_module": "@jupyter-widgets/base",
      "_model_module_version": "1.2.0",
      "_model_name": "LayoutModel",
      "_view_count": null,
      "_view_module": "@jupyter-widgets/base",
      "_view_module_version": "1.2.0",
      "_view_name": "LayoutView",
      "align_content": null,
      "align_items": null,
      "align_self": null,
      "border": null,
      "bottom": null,
      "display": null,
      "flex": null,
      "flex_flow": null,
      "grid_area": null,
      "grid_auto_columns": null,
      "grid_auto_flow": null,
      "grid_auto_rows": null,
      "grid_column": null,
      "grid_gap": null,
      "grid_row": null,
      "grid_template_areas": null,
      "grid_template_columns": null,
      "grid_template_rows": null,
      "height": null,
      "justify_content": null,
      "justify_items": null,
      "left": null,
      "margin": null,
      "max_height": null,
      "max_width": null,
      "min_height": null,
      "min_width": null,
      "object_fit": null,
      "object_position": null,
      "order": null,
      "overflow": null,
      "overflow_x": null,
      "overflow_y": null,
      "padding": null,
      "right": null,
      "top": null,
      "visibility": null,
      "width": null
     }
    },
    "e30a01d3607c4731b88eb1f573c0f361": {
     "model_module": "@jupyter-widgets/controls",
     "model_module_version": "1.5.0",
     "model_name": "ProgressStyleModel",
     "state": {
      "_model_module": "@jupyter-widgets/controls",
      "_model_module_version": "1.5.0",
      "_model_name": "ProgressStyleModel",
      "_view_count": null,
      "_view_module": "@jupyter-widgets/base",
      "_view_module_version": "1.2.0",
      "_view_name": "StyleView",
      "bar_color": null,
      "description_width": ""
     }
    },
    "e3ec5d870dcd432291a133633dc938ef": {
     "model_module": "@jupyter-widgets/controls",
     "model_module_version": "1.5.0",
     "model_name": "HBoxModel",
     "state": {
      "_dom_classes": [],
      "_model_module": "@jupyter-widgets/controls",
      "_model_module_version": "1.5.0",
      "_model_name": "HBoxModel",
      "_view_count": null,
      "_view_module": "@jupyter-widgets/controls",
      "_view_module_version": "1.5.0",
      "_view_name": "HBoxView",
      "box_style": "",
      "children": [
       "IPY_MODEL_bdeb1bb9690541ff8ca9bb70f4d47880",
       "IPY_MODEL_808e8cd6ac7c42c2ae50907c9b984439",
       "IPY_MODEL_fc65c8b535bd441e995dd6a2e154373b"
      ],
      "layout": "IPY_MODEL_16fe66cb04e54dc597ae3648fd70e39a"
     }
    },
    "e4c950d7d9124a118abba29753dfe73b": {
     "model_module": "@jupyter-widgets/base",
     "model_module_version": "1.2.0",
     "model_name": "LayoutModel",
     "state": {
      "_model_module": "@jupyter-widgets/base",
      "_model_module_version": "1.2.0",
      "_model_name": "LayoutModel",
      "_view_count": null,
      "_view_module": "@jupyter-widgets/base",
      "_view_module_version": "1.2.0",
      "_view_name": "LayoutView",
      "align_content": null,
      "align_items": null,
      "align_self": null,
      "border": null,
      "bottom": null,
      "display": null,
      "flex": null,
      "flex_flow": null,
      "grid_area": null,
      "grid_auto_columns": null,
      "grid_auto_flow": null,
      "grid_auto_rows": null,
      "grid_column": null,
      "grid_gap": null,
      "grid_row": null,
      "grid_template_areas": null,
      "grid_template_columns": null,
      "grid_template_rows": null,
      "height": null,
      "justify_content": null,
      "justify_items": null,
      "left": null,
      "margin": null,
      "max_height": null,
      "max_width": null,
      "min_height": null,
      "min_width": null,
      "object_fit": null,
      "object_position": null,
      "order": null,
      "overflow": null,
      "overflow_x": null,
      "overflow_y": null,
      "padding": null,
      "right": null,
      "top": null,
      "visibility": null,
      "width": "20px"
     }
    },
    "e4d2a368db214d1c811ad90f2ea0e68b": {
     "model_module": "@jupyter-widgets/controls",
     "model_module_version": "1.5.0",
     "model_name": "FloatProgressModel",
     "state": {
      "_dom_classes": [],
      "_model_module": "@jupyter-widgets/controls",
      "_model_module_version": "1.5.0",
      "_model_name": "FloatProgressModel",
      "_view_count": null,
      "_view_module": "@jupyter-widgets/controls",
      "_view_module_version": "1.5.0",
      "_view_name": "ProgressView",
      "bar_style": "success",
      "description": "",
      "description_tooltip": null,
      "layout": "IPY_MODEL_f5215fa2c32b4ccb9de327bf14f93767",
      "max": 363,
      "min": 0,
      "orientation": "horizontal",
      "style": "IPY_MODEL_ba8f95b7f07c4809bb506ded320d3a2f",
      "value": 363
     }
    },
    "e53bafc9675f47f3af18a3aa06a2706b": {
     "model_module": "@jupyter-widgets/base",
     "model_module_version": "1.2.0",
     "model_name": "LayoutModel",
     "state": {
      "_model_module": "@jupyter-widgets/base",
      "_model_module_version": "1.2.0",
      "_model_name": "LayoutModel",
      "_view_count": null,
      "_view_module": "@jupyter-widgets/base",
      "_view_module_version": "1.2.0",
      "_view_name": "LayoutView",
      "align_content": null,
      "align_items": null,
      "align_self": null,
      "border": null,
      "bottom": null,
      "display": null,
      "flex": null,
      "flex_flow": null,
      "grid_area": null,
      "grid_auto_columns": null,
      "grid_auto_flow": null,
      "grid_auto_rows": null,
      "grid_column": null,
      "grid_gap": null,
      "grid_row": null,
      "grid_template_areas": null,
      "grid_template_columns": null,
      "grid_template_rows": null,
      "height": null,
      "justify_content": null,
      "justify_items": null,
      "left": null,
      "margin": null,
      "max_height": null,
      "max_width": null,
      "min_height": null,
      "min_width": null,
      "object_fit": null,
      "object_position": null,
      "order": null,
      "overflow": null,
      "overflow_x": null,
      "overflow_y": null,
      "padding": null,
      "right": null,
      "top": null,
      "visibility": null,
      "width": null
     }
    },
    "e6c0ceeebaaf4368874a5e37c445be5d": {
     "model_module": "@jupyter-widgets/base",
     "model_module_version": "1.2.0",
     "model_name": "LayoutModel",
     "state": {
      "_model_module": "@jupyter-widgets/base",
      "_model_module_version": "1.2.0",
      "_model_name": "LayoutModel",
      "_view_count": null,
      "_view_module": "@jupyter-widgets/base",
      "_view_module_version": "1.2.0",
      "_view_name": "LayoutView",
      "align_content": null,
      "align_items": null,
      "align_self": null,
      "border": null,
      "bottom": null,
      "display": null,
      "flex": null,
      "flex_flow": null,
      "grid_area": null,
      "grid_auto_columns": null,
      "grid_auto_flow": null,
      "grid_auto_rows": null,
      "grid_column": null,
      "grid_gap": null,
      "grid_row": null,
      "grid_template_areas": null,
      "grid_template_columns": null,
      "grid_template_rows": null,
      "height": null,
      "justify_content": null,
      "justify_items": null,
      "left": null,
      "margin": null,
      "max_height": null,
      "max_width": null,
      "min_height": null,
      "min_width": null,
      "object_fit": null,
      "object_position": null,
      "order": null,
      "overflow": null,
      "overflow_x": null,
      "overflow_y": null,
      "padding": null,
      "right": null,
      "top": null,
      "visibility": null,
      "width": null
     }
    },
    "e79a87b51b394215a844eb3c944617a4": {
     "model_module": "@jupyter-widgets/controls",
     "model_module_version": "1.5.0",
     "model_name": "ProgressStyleModel",
     "state": {
      "_model_module": "@jupyter-widgets/controls",
      "_model_module_version": "1.5.0",
      "_model_name": "ProgressStyleModel",
      "_view_count": null,
      "_view_module": "@jupyter-widgets/base",
      "_view_module_version": "1.2.0",
      "_view_name": "StyleView",
      "bar_color": null,
      "description_width": ""
     }
    },
    "e8ff9a95c7be4ec6bcab15ea0e91e589": {
     "model_module": "@jupyter-widgets/base",
     "model_module_version": "1.2.0",
     "model_name": "LayoutModel",
     "state": {
      "_model_module": "@jupyter-widgets/base",
      "_model_module_version": "1.2.0",
      "_model_name": "LayoutModel",
      "_view_count": null,
      "_view_module": "@jupyter-widgets/base",
      "_view_module_version": "1.2.0",
      "_view_name": "LayoutView",
      "align_content": null,
      "align_items": null,
      "align_self": null,
      "border": null,
      "bottom": null,
      "display": null,
      "flex": null,
      "flex_flow": null,
      "grid_area": null,
      "grid_auto_columns": null,
      "grid_auto_flow": null,
      "grid_auto_rows": null,
      "grid_column": null,
      "grid_gap": null,
      "grid_row": null,
      "grid_template_areas": null,
      "grid_template_columns": null,
      "grid_template_rows": null,
      "height": null,
      "justify_content": null,
      "justify_items": null,
      "left": null,
      "margin": null,
      "max_height": null,
      "max_width": null,
      "min_height": null,
      "min_width": null,
      "object_fit": null,
      "object_position": null,
      "order": null,
      "overflow": null,
      "overflow_x": null,
      "overflow_y": null,
      "padding": null,
      "right": null,
      "top": null,
      "visibility": null,
      "width": null
     }
    },
    "e9f892fd9e56475b8ed8b2d46b411494": {
     "model_module": "@jupyter-widgets/controls",
     "model_module_version": "1.5.0",
     "model_name": "DescriptionStyleModel",
     "state": {
      "_model_module": "@jupyter-widgets/controls",
      "_model_module_version": "1.5.0",
      "_model_name": "DescriptionStyleModel",
      "_view_count": null,
      "_view_module": "@jupyter-widgets/base",
      "_view_module_version": "1.2.0",
      "_view_name": "StyleView",
      "description_width": ""
     }
    },
    "ea2ac9c9f3d94cb5a686c7d6dee06555": {
     "model_module": "@jupyter-widgets/controls",
     "model_module_version": "1.5.0",
     "model_name": "FloatProgressModel",
     "state": {
      "_dom_classes": [],
      "_model_module": "@jupyter-widgets/controls",
      "_model_module_version": "1.5.0",
      "_model_name": "FloatProgressModel",
      "_view_count": null,
      "_view_module": "@jupyter-widgets/controls",
      "_view_module_version": "1.5.0",
      "_view_name": "ProgressView",
      "bar_style": "success",
      "description": "",
      "description_tooltip": null,
      "layout": "IPY_MODEL_483322a3c4dd4168a7ebe510cf1dcd7b",
      "max": 1,
      "min": 0,
      "orientation": "horizontal",
      "style": "IPY_MODEL_5bf76946052140e79fad4a872d1b5b02",
      "value": 1
     }
    },
    "eae7beb82e6e439193f374c6070f1ade": {
     "model_module": "@jupyter-widgets/controls",
     "model_module_version": "1.5.0",
     "model_name": "HTMLModel",
     "state": {
      "_dom_classes": [],
      "_model_module": "@jupyter-widgets/controls",
      "_model_module_version": "1.5.0",
      "_model_name": "HTMLModel",
      "_view_count": null,
      "_view_module": "@jupyter-widgets/controls",
      "_view_module_version": "1.5.0",
      "_view_name": "HTMLView",
      "description": "",
      "description_tooltip": null,
      "layout": "IPY_MODEL_11a7e5a355dd419186037c9abaf9e768",
      "placeholder": "​",
      "style": "IPY_MODEL_2d4b9f55b97c47e3a9fe130ca9f06bd1",
      "value": "merges.txt: 100%"
     }
    },
    "ee57ad4b309c4a219826987a6afa0d6d": {
     "model_module": "@jupyter-widgets/controls",
     "model_module_version": "1.5.0",
     "model_name": "HTMLModel",
     "state": {
      "_dom_classes": [],
      "_model_module": "@jupyter-widgets/controls",
      "_model_module_version": "1.5.0",
      "_model_name": "HTMLModel",
      "_view_count": null,
      "_view_module": "@jupyter-widgets/controls",
      "_view_module_version": "1.5.0",
      "_view_name": "HTMLView",
      "description": "",
      "description_tooltip": null,
      "layout": "IPY_MODEL_b4f93f00e5eb4dbdb353124f125f84dd",
      "placeholder": "​",
      "style": "IPY_MODEL_143a31c889bb44f0ad514e522c010fcd",
      "value": "merges.txt: 100%"
     }
    },
    "eec607aac5c949c8b20e9f844feb0429": {
     "model_module": "@jupyter-widgets/controls",
     "model_module_version": "1.5.0",
     "model_name": "HTMLModel",
     "state": {
      "_dom_classes": [],
      "_model_module": "@jupyter-widgets/controls",
      "_model_module_version": "1.5.0",
      "_model_name": "HTMLModel",
      "_view_count": null,
      "_view_module": "@jupyter-widgets/controls",
      "_view_module_version": "1.5.0",
      "_view_name": "HTMLView",
      "description": "",
      "description_tooltip": null,
      "layout": "IPY_MODEL_1da40fc1e1834c24a77ee6e2ef8ece5e",
      "placeholder": "​",
      "style": "IPY_MODEL_f2115081fbdb423cae9587f4743ab526",
      "value": "Filter: 100%"
     }
    },
    "efee9598bb4b41a2a8e4d6a24752c13f": {
     "model_module": "@jupyter-widgets/base",
     "model_module_version": "1.2.0",
     "model_name": "LayoutModel",
     "state": {
      "_model_module": "@jupyter-widgets/base",
      "_model_module_version": "1.2.0",
      "_model_name": "LayoutModel",
      "_view_count": null,
      "_view_module": "@jupyter-widgets/base",
      "_view_module_version": "1.2.0",
      "_view_name": "LayoutView",
      "align_content": null,
      "align_items": null,
      "align_self": null,
      "border": null,
      "bottom": null,
      "display": null,
      "flex": null,
      "flex_flow": null,
      "grid_area": null,
      "grid_auto_columns": null,
      "grid_auto_flow": null,
      "grid_auto_rows": null,
      "grid_column": null,
      "grid_gap": null,
      "grid_row": null,
      "grid_template_areas": null,
      "grid_template_columns": null,
      "grid_template_rows": null,
      "height": null,
      "justify_content": null,
      "justify_items": null,
      "left": null,
      "margin": null,
      "max_height": null,
      "max_width": null,
      "min_height": null,
      "min_width": null,
      "object_fit": null,
      "object_position": null,
      "order": null,
      "overflow": null,
      "overflow_x": null,
      "overflow_y": null,
      "padding": null,
      "right": null,
      "top": null,
      "visibility": null,
      "width": null
     }
    },
    "f1c3a0fac7bf4846a119c1af4ec1da1e": {
     "model_module": "@jupyter-widgets/controls",
     "model_module_version": "1.5.0",
     "model_name": "HTMLModel",
     "state": {
      "_dom_classes": [],
      "_model_module": "@jupyter-widgets/controls",
      "_model_module_version": "1.5.0",
      "_model_name": "HTMLModel",
      "_view_count": null,
      "_view_module": "@jupyter-widgets/controls",
      "_view_module_version": "1.5.0",
      "_view_name": "HTMLView",
      "description": "",
      "description_tooltip": null,
      "layout": "IPY_MODEL_620b8bad8f934061b8d7b51e988b9b00",
      "placeholder": "​",
      "style": "IPY_MODEL_e1e4343279884a88902f4dc40a3ce951",
      "value": " 363/363 [00:00&lt;00:00, 11.7kB/s]"
     }
    },
    "f2115081fbdb423cae9587f4743ab526": {
     "model_module": "@jupyter-widgets/controls",
     "model_module_version": "1.5.0",
     "model_name": "DescriptionStyleModel",
     "state": {
      "_model_module": "@jupyter-widgets/controls",
      "_model_module_version": "1.5.0",
      "_model_name": "DescriptionStyleModel",
      "_view_count": null,
      "_view_module": "@jupyter-widgets/base",
      "_view_module_version": "1.2.0",
      "_view_name": "StyleView",
      "description_width": ""
     }
    },
    "f2315b91f59f4b9f83c4f077db2a9775": {
     "model_module": "@jupyter-widgets/base",
     "model_module_version": "1.2.0",
     "model_name": "LayoutModel",
     "state": {
      "_model_module": "@jupyter-widgets/base",
      "_model_module_version": "1.2.0",
      "_model_name": "LayoutModel",
      "_view_count": null,
      "_view_module": "@jupyter-widgets/base",
      "_view_module_version": "1.2.0",
      "_view_name": "LayoutView",
      "align_content": null,
      "align_items": null,
      "align_self": null,
      "border": null,
      "bottom": null,
      "display": null,
      "flex": null,
      "flex_flow": null,
      "grid_area": null,
      "grid_auto_columns": null,
      "grid_auto_flow": null,
      "grid_auto_rows": null,
      "grid_column": null,
      "grid_gap": null,
      "grid_row": null,
      "grid_template_areas": null,
      "grid_template_columns": null,
      "grid_template_rows": null,
      "height": null,
      "justify_content": null,
      "justify_items": null,
      "left": null,
      "margin": null,
      "max_height": null,
      "max_width": null,
      "min_height": null,
      "min_width": null,
      "object_fit": null,
      "object_position": null,
      "order": null,
      "overflow": null,
      "overflow_x": null,
      "overflow_y": null,
      "padding": null,
      "right": null,
      "top": null,
      "visibility": null,
      "width": null
     }
    },
    "f2fbcb104a8740e5a5950e9b65e23648": {
     "model_module": "@jupyter-widgets/base",
     "model_module_version": "1.2.0",
     "model_name": "LayoutModel",
     "state": {
      "_model_module": "@jupyter-widgets/base",
      "_model_module_version": "1.2.0",
      "_model_name": "LayoutModel",
      "_view_count": null,
      "_view_module": "@jupyter-widgets/base",
      "_view_module_version": "1.2.0",
      "_view_name": "LayoutView",
      "align_content": null,
      "align_items": null,
      "align_self": null,
      "border": null,
      "bottom": null,
      "display": null,
      "flex": null,
      "flex_flow": null,
      "grid_area": null,
      "grid_auto_columns": null,
      "grid_auto_flow": null,
      "grid_auto_rows": null,
      "grid_column": null,
      "grid_gap": null,
      "grid_row": null,
      "grid_template_areas": null,
      "grid_template_columns": null,
      "grid_template_rows": null,
      "height": null,
      "justify_content": null,
      "justify_items": null,
      "left": null,
      "margin": null,
      "max_height": null,
      "max_width": null,
      "min_height": null,
      "min_width": null,
      "object_fit": null,
      "object_position": null,
      "order": null,
      "overflow": null,
      "overflow_x": null,
      "overflow_y": null,
      "padding": null,
      "right": null,
      "top": null,
      "visibility": null,
      "width": null
     }
    },
    "f3275fede1d64820849ca81269657637": {
     "model_module": "@jupyter-widgets/controls",
     "model_module_version": "1.5.0",
     "model_name": "DescriptionStyleModel",
     "state": {
      "_model_module": "@jupyter-widgets/controls",
      "_model_module_version": "1.5.0",
      "_model_name": "DescriptionStyleModel",
      "_view_count": null,
      "_view_module": "@jupyter-widgets/base",
      "_view_module_version": "1.2.0",
      "_view_name": "StyleView",
      "description_width": ""
     }
    },
    "f37888404ee048a3b4015e7eeedfed8e": {
     "model_module": "@jupyter-widgets/controls",
     "model_module_version": "1.5.0",
     "model_name": "DescriptionStyleModel",
     "state": {
      "_model_module": "@jupyter-widgets/controls",
      "_model_module_version": "1.5.0",
      "_model_name": "DescriptionStyleModel",
      "_view_count": null,
      "_view_module": "@jupyter-widgets/base",
      "_view_module_version": "1.2.0",
      "_view_name": "StyleView",
      "description_width": ""
     }
    },
    "f46b2c48b3ed4983886a04937e2a3f86": {
     "model_module": "@jupyter-widgets/controls",
     "model_module_version": "1.5.0",
     "model_name": "HTMLModel",
     "state": {
      "_dom_classes": [],
      "_model_module": "@jupyter-widgets/controls",
      "_model_module_version": "1.5.0",
      "_model_name": "HTMLModel",
      "_view_count": null,
      "_view_module": "@jupyter-widgets/controls",
      "_view_module_version": "1.5.0",
      "_view_name": "HTMLView",
      "description": "",
      "description_tooltip": null,
      "layout": "IPY_MODEL_8ed4f6d453d74d4c997f3a37df6aa15c",
      "placeholder": "​",
      "style": "IPY_MODEL_94ce444dace04370af7b84169f638f3a",
      "value": " 6440/0 [00:05&lt;00:00, 1173.03 examples/s]"
     }
    },
    "f49e892992494f468e1e0528f2be6b4d": {
     "model_module": "@jupyter-widgets/base",
     "model_module_version": "1.2.0",
     "model_name": "LayoutModel",
     "state": {
      "_model_module": "@jupyter-widgets/base",
      "_model_module_version": "1.2.0",
      "_model_name": "LayoutModel",
      "_view_count": null,
      "_view_module": "@jupyter-widgets/base",
      "_view_module_version": "1.2.0",
      "_view_name": "LayoutView",
      "align_content": null,
      "align_items": null,
      "align_self": null,
      "border": null,
      "bottom": null,
      "display": null,
      "flex": null,
      "flex_flow": null,
      "grid_area": null,
      "grid_auto_columns": null,
      "grid_auto_flow": null,
      "grid_auto_rows": null,
      "grid_column": null,
      "grid_gap": null,
      "grid_row": null,
      "grid_template_areas": null,
      "grid_template_columns": null,
      "grid_template_rows": null,
      "height": null,
      "justify_content": null,
      "justify_items": null,
      "left": null,
      "margin": null,
      "max_height": null,
      "max_width": null,
      "min_height": null,
      "min_width": null,
      "object_fit": null,
      "object_position": null,
      "order": null,
      "overflow": null,
      "overflow_x": null,
      "overflow_y": null,
      "padding": null,
      "right": null,
      "top": null,
      "visibility": null,
      "width": null
     }
    },
    "f5215fa2c32b4ccb9de327bf14f93767": {
     "model_module": "@jupyter-widgets/base",
     "model_module_version": "1.2.0",
     "model_name": "LayoutModel",
     "state": {
      "_model_module": "@jupyter-widgets/base",
      "_model_module_version": "1.2.0",
      "_model_name": "LayoutModel",
      "_view_count": null,
      "_view_module": "@jupyter-widgets/base",
      "_view_module_version": "1.2.0",
      "_view_name": "LayoutView",
      "align_content": null,
      "align_items": null,
      "align_self": null,
      "border": null,
      "bottom": null,
      "display": null,
      "flex": null,
      "flex_flow": null,
      "grid_area": null,
      "grid_auto_columns": null,
      "grid_auto_flow": null,
      "grid_auto_rows": null,
      "grid_column": null,
      "grid_gap": null,
      "grid_row": null,
      "grid_template_areas": null,
      "grid_template_columns": null,
      "grid_template_rows": null,
      "height": null,
      "justify_content": null,
      "justify_items": null,
      "left": null,
      "margin": null,
      "max_height": null,
      "max_width": null,
      "min_height": null,
      "min_width": null,
      "object_fit": null,
      "object_position": null,
      "order": null,
      "overflow": null,
      "overflow_x": null,
      "overflow_y": null,
      "padding": null,
      "right": null,
      "top": null,
      "visibility": null,
      "width": null
     }
    },
    "f71218e2885641a98cf8945cc575a8ec": {
     "model_module": "@jupyter-widgets/base",
     "model_module_version": "1.2.0",
     "model_name": "LayoutModel",
     "state": {
      "_model_module": "@jupyter-widgets/base",
      "_model_module_version": "1.2.0",
      "_model_name": "LayoutModel",
      "_view_count": null,
      "_view_module": "@jupyter-widgets/base",
      "_view_module_version": "1.2.0",
      "_view_name": "LayoutView",
      "align_content": null,
      "align_items": null,
      "align_self": null,
      "border": null,
      "bottom": null,
      "display": null,
      "flex": null,
      "flex_flow": null,
      "grid_area": null,
      "grid_auto_columns": null,
      "grid_auto_flow": null,
      "grid_auto_rows": null,
      "grid_column": null,
      "grid_gap": null,
      "grid_row": null,
      "grid_template_areas": null,
      "grid_template_columns": null,
      "grid_template_rows": null,
      "height": null,
      "justify_content": null,
      "justify_items": null,
      "left": null,
      "margin": null,
      "max_height": null,
      "max_width": null,
      "min_height": null,
      "min_width": null,
      "object_fit": null,
      "object_position": null,
      "order": null,
      "overflow": null,
      "overflow_x": null,
      "overflow_y": null,
      "padding": null,
      "right": null,
      "top": null,
      "visibility": null,
      "width": null
     }
    },
    "f80283bff2a74bc29dd0c31db2078f12": {
     "model_module": "@jupyter-widgets/controls",
     "model_module_version": "1.5.0",
     "model_name": "DescriptionStyleModel",
     "state": {
      "_model_module": "@jupyter-widgets/controls",
      "_model_module_version": "1.5.0",
      "_model_name": "DescriptionStyleModel",
      "_view_count": null,
      "_view_module": "@jupyter-widgets/base",
      "_view_module_version": "1.2.0",
      "_view_name": "StyleView",
      "description_width": ""
     }
    },
    "fa08d93b30e94810907357990dfd0ab8": {
     "model_module": "@jupyter-widgets/controls",
     "model_module_version": "1.5.0",
     "model_name": "HTMLModel",
     "state": {
      "_dom_classes": [],
      "_model_module": "@jupyter-widgets/controls",
      "_model_module_version": "1.5.0",
      "_model_name": "HTMLModel",
      "_view_count": null,
      "_view_module": "@jupyter-widgets/controls",
      "_view_module_version": "1.5.0",
      "_view_name": "HTMLView",
      "description": "",
      "description_tooltip": null,
      "layout": "IPY_MODEL_792e72a2c7604910823e4d0e0fe9b044",
      "placeholder": "​",
      "style": "IPY_MODEL_ffbcaea19370456eb16c6a06e26dd74c",
      "value": " 102M/102M [00:02&lt;00:00, 36.8MB/s]"
     }
    },
    "fc2c8f12afe04974bfa76e16c92fef72": {
     "model_module": "@jupyter-widgets/controls",
     "model_module_version": "1.5.0",
     "model_name": "DescriptionStyleModel",
     "state": {
      "_model_module": "@jupyter-widgets/controls",
      "_model_module_version": "1.5.0",
      "_model_name": "DescriptionStyleModel",
      "_view_count": null,
      "_view_module": "@jupyter-widgets/base",
      "_view_module_version": "1.2.0",
      "_view_name": "StyleView",
      "description_width": ""
     }
    },
    "fc65c8b535bd441e995dd6a2e154373b": {
     "model_module": "@jupyter-widgets/controls",
     "model_module_version": "1.5.0",
     "model_name": "HTMLModel",
     "state": {
      "_dom_classes": [],
      "_model_module": "@jupyter-widgets/controls",
      "_model_module_version": "1.5.0",
      "_model_name": "HTMLModel",
      "_view_count": null,
      "_view_module": "@jupyter-widgets/controls",
      "_view_module_version": "1.5.0",
      "_view_name": "HTMLView",
      "description": "",
      "description_tooltip": null,
      "layout": "IPY_MODEL_29c26a7c44004731a729abede98644c0",
      "placeholder": "​",
      "style": "IPY_MODEL_dfb2c1d952494836aaaf1aff182cdc5c",
      "value": " 1.63k/1.63k [00:00&lt;00:00, 90.3kB/s]"
     }
    },
    "ffbcaea19370456eb16c6a06e26dd74c": {
     "model_module": "@jupyter-widgets/controls",
     "model_module_version": "1.5.0",
     "model_name": "DescriptionStyleModel",
     "state": {
      "_model_module": "@jupyter-widgets/controls",
      "_model_module_version": "1.5.0",
      "_model_name": "DescriptionStyleModel",
      "_view_count": null,
      "_view_module": "@jupyter-widgets/base",
      "_view_module_version": "1.2.0",
      "_view_name": "StyleView",
      "description_width": ""
     }
    }
   }
  }
 },
 "nbformat": 4,
 "nbformat_minor": 1
}
